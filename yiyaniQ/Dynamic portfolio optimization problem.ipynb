{
 "cells": [
  {
   "cell_type": "markdown",
   "metadata": {
    "id": "gJsr8dpiXd1m"
   },
   "source": [
    "## **Import needed libraries**\n"
   ]
  },
  {
   "cell_type": "code",
   "execution_count": 1,
   "metadata": {
    "id": "9_OpNp2xXCJI"
   },
   "outputs": [],
   "source": [
    "import numpy as np\n",
    "import random\n",
    "import os\n",
    "import time\n",
    "from matplotlib import pyplot as plt\n",
    "import pylab as pl"
   ]
  },
  {
   "cell_type": "markdown",
   "metadata": {
    "id": "9WY9zG_H7_eh"
   },
   "source": [
    "## **Cost function**\n",
    "The cost function of the portfolio optimization problem \n",
    "\n"
   ]
  },
  {
   "cell_type": "markdown",
   "metadata": {
    "id": "mo9PaNjosMwG"
   },
   "source": [
    "#### Install packages "
   ]
  },
  {
   "cell_type": "code",
   "execution_count": 2,
   "metadata": {
    "colab": {
     "base_uri": "https://localhost:8080/"
    },
    "executionInfo": {
     "elapsed": 10911,
     "status": "ok",
     "timestamp": 1626453643071,
     "user": {
      "displayName": "INACK ESTELLE MAEVA",
      "photoUrl": "",
      "userId": "05020145878770943838"
     },
     "user_tz": 240
    },
    "id": "kpTYl8CEqAoW",
    "outputId": "0f38403a-3dc4-486a-ff88-3b4c25d1f989"
   },
   "outputs": [
    {
     "name": "stdout",
     "output_type": "stream",
     "text": [
      "\u001b[33mWARNING: Value for scheme.headers does not match. Please report this to <https://github.com/pypa/pip/issues/9617>\n",
      "distutils: /Users/einack/opt/anaconda3/include/python3.7m/UNKNOWN\n",
      "sysconfig: /Users/einack/opt/anaconda3/include/python3.7m\u001b[0m\n",
      "\u001b[33mWARNING: Additional context:\n",
      "user = False\n",
      "home = None\n",
      "root = None\n",
      "prefix = None\u001b[0m\n",
      "Requirement already satisfied: datapackage in /Users/einack/opt/anaconda3/lib/python3.7/site-packages (1.15.1)\n",
      "Requirement already satisfied: click>=6.7 in /Users/einack/opt/anaconda3/lib/python3.7/site-packages (from datapackage) (7.0)\n",
      "Requirement already satisfied: six>=1.10 in /Users/einack/.local/lib/python3.7/site-packages (from datapackage) (1.15.0)\n",
      "Requirement already satisfied: jsonschema>=2.5 in /Users/einack/opt/anaconda3/lib/python3.7/site-packages (from datapackage) (3.2.0)\n",
      "Requirement already satisfied: requests>=2.8 in /Users/einack/opt/anaconda3/lib/python3.7/site-packages (from datapackage) (2.22.0)\n",
      "Requirement already satisfied: unicodecsv>=0.14 in /Users/einack/opt/anaconda3/lib/python3.7/site-packages (from datapackage) (0.14.1)\n",
      "Requirement already satisfied: jsonpointer>=1.10 in /Users/einack/opt/anaconda3/lib/python3.7/site-packages (from datapackage) (2.0)\n",
      "Requirement already satisfied: tableschema>=1.12.1 in /Users/einack/opt/anaconda3/lib/python3.7/site-packages (from datapackage) (1.20.0)\n",
      "Requirement already satisfied: tabulator>=1.29 in /Users/einack/opt/anaconda3/lib/python3.7/site-packages (from datapackage) (1.53.1)\n",
      "Requirement already satisfied: chardet>=3.0 in /Users/einack/opt/anaconda3/lib/python3.7/site-packages (from datapackage) (3.0.4)\n",
      "Requirement already satisfied: attrs>=17.4.0 in /Users/einack/opt/anaconda3/lib/python3.7/site-packages (from jsonschema>=2.5->datapackage) (19.3.0)\n",
      "Requirement already satisfied: importlib-metadata in /Users/einack/opt/anaconda3/lib/python3.7/site-packages (from jsonschema>=2.5->datapackage) (1.5.0)\n",
      "Requirement already satisfied: pyrsistent>=0.14.0 in /Users/einack/opt/anaconda3/lib/python3.7/site-packages (from jsonschema>=2.5->datapackage) (0.15.7)\n",
      "Requirement already satisfied: setuptools in /Users/einack/opt/anaconda3/lib/python3.7/site-packages (from jsonschema>=2.5->datapackage) (46.0.0.post20200309)\n",
      "Requirement already satisfied: certifi>=2017.4.17 in /Users/einack/opt/anaconda3/lib/python3.7/site-packages (from requests>=2.8->datapackage) (2019.11.28)\n",
      "Requirement already satisfied: idna<2.9,>=2.5 in /Users/einack/opt/anaconda3/lib/python3.7/site-packages (from requests>=2.8->datapackage) (2.8)\n",
      "Requirement already satisfied: urllib3!=1.25.0,!=1.25.1,<1.26,>=1.21.1 in /Users/einack/opt/anaconda3/lib/python3.7/site-packages (from requests>=2.8->datapackage) (1.25.8)\n",
      "Requirement already satisfied: python-dateutil>=2.4 in /Users/einack/.local/lib/python3.7/site-packages (from tableschema>=1.12.1->datapackage) (2.8.1)\n",
      "Requirement already satisfied: cached-property>=1.5 in /Users/einack/opt/anaconda3/lib/python3.7/site-packages (from tableschema>=1.12.1->datapackage) (1.5.2)\n",
      "Requirement already satisfied: rfc3986>=1.1.0 in /Users/einack/opt/anaconda3/lib/python3.7/site-packages (from tableschema>=1.12.1->datapackage) (1.4.0)\n",
      "Requirement already satisfied: isodate>=0.5.4 in /Users/einack/opt/anaconda3/lib/python3.7/site-packages (from tableschema>=1.12.1->datapackage) (0.6.0)\n",
      "Requirement already satisfied: jsonlines>=1.1 in /Users/einack/opt/anaconda3/lib/python3.7/site-packages (from tabulator>=1.29->datapackage) (2.0.0)\n",
      "Requirement already satisfied: ijson>=3.0.3 in /Users/einack/opt/anaconda3/lib/python3.7/site-packages (from tabulator>=1.29->datapackage) (3.1.3)\n",
      "Requirement already satisfied: linear-tsv>=1.0 in /Users/einack/opt/anaconda3/lib/python3.7/site-packages (from tabulator>=1.29->datapackage) (1.1.0)\n",
      "Requirement already satisfied: openpyxl>=2.6 in /Users/einack/opt/anaconda3/lib/python3.7/site-packages (from tabulator>=1.29->datapackage) (3.0.3)\n",
      "Requirement already satisfied: boto3>=1.9 in /Users/einack/opt/anaconda3/lib/python3.7/site-packages (from tabulator>=1.29->datapackage) (1.16.60)\n",
      "Requirement already satisfied: sqlalchemy>=0.9.6 in /Users/einack/opt/anaconda3/lib/python3.7/site-packages (from tabulator>=1.29->datapackage) (1.3.13)\n",
      "Requirement already satisfied: xlrd>=1.0 in /Users/einack/opt/anaconda3/lib/python3.7/site-packages (from tabulator>=1.29->datapackage) (1.2.0)\n",
      "Requirement already satisfied: jmespath<1.0.0,>=0.7.1 in /Users/einack/opt/anaconda3/lib/python3.7/site-packages (from boto3>=1.9->tabulator>=1.29->datapackage) (0.10.0)\n",
      "Requirement already satisfied: s3transfer<0.4.0,>=0.3.0 in /Users/einack/opt/anaconda3/lib/python3.7/site-packages (from boto3>=1.9->tabulator>=1.29->datapackage) (0.3.4)\n",
      "Requirement already satisfied: botocore<1.20.0,>=1.19.60 in /Users/einack/opt/anaconda3/lib/python3.7/site-packages (from boto3>=1.9->tabulator>=1.29->datapackage) (1.19.60)\n",
      "Requirement already satisfied: et-xmlfile in /Users/einack/opt/anaconda3/lib/python3.7/site-packages (from openpyxl>=2.6->tabulator>=1.29->datapackage) (1.0.1)\n",
      "Requirement already satisfied: jdcal in /Users/einack/opt/anaconda3/lib/python3.7/site-packages (from openpyxl>=2.6->tabulator>=1.29->datapackage) (1.4.1)\n",
      "Requirement already satisfied: zipp>=0.5 in /Users/einack/opt/anaconda3/lib/python3.7/site-packages (from importlib-metadata->jsonschema>=2.5->datapackage) (2.2.0)\n",
      "\u001b[33mWARNING: Value for scheme.headers does not match. Please report this to <https://github.com/pypa/pip/issues/9617>\n",
      "distutils: /Users/einack/opt/anaconda3/include/python3.7m/UNKNOWN\n",
      "sysconfig: /Users/einack/opt/anaconda3/include/python3.7m\u001b[0m\n",
      "\u001b[33mWARNING: Additional context:\n",
      "user = False\n",
      "home = None\n",
      "root = None\n",
      "prefix = None\u001b[0m\n",
      "\u001b[33mWARNING: You are using pip version 21.1; however, version 21.1.3 is available.\n",
      "You should consider upgrading via the '/Users/einack/opt/anaconda3/bin/python -m pip install --upgrade pip' command.\u001b[0m\n",
      "Note: you may need to restart the kernel to use updated packages.\n"
     ]
    }
   ],
   "source": [
    "pip install datapackage"
   ]
  },
  {
   "cell_type": "code",
   "execution_count": 3,
   "metadata": {
    "id": "Loy-_NpRq7MJ"
   },
   "outputs": [],
   "source": [
    "from pandas_datareader import data as web\n",
    "from datapackage import Package\n",
    "import pandas as pd\n",
    "import numpy as np\n",
    "from datetime import datetime\n",
    "import matplotlib.pyplot as plt\n",
    "from scipy.special import softmax\n",
    "\n",
    "seed = 1000\n",
    "np.random.seed(seed)"
   ]
  },
  {
   "cell_type": "markdown",
   "metadata": {
    "id": "PeHidBgqgsQW"
   },
   "source": [
    "#### Investment parameters"
   ]
  },
  {
   "cell_type": "code",
   "execution_count": 4,
   "metadata": {
    "id": "AExygXQFg2f1"
   },
   "outputs": [],
   "source": [
    "num_stocks = 3 # Number of stocks to consider\n",
    "total_price = 10000 # Total investment price\n",
    "price_cap = 0.1*total_price # Maximum investment in each asset\n",
    "min_trading_days = 20 # minimum trading days"
   ]
  },
  {
   "cell_type": "markdown",
   "metadata": {
    "id": "8zILEQ-jskCw"
   },
   "source": [
    "#### Deriving stocks data from the SP 500 "
   ]
  },
  {
   "cell_type": "code",
   "execution_count": 5,
   "metadata": {
    "colab": {
     "base_uri": "https://localhost:8080/"
    },
    "executionInfo": {
     "elapsed": 3137,
     "status": "ok",
     "timestamp": 1626453654905,
     "user": {
      "displayName": "INACK ESTELLE MAEVA",
      "photoUrl": "",
      "userId": "05020145878770943838"
     },
     "user_tz": 240
    },
    "id": "JEHeOsllggrT",
    "outputId": "c936de71-68e6-40bd-bc02-88f4deb57ba7"
   },
   "outputs": [
    {
     "data": {
      "text/plain": [
       "array([['MMM', '3M', 'Industrials'],\n",
       "       ['AOS', 'A. O. Smith', 'Industrials'],\n",
       "       ['ABT', 'Abbott Laboratories', 'Health Care'],\n",
       "       ...,\n",
       "       ['ZBH', 'Zimmer Biomet', 'Health Care'],\n",
       "       ['ZION', 'Zions Bancorp', 'Financials'],\n",
       "       ['ZTS', 'Zoetis', 'Health Care']], dtype='<U38')"
      ]
     },
     "execution_count": 5,
     "metadata": {},
     "output_type": "execute_result"
    }
   ],
   "source": [
    "package = Package('https://datahub.io/core/s-and-p-500-companies/datapackage.json')\n",
    "\n",
    "# print processed tabular data (if exists any)\n",
    "for resource in package.resources:\n",
    "    if resource.descriptor['datahub']['type'] == 'derived/csv':\n",
    "        data = np.array(resource.read())\n",
    "data"
   ]
  },
  {
   "cell_type": "code",
   "execution_count": 6,
   "metadata": {
    "id": "rY-bW3OLdEEt"
   },
   "outputs": [],
   "source": [
    "sp500_stocks = data[:, 0:1] # Select all stocks from the SP500\n",
    "stocks = np.random.choice(sp500_stocks[:,0], num_stocks) # Choose randomly num_stocks out of 505"
   ]
  },
  {
   "cell_type": "code",
   "execution_count": 7,
   "metadata": {
    "id": "jwTDLeZ8oi6I"
   },
   "outputs": [
    {
     "ename": "RemoteDataError",
     "evalue": "Unable to read URL: https://finance.yahoo.com/quote/TSLA/history?period1=1606813200&period2=1627372799&interval=1d&frequency=1d&filter=history\nResponse Text:\nb'<!DOCTYPE html>\\n  <html lang=\"en-us\"><head>\\n  <meta http-equiv=\"content-type\" content=\"text/html; charset=UTF-8\">\\n      <meta charset=\"utf-8\">\\n      <title>Yahoo</title>\\n      <meta name=\"viewport\" content=\"width=device-width,initial-scale=1,minimal-ui\">\\n      <meta http-equiv=\"X-UA-Compatible\" content=\"IE=edge,chrome=1\">\\n      <style>\\n  html {\\n      height: 100%;\\n  }\\n  body {\\n      background: #fafafc url(https://s.yimg.com/nn/img/sad-panda-201402200631.png) 50% 50%;\\n      background-size: cover;\\n      height: 100%;\\n      text-align: center;\\n      font: 300 18px \"helvetica neue\", helvetica, verdana, tahoma, arial, sans-serif;\\n  }\\n  table {\\n      height: 100%;\\n      width: 100%;\\n      table-layout: fixed;\\n      border-collapse: collapse;\\n      border-spacing: 0;\\n      border: none;\\n  }\\n  h1 {\\n      font-size: 42px;\\n      font-weight: 400;\\n      color: #400090;\\n  }\\n  p {\\n      color: #1A1A1A;\\n  }\\n  #message-1 {\\n      font-weight: bold;\\n      margin: 0;\\n  }\\n  #message-2 {\\n      display: inline-block;\\n      *display: inline;\\n      zoom: 1;\\n      max-width: 17em;\\n      _width: 17em;\\n  }\\n      </style>\\n  <script>\\n    document.write(\\'<img src=\"//geo.yahoo.com/b?s=1197757129&t=\\'+new Date().getTime()+\\'&src=aws&err_url=\\'+encodeURIComponent(document.URL)+\\'&err=%<pssc>&test=\\'+encodeURIComponent(\\'%<{Bucket}cqh[:200]>\\')+\\'\" width=\"0px\" height=\"0px\"/>\\');var beacon = new Image();beacon.src=\"//bcn.fp.yahoo.com/p?s=1197757129&t=\"+new Date().getTime()+\"&src=aws&err_url=\"+encodeURIComponent(document.URL)+\"&err=%<pssc>&test=\"+encodeURIComponent(\\'%<{Bucket}cqh[:200]>\\');\\n  </script>\\n  </head>\\n  <body>\\n  <!-- status code : 404 -->\\n  <!-- Not Found on Server -->\\n  <table>\\n  <tbody><tr>\\n      <td>\\n      <img src=\"https://s.yimg.com/rz/p/yahoo_frontpage_en-US_s_f_p_205x58_frontpage.png\" alt=\"Yahoo Logo\">\\n      <h1 style=\"margin-top:20px;\">Will be right back...</h1>\\n      <p id=\"message-1\">Thank you for your patience.</p>\\n      <p id=\"message-2\">Our engineers are working quickly to resolve the issue.</p>\\n      </td>\\n  </tr>\\n  </tbody></table>\\n  </body></html>'",
     "output_type": "error",
     "traceback": [
      "\u001b[0;31m---------------------------------------------------------------------------\u001b[0m",
      "\u001b[0;31mRemoteDataError\u001b[0m                           Traceback (most recent call last)",
      "\u001b[0;32m<ipython-input-7-4a194ff09f6a>\u001b[0m in \u001b[0;36m<module>\u001b[0;34m\u001b[0m\n\u001b[1;32m      9\u001b[0m \u001b[0;34m\u001b[0m\u001b[0m\n\u001b[1;32m     10\u001b[0m \u001b[0;32mfor\u001b[0m \u001b[0mstock\u001b[0m \u001b[0;32min\u001b[0m \u001b[0mstocks\u001b[0m\u001b[0;34m.\u001b[0m\u001b[0mtolist\u001b[0m\u001b[0;34m(\u001b[0m\u001b[0;34m)\u001b[0m\u001b[0;34m:\u001b[0m\u001b[0;34m\u001b[0m\u001b[0;34m\u001b[0m\u001b[0m\n\u001b[0;32m---> 11\u001b[0;31m     \u001b[0mdf\u001b[0m\u001b[0;34m[\u001b[0m\u001b[0mstock\u001b[0m\u001b[0;34m]\u001b[0m \u001b[0;34m=\u001b[0m \u001b[0mweb\u001b[0m\u001b[0;34m.\u001b[0m\u001b[0mDataReader\u001b[0m\u001b[0;34m(\u001b[0m\u001b[0mstock\u001b[0m\u001b[0;34m,\u001b[0m\u001b[0mdata_source\u001b[0m\u001b[0;34m=\u001b[0m\u001b[0;34m'yahoo'\u001b[0m\u001b[0;34m,\u001b[0m\u001b[0mstart\u001b[0m\u001b[0;34m=\u001b[0m\u001b[0mstockStartDate\u001b[0m \u001b[0;34m,\u001b[0m \u001b[0mend\u001b[0m\u001b[0;34m=\u001b[0m\u001b[0mtoday\u001b[0m\u001b[0;34m)\u001b[0m\u001b[0;34m[\u001b[0m\u001b[0;34m'Adj Close'\u001b[0m\u001b[0;34m]\u001b[0m\u001b[0;34m\u001b[0m\u001b[0;34m\u001b[0m\u001b[0m\n\u001b[0m",
      "\u001b[0;32m~/opt/anaconda3/lib/python3.7/site-packages/pandas/util/_decorators.py\u001b[0m in \u001b[0;36mwrapper\u001b[0;34m(*args, **kwargs)\u001b[0m\n\u001b[1;32m    212\u001b[0m                 \u001b[0;32melse\u001b[0m\u001b[0;34m:\u001b[0m\u001b[0;34m\u001b[0m\u001b[0;34m\u001b[0m\u001b[0m\n\u001b[1;32m    213\u001b[0m                     \u001b[0mkwargs\u001b[0m\u001b[0;34m[\u001b[0m\u001b[0mnew_arg_name\u001b[0m\u001b[0;34m]\u001b[0m \u001b[0;34m=\u001b[0m \u001b[0mnew_arg_value\u001b[0m\u001b[0;34m\u001b[0m\u001b[0;34m\u001b[0m\u001b[0m\n\u001b[0;32m--> 214\u001b[0;31m             \u001b[0;32mreturn\u001b[0m \u001b[0mfunc\u001b[0m\u001b[0;34m(\u001b[0m\u001b[0;34m*\u001b[0m\u001b[0margs\u001b[0m\u001b[0;34m,\u001b[0m \u001b[0;34m**\u001b[0m\u001b[0mkwargs\u001b[0m\u001b[0;34m)\u001b[0m\u001b[0;34m\u001b[0m\u001b[0;34m\u001b[0m\u001b[0m\n\u001b[0m\u001b[1;32m    215\u001b[0m \u001b[0;34m\u001b[0m\u001b[0m\n\u001b[1;32m    216\u001b[0m         \u001b[0;32mreturn\u001b[0m \u001b[0mcast\u001b[0m\u001b[0;34m(\u001b[0m\u001b[0mF\u001b[0m\u001b[0;34m,\u001b[0m \u001b[0mwrapper\u001b[0m\u001b[0;34m)\u001b[0m\u001b[0;34m\u001b[0m\u001b[0;34m\u001b[0m\u001b[0m\n",
      "\u001b[0;32m~/opt/anaconda3/lib/python3.7/site-packages/pandas_datareader/data.py\u001b[0m in \u001b[0;36mDataReader\u001b[0;34m(name, data_source, start, end, retry_count, pause, session, api_key)\u001b[0m\n\u001b[1;32m    382\u001b[0m             \u001b[0mretry_count\u001b[0m\u001b[0;34m=\u001b[0m\u001b[0mretry_count\u001b[0m\u001b[0;34m,\u001b[0m\u001b[0;34m\u001b[0m\u001b[0;34m\u001b[0m\u001b[0m\n\u001b[1;32m    383\u001b[0m             \u001b[0mpause\u001b[0m\u001b[0;34m=\u001b[0m\u001b[0mpause\u001b[0m\u001b[0;34m,\u001b[0m\u001b[0;34m\u001b[0m\u001b[0;34m\u001b[0m\u001b[0m\n\u001b[0;32m--> 384\u001b[0;31m             \u001b[0msession\u001b[0m\u001b[0;34m=\u001b[0m\u001b[0msession\u001b[0m\u001b[0;34m,\u001b[0m\u001b[0;34m\u001b[0m\u001b[0;34m\u001b[0m\u001b[0m\n\u001b[0m\u001b[1;32m    385\u001b[0m         ).read()\n\u001b[1;32m    386\u001b[0m \u001b[0;34m\u001b[0m\u001b[0m\n",
      "\u001b[0;32m~/opt/anaconda3/lib/python3.7/site-packages/pandas_datareader/base.py\u001b[0m in \u001b[0;36mread\u001b[0;34m(self)\u001b[0m\n\u001b[1;32m    251\u001b[0m         \u001b[0;31m# If a single symbol, (e.g., 'GOOG')\u001b[0m\u001b[0;34m\u001b[0m\u001b[0;34m\u001b[0m\u001b[0;34m\u001b[0m\u001b[0m\n\u001b[1;32m    252\u001b[0m         \u001b[0;32mif\u001b[0m \u001b[0misinstance\u001b[0m\u001b[0;34m(\u001b[0m\u001b[0mself\u001b[0m\u001b[0;34m.\u001b[0m\u001b[0msymbols\u001b[0m\u001b[0;34m,\u001b[0m \u001b[0;34m(\u001b[0m\u001b[0mstring_types\u001b[0m\u001b[0;34m,\u001b[0m \u001b[0mint\u001b[0m\u001b[0;34m)\u001b[0m\u001b[0;34m)\u001b[0m\u001b[0;34m:\u001b[0m\u001b[0;34m\u001b[0m\u001b[0;34m\u001b[0m\u001b[0m\n\u001b[0;32m--> 253\u001b[0;31m             \u001b[0mdf\u001b[0m \u001b[0;34m=\u001b[0m \u001b[0mself\u001b[0m\u001b[0;34m.\u001b[0m\u001b[0m_read_one_data\u001b[0m\u001b[0;34m(\u001b[0m\u001b[0mself\u001b[0m\u001b[0;34m.\u001b[0m\u001b[0murl\u001b[0m\u001b[0;34m,\u001b[0m \u001b[0mparams\u001b[0m\u001b[0;34m=\u001b[0m\u001b[0mself\u001b[0m\u001b[0;34m.\u001b[0m\u001b[0m_get_params\u001b[0m\u001b[0;34m(\u001b[0m\u001b[0mself\u001b[0m\u001b[0;34m.\u001b[0m\u001b[0msymbols\u001b[0m\u001b[0;34m)\u001b[0m\u001b[0;34m)\u001b[0m\u001b[0;34m\u001b[0m\u001b[0;34m\u001b[0m\u001b[0m\n\u001b[0m\u001b[1;32m    254\u001b[0m         \u001b[0;31m# Or multiple symbols, (e.g., ['GOOG', 'AAPL', 'MSFT'])\u001b[0m\u001b[0;34m\u001b[0m\u001b[0;34m\u001b[0m\u001b[0;34m\u001b[0m\u001b[0m\n\u001b[1;32m    255\u001b[0m         \u001b[0;32melif\u001b[0m \u001b[0misinstance\u001b[0m\u001b[0;34m(\u001b[0m\u001b[0mself\u001b[0m\u001b[0;34m.\u001b[0m\u001b[0msymbols\u001b[0m\u001b[0;34m,\u001b[0m \u001b[0mDataFrame\u001b[0m\u001b[0;34m)\u001b[0m\u001b[0;34m:\u001b[0m\u001b[0;34m\u001b[0m\u001b[0;34m\u001b[0m\u001b[0m\n",
      "\u001b[0;32m~/opt/anaconda3/lib/python3.7/site-packages/pandas_datareader/yahoo/daily.py\u001b[0m in \u001b[0;36m_read_one_data\u001b[0;34m(self, url, params)\u001b[0m\n\u001b[1;32m    151\u001b[0m         \u001b[0murl\u001b[0m \u001b[0;34m=\u001b[0m \u001b[0murl\u001b[0m\u001b[0;34m.\u001b[0m\u001b[0mformat\u001b[0m\u001b[0;34m(\u001b[0m\u001b[0msymbol\u001b[0m\u001b[0;34m)\u001b[0m\u001b[0;34m\u001b[0m\u001b[0;34m\u001b[0m\u001b[0m\n\u001b[1;32m    152\u001b[0m \u001b[0;34m\u001b[0m\u001b[0m\n\u001b[0;32m--> 153\u001b[0;31m         \u001b[0mresp\u001b[0m \u001b[0;34m=\u001b[0m \u001b[0mself\u001b[0m\u001b[0;34m.\u001b[0m\u001b[0m_get_response\u001b[0m\u001b[0;34m(\u001b[0m\u001b[0murl\u001b[0m\u001b[0;34m,\u001b[0m \u001b[0mparams\u001b[0m\u001b[0;34m=\u001b[0m\u001b[0mparams\u001b[0m\u001b[0;34m)\u001b[0m\u001b[0;34m\u001b[0m\u001b[0;34m\u001b[0m\u001b[0m\n\u001b[0m\u001b[1;32m    154\u001b[0m         \u001b[0mptrn\u001b[0m \u001b[0;34m=\u001b[0m \u001b[0;34mr\"root\\.App\\.main = (.*?);\\n}\\(this\\)\\);\"\u001b[0m\u001b[0;34m\u001b[0m\u001b[0;34m\u001b[0m\u001b[0m\n\u001b[1;32m    155\u001b[0m         \u001b[0;32mtry\u001b[0m\u001b[0;34m:\u001b[0m\u001b[0;34m\u001b[0m\u001b[0;34m\u001b[0m\u001b[0m\n",
      "\u001b[0;32m~/opt/anaconda3/lib/python3.7/site-packages/pandas_datareader/base.py\u001b[0m in \u001b[0;36m_get_response\u001b[0;34m(self, url, params, headers)\u001b[0m\n\u001b[1;32m    179\u001b[0m             \u001b[0mmsg\u001b[0m \u001b[0;34m+=\u001b[0m \u001b[0;34m\"\\nResponse Text:\\n{0}\"\u001b[0m\u001b[0;34m.\u001b[0m\u001b[0mformat\u001b[0m\u001b[0;34m(\u001b[0m\u001b[0mlast_response_text\u001b[0m\u001b[0;34m)\u001b[0m\u001b[0;34m\u001b[0m\u001b[0;34m\u001b[0m\u001b[0m\n\u001b[1;32m    180\u001b[0m \u001b[0;34m\u001b[0m\u001b[0m\n\u001b[0;32m--> 181\u001b[0;31m         \u001b[0;32mraise\u001b[0m \u001b[0mRemoteDataError\u001b[0m\u001b[0;34m(\u001b[0m\u001b[0mmsg\u001b[0m\u001b[0;34m)\u001b[0m\u001b[0;34m\u001b[0m\u001b[0;34m\u001b[0m\u001b[0m\n\u001b[0m\u001b[1;32m    182\u001b[0m \u001b[0;34m\u001b[0m\u001b[0m\n\u001b[1;32m    183\u001b[0m     \u001b[0;32mdef\u001b[0m \u001b[0m_get_crumb\u001b[0m\u001b[0;34m(\u001b[0m\u001b[0mself\u001b[0m\u001b[0;34m,\u001b[0m \u001b[0;34m*\u001b[0m\u001b[0margs\u001b[0m\u001b[0;34m)\u001b[0m\u001b[0;34m:\u001b[0m\u001b[0;34m\u001b[0m\u001b[0;34m\u001b[0m\u001b[0m\n",
      "\u001b[0;31mRemoteDataError\u001b[0m: Unable to read URL: https://finance.yahoo.com/quote/TSLA/history?period1=1606813200&period2=1627372799&interval=1d&frequency=1d&filter=history\nResponse Text:\nb'<!DOCTYPE html>\\n  <html lang=\"en-us\"><head>\\n  <meta http-equiv=\"content-type\" content=\"text/html; charset=UTF-8\">\\n      <meta charset=\"utf-8\">\\n      <title>Yahoo</title>\\n      <meta name=\"viewport\" content=\"width=device-width,initial-scale=1,minimal-ui\">\\n      <meta http-equiv=\"X-UA-Compatible\" content=\"IE=edge,chrome=1\">\\n      <style>\\n  html {\\n      height: 100%;\\n  }\\n  body {\\n      background: #fafafc url(https://s.yimg.com/nn/img/sad-panda-201402200631.png) 50% 50%;\\n      background-size: cover;\\n      height: 100%;\\n      text-align: center;\\n      font: 300 18px \"helvetica neue\", helvetica, verdana, tahoma, arial, sans-serif;\\n  }\\n  table {\\n      height: 100%;\\n      width: 100%;\\n      table-layout: fixed;\\n      border-collapse: collapse;\\n      border-spacing: 0;\\n      border: none;\\n  }\\n  h1 {\\n      font-size: 42px;\\n      font-weight: 400;\\n      color: #400090;\\n  }\\n  p {\\n      color: #1A1A1A;\\n  }\\n  #message-1 {\\n      font-weight: bold;\\n      margin: 0;\\n  }\\n  #message-2 {\\n      display: inline-block;\\n      *display: inline;\\n      zoom: 1;\\n      max-width: 17em;\\n      _width: 17em;\\n  }\\n      </style>\\n  <script>\\n    document.write(\\'<img src=\"//geo.yahoo.com/b?s=1197757129&t=\\'+new Date().getTime()+\\'&src=aws&err_url=\\'+encodeURIComponent(document.URL)+\\'&err=%<pssc>&test=\\'+encodeURIComponent(\\'%<{Bucket}cqh[:200]>\\')+\\'\" width=\"0px\" height=\"0px\"/>\\');var beacon = new Image();beacon.src=\"//bcn.fp.yahoo.com/p?s=1197757129&t=\"+new Date().getTime()+\"&src=aws&err_url=\"+encodeURIComponent(document.URL)+\"&err=%<pssc>&test=\"+encodeURIComponent(\\'%<{Bucket}cqh[:200]>\\');\\n  </script>\\n  </head>\\n  <body>\\n  <!-- status code : 404 -->\\n  <!-- Not Found on Server -->\\n  <table>\\n  <tbody><tr>\\n      <td>\\n      <img src=\"https://s.yimg.com/rz/p/yahoo_frontpage_en-US_s_f_p_205x58_frontpage.png\" alt=\"Yahoo Logo\">\\n      <h1 style=\"margin-top:20px;\">Will be right back...</h1>\\n      <p id=\"message-1\">Thank you for your patience.</p>\\n      <p id=\"message-2\">Our engineers are working quickly to resolve the issue.</p>\\n      </td>\\n  </tr>\\n  </tbody></table>\\n  </body></html>'"
     ]
    }
   ],
   "source": [
    "#Create a dataframe to store the adjusted close price of the stocks\n",
    "df = pd.DataFrame()\n",
    "#Store the adjusted close price of stock into the data frame\n",
    "\n",
    "#Get the stock starting date\n",
    "stockStartDate = '2020-12-01'\n",
    "# Get the stocks ending date aka todays date and format it in the form YYYY-MM-DD\n",
    "today = datetime.today().strftime('%Y-%m-%d')\n",
    "\n",
    "for stock in stocks.tolist():\n",
    "    df[stock] = web.DataReader(stock,data_source='yahoo',start=stockStartDate , end=today)['Adj Close']"
   ]
  },
  {
   "cell_type": "code",
   "execution_count": null,
   "metadata": {
    "id": "wAvMTNhhSogk"
   },
   "outputs": [],
   "source": [
    "tmin = min_trading_days"
   ]
  },
  {
   "cell_type": "code",
   "execution_count": null,
   "metadata": {
    "colab": {
     "base_uri": "https://localhost:8080/",
     "height": 450
    },
    "executionInfo": {
     "elapsed": 10,
     "status": "ok",
     "timestamp": 1624478185475,
     "user": {
      "displayName": "INACK ESTELLE MAEVA",
      "photoUrl": "",
      "userId": "05020145878770943838"
     },
     "user_tz": 240
    },
    "id": "MfnZGbvjTums",
    "outputId": "564f9503-a64b-4cf8-977f-993ffb7cd8a9"
   },
   "outputs": [],
   "source": [
    "#Show the daily simple returns, NOTE: Formula = new_price/old_price - 1\n",
    "returns = df.pct_change()\n",
    "returns\n",
    "#returns.to_numpy()[1:tmax, :]"
   ]
  },
  {
   "cell_type": "code",
   "execution_count": null,
   "metadata": {
    "id": "imK3-PtAVvNZ"
   },
   "outputs": [],
   "source": [
    "# Log-returns\n",
    "log_returns = np.log(1.0 + returns)  #The assets forecast log-returns\n",
    "logreturns = log_returns.to_numpy()[1:, :]\n",
    "\n",
    "tmax = tmin + 1 #np.shape(logreturns)[0] # End time of the trading period\n"
   ]
  },
  {
   "cell_type": "code",
   "execution_count": null,
   "metadata": {
    "colab": {
     "base_uri": "https://localhost:8080/",
     "height": 142
    },
    "executionInfo": {
     "elapsed": 9,
     "status": "ok",
     "timestamp": 1624478185476,
     "user": {
      "displayName": "INACK ESTELLE MAEVA",
      "photoUrl": "",
      "userId": "05020145878770943838"
     },
     "user_tz": 240
    },
    "id": "-bBChjFuxh8K",
    "outputId": "155a40fd-5af4-4c8b-ca3b-52d2cdb44294"
   },
   "outputs": [],
   "source": [
    "# Assets covariance\n",
    "log_returns.cov()"
   ]
  },
  {
   "cell_type": "code",
   "execution_count": null,
   "metadata": {
    "colab": {
     "base_uri": "https://localhost:8080/"
    },
    "executionInfo": {
     "elapsed": 139,
     "status": "ok",
     "timestamp": 1624478185607,
     "user": {
      "displayName": "INACK ESTELLE MAEVA",
      "photoUrl": "",
      "userId": "05020145878770943838"
     },
     "user_tz": 240
    },
    "id": "ffwlOrjFV0ad",
    "outputId": "c3ca15eb-82c9-4767-cb82-5f60eecc59db"
   },
   "outputs": [],
   "source": [
    "T = tmax-tmin+1 # Total number of trading days\n",
    "cov = np.zeros((T, num_stocks, num_stocks)) \n",
    "T"
   ]
  },
  {
   "cell_type": "code",
   "execution_count": null,
   "metadata": {
    "id": "FmkvdroMdRFk"
   },
   "outputs": [],
   "source": [
    "# Computing the covariance matrix for each trading day\n",
    "n = 0\n",
    "for t in range(tmin, tmax+1):\n",
    "  cv  = np.cov( logreturns[t, :].T ) \n",
    "  cov[n,:,:] = cv   \n",
    "  n += 1\n",
    "  \n",
    "mu = logreturns[-T:] # The assets forecast returns starting from tmin"
   ]
  },
  {
   "cell_type": "markdown",
   "metadata": {
    "id": "xrsS0oKvsXsy"
   },
   "source": [
    "#### Compute function for metrics"
   ]
  },
  {
   "cell_type": "code",
   "execution_count": null,
   "metadata": {
    "id": "5N3lG2IxO9hr"
   },
   "outputs": [],
   "source": [
    "num_bits = np.rint(np.log2(total_price + 1.0 )).astype(int)\n",
    "one      = np.ones((num_stocks))\n",
    "encoding = [2**q for q in np.arange(num_bits)]"
   ]
  },
  {
   "cell_type": "code",
   "execution_count": null,
   "metadata": {
    "id": "yCIfNh8IrHUC"
   },
   "outputs": [],
   "source": [
    "# Hamiltonian\n",
    "def H(config, cost_percentage=0.00001, risk_aversion=1.0, rho=1.0, tol=1e-10):\n",
    "\n",
    "  samples = np.shape(config)[0]\n",
    "  returns = np.zeros((samples))\n",
    "  risk = np.zeros((samples))\n",
    "  x = np.zeros((samples))\n",
    "  cost_function = np.zeros((samples))\n",
    "  deltaW = np.zeros((num_stocks, samples, T-1))\n",
    "\n",
    "  w = np.sum(config.reshape(T * num_stocks * samples, num_bits) * encoding, axis=1)/total_price # Retrieving weight encoding from binary encoding\n",
    "  w = w.reshape(num_stocks, samples, T)\n",
    "  w1 = w.reshape(samples, num_stocks, T)\n",
    "\n",
    "  for t in range(T-1):\n",
    "    returns += np.dot(mu[t, :], w1[:, :, t].T) # It think it is ok\n",
    "    risk += np.sum(np.multiply( w[:, :, t], np.dot(cov[t,:,:], w[:, :, t])), axis=0) # I think it is ok\n",
    "    deltaW[:, :, t] = np.abs(w[:, :, t+1] - w[:, :, t])\n",
    "    x += (np.dot(one, w[:,:,t]) -1.0 )**2\n",
    "\n",
    "  # Includes the last trading day\n",
    "  returns += np.dot(mu[T-1, :], w1[:, :, T-1].T) # It think it is ok\n",
    "  risk += np.sum(np.multiply( w[:, :, T-1], np.dot(cov[T-1,:,:], w[:, :, T-1])), axis=0) # I think it is ok\n",
    "  x += (np.dot(one, w[:,:,T-1]) -1.0 )**2\n",
    "\n",
    "  x[x < tol] = 0.0\n",
    "  \n",
    "  cost_function = -returns + 0.5*risk_aversion*risk + cost_percentage*np.sum(deltaW, axis=(0,2)) + rho*x\n",
    "  \n",
    "  return cost_function"
   ]
  },
  {
   "cell_type": "code",
   "execution_count": null,
   "metadata": {
    "id": "LLZPCwnhZ2lD"
   },
   "outputs": [],
   "source": [
    "def weights(x, num_stocks, num_bits, total_price=10000):\n",
    "  \n",
    "    samples = np.shape(x)[0]\n",
    "    encoding = [2**q for q in np.arange(num_bits)]\n",
    "    \n",
    "    weight = np.sum(x.reshape(T * num_stocks * samples, num_bits) * encoding, axis=1)/total_price\n",
    "    weight = weight.reshape(num_stocks, samples, T)\n",
    "    \n",
    "    return weight"
   ]
  },
  {
   "cell_type": "code",
   "execution_count": null,
   "metadata": {
    "id": "4lvfPXjTeMkr"
   },
   "outputs": [],
   "source": [
    "def Return(mu, w, time):\n",
    "  \"\"\"\n",
    "            This function computes the overall log-returns\n",
    "            ------------------------------------------------------------------------\n",
    "            Parameters:\n",
    "            mu:              np.array\n",
    "                             a numpy array of dimension (T, num_stocks)\n",
    "                             containing the daily log-returns\n",
    "            w:               np.array\n",
    "                             a numpy array of dimension (num_stocks, T)\n",
    "                             containing the weights of each asset at a given time\n",
    "            time:            int\n",
    "                             Length of time of the trading period\n",
    "            ------------------------------------------------------------------------\n",
    "            Returns:         np.float\n",
    "            returns          The overall return of the investment\n",
    "            \"\"\"\n",
    "  samples = np.shape(w)[1]\n",
    "  returns = np.zeros((samples))\n",
    "\n",
    "  for t in range(time):\n",
    "    returns += np.dot(mu[t, :], w[:, :, t])\n",
    "  \n",
    "  return -returns"
   ]
  },
  {
   "cell_type": "code",
   "execution_count": null,
   "metadata": {
    "id": "RZZgDvrVfSpf"
   },
   "outputs": [],
   "source": [
    "# This function computes the trading trajectory risk\n",
    "def Risk(w, cov, time):\n",
    "  \n",
    "  samples = np.shape(w)[1]\n",
    "  risk = np.zeros((samples))\n",
    "  \n",
    "  for t in range(time):\n",
    "    risk += np.sum(np.multiply( w[:, :, t], np.dot(cov[t,:,:], w[:, :, t])), axis=0)  #np.dot( w[:,t].T, np.dot(cov[t,:,:], w[:, t]))\n",
    "\n",
    "  return 0.5*risk"
   ]
  },
  {
   "cell_type": "code",
   "execution_count": null,
   "metadata": {
    "id": "aZ3TAb6ZfyIq"
   },
   "outputs": [],
   "source": [
    "# Transaction cost\n",
    "# Cost prices is fixed for all asset during trading trajectory\n",
    "\n",
    "def Transaction_cost(w, time, cost_percentage=0.00001):\n",
    "\n",
    "  samples = np.shape(w)[1]\n",
    "  deltaW = np.zeros((num_stocks, samples, time-1))\n",
    "\n",
    "  for t in range(time-1):\n",
    "    deltaW[:, :, t] = np.abs(w[:, :, t+1] - w[:, :, t])\n",
    "\n",
    "  return cost_percentage*np.sum(deltaW, axis=(0,2))  #cost_percentage * np.sum(deltaW)"
   ]
  },
  {
   "cell_type": "code",
   "execution_count": null,
   "metadata": {
    "id": "_D8-S1o9gYum"
   },
   "outputs": [],
   "source": [
    "# This function computes the Lagrange multiplier ensuring weights normalization\n",
    "def normalization(w, time, tol=1e-10):\n",
    "  samples = np.shape(w)[1]\n",
    "  x = np.zeros((samples))\n",
    "\n",
    "  for t in range(time):\n",
    "    x += (np.dot(one, w[:,:,t]) -1.0 )**2\n",
    "\n",
    "  x[x < tol] = 0.0\n",
    "\n",
    "  return x"
   ]
  }
 ],
 "metadata": {
  "accelerator": "GPU",
  "colab": {
   "collapsed_sections": [
    "mo9PaNjosMwG",
    "8zILEQ-jskCw",
    "xrsS0oKvsXsy"
   ],
   "name": "Dynamic portfolio optimization problem.ipynb",
   "provenance": [
    {
     "file_id": "1MzjXyErNbEnzXVCKcKAiMQyUX0rcbILm",
     "timestamp": 1627309357295
    },
    {
     "file_id": "1lS8EaGXgGFxwSSh11fE5ZIZGQz-PMsCs",
     "timestamp": 1619112860727
    },
    {
     "file_id": "1cIosJPiF6PnF5JS5iU1ofYlgljkx5JOZ",
     "timestamp": 1618106348442
    },
    {
     "file_id": "1ZNK5Ux-Pdov7wwmT4bgL3ejMqFkQFpfF",
     "timestamp": 1613584825309
    },
    {
     "file_id": "1k7Kc_s4MdD-GUODyrSvVLF4miqRzxlKJ",
     "timestamp": 1612970348155
    }
   ]
  },
  "kernelspec": {
   "display_name": "Python 3",
   "language": "python",
   "name": "python3"
  },
  "language_info": {
   "codemirror_mode": {
    "name": "ipython",
    "version": 3
   },
   "file_extension": ".py",
   "mimetype": "text/x-python",
   "name": "python",
   "nbconvert_exporter": "python",
   "pygments_lexer": "ipython3",
   "version": "3.7.6"
  }
 },
 "nbformat": 4,
 "nbformat_minor": 4
}
