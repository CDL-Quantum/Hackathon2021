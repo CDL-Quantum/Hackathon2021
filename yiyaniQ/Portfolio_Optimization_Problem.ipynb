{
 "cells": [
  {
   "cell_type": "markdown",
   "metadata": {},
   "source": [
    "# Quantum Baked ETFs"
   ]
  },
  {
   "cell_type": "markdown",
   "metadata": {},
   "source": [
    "<h2>Outline</h2>\n",
    "\n",
    "- [Features selection](#Features-selection)\n",
    "- [Dynamic Portfolio Optimization problem](#Dynamic-Portfolio-Optimization-problem)\n",
    "- [Comparing quantum and classical portfolios](#Comparing-quantum-and-classical-portfolios)"
   ]
  },
  {
   "cell_type": "markdown",
   "metadata": {},
   "source": [
    "<hr>\n",
    "<h2>Dynamic Portfolio Optimization problem</h2>\n",
    "\n",
    "This work is inspired from the paper: *Dynamic Portfolio Optimization with Real Datasets Using Quantum Processors and Quantum-Inspired Tensor Networks* (https://arxiv.org/abs/2007.00017). \n",
    "\n",
    "Our contributions include:  \n",
    "\n",
    "- Using a feature selection tool for assets allocation during periodical rebalancing period\n",
    "- Implement feature selection using a quantum annealer\n",
    "- Comparing DWave processor with hybrid and classical solvers\n",
    "\n"
   ]
  },
  {
   "cell_type": "code",
   "execution_count": 1,
   "metadata": {},
   "outputs": [],
   "source": [
    "import numpy as np\n",
    "import pandas as pd\n",
    "import numpy as np\n",
    "from datetime import datetime\n",
    "import matplotlib.pyplot as plt\n",
    "import time\n",
    "\n",
    "seed = 1000\n",
    "np.random.seed(seed)"
   ]
  },
  {
   "cell_type": "markdown",
   "metadata": {},
   "source": [
    "#### Importing Leap solvers"
   ]
  },
  {
   "cell_type": "code",
   "execution_count": 2,
   "metadata": {},
   "outputs": [],
   "source": [
    "import dimod\n",
    "from dimod import BinaryQuadraticModel\n",
    "from dwave.system import LeapHybridSampler\n",
    "from dwave.system import DWaveCliqueSampler\n",
    "from neal import SimulatedAnnealingSampler\n",
    "from dimod import ExactSolver"
   ]
  },
  {
   "cell_type": "markdown",
   "metadata": {},
   "source": [
    "#### Deriving stocks prices from the SP 500 "
   ]
  },
  {
   "cell_type": "code",
   "execution_count": 68,
   "metadata": {},
   "outputs": [],
   "source": [
    "def extract_stocks(num_stocks):\n",
    "    df=pd.read_csv('snp_500_hist.csv',index_col='None') # The file 'snp_500_hist.csv' contains SP 500 data\n",
    "    df['log_ret'] = 1.00\n",
    "    df_scores=pd.read_csv('scores.csv',index_col=0)\n",
    "    \n",
    "    def log_ret(f,stock):\n",
    "        f_new=f.reset_index()\n",
    "        if f_new['ticker'].loc[0] == stock:\n",
    "            for i in range(len(f_new['log_ret'])-1):\n",
    "                x=f_new['closeadj'].loc[i+1]/f_new['closeadj'].loc[i] - 1  #f_new['closeadj'].loc[i]/f_new['closeadj'].loc[i-1] - 1\n",
    "                f_new['log_ret'].loc[i]=x\n",
    "            return f_new\n",
    "        \n",
    "    stocks=list(df_scores.index)[-num_stocks:] # Choose featured selected stocks\n",
    "    \n",
    "#     list_ticker_name=df['ticker'].unique()\n",
    "#     stocks = np.random.choice(list_ticker_name, num_stocks) # Choose randomly num_stocks out of 505\n",
    "    \n",
    "    for i in range(len(stocks)):\n",
    "        df0=df.groupby('ticker').apply(log_ret,stocks[i])\n",
    "        if i==0: returns=pd.DataFrame(index=df0['date'], columns=stocks)\n",
    "        returns[stocks[i]]=df0['log_ret'].to_list()\n",
    "        \n",
    "    return stocks, returns"
   ]
  },
  {
   "cell_type": "markdown",
   "metadata": {},
   "source": [
    "#### Defining the portfolio"
   ]
  },
  {
   "cell_type": "code",
   "execution_count": 69,
   "metadata": {},
   "outputs": [],
   "source": [
    "def portfolio(num_stocks, total_price, min_trading_days, num_trading_days):\n",
    "\n",
    "    price_cap = 0.1*total_price # Maximum investment in each asset\n",
    "    tmin = min_trading_days\n",
    "    tmax = tmin + num_trading_days\n",
    "    T = tmax-tmin # Total number of trading days\n",
    "    \n",
    "    stocks, returns = extract_stocks(num_stocks)\n",
    "    \n",
    "    log_returns = np.log(1.0 + returns)  #The assets forecast log-returns \n",
    "    \n",
    "    # Computing the covariance matrix for each trading day\n",
    "    cov = np.zeros((T, num_stocks, num_stocks)) \n",
    "\n",
    "    n = 0\n",
    "    for t in range(tmin, tmax):\n",
    "        cov[n,:,:] = np.cov( log_returns[0:t].T )    \n",
    "        n += 1\n",
    "\n",
    "    return log_returns, cov, stocks"
   ]
  },
  {
   "cell_type": "markdown",
   "metadata": {},
   "source": [
    "[Back to Dynamic Portfolio Optimization problem](#Dynamic-Portfolio-Optimization-problem)"
   ]
  },
  {
   "cell_type": "markdown",
   "metadata": {},
   "source": [
    "<hr>\n",
    "<h2>Building the QUBO matrix</h2>\n",
    "\n",
    "The dynamic portfolio optimization problem can be formulated as a classical Hamiltonian of the form: $ H = H_{1} + H_{2} + H_{3} + H_{4}$ where: \n",
    "\n",
    "$H_{1} = -\\sum_t \\mu_t^{T} w_{t}$ , \n",
    "\n",
    "\n",
    "$H_{2} = \\frac{\\gamma}{2} \\sum_t w_t^{T} \\Lambda_{t} w_{t}$ , \n",
    "\n",
    "\n",
    "$H_{3} = \\lambda \\sum_t {(\\Delta w_t)}^{2} $ ,\n",
    "\n",
    "\n",
    "$H_{4} = \\rho \\sum_t {(u^T w_t - 1)}^{2} $.\n",
    "\n",
    "\n",
    "\n",
    "$\\gamma$ is the *risk_aversion* and $\\lambda$ is the *optimal coefficient for transaction costs*  and $\\rho$ is Lagrange multiplier for normalization.\n",
    "\n",
    "\n",
    "\n",
    "The QUBO matrix is obtained by recasting the Hamiltonian as $H = x^T Q x$, where $x \\in {\\{0,1\\}}^{L}$ is binary encoding representation of a trading trajectory. For more details refer to the paper above. "
   ]
  },
  {
   "cell_type": "code",
   "execution_count": 5,
   "metadata": {},
   "outputs": [],
   "source": [
    "#Building the H1 QUBO matix \n",
    "def qubo1(num_bits, num_stocks, T, total_price, log_returns, stocks):\n",
    "    \n",
    "    L = num_bits * num_stocks * T\n",
    "    QQ1 = np.zeros((L))\n",
    "    \n",
    "    for t in range(T):\n",
    "        for n in range(num_stocks):\n",
    "            for q in range(num_bits):\n",
    "                i = (q + num_bits*n) + num_stocks*num_bits*t\n",
    "                day=log_returns.index[t]\n",
    "                stock=stocks[n]\n",
    "                \n",
    "                QQ1[i] = -2**q * log_returns[stock].loc[day]\n",
    "                \n",
    "    QQ1 = QQ1/total_price           \n",
    "    Q1 = np.diag(QQ1)\n",
    "    \n",
    "    return Q1"
   ]
  },
  {
   "cell_type": "code",
   "execution_count": 6,
   "metadata": {},
   "outputs": [],
   "source": [
    "#Building the H2 QUBO matix\n",
    "def qubo2(num_bits, num_stocks, T, total_price, cov, risk_aversion):\n",
    "    \n",
    "    L = num_bits * num_stocks * T\n",
    "    QQ2 = np.zeros((L, L))\n",
    "    \n",
    "    for t in range(T):\n",
    "        for n in range(num_stocks):\n",
    "            for q in range(num_bits):\n",
    "                l = q + num_bits*n\n",
    "                \n",
    "                for m in range(num_stocks):\n",
    "                    for qp in range(num_bits):\n",
    "                        p = qp + num_bits*m\n",
    "                        \n",
    "                        irow = l + num_stocks*num_bits*t\n",
    "                        icol = p + num_stocks*num_bits*t\n",
    "                        \n",
    "                        QQ2[irow, icol] = 2**(q+qp) * cov[t, n, m]\n",
    "                        \n",
    "    Q2 = 0.5*risk_aversion*QQ2/(total_price**2)\n",
    "    \n",
    "    return QQ2"
   ]
  },
  {
   "cell_type": "code",
   "execution_count": 7,
   "metadata": {},
   "outputs": [],
   "source": [
    "#Building the H3 QUBO matix\n",
    "def qubo3(num_bits, num_stocks, T, total_price, lambda_coefficient):\n",
    "    \n",
    "    L = num_bits * num_stocks * T\n",
    "    \n",
    "    encoding = np.array([2**q for q in np.arange(num_bits)]) # Binary encoding of the weights\n",
    "    encoding_matrix = np.zeros((num_stocks*T, L))\n",
    "    \n",
    "    for n in range(num_stocks*T):\n",
    "        left = n*num_bits\n",
    "        right = (n+1)*num_bits\n",
    "        encoding_matrix[n, left:right] = encoding\n",
    "        \n",
    "    difference_matrix = np.zeros((num_stocks*T, num_stocks*T))\n",
    "    diff = np.concatenate((-np.identity(num_stocks), np.identity(num_stocks)), axis=1)\n",
    "\n",
    "    for t in range(T-1):\n",
    "        left = t*num_stocks\n",
    "        right = left + 2*num_stocks \n",
    "        up = t*num_stocks\n",
    "        down = (t+1)*num_stocks\n",
    "        difference_matrix[up:down,left:right] = diff \n",
    "        \n",
    "    QQ3 = np.dot(difference_matrix, encoding_matrix)\n",
    "    Q3  = lambda_coefficient * np.dot(QQ3.T, QQ3)/(total_price**2)\n",
    "    \n",
    "    return Q3"
   ]
  },
  {
   "cell_type": "code",
   "execution_count": 8,
   "metadata": {},
   "outputs": [],
   "source": [
    "#Building the H4 QUBO matix\n",
    "def qubo4(num_bits, num_stocks, T, total_price, rho_multiplier):\n",
    "    \n",
    "    L = num_bits * num_stocks * T\n",
    "    I0 = np.zeros((L, L))\n",
    "    \n",
    "    for t in range(T):\n",
    "        for n in range(num_stocks):\n",
    "            for q in range(num_bits):\n",
    "                l = q + num_bits*n\n",
    "\n",
    "                for m in range(num_stocks):\n",
    "                    for qp in range(num_bits):\n",
    "                        p = qp + num_bits*m\n",
    "\n",
    "                        irow = l + num_stocks*num_bits*t\n",
    "                        icol = p + num_stocks*num_bits*t\n",
    "                    \n",
    "                        I0[irow, icol] = 2**(q+qp)\n",
    "\n",
    "    I = rho_multiplier*I0/(total_price**2)\n",
    "\n",
    "    J0 = np.zeros((L))\n",
    "    \n",
    "    for t in range(T):\n",
    "        for n in range(num_stocks):\n",
    "            for q in range(num_bits):\n",
    "                i = (q + num_bits*n) + num_stocks*num_bits*t\n",
    "                \n",
    "                J0[i] = -2**(q + 1)\n",
    "\n",
    "    J0 = rho_multiplier*J0/total_price           \n",
    "    J = np.diag(J0)\n",
    "    Q4 = I + J\n",
    "    \n",
    "    return Q4"
   ]
  },
  {
   "cell_type": "code",
   "execution_count": 9,
   "metadata": {},
   "outputs": [],
   "source": [
    "def qubo_matrix(num_stocks, num_bits, total_price, min_trading_days, num_trading_days, rho_multiplier, lambda_coefficient = 0.00001, risk_aversion=1.0):\n",
    "    \n",
    "    price_cap = 0.1*total_price # Maximum investment in each asset\n",
    "    \n",
    "    # Getting the log_returns and covariance matrix\n",
    "    log_returns, cov, stocks = portfolio(num_stocks, total_price, min_trading_days, num_trading_days)\n",
    "       \n",
    "    # Buiding the different QUBO matrices\n",
    "    Q1 = qubo1(num_bits, num_stocks, num_trading_days, total_price, log_returns, stocks)\n",
    "    Q2 = qubo2(num_bits, num_stocks, num_trading_days, total_price, cov, risk_aversion)\n",
    "    Q3 = qubo3(num_bits, num_stocks, num_trading_days, total_price, lambda_coefficient)\n",
    "    Q4 = qubo4(num_bits, num_stocks, num_trading_days, total_price, rho_multiplier)\n",
    "    \n",
    "    Q = Q1 + Q2 + Q3 + Q4\n",
    "    e_offset = rho_multiplier\n",
    "    \n",
    "    return Q, e_offset, stocks"
   ]
  },
  {
   "cell_type": "markdown",
   "metadata": {},
   "source": [
    "[Back to Building the QUBO matrix](#Building-the-QUBO-matrix)"
   ]
  },
  {
   "cell_type": "markdown",
   "metadata": {},
   "source": [
    "<hr>\n",
    "<h2>Comparing quantum and classical portfolios</h2>"
   ]
  },
  {
   "cell_type": "markdown",
   "metadata": {},
   "source": [
    "#### Weights encoding"
   ]
  },
  {
   "cell_type": "code",
   "execution_count": 10,
   "metadata": {},
   "outputs": [],
   "source": [
    "def weights(x, num_stocks, num_bits, T, total_price):\n",
    "    \n",
    "    encoding = np.array([2**q for q in np.arange(num_bits)]) # Binary encoding of the weights\n",
    "    weight = np.sum(x.reshape(T * num_stocks, num_bits) * encoding, axis=1)\n",
    "    \n",
    "    return weight/total_price"
   ]
  },
  {
   "cell_type": "markdown",
   "metadata": {},
   "source": [
    "#### Sharpe Ratio and Transaction costs"
   ]
  },
  {
   "cell_type": "code",
   "execution_count": 11,
   "metadata": {},
   "outputs": [],
   "source": [
    "def metrics(mu, cov, w, T, num_stocks, lambda_coefficient = 0.00001):\n",
    "    \n",
    "    returns = 0.0\n",
    "    risk = 0.0\n",
    "    deltaW = np.zeros((T-1, num_stocks))\n",
    "\n",
    "    for t in range(T-1):\n",
    "        returns += np.dot(mu[t, :], w.T[:, t]) \n",
    "        risk += np.dot( w[t, :], np.dot(cov[t,:,:], w.T[:, t]))\n",
    "        deltaW[t, :] = (w[t+1, :] - w[t, :])**2\n",
    "\n",
    "    returns += np.dot(mu[T-1, :], w.T[:, T-1])\n",
    "    risk += np.dot( w[T-1, :], np.dot(cov[T-1,:,:], w.T[:, T-1]))\n",
    "\n",
    "    sharperatio = returns / np.sqrt(0.5*risk)\n",
    "    profits = returns - lambda_coefficient*np.sum(deltaW)\n",
    "\n",
    "    return sharperatio, profits"
   ]
  },
  {
   "cell_type": "markdown",
   "metadata": {},
   "source": [
    "### Comparison between Exact solver and DWave machine"
   ]
  },
  {
   "cell_type": "code",
   "execution_count": 22,
   "metadata": {},
   "outputs": [],
   "source": [
    "list_num_stocks = [2] \n",
    "min_trading_days = 20\n",
    "num_trading_days = 3\n",
    "total_price = 10\n",
    "price_cap = 0.1*total_price\n",
    "exact_solver_results = [None] * len(list_num_stocks)\n",
    "dwave_solver_results = [None] * len(list_num_stocks)\n",
    "assets = [None] * len(list_num_stocks)\n",
    "\n",
    "rho_multiplier = 0.5 \n",
    "\n",
    "#Binary encoding of weights\n",
    "num_bits = np.rint(np.log2(total_price + 1.0 )).astype(int)\n",
    "    \n",
    "for n, num_stocks in enumerate(list_num_stocks):\n",
    "    \n",
    "    Q, e_offset, assets[n] = qubo_matrix(num_stocks, num_bits, total_price, min_trading_days, num_trading_days, rho_multiplier)\n",
    "    bqm = BinaryQuadraticModel.from_qubo(Q, offset= e_offset)\n",
    "    \n",
    "    solver = ExactSolver()\n",
    "    exact_solver_results[n] = solver.sample(bqm)\n",
    "    \n",
    "    sampler =  DWaveCliqueSampler()\n",
    "    dwave_solver_results[n] = sampler.sample(bqm, num_reads=500, annealing_time=1000, answer_mode='raw', return_embedding=True)"
   ]
  },
  {
   "cell_type": "code",
   "execution_count": 24,
   "metadata": {},
   "outputs": [
    {
     "name": "stdout",
     "output_type": "stream",
     "text": [
      "Results from the Exact Solver\n",
      "\n",
      "The 2 assets in the portfolio are: ['EMN', 'ZTS'] and are traded for 3 days.\n",
      "The trading trajectory is :\n",
      "[[0.3 0.7]\n",
      " [0.3 0.7]\n",
      " [0.4 0.6]]\n",
      "The trajectory normalization is : [1. 1. 1.] and the energy is -0.9799341604033462\n",
      "Exact solver Sharpe ratio is 0.35875315881651065, and the profits are 0.37180182292263614%\n",
      "\n",
      "\n",
      "Results from the DWave Solver\n",
      "\n",
      "The 2 assets in the portfolio are: ['EMN', 'ZTS'] and are traded for 3 days.\n",
      "The trading trajectory is :\n",
      "[[0.3 0.7]\n",
      " [0.3 0.7]\n",
      " [0.5 0.5]]\n",
      "The trajectory normalization is : [1. 1. 1.] and the energy is -0.9797225638931327\n",
      "Dwave solver Sharpe ratio is 0.6493758572635614, and the profits are 0.7062885375453511%\n"
     ]
    }
   ],
   "source": [
    "\n",
    "for n, num_stocks in enumerate(list_num_stocks):    \n",
    "    \n",
    "    logreturns, cov, _ = portfolio(num_stocks, total_price, min_trading_days, num_trading_days)\n",
    "    mu = np.array(logreturns[min_trading_days:num_trading_days+min_trading_days])\n",
    "    \n",
    "    print(\"Results from the Exact Solver\")\n",
    "    configa = np.array(list(exact_solver_results[n].first.sample.values()))\n",
    "    wa = weights(configa, num_stocks, num_bits, num_trading_days, total_price)\n",
    "    wa = wa.reshape(num_trading_days, num_stocks)    \n",
    "    exact_solver_sharpe_ratio, exact_solver_profits = metrics(mu, cov, wa, num_trading_days, num_stocks)\n",
    "    \n",
    "    print(f'\\nThe {num_stocks} assets in the portfolio are: {assets[n]} and are traded for {num_trading_days} days.')\n",
    "    print(\"The trading trajectory is :\")\n",
    "    print(wa) \n",
    "    print(f'The trajectory normalization is : {np.sum(wa, axis=1)} and the energy is {exact_solver_results[n].first.energy}') \n",
    "    print(f'Exact solver Sharpe ratio is {exact_solver_sharpe_ratio}, and the profits are {exact_solver_profits * 100}%')\n",
    "    \n",
    "    \n",
    "    print(\"\\n\\nResults from the DWave Solver\")\n",
    "    configb = np.array(list(dwave_solver_results[n].first.sample.values()))\n",
    "    wb = weights(configb, num_stocks, num_bits, num_trading_days, total_price)\n",
    "    wb = wb.reshape(num_trading_days, num_stocks)\n",
    "    dwave_solver_sharpe_ratio, dwave_solver_profits = metrics(mu, cov, wb, num_trading_days, num_stocks)\n",
    "    \n",
    "    print(f'\\nThe {num_stocks} assets in the portfolio are: {assets[n]} and are traded for {num_trading_days} days.')\n",
    "    print(\"The trading trajectory is :\")\n",
    "    print(wb)\n",
    "    print(f'The trajectory normalization is : {np.sum(wb, axis=1)} and the energy is {dwave_solver_results[n].first.energy}') \n",
    "    print(f'Dwave solver Sharpe ratio is {dwave_solver_sharpe_ratio}, and the profits are {dwave_solver_profits *100}%')\n"
   ]
  },
  {
   "cell_type": "markdown",
   "metadata": {},
   "source": [
    "### Comparison between LeapHybrid Solver and Simulated Annealing"
   ]
  },
  {
   "cell_type": "code",
   "execution_count": 71,
   "metadata": {},
   "outputs": [
    {
     "name": "stdout",
     "output_type": "stream",
     "text": [
      "\n",
      "Results from the Hybrid Solver\n",
      "\n",
      "The 100 assets in the portfolio are: ['AES', 'BDX', 'VRSK', 'ADM', 'VRTX', 'TDY', 'BIO', 'BR', 'ALGN', 'AJG', 'WEC', 'CAT', 'AVY', 'TYL', 'ITW', 'HII', 'FTNT', 'PENN', 'GOOGL', 'IPGP', 'INTU', 'LYB', 'PCAR', 'EL', 'GNRC', 'DXCM', 'ENPH', 'ETR', 'NVDA', 'NTAP', 'CME', 'MLM', 'IEX', 'IDXX', 'MNST', 'FOXA', 'ILMN', 'MCK', 'HPE', 'PKI', 'SNPS', 'CMS', 'CNC', 'CNP', 'JNJ', 'COO', 'ROST', 'ROL', 'PKG', 'CPRT', 'K', 'REGN', 'KHC', 'PWR', 'DFS', 'PNR', 'DTE', 'CRL', 'ICE', 'FAST', 'LEN', 'DHR', 'DRI', 'KO', 'TXN', 'MU', 'HOLX', 'SPGI', 'LH', 'INCY', 'ABT', 'ABMD', 'KLAC', 'ZBRA', 'WLTW', 'WY', 'UPS', 'AKAM', 'SWK', 'COG', 'ROK', 'TER', 'PH', 'PFE', 'BF.B', 'PEG', 'TTWO', 'HES', 'EIX', 'EMR', 'EOG', 'FB', 'APA', 'AON', 'FBHS', 'VIAC', 'GM', 'MCO', 'EMN', 'ZTS'] and are traded for 100 days.\n",
      "The trading trajectory is :\n",
      "[[0.  0.  0.  ... 0.  0.  0. ]\n",
      " [0.  0.1 0.  ... 0.  0.  0. ]\n",
      " [0.  0.  0.  ... 0.  0.  0. ]\n",
      " ...\n",
      " [0.  0.  0.  ... 0.  0.  0. ]\n",
      " [0.  0.  0.3 ... 0.  0.  0.1]\n",
      " [0.  0.  0.  ... 0.  0.  0. ]]\n",
      "The trajectory normalization is : [1. 1. 1. 1. 1. 1. 1. 1. 1. 1. 1. 1. 1. 1. 1. 1. 1. 1. 1. 1. 1. 1. 1. 1.\n",
      " 1. 1. 1. 1. 1. 1. 1. 1. 1. 1. 1. 1. 1. 1. 1. 1. 1. 1. 1. 1. 1. 1. 1. 1.\n",
      " 1. 1. 1. 1. 1. 1. 1. 1. 1. 1. 1. 1. 1. 1. 1. 1. 1. 1. 1. 1. 1. 1. 1. 1.\n",
      " 1. 1. 1. 1. 1. 1. 1. 1. 1. 1. 1. 1. 1. 1. 1. 1. 1. 1. 1. 1. 1. 1. 1. 1.\n",
      " 1. 1. 1. 1.] and the energy is -100.02749470062554\n",
      "The hybrid solver ran for 102.92326188087463 s.\n",
      "Hybrid solver Sharpe ratio is -0.7735583658033727, and the profits are -5.137044265162761%\n",
      "\n",
      "\n",
      "Results from the SA Solver\n",
      "\n",
      "The 100 assets in the portfolio are: ['AES', 'BDX', 'VRSK', 'ADM', 'VRTX', 'TDY', 'BIO', 'BR', 'ALGN', 'AJG', 'WEC', 'CAT', 'AVY', 'TYL', 'ITW', 'HII', 'FTNT', 'PENN', 'GOOGL', 'IPGP', 'INTU', 'LYB', 'PCAR', 'EL', 'GNRC', 'DXCM', 'ENPH', 'ETR', 'NVDA', 'NTAP', 'CME', 'MLM', 'IEX', 'IDXX', 'MNST', 'FOXA', 'ILMN', 'MCK', 'HPE', 'PKI', 'SNPS', 'CMS', 'CNC', 'CNP', 'JNJ', 'COO', 'ROST', 'ROL', 'PKG', 'CPRT', 'K', 'REGN', 'KHC', 'PWR', 'DFS', 'PNR', 'DTE', 'CRL', 'ICE', 'FAST', 'LEN', 'DHR', 'DRI', 'KO', 'TXN', 'MU', 'HOLX', 'SPGI', 'LH', 'INCY', 'ABT', 'ABMD', 'KLAC', 'ZBRA', 'WLTW', 'WY', 'UPS', 'AKAM', 'SWK', 'COG', 'ROK', 'TER', 'PH', 'PFE', 'BF.B', 'PEG', 'TTWO', 'HES', 'EIX', 'EMR', 'EOG', 'FB', 'APA', 'AON', 'FBHS', 'VIAC', 'GM', 'MCO', 'EMN', 'ZTS'] and are traded for 100 days.\n",
      "The trading trajectory is :\n",
      "[[0.  0.  0.  ... 0.  0.1 0. ]\n",
      " [0.  0.  0.  ... 0.  0.1 0. ]\n",
      " [0.2 0.  0.1 ... 0.  0.  0. ]\n",
      " ...\n",
      " [0.  0.  0.  ... 0.  0.  0. ]\n",
      " [0.  0.  0.3 ... 0.  0.  0. ]\n",
      " [0.  0.  0.  ... 0.  0.  0. ]]\n",
      "The trajectory normalization is : [1. 1. 1. 1. 1. 1. 1. 1. 1. 1. 1. 1. 1. 1. 1. 1. 1. 1. 1. 1. 1. 1. 1. 1.\n",
      " 1. 1. 1. 1. 1. 1. 1. 1. 1. 1. 1. 1. 1. 1. 1. 1. 1. 1. 1. 1. 1. 1. 1. 1.\n",
      " 1. 1. 1. 1. 1. 1. 1. 1. 1. 1. 1. 1. 1. 1. 1. 1. 1. 1. 1. 1. 1. 1. 1. 1.\n",
      " 1. 1. 1. 1. 1. 1. 1. 1. 1. 1. 1. 1. 1. 1. 1. 1. 1. 1. 1. 1. 1. 1. 1. 1.\n",
      " 1. 1. 1. 1.] and the energy is -99.55802377338114\n",
      "The SA solver ran for 333.3997542858124 s.\n",
      "SA solver Sharpe ratio is -1.9787230913105445, and the profits are -12.293086528856362%\n"
     ]
    }
   ],
   "source": [
    "list_num_stocks = [100] #, 200, 450] \n",
    "min_trading_days = 20\n",
    "num_trading_days = 100\n",
    "total_price = 10 \n",
    "#price_cap = 0.1* total_price\n",
    "leap_hybrid_solver_results = [None] * len(list_num_stocks)\n",
    "leap_hybrid_solver_times = [None] * len(list_num_stocks)\n",
    "hybrid_solver_sharpe_ratio = [None] * len(list_num_stocks)\n",
    "hybrid_solver_profits = [None] * len(list_num_stocks)\n",
    "\n",
    "sa_solver_results = [None] * len(list_num_stocks)\n",
    "sa_solver_times = [None] * len(list_num_stocks)\n",
    "sa_solver_sharpe_ratio = [None] * len(list_num_stocks)\n",
    "sa_solver_profits = [None] * len(list_num_stocks)\n",
    "\n",
    "assets = [None] * len(list_num_stocks)\n",
    "\n",
    "rho_multiplier = 1.0 \n",
    "\n",
    "#Binary encoding of weights\n",
    "num_bits = np.rint(np.log2(total_price + 1.0 )).astype(int)\n",
    "    \n",
    "for n, num_stocks in enumerate(list_num_stocks):\n",
    "    \n",
    "    Q, e_offset, assets[n] = qubo_matrix(num_stocks, num_bits, total_price, min_trading_days, num_trading_days, rho_multiplier)\n",
    "    bqm = BinaryQuadraticModel.from_qubo(Q, offset= e_offset)\n",
    "    \n",
    "    start = time.time()\n",
    "    solver = LeapHybridSampler()\n",
    "    leap_hybrid_solver_results[n] = solver.sample(bqm)\n",
    "    end = time.time()\n",
    "    leap_hybrid_solver_times[n] = end-start\n",
    "      \n",
    "    start = time.time()\n",
    "    sampler =   SimulatedAnnealingSampler()\n",
    "    sa_solver_results[n] = sampler.sample(bqm, num_reads=100, num_sweeps=1000) #.truncate(5)\n",
    "    end = time.time()\n",
    "    sa_solver_times[n] = end-start\n",
    "    \n",
    "\n",
    "for n, num_stocks in enumerate(list_num_stocks): \n",
    "\n",
    "    logreturns, cov, _ = portfolio(num_stocks, total_price, min_trading_days, num_trading_days)\n",
    "    mu = np.array(logreturns[min_trading_days:num_trading_days+min_trading_days])\n",
    "    \n",
    "    print(\"\\nResults from the Hybrid Solver\")\n",
    "    config = np.array(list(leap_hybrid_solver_results[n].first.sample.values()))\n",
    "    w = weights(config, num_stocks, num_bits, num_trading_days, total_price)\n",
    "    w = w.reshape(num_trading_days, num_stocks)\n",
    "    hybrid_solver_sharpe_ratio[n], hybrid_solver_profits[n] = metrics(mu, cov, w, num_trading_days, num_stocks)\n",
    "      \n",
    "    print(f'\\nThe {num_stocks} assets in the portfolio are: {assets[n]} and are traded for {num_trading_days} days.')\n",
    "    print(\"The trading trajectory is :\")\n",
    "    print(w) \n",
    "    print(f'The trajectory normalization is : {np.sum(w, axis=1)} and the energy is {leap_hybrid_solver_results[n].first.energy}') \n",
    "    print(f'The hybrid solver ran for {leap_hybrid_solver_times[n]} s.')\n",
    "    print(f'Hybrid solver Sharpe ratio is {hybrid_solver_sharpe_ratio[n]}, and the profits are {hybrid_solver_profits[n]*100}%')\n",
    "    \n",
    "    print(\"\\n\\nResults from the SA Solver\")\n",
    "    config = np.array(list(sa_solver_results[n].first.sample.values()))\n",
    "    w = weights(config, num_stocks, num_bits, num_trading_days, total_price)\n",
    "    w = w.reshape(num_trading_days, num_stocks)\n",
    "    sa_solver_sharpe_ratio[n], sa_solver_profits[n] = metrics(mu, cov, w, num_trading_days, num_stocks)\n",
    "    \n",
    "    print(f'\\nThe {num_stocks} assets in the portfolio are: {assets[n]} and are traded for {num_trading_days} days.')\n",
    "    print(\"The trading trajectory is :\")\n",
    "    print(w) \n",
    "    print(f'The trajectory normalization is : {np.sum(w, axis=1)} and the energy is {sa_solver_results[n].first.energy}') \n",
    "    print(f'The SA solver ran for {sa_solver_times[n]} s.')\n",
    "    print(f'SA solver Sharpe ratio is {sa_solver_sharpe_ratio[n]}, and the profits are {sa_solver_profits[n]*100}%')"
   ]
  },
  {
   "cell_type": "code",
   "execution_count": 53,
   "metadata": {},
   "outputs": [],
   "source": [
    "parameters = [ list_num_stocks[i] * (num_bits * num_trading_days) for i in range(len(list_num_stocks))]"
   ]
  },
  {
   "cell_type": "code",
   "execution_count": 54,
   "metadata": {},
   "outputs": [],
   "source": [
    "hybrid_name_dict1 = {\n",
    "            'Number of stocks': list_num_stocks,\n",
    "            'Sharpe ratio': hybrid_solver_sharpe_ratio,\n",
    "            'Profits (in %)': [hybrid_solver_profits[i]*100 for i in range(len(hybrid_solver_profits))],\n",
    "            'Runtimes (in s)': leap_hybrid_solver_times,\n",
    "            'Number of parameters': parameters,\n",
    "            'Hilbert space': [ 2**parameters[i] for i in range(len(parameters))]\n",
    "          }\n",
    "\n",
    "# hybrid_df = pd.DataFrame(hybrid_name_dict1)\n",
    "# file_name = 'leap_hybrid_results1.csv'\n",
    "# hybrid_df.to_csv(file_name, sep=\",\")\n",
    "# hybrid_df"
   ]
  },
  {
   "cell_type": "code",
   "execution_count": 67,
   "metadata": {},
   "outputs": [],
   "source": [
    "hybrid_df1=pd.read_csv('leap_hybrid_results.csv')\n",
    "hybrid_df2 = pd.DataFrame(hybrid_name_dict1)\n",
    "\n",
    "file_name = 'leap_hybrid_results1.csv'\n",
    "hybrid_df2.to_csv(file_name, sep=\",\")"
   ]
  },
  {
   "cell_type": "code",
   "execution_count": null,
   "metadata": {},
   "outputs": [],
   "source": []
  },
  {
   "cell_type": "code",
   "execution_count": 65,
   "metadata": {},
   "outputs": [
    {
     "data": {
      "text/html": [
       "<div>\n",
       "<style scoped>\n",
       "    .dataframe tbody tr th:only-of-type {\n",
       "        vertical-align: middle;\n",
       "    }\n",
       "\n",
       "    .dataframe tbody tr th {\n",
       "        vertical-align: top;\n",
       "    }\n",
       "\n",
       "    .dataframe thead th {\n",
       "        text-align: right;\n",
       "    }\n",
       "</style>\n",
       "<table border=\"1\" class=\"dataframe\">\n",
       "  <thead>\n",
       "    <tr style=\"text-align: right;\">\n",
       "      <th></th>\n",
       "      <th>Number of stocks</th>\n",
       "      <th>Sharpe ratio</th>\n",
       "      <th>Profits (in %)</th>\n",
       "      <th>Runtimes (in s)</th>\n",
       "      <th>Number of parameters</th>\n",
       "      <th>Hilbert space</th>\n",
       "    </tr>\n",
       "  </thead>\n",
       "  <tbody>\n",
       "    <tr>\n",
       "      <th>0</th>\n",
       "      <td>100</td>\n",
       "      <td>-0.158793</td>\n",
       "      <td>-0.087683</td>\n",
       "      <td>2.879799</td>\n",
       "      <td>300</td>\n",
       "      <td>0</td>\n",
       "    </tr>\n",
       "    <tr>\n",
       "      <th>1</th>\n",
       "      <td>200</td>\n",
       "      <td>0.697526</td>\n",
       "      <td>0.393605</td>\n",
       "      <td>11.240008</td>\n",
       "      <td>600</td>\n",
       "      <td>0</td>\n",
       "    </tr>\n",
       "    <tr>\n",
       "      <th>2</th>\n",
       "      <td>450</td>\n",
       "      <td>0.452607</td>\n",
       "      <td>0.379317</td>\n",
       "      <td>58.824439</td>\n",
       "      <td>1350</td>\n",
       "      <td>0</td>\n",
       "    </tr>\n",
       "  </tbody>\n",
       "</table>\n",
       "</div>"
      ],
      "text/plain": [
       "   Number of stocks  Sharpe ratio  Profits (in %)  Runtimes (in s)  \\\n",
       "0               100     -0.158793       -0.087683         2.879799   \n",
       "1               200      0.697526        0.393605        11.240008   \n",
       "2               450      0.452607        0.379317        58.824439   \n",
       "\n",
       "   Number of parameters  Hilbert space  \n",
       "0                   300              0  \n",
       "1                   600              0  \n",
       "2                  1350              0  "
      ]
     },
     "execution_count": 65,
     "metadata": {},
     "output_type": "execute_result"
    }
   ],
   "source": [
    "sa_name_dict = {\n",
    "            'Number of stocks': list_num_stocks,\n",
    "            'Sharpe ratio': sa_solver_sharpe_ratio,\n",
    "            'Profits (in %)': [sa_solver_profits[i]*100 for i in range(len(sa_solver_profits))],\n",
    "            'Runtimes (in s)': sa_solver_times,\n",
    "            'Number of parameters': [ list_num_stocks[i] * (num_bits * num_trading_days) for i in range(len(list_num_stocks))],\n",
    "            'Hilbert space': [ 2**parameters[i] for i in range(len(parameters))]\n",
    "          }\n",
    "\n",
    "sa_df = pd.DataFrame(sa_name_dict)\n",
    "\n",
    "file_name = 'sa_results1.csv'\n",
    "sa_df.to_csv(file_name, sep=\",\")\n",
    "sa_df"
   ]
  },
  {
   "cell_type": "code",
   "execution_count": 46,
   "metadata": {},
   "outputs": [
    {
     "name": "stdout",
     "output_type": "stream",
     "text": [
      "Geeks :  1, Portal : 5.33300\n"
     ]
    }
   ],
   "source": [
    "print(\"Geeks : %2d, Portal : %5.5f\" % (1, 05.333))"
   ]
  },
  {
   "cell_type": "code",
   "execution_count": 47,
   "metadata": {},
   "outputs": [
    {
     "data": {
      "text/plain": [
       "[32768, 1073741824, 1152921504606846976, 0]"
      ]
     },
     "execution_count": 47,
     "metadata": {},
     "output_type": "execute_result"
    }
   ],
   "source": [
    "[ 2**parameters[i] for i in range(len(parameters))]"
   ]
  },
  {
   "cell_type": "code",
   "execution_count": 48,
   "metadata": {},
   "outputs": [
    {
     "data": {
      "text/plain": [
       "[15, 30, 60, 150]"
      ]
     },
     "execution_count": 48,
     "metadata": {},
     "output_type": "execute_result"
    }
   ],
   "source": [
    "parameters"
   ]
  },
  {
   "cell_type": "code",
   "execution_count": null,
   "metadata": {},
   "outputs": [],
   "source": []
  }
 ],
 "metadata": {
  "kernelspec": {
   "display_name": "Python 3",
   "language": "python",
   "name": "python3"
  },
  "language_info": {
   "codemirror_mode": {
    "name": "ipython",
    "version": 3
   },
   "file_extension": ".py",
   "mimetype": "text/x-python",
   "name": "python",
   "nbconvert_exporter": "python",
   "pygments_lexer": "ipython3",
   "version": "3.7.6"
  }
 },
 "nbformat": 4,
 "nbformat_minor": 4
}
