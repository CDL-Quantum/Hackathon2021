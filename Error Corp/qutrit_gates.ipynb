{
 "cells": [
  {
   "cell_type": "code",
   "execution_count": 1,
   "id": "e0fd9e3d",
   "metadata": {},
   "outputs": [],
   "source": [
    "%matplotlib inline"
   ]
  },
  {
   "cell_type": "code",
   "execution_count": 2,
   "id": "9d710516",
   "metadata": {},
   "outputs": [],
   "source": [
    "import numpy as onp\n",
    "import jax.numpy as np\n",
    "import scipy.optimize as opt\n",
    "import matplotlib.pyplot as plt\n",
    "from scipy.signal.windows import dpss\n",
    "#from scipy.linalg import expm"
   ]
  },
  {
   "cell_type": "code",
   "execution_count": 3,
   "id": "cf029034",
   "metadata": {},
   "outputs": [],
   "source": [
    "from qiskit.pulse.library import Gaussian, Drag\n",
    "from qiskit.test.mock import FakeValencia, FakeArmonk\n",
    "from qiskit import pulse"
   ]
  },
  {
   "cell_type": "code",
   "execution_count": 4,
   "id": "bb01988b",
   "metadata": {},
   "outputs": [],
   "source": [
    "from CDL_utils import su_3_basis"
   ]
  },
  {
   "cell_type": "code",
   "execution_count": 5,
   "id": "27c5863c",
   "metadata": {},
   "outputs": [],
   "source": [
    "from jax.scipy.linalg import expm\n",
    "from jax import vmap, lax, jit"
   ]
  },
  {
   "cell_type": "markdown",
   "id": "a814d13a",
   "metadata": {},
   "source": [
    "$$\\large{\n",
    "\\frac{\\hat{H}^{R}}{\\hbar}=\\Delta|2\\rangle\\langle 2|+\\frac{{\\Omega}_{x}(t)}{2} \\sum_{j=1}^{2} \\hat{\\sigma}_{j, j-1}^{x}+\\frac{{\\Omega}_{y}(t)}{2} \\sum_{j=1}^{2} \\hat{\\sigma}_{j, j-1}^{y}}\n",
    "$$\n",
    "\n",
    "### where\n",
    "\n",
    "$$\\large{\n",
    "\\hat{\\sigma}_{j, j-1}^{x}=\\sqrt{j}(|j\\rangle\\langle j-1|+| j-1\\rangle\\langle j|)}\n",
    "$$\n",
    "\n",
    "$$\\large{\n",
    "\\hat{\\sigma}_{j, j-1}^{y}=i \\sqrt{j}(|j\\rangle\\langle j-1|-| j-1\\rangle\\langle j|)}\n",
    "$$\n",
    "\n",
    "Ref: Motzoi, F., Gambetta, J. M., Rebentrost, P., & Wilhelm, F. K. (2009). Simple pulses for elimination of leakage in weakly nonlinear qubits. Physical review letters, 103(11), 110501."
   ]
  },
  {
   "cell_type": "code",
   "execution_count": 6,
   "id": "3d3c2bba",
   "metadata": {},
   "outputs": [
    {
     "name": "stderr",
     "output_type": "stream",
     "text": [
      "WARNING:absl:No GPU/TPU found, falling back to CPU. (Set TF_CPP_MIN_LOG_LEVEL=0 and rerun for more info.)\n"
     ]
    }
   ],
   "source": [
    "su_3_unitary = expm(-1j*su_3_basis()[5])\n",
    "su_3_unitary.dot(su_3_unitary.T.conj())\n",
    "\n",
    "TARGET = expm(-1j*su_3_basis()[5])"
   ]
  },
  {
   "cell_type": "code",
   "execution_count": 7,
   "id": "7ec4fcc5",
   "metadata": {},
   "outputs": [],
   "source": [
    "# projector:  |1><0|\n",
    "P_10 = np.array(\n",
    "    [[0.+0.j, 0.+0.j, 0.+0.j],\n",
    "    [1.+0.j, 0.+0.j, 0.+0.j],\n",
    "    [0.+0.j, 0.+0.j, 0.+0.j]])\n",
    "\n",
    "# projector: |0><1|\n",
    "P_01 = np.array(\n",
    "    [[0.+0.j, 1.+0.j, 0.+0.j],\n",
    "     [0.+0.j, 0.+0.j, 0.+0.j],\n",
    "     [0.+0.j, 0.+0.j, 0.+0.j]])"
   ]
  },
  {
   "cell_type": "code",
   "execution_count": 8,
   "id": "a488652e",
   "metadata": {},
   "outputs": [],
   "source": [
    "# projector: |2><1|\n",
    "P_21 = np.array(\n",
    "      [[0.+0.j, 0.+0.j, 0.+0.j],\n",
    "       [0.+0.j, 0.+0.j, 0.+0.j],\n",
    "       [0.+0.j, 1.+0.j, 0.+0.j]])\n",
    "\n",
    "# projector: |1><2|\n",
    "P_12 = np.array(\n",
    "       [[0.+0.j, 0.+0.j, 0.+0.j],\n",
    "       [0.+0.j, 0.+0.j, 1.+0.j],\n",
    "       [0.+0.j, 0.+0.j, 0.+0.j]])\n",
    "\n",
    "# projector: |2><2|\n",
    "P_22 = np.array(\n",
    "       [[0.+0.j, 0.+0.j, 0.+0.j],\n",
    "       [0.+0.j, 0.+0.j, 0.+0.j],\n",
    "       [0.+0.j, 0.+0.j, 1.+0.j]])"
   ]
  },
  {
   "cell_type": "code",
   "execution_count": 9,
   "id": "c53b8ff2",
   "metadata": {},
   "outputs": [],
   "source": [
    "sigma_x_10 = P_10 + P_01\n",
    "sigma_x_21 = P_21 + P_12\n",
    "\n",
    "sigma_y_10 = 1j*P_10 - 1j*P_01\n",
    "sigma_y_21 = 1j*P_21 - 1j*P_12"
   ]
  },
  {
   "cell_type": "code",
   "execution_count": 10,
   "id": "c18365a2",
   "metadata": {},
   "outputs": [
    {
     "name": "stdout",
     "output_type": "stream",
     "text": [
      "{'delta0': -2181477525.8495026, 'omegad0': 116220622.89875916, 'wq0': 31239072791.693638}\n"
     ]
    }
   ],
   "source": [
    "backend = FakeArmonk()\n",
    "#print(backend.configuration().hamiltonian.keys())\n",
    "#print(backend.configuration().hamiltonian['description'])\n",
    "device_frequencies= backend.configuration().hamiltonian['vars']\n",
    "print(device_frequencies)"
   ]
  },
  {
   "cell_type": "code",
   "execution_count": 11,
   "id": "c1dd1252",
   "metadata": {},
   "outputs": [
    {
     "data": {
      "text/plain": [
       "-2181459106.79968"
      ]
     },
     "execution_count": 11,
     "metadata": {},
     "output_type": "execute_result"
    }
   ],
   "source": [
    "# from IBMQ Armonk calibration data\n",
    "anharmonicity = -2.*np.pi*0.34719\n",
    "anharmonicity*1e9 #GHz "
   ]
  },
  {
   "cell_type": "code",
   "execution_count": 12,
   "id": "d1a11f24",
   "metadata": {},
   "outputs": [],
   "source": [
    "# qutrit sigma_x control \n",
    "X_control = 0.5*sigma_x_10 + 0.5*np.sqrt(2)*sigma_x_21\n",
    "\n",
    "# qutrit sigma_y control \n",
    "Y_control = 0.5*sigma_y_10 + 0.5*np.sqrt(2)*sigma_y_21\n",
    "\n",
    "control_ops = np.array([X_control,Y_control])\n",
    "\n",
    "# leakage operator (always on)\n",
    "drift = anharmonicity*P_22"
   ]
  },
  {
   "cell_type": "markdown",
   "id": "f818aaa7",
   "metadata": {},
   "source": [
    "### Initial Slepian (DPSS) controls pulses "
   ]
  },
  {
   "cell_type": "code",
   "execution_count": 110,
   "id": "cb3982a6",
   "metadata": {},
   "outputs": [],
   "source": [
    "N = 256\n",
    "W = 0.025\n",
    "num_basis_functions = 8\n",
    "\n",
    "# pulse duration \n",
    "tau = 1.\n",
    "\n",
    "# pixel width\n",
    "dt = tau/N #0.22222 ns\n",
    "\n",
    "# Slepians\n",
    "V = np.array(dpss(N,N*W,num_basis_functions).T)\n",
    "\n",
    "# random coefficients\n",
    "alpha_init  = onp.random.rand(V.shape[1],2)\n",
    "\n",
    "# Initial controls\n",
    "Omega = V.dot(alpha_init)"
   ]
  },
  {
   "cell_type": "code",
   "execution_count": 111,
   "id": "ac6e74d5",
   "metadata": {},
   "outputs": [
    {
     "data": {
      "image/png": "[encoded data removed]",
      "text/plain": [
       "<Figure size 432x288 with 1 Axes>"
      ]
     },
     "metadata": {
      "needs_background": "light"
     },
     "output_type": "display_data"
    }
   ],
   "source": [
    "plt.plot(Omega[:,0], label='$\\Omega_x$');\n",
    "plt.plot(Omega[:,1], label='$\\Omega_y$');\n",
    "\n",
    "plt.legend(fontsize=16);"
   ]
  },
  {
   "cell_type": "code",
   "execution_count": 112,
   "id": "cc868c43",
   "metadata": {},
   "outputs": [],
   "source": [
    "@jit\n",
    "def U_t(alpha):\n",
    "    #update controls\n",
    "    Omega = V.dot(alpha)\n",
    "    \n",
    "    #update controlled Hamiltonian\n",
    "    H_Omega = np.tensordot(Omega,control_ops,1)\n",
    "    H_t = drift + H_Omega\n",
    "    \n",
    "    #compute time-slot propagators\n",
    "    U_t = np.flip(vmap(expm)(-1j*dt*H_t), axis=0)\n",
    "    return U_t\n",
    "\n",
    "@jit\n",
    "def U_final(U_t):\n",
    "    def ddot(carry, in_array):\n",
    "        return (np.matmul(carry,in_array), carry)\n",
    "    return lax.scan(ddot, np.eye(3).astype(np.complex64), U_t)[0]\n"
   ]
  },
  {
   "cell_type": "markdown",
   "id": "71a83def",
   "metadata": {},
   "source": [
    "### First order gradient of exponential\n",
    "\n",
    "$$\n",
    "\\large{\\frac{\\partial U_T}{\\partial \\Omega_{j}} \\approx-i \\Delta t H_{j} e^{-i \\Delta t H_{t}}}\n",
    "$$"
   ]
  },
  {
   "cell_type": "code",
   "execution_count": 113,
   "id": "a22c3171",
   "metadata": {},
   "outputs": [],
   "source": [
    "def partial_U_t(UU):\n",
    "    return np.array([np.matmul(-1j*dt*X_control,UU), np.matmul(-1j*dt*Y_control,UU)])"
   ]
  },
  {
   "cell_type": "code",
   "execution_count": 114,
   "id": "cd951766",
   "metadata": {},
   "outputs": [],
   "source": [
    "def partial_U_T(alpha):\n",
    "    \n",
    "    partial_X = [] \n",
    "    partial_Y = [] \n",
    "    \n",
    "    Omega = V.dot(alpha)\n",
    "    H_Omega = onp.tensordot(Omega,control_ops,1)\n",
    "    H_t = drift + H_Omega\n",
    "\n",
    "    UU = U_t(alpha)\n",
    "    dUUdt = partial_U_t(UU)\n",
    "    \n",
    "    U_k_to_0 = np.eye(3)\n",
    "    U_n_to_k = U_final(UU)\n",
    "    \n",
    "    for k in range(N-1,-1,-1):\n",
    "        # 'remove' UU(k) from product by post-multiplying by \n",
    "        U_n_to_k = U_n_to_k.dot(UU[k].T.conj())\n",
    "        partial_X.append(np.dot(U_n_to_k, dUUdt[0,k]).dot(U_k_to_0))\n",
    "        partial_Y.append(np.dot(U_n_to_k, dUUdt[1,k]).dot(U_k_to_0))\n",
    "\n",
    "        # add UU(k) to U_k_to_0\n",
    "        U_k_to_0 = UU[k].dot(U_k_to_0)\n",
    "    \n",
    "    return np.array([partial_X, partial_Y])"
   ]
  },
  {
   "cell_type": "code",
   "execution_count": 115,
   "id": "3250bfc8",
   "metadata": {},
   "outputs": [],
   "source": [
    "pp = partial_U_T(alpha_init)"
   ]
  },
  {
   "cell_type": "code",
   "execution_count": 116,
   "id": "7846bdb8",
   "metadata": {},
   "outputs": [],
   "source": [
    "def loss_phase_inv(alpha_ravel):\n",
    "    alpha = alpha_ravel.reshape(alpha_init.shape, order='F')\n",
    "    U_f = U_final(U_t(alpha))\n",
    "    return 1. - (1./3.)*np.abs(np.trace(TARGET.T.conj().dot(U_f)))\n",
    "\n",
    "def loss_phase_inv_onp(alpha_ravel):\n",
    "    return onp.array(loss_phase_inv(alpha_ravel),dtype=onp.float64)\n",
    "\n",
    "def grad_loss_phase_inv(alpha_ravel):\n",
    "    alpha = alpha_ravel.reshape(alpha_init.shape, order='F')\n",
    "    U_f = U_final(U_t(alpha))\n",
    "    fid = np.trace(TARGET.T.conj().dot(U_f))\n",
    "\n",
    "    partial_alpha = np.tensordot(V,partial_U_T(alpha), [[0],[1]])\n",
    "    grad_alpha = (-1./3.)*np.real(np.exp(-1j * np.angle(fid))*np.trace(np.matmul(TARGET.T.conj(),partial_alpha), axis1=2, axis2=3)) \n",
    "    return grad_alpha.ravel(order='F')\n",
    "\n",
    "def grad_loss_phase_inv_onp(alpha_ravel):\n",
    "    return onp.array(grad_loss(alpha_ravel), dtype=onp.float64)\n",
    "\n",
    "def loss(alpha_ravel):\n",
    "    alpha = alpha_ravel.reshape(alpha_init.shape, order='F')\n",
    "    U_f = U_final(U_t(alpha))\n",
    "    return 1. - (1./3.)*np.real(np.trace(TARGET.T.conj().dot(U_f)))\n",
    "\n",
    "def loss_onp(alpha_ravel):\n",
    "    return onp.array(loss(alpha_ravel),dtype=onp.float64)"
   ]
  },
  {
   "cell_type": "code",
   "execution_count": 117,
   "id": "cb8fbc83",
   "metadata": {},
   "outputs": [],
   "source": [
    "def grad_loss(alpha_ravel):\n",
    "    alpha = alpha_ravel.reshape(alpha_init.shape, order='F')\n",
    "    partial_alpha = np.tensordot(V,partial_U_T(alpha), [[0],[1]])\n",
    "    grad_alpha = (-1./3.)*np.real(np.trace(np.matmul(TARGET.T.conj(),partial_alpha), axis1=2, axis2=3)) \n",
    "    return grad_alpha.ravel(order='F')\n",
    "\n",
    "def grad_loss_onp(alpha_ravel):\n",
    "    return onp.array(grad_loss(alpha_ravel), dtype=onp.float64)"
   ]
  },
  {
   "cell_type": "code",
   "execution_count": 118,
   "id": "4137b55c",
   "metadata": {},
   "outputs": [
    {
     "data": {
      "text/plain": [
       "0.010131614739382193"
      ]
     },
     "execution_count": 118,
     "metadata": {},
     "output_type": "execute_result"
    }
   ],
   "source": [
    "opt.check_grad(loss_phase_inv_onp, grad_loss_phase_inv_onp, alpha_init.ravel(order='F'))\n",
    "#opt.check_grad(loss_onp, grad_loss_onp, alpha_init.ravel(order='F'))"
   ]
  },
  {
   "cell_type": "code",
   "execution_count": 86,
   "id": "5aa925aa",
   "metadata": {},
   "outputs": [],
   "source": [
    "TOL=1e-12\n",
    "GTOL=1e-12\n",
    "max_iters=500\n",
    "opt_trust_region = {'maxiter':max_iters,\n",
    "                    'verbose':2,'gtol':GTOL,\n",
    "                    'xtol':TOL}"
   ]
  },
  {
   "cell_type": "code",
   "execution_count": 87,
   "id": "b076b4ce",
   "metadata": {},
   "outputs": [
    {
     "data": {
      "text/plain": [
       "DeviceArray(0.8688947, dtype=float32)"
      ]
     },
     "execution_count": 87,
     "metadata": {},
     "output_type": "execute_result"
    }
   ],
   "source": [
    "# jit compilation ... may take a bit\n",
    "loss(alpha_init.ravel())"
   ]
  },
  {
   "cell_type": "code",
   "execution_count": 88,
   "id": "1e681186",
   "metadata": {},
   "outputs": [
    {
     "name": "stdout",
     "output_type": "stream",
     "text": [
      "[[1.        -0.j         0.        -0.j         0.        -0.j        ]\n",
      " [0.        -0.j         0.5403023 +0.j         0.        -0.84147096j]\n",
      " [0.        +0.j         0.        -0.8414711j  0.54030234+0.j        ]]\n"
     ]
    }
   ],
   "source": [
    "TARGET = expm(-1j*su_3_basis()[5])\n",
    "print(TARGET)"
   ]
  },
  {
   "cell_type": "code",
   "execution_count": null,
   "id": "584b8e99",
   "metadata": {},
   "outputs": [
    {
     "name": "stdout",
     "output_type": "stream",
     "text": [
      "| niter |f evals|CG iter|  obj func   |tr radius |   opt    |  c viol  |\n",
      "|-------|-------|-------|-------------|----------|----------|----------|\n",
      "|   1   |   1   |   0   | +5.6626e-01 | 1.00e+00 | 6.62e-03 | 0.00e+00 |\n",
      "|   2   |   2   |   1   | +5.5005e-01 | 7.00e+00 | 6.28e-03 | 0.00e+00 |\n",
      "|   3   |   3   |   3   | +4.3967e-01 | 4.90e+01 | 3.81e-03 | 0.00e+00 |\n",
      "|   4   |   4   |   4   | +4.2059e-01 | 4.90e+01 | 9.15e-03 | 0.00e+00 |\n",
      "|   5   |   5   |   5   | +4.2059e-01 | 2.45e+01 | 9.15e-03 | 0.00e+00 |\n",
      "|   6   |   6   |   6   | +1.0155e-01 | 1.72e+02 | 1.05e-03 | 0.00e+00 |\n",
      "|   7   |   7   |   7   | +1.0155e-01 | 5.90e+01 | 1.05e-03 | 0.00e+00 |\n",
      "|   8   |   8   |   8   | +1.0155e-01 | 5.90e+00 | 1.05e-03 | 0.00e+00 |\n",
      "|   9   |   9   |   9   | +1.0155e-01 | 2.95e+00 | 1.05e-03 | 0.00e+00 |\n",
      "|  10   |  10   |  10   | +9.9821e-02 | 5.90e+00 | 6.08e-04 | 0.00e+00 |\n",
      "|  11   |  11   |  12   | +9.9821e-02 | 2.06e+00 | 6.08e-04 | 0.00e+00 |\n",
      "|  12   |  12   |  14   | +9.9307e-02 | 1.44e+01 | 3.80e-04 | 0.00e+00 |\n",
      "|  13   |  13   |  15   | +9.9307e-02 | 2.91e+00 | 3.80e-04 | 0.00e+00 |\n",
      "|  14   |  14   |  16   | +9.9307e-02 | 1.45e+00 | 3.80e-04 | 0.00e+00 |\n",
      "|  15   |  15   |  17   | +9.9051e-02 | 1.45e+00 | 3.37e-04 | 0.00e+00 |\n",
      "|  16   |  16   |  18   | +9.8641e-02 | 2.91e+00 | 2.80e-04 | 0.00e+00 |\n",
      "|  17   |  17   |  19   | +9.8641e-02 | 1.45e+00 | 2.80e-04 | 0.00e+00 |\n",
      "|  18   |  18   |  20   | +9.8252e-02 | 2.91e+00 | 2.98e-04 | 0.00e+00 |\n",
      "|  19   |  19   |  21   | +9.8252e-02 | 1.45e+00 | 2.98e-04 | 0.00e+00 |\n",
      "|  20   |  20   |  22   | +9.7868e-02 | 2.91e+00 | 2.63e-04 | 0.00e+00 |\n",
      "|  21   |  21   |  27   | +9.7375e-02 | 5.81e+00 | 3.81e-04 | 0.00e+00 |\n",
      "|  22   |  22   |  28   | +9.7375e-02 | 2.18e+00 | 3.81e-04 | 0.00e+00 |\n",
      "|  23   |  23   |  29   | +9.7375e-02 | 1.09e+00 | 3.81e-04 | 0.00e+00 |\n",
      "|  24   |  24   |  30   | +9.6841e-02 | 1.09e+00 | 1.87e-04 | 0.00e+00 |\n",
      "|  25   |  25   |  31   | +9.6645e-02 | 1.09e+00 | 2.57e-04 | 0.00e+00 |\n",
      "|  26   |  26   |  32   | +9.6342e-02 | 1.09e+00 | 2.41e-04 | 0.00e+00 |\n",
      "|  27   |  27   |  33   | +9.6178e-02 | 1.09e+00 | 2.70e-04 | 0.00e+00 |\n",
      "|  28   |  28   |  34   | +9.5896e-02 | 1.09e+00 | 2.54e-04 | 0.00e+00 |\n",
      "|  29   |  29   |  35   | +9.5756e-02 | 1.09e+00 | 2.67e-04 | 0.00e+00 |\n",
      "|  30   |  30   |  36   | +9.5492e-02 | 1.09e+00 | 2.53e-04 | 0.00e+00 |\n",
      "|  31   |  31   |  37   | +9.5373e-02 | 1.09e+00 | 2.64e-04 | 0.00e+00 |\n",
      "|  32   |  32   |  38   | +9.5122e-02 | 1.09e+00 | 2.52e-04 | 0.00e+00 |\n",
      "|  33   |  33   |  39   | +9.5019e-02 | 1.09e+00 | 2.61e-04 | 0.00e+00 |\n",
      "|  34   |  34   |  41   | +9.4888e-02 | 1.09e+00 | 2.32e-04 | 0.00e+00 |\n",
      "|  35   |  35   |  42   | +9.4683e-02 | 1.09e+00 | 2.45e-04 | 0.00e+00 |\n",
      "|  36   |  36   |  43   | +9.4454e-02 | 1.09e+00 | 2.32e-04 | 0.00e+00 |\n",
      "|  37   |  37   |  44   | +9.4355e-02 | 1.09e+00 | 2.49e-04 | 0.00e+00 |\n",
      "|  38   |  38   |  46   | +9.4184e-02 | 1.09e+00 | 2.12e-04 | 0.00e+00 |\n",
      "|  39   |  39   |  47   | +9.4059e-02 | 1.09e+00 | 2.23e-04 | 0.00e+00 |\n",
      "|  40   |  40   |  48   | +9.3842e-02 | 1.09e+00 | 2.18e-04 | 0.00e+00 |\n",
      "|  41   |  41   |  49   | +9.3766e-02 | 1.09e+00 | 2.30e-04 | 0.00e+00 |\n",
      "|  42   |  42   |  51   | +9.3554e-02 | 1.09e+00 | 2.45e-04 | 0.00e+00 |\n",
      "|  43   |  43   |  52   | +9.3487e-02 | 1.09e+00 | 2.52e-04 | 0.00e+00 |\n",
      "|  44   |  44   |  53   | +9.3263e-02 | 1.09e+00 | 2.52e-04 | 0.00e+00 |\n",
      "|  45   |  45   |  54   | +9.3207e-02 | 1.09e+00 | 2.60e-04 | 0.00e+00 |\n",
      "|  46   |  46   |  55   | +9.2987e-02 | 1.09e+00 | 2.57e-04 | 0.00e+00 |\n",
      "|  47   |  47   |  56   | +9.2932e-02 | 1.09e+00 | 2.67e-04 | 0.00e+00 |\n",
      "|  48   |  48   |  57   | +9.2715e-02 | 1.09e+00 | 2.60e-04 | 0.00e+00 |\n",
      "|  49   |  49   |  59   | +9.2715e-02 | 5.44e-01 | 2.60e-04 | 0.00e+00 |\n",
      "|  50   |  50   |  61   | +9.2577e-02 | 5.44e-01 | 1.33e-04 | 0.00e+00 |\n",
      "|  51   |  51   |  62   | +9.2428e-02 | 5.44e-01 | 1.33e-04 | 0.00e+00 |\n",
      "|  52   |  52   |  63   | +9.2291e-02 | 5.44e-01 | 1.33e-04 | 0.00e+00 |\n",
      "|  53   |  53   |  64   | +9.2155e-02 | 5.44e-01 | 1.31e-04 | 0.00e+00 |\n",
      "|  54   |  54   |  65   | +9.2019e-02 | 5.44e-01 | 1.31e-04 | 0.00e+00 |\n",
      "|  55   |  55   |  66   | +9.1883e-02 | 5.44e-01 | 1.28e-04 | 0.00e+00 |\n",
      "|  56   |  56   |  67   | +9.1746e-02 | 5.44e-01 | 1.29e-04 | 0.00e+00 |\n",
      "|  57   |  57   |  68   | +9.1609e-02 | 5.44e-01 | 1.26e-04 | 0.00e+00 |\n",
      "|  58   |  58   |  69   | +9.1473e-02 | 5.44e-01 | 1.27e-04 | 0.00e+00 |\n",
      "|  59   |  59   |  70   | +9.1336e-02 | 5.44e-01 | 1.24e-04 | 0.00e+00 |\n",
      "|  60   |  60   |  71   | +9.1200e-02 | 5.44e-01 | 1.25e-04 | 0.00e+00 |\n",
      "|  61   |  61   |  72   | +9.1062e-02 | 5.44e-01 | 1.21e-04 | 0.00e+00 |\n",
      "|  62   |  62   |  73   | +9.0926e-02 | 5.44e-01 | 1.23e-04 | 0.00e+00 |\n",
      "|  63   |  63   |  74   | +9.0790e-02 | 5.44e-01 | 1.19e-04 | 0.00e+00 |\n",
      "|  64   |  64   |  75   | +9.0655e-02 | 5.44e-01 | 1.21e-04 | 0.00e+00 |\n",
      "|  65   |  65   |  76   | +9.0518e-02 | 5.44e-01 | 1.16e-04 | 0.00e+00 |\n",
      "|  66   |  66   |  78   | +9.0516e-02 | 5.44e-01 | 1.36e-04 | 0.00e+00 |\n",
      "|  67   |  67   |  79   | +9.0305e-02 | 5.44e-01 | 1.29e-04 | 0.00e+00 |\n",
      "|  68   |  68   |  80   | +9.0147e-02 | 5.44e-01 | 1.29e-04 | 0.00e+00 |\n",
      "|  69   |  69   |  81   | +9.0027e-02 | 5.44e-01 | 1.31e-04 | 0.00e+00 |\n",
      "|  70   |  70   |  82   | +8.9887e-02 | 5.44e-01 | 1.30e-04 | 0.00e+00 |\n",
      "|  71   |  71   |  83   | +8.9769e-02 | 5.44e-01 | 1.29e-04 | 0.00e+00 |\n",
      "|  72   |  72   |  84   | +8.9632e-02 | 5.44e-01 | 1.31e-04 | 0.00e+00 |\n",
      "|  73   |  73   |  85   | +8.9515e-02 | 5.44e-01 | 1.28e-04 | 0.00e+00 |\n",
      "|  74   |  74   |  86   | +8.9381e-02 | 5.44e-01 | 1.32e-04 | 0.00e+00 |\n",
      "|  75   |  75   |  87   | +8.9268e-02 | 5.44e-01 | 1.26e-04 | 0.00e+00 |\n",
      "|  76   |  76   |  88   | +8.9136e-02 | 5.44e-01 | 1.33e-04 | 0.00e+00 |\n",
      "|  77   |  77   |  89   | +8.9025e-02 | 5.44e-01 | 1.25e-04 | 0.00e+00 |\n",
      "|  78   |  78   |  90   | +8.8896e-02 | 5.44e-01 | 1.34e-04 | 0.00e+00 |\n",
      "|  79   |  79   |  91   | +8.8790e-02 | 5.44e-01 | 1.24e-04 | 0.00e+00 |\n",
      "|  80   |  80   |  92   | +8.8663e-02 | 5.44e-01 | 1.36e-04 | 0.00e+00 |\n",
      "|  81   |  81   |  93   | +8.8560e-02 | 5.44e-01 | 1.23e-04 | 0.00e+00 |\n",
      "|  82   |  82   |  94   | +8.8439e-02 | 5.44e-01 | 1.37e-04 | 0.00e+00 |\n",
      "|  83   |  83   |  95   | +8.8340e-02 | 5.44e-01 | 1.22e-04 | 0.00e+00 |\n",
      "|  84   |  84   |  96   | +8.8222e-02 | 5.44e-01 | 1.39e-04 | 0.00e+00 |\n",
      "|  85   |  85   |  97   | +8.8128e-02 | 5.44e-01 | 1.25e-04 | 0.00e+00 |\n",
      "|  86   |  86   |  98   | +8.8014e-02 | 5.44e-01 | 1.40e-04 | 0.00e+00 |\n",
      "|  87   |  87   |  99   | +8.7925e-02 | 5.44e-01 | 1.30e-04 | 0.00e+00 |\n",
      "|  88   |  88   |  100  | +8.7816e-02 | 5.44e-01 | 1.40e-04 | 0.00e+00 |\n",
      "|  89   |  89   |  101  | +8.7730e-02 | 5.44e-01 | 1.35e-04 | 0.00e+00 |\n",
      "|  90   |  90   |  102  | +8.7626e-02 | 5.44e-01 | 1.41e-04 | 0.00e+00 |\n",
      "|  91   |  91   |  103  | +8.7545e-02 | 5.44e-01 | 1.39e-04 | 0.00e+00 |\n",
      "|  92   |  92   |  105  | +8.7487e-02 | 5.44e-01 | 1.16e-04 | 0.00e+00 |\n",
      "|  93   |  93   |  106  | +8.7349e-02 | 5.44e-01 | 1.15e-04 | 0.00e+00 |\n",
      "|  94   |  94   |  107  | +8.7252e-02 | 5.44e-01 | 1.30e-04 | 0.00e+00 |\n",
      "|  95   |  95   |  108  | +8.7174e-02 | 5.44e-01 | 1.41e-04 | 0.00e+00 |\n",
      "|  96   |  96   |  109  | +8.7088e-02 | 5.44e-01 | 1.39e-04 | 0.00e+00 |\n",
      "|  97   |  97   |  110  | +8.7016e-02 | 5.44e-01 | 1.50e-04 | 0.00e+00 |\n",
      "|  98   |  98   |  111  | +8.6936e-02 | 5.44e-01 | 1.39e-04 | 0.00e+00 |\n",
      "|  99   |  99   |  112  | +8.6867e-02 | 5.44e-01 | 1.54e-04 | 0.00e+00 |\n",
      "|  100  |  100  |  113  | +8.6790e-02 | 5.44e-01 | 1.39e-04 | 0.00e+00 |\n",
      "|  101  |  101  |  114  | +8.6726e-02 | 5.44e-01 | 1.57e-04 | 0.00e+00 |\n",
      "|  102  |  102  |  115  | +8.6653e-02 | 5.44e-01 | 1.38e-04 | 0.00e+00 |\n",
      "|  103  |  103  |  116  | +8.6591e-02 | 5.44e-01 | 1.59e-04 | 0.00e+00 |\n",
      "|  104  |  104  |  117  | +8.6525e-02 | 5.44e-01 | 1.37e-04 | 0.00e+00 |\n",
      "|  105  |  105  |  118  | +8.6464e-02 | 5.44e-01 | 1.61e-04 | 0.00e+00 |\n",
      "|  106  |  106  |  119  | +8.6401e-02 | 5.44e-01 | 1.36e-04 | 0.00e+00 |\n",
      "|  107  |  107  |  120  | +8.6343e-02 | 5.44e-01 | 1.63e-04 | 0.00e+00 |\n",
      "|  108  |  108  |  121  | +8.6284e-02 | 5.44e-01 | 1.34e-04 | 0.00e+00 |\n",
      "|  109  |  109  |  122  | +8.6229e-02 | 5.44e-01 | 1.65e-04 | 0.00e+00 |\n",
      "|  110  |  110  |  123  | +8.6173e-02 | 5.44e-01 | 1.33e-04 | 0.00e+00 |\n",
      "|  111  |  111  |  124  | +8.6119e-02 | 5.44e-01 | 1.66e-04 | 0.00e+00 |\n"
     ]
    },
    {
     "name": "stdout",
     "output_type": "stream",
     "text": [
      "|  112  |  112  |  125  | +8.6067e-02 | 5.44e-01 | 1.33e-04 | 0.00e+00 |\n",
      "|  113  |  113  |  126  | +8.6015e-02 | 5.44e-01 | 1.67e-04 | 0.00e+00 |\n",
      "|  114  |  114  |  127  | +8.5966e-02 | 5.44e-01 | 1.33e-04 | 0.00e+00 |\n",
      "|  115  |  115  |  128  | +8.5916e-02 | 5.44e-01 | 1.68e-04 | 0.00e+00 |\n",
      "|  116  |  116  |  129  | +8.5869e-02 | 5.44e-01 | 1.33e-04 | 0.00e+00 |\n",
      "|  117  |  117  |  130  | +8.5820e-02 | 5.44e-01 | 1.69e-04 | 0.00e+00 |\n",
      "|  118  |  118  |  131  | +8.5777e-02 | 5.44e-01 | 1.33e-04 | 0.00e+00 |\n",
      "|  119  |  119  |  132  | +8.5729e-02 | 5.44e-01 | 1.69e-04 | 0.00e+00 |\n",
      "|  120  |  120  |  133  | +8.5687e-02 | 5.44e-01 | 1.33e-04 | 0.00e+00 |\n",
      "|  121  |  121  |  134  | +8.5640e-02 | 5.44e-01 | 1.70e-04 | 0.00e+00 |\n",
      "|  122  |  122  |  136  | +8.5565e-02 | 5.44e-01 | 9.23e-05 | 0.00e+00 |\n",
      "|  123  |  123  |  137  | +8.5498e-02 | 5.44e-01 | 1.44e-04 | 0.00e+00 |\n",
      "|  124  |  124  |  138  | +8.5475e-02 | 5.44e-01 | 1.37e-04 | 0.00e+00 |\n",
      "|  125  |  125  |  139  | +8.5426e-02 | 5.44e-01 | 1.66e-04 | 0.00e+00 |\n",
      "|  126  |  126  |  140  | +8.5393e-02 | 5.44e-01 | 1.33e-04 | 0.00e+00 |\n",
      "|  127  |  127  |  141  | +8.5349e-02 | 5.44e-01 | 1.69e-04 | 0.00e+00 |\n",
      "|  128  |  128  |  142  | +8.5316e-02 | 5.44e-01 | 1.32e-04 | 0.00e+00 |\n",
      "|  129  |  129  |  143  | +8.5274e-02 | 5.44e-01 | 1.70e-04 | 0.00e+00 |\n",
      "|  130  |  130  |  144  | +8.5242e-02 | 5.44e-01 | 1.32e-04 | 0.00e+00 |\n",
      "|  131  |  131  |  145  | +8.5201e-02 | 5.44e-01 | 1.70e-04 | 0.00e+00 |\n",
      "|  132  |  132  |  146  | +8.5170e-02 | 5.44e-01 | 1.32e-04 | 0.00e+00 |\n",
      "|  133  |  133  |  147  | +8.5129e-02 | 5.44e-01 | 1.70e-04 | 0.00e+00 |\n",
      "|  134  |  134  |  148  | +8.5100e-02 | 5.44e-01 | 1.31e-04 | 0.00e+00 |\n",
      "|  135  |  135  |  149  | +8.5060e-02 | 5.44e-01 | 1.70e-04 | 0.00e+00 |\n",
      "|  136  |  136  |  150  | +8.5032e-02 | 5.44e-01 | 1.31e-04 | 0.00e+00 |\n",
      "|  137  |  137  |  151  | +8.4992e-02 | 5.44e-01 | 1.69e-04 | 0.00e+00 |\n",
      "|  138  |  138  |  152  | +8.4965e-02 | 5.44e-01 | 1.30e-04 | 0.00e+00 |\n",
      "|  139  |  139  |  153  | +8.4927e-02 | 5.44e-01 | 1.69e-04 | 0.00e+00 |\n",
      "|  140  |  140  |  154  | +8.4901e-02 | 5.44e-01 | 1.30e-04 | 0.00e+00 |\n",
      "|  141  |  141  |  155  | +8.4862e-02 | 5.44e-01 | 1.69e-04 | 0.00e+00 |\n",
      "|  142  |  142  |  156  | +8.4837e-02 | 5.44e-01 | 1.29e-04 | 0.00e+00 |\n",
      "|  143  |  143  |  157  | +8.4799e-02 | 5.44e-01 | 1.68e-04 | 0.00e+00 |\n",
      "|  144  |  144  |  158  | +8.4775e-02 | 5.44e-01 | 1.29e-04 | 0.00e+00 |\n",
      "|  145  |  145  |  159  | +8.4740e-02 | 5.44e-01 | 1.68e-04 | 0.00e+00 |\n",
      "|  146  |  146  |  160  | +8.4715e-02 | 5.44e-01 | 1.28e-04 | 0.00e+00 |\n",
      "|  147  |  147  |  161  | +8.4679e-02 | 5.44e-01 | 1.68e-04 | 0.00e+00 |\n",
      "|  148  |  148  |  162  | +8.4657e-02 | 5.44e-01 | 1.27e-04 | 0.00e+00 |\n",
      "|  149  |  149  |  163  | +8.4621e-02 | 5.44e-01 | 1.67e-04 | 0.00e+00 |\n",
      "|  150  |  150  |  164  | +8.4598e-02 | 5.44e-01 | 1.27e-04 | 0.00e+00 |\n",
      "|  151  |  151  |  165  | +8.4565e-02 | 5.44e-01 | 1.67e-04 | 0.00e+00 |\n",
      "|  152  |  152  |  166  | +8.4542e-02 | 5.44e-01 | 1.26e-04 | 0.00e+00 |\n",
      "|  153  |  153  |  167  | +8.4509e-02 | 5.44e-01 | 1.67e-04 | 0.00e+00 |\n",
      "|  154  |  154  |  168  | +8.4488e-02 | 5.44e-01 | 1.26e-04 | 0.00e+00 |\n",
      "|  155  |  155  |  169  | +8.4454e-02 | 5.44e-01 | 1.66e-04 | 0.00e+00 |\n",
      "|  156  |  156  |  170  | +8.4434e-02 | 5.44e-01 | 1.25e-04 | 0.00e+00 |\n",
      "|  157  |  157  |  171  | +8.4402e-02 | 5.44e-01 | 1.66e-04 | 0.00e+00 |\n",
      "|  158  |  158  |  172  | +8.4382e-02 | 5.44e-01 | 1.25e-04 | 0.00e+00 |\n",
      "|  159  |  159  |  173  | +8.4350e-02 | 5.44e-01 | 1.65e-04 | 0.00e+00 |\n",
      "|  160  |  160  |  174  | +8.4331e-02 | 5.44e-01 | 1.24e-04 | 0.00e+00 |\n",
      "|  161  |  161  |  175  | +8.4300e-02 | 5.44e-01 | 1.65e-04 | 0.00e+00 |\n",
      "|  162  |  162  |  176  | +8.4280e-02 | 5.44e-01 | 1.24e-04 | 0.00e+00 |\n",
      "|  163  |  163  |  177  | +8.4250e-02 | 5.44e-01 | 1.64e-04 | 0.00e+00 |\n",
      "|  164  |  164  |  178  | +8.4231e-02 | 5.44e-01 | 1.23e-04 | 0.00e+00 |\n",
      "|  165  |  165  |  179  | +8.4201e-02 | 5.44e-01 | 1.64e-04 | 0.00e+00 |\n",
      "|  166  |  166  |  180  | +8.4183e-02 | 5.44e-01 | 1.23e-04 | 0.00e+00 |\n",
      "|  167  |  167  |  181  | +8.4154e-02 | 5.44e-01 | 1.64e-04 | 0.00e+00 |\n",
      "|  168  |  168  |  182  | +8.4136e-02 | 5.44e-01 | 1.22e-04 | 0.00e+00 |\n",
      "|  169  |  169  |  183  | +8.4108e-02 | 5.44e-01 | 1.63e-04 | 0.00e+00 |\n",
      "|  170  |  170  |  184  | +8.4091e-02 | 5.44e-01 | 1.22e-04 | 0.00e+00 |\n",
      "|  171  |  171  |  185  | +8.4063e-02 | 5.44e-01 | 1.63e-04 | 0.00e+00 |\n",
      "|  172  |  172  |  186  | +8.4046e-02 | 5.44e-01 | 1.21e-04 | 0.00e+00 |\n",
      "|  173  |  173  |  187  | +8.4018e-02 | 5.44e-01 | 1.62e-04 | 0.00e+00 |\n",
      "|  174  |  174  |  188  | +8.4002e-02 | 5.44e-01 | 1.21e-04 | 0.00e+00 |\n",
      "|  175  |  175  |  189  | +8.3974e-02 | 5.44e-01 | 1.62e-04 | 0.00e+00 |\n",
      "|  176  |  176  |  190  | +8.3959e-02 | 5.44e-01 | 1.20e-04 | 0.00e+00 |\n",
      "|  177  |  177  |  191  | +8.3933e-02 | 5.44e-01 | 1.62e-04 | 0.00e+00 |\n",
      "|  178  |  178  |  192  | +8.3917e-02 | 5.44e-01 | 1.20e-04 | 0.00e+00 |\n",
      "|  179  |  179  |  193  | +8.3891e-02 | 5.44e-01 | 1.61e-04 | 0.00e+00 |\n",
      "|  180  |  180  |  194  | +8.3876e-02 | 5.44e-01 | 1.20e-04 | 0.00e+00 |\n",
      "|  181  |  181  |  195  | +8.3851e-02 | 5.44e-01 | 1.61e-04 | 0.00e+00 |\n",
      "|  182  |  182  |  196  | +8.3836e-02 | 5.44e-01 | 1.19e-04 | 0.00e+00 |\n",
      "|  183  |  183  |  197  | +8.3810e-02 | 5.44e-01 | 1.60e-04 | 0.00e+00 |\n",
      "|  184  |  184  |  198  | +8.3796e-02 | 5.44e-01 | 1.19e-04 | 0.00e+00 |\n",
      "|  185  |  185  |  199  | +8.3772e-02 | 5.44e-01 | 1.60e-04 | 0.00e+00 |\n",
      "|  186  |  186  |  200  | +8.3757e-02 | 5.44e-01 | 1.18e-04 | 0.00e+00 |\n",
      "|  187  |  187  |  201  | +8.3733e-02 | 5.44e-01 | 1.60e-04 | 0.00e+00 |\n",
      "|  188  |  188  |  202  | +8.3720e-02 | 5.44e-01 | 1.18e-04 | 0.00e+00 |\n",
      "|  189  |  189  |  203  | +8.3696e-02 | 5.44e-01 | 1.59e-04 | 0.00e+00 |\n",
      "|  190  |  190  |  204  | +8.3683e-02 | 5.44e-01 | 1.17e-04 | 0.00e+00 |\n",
      "|  191  |  191  |  205  | +8.3659e-02 | 5.44e-01 | 1.59e-04 | 0.00e+00 |\n",
      "|  192  |  192  |  206  | +8.3646e-02 | 5.44e-01 | 1.17e-04 | 0.00e+00 |\n",
      "|  193  |  193  |  207  | +8.3623e-02 | 5.44e-01 | 1.58e-04 | 0.00e+00 |\n",
      "|  194  |  194  |  208  | +8.3611e-02 | 5.44e-01 | 1.18e-04 | 0.00e+00 |\n",
      "|  195  |  195  |  209  | +8.3588e-02 | 5.44e-01 | 1.58e-04 | 0.00e+00 |\n",
      "|  196  |  196  |  210  | +8.3575e-02 | 5.44e-01 | 1.18e-04 | 0.00e+00 |\n",
      "|  197  |  197  |  211  | +8.3553e-02 | 5.44e-01 | 1.58e-04 | 0.00e+00 |\n",
      "|  198  |  198  |  213  | +8.3553e-02 | 2.72e-01 | 1.58e-04 | 0.00e+00 |\n",
      "|  199  |  199  |  215  | +8.3510e-02 | 2.72e-01 | 4.41e-05 | 0.00e+00 |\n",
      "|  200  |  200  |  216  | +8.3476e-02 | 2.72e-01 | 4.36e-05 | 0.00e+00 |\n",
      "|  201  |  201  |  217  | +8.3452e-02 | 2.72e-01 | 4.24e-05 | 0.00e+00 |\n",
      "|  202  |  202  |  218  | +8.3428e-02 | 2.72e-01 | 4.35e-05 | 0.00e+00 |\n",
      "|  203  |  203  |  219  | +8.3412e-02 | 2.72e-01 | 4.87e-05 | 0.00e+00 |\n",
      "|  204  |  204  |  220  | +8.3391e-02 | 2.72e-01 | 5.64e-05 | 0.00e+00 |\n",
      "|  205  |  205  |  221  | +8.3378e-02 | 2.72e-01 | 5.88e-05 | 0.00e+00 |\n",
      "|  206  |  206  |  222  | +8.3358e-02 | 2.72e-01 | 5.72e-05 | 0.00e+00 |\n",
      "|  207  |  207  |  223  | +8.3345e-02 | 2.72e-01 | 5.91e-05 | 0.00e+00 |\n",
      "|  208  |  208  |  224  | +8.3325e-02 | 2.72e-01 | 5.75e-05 | 0.00e+00 |\n",
      "|  209  |  209  |  225  | +8.3313e-02 | 2.72e-01 | 5.94e-05 | 0.00e+00 |\n",
      "|  210  |  210  |  227  | +8.3296e-02 | 2.72e-01 | 6.02e-05 | 0.00e+00 |\n",
      "|  211  |  211  |  228  | +8.3283e-02 | 2.72e-01 | 5.90e-05 | 0.00e+00 |\n",
      "|  212  |  212  |  230  | +8.3263e-02 | 2.72e-01 | 5.61e-05 | 0.00e+00 |\n",
      "|  213  |  213  |  232  | +8.3261e-02 | 2.72e-01 | 4.97e-05 | 0.00e+00 |\n",
      "|  214  |  214  |  233  | +8.3233e-02 | 2.72e-01 | 5.70e-05 | 0.00e+00 |\n",
      "|  215  |  215  |  234  | +8.3222e-02 | 2.72e-01 | 5.94e-05 | 0.00e+00 |\n",
      "|  216  |  216  |  235  | +8.3201e-02 | 2.72e-01 | 5.64e-05 | 0.00e+00 |\n",
      "|  217  |  217  |  236  | +8.3191e-02 | 2.72e-01 | 5.88e-05 | 0.00e+00 |\n",
      "|  218  |  218  |  237  | +8.3172e-02 | 2.72e-01 | 5.56e-05 | 0.00e+00 |\n",
      "|  219  |  219  |  238  | +8.3162e-02 | 2.72e-01 | 5.77e-05 | 0.00e+00 |\n",
      "|  220  |  220  |  239  | +8.3143e-02 | 2.72e-01 | 5.44e-05 | 0.00e+00 |\n",
      "|  221  |  221  |  240  | +8.3133e-02 | 2.72e-01 | 5.63e-05 | 0.00e+00 |\n",
      "|  222  |  222  |  241  | +8.3115e-02 | 2.72e-01 | 5.27e-05 | 0.00e+00 |\n",
      "|  223  |  223  |  242  | +8.3105e-02 | 2.72e-01 | 5.45e-05 | 0.00e+00 |\n",
      "|  224  |  224  |  243  | +8.3087e-02 | 2.72e-01 | 5.07e-05 | 0.00e+00 |\n"
     ]
    },
    {
     "name": "stdout",
     "output_type": "stream",
     "text": [
      "|  225  |  225  |  244  | +8.3078e-02 | 2.72e-01 | 5.45e-05 | 0.00e+00 |\n",
      "|  226  |  226  |  245  | +8.3059e-02 | 2.72e-01 | 4.93e-05 | 0.00e+00 |\n",
      "|  227  |  227  |  246  | +8.3050e-02 | 2.72e-01 | 5.61e-05 | 0.00e+00 |\n",
      "|  228  |  228  |  247  | +8.3032e-02 | 2.72e-01 | 5.25e-05 | 0.00e+00 |\n",
      "|  229  |  229  |  248  | +8.3022e-02 | 2.72e-01 | 5.76e-05 | 0.00e+00 |\n",
      "|  230  |  230  |  249  | +8.3006e-02 | 2.72e-01 | 5.54e-05 | 0.00e+00 |\n",
      "|  231  |  231  |  250  | +8.2996e-02 | 2.72e-01 | 5.89e-05 | 0.00e+00 |\n",
      "|  232  |  232  |  251  | +8.2981e-02 | 2.72e-01 | 5.79e-05 | 0.00e+00 |\n",
      "|  233  |  233  |  253  | +8.2971e-02 | 2.72e-01 | 5.88e-05 | 0.00e+00 |\n",
      "|  234  |  234  |  254  | +8.2954e-02 | 2.72e-01 | 5.80e-05 | 0.00e+00 |\n",
      "|  235  |  235  |  255  | +8.2944e-02 | 2.72e-01 | 5.98e-05 | 0.00e+00 |\n",
      "|  236  |  236  |  256  | +8.2928e-02 | 2.72e-01 | 6.00e-05 | 0.00e+00 |\n",
      "|  237  |  237  |  258  | +8.2921e-02 | 2.72e-01 | 6.56e-05 | 0.00e+00 |\n",
      "|  238  |  238  |  259  | +8.2906e-02 | 2.72e-01 | 6.96e-05 | 0.00e+00 |\n",
      "|  239  |  239  |  260  | +8.2895e-02 | 2.72e-01 | 6.53e-05 | 0.00e+00 |\n",
      "|  240  |  240  |  262  | +8.2880e-02 | 2.72e-01 | 5.74e-05 | 0.00e+00 |\n",
      "|  241  |  241  |  263  | +8.2868e-02 | 2.72e-01 | 6.58e-05 | 0.00e+00 |\n",
      "|  242  |  242  |  264  | +8.2852e-02 | 2.72e-01 | 6.81e-05 | 0.00e+00 |\n",
      "|  243  |  243  |  265  | +8.2842e-02 | 2.72e-01 | 6.47e-05 | 0.00e+00 |\n",
      "|  244  |  244  |  266  | +8.2826e-02 | 2.72e-01 | 6.87e-05 | 0.00e+00 |\n",
      "|  245  |  245  |  267  | +8.2817e-02 | 2.72e-01 | 6.44e-05 | 0.00e+00 |\n",
      "|  246  |  246  |  268  | +8.2802e-02 | 2.72e-01 | 6.88e-05 | 0.00e+00 |\n",
      "|  247  |  247  |  270  | +8.2786e-02 | 2.72e-01 | 5.19e-05 | 0.00e+00 |\n",
      "|  248  |  248  |  271  | +8.2781e-02 | 2.72e-01 | 6.88e-05 | 0.00e+00 |\n",
      "|  249  |  249  |  272  | +8.2771e-02 | 2.72e-01 | 6.38e-05 | 0.00e+00 |\n",
      "|  250  |  250  |  273  | +8.2757e-02 | 2.72e-01 | 6.87e-05 | 0.00e+00 |\n",
      "|  251  |  251  |  274  | +8.2746e-02 | 2.72e-01 | 6.36e-05 | 0.00e+00 |\n",
      "|  252  |  252  |  275  | +8.2732e-02 | 2.72e-01 | 6.86e-05 | 0.00e+00 |\n",
      "|  253  |  253  |  276  | +8.2722e-02 | 2.72e-01 | 6.34e-05 | 0.00e+00 |\n",
      "|  254  |  254  |  277  | +8.2707e-02 | 2.72e-01 | 6.84e-05 | 0.00e+00 |\n",
      "|  255  |  255  |  278  | +8.2697e-02 | 2.72e-01 | 6.32e-05 | 0.00e+00 |\n",
      "|  256  |  256  |  279  | +8.2683e-02 | 2.72e-01 | 6.83e-05 | 0.00e+00 |\n",
      "|  257  |  257  |  280  | +8.2673e-02 | 2.72e-01 | 6.30e-05 | 0.00e+00 |\n"
     ]
    }
   ],
   "source": [
    "rez = opt.minimize(loss_phase_inv_onp, \n",
    "                   alpha_init.ravel(order='F'),\n",
    "                   jac=grad_loss_phase_inv_onp, hess='2-point',\n",
    "                   method='trust-constr',\n",
    "                   #constraints=[], # add constraint so that max Omega < 1 for IBM AWG\n",
    "                   options=opt_trust_region,\n",
    "                   bounds=None)"
   ]
  },
  {
   "cell_type": "code",
   "execution_count": 123,
   "id": "a309d6d1",
   "metadata": {},
   "outputs": [
    {
     "data": {
      "text/plain": [
       "array([[ 27.67316549,   0.1045919 ],\n",
       "       [ -0.90599994,  -7.54229691],\n",
       "       [  7.73145221,   0.4495935 ],\n",
       "       [ -0.32608557, -14.85658232],\n",
       "       [ -6.15099388,   0.25073002],\n",
       "       [  0.73631242, -22.71406528],\n",
       "       [-23.63734468,  -0.54198692],\n",
       "       [  0.69778464, -26.10215697]])"
      ]
     },
     "execution_count": 123,
     "metadata": {},
     "output_type": "execute_result"
    }
   ],
   "source": [
    "# \"optimal\" parameters \n",
    "alpha_opt = rez.x.reshape(alpha_init.shape, order='F')\n",
    "alpha_opt"
   ]
  },
  {
   "cell_type": "code",
   "execution_count": 125,
   "id": "26db8e36",
   "metadata": {},
   "outputs": [
    {
     "data": {
      "text/plain": [
       "DeviceArray([[1.  -0.j   , 0.  -0.j   , 0.  -0.j   ],\n",
       "             [0.  -0.j   , 0.54+0.j   , 0.  -0.841j],\n",
       "             [0.  +0.j   , 0.  -0.841j, 0.54+0.j   ]], dtype=complex64)"
      ]
     },
     "execution_count": 125,
     "metadata": {},
     "output_type": "execute_result"
    }
   ],
   "source": [
    "np.round(TARGET,3)"
   ]
  },
  {
   "cell_type": "code",
   "execution_count": 129,
   "id": "f23d3ff5",
   "metadata": {},
   "outputs": [
    {
     "data": {
      "text/plain": [
       "DeviceArray([[ 0.844+0.37j ,  0.205-0.296j, -0.118-0.089j],\n",
       "             [ 0.215-0.292j,  0.449+0.479j,  0.512-0.417j],\n",
       "             [-0.111-0.088j,  0.512-0.42j ,  0.429+0.598j]],            dtype=complex64)"
      ]
     },
     "execution_count": 129,
     "metadata": {},
     "output_type": "execute_result"
    }
   ],
   "source": [
    "np.round(U_final(U_t(alpha_opt)),3)"
   ]
  },
  {
   "cell_type": "code",
   "execution_count": 142,
   "id": "fe236fa6",
   "metadata": {},
   "outputs": [
    {
     "data": {
      "text/plain": [
       "DeviceArray(1.0000001, dtype=float32)"
      ]
     },
     "execution_count": 142,
     "metadata": {},
     "output_type": "execute_result"
    }
   ],
   "source": [
    "Omega_opt = V.dot(alpha_opt)\n",
    "Omega_opt_complex = Omega_opt[:,0] + 1j*Omega_opt[:,1]\n",
    "nn = np.sqrt(Omega_opt[:,0]**2 + Omega_opt[:,1]**2)\n",
    "Omega_opt_complex_normalized = Omega_opt_complex/np.max(nn)\n",
    "nn = np.real(Omega_opt_complex_normalized)**2 + np.imag(Omega_opt_complex_normalized)**2\n",
    "\n",
    "np.max(nn)"
   ]
  },
  {
   "cell_type": "code",
   "execution_count": 143,
   "id": "b88cc712",
   "metadata": {},
   "outputs": [],
   "source": [
    "with pulse.build(backend, name='custom') as g_q0:\n",
    "    pulse.play(pulse.Waveform(Omega_opt_complex_normalized), pulse.drive_channel(0))"
   ]
  },
  {
   "cell_type": "code",
   "execution_count": 144,
   "id": "6d4aec3e",
   "metadata": {},
   "outputs": [
    {
     "data": {
      "image/png": "[encoded data removed]",
      "text/plain": [
       "<Figure size 936x214.246 with 1 Axes>"
      ]
     },
     "execution_count": 144,
     "metadata": {},
     "output_type": "execute_result"
    },
    {
     "data": {
      "image/png": "[encoded data removed]",
      "text/plain": [
       "<Figure size 936x214.246 with 1 Axes>"
      ]
     },
     "metadata": {
      "needs_background": "light"
     },
     "output_type": "display_data"
    }
   ],
   "source": [
    "g_q0.draw()"
   ]
  },
  {
   "cell_type": "code",
   "execution_count": null,
   "id": "9c344fe8",
   "metadata": {},
   "outputs": [],
   "source": []
  },
  {
   "cell_type": "code",
   "execution_count": null,
   "id": "dc7d8129",
   "metadata": {},
   "outputs": [],
   "source": []
  },
  {
   "cell_type": "code",
   "execution_count": null,
   "id": "45599b4f",
   "metadata": {},
   "outputs": [],
   "source": []
  },
  {
   "cell_type": "code",
   "execution_count": 219,
   "id": "8e22cb6f",
   "metadata": {},
   "outputs": [],
   "source": []
  },
  {
   "cell_type": "code",
   "execution_count": null,
   "id": "77e84b0d",
   "metadata": {},
   "outputs": [],
   "source": []
  }
 ],
 "metadata": {
  "kernelspec": {
   "display_name": "Python 3 (ipykernel)",
   "language": "python",
   "name": "python3"
  },
  "language_info": {
   "codemirror_mode": {
    "name": "ipython",
    "version": 3
   },
   "file_extension": ".py",
   "mimetype": "text/x-python",
   "name": "python",
   "nbconvert_exporter": "python",
   "pygments_lexer": "ipython3",
   "version": "3.9.4"
  }
 },
 "nbformat": 4,
 "nbformat_minor": 5
}
