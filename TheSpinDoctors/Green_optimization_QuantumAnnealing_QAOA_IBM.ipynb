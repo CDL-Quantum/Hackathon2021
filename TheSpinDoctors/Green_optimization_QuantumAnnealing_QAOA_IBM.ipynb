{
 "cells": [
  {
   "cell_type": "markdown",
   "metadata": {},
   "source": [
    "# QAOA mapping from the QUBO (IBM QISKIT)\n",
    "\n",
    "The most known variational algorithm for combinatorial optimization is the Quantum Approximate Optimization Algorithm (QAOA) [[1]](https://arxiv.org/abs/1411.4028). The is a hybrid algorithm, i.e. it uses both a quantum component (to compute the eigenvalue of the Hamiltonian for a given state) and a classical component to change the state for the next iteration.\n",
    "\n",
    "In the following we use the [IBM qiskit framework](https://qiskit.org/)."
   ]
  },
  {
   "cell_type": "code",
   "execution_count": 1,
   "metadata": {},
   "outputs": [],
   "source": [
    "from qiskit import BasicAer\n",
    "from qiskit.aqua import aqua_globals, QuantumInstance\n",
    "from qiskit.aqua.algorithms import QAOA, NumPyMinimumEigensolver\n",
    "from qiskit.optimization.algorithms import MinimumEigenOptimizer, RecursiveMinimumEigenOptimizer\n",
    "from qiskit.optimization import QuadraticProgram"
   ]
  },
  {
   "cell_type": "markdown",
   "metadata": {},
   "source": [
    "Here we will tackle the problfrom described in the notebook **Green_optimization_QuantumAnnealing.ipynb**. We seek the minimum function value, and corresponding configuration of variables, for that we can use the quadratic and linear terms obatained from the **qbm** model."
   ]
  },
  {
   "cell_type": "code",
   "execution_count": 1,
   "metadata": {},
   "outputs": [],
   "source": [
    "# Assume 4 steps in the schedule\n",
    "n_schedules = 4\n",
    "\n",
    "# define binary variables\n",
    "schedules = [f's_{i}' for i in range(n_schedules)]\n",
    "\n",
    "# define a syntetic load demand schedule\n",
    "demand_schedule = [15, 12, 20, 5]  \n",
    "\n",
    "\n",
    "# Gas 'g', Solar 's', Wind 'w'\n",
    "sources = ['g', 's', 'w']\n",
    "\n",
    "# define syntetic cost of usage (total operating costs)\n",
    "cost_usage = [30, 5, 10]\n",
    "\n",
    "# define the cost to switch off/on one of the energy sources\n",
    "cost_switch = [5, 1, 1]\n",
    "\n",
    "# define the carbon emission cost per kWh (proxied by cost/kWh of the Solar Renewable Energy Certificates (RECs) in US)\n",
    "cost_emission = [5, 1, 2]\n",
    "\n",
    "# define the max power generation per kWh per source and plant\n",
    "capacity = [15, 7, 10]"
   ]
  },
  {
   "cell_type": "markdown",
   "metadata": {},
   "source": [
    "We first define the QUBO problem for our case:"
   ]
  },
  {
   "cell_type": "code",
   "execution_count": 3,
   "metadata": {},
   "outputs": [],
   "source": [
    "qubo = QuadraticProgram()\n",
    "for s in schedules:\n",
    "    for alpha in sources:\n",
    "        qubo.binary_var(s+alpha)"
   ]
  },
  {
   "cell_type": "markdown",
   "metadata": {},
   "source": [
    "and use the previous information from the notebook **Green_optimization_QuantumAnnealing.ipynb**"
   ]
  },
  {
   "cell_type": "code",
   "execution_count": 4,
   "metadata": {},
   "outputs": [],
   "source": [
    "#dictinary with the variables and respective coefficients for the linear terms:\n",
    "d_linear = {'s_0g': -33225.0, 's_0s': -24060.0, 's_0w': -29820.0, 's_1g': -19830.0, \n",
    "            's_1s': -17778.0, 's_1w': -20856.0, 's_2g': -55550.0, 's_2s': -34530.0, \n",
    "            's_2w': -44760.0, 's_3g': 11425.0, 's_3s': -3120.0, 's_3w': 60.0}"
   ]
  },
  {
   "cell_type": "code",
   "execution_count": 5,
   "metadata": {},
   "outputs": [],
   "source": [
    "#dictinary with the variables and respective coefficients for the quadritic terms:\n",
    "d_quadratic = {('s_0s', 's_0g'): 31500.0, ('s_0w', 's_0g'): 45000.0, ('s_0w', 's_0s'): 21000.0, ('s_1g', 's_0s'): 6.0, \n",
    "               ('s_1g', 's_0w'): 6.0, ('s_1s', 's_0g'): 6.0, ('s_1s', 's_0w'): 2.0, ('s_1s', 's_1g'): 31500.0, \n",
    "               ('s_1w', 's_0g'): 6.0, ('s_1w', 's_0s'): 2.0, ('s_1w', 's_1g'): 45000.0, ('s_1w', 's_1s'): 21000.0, \n",
    "               ('s_2g', 's_1s'): 6.0, ('s_2g', 's_1w'): 6.0, ('s_2s', 's_1g'): 6.0, ('s_2s', 's_1w'): 2.0, \n",
    "               ('s_2s', 's_2g'): 31500.0, ('s_2w', 's_1g'): 6.0, ('s_2w', 's_1s'): 2.0, ('s_2w', 's_2g'): 45000.0, \n",
    "               ('s_2w', 's_2s'): 21000.0, ('s_3g', 's_2s'): 6.0, ('s_3g', 's_2w'): 6.0, ('s_3s', 's_2g'): 6.0, \n",
    "               ('s_3s', 's_2w'): 2.0, ('s_3s', 's_3g'): 31500.0, ('s_3w', 's_2g'): 6.0, ('s_3w', 's_2s'): 2.0, \n",
    "               ('s_3w', 's_3g'): 45000.0, ('s_3w', 's_3s'): 21000.0}"
   ]
  },
  {
   "cell_type": "code",
   "execution_count": 9,
   "metadata": {},
   "outputs": [],
   "source": [
    "qubo.minimize(linear=[v for v in d_linear.values()], \n",
    "              quadratic=d_quadratic)"
   ]
  },
  {
   "cell_type": "code",
   "execution_count": 10,
   "metadata": {},
   "outputs": [
    {
     "name": "stdout",
     "output_type": "stream",
     "text": [
      "\\ This file has been generated by DOcplex\n",
      "\\ ENCODING=ISO-8859-1\n",
      "\\Problem name: CPLEX\n",
      "\n",
      "Minimize\n",
      " obj: - 33225 s_0g - 24060 s_0s - 29820 s_0w - 19830 s_1g - 17778 s_1s\n",
      "      - 20856 s_1w - 55550 s_2g - 34530 s_2s - 44760 s_2w + 11425 s_3g\n",
      "      - 3120 s_3s + 60 s_3w + [ 63000 s_0g*s_0s + 90000 s_0g*s_0w + 12 s_0g*s_1s\n",
      "      + 12 s_0g*s_1w + 42000 s_0s*s_0w + 12 s_0s*s_1g + 4 s_0s*s_1w\n",
      "      + 12 s_0w*s_1g + 4 s_0w*s_1s + 63000 s_1g*s_1s + 90000 s_1g*s_1w\n",
      "      + 12 s_1g*s_2s + 12 s_1g*s_2w + 42000 s_1s*s_1w + 12 s_1s*s_2g\n",
      "      + 4 s_1s*s_2w + 12 s_1w*s_2g + 4 s_1w*s_2s + 63000 s_2g*s_2s\n",
      "      + 90000 s_2g*s_2w + 12 s_2g*s_3s + 12 s_2g*s_3w + 42000 s_2s*s_2w\n",
      "      + 12 s_2s*s_3g + 4 s_2s*s_3w + 12 s_2w*s_3g + 4 s_2w*s_3s\n",
      "      + 63000 s_3g*s_3s + 90000 s_3g*s_3w + 42000 s_3s*s_3w ]/2\n",
      "Subject To\n",
      "\n",
      "Bounds\n",
      " 0 <= s_0g <= 1\n",
      " 0 <= s_0s <= 1\n",
      " 0 <= s_0w <= 1\n",
      " 0 <= s_1g <= 1\n",
      " 0 <= s_1s <= 1\n",
      " 0 <= s_1w <= 1\n",
      " 0 <= s_2g <= 1\n",
      " 0 <= s_2s <= 1\n",
      " 0 <= s_2w <= 1\n",
      " 0 <= s_3g <= 1\n",
      " 0 <= s_3s <= 1\n",
      " 0 <= s_3w <= 1\n",
      "\n",
      "Binaries\n",
      " s_0g s_0s s_0w s_1g s_1s s_1w s_2g s_2s s_2w s_3g s_3s s_3w\n",
      "End\n",
      "\n"
     ]
    }
   ],
   "source": [
    "print(qubo.export_as_lp_string())"
   ]
  },
  {
   "cell_type": "markdown",
   "metadata": {},
   "source": [
    "Sometimes an QuadraticProgram might also directly be given in the form of an Operator. For such cases, Qiskit also provides a converter from an Operator back to a QuadraticProgram, which we illustrate in the following."
   ]
  },
  {
   "cell_type": "code",
   "execution_count": 11,
   "metadata": {},
   "outputs": [
    {
     "name": "stdout",
     "output_type": "stream",
     "text": [
      "offset: -38501.0\n",
      "operator:\n",
      "SummedOp([\n",
      "  -2515.5 * IIIIIIIIIIIZ,\n",
      "  -1097.0 * IIIIIIIIIIZI,\n",
      "  -1592.0 * IIIIIIIIIZII,\n",
      "  -9216.0 * IIIIIIIIZIII,\n",
      "  -4240.0 * IIIIIIIZIIII,\n",
      "  -6076.0 * IIIIIIZIIIII,\n",
      "  8644.0 * IIIIIZIIIIII,\n",
      "  4136.0 * IIIIZIIIIIII,\n",
      "  5876.0 * IIIZIIIIIIII,\n",
      "  -24840.5 * IIZIIIIIIIII,\n",
      "  -11567.0 * IZIIIIIIIIII,\n",
      "  -16532.0 * ZIIIIIIIIIII,\n",
      "  7875.0 * IIIIIIIIIIZZ,\n",
      "  11250.0 * IIIIIIIIIZIZ,\n",
      "  5250.0 * IIIIIIIIIZZI,\n",
      "  1.5 * IIIIIIIIZIZI,\n",
      "  1.5 * IIIIIIIIZZII,\n",
      "  1.5 * IIIIIIIZIIIZ,\n",
      "  0.5 * IIIIIIIZIZII,\n",
      "  7875.0 * IIIIIIIZZIII,\n",
      "  1.5 * IIIIIIZIIIIZ,\n",
      "  0.5 * IIIIIIZIIIZI,\n",
      "  11250.0 * IIIIIIZIZIII,\n",
      "  5250.0 * IIIIIIZZIIII,\n",
      "  1.5 * IIIIIZIZIIII,\n",
      "  1.5 * IIIIIZZIIIII,\n",
      "  1.5 * IIIIZIIIZIII,\n",
      "  0.5 * IIIIZIZIIIII,\n",
      "  7875.0 * IIIIZZIIIIII,\n",
      "  1.5 * IIIZIIIIZIII,\n",
      "  0.5 * IIIZIIIZIIII,\n",
      "  11250.0 * IIIZIZIIIIII,\n",
      "  5250.0 * IIIZZIIIIIII,\n",
      "  1.5 * IIZIZIIIIIII,\n",
      "  1.5 * IIZZIIIIIIII,\n",
      "  1.5 * IZIIIZIIIIII,\n",
      "  0.5 * IZIZIIIIIIII,\n",
      "  7875.0 * IZZIIIIIIIII,\n",
      "  1.5 * ZIIIIZIIIIII,\n",
      "  0.5 * ZIIIZIIIIIII,\n",
      "  11250.0 * ZIZIIIIIIIII,\n",
      "  5250.0 * ZZIIIIIIIIII\n",
      "])\n"
     ]
    }
   ],
   "source": [
    "op, offset = qubo.to_ising()\n",
    "print('offset: {}'.format(offset))\n",
    "print('operator:')\n",
    "print(op)"
   ]
  },
  {
   "cell_type": "code",
   "execution_count": 12,
   "metadata": {},
   "outputs": [
    {
     "name": "stdout",
     "output_type": "stream",
     "text": [
      "\\ This file has been generated by DOcplex\n",
      "\\ ENCODING=ISO-8859-1\n",
      "\\Problem name: CPLEX\n",
      "\n",
      "Minimize\n",
      " obj: - 33225 x_0 - 24060 x_1 - 29820 x_2 - 19830 x_3 - 17778 x_4 - 20856 x_5\n",
      "      - 55550 x_6 - 34530 x_7 - 44760 x_8 + 11425 x_9 - 3120 x_10 + 60 x_11 + [\n",
      "      63000 x_0*x_1 + 90000 x_0*x_2 + 12 x_0*x_4 + 12 x_0*x_5 + 42000 x_1*x_2\n",
      "      + 12 x_1*x_3 + 4 x_1*x_5 + 12 x_2*x_3 + 4 x_2*x_4 + 63000 x_3*x_4\n",
      "      + 90000 x_3*x_5 + 12 x_3*x_7 + 12 x_3*x_8 + 42000 x_4*x_5 + 12 x_4*x_6\n",
      "      + 4 x_4*x_8 + 12 x_5*x_6 + 4 x_5*x_7 + 63000 x_6*x_7 + 90000 x_6*x_8\n",
      "      + 12 x_6*x_10 + 12 x_6*x_11 + 42000 x_7*x_8 + 12 x_7*x_9 + 4 x_7*x_11\n",
      "      + 12 x_8*x_9 + 4 x_8*x_10 + 63000 x_9*x_10 + 90000 x_9*x_11\n",
      "      + 42000 x_10*x_11 ]/2\n",
      "Subject To\n",
      "\n",
      "Bounds\n",
      " 0 <= x_0 <= 1\n",
      " 0 <= x_1 <= 1\n",
      " 0 <= x_2 <= 1\n",
      " 0 <= x_3 <= 1\n",
      " 0 <= x_4 <= 1\n",
      " 0 <= x_5 <= 1\n",
      " 0 <= x_6 <= 1\n",
      " 0 <= x_7 <= 1\n",
      " 0 <= x_8 <= 1\n",
      " 0 <= x_9 <= 1\n",
      " 0 <= x_10 <= 1\n",
      " 0 <= x_11 <= 1\n",
      "\n",
      "Binaries\n",
      " x_0 x_1 x_2 x_3 x_4 x_5 x_6 x_7 x_8 x_9 x_10 x_11\n",
      "End\n",
      "\n"
     ]
    }
   ],
   "source": [
    "qp=QuadraticProgram()\n",
    "qp.from_ising(op, offset, linear=True)\n",
    "print(qp.export_as_lp_string())"
   ]
  },
  {
   "cell_type": "markdown",
   "metadata": {},
   "source": [
    "This converter allows, for instance, to translate an Operator to a QuadraticProgram and then solve the problem with other algorithms that are not based on the Ising Hamiltonian representation, such as the GroverOptimizer."
   ]
  },
  {
   "cell_type": "markdown",
   "metadata": {},
   "source": [
    "## Solving a QUBO with the MinimumEigenOptimizer and QAOA"
   ]
  },
  {
   "cell_type": "code",
   "execution_count": 13,
   "metadata": {},
   "outputs": [],
   "source": [
    "aqua_globals.random_seed = 42\n",
    "quantum_instance = QuantumInstance(BasicAer.get_backend('statevector_simulator'),\n",
    "                                   seed_simulator=aqua_globals.random_seed,\n",
    "                                   seed_transpiler=aqua_globals.random_seed)\n",
    "qaoa_mes = QAOA(quantum_instance=quantum_instance, initial_point=[0., 0.])\n",
    "exact_mes = NumPyMinimumEigensolver()"
   ]
  },
  {
   "cell_type": "code",
   "execution_count": 14,
   "metadata": {},
   "outputs": [],
   "source": [
    "qaoa = MinimumEigenOptimizer(qaoa_mes)   # using QAOA\n",
    "exact = MinimumEigenOptimizer(exact_mes)  # using the exact classical numpy minimum eigen solver"
   ]
  },
  {
   "cell_type": "markdown",
   "metadata": {},
   "source": [
    "We first use the MinimumEigenOptimizer based on the classical exact NumPyMinimumEigensolver to get the optimal benchmark"
   ]
  },
  {
   "cell_type": "code",
   "execution_count": 15,
   "metadata": {},
   "outputs": [
    {
     "name": "stdout",
     "output_type": "stream",
     "text": [
      "optimal function value: -115761.0\n",
      "optimal value: [1. 0. 0. 0. 0. 1. 1. 1. 0. 0. 1. 0.]\n",
      "status: SUCCESS\n"
     ]
    }
   ],
   "source": [
    "exact_result = exact.solve(qubo)\n",
    "print(exact_result)"
   ]
  },
  {
   "cell_type": "markdown",
   "metadata": {},
   "source": [
    "Next we apply the MinimumEigenOptimizer based on QAOA to the same problem:"
   ]
  },
  {
   "cell_type": "code",
   "execution_count": 16,
   "metadata": {},
   "outputs": [
    {
     "name": "stdout",
     "output_type": "stream",
     "text": [
      "optimal function value: -115761.0\n",
      "optimal value: [1. 0. 0. 0. 0. 1. 1. 1. 0. 0. 1. 0.]\n",
      "status: SUCCESS\n"
     ]
    }
   ],
   "source": [
    "qaoa_result = qaoa.solve(qubo)\n",
    "print(qaoa_result)"
   ]
  },
  {
   "cell_type": "markdown",
   "metadata": {},
   "source": [
    "which can be translated to the schedule:\n",
    "\n",
    "'s_0g': 1, 's_0s': 0, 's_0w': 0, 's_1g': 0, 's_1s': 0, 's_1w': 1, 's_2g': 1, 's_2s': 1, 's_2w': 0, 's_3g': 0, 's_3s': 1, 's_3w': 0\n",
    "\n",
    "we can compare with the D-wave's suggested one:\n",
    "\n",
    "'s_0g': 1, 's_0s': 0, 's_0w': 0, 's_1g': 0, 's_1s': 0, 's_1w': 1, 's_2g': 1, 's_2s': 1, 's_2w': 0, 's_3g': 0, 's_3s': 1, 's_3w': 0 \n",
    "\n",
    "and it ields **the same value as found on the D-wave Exact Solver**."
   ]
  }
 ],
 "metadata": {
  "kernelspec": {
   "display_name": "Python 3",
   "language": "python",
   "name": "python3"
  },
  "language_info": {
   "codemirror_mode": {
    "name": "ipython",
    "version": 3
   },
   "file_extension": ".py",
   "mimetype": "text/x-python",
   "name": "python",
   "nbconvert_exporter": "python",
   "pygments_lexer": "ipython3",
   "version": "3.8.5"
  }
 },
 "nbformat": 4,
 "nbformat_minor": 4
}
