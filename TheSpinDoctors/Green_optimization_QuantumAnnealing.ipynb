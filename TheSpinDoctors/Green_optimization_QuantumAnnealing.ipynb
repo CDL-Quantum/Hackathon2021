{
 "cells": [
  {
   "cell_type": "markdown",
   "id": "corresponding-wells",
   "metadata": {},
   "source": [
    "# Green optimization on a quantum annealer\n",
    "## A cost-efficient optimization of energy networks to reduce carbon emissions"
   ]
  },
  {
   "cell_type": "markdown",
   "id": "considered-applicant",
   "metadata": {},
   "source": [
    "Optimal scheduling of multiple energy sources (or generators) of a network is one of the most popular and critical optimization problems in the electrical power industry for the operations of power systems [[1]](https://link.springer.com/content/pdf/10.1007/s11708-013-0240-3.pdf). \n",
    "\n",
    "This problem is also known as Unit commitment (UC) and it is generally formulated as a large-scale mixed integer nonlinear problem. Solving UC is very difficult due to the nonlinear cost function and the combinatorial nature of set of feasible solutions. It has been proven that UC is not only NP-hard but also NP-complete.\n",
    "\n",
    "There have been some attempts in solving some version of the UC problem on a quantum computer [[2]](https://arxiv.org/abs/2003.00254), however in this project we address a different type of performance metric, which is not solely based on finding an optimal schedule to reduce costs, but also on the reduction of the carbon emission. \n",
    "\n",
    "Green optimization (optimization of a problem involving a sustainable metric) is applied to utilities, logistics and supply-chain ecosystem [[3]](https://journals.plos.org/plosone/article?id=10.1371/journal.pone.0132997)[[4]](https://www.mdpi.com/2076-3417/9/8/1611)[[5]](https://pure.tue.nl/ws/files/3805505/781632.pdf)[[6]](https://ieeexplore.ieee.org/document/6517783). Generally, the framework is based on a multi-objective optimization to find the Pareto forntier of the optimal solutions which satisfy both a minimization of the costs and the minimization of the sustainable performance metric (e.g. carbon emission). \n",
    "\n",
    "In this work we use a Quantum Computing approach to solve the Green optimization in the context of utlities. Our goal is to find an optimal schedule for several energy sources for a utility network. The green optimization is implemented by looking at the trade off between cost of usage and carbon emission costs (in terms of Renewable Energy Certificates). \n",
    "\n",
    "In the following we formulate the optimization problem as a QUBO problem, describe the data input for the determination of the load demand schedule and the costs and solve it with the D-Wave Leap Hybrid solver. We then compare the results to a classical method (simulated annealing) using the neal D-Wave package. Finally we construct a simpler problem (smaller network and few stp demand schedule) that can be solved directly on the QPU and compare the results to the Exact solver and an implementation of the same QUBO problem with QAOA in Qiskit."
   ]
  },
  {
   "cell_type": "markdown",
   "id": "given-laundry",
   "metadata": {},
   "source": [
    "## Problem definition: variables, objective and constraints"
   ]
  },
  {
   "cell_type": "markdown",
   "id": "stone-poker",
   "metadata": {},
   "source": [
    "The first step in determining an optimal solution of the problem is to clearly define the variables, objective and constraints of the optimization.\n",
    "\n",
    "The goal of the optimization is to find an optimal distribution of fossil and renewable energy sources in a network, to minimize costs (operating, switching and carbon emission related) while satisfying a given power demand schedule.\n",
    "\n",
    "We consider a schedule with hourly granularity, for a period that can vary from few hours ahead up to a quarter. \n",
    "At each hour in the schedule, several energy sources (fossil and renewable) can be used to satisfy the given power demand. \n",
    "Thus, we can define the variables of the problem as binary variables $s_{i\\alpha}$, where $i$ is the time point in the schedule and $\\alpha$ is the energy source (e.g. gas, coal, wind, solar, etc.), such that:\n",
    "- $s_{i\\alpha} = 1$, if the energy source $\\alpha$ is active at time $i$\n",
    "- $s_{i\\alpha} = 0$, otherwise.\n",
    "\n",
    "Given these variables, the objective function to be minimized will be the sum of the costs (operating, switching and carbon emission related) for the active energy sources which are active at each time in the schedule.\n",
    "\n",
    "This **objective** can be split in two components (in the following, greek indices refer to the energy sources, while roman indices to the time schedule): \n",
    "- a **linear component** which takes care of the operating and carbon emission related costs:\n",
    "$$H_{L} = \\sum_{i,\\alpha}(c^\\alpha_o + c^\\alpha_e)\\cdot s_{i\\alpha},$$\n",
    "where $c^\\alpha_o$ is the operating cost per hour for the energy source $\\alpha$ and $c^\\alpha_e$ is the cost per hour related to the carbon emission for the energy source $\\alpha$. The latter is proxied by the carbon emission taxes or the cost of renewable certificates.\n",
    "- a **quadratic term**, which entails the correlation between the switching from one energy source to another for two consecutive times in the schedule:\n",
    "$$H_{Q} = \\sum_{i,\\alpha,\\beta}(c^\\alpha_{off} + c^\\beta_{on})\\cdot s_{i,\\alpha}s_{i+1,\\beta},$$\n",
    "where $c^\\alpha_{off}$ ($c^\\alpha_{on}$) is the cost of switching off (on) the energy source $\\alpha$. For the sake of simplicity, we assume in the following that the cost to switch the energy source off and on is the same: \n",
    "$$c^\\alpha_s \\equiv c^\\alpha_{off} = c^\\alpha_{on}.$$\n",
    "Note that in $H_{Q}$ the index $i$ does not include the last schedule.\n",
    "\n",
    "If we only consider the objective of minimizing costs, the trivial solution to the problem is to keep all energy sources always switched off. In reality, the energy network needs to satisfy a power demand schedule, which is generally forecasted based on multiple factors inlcuding hour of the day, season, weather forecast, commodity prices, etc.\n",
    "\n",
    "The **constraint** can then be expressed as a linear inequality constraint such that the power generated by all sources at time $i$ must meet the power demand at the same time:\n",
    "$$\\sum_{\\alpha}p_\\alpha\\cdot s_{i\\alpha} - d_i \\geq 0,$$\n",
    "where $p_\\alpha$ is the power generated by the energy source $\\alpha$ and $d_i$ is the total power demand at time $i$.\n",
    "\n",
    "In conclusion, the QUBO problem can finally be forumlated as follows:\n",
    "$$\\min(H_{L} + H_{Q})$$\n",
    "$$ s.t.~\\sum_{\\alpha}p_\\alpha\\cdot s_{i\\alpha} - d_i \\geq 0$$"
   ]
  },
  {
   "cell_type": "markdown",
   "id": "failing-luxembourg",
   "metadata": {},
   "source": [
    "## Implementation on QUBO via BinaryQuadraticModel"
   ]
  },
  {
   "cell_type": "markdown",
   "id": "spatial-diameter",
   "metadata": {},
   "source": [
    "In the following we show how to solve the problem above in the QUBO formulation on D-Wave. \n",
    "\n",
    "We constructed a class (EnergyBQM) to wrap the construction of the variables, the objective and the constraint and include some plotting features. \n",
    "\n",
    "See file [BQM.py](./src/utils/BQM.py) for the implementation."
   ]
  },
  {
   "cell_type": "code",
   "execution_count": 1,
   "id": "999308d7",
   "metadata": {},
   "outputs": [],
   "source": [
    "import numpy as np\n",
    "import pandas as pd\n",
    "\n",
    "from matplotlib import pyplot as plt\n",
    "\n",
    "from src.utils.BQM import EnergyBQM\n",
    "\n",
    "\n",
    "# fix the random seed\n",
    "np.random.seed(123)"
   ]
  },
  {
   "cell_type": "markdown",
   "id": "1aad5d0e",
   "metadata": {},
   "source": [
    "## Input data"
   ]
  },
  {
   "cell_type": "markdown",
   "id": "federal-evanescence",
   "metadata": {},
   "source": [
    "The first step for the definition of a realistic use case is to investigate the data input for the optimization problem.\n",
    "The data to be used can be classified in:\n",
    "1. inputs regarding the power demand and \n",
    "2. inputs regarding the energy sources.\n",
    "\n",
    "#### Power demand data\n",
    "Regarding the power demand, a demand schedule needs to be defined. \n",
    "\n",
    "In order to have a realistic proxy for the power demand schedule, we looked at actual hourly data of load values for a country (Italy) and defined a sintetic power demand schedule by scaling down the country-wise demand schedule to the maximum capacity of the energy network we define."
   ]
  },
  {
   "cell_type": "code",
   "execution_count": 2,
   "id": "changed-radius",
   "metadata": {},
   "outputs": [
    {
     "data": {
      "image/png": "[encoded data removed]",
      "text/plain": [
       "<Figure size 432x288 with 1 Axes>"
      ]
     },
     "metadata": {
      "needs_background": "light"
     },
     "output_type": "display_data"
    }
   ],
   "source": [
    "# Assume looking at the future 24 hours\n",
    "n_schedules = 24\n",
    "\n",
    "# define binary variables\n",
    "schedules = [f's_{i}' for i in range(n_schedules)]\n",
    "\n",
    "# read in the hourly load values for a single year\n",
    "demand_data = pd.read_excel('./data/Monthly-hourly-load-values_2014_IT.xlsx')\n",
    "\n",
    "# collect the demand data for the year into a list\n",
    "demand = []\n",
    "for i in range(len(demand_data)):\n",
    "    demand += list((demand_data.iloc[i,6:]))\n",
    "\n",
    "# scaling down demand to size of problem to obtain a range of values compatible with our energy network\n",
    "demand_schedule = [int(40*i/max(demand)) for i in demand[0:n_schedules]]  \n",
    "\n",
    "# Plot demand schedule for a single day (24h)\n",
    "plt.plot(demand_schedule[0:24], label='demand')\n",
    "plt.show()"
   ]
  },
  {
   "cell_type": "markdown",
   "id": "turned-weekend",
   "metadata": {},
   "source": [
    "#### Energy source data\n",
    "Based on the QUBO formulation outlined above, for each energy source we need to define the following features:\n",
    "- **operational cost**: cost per hour of using the given energy source. These costs are obtained for different energy sources (fossil and renewable) from the average operating costs on the [US Energy Information Administration webpage](https://www.eia.gov/electricity/annual/html/epa_08_04.html). These costs include operation, maintenance and fuel related costs.\n",
    "- **carbon emission costs**: in several countries, companies including energy providers are obliged to keep the levels of CO$_2$ below certain thresholds. The usual mechanism to provide an incentive for the companies to reduce their carbon emission is via carbon emission taxation (e.g. Europe) or buying renewable energy certificates, depending on the produced carbon footprint. For the sake of the calculation, in this notebook we assume these costs to be proportional to the carbon emission per hour. \n",
    "- **cost of switching on/off**: these costs are responsible for the correlation term in the QUBO framework. We obtained \n",
    "- **capacity**: this is the power generated per hour by an energy source (see [EIA](https://www.eia.gov/)). \n",
    "\n",
    "<!-- 50 MWh [gas](https://documents1.worldbank.org/curated/en/640981468780885410/pdf/263500Energy0issues020.pdf)\n",
    "3 MWh [wind](https://www.irena.org/wind#:~:text=Today's%20new%20wind%20power%20projects,to%202%20MW%20in%202014.)\n",
    "2 MWh [solar](https://www.eia.gov/todayinenergy/detail.php?id=38272#:~:text=The%20average%20community%20solar%20facility%20has%20a%20capacity%20of%202.0%20MW).\n",
    "10 MWh [hydro](https://www.sciencedirect.com/topics/engineering/hydropower-plant)\n",
    " -->"
   ]
  },
  {
   "cell_type": "markdown",
   "id": "basic-produce",
   "metadata": {},
   "source": [
    "#### Network design"
   ]
  },
  {
   "cell_type": "markdown",
   "id": "forward-night",
   "metadata": {},
   "source": [
    "For the pursposes of this implementation we consider a network composed by the following energy sources:\n",
    "- fossil (e.g. coal or gas)\n",
    "- wind\n",
    "- solar\n",
    "- hydro\n",
    "\n",
    "The first is a generic non-renewable energy source, while the last three are renewable. \n",
    "\n",
    "We consider a first implementation example in which the network is composed by a single plant for energy source.\n",
    "A more realistic network with additional power plants, e.g. with different costs and capacity can be easily extended from the current model.\n",
    "\n",
    "For simplicity in the following we consider natural gas as the fossil source."
   ]
  },
  {
   "cell_type": "code",
   "execution_count": 3,
   "id": "bound-constitutional",
   "metadata": {},
   "outputs": [],
   "source": [
    "# Gas 'g', Hydro 'h', Solar 's', Wind 'w'\n",
    "sources = ['g', 'h', 's', 'w']\n",
    "\n",
    "# Operating costs by plant type(Operation,Maintenance,Fuel) mills per kwh (see https://www.eia.gov/electricity/annual/html/epa_08_04.html)\n",
    "\n",
    "operating_costs = [('g', 30),\n",
    "                   ('h', 15),\n",
    "                   ('s', 10),\n",
    "                   ('w', 10)]\n",
    "\n",
    "# define the cost of usage (total operating costs)\n",
    "cost_usage = [operating_costs[i][1] for i in range(len(operating_costs))]\n",
    "\n",
    "# define the cost to switch off/on one of the energy sources\n",
    "cost_switch = [10, 5, 1, 1]\n",
    "\n",
    "# define the carbon emission cost per kWh (proxied by cost/kWh of the Solar Renewable Energy Certificates (RECs) in US)\n",
    "cost_emission = [10, 5, 1, 2]\n",
    "\n",
    "# define the max power generation per kWh per source and plant\n",
    "capacity = [50, 10, 3, 8]"
   ]
  },
  {
   "cell_type": "markdown",
   "id": "authentic-giant",
   "metadata": {},
   "source": [
    "We then store all the information and input data about the schedule and the sources into a context dictionary, to be input to the EnergyBQM class in [BQM.py](./src/utils/BQM.py)"
   ]
  },
  {
   "cell_type": "code",
   "execution_count": 4,
   "id": "controversial-cabin",
   "metadata": {},
   "outputs": [],
   "source": [
    "context = {}\n",
    "context['schedules'] = schedules\n",
    "context['demand_schedule'] = demand_schedule\n",
    "\n",
    "context['sources'] = sources\n",
    "context['cost_usage'] = cost_usage\n",
    "context['cost_switch'] = cost_switch\n",
    "context['cost_emission'] = cost_emission\n",
    "context['capacity'] = capacity"
   ]
  },
  {
   "cell_type": "markdown",
   "id": "minimal-thumbnail",
   "metadata": {},
   "source": [
    "Finally, we can build and solve our BQM problem. Given the size of the problem, we use the **Leap Hybrid Sampler**. "
   ]
  },
  {
   "cell_type": "code",
   "execution_count": 5,
   "id": "accessible-victoria",
   "metadata": {},
   "outputs": [
    {
     "name": "stdout",
     "output_type": "stream",
     "text": [
      "elapsed time (Leap Hybrid sampler):  0:00:04.436001\n",
      "  s_0g s_0h s_0s s_0w s_10g s_10h s_10s s_10w s_11g ... s_9w  energy num_oc.\n",
      "0    0    1    0    1     0     1     1     1     0 ...    1 30847.0       1\n",
      "['BINARY', 1 rows, 1 samples, 96 variables]\n"
     ]
    }
   ],
   "source": [
    "# define BQM\n",
    "bqm = EnergyBQM(context)\n",
    "\n",
    "res = bqm.solve_with_LeapHybridSampler(verbose=True)"
   ]
  },
  {
   "cell_type": "markdown",
   "id": "muslim-letters",
   "metadata": {},
   "source": [
    "The obtained results can be then plot to a graph to verify that the network satisfies the power demand given by the schedule."
   ]
  },
  {
   "cell_type": "code",
   "execution_count": 6,
   "id": "handed-hudson",
   "metadata": {},
   "outputs": [
    {
     "data": {
      "image/png": "[encoded data removed]",
      "text/plain": [
       "<Figure size 432x288 with 1 Axes>"
      ]
     },
     "metadata": {
      "needs_background": "light"
     },
     "output_type": "display_data"
    }
   ],
   "source": [
    "bqm.plot_results()"
   ]
  },
  {
   "cell_type": "markdown",
   "id": "satisfactory-corner",
   "metadata": {},
   "source": [
    "## Observations"
   ]
  },
  {
   "cell_type": "markdown",
   "id": "color-failing",
   "metadata": {},
   "source": [
    "The current optimization problem aims to find the an optimal distribution of fossil and renewable energy sources in a network, to minimize costs (operating, switching and carbon emission related) while satisfying a given power demand schedule.\n",
    "\n",
    "For the chosen realistic demand schedule and the values of the capacity of the single energy sources, it appears that the optimum for this toy model is reached by using only renewable energy sources.\n",
    "\n",
    "An extension to a **larger amount of energy sources and more realistic scenarios for the renewable energy sources** has been performed in \n",
    "[this notebook](./Green_optimization_QuantumAnnealing_XL.ipynb)."
   ]
  },
  {
   "cell_type": "markdown",
   "id": "armed-christopher",
   "metadata": {},
   "source": [
    "#### Comparison: simulated annealing"
   ]
  },
  {
   "cell_type": "markdown",
   "id": "driving-trouble",
   "metadata": {},
   "source": [
    "Once the results from the quantum hybrid solver have been obtained, we can compare them to the results obtained with the simulated annealing. \n",
    "\n",
    "The simulated (thermal) annealing is a heuristic optimization procedure which spans the solution space of a generic optimization problem by simulating the physical process of heating a material and then slowly lowering the temperature to decrease defects, thus minimizing the system energy. Each transition in spanning the solution space is called anneal.\n",
    "\n",
    "We use the SimulatedAnnealingSampler in the D-Wave neal package to solve the same bqm.\n",
    "The function solve_with_SimulatedAnnealingSampler is a wrapper to the D-Wave one."
   ]
  },
  {
   "cell_type": "code",
   "execution_count": 7,
   "id": "third-notebook",
   "metadata": {},
   "outputs": [
    {
     "name": "stdout",
     "output_type": "stream",
     "text": [
      "Elapsed time (simulated annealing):  0:00:00.023000\n",
      "  s_0g s_0h s_0s s_0w s_10g s_10h s_10s s_10w s_11g ... s_9w  energy num_oc.\n",
      "0    0    1    0    1     0     1     1     1     0 ...    1 31835.0       1\n",
      "['BINARY', 1 rows, 1 samples, 96 variables]\n"
     ]
    }
   ],
   "source": [
    "classical_res = bqm.solve_with_SimulatedAnnealingSampler(verbose=True)"
   ]
  },
  {
   "cell_type": "code",
   "execution_count": 8,
   "id": "signal-ghost",
   "metadata": {},
   "outputs": [
    {
     "data": {
      "image/png": "[encoded data removed]",
      "text/plain": [
       "<Figure size 432x288 with 1 Axes>"
      ]
     },
     "metadata": {
      "needs_background": "light"
     },
     "output_type": "display_data"
    }
   ],
   "source": [
    "bqm.plot_results()"
   ]
  },
  {
   "cell_type": "markdown",
   "id": "ready-freeware",
   "metadata": {},
   "source": [
    "As we can see, the result is very similar to the case of the quantum hybrid solver, except for t=4, for which the constraint in the case of the simulated annealing is not satisfied."
   ]
  },
  {
   "cell_type": "markdown",
   "id": "retired-federation",
   "metadata": {},
   "source": [
    "#### Comparison: Leap, ExactSolver, D-Wave QPU and QAOA "
   ]
  },
  {
   "cell_type": "markdown",
   "id": "tutorial-nickel",
   "metadata": {},
   "source": [
    "Finally, our goal was to compare results from the D-Wave hybrid solver for the problem at hand with: \n",
    "1. the solution obtained by solving the problem onto a QPU\n",
    "2. the solution obtained with a different algorithm, QAOA\n",
    "\n",
    "However the problem at hand is too complex for both tasks. Thus, we simplified the problem to include only a small amount of time slot in the schedule and a small amount of energy sources.\n",
    "\n",
    "For this reson we choose a 4 instant schedule and 3 energy sources (fossil, wind and solar)."
   ]
  },
  {
   "cell_type": "code",
   "execution_count": 9,
   "id": "controlling-dynamics",
   "metadata": {},
   "outputs": [],
   "source": [
    "# Assume 4 steps in the schedule\n",
    "n_schedules = 4\n",
    "\n",
    "# define binary variables\n",
    "schedules = [f's_{i}' for i in range(n_schedules)]\n",
    "\n",
    "# define a syntetic load demand schedule\n",
    "demand_schedule = [15, 12, 20, 5]  \n",
    "\n",
    "\n",
    "# Gas 'g', Solar 's', Wind 'w'\n",
    "sources = ['g', 's', 'w']\n",
    "\n",
    "# define syntetic cost of usage (total operating costs)\n",
    "cost_usage = [30, 5, 10]\n",
    "\n",
    "# define the cost to switch off/on one of the energy sources\n",
    "cost_switch = [5, 1, 1]\n",
    "\n",
    "# define the carbon emission cost per kWh (proxied by cost/kWh of the Solar Renewable Energy Certificates (RECs) in US)\n",
    "cost_emission = [5, 1, 2]\n",
    "\n",
    "# define the max power generation per kWh per source and plant\n",
    "capacity = [15, 7, 10]\n",
    "\n",
    "# define context for BQM \n",
    "context = {}\n",
    "context['schedules'] = schedules\n",
    "context['demand_schedule'] = demand_schedule\n",
    "\n",
    "context['sources'] = sources\n",
    "context['cost_usage'] = cost_usage\n",
    "context['cost_switch'] = cost_switch\n",
    "context['cost_emission'] = cost_emission\n",
    "context['capacity'] = capacity"
   ]
  },
  {
   "cell_type": "markdown",
   "id": "impressed-practitioner",
   "metadata": {},
   "source": [
    "In the following we solve the problem on the QPU, by using the wrapper of the DWaveSampler."
   ]
  },
  {
   "cell_type": "code",
   "execution_count": 10,
   "id": "thorough-outdoors",
   "metadata": {
    "scrolled": true
   },
   "outputs": [
    {
     "name": "stdout",
     "output_type": "stream",
     "text": [
      "Elapsed time (QPU - Chimera):  0:00:00.113529\n",
      "  s_0g s_0s s_0w s_1g s_1s s_1w s_2g s_2s s_2w s_3g ... s_3w energy num_oc. ...\n",
      "0    0    1    1    0    0    1    1    1    0    0 ...    1 6862.0       1 ...\n",
      "['BINARY', 1 rows, 1 samples, 12 variables]\n"
     ]
    }
   ],
   "source": [
    "# define BQM\n",
    "bqm = EnergyBQM(context)\n",
    "\n",
    "res = bqm.solve_with_QPU()"
   ]
  },
  {
   "cell_type": "code",
   "execution_count": 11,
   "id": "celtic-telescope",
   "metadata": {
    "scrolled": true
   },
   "outputs": [
    {
     "data": {
      "image/png": "[encoded data removed]",
      "text/plain": [
       "<Figure size 432x288 with 1 Axes>"
      ]
     },
     "metadata": {
      "needs_background": "light"
     },
     "output_type": "display_data"
    }
   ],
   "source": [
    "bqm.plot_results()"
   ]
  },
  {
   "cell_type": "markdown",
   "id": "fourth-lithuania",
   "metadata": {},
   "source": [
    "And subsequently test it onto the Exact solver:"
   ]
  },
  {
   "cell_type": "code",
   "execution_count": 12,
   "id": "dried-energy",
   "metadata": {},
   "outputs": [
    {
     "name": "stdout",
     "output_type": "stream",
     "text": [
      "Elapsed time (Exact solver):  0:00:00.058002\n",
      "Sample(sample={'s_0g': 1, 's_0s': 0, 's_0w': 0, 's_1g': 0, 's_1s': 0, 's_1w': 1, 's_2g': 1, 's_2s': 1, 's_2w': 0, 's_3g': 0, 's_3s': 1, 's_3w': 0}, energy=3339.0, num_occurrences=1)\n"
     ]
    }
   ],
   "source": [
    "# define BQM\n",
    "bqm = EnergyBQM(context)\n",
    "\n",
    "res = bqm.solve_with_ExactSampler()"
   ]
  },
  {
   "cell_type": "code",
   "execution_count": 13,
   "id": "pending-intranet",
   "metadata": {
    "scrolled": true
   },
   "outputs": [
    {
     "data": {
      "image/png": "[encoded data removed]",
      "text/plain": [
       "<Figure size 432x288 with 1 Axes>"
      ]
     },
     "metadata": {
      "needs_background": "light"
     },
     "output_type": "display_data"
    }
   ],
   "source": [
    "bqm.plot_results()"
   ]
  },
  {
   "cell_type": "markdown",
   "id": "intense-accuracy",
   "metadata": {},
   "source": [
    "Finally we implemented the same QUBO problem with QAOA by using:\n",
    "1. PyQuil framework (Rigetti)\n",
    "2. IBM Qiskit\n",
    "\n",
    "Results with the Rigetti framework are available in [this notebook](./Green_optimization_QuantumAnnealing_QAOA_Rigetti.ipynb).\n",
    "Results with Qiskit are available [here](./Green_optimization_QuantumAnnealing_QAOA_IBM.ipynb).\n",
    "\n",
    "For this calculation, the values of the QUBO coefficient for the linear and the quadratic terms are obtained from the implemented BQM problem in D-Wave:"
   ]
  },
  {
   "cell_type": "code",
   "execution_count": 14,
   "id": "determined-lafayette",
   "metadata": {
    "scrolled": true
   },
   "outputs": [
    {
     "name": "stdout",
     "output_type": "stream",
     "text": [
      "{'s_0g': -33225.0, 's_0s': -24060.0, 's_0w': -29820.0, 's_1g': -19830.0, 's_1s': -17778.0, 's_1w': -20856.0, 's_2g': -55550.0, 's_2s': -34530.0, 's_2w': -44760.0, 's_3g': 11425.0, 's_3s': -3120.0, 's_3w': 60.0}\n",
      "{('s_0s', 's_0g'): 31500.0, ('s_0w', 's_0g'): 45000.0, ('s_0w', 's_0s'): 21000.0, ('s_1g', 's_0s'): 6.0, ('s_1g', 's_0w'): 6.0, ('s_1s', 's_0g'): 6.0, ('s_1s', 's_0w'): 2.0, ('s_1s', 's_1g'): 31500.0, ('s_1w', 's_0g'): 6.0, ('s_1w', 's_0s'): 2.0, ('s_1w', 's_1g'): 45000.0, ('s_1w', 's_1s'): 21000.0, ('s_2g', 's_1s'): 6.0, ('s_2g', 's_1w'): 6.0, ('s_2s', 's_1g'): 6.0, ('s_2s', 's_1w'): 2.0, ('s_2s', 's_2g'): 31500.0, ('s_2w', 's_1g'): 6.0, ('s_2w', 's_1s'): 2.0, ('s_2w', 's_2g'): 45000.0, ('s_2w', 's_2s'): 21000.0, ('s_3g', 's_2s'): 6.0, ('s_3g', 's_2w'): 6.0, ('s_3s', 's_2g'): 6.0, ('s_3s', 's_2w'): 2.0, ('s_3s', 's_3g'): 31500.0, ('s_3w', 's_2g'): 6.0, ('s_3w', 's_2s'): 2.0, ('s_3w', 's_3g'): 45000.0, ('s_3w', 's_3s'): 21000.0}\n"
     ]
    }
   ],
   "source": [
    "print(bqm.bqm.linear)\n",
    "print(bqm.bqm.quadratic)"
   ]
  },
  {
   "cell_type": "markdown",
   "id": "handy-basket",
   "metadata": {},
   "source": [
    "## References"
   ]
  },
  {
   "cell_type": "markdown",
   "id": "divine-hours",
   "metadata": {},
   "source": [
    "[[1]](https://link.springer.com/content/pdf/10.1007/s11708-013-0240-3.pdf) A solution to the unit commitment problem—a review\n",
    "\n",
    "[[2]](https://arxiv.org/abs/2003.00254) Quantum computing for energy systems optimization: Challenges and opportunities\n",
    "\n",
    "[[3]](https://journals.plos.org/plosone/article?id=10.1371/journal.pone.0132997) Optimizing Cellular Networks Enabled with Renewal Energy via Strategic Learning\n",
    "\n",
    "[[4]](https://www.mdpi.com/2076-3417/9/8/1611) Unit Commitment Accommodating Large Scale Green Power\n",
    "\n",
    "[[5]](https://pure.tue.nl/ws/files/3805505/781632.pdf) SMART energy homes and the smart grid: a framework for\n",
    "intelligent energy management systems for residential customers\n",
    "\n",
    "[[6]](https://ieeexplore.ieee.org/document/6517783) On Optimizing Green Energy Utilization for Cellular Networks with Hybrid Energy Supplies\n",
    "\n",
    "[[7]](https://www.eia.gov/) US Energy Information Administration"
   ]
  }
 ],
 "metadata": {
  "kernelspec": {
   "display_name": "Python 3",
   "language": "python",
   "name": "python3"
  },
  "language_info": {
   "codemirror_mode": {
    "name": "ipython",
    "version": 3
   },
   "file_extension": ".py",
   "mimetype": "text/x-python",
   "name": "python",
   "nbconvert_exporter": "python",
   "pygments_lexer": "ipython3",
   "version": "3.8.5"
  },
  "toc": {
   "base_numbering": 1,
   "nav_menu": {},
   "number_sections": true,
   "sideBar": true,
   "skip_h1_title": false,
   "title_cell": "Table of Contents",
   "title_sidebar": "Contents",
   "toc_cell": false,
   "toc_position": {},
   "toc_section_display": true,
   "toc_window_display": true
  }
 },
 "nbformat": 4,
 "nbformat_minor": 5
}
