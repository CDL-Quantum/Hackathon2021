{
 "cells": [
  {
   "cell_type": "markdown",
   "id": "56425542",
   "metadata": {},
   "source": [
    "# Benchmarking Different Methods 2\n",
    "\n",
    "In this task we will benchmark a number of different methods evaluating both performance and quality \n",
    "of solutions. \n",
    "\n",
    "Here we continue exploration of methods."
   ]
  },
  {
   "cell_type": "code",
   "execution_count": 1,
   "id": "c46e714e",
   "metadata": {},
   "outputs": [],
   "source": [
    "import numpy as np\n",
    "import matplotlib.pyplot as plt\n",
    "import seaborn as sns \n",
    "import itertools\n",
    "import pandas as pd\n",
    "import time\n",
    "import matplotlib\n",
    "\n",
    "import flatnetwork as fnmod\n",
    "\n",
    "%matplotlib inline\n",
    "sns.set(rc={'figure.figsize':(15,12)})\n",
    "\n",
    "font = {'family' : 'Dejavu Sans',\n",
    "        'weight' : 'bold',\n",
    "        'size'   : 22}\n",
    "matplotlib.rc('font', **font)\n"
   ]
  },
  {
   "cell_type": "code",
   "execution_count": 2,
   "id": "046ff184",
   "metadata": {},
   "outputs": [],
   "source": [
    "import functools\n",
    "import networkx as nx \n",
    "import seaborn as sns\n",
    "\n",
    "def showGraph(vtxs, edges, vtxCs, solList):\n",
    "    sns.set(rc={'figure.figsize':(10,15)})\n",
    "    G = nx.Graph() \n",
    "    G.add_nodes_from(vtxs)\n",
    "    for edge in edges:\n",
    "        G.add_edge(edge[0],edge[1])\n",
    "    color_map = list()\n",
    "\n",
    "    for node in solList:\n",
    "        if node == '0':\n",
    "            color_map.append('lightblue')\n",
    "        else: \n",
    "            color_map.append('orange')\n",
    "\n",
    "    node_labels = {} \n",
    "    for node in G.nodes():\n",
    "        node_labels[node] = str(int(node))\n",
    "\n",
    "    pos = {v:vtxCs[v] for v in vtxs}\n",
    "    \n",
    "    flipped_pos = {node: (x,-y) for (node, (x,y)) in pos.items()}\n",
    "    fig, ax = plt.subplots(1, 1)       \n",
    "    \n",
    "    nx.draw_networkx(G, pos=flipped_pos, with_labels=False, node_color=color_map)\n",
    "    nx.draw_networkx_labels(G, flipped_pos, node_labels)\n",
    "    for node in G.nodes():\n",
    "        ax.add_artist(Circle(xy=flipped_pos[node], radius=.5, \n",
    "        facecolor='lightblue', alpha=0.2, edgecolor='black'))\n",
    "    plt.grid('on')\n",
    "    plt.show()"
   ]
  },
  {
   "cell_type": "code",
   "execution_count": 3,
   "id": "d9ab2c5b",
   "metadata": {},
   "outputs": [],
   "source": [
    "#import graphHelpers"
   ]
  },
  {
   "cell_type": "code",
   "execution_count": 4,
   "id": "091903a6",
   "metadata": {},
   "outputs": [
    {
     "name": "stdout",
     "output_type": "stream",
     "text": [
      "{(0, 1): 1.0, (0, 2): 1.0, (0, 3): 1.0, (0, 4): 1.0, (0, 5): 1.0, (0, 6): 1.0, (0, 7): 1.0, (0, 8): 1.0, (0, 9): 1.0, (1, 2): 1.0, (1, 3): 1.0, (1, 4): 1.0, (1, 5): 1.0, (1, 6): 1.0, (1, 7): 1.0, (1, 8): 1.0, (1, 9): 1.0, (2, 3): 1.0, (2, 4): 1.0, (2, 5): 1.0, (2, 6): 1.0, (2, 7): 1.0, (2, 8): 1.0, (2, 9): 1.0, (3, 4): 1.0, (3, 5): 1.0, (3, 6): 1.0, (3, 7): 1.0, (3, 8): 1.0, (3, 9): 1.0, (4, 5): 1.0, (4, 6): 1.0, (4, 7): 1.0, (4, 8): 1.0, (4, 9): 1.0, (5, 6): 1.0, (5, 7): 1.0, (5, 8): 1.0, (5, 9): 1.0, (6, 7): 1.0, (6, 8): 1.0, (6, 9): 1.0, (7, 8): 1.0, (7, 9): 1.0, (8, 9): 1.0}\n"
     ]
    }
   ],
   "source": [
    "L = 10\n",
    "vs = [v for v in range(L)]\n",
    "\n",
    "edges = {}\n",
    "for i in range(L):\n",
    "    for j in range(i+1,L):\n",
    "        edges[(i,j)] = 1.0\n",
    "\n",
    "print(edges)"
   ]
  },
  {
   "cell_type": "code",
   "execution_count": 5,
   "id": "72e87ada",
   "metadata": {},
   "outputs": [
    {
     "name": "stdout",
     "output_type": "stream",
     "text": [
      "9\n"
     ]
    }
   ],
   "source": [
    "maxl = max(abs(pair[1]-pair[0]) for pair in edges)\n",
    "print(maxl)\n",
    "\n",
    "fn = fnmod.FlatNetwork(L,edges,{},maxl)"
   ]
  },
  {
   "cell_type": "code",
   "execution_count": 6,
   "id": "56927c4d",
   "metadata": {},
   "outputs": [
    {
     "name": "stdout",
     "output_type": "stream",
     "text": [
      "\n",
      "DMRG for L =  10\n",
      "Schedule:  0  D =  2\n",
      "Beginning sweep:  0 of 5\n",
      "Sweep Energy: -2.00000000\n",
      "Beginning sweep:  1 of 5\n",
      "Sweep Energy: -2.00000000\n",
      "Beginning sweep:  2 of 5\n",
      "Sweep Energy: -2.00000000\n",
      "Beginning sweep:  3 of 5\n",
      "Sweep Energy: -2.00000000\n",
      "Beginning sweep:  4 of 5\n",
      "Sweep Energy: -2.00000000\n",
      "-----------\n",
      "Schedule:  1  D =  3\n",
      "Beginning sweep:  0 of 5\n",
      "Sweep Energy: -2.00000000\n",
      "Beginning sweep:  1 of 5\n",
      "Sweep Energy: -2.00000000\n",
      "Beginning sweep:  2 of 5\n",
      "Sweep Energy: -2.00000000\n",
      "Beginning sweep:  3 of 5\n",
      "Sweep Energy: -2.00000000\n",
      "-----------\n",
      "Schedule:  2  D =  3\n",
      "Beginning sweep:  0 of 5\n",
      "Sweep Energy: -2.00000000\n",
      "Beginning sweep:  1 of 5\n",
      "Sweep Energy: -2.00000000\n",
      "Beginning sweep:  2 of 5\n",
      "Sweep Energy: -2.00000000\n",
      "Beginning sweep:  3 of 5\n",
      "Sweep Energy: -2.00000000\n",
      "-----------\n",
      "Schedule:  3  D =  4\n",
      "Beginning sweep:  0 of 5\n",
      "Sweep Energy: -2.00000000\n",
      "Beginning sweep:  1 of 5\n",
      "Sweep Energy: -2.00000000\n",
      "Beginning sweep:  2 of 5\n",
      "Sweep Energy: -2.00000000\n",
      "Beginning sweep:  3 of 5\n",
      "Sweep Energy: -2.00000000\n",
      "-----------\n",
      "Schedule:  4  D =  5\n",
      "Beginning sweep:  0 of 5\n",
      "Sweep Energy: -2.00000000\n",
      "Beginning sweep:  1 of 5\n",
      "Sweep Energy: -2.00000000\n",
      "Beginning sweep:  2 of 5\n",
      "Sweep Energy: -2.00000000\n",
      "Beginning sweep:  3 of 5\n",
      "Sweep Energy: -2.00000000\n",
      "-----------\n"
     ]
    }
   ],
   "source": [
    "sweepd = [2,3,3,4,5]\n",
    "sweepi = [5,5,5,5,5]\n",
    "sweepn = [1.0e-2,1.0e-3,1.0e-4,1.0e-5,1.0e-6]\n",
    "sweepmin = [5,3,3,3,3]\n",
    "\n",
    "print(\"\\nDMRG for L = \",L)\n",
    "start_time = time.perf_counter()\n",
    "e, mps = fn.run(sweepd = sweepd, sweepi = sweepi, sweepn = sweepn, sweepmin = sweepmin)\n",
    "end_time = time.perf_counter()\n",
    "\n",
    "Energy = e    \n",
    "Time = end_time - start_time\n",
    "\n",
    "sol"
   ]
  },
  {
   "cell_type": "code",
   "execution_count": 7,
   "id": "c8120347",
   "metadata": {},
   "outputs": [
    {
     "ename": "NameError",
     "evalue": "name 'sol2' is not defined",
     "output_type": "error",
     "traceback": [
      "\u001b[0;31m---------------------------------------------------------------------------\u001b[0m",
      "\u001b[0;31mNameError\u001b[0m                                 Traceback (most recent call last)",
      "\u001b[0;32m<ipython-input-7-b11eacddf2af>\u001b[0m in \u001b[0;36m<module>\u001b[0;34m\u001b[0m\n\u001b[1;32m      2\u001b[0m \u001b[0;34m\u001b[0m\u001b[0m\n\u001b[1;32m      3\u001b[0m \u001b[0;31m#tsol = sol1\u001b[0m\u001b[0;34m\u001b[0m\u001b[0;34m\u001b[0m\u001b[0;34m\u001b[0m\u001b[0m\n\u001b[0;32m----> 4\u001b[0;31m \u001b[0mtsol\u001b[0m \u001b[0;34m=\u001b[0m \u001b[0msol2\u001b[0m\u001b[0;34m\u001b[0m\u001b[0;34m\u001b[0m\u001b[0m\n\u001b[0m\u001b[1;32m      5\u001b[0m \u001b[0mprint\u001b[0m\u001b[0;34m(\u001b[0m\u001b[0mtsol\u001b[0m\u001b[0;34m.\u001b[0m\u001b[0mcount\u001b[0m\u001b[0;34m(\u001b[0m\u001b[0;34m'1'\u001b[0m\u001b[0;34m)\u001b[0m\u001b[0;34m)\u001b[0m\u001b[0;34m\u001b[0m\u001b[0;34m\u001b[0m\u001b[0m\n\u001b[1;32m      6\u001b[0m \u001b[0mprint\u001b[0m\u001b[0;34m(\u001b[0m\u001b[0;34m'Current mps norm:'\u001b[0m\u001b[0;34m,\u001b[0m\u001b[0mmps\u001b[0m\u001b[0;34m.\u001b[0m\u001b[0mnorm\u001b[0m\u001b[0;34m(\u001b[0m\u001b[0;34m)\u001b[0m\u001b[0;34m)\u001b[0m\u001b[0;34m\u001b[0m\u001b[0;34m\u001b[0m\u001b[0m\n",
      "\u001b[0;31mNameError\u001b[0m: name 'sol2' is not defined"
     ]
    }
   ],
   "source": [
    "import simple_dmrg as dmrg\n",
    "\n",
    "#tsol = sol1\n",
    "tsol = sol2\n",
    "print(tsol.count('1'))\n",
    "print('Current mps norm:',mps.norm())\n",
    "x0 = [int(a) for a in tsol]\n",
    "print(x0)\n",
    "camp2 = abs(mps.contractWith(dmrg.MPS.scalarMPS(x0)))**2\n",
    "print(camp2)\n"
   ]
  },
  {
   "cell_type": "code",
   "execution_count": null,
   "id": "68a9d598",
   "metadata": {},
   "outputs": [],
   "source": [
    "x = x0 #np.random.randint(0,2,L)\n",
    "oamp2 = abs(mps.contractWith(dmrg.MPS.scalarMPS(x)))**2\n",
    "\n",
    "Ns = 10000\n",
    "Ne = 100000\n",
    "solist = {tsol:1}\n",
    "amplist = {tsol:oamp2}\n",
    "\n",
    "accept = 0\n",
    "for i in range(Ns):\n",
    "         \n",
    "    newx = np.random.randint(0,2,L)\n",
    "    nmps = dmrg.MPS.scalarMPS(newx)\n",
    "    \n",
    "    namp2 = abs(mps.contractWith(nmps))**2\n",
    "    \n",
    "    '''\n",
    "    key1 = ''\n",
    "    key2 = ''\n",
    "    for j in range(L):\n",
    "        key1 += str(x[j])\n",
    "        key2 += str(newx[j])                    \n",
    "    print(key1.count('1'),oamp2,key2.count('1'),namp2)\n",
    "    '''\n",
    "    \n",
    "    if(np.random.rand()<namp2/oamp2):\n",
    "        accept += 1\n",
    "        oamp2 = namp2\n",
    "        x = newx\n",
    "   \n",
    "    if(i>Ne):\n",
    "        key = ''\n",
    "        for j in x:\n",
    "            key += str(j)    \n",
    "            \n",
    "        if(key in solist):\n",
    "            solist[key] += 1\n",
    "        else:\n",
    "            solist[key] = 1\n",
    "            amplist[key] = oamp2\n",
    "        "
   ]
  },
  {
   "cell_type": "code",
   "execution_count": null,
   "id": "a563ec4e",
   "metadata": {},
   "outputs": [],
   "source": [
    "print('Acceptance Ratio:',accept/Ns)"
   ]
  },
  {
   "cell_type": "code",
   "execution_count": null,
   "id": "12972b55",
   "metadata": {},
   "outputs": [],
   "source": [
    "target = [x for x in solist.keys()]\n",
    "\n",
    "for i in target:\n",
    "    print(i,i.count('1'),solist[i],amplist[i])\n"
   ]
  },
  {
   "cell_type": "code",
   "execution_count": null,
   "id": "81a75b1d",
   "metadata": {},
   "outputs": [],
   "source": [
    "target"
   ]
  },
  {
   "cell_type": "code",
   "execution_count": null,
   "id": "451b2f39",
   "metadata": {},
   "outputs": [],
   "source": []
  }
 ],
 "metadata": {
  "kernelspec": {
   "display_name": "Python 3",
   "language": "python",
   "name": "python3"
  },
  "language_info": {
   "codemirror_mode": {
    "name": "ipython",
    "version": 3
   },
   "file_extension": ".py",
   "mimetype": "text/x-python",
   "name": "python",
   "nbconvert_exporter": "python",
   "pygments_lexer": "ipython3",
   "version": "3.8.10"
  }
 },
 "nbformat": 4,
 "nbformat_minor": 5
}
