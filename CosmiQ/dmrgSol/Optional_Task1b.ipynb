{
 "cells": [
  {
   "cell_type": "markdown",
   "id": "56425542",
   "metadata": {},
   "source": [
    "# Benchmarking Different Methods 2\n",
    "\n",
    "In this task we will benchmark a number of different methods evaluating both performance and quality \n",
    "of solutions. \n",
    "\n",
    "Here we continue exploration of methods."
   ]
  },
  {
   "cell_type": "code",
   "execution_count": 1,
   "id": "c46e714e",
   "metadata": {},
   "outputs": [],
   "source": [
    "import numpy as np\n",
    "import matplotlib.pyplot as plt\n",
    "import seaborn as sns \n",
    "import itertools\n",
    "import pandas as pd\n",
    "import time\n",
    "import matplotlib\n",
    "\n",
    "import flatnetwork as fnmod\n",
    "\n",
    "%matplotlib inline\n",
    "sns.set(rc={'figure.figsize':(15,12)})\n",
    "\n",
    "font = {'family' : 'Dejavu Sans',\n",
    "        'weight' : 'bold',\n",
    "        'size'   : 22}\n",
    "matplotlib.rc('font', **font)\n"
   ]
  },
  {
   "cell_type": "code",
   "execution_count": 2,
   "id": "046ff184",
   "metadata": {},
   "outputs": [],
   "source": [
    "import functools\n",
    "import networkx as nx \n",
    "import seaborn as sns\n",
    "\n",
    "def showGraph(vtxs, edges, vtxCs, solList):\n",
    "    sns.set(rc={'figure.figsize':(10,15)})\n",
    "    G = nx.Graph() \n",
    "    G.add_nodes_from(vtxs)\n",
    "    for edge in edges:\n",
    "        G.add_edge(edge[0],edge[1])\n",
    "    color_map = list()\n",
    "\n",
    "    for node in solList:\n",
    "        if node == '0':\n",
    "            color_map.append('lightblue')\n",
    "        else: \n",
    "            color_map.append('orange')\n",
    "\n",
    "    node_labels = {} \n",
    "    for node in G.nodes():\n",
    "        node_labels[node] = str(int(node))\n",
    "\n",
    "    pos = {v:vtxCs[v] for v in vtxs}\n",
    "    \n",
    "    flipped_pos = {node: (x,-y) for (node, (x,y)) in pos.items()}\n",
    "    fig, ax = plt.subplots(1, 1)       \n",
    "    \n",
    "    nx.draw_networkx(G, pos=flipped_pos, with_labels=False, node_color=color_map)\n",
    "    nx.draw_networkx_labels(G, flipped_pos, node_labels)\n",
    "    for node in G.nodes():\n",
    "        ax.add_artist(Circle(xy=flipped_pos[node], radius=.5, \n",
    "        facecolor='lightblue', alpha=0.2, edgecolor='black'))\n",
    "    plt.grid('on')\n",
    "    plt.show()"
   ]
  },
  {
   "cell_type": "code",
   "execution_count": 3,
   "id": "d9ab2c5b",
   "metadata": {},
   "outputs": [],
   "source": [
    "#import graphHelpers"
   ]
  },
  {
   "cell_type": "code",
   "execution_count": 4,
   "id": "091903a6",
   "metadata": {},
   "outputs": [
    {
     "name": "stdout",
     "output_type": "stream",
     "text": [
      "{(0, 1): 1.0, (0, 2): 1.0, (0, 3): 1.0, (0, 4): 1.0, (0, 5): 1.0, (0, 6): 1.0, (0, 7): 1.0, (0, 8): 1.0, (0, 9): 1.0, (1, 2): 1.0, (1, 3): 1.0, (1, 4): 1.0, (1, 5): 1.0, (1, 6): 1.0, (1, 7): 1.0, (1, 8): 1.0, (1, 9): 1.0, (2, 3): 1.0, (2, 4): 1.0, (2, 5): 1.0, (2, 6): 1.0, (2, 7): 1.0, (2, 8): 1.0, (2, 9): 1.0, (3, 4): 1.0, (3, 5): 1.0, (3, 6): 1.0, (3, 7): 1.0, (3, 8): 1.0, (3, 9): 1.0, (4, 5): 1.0, (4, 6): 1.0, (4, 7): 1.0, (4, 8): 1.0, (4, 9): 1.0, (5, 6): 1.0, (5, 7): 1.0, (5, 8): 1.0, (5, 9): 1.0, (6, 7): 1.0, (6, 8): 1.0, (6, 9): 1.0, (7, 8): 1.0, (7, 9): 1.0, (8, 9): 1.0}\n"
     ]
    }
   ],
   "source": [
    "L = 10\n",
    "vs = [v for v in range(L)]\n",
    "\n",
    "edges = {}\n",
    "for i in range(L):\n",
    "    for j in range(i+1,L):\n",
    "        edges[(i,j)] = 1.0\n",
    "\n",
    "print(edges)"
   ]
  },
  {
   "cell_type": "code",
   "execution_count": 5,
   "id": "72e87ada",
   "metadata": {},
   "outputs": [
    {
     "name": "stdout",
     "output_type": "stream",
     "text": [
      "9\n"
     ]
    }
   ],
   "source": [
    "maxl = max(abs(pair[1]-pair[0]) for pair in edges)\n",
    "print(maxl)\n",
    "\n",
    "fn = fnmod.FlatNetwork(L,edges,{},maxl)"
   ]
  },
  {
   "cell_type": "code",
   "execution_count": 6,
   "id": "56927c4d",
   "metadata": {},
   "outputs": [
    {
     "name": "stdout",
     "output_type": "stream",
     "text": [
      "\n",
      "DMRG for L =  10\n",
      "Schedule:  0  D =  2\n",
      "Beginning sweep:  0 of 5\n",
      "Sweep Energy: -2.00000000\n",
      "Beginning sweep:  1 of 5\n",
      "Sweep Energy: -2.00000000\n",
      "Beginning sweep:  2 of 5\n",
      "Sweep Energy: -2.00000000\n",
      "Beginning sweep:  3 of 5\n",
      "Sweep Energy: -2.00000000\n",
      "Beginning sweep:  4 of 5\n",
      "Sweep Energy: -2.00000000\n",
      "-----------\n",
      "Schedule:  1  D =  3\n",
      "Beginning sweep:  0 of 5\n",
      "Sweep Energy: -2.00000000\n",
      "Beginning sweep:  1 of 5\n",
      "Sweep Energy: -2.00000000\n",
      "Beginning sweep:  2 of 5\n",
      "Sweep Energy: -2.00000000\n",
      "Beginning sweep:  3 of 5\n",
      "Sweep Energy: -2.00000000\n",
      "-----------\n",
      "Schedule:  2  D =  3\n",
      "Beginning sweep:  0 of 5\n",
      "Sweep Energy: -2.00000000\n",
      "Beginning sweep:  1 of 5\n",
      "Sweep Energy: -2.00000000\n",
      "Beginning sweep:  2 of 5\n",
      "Sweep Energy: -2.00000000\n",
      "Beginning sweep:  3 of 5\n",
      "Sweep Energy: -2.00000000\n",
      "-----------\n",
      "Schedule:  3  D =  4\n",
      "Beginning sweep:  0 of 5\n",
      "Sweep Energy: -2.00000000\n",
      "Beginning sweep:  1 of 5\n",
      "Sweep Energy: -2.00000000\n",
      "Beginning sweep:  2 of 5\n",
      "Sweep Energy: -2.00000000\n",
      "Beginning sweep:  3 of 5\n",
      "Sweep Energy: -2.00000000\n",
      "-----------\n",
      "Schedule:  4  D =  5\n",
      "Beginning sweep:  0 of 5\n",
      "Sweep Energy: -2.00000000\n",
      "Beginning sweep:  1 of 5\n",
      "Sweep Energy: -2.00000000\n",
      "Beginning sweep:  2 of 5\n",
      "Sweep Energy: -2.00000000\n",
      "Beginning sweep:  3 of 5\n",
      "Sweep Energy: -2.00000000\n",
      "-----------\n"
     ]
    }
   ],
   "source": [
    "sweepd = [2,3,3,4,5]\n",
    "sweepi = [5,5,5,5,5]\n",
    "sweepn = [1.0e-2,1.0e-3,1.0e-4,1.0e-5,1.0e-6]\n",
    "sweepmin = [5,3,3,3,3]\n",
    "\n",
    "print(\"\\nDMRG for L = \",L)\n",
    "start_time = time.perf_counter()\n",
    "e, mps = fn.run(sweepd = sweepd, sweepi = sweepi, sweepn = sweepn, sweepmin = sweepmin)\n",
    "end_time = time.perf_counter()\n",
    "\n",
    "Energy = e    \n",
    "Time = end_time - start_time\n",
    "\n",
    "sol"
   ]
  },
  {
   "cell_type": "code",
   "execution_count": 9,
   "id": "451b2f39",
   "metadata": {},
   "outputs": [],
   "source": [
    "y = lambda x,y,z: x+y+z"
   ]
  },
  {
   "cell_type": "code",
   "execution_count": null,
   "id": "d512b53a",
   "metadata": {},
   "outputs": [],
   "source": []
  }
 ],
 "metadata": {
  "kernelspec": {
   "display_name": "Python 3",
   "language": "python",
   "name": "python3"
  },
  "language_info": {
   "codemirror_mode": {
    "name": "ipython",
    "version": 3
   },
   "file_extension": ".py",
   "mimetype": "text/x-python",
   "name": "python",
   "nbconvert_exporter": "python",
   "pygments_lexer": "ipython3",
   "version": "3.8.10"
  }
 },
 "nbformat": 4,
 "nbformat_minor": 5
}
