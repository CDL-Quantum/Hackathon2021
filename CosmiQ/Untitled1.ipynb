{
 "cells": [
  {
   "cell_type": "code",
   "execution_count": 1,
   "id": "fc3566e7",
   "metadata": {},
   "outputs": [
    {
     "ename": "RuntimeError",
     "evalue": "module compiled against API version 0xe but this version of numpy is 0xd",
     "output_type": "error",
     "traceback": [
      "\u001b[0;31m---------------------------------------------------------------------------\u001b[0m",
      "\u001b[0;31mRuntimeError\u001b[0m                              Traceback (most recent call last)",
      "\u001b[0;31mRuntimeError\u001b[0m: module compiled against API version 0xe but this version of numpy is 0xd"
     ]
    },
    {
     "ename": "RuntimeError",
     "evalue": "module compiled against API version 0xe but this version of numpy is 0xd",
     "output_type": "error",
     "traceback": [
      "\u001b[0;31m---------------------------------------------------------------------------\u001b[0m",
      "\u001b[0;31mRuntimeError\u001b[0m                              Traceback (most recent call last)",
      "\u001b[0;31mRuntimeError\u001b[0m: module compiled against API version 0xe but this version of numpy is 0xd"
     ]
    }
   ],
   "source": [
    "import numpy as np\n",
    "import matplotlib.pyplot as plt\n",
    "import qiskit.pulse.library as pulse_lib\n",
    "\n",
    "from scipy.optimize import curve_fit\n",
    "from scipy.signal import find_peaks\n",
    "from qiskit import IBMQ\n",
    "from qiskit import pulse\n",
    "from qiskit.compiler import assemble\n",
    "from qiskit.tools.monitor import job_monitor\n",
    "\n",
    "from gate_constructor import Calibration"
   ]
  },
  {
   "cell_type": "code",
   "execution_count": 2,
   "id": "02f94ab4",
   "metadata": {},
   "outputs": [],
   "source": [
    "cal = Calibration()"
   ]
  },
  {
   "cell_type": "markdown",
   "id": "593f0607",
   "metadata": {},
   "source": [
    "# frequency 10"
   ]
  },
  {
   "cell_type": "code",
   "execution_count": 3,
   "id": "8914d0eb",
   "metadata": {},
   "outputs": [
    {
     "name": "stdout",
     "output_type": "stream",
     "text": [
      "Job Status: job has successfully run\n"
     ]
    }
   ],
   "source": [
    "frequencies,schedules = cal.frequency01_schedules()\n",
    "result_data = cal.run_schedule(schedules)"
   ]
  },
  {
   "cell_type": "code",
   "execution_count": 4,
   "id": "efa3fe45",
   "metadata": {},
   "outputs": [
    {
     "data": {
      "text/plain": [
       "<matplotlib.collections.PathCollection at 0x13c520910>"
      ]
     },
     "execution_count": 4,
     "metadata": {},
     "output_type": "execute_result"
    },
    {
     "data": {
      "image/png": "[encoded data removed]",
      "text/plain": [
       "<Figure size 432x288 with 1 Axes>"
      ]
     },
     "metadata": {
      "needs_background": "light"
     },
     "output_type": "display_data"
    }
   ],
   "source": [
    "plt.scatter(np.real(result_data), np.imag(result_data))"
   ]
  },
  {
   "cell_type": "code",
   "execution_count": 5,
   "id": "b76c1005",
   "metadata": {},
   "outputs": [
    {
     "data": {
      "image/png": "[encoded data removed]",
      "text/plain": [
       "<Figure size 432x288 with 1 Axes>"
      ]
     },
     "metadata": {
      "needs_background": "light"
     },
     "output_type": "display_data"
    }
   ],
   "source": [
    "cal.fit_results_f01(result_data,frequencies)"
   ]
  },
  {
   "cell_type": "code",
   "execution_count": 6,
   "id": "260446dc",
   "metadata": {},
   "outputs": [
    {
     "data": {
      "text/plain": [
       "-2.312190329183524e-05"
      ]
     },
     "execution_count": 6,
     "metadata": {},
     "output_type": "execute_result"
    }
   ],
   "source": [
    "cal.df01_calib/cal.f01_default"
   ]
  },
  {
   "cell_type": "markdown",
   "id": "bf662c76",
   "metadata": {},
   "source": [
    "# amplitude 01"
   ]
  },
  {
   "cell_type": "code",
   "execution_count": 7,
   "id": "d777173e",
   "metadata": {},
   "outputs": [
    {
     "name": "stdout",
     "output_type": "stream",
     "text": [
      "Job Status: job has successfully run\n"
     ]
    }
   ],
   "source": [
    "drive_powers,schedules = cal.amplitude01_schedules()\n",
    "result_data = cal.run_schedule(schedules)"
   ]
  },
  {
   "cell_type": "code",
   "execution_count": null,
   "id": "83e71d58",
   "metadata": {},
   "outputs": [],
   "source": [
    "plt.scatter(np.real(result_data), np.imag(result_data))"
   ]
  },
  {
   "cell_type": "code",
   "execution_count": null,
   "id": "6aa23556",
   "metadata": {},
   "outputs": [],
   "source": [
    "cal.fit_results_a01(result_data,drive_powers)"
   ]
  },
  {
   "cell_type": "code",
   "execution_count": null,
   "id": "f4d70640",
   "metadata": {},
   "outputs": [],
   "source": [
    "cal.a01_calib"
   ]
  },
  {
   "cell_type": "markdown",
   "id": "9090564f",
   "metadata": {},
   "source": [
    "# frequency 21"
   ]
  },
  {
   "cell_type": "code",
   "execution_count": null,
   "id": "73b71b5e",
   "metadata": {},
   "outputs": [],
   "source": [
    "frequencies,schedules = cal.frequency12_schedules()\n",
    "result_data = cal.run_schedule(schedules)"
   ]
  },
  {
   "cell_type": "code",
   "execution_count": null,
   "id": "2afd4103",
   "metadata": {},
   "outputs": [],
   "source": [
    "plt.scatter(np.real(result_data), np.imag(result_data))"
   ]
  },
  {
   "cell_type": "code",
   "execution_count": null,
   "id": "e6ecd344",
   "metadata": {},
   "outputs": [],
   "source": [
    "cal.fit_results_f12(result_data,frequencies)"
   ]
  },
  {
   "cell_type": "code",
   "execution_count": null,
   "id": "eabf763d",
   "metadata": {},
   "outputs": [],
   "source": [
    "cal.df12_calib"
   ]
  },
  {
   "cell_type": "markdown",
   "id": "1c5c54b0",
   "metadata": {},
   "source": [
    "# amplitude 12"
   ]
  },
  {
   "cell_type": "code",
   "execution_count": null,
   "id": "ea141711",
   "metadata": {},
   "outputs": [],
   "source": [
    "drive_powers,schedules = cal.amplitude12_schedules()\n",
    "result_data = cal.run_schedule(schedules)"
   ]
  },
  {
   "cell_type": "code",
   "execution_count": null,
   "id": "ed3a88e5",
   "metadata": {},
   "outputs": [],
   "source": [
    "plt.scatter(np.real(result_data), np.imag(result_data))"
   ]
  },
  {
   "cell_type": "code",
   "execution_count": null,
   "id": "46e02681",
   "metadata": {},
   "outputs": [],
   "source": [
    "cal.fit_results_a12(result_data,drive_powers)"
   ]
  },
  {
   "cell_type": "code",
   "execution_count": null,
   "id": "da1c04de",
   "metadata": {},
   "outputs": [],
   "source": [
    "cal.a12_calib"
   ]
  },
  {
   "cell_type": "code",
   "execution_count": null,
   "id": "91402d8b",
   "metadata": {},
   "outputs": [],
   "source": []
  }
 ],
 "metadata": {
  "kernelspec": {
   "display_name": "Python 3",
   "language": "python",
   "name": "python3"
  },
  "language_info": {
   "codemirror_mode": {
    "name": "ipython",
    "version": 3
   },
   "file_extension": ".py",
   "mimetype": "text/x-python",
   "name": "python",
   "nbconvert_exporter": "python",
   "pygments_lexer": "ipython3",
   "version": "3.7.10"
  }
 },
 "nbformat": 4,
 "nbformat_minor": 5
}
