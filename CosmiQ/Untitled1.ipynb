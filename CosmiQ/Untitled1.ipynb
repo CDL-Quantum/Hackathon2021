{
 "cells": [
  {
   "cell_type": "code",
   "execution_count": 1,
   "id": "f811ae38",
   "metadata": {},
   "outputs": [
    {
     "ename": "RuntimeError",
     "evalue": "module compiled against API version 0xe but this version of numpy is 0xd",
     "output_type": "error",
     "traceback": [
      "\u001b[0;31m---------------------------------------------------------------------------\u001b[0m",
      "\u001b[0;31mRuntimeError\u001b[0m                              Traceback (most recent call last)",
      "\u001b[0;31mRuntimeError\u001b[0m: module compiled against API version 0xe but this version of numpy is 0xd"
     ]
    },
    {
     "ename": "RuntimeError",
     "evalue": "module compiled against API version 0xe but this version of numpy is 0xd",
     "output_type": "error",
     "traceback": [
      "\u001b[0;31m---------------------------------------------------------------------------\u001b[0m",
      "\u001b[0;31mRuntimeError\u001b[0m                              Traceback (most recent call last)",
      "\u001b[0;31mRuntimeError\u001b[0m: module compiled against API version 0xe but this version of numpy is 0xd"
     ]
    }
   ],
   "source": [
    "import numpy as np\n",
    "import matplotlib.pyplot as plt\n",
    "from scipy.optimize import curve_fit\n",
    "from scipy.signal import find_peaks\n",
    "from qiskit import IBMQ\n",
    "from qiskit import pulse\n",
    "import qiskit.pulse.library as pulse_lib\n",
    "from qiskit.compiler import assemble\n",
    "from qiskit.tools.monitor import job_monitor\n",
    "from scipy.optimize import curve_fit\n",
    "\n",
    "from gate_constructor import Calibration\n",
    "from gate_constructor import match_sine, match_sinc2"
   ]
  },
  {
   "cell_type": "code",
   "execution_count": 2,
   "id": "21a7348a",
   "metadata": {},
   "outputs": [],
   "source": [
    "NUM_SHOTS = 1024\n",
    "SIGMA = 75e-9\n",
    "TRUNC = 8\n",
    "MAXFREQS = 75\n",
    "MAXDRIVE = 0.1\n",
    "SAMPLE = 16\n",
    "SCALE = 1e-14"
   ]
  },
  {
   "cell_type": "code",
   "execution_count": 3,
   "id": "8a132da9",
   "metadata": {},
   "outputs": [],
   "source": [
    "cal = Calibration()"
   ]
  },
  {
   "cell_type": "code",
   "execution_count": 4,
   "id": "562024e2",
   "metadata": {},
   "outputs": [
    {
     "ename": "AttributeError",
     "evalue": "'Calibration' object has no attribute 'df01_calib'",
     "output_type": "error",
     "traceback": [
      "\u001b[0;31m---------------------------------------------------------------------------\u001b[0m",
      "\u001b[0;31mAttributeError\u001b[0m                            Traceback (most recent call last)",
      "\u001b[0;32m<ipython-input-4-7dafbfa6a8b6>\u001b[0m in \u001b[0;36m<module>\u001b[0;34m\u001b[0m\n\u001b[0;32m----> 1\u001b[0;31m \u001b[0mdf01\u001b[0m \u001b[0;34m=\u001b[0m \u001b[0mcal\u001b[0m\u001b[0;34m.\u001b[0m\u001b[0mdf01_calib\u001b[0m\u001b[0;34m\u001b[0m\u001b[0;34m\u001b[0m\u001b[0m\n\u001b[0m\u001b[1;32m      2\u001b[0m \u001b[0ma01\u001b[0m \u001b[0;34m=\u001b[0m \u001b[0mcal\u001b[0m\u001b[0;34m.\u001b[0m\u001b[0ma01_calib\u001b[0m\u001b[0;34m\u001b[0m\u001b[0;34m\u001b[0m\u001b[0m\n\u001b[1;32m      3\u001b[0m \u001b[0mdf12\u001b[0m \u001b[0;34m=\u001b[0m \u001b[0mcal\u001b[0m\u001b[0;34m.\u001b[0m\u001b[0mdf12_calib\u001b[0m\u001b[0;34m\u001b[0m\u001b[0;34m\u001b[0m\u001b[0m\n\u001b[1;32m      4\u001b[0m \u001b[0mprint\u001b[0m\u001b[0;34m(\u001b[0m\u001b[0mdf01\u001b[0m\u001b[0;34m)\u001b[0m\u001b[0;34m\u001b[0m\u001b[0;34m\u001b[0m\u001b[0m\n\u001b[1;32m      5\u001b[0m \u001b[0mprint\u001b[0m\u001b[0;34m(\u001b[0m\u001b[0ma01\u001b[0m\u001b[0;34m)\u001b[0m\u001b[0;34m\u001b[0m\u001b[0;34m\u001b[0m\u001b[0m\n",
      "\u001b[0;31mAttributeError\u001b[0m: 'Calibration' object has no attribute 'df01_calib'"
     ]
    }
   ],
   "source": [
    "df01 = cal.df01_calib\n",
    "a01 = cal.a01_calib\n",
    "df12 = cal.df12_calib\n",
    "print(df01)\n",
    "print(a01)\n",
    "print(df12)"
   ]
  },
  {
   "cell_type": "markdown",
   "id": "93d309a3",
   "metadata": {},
   "source": [
    "# frequency 10"
   ]
  },
  {
   "cell_type": "code",
   "execution_count": 4,
   "id": "159e9363",
   "metadata": {},
   "outputs": [
    {
     "name": "stdout",
     "output_type": "stream",
     "text": [
      "Job Status: job has successfully run\n"
     ]
    }
   ],
   "source": [
    "frequencies,schedules = cal.frequency01_schedules()\n",
    "result_data = cal.run_schedule(schedules)"
   ]
  },
  {
   "cell_type": "code",
   "execution_count": 5,
   "id": "f6c0b68d",
   "metadata": {},
   "outputs": [
    {
     "data": {
      "text/plain": [
       "<matplotlib.collections.PathCollection at 0x13e814750>"
      ]
     },
     "execution_count": 5,
     "metadata": {},
     "output_type": "execute_result"
    },
    {
     "data": {
      "image/png": "[encoded data removed]",
      "text/plain": [
       "<Figure size 432x288 with 1 Axes>"
      ]
     },
     "metadata": {
      "needs_background": "light"
     },
     "output_type": "display_data"
    }
   ],
   "source": [
    "plt.scatter(np.real(result_data), np.imag(result_data))"
   ]
  },
  {
   "cell_type": "code",
   "execution_count": 6,
   "id": "0424e6ef",
   "metadata": {},
   "outputs": [
    {
     "data": {
      "image/png": "[encoded data removed]",
      "text/plain": [
       "<Figure size 432x288 with 1 Axes>"
      ]
     },
     "metadata": {
      "needs_background": "light"
     },
     "output_type": "display_data"
    }
   ],
   "source": [
    "cal.fit_results_f01(result_data,frequencies)"
   ]
  },
  {
   "cell_type": "code",
   "execution_count": 7,
   "id": "74b9f9d3",
   "metadata": {},
   "outputs": [
    {
     "data": {
      "text/plain": [
       "-3.823846356203751e-06"
      ]
     },
     "execution_count": 7,
     "metadata": {},
     "output_type": "execute_result"
    }
   ],
   "source": [
    "cal.df01_calib/cal.f01_default"
   ]
  },
  {
   "cell_type": "markdown",
   "id": "2d323547",
   "metadata": {},
   "source": [
    "# amplitude 01"
   ]
  },
  {
   "cell_type": "code",
   "execution_count": 8,
   "id": "8c1c95b4",
   "metadata": {},
   "outputs": [],
   "source": [
    "drive_powers,schedules = cal.amplitude01_schedules()"
   ]
  },
  {
   "cell_type": "code",
   "execution_count": null,
   "id": "5a64c552",
   "metadata": {},
   "outputs": [
    {
     "name": "stdout",
     "output_type": "stream",
     "text": [
      "Job Status: job is queued (189)   "
     ]
    }
   ],
   "source": [
    "result_data = cal.run_schedule(schedules)"
   ]
  },
  {
   "cell_type": "code",
   "execution_count": null,
   "id": "f11f52f6",
   "metadata": {},
   "outputs": [],
   "source": [
    "plt.plot(np.real(result_data), np.imag(result_data))"
   ]
  },
  {
   "cell_type": "code",
   "execution_count": null,
   "id": "00752aff",
   "metadata": {},
   "outputs": [],
   "source": [
    "cal.fit_results_a01(result_data,drive_powers)"
   ]
  },
  {
   "cell_type": "code",
   "execution_count": null,
   "id": "3602e101",
   "metadata": {},
   "outputs": [],
   "source": [
    "cal.a01_calib"
   ]
  }
 ],
 "metadata": {
  "kernelspec": {
   "display_name": "Python 3",
   "language": "python",
   "name": "python3"
  },
  "language_info": {
   "codemirror_mode": {
    "name": "ipython",
    "version": 3
   },
   "file_extension": ".py",
   "mimetype": "text/x-python",
   "name": "python",
   "nbconvert_exporter": "python",
   "pygments_lexer": "ipython3",
   "version": "3.7.10"
  }
 },
 "nbformat": 4,
 "nbformat_minor": 5
}
