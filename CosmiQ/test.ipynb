{
 "cells": [
  {
   "cell_type": "markdown",
   "metadata": {},
   "source": [
    "# Test Binder environment setup"
   ]
  },
  {
   "cell_type": "markdown",
   "metadata": {},
   "source": [
    "This notebook references code from [Xanadu's strawberryfields](https://github.com/XanaduAI/strawberryfields/blob/master/examples/boson_sampling.py)"
   ]
  },
  {
   "cell_type": "code",
   "execution_count": 1,
   "metadata": {},
   "outputs": [
    {
     "name": "stdout",
     "output_type": "stream",
     "text": [
      "0.17468916048563926\n",
      "0.1064419272464234\n"
     ]
    }
   ],
   "source": [
    "import strawberryfields as sf\n",
    "from strawberryfields.ops import *\n",
    "\n",
    "# initialize engine and program objects\n",
    "eng = sf.Engine(backend=\"fock\", backend_options={\"cutoff_dim\": 7})\n",
    "boson_sampling = sf.Program(4)\n",
    "\n",
    "with boson_sampling.context as q:\n",
    "    # prepare the input fock states\n",
    "    Fock(1) | q[0]\n",
    "    Fock(1) | q[1]\n",
    "    Vac     | q[2]\n",
    "    Fock(1) | q[3]\n",
    "\n",
    "    # rotation gates\n",
    "    Rgate(0.5719) | q[0]\n",
    "    Rgate(-1.9782) | q[1]\n",
    "    Rgate(2.0603) | q[2]\n",
    "    Rgate(0.0644) | q[3]\n",
    "\n",
    "    # beamsplitter array\n",
    "    BSgate(0.7804, 0.8578)  | (q[0], q[1])\n",
    "    BSgate(0.06406, 0.5165) | (q[2], q[3])\n",
    "    BSgate(0.473, 0.1176)   | (q[1], q[2])\n",
    "    BSgate(0.563, 0.1517)   | (q[0], q[1])\n",
    "    BSgate(0.1323, 0.9946)  | (q[2], q[3])\n",
    "    BSgate(0.311, 0.3231)   | (q[1], q[2])\n",
    "    BSgate(0.4348, 0.0798)  | (q[0], q[1])\n",
    "    BSgate(0.4368, 0.6157)  | (q[2], q[3])\n",
    "    # end circuit\n",
    "\n",
    "# run the engine\n",
    "results = eng.run(boson_sampling)\n",
    "\n",
    "# extract the joint Fock probabilities\n",
    "probs = results.state.all_fock_probs()\n",
    "\n",
    "# print the joint Fock state probabilities\n",
    "print(probs[1, 1, 0, 1])\n",
    "print(probs[2, 0, 0, 1])"
   ]
  },
  {
   "cell_type": "code",
   "execution_count": null,
   "metadata": {},
   "outputs": [],
   "source": [
    "Done!"
   ]
  }
 ],
 "metadata": {
  "kernelspec": {
   "display_name": "Python 3",
   "language": "python",
   "name": "python3"
  },
  "language_info": {
   "codemirror_mode": {
    "name": "ipython",
    "version": 3
   },
   "file_extension": ".py",
   "mimetype": "text/x-python",
   "name": "python",
   "nbconvert_exporter": "python",
   "pygments_lexer": "ipython3",
   "version": "3.7.1"
  }
 },
 "nbformat": 4,
 "nbformat_minor": 4
}
