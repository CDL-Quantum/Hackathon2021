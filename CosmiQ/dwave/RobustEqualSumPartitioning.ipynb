{
 "cells": [
  {
   "cell_type": "markdown",
   "id": "d59cbe0e",
   "metadata": {},
   "source": [
    "# Robust Equal Sum partitioning using DQM"
   ]
  },
  {
   "cell_type": "markdown",
   "id": "66a5bc34",
   "metadata": {},
   "source": [
    "We have a list of N values A. The goal is to find two sets of variable whose sum is equal, enabling outliers."
   ]
  },
  {
   "cell_type": "markdown",
   "id": "b6737603",
   "metadata": {},
   "source": [
    "## ExactDQM"
   ]
  },
  {
   "cell_type": "code",
   "execution_count": 22,
   "id": "4665f059",
   "metadata": {},
   "outputs": [],
   "source": [
    "from dimod import DiscreteQuadraticModel, ExactDQMSolver\n",
    "from itertools import combinations\n",
    "import numpy as np"
   ]
  },
  {
   "cell_type": "code",
   "execution_count": 23,
   "id": "9e669ca2",
   "metadata": {},
   "outputs": [
    {
     "name": "stdout",
     "output_type": "stream",
     "text": [
      "37\n"
     ]
    }
   ],
   "source": [
    "values = [7, 2, 3, 1, 8, 3, 1, 2, 10]\n",
    "print(np.sum(values))  # no good partition, as sum is uneven\n",
    "\n",
    "dqm = DiscreteQuadraticModel()\n",
    "n = len(values)\n",
    "m = 3 # num_partitions\n",
    "\n",
    "x = {i: dqm.add_variable(m) for i in range(n)}\n",
    "# x0 = {0->neither, 1->set1, 2->set2}"
   ]
  },
  {
   "cell_type": "code",
   "execution_count": 24,
   "id": "4f047bb2",
   "metadata": {},
   "outputs": [],
   "source": [
    "dqm.add_linear_equality_constraint(\n",
    "[(x[i], 1, values[i]) for i in range(n)] + [(x[i], 2, -values[i]) for i in range(n)],\n",
    "constant=0,\n",
    "lagrange_multiplier=100)"
   ]
  },
  {
   "cell_type": "code",
   "execution_count": 25,
   "id": "46d54e21",
   "metadata": {},
   "outputs": [],
   "source": [
    "for i in range(n):\n",
    "    dqm.set_linear_case(x[i],0,1)"
   ]
  },
  {
   "cell_type": "code",
   "execution_count": 26,
   "id": "2432b7f0",
   "metadata": {},
   "outputs": [
    {
     "name": "stdout",
     "output_type": "stream",
     "text": [
      "  0 1 2 3 4 5 6 7 8 energy num_oc.\n",
      "0 1 2 2 0 2 2 1 2 1    1.0       1\n",
      "1 1 2 1 2 1 2 0 2 2    1.0       1\n",
      "2 0 2 1 2 2 2 2 1 1    1.0       1\n",
      "3 1 2 2 2 2 0 2 2 1    1.0       1\n",
      "4 1 2 0 2 1 2 2 1 2    1.0       1\n",
      "['INTEGER', 5 rows, 5 samples, 9 variables]\n"
     ]
    }
   ],
   "source": [
    "res = ExactDQMSolver().sample_dqm(dqm).truncate(5)\n",
    "print(res)"
   ]
  },
  {
   "cell_type": "code",
   "execution_count": 27,
   "id": "ae1ba4b4",
   "metadata": {},
   "outputs": [
    {
     "name": "stdout",
     "output_type": "stream",
     "text": [
      "{0: 1, 1: 2, 2: 2, 3: 0, 4: 2, 5: 2, 6: 1, 7: 2, 8: 1}\n",
      "37\n",
      "1 [1]\n",
      "18 [7, 1, 10]\n",
      "18 [2, 3, 8, 3, 2]\n"
     ]
    }
   ],
   "source": [
    "sample = res.first.sample\n",
    "\n",
    "print(sample)\n",
    "print(sum(values))\n",
    "for k in range(m):\n",
    "    set1 = [values[i] for i in x if sample[x[i]] == k]\n",
    "    print(sum(set1), set1)"
   ]
  },
  {
   "cell_type": "code",
   "execution_count": 28,
   "id": "43208fe9",
   "metadata": {},
   "outputs": [
    {
     "name": "stdout",
     "output_type": "stream",
     "text": [
      "[1 2 1 2 1 2 0 2 2]\n",
      "37\n",
      "1 [1]\n",
      "18 [7, 3, 8]\n",
      "18 [2, 1, 3, 2, 10]\n"
     ]
    }
   ],
   "source": [
    "samplebis = res.record[1].sample\n",
    "\n",
    "print(samplebis)\n",
    "print(sum(values))\n",
    "for k in range(m):\n",
    "    set1 = [values[i] for i in x if samplebis[x[i]] == k]\n",
    "    print(sum(set1), set1)"
   ]
  },
  {
   "cell_type": "markdown",
   "id": "7d5d0293",
   "metadata": {},
   "source": [
    "# On hardware"
   ]
  },
  {
   "cell_type": "code",
   "execution_count": 10,
   "id": "3d23bdb9",
   "metadata": {},
   "outputs": [],
   "source": [
    "# from dwave.system import DWaveSampler, EmbeddingComposite"
   ]
  },
  {
   "cell_type": "code",
   "execution_count": null,
   "id": "2e231397",
   "metadata": {},
   "outputs": [],
   "source": [
    "# sampler = EmbeddingComposite(DWaveSampler())\n",
    "# response = sampler.sample_qubo(dqm,\n",
    "#                                num_reads=1000,\n",
    "#                                label='Partitioning')"
   ]
  },
  {
   "cell_type": "code",
   "execution_count": 29,
   "id": "bb6a4ccf",
   "metadata": {},
   "outputs": [],
   "source": [
    "from dwave.system import LeapHybridDQMSampler"
   ]
  },
  {
   "cell_type": "code",
   "execution_count": 31,
   "id": "b744ae4d",
   "metadata": {},
   "outputs": [],
   "source": [
    "# sampler = EmbeddingComposite(LeapHybridDQMSampler())\n",
    "sampler = LeapHybridDQMSampler()"
   ]
  },
  {
   "cell_type": "code",
   "execution_count": 32,
   "id": "17857376",
   "metadata": {},
   "outputs": [],
   "source": [
    "response = sampler.sample_dqm(dqm, label='Example - Graph Partitioning DQM')"
   ]
  },
  {
   "cell_type": "code",
   "execution_count": null,
   "id": "40f43c86",
   "metadata": {},
   "outputs": [],
   "source": [
    "print(response.first.sample)"
   ]
  },
  {
   "cell_type": "code",
   "execution_count": null,
   "id": "6750ae3e",
   "metadata": {},
   "outputs": [],
   "source": []
  }
 ],
 "metadata": {
  "kernelspec": {
   "display_name": "Python 3",
   "language": "python",
   "name": "python3"
  },
  "language_info": {
   "codemirror_mode": {
    "name": "ipython",
    "version": 3
   },
   "file_extension": ".py",
   "mimetype": "text/x-python",
   "name": "python",
   "nbconvert_exporter": "python",
   "pygments_lexer": "ipython3",
   "version": "3.9.5"
  }
 },
 "nbformat": 4,
 "nbformat_minor": 5
}
