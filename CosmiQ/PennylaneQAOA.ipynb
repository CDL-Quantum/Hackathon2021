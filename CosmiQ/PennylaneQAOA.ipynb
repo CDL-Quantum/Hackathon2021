{
 "cells": [
  {
   "cell_type": "code",
   "execution_count": 2,
   "id": "2152b922",
   "metadata": {},
   "outputs": [],
   "source": [
    "import numpy as np\n",
    "import pandas as pd\n",
    "import pennylane as qml\n",
    "import matplotlib.pyplot as plt\n",
    "import strawberryfields as sf\n",
    "\n",
    "from strawberryfields.ops import *\n",
    "from pennylane.templates import QAOAEmbedding\n",
    "import flatnetwork_simple as fns"
   ]
  },
  {
   "cell_type": "markdown",
   "id": "8c856a00",
   "metadata": {},
   "source": [
    "# Working Circuit Embedding"
   ]
  },
  {
   "cell_type": "code",
   "execution_count": 39,
   "id": "b61dffcd",
   "metadata": {},
   "outputs": [
    {
     "name": "stdout",
     "output_type": "stream",
     "text": [
      "Max MPO dim:  2\n",
      "{(0, 0): -1.5, (1, 1): -1.5, (2, 2): -1.5} {(0, 0): 0.25, (1, 1): 0.25, (2, 2): 0.25}\n",
      "0.30599237067365803\n",
      " 0: ──H──╭RZ(-1.5)──RY(-1.5)──H──╭RZ(0.25)──RY(0.25)──H──┤ ⟨Z⟩ \n",
      " 1: ──H──╰RZ(-1.5)──RY(-1.5)──H──╰RZ(0.25)──RY(0.25)──H──┤     \n",
      "\n"
     ]
    }
   ],
   "source": [
    "wires = 2\n",
    "#Setup\n",
    "K = 20\n",
    "dt = 1.0\n",
    "\n",
    "#Parameters\n",
    "mu = lambda t,i: 1.0\n",
    "rho = 1.0\n",
    "\n",
    "#Annealing params\n",
    "J = 1.0\n",
    "theta = -J*dt/K\n",
    "\n",
    "L = [3,1,1] \n",
    "d = 2\n",
    "nmodes = int(np.prod(L))\n",
    "\n",
    "fnet = fns.FlatNetwork(L,d)\n",
    "fnet.loadParams(mu, rho)\n",
    "fnet.make_mpos()\n",
    "\n",
    "S, D = fnet.getHamiltonian()\n",
    "\n",
    "layer1   = [S[i] for i in S] # only works when len(layer1)\n",
    "layer2   = [D[i] for i in D] # and len(layer2) are equal\n",
    "weights  = [layer1, layer2]\n",
    "\n",
    "dev = qml.device('default.qubit', wires=wires)\n",
    "\n",
    "@qml.qnode(dev)\n",
    "def circuit(weights, f=None):\n",
    "    QAOAEmbedding(features=f, weights=weights, wires=range(wires))\n",
    "    #QAOAEmbedding(features=f, weights=weights, wires=range(2), local_field='Z')\n",
    "    return qml.expval(qml.PauliZ(0))\n",
    "\n",
    "print(S, D)\n",
    "print(circuit(weights, f=features)) #outputs a measurement of an expected value of PauliZ matrix\n",
    "print(circuit.draw())"
   ]
  },
  {
   "cell_type": "markdown",
   "id": "5ad29eac",
   "metadata": {},
   "source": [
    "# Custom Circuit Definition"
   ]
  },
  {
   "cell_type": "code",
   "execution_count": 40,
   "id": "8a57f2a3",
   "metadata": {},
   "outputs": [
    {
     "name": "stdout",
     "output_type": "stream",
     "text": [
      "Max MPO dim:  9\n"
     ]
    }
   ],
   "source": [
    "K = 20\n",
    "dt = 1.0\n",
    "\n",
    "#Parameters\n",
    "mu = lambda t,i: 1.0\n",
    "rho = 1.0\n",
    "\n",
    "#Annealing params\n",
    "J = 1.0\n",
    "theta = -J*dt/K\n",
    "\n",
    "L = [2,2,2] \n",
    "d = 3\n",
    "nmodes = int(np.prod(L))\n",
    "\n",
    "fnet = fns.FlatNetwork(L,d)\n",
    "fnet.loadParams(mu, rho)\n",
    "fnet.make_mpos()\n",
    "\n",
    "S, D = fnet.getHamiltonian()\n",
    "\n",
    "#S, D"
   ]
  },
  {
   "cell_type": "code",
   "execution_count": 41,
   "id": "34ffb951",
   "metadata": {},
   "outputs": [],
   "source": [
    "for i in range(K):\n",
    "    qml.Hadamard(i)"
   ]
  },
  {
   "cell_type": "code",
   "execution_count": 43,
   "id": "b6766de6",
   "metadata": {},
   "outputs": [
    {
     "ename": "NameError",
     "evalue": "name 'my_quantum_functiion' is not defined",
     "output_type": "error",
     "traceback": [
      "\u001b[0;31m---------------------------------------------------------------------------\u001b[0m",
      "\u001b[0;31mNameError\u001b[0m                                 Traceback (most recent call last)",
      "\u001b[0;32m<ipython-input-43-024c305c6bbd>\u001b[0m in \u001b[0;36m<module>\u001b[0;34m\u001b[0m\n\u001b[1;32m      6\u001b[0m     \u001b[0mqml\u001b[0m\u001b[0;34m.\u001b[0m\u001b[0mRY\u001b[0m\u001b[0;34m(\u001b[0m\u001b[0my\u001b[0m\u001b[0;34m,\u001b[0m \u001b[0mwires\u001b[0m\u001b[0;34m=\u001b[0m\u001b[0;36m1\u001b[0m\u001b[0;34m)\u001b[0m\u001b[0;34m\u001b[0m\u001b[0;34m\u001b[0m\u001b[0m\n\u001b[1;32m      7\u001b[0m     \u001b[0;32mreturn\u001b[0m \u001b[0mqml\u001b[0m\u001b[0;34m.\u001b[0m\u001b[0mexpval\u001b[0m\u001b[0;34m(\u001b[0m\u001b[0mqml\u001b[0m\u001b[0;34m.\u001b[0m\u001b[0mPauliZ\u001b[0m\u001b[0;34m(\u001b[0m\u001b[0;36m1\u001b[0m\u001b[0;34m)\u001b[0m\u001b[0;34m)\u001b[0m\u001b[0;34m\u001b[0m\u001b[0;34m\u001b[0m\u001b[0m\n\u001b[0;32m----> 8\u001b[0;31m \u001b[0mmy_quantum_functiion\u001b[0m\u001b[0;34m(\u001b[0m\u001b[0;36m0.1\u001b[0m\u001b[0;34m)\u001b[0m\u001b[0;34m.\u001b[0m\u001b[0mdraw\u001b[0m\u001b[0;34m(\u001b[0m\u001b[0;34m)\u001b[0m\u001b[0;34m\u001b[0m\u001b[0;34m\u001b[0m\u001b[0m\n\u001b[0m",
      "\u001b[0;31mNameError\u001b[0m: name 'my_quantum_functiion' is not defined"
     ]
    }
   ],
   "source": [
    "import pennylane as qml\n",
    "\n",
    "def my_quantum_function(x, y):\n",
    "    qml.RZ(x, wires=0)\n",
    "    qml.CNOT(wires=[0,1])\n",
    "    qml.RY(y, wires=1)\n",
    "    return qml.expval(qml.PauliZ(1))\n",
    "my_quantum_function(0,1).draw()"
   ]
  },
  {
   "cell_type": "code",
   "execution_count": null,
   "id": "7e08c7a7",
   "metadata": {},
   "outputs": [],
   "source": []
  }
 ],
 "metadata": {
  "kernelspec": {
   "display_name": "Python 3",
   "language": "python",
   "name": "python3"
  },
  "language_info": {
   "codemirror_mode": {
    "name": "ipython",
    "version": 3
   },
   "file_extension": ".py",
   "mimetype": "text/x-python",
   "name": "python",
   "nbconvert_exporter": "python",
   "pygments_lexer": "ipython3",
   "version": "3.7.10"
  }
 },
 "nbformat": 4,
 "nbformat_minor": 5
}
