{
 "cells": [
  {
   "cell_type": "code",
   "execution_count": 30,
   "id": "2152b922",
   "metadata": {},
   "outputs": [],
   "source": [
    "import numpy as np\n",
    "import matplotlib.pyplot as plt\n",
    "import pandas as pd\n",
    "\n",
    "import strawberryfields as sf\n",
    "from strawberryfields.ops import *\n",
    "import matplotlib\n",
    "import pennylane as qml\n",
    "import flatnetwork_simple as fns"
   ]
  },
  {
   "cell_type": "code",
   "execution_count": 75,
   "id": "08258b1f",
   "metadata": {},
   "outputs": [
    {
     "name": "stdout",
     "output_type": "stream",
     "text": [
      "Max MPO dim:  2\n"
     ]
    }
   ],
   "source": []
  },
  {
   "cell_type": "code",
   "execution_count": 77,
   "id": "48165a01",
   "metadata": {},
   "outputs": [
    {
     "data": {
      "text/plain": [
       "3"
      ]
     },
     "execution_count": 77,
     "metadata": {},
     "output_type": "execute_result"
    }
   ],
   "source": []
  },
  {
   "cell_type": "code",
   "execution_count": 78,
   "id": "c530c7ba",
   "metadata": {},
   "outputs": [
    {
     "name": "stdout",
     "output_type": "stream",
     "text": [
      "-0.6132194577399244\n"
     ]
    }
   ],
   "source": []
  },
  {
   "cell_type": "code",
   "execution_count": 50,
   "id": "f281e80f",
   "metadata": {},
   "outputs": [
    {
     "name": "stdout",
     "output_type": "stream",
     "text": [
      "0.49628561029741763\n"
     ]
    }
   ],
   "source": [
    "import pennylane as qml\n",
    "from pennylane.templates import QAOAEmbedding\n",
    "\n",
    "dev = qml.device('default.qubit', wires=2)\n",
    "\n",
    "@qml.qnode(dev)\n",
    "def circuit(weights, f=None):\n",
    "    QAOAEmbedding(features=f, weights=weights, wires=range(2))\n",
    "    return qml.expval(qml.PauliZ(0))\n",
    "\n",
    "features = [1., 2.]\n",
    "layer1 = [0.1, -0.3, 1.5]\n",
    "layer2 = [3.1, 0.2, -2.8]\n",
    "weights = [layer1, layer2]\n",
    "\n",
    "print(circuit(weights, f=features))"
   ]
  },
  {
   "cell_type": "code",
   "execution_count": 44,
   "id": "d4e66b6f",
   "metadata": {},
   "outputs": [
    {
     "data": {
      "text/plain": [
       "{(0, 0): -1.0, (1, 1): -1.0, (2, 2): (2, 2)}"
      ]
     },
     "execution_count": 44,
     "metadata": {},
     "output_type": "execute_result"
    }
   ],
   "source": [
    "S"
   ]
  },
  {
   "cell_type": "code",
   "execution_count": 33,
   "id": "863b328c",
   "metadata": {},
   "outputs": [
    {
     "data": {
      "text/plain": [
       "{(0, 0): 0.1111111111111111,\n",
       " (0, 1): 0.2222222222222222,\n",
       " (0, 2): 0.2222222222222222,\n",
       " (1, 1): 0.1111111111111111,\n",
       " (1, 2): 0.2222222222222222,\n",
       " (2, 2): 0.1111111111111111}"
      ]
     },
     "execution_count": 33,
     "metadata": {},
     "output_type": "execute_result"
    }
   ],
   "source": [
    "D"
   ]
  },
  {
   "cell_type": "code",
   "execution_count": 34,
   "id": "d00386e7",
   "metadata": {},
   "outputs": [
    {
     "ename": "NameError",
     "evalue": "name 'circ' is not defined",
     "output_type": "error",
     "traceback": [
      "\u001b[0;31m---------------------------------------------------------------------------\u001b[0m",
      "\u001b[0;31mNameError\u001b[0m                                 Traceback (most recent call last)",
      "\u001b[0;32m<ipython-input-34-4ace27eea65a>\u001b[0m in \u001b[0;36m<module>\u001b[0;34m\u001b[0m\n\u001b[0;32m----> 1\u001b[0;31m \u001b[0mcirc\u001b[0m\u001b[0;34m\u001b[0m\u001b[0;34m\u001b[0m\u001b[0m\n\u001b[0m",
      "\u001b[0;31mNameError\u001b[0m: name 'circ' is not defined"
     ]
    }
   ],
   "source": [
    "circ"
   ]
  },
  {
   "cell_type": "markdown",
   "id": "0482ac67",
   "metadata": {},
   "source": [
    "# Working Circuit Embedding"
   ]
  },
  {
   "cell_type": "code",
   "execution_count": 27,
   "id": "b61dffcd",
   "metadata": {},
   "outputs": [
    {
     "name": "stdout",
     "output_type": "stream",
     "text": [
      "0\n",
      "1\n",
      "2\n",
      "3\n",
      "4\n",
      "5\n",
      "6\n",
      "7\n",
      "8\n",
      "9\n",
      "10\n",
      "11\n",
      "12\n",
      "13\n",
      "14\n",
      "15\n",
      "16\n",
      "17\n",
      "18\n",
      "19\n"
     ]
    }
   ],
   "source": [
    "#Setup\n",
    "K = 20\n",
    "dt = 1.0\n",
    "\n",
    "#Parameters\n",
    "mu = lambda t,i: 1.0\n",
    "rho = 1.0\n",
    "\n",
    "#Annealing params\n",
    "J = 1.0\n",
    "theta = -J*dt/K\n",
    "\n",
    "L = [3,1,1]\n",
    "d = 3\n",
    "fnet = fns.FlatNetwork(L,d)\n",
    "fnet.loadParams(mu, rho)\n",
    "fnet.make_mpos()\n",
    "\n",
    "S, D = fnet.getHamiltonian()\n",
    "\n",
    "features = [1., 2.]\n",
    "layer1   = [S[i] for i in S]\n",
    "layer2   = [D[i] for i in D]\n",
    "weights  = [layer1, layer2]\n",
    "\n",
    "import pennylane as qml\n",
    "from pennylane.templates import QAOAEmbedding\n",
    "\n",
    "dev = qml.device('default.qubit', wires=2)\n",
    "\n",
    "@qml.qnode(dev)\n",
    "def circuit(weights, f=None):\n",
    "    QAOAEmbedding(features=f, weights=weights, wires=range(2))\n",
    "    return qml.expval(qml.PauliZ(0))\n",
    "\n",
    "print(circuit(weights, f=features))"
   ]
  },
  {
   "cell_type": "code",
   "execution_count": null,
   "id": "0d18808d",
   "metadata": {},
   "outputs": [],
   "source": []
  }
 ],
 "metadata": {
  "kernelspec": {
   "display_name": "Python 3",
   "language": "python",
   "name": "python3"
  },
  "language_info": {
   "codemirror_mode": {
    "name": "ipython",
    "version": 3
   },
   "file_extension": ".py",
   "mimetype": "text/x-python",
   "name": "python",
   "nbconvert_exporter": "python",
   "pygments_lexer": "ipython3",
   "version": "3.7.10"
  }
 },
 "nbformat": 4,
 "nbformat_minor": 5
}
