{
 "cells": [
  {
   "cell_type": "code",
   "execution_count": 30,
   "id": "2152b922",
   "metadata": {},
   "outputs": [],
   "source": [
    "import numpy as np\n",
    "import matplotlib.pyplot as plt\n",
    "import pandas as pd\n",
    "\n",
    "import strawberryfields as sf\n",
    "from strawberryfields.ops import *\n",
    "import matplotlib\n",
    "import pennylane as qml\n",
    "import flatnetwork_simple as fns"
   ]
  },
  {
   "cell_type": "markdown",
   "id": "3998b8fb",
   "metadata": {},
   "source": [
    "# Working Circuit Embedding"
   ]
  },
  {
   "cell_type": "code",
   "execution_count": 27,
   "id": "b61dffcd",
   "metadata": {},
   "outputs": [
    {
     "name": "stdout",
     "output_type": "stream",
     "text": [
      "0\n",
      "1\n",
      "2\n",
      "3\n",
      "4\n",
      "5\n",
      "6\n",
      "7\n",
      "8\n",
      "9\n",
      "10\n",
      "11\n",
      "12\n",
      "13\n",
      "14\n",
      "15\n",
      "16\n",
      "17\n",
      "18\n",
      "19\n"
     ]
    }
   ],
   "source": [
    "#Setup\n",
    "K = 20\n",
    "dt = 1.0\n",
    "\n",
    "#Parameters\n",
    "mu = lambda t,i: 1.0\n",
    "rho = 1.0\n",
    "\n",
    "#Annealing params\n",
    "J = 1.0\n",
    "theta = -J*dt/K\n",
    "\n",
    "L = [3,1,1]\n",
    "d = 3\n",
    "fnet = fns.FlatNetwork(L,d)\n",
    "fnet.loadParams(mu, rho)\n",
    "fnet.make_mpos()\n",
    "\n",
    "S, D = fnet.getHamiltonian()\n",
    "\n",
    "features = [1., 2.]\n",
    "layer1   = [S[i] for i in S]\n",
    "layer2   = [D[i] for i in D]\n",
    "weights  = [layer1, layer2]\n",
    "\n",
    "import pennylane as qml\n",
    "from pennylane.templates import QAOAEmbedding\n",
    "\n",
    "dev = qml.device('default.qubit', wires=2)\n",
    "\n",
    "@qml.qnode(dev)\n",
    "def circuit(weights, f=None):\n",
    "    QAOAEmbedding(features=f, weights=weights, wires=range(2))\n",
    "    return qml.expval(qml.PauliZ(0))\n",
    "\n",
    "print(circuit(weights, f=features))"
   ]
  },
  {
   "cell_type": "code",
   "execution_count": null,
   "id": "966aa23b",
   "metadata": {},
   "outputs": [],
   "source": []
  }
 ],
 "metadata": {
  "kernelspec": {
   "display_name": "Python 3",
   "language": "python",
   "name": "python3"
  },
  "language_info": {
   "codemirror_mode": {
    "name": "ipython",
    "version": 3
   },
   "file_extension": ".py",
   "mimetype": "text/x-python",
   "name": "python",
   "nbconvert_exporter": "python",
   "pygments_lexer": "ipython3",
   "version": "3.7.10"
  }
 },
 "nbformat": 4,
 "nbformat_minor": 5
}
