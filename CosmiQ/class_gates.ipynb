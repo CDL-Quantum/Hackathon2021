{
 "cells": [
  {
   "cell_type": "code",
   "execution_count": 1,
   "metadata": {},
   "outputs": [],
   "source": [
    "import numpy as np\n",
    "import matplotlib.pyplot as plt\n",
    "from scipy.optimize import curve_fit\n",
    "from scipy.signal import find_peaks\n",
    "from qiskit import IBMQ\n",
    "from qiskit import pulse\n",
    "import qiskit.pulse.library as pulse_lib\n",
    "from qiskit.compiler import assemble\n",
    "from qiskit.tools.monitor import job_monitor\n",
    "from scipy.optimize import curve_fit"
   ]
  },
  {
   "cell_type": "code",
   "execution_count": 2,
   "metadata": {},
   "outputs": [],
   "source": [
    "IBMQ.load_account()\n",
    "provider = IBMQ.get_provider(hub='ibm-q', group='open', project='main')\n",
    "backends =provider.backends()"
   ]
  },
  {
   "cell_type": "code",
   "execution_count": 3,
   "metadata": {},
   "outputs": [],
   "source": [
    "def match_sine(X,ps,booltPlot=True):\n",
    "    \n",
    "    N=len(X)\n",
    "    \n",
    "    #init parameter\n",
    "    C = np.mean(X)\n",
    "    B = (np.max(X)-np.min(X))/2\n",
    "    \n",
    "    #init frequency\n",
    "    Y = np.fft.fft(X - C)\n",
    "    Y = np.abs(Y[:int(N/2)])\n",
    "    \n",
    "    imax = np.argmax(Y)\n",
    "    y0 = Y[imax]\n",
    "    yl = Y[imax-1]\n",
    "    yr = Y[imax+1]\n",
    "\n",
    "    a = (yl+yr)/2 - y0\n",
    "    b = (yr-yl)/2\n",
    "    c = y0\n",
    "\n",
    "    x = -b/(2*a)\n",
    "    dp = ps[1]-ps[0]\n",
    "    p_opt = dp*(N-1)/(imax + x)/2\n",
    "    \n",
    "    #optim\n",
    "    init_param = [p_opt, 0, -B, C]\n",
    "    function = lambda f, fc, A, B, C: A*np.sin(np.pi*f/fc)+B*np.cos(np.pi*f/fc)+C\n",
    "    params, conv = curve_fit(function, ps, X, init_param)\n",
    "    X_model = function(ps, *params)\n",
    "    \n",
    "    if booltPlot == True:\n",
    "        plt.plot(ps,X)\n",
    "        plt.plot(ps,function(ps,*init_param))\n",
    "        plt.plot(ps,X_model)\n",
    "    \n",
    "    return params"
   ]
  },
  {
   "cell_type": "code",
   "execution_count": 4,
   "metadata": {},
   "outputs": [],
   "source": [
    "def match_sinc2(X,fs,boolPlot=True):\n",
    "    \n",
    "    #initial parameters\n",
    "    B = np.min(X)\n",
    "    fc = fs[np.argmax(X)]\n",
    "    A = np.max(X) - B\n",
    "    X_norm = (X - B)/A\n",
    "    x_mean = np.mean(X_norm)\n",
    "    df = x_mean*(np.max(fs)-np.min(fs))/np.pi/3\n",
    "    \n",
    "    #fit\n",
    "    function = lambda f, fc, df, A, B: A*np.sinc((f-fc)/df)**2+B\n",
    "    params, conv = curve_fit(function, fs, X, [fc, df, A, B])\n",
    "    X_model = function(fs, *params)\n",
    "    \n",
    "#     (params, X_model) =fit_function(fs,X,function,[fc, df, A, B])\n",
    "    \n",
    "    if boolPlot == True:\n",
    "        plt.scatter(fs,X,c='k')\n",
    "        plt.plot(fs,X_model,c='b')\n",
    "    \n",
    "    return params"
   ]
  },
  {
   "cell_type": "code",
   "execution_count": 32,
   "metadata": {},
   "outputs": [],
   "source": [
    "# number of shots for our experiments\n",
    "NUM_SHOTS = 1024\n",
    "SIGMA = 75e-9\n",
    "TRUNC = 8\n",
    "MAXFREQS = 75\n",
    "MAXDRIVE = 0.1\n",
    "SAMPLE = 16\n",
    "SCALE = 1e-14\n",
    "\n",
    "class Calibration:\n",
    "    def __init__(self,backend='ibmq_armonk'):\n",
    "        self.backend = provider.get_backend(backend)\n",
    "        self.backend_config = self.backend.configuration()\n",
    "        assert self.backend_config.open_pulse, \"Backend doesn't support Pulse\"\n",
    "        self.dt = self.backend_config.dt\n",
    "        self.backend_defaults = self.backend.defaults()\n",
    "        \n",
    "    def frequency01_schedules(self,span_range=1/200,qbit=0):\n",
    "        schedules = []\n",
    "        self.f01_default = self.backend_defaults.qubit_freq_est[qbit]\n",
    "        span = self.f01_default*span_range\n",
    "        frequencies = np.linspace(-span, span, MAXFREQS)\n",
    "\n",
    "        # Define the drive pulse\n",
    "        drive_sigma = SAMPLE * round(SIGMA/ SAMPLE/ self.dt)       # The width of the gaussian in units of dt\n",
    "        drive_samples = TRUNC * drive_sigma   # The truncating parameter in units of dt\n",
    "        drive_power = MAXDRIVE\n",
    "        gauss = pulse_lib.gaussian(duration=drive_samples,\n",
    "                                                  sigma=drive_sigma,\n",
    "                                                  amp=drive_power,\n",
    "                                                  name='ground_sweep_drive_pulse')\n",
    "        \n",
    "        for freq in frequencies:\n",
    "            with pulse.build(backend=self.backend) as spec:\n",
    "                with pulse.align_sequential():\n",
    "                    pulse.shift_frequency(freq, pulse.DriveChannel(qbit))\n",
    "                    pulse.play(gauss, pulse.DriveChannel(qbit))\n",
    "                    pulse.measure(qbit)\n",
    "\n",
    "            schedules.append(spec)\n",
    "        \n",
    "        return frequencies,schedules\n",
    "    \n",
    "    def amplitude01_schedules(self,max_amp=1.0,qbit=0):\n",
    "        schedules = []\n",
    "        drive_powers = np.linspace(0, max_amp, MAXFREQS)\n",
    "\n",
    "        # Define the drive pulse\n",
    "        drive_sigma = SAMPLE * round(SIGMA/ SAMPLE/ self.dt)       # The width of the gaussian in units of dt\n",
    "        drive_samples = TRUNC * drive_sigma   # The truncating parameter in units of dt\n",
    "\n",
    "        for drive_power in drive_powers:\n",
    "            gauss = pulse_lib.gaussian(duration=drive_samples,sigma=drive_sigma,amp=drive_power)\n",
    "            with pulse.build(backend=self.backend) as spec:\n",
    "                with pulse.align_sequential():\n",
    "                    pulse.shift_frequency(self.df01_calib, pulse.DriveChannel(qbit))\n",
    "                    pulse.play(gauss, pulse.DriveChannel(qbit))\n",
    "                    pulse.measure(qbit)\n",
    "\n",
    "            schedules.append(spec)\n",
    "        \n",
    "        return drive_powers,schedules\n",
    "    \n",
    "    def frequency12_schedules(self,span_range=1/200,qbit=0,span=[-0.36e9, -0.32e9]):\n",
    "        schedules = []\n",
    "        frequencies = np.linspace(span[0],span[1], MAXFREQS)\n",
    "\n",
    "        # Define the drive pulse\n",
    "        gauss = self.gate_rx01()\n",
    "        \n",
    "        for freq in frequencies:\n",
    "            with pulse.build(backend=self.backend) as spec:\n",
    "                with pulse.align_sequential():\n",
    "                    pulse.shift_frequency(self.df01_calib, pulse.DriveChannel(qbit))\n",
    "                    pulse.play(gauss, pulse.DriveChannel(0))\n",
    "                    pulse.shift_frequency(freq, pulse.DriveChannel(qbit))\n",
    "                    pulse.play(gauss, pulse.DriveChannel(qbit))\n",
    "                    pulse.measure(qbit)\n",
    "\n",
    "            schedules.append(spec)\n",
    "        \n",
    "        return frequencies,schedules\n",
    "    \n",
    "    def run_schedule(self,schedules):\n",
    "        job = self.backend.run(schedules, meas_level=1)\n",
    "        job_monitor(job)\n",
    "        results = job.result()\n",
    "        result_data = [results.get_memory(i)[0]*SCALE for i in range(len(results.results))]\n",
    "        return result_data\n",
    "    \n",
    "    def fit_results_f01(self,result_data,frequencies):\n",
    "        params = match_sinc2(np.abs(result_data),frequencies)\n",
    "        self.df01_calib = params[0]\n",
    "    \n",
    "    def fit_results_a01(self,result_data,drive_powers):\n",
    "        X = np.angle(result_data)\n",
    "        params = match_sine(X,drive_powers)\n",
    "        self.a01_calib = params[0]\n",
    "        \n",
    "    def gate_rx01(self,theta=np.pi):\n",
    "        # Define the drive pulse\n",
    "        drive_sigma = SAMPLE * round(SIGMA/ SAMPLE/ self.dt)       # The width of the gaussian in units of dt\n",
    "        drive_samples = TRUNC * drive_sigma   # The truncating parameter in units of dt\n",
    "        theta_wrap = theta - 2*np.pi*np.floor(theta/(2*np.pi))\n",
    "        drive_power = self.a01_calib*theta_wrap/np.pi\n",
    "        gauss = pulse_lib.gaussian(duration=drive_samples,sigma=drive_sigma,amp=drive_power)\n",
    "        return gauss"
   ]
  },
  {
   "cell_type": "markdown",
   "metadata": {},
   "source": [
    "# tranfers"
   ]
  },
  {
   "cell_type": "code",
   "execution_count": 33,
   "metadata": {},
   "outputs": [],
   "source": [
    "cal = Calibration()"
   ]
  },
  {
   "cell_type": "code",
   "execution_count": 23,
   "metadata": {},
   "outputs": [
    {
     "name": "stdout",
     "output_type": "stream",
     "text": [
      "35475.89130739317\n",
      "0.14917816517791702\n"
     ]
    }
   ],
   "source": [
    "df01 = cal.df01_calib\n",
    "a01 = cal.a01_calib\n",
    "print(df01)\n",
    "print(a01)"
   ]
  },
  {
   "cell_type": "code",
   "execution_count": 34,
   "metadata": {},
   "outputs": [
    {
     "name": "stdout",
     "output_type": "stream",
     "text": [
      "35475.89130739317\n",
      "0.14917816517791702\n"
     ]
    }
   ],
   "source": [
    "cal.df01_calib = df01\n",
    "cal.a01_calib = a01\n",
    "print(df01)\n",
    "print(a01)"
   ]
  },
  {
   "cell_type": "markdown",
   "metadata": {},
   "source": [
    "# frequency 10"
   ]
  },
  {
   "cell_type": "code",
   "execution_count": 8,
   "metadata": {},
   "outputs": [],
   "source": [
    "frequencies,schedules = cal.frequency01_schedules()"
   ]
  },
  {
   "cell_type": "code",
   "execution_count": 9,
   "metadata": {},
   "outputs": [
    {
     "name": "stdout",
     "output_type": "stream",
     "text": [
      "Job Status: job has successfully run\n"
     ]
    }
   ],
   "source": [
    "result_data = cal.run_schedule(schedules)"
   ]
  },
  {
   "cell_type": "code",
   "execution_count": 12,
   "metadata": {},
   "outputs": [
    {
     "data": {
      "text/plain": [
       "<matplotlib.collections.PathCollection at 0x7fd5138c4f98>"
      ]
     },
     "execution_count": 12,
     "metadata": {},
     "output_type": "execute_result"
    },
    {
     "data": {
      "image/png": "[encoded data removed]",
      "text/plain": [
       "<Figure size 432x288 with 1 Axes>"
      ]
     },
     "metadata": {
      "needs_background": "light"
     },
     "output_type": "display_data"
    }
   ],
   "source": [
    "plt.scatter(np.real(result_data), np.imag(result_data))"
   ]
  },
  {
   "cell_type": "code",
   "execution_count": 13,
   "metadata": {},
   "outputs": [
    {
     "data": {
      "image/png": "[encoded data removed]",
      "text/plain": [
       "<Figure size 432x288 with 1 Axes>"
      ]
     },
     "metadata": {
      "needs_background": "light"
     },
     "output_type": "display_data"
    }
   ],
   "source": [
    "cal.fit_results_f01(result_data,frequencies)"
   ]
  },
  {
   "cell_type": "code",
   "execution_count": 15,
   "metadata": {},
   "outputs": [
    {
     "data": {
      "text/plain": [
       "7.135638799529116e-06"
      ]
     },
     "execution_count": 15,
     "metadata": {},
     "output_type": "execute_result"
    }
   ],
   "source": [
    "cal.df01_calib/cal.f01_default"
   ]
  },
  {
   "cell_type": "markdown",
   "metadata": {},
   "source": [
    "# amplitude 01"
   ]
  },
  {
   "cell_type": "code",
   "execution_count": 16,
   "metadata": {},
   "outputs": [],
   "source": [
    "drive_powers,schedules = cal.amplitude01_schedules()"
   ]
  },
  {
   "cell_type": "code",
   "execution_count": 17,
   "metadata": {},
   "outputs": [
    {
     "name": "stdout",
     "output_type": "stream",
     "text": [
      "Job Status: job has successfully run\n"
     ]
    }
   ],
   "source": [
    "result_data = cal.run_schedule(schedules)"
   ]
  },
  {
   "cell_type": "code",
   "execution_count": 18,
   "metadata": {},
   "outputs": [
    {
     "data": {
      "text/plain": [
       "[<matplotlib.lines.Line2D at 0x7fd513958390>]"
      ]
     },
     "execution_count": 18,
     "metadata": {},
     "output_type": "execute_result"
    },
    {
     "data": {
      "image/png": "[encoded data removed]",
      "text/plain": [
       "<Figure size 432x288 with 1 Axes>"
      ]
     },
     "metadata": {
      "needs_background": "light"
     },
     "output_type": "display_data"
    }
   ],
   "source": [
    "plt.plot(np.real(result_data), np.imag(result_data))"
   ]
  },
  {
   "cell_type": "code",
   "execution_count": 19,
   "metadata": {},
   "outputs": [
    {
     "data": {
      "image/png": "[encoded data removed]",
      "text/plain": [
       "<Figure size 432x288 with 1 Axes>"
      ]
     },
     "metadata": {
      "needs_background": "light"
     },
     "output_type": "display_data"
    }
   ],
   "source": [
    "cal.fit_results_a01(result_data,drive_powers)"
   ]
  },
  {
   "cell_type": "code",
   "execution_count": 20,
   "metadata": {},
   "outputs": [
    {
     "data": {
      "text/plain": [
       "0.14917816517791702"
      ]
     },
     "execution_count": 20,
     "metadata": {},
     "output_type": "execute_result"
    }
   ],
   "source": [
    "cal.a01_calib"
   ]
  },
  {
   "cell_type": "markdown",
   "metadata": {},
   "source": [
    "# frequency 21"
   ]
  },
  {
   "cell_type": "code",
   "execution_count": 35,
   "metadata": {},
   "outputs": [],
   "source": [
    "frequencies,schedules = cal.frequency12_schedules()"
   ]
  },
  {
   "cell_type": "code",
   "execution_count": null,
   "metadata": {},
   "outputs": [
    {
     "name": "stdout",
     "output_type": "stream",
     "text": [
      "Job Status: job is queued (266)   "
     ]
    }
   ],
   "source": [
    "result_data = cal.run_schedule(schedules)"
   ]
  },
  {
   "cell_type": "code",
   "execution_count": null,
   "metadata": {},
   "outputs": [],
   "source": [
    "plt.plot(np.real(result_data), np.imag(result_data))"
   ]
  }
 ],
 "metadata": {
  "kernelspec": {
   "display_name": "Python 3",
   "language": "python",
   "name": "python3"
  },
  "language_info": {
   "codemirror_mode": {
    "name": "ipython",
    "version": 3
   },
   "file_extension": ".py",
   "mimetype": "text/x-python",
   "name": "python",
   "nbconvert_exporter": "python",
   "pygments_lexer": "ipython3",
   "version": "3.7.1"
  }
 },
 "nbformat": 4,
 "nbformat_minor": 2
}
