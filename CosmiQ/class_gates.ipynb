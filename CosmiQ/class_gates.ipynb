{
 "cells": [
  {
   "cell_type": "code",
   "execution_count": 1,
   "metadata": {},
   "outputs": [],
   "source": [
    "import numpy as np\n",
    "import matplotlib.pyplot as plt\n",
    "from scipy.optimize import curve_fit\n",
    "from scipy.signal import find_peaks\n",
    "from qiskit import IBMQ\n",
    "from qiskit import pulse\n",
    "import qiskit.pulse.library as pulse_lib\n",
    "from qiskit.compiler import assemble\n",
    "from qiskit.tools.monitor import job_monitor\n",
    "from scipy.optimize import curve_fit"
   ]
  },
  {
   "cell_type": "code",
   "execution_count": 2,
   "metadata": {},
   "outputs": [],
   "source": [
    "IBMQ.load_account()\n",
    "provider = IBMQ.get_provider(hub='ibm-q', group='open', project='main')\n",
    "backends =provider.backends()"
   ]
  },
  {
   "cell_type": "code",
   "execution_count": 3,
   "metadata": {},
   "outputs": [],
   "source": [
    "def match_sine(X,ps,booltPlot=True):\n",
    "    \n",
    "    N=len(X)\n",
    "    \n",
    "    #init parameter\n",
    "    C = np.mean(X)\n",
    "    B = (np.max(X)-np.min(X))/2\n",
    "    \n",
    "    #init frequency\n",
    "    Y = np.fft.fft(X - C)\n",
    "    Y = np.abs(Y[:int(N/2)])\n",
    "    \n",
    "    imax = np.argmax(Y)\n",
    "    y0 = Y[imax]\n",
    "    yl = Y[imax-1]\n",
    "    yr = Y[imax+1]\n",
    "\n",
    "    a = (yl+yr)/2 - y0\n",
    "    b = (yr-yl)/2\n",
    "    c = y0\n",
    "\n",
    "    x = -b/(2*a)\n",
    "    dp = ps[1]-ps[0]\n",
    "    p_opt = dp*(N-1)/(imax + x)/2\n",
    "    \n",
    "    #optim\n",
    "    init_param = [p_opt, 0, -B, C]\n",
    "    function = lambda f, fc, A, B, C: A*np.sin(np.pi*f/fc)+B*np.cos(np.pi*f/fc)+C\n",
    "    params, conv = curve_fit(function, ps, X, init_param)\n",
    "    X_model = function(ps, *params)\n",
    "    \n",
    "    if booltPlot == True:\n",
    "        plt.plot(ps,X)\n",
    "        plt.plot(ps,function(ps,*init_param))\n",
    "        plt.plot(ps,X_model)\n",
    "    \n",
    "    return params"
   ]
  },
  {
   "cell_type": "code",
   "execution_count": 4,
   "metadata": {},
   "outputs": [],
   "source": [
    "def match_sinc2(X,fs,boolPlot=True):\n",
    "    \n",
    "    #initial parameters\n",
    "    B = np.min(X)\n",
    "    fc = fs[np.argmax(X)]\n",
    "    A = np.max(X) - B\n",
    "    X_norm = (X - B)/A\n",
    "    x_mean = np.mean(X_norm)\n",
    "    df = x_mean*(np.max(fs)-np.min(fs))/np.pi/3\n",
    "    \n",
    "    #fit\n",
    "    function = lambda f, fc, df, A, B: A*np.sinc((f-fc)/df)**2+B\n",
    "    params, conv = curve_fit(function, fs, X, [fc, df, A, B])\n",
    "    X_model = function(fs, *params)\n",
    "    \n",
    "#     (params, X_model) =fit_function(fs,X,function,[fc, df, A, B])\n",
    "    \n",
    "    if boolPlot == True:\n",
    "        plt.scatter(fs,X,c='k')\n",
    "        plt.plot(fs,X_model,c='b')\n",
    "    \n",
    "    return params"
   ]
  },
  {
   "cell_type": "code",
   "execution_count": 5,
   "metadata": {},
   "outputs": [],
   "source": [
    "# number of shots for our experiments\n",
    "NUM_SHOTS = 1024\n",
    "SIGMA = 75e-9\n",
    "TRUNC = 8\n",
    "MAXEXP = 75\n",
    "MAXDRIVE = 0.1\n",
    "SAMPLE = 16\n",
    "SCALE = 1e-14\n",
    "\n",
    "class Calibration:\n",
    "    def __init__(self,backend='ibmq_armonk'):\n",
    "        self.backend = provider.get_backend(backend)\n",
    "        self.backend_config = self.backend.configuration()\n",
    "        assert self.backend_config.open_pulse, \"Backend doesn't support Pulse\"\n",
    "        self.dt = self.backend_config.dt\n",
    "        self.backend_defaults = self.backend.defaults()\n",
    "    \n",
    "    def gaussian_pulse(self,drive_power):\n",
    "        # Define the drive pulse\n",
    "        drive_sigma = SAMPLE * round(SIGMA/ SAMPLE/ self.dt)       # The width of the gaussian in units of dt\n",
    "        drive_samples = TRUNC * drive_sigma   # The truncating parameter in units of dt\n",
    "        gauss = pulse_lib.gaussian(duration=drive_samples,sigma=drive_sigma,amp=drive_power)\n",
    "        return gauss\n",
    "    \n",
    "    def frequency01_schedules(self,span_range=1/200,qbit=0):\n",
    "        schedules = []\n",
    "        self.f01_default = self.backend_defaults.qubit_freq_est[qbit]\n",
    "        span = self.f01_default*span_range\n",
    "        frequencies = np.linspace(-span, span, MAXEXP)\n",
    "        gauss = self.gaussian_pulse(drive_power = MAXDRIVE)\n",
    "        \n",
    "        for freq in frequencies:\n",
    "            with pulse.build(backend=self.backend) as spec:\n",
    "                with pulse.align_sequential():\n",
    "                    pulse.shift_frequency(freq, pulse.DriveChannel(qbit))\n",
    "                    pulse.play(gauss, pulse.DriveChannel(qbit))\n",
    "                    pulse.measure(qbit)\n",
    "\n",
    "            schedules.append(spec)\n",
    "        \n",
    "        return frequencies,schedules\n",
    "    \n",
    "    def amplitude01_schedules(self,max_amp=1.0,qbit=0):\n",
    "        schedules = []\n",
    "        drive_powers = np.linspace(0, max_amp, MAXEXP)\n",
    "\n",
    "        for drive_power in drive_powers:\n",
    "            gauss = self.gaussian_pulse(drive_power=drive_power)\n",
    "            with pulse.build(backend=self.backend) as spec:\n",
    "                with pulse.align_sequential():\n",
    "                    pulse.shift_frequency(self.df01_calib, pulse.DriveChannel(qbit))\n",
    "                    pulse.play(gauss, pulse.DriveChannel(qbit))\n",
    "                    pulse.measure(qbit)\n",
    "\n",
    "            schedules.append(spec)\n",
    "        \n",
    "        return drive_powers,schedules\n",
    "    \n",
    "    def frequency12_schedules(self,span=[-0.36e9, -0.32e9],qbit=0):\n",
    "        schedules = []\n",
    "        frequencies = np.linspace(span[0],span[1], MAXEXP)\n",
    "\n",
    "        # Define the drive pulse\n",
    "        pulse01 = self.pulse_rx01()\n",
    "        \n",
    "        for freq in frequencies:\n",
    "            with pulse.build(backend=self.backend) as spec:\n",
    "                with pulse.align_sequential():\n",
    "                    pulse.shift_frequency(self.df01_calib, pulse.DriveChannel(qbit))\n",
    "                    pulse.play(gauss, pulse.DriveChannel(0))\n",
    "                    pulse.shift_frequency(freq, pulse.DriveChannel(qbit))\n",
    "                    pulse.play(gauss, pulse.DriveChannel(qbit))\n",
    "                    pulse.measure(qbit)\n",
    "\n",
    "            schedules.append(spec)\n",
    "        \n",
    "        return frequencies,schedules\n",
    "    \n",
    "    def amplitude12_schedules(self,max_amp=1.0,qbit=0):\n",
    "        schedules = []\n",
    "        drive_powers = np.linspace(0, max_amp, MAXEXP)\n",
    "\n",
    "        # Define the drive pulse\n",
    "        drive_sigma = SAMPLE * round(SIGMA/ SAMPLE/ self.dt)       # The width of the gaussian in units of dt\n",
    "        drive_samples = TRUNC * drive_sigma   # The truncating parameter in units of dt\n",
    "\n",
    "        for drive_power in drive_powers:\n",
    "            gauss = pulse_lib.gaussian(duration=drive_samples,sigma=drive_sigma,amp=drive_power)\n",
    "            with pulse.build(backend=self.backend) as spec:\n",
    "                with pulse.align_sequential():\n",
    "                    pulse.shift_frequency(self.df01_calib, pulse.DriveChannel(qbit))\n",
    "                    pulse.play(self.pulse_rx01(), pulse.DriveChannel(qbit))\n",
    "                    pulse.shift_frequency(self.df12_calib, pulse.DriveChannel(qbit))\n",
    "                    pulse.play(gauss, pulse.DriveChannel(qbit))\n",
    "                    pulse.measure(qbit)\n",
    "\n",
    "            schedules.append(spec)\n",
    "        \n",
    "        return drive_powers,schedules\n",
    "    \n",
    "    def measurement_schedule(self,num_exp=25,qbit=0):\n",
    "\n",
    "        with pulse.build(backend=self.backend) as st0:\n",
    "            with pulse.align_sequential():\n",
    "                pulse.measure(qbit)\n",
    "                \n",
    "        with pulse.build(backend=self.backend) as st1:\n",
    "            with pulse.align_sequential():\n",
    "                pulse.shift_frequency(self.df01_calib, pulse.DriveChannel(qbit))\n",
    "                pulse.play(self.pulse_rx01(), pulse.DriveChannel(qbit))\n",
    "                pulse.measure(qbit)\n",
    "        \n",
    "        with pulse.build(backend=self.backend) as st2:\n",
    "            with pulse.align_sequential():\n",
    "                pulse.shift_frequency(self.df01_calib, pulse.DriveChannel(qbit))\n",
    "                pulse.play(self.pulse_rx01(), pulse.DriveChannel(qbit))\n",
    "                pulse.shift_frequency(self.df12_calib, pulse.DriveChannel(qbit))\n",
    "                pulse.play(self.pulse_rx12(), pulse.DriveChannel(qbit))\n",
    "                pulse.measure(qbit)\n",
    "                \n",
    "        schedules = [st0,st1,st2]\n",
    "        states = [0,1,2]\n",
    "        \n",
    "        return states,schedules\n",
    "    \n",
    "    def run_schedule(self,schedules,num_shots = 1024, boolAvg =True,qubit=0):\n",
    "        \n",
    "        if boolAvg == True:\n",
    "            job = self.backend.run(schedules, meas_level=1,shots=num_shots)\n",
    "            job_monitor(job)\n",
    "            results = job.result()\n",
    "            result_data = [results.get_memory(i)[qubit]*SCALE for i in range(len(results.results))]\n",
    "        else:\n",
    "            job = self.backend.run(schedules,meas_level=1,meas_return='single',shots=num_shots)\n",
    "            job_monitor(job)\n",
    "            results = job.result()\n",
    "            \n",
    "            result_data = np.zeros((len(results.results),num_shots),np.dtype(np.complex128))\n",
    "            for r in range(len(results.results)):\n",
    "                result_data[r,:] = results.get_memory(r)[:, qubit]*SCALE\n",
    "\n",
    "        return result_data\n",
    "    \n",
    "    def fit_results_f01(self,result_data,frequencies):\n",
    "        params = match_sinc2(np.abs(result_data),frequencies)\n",
    "        self.df01_calib = params[0]\n",
    "    \n",
    "    def fit_results_f12(self,result_data,frequencies):\n",
    "        params = match_sinc2(np.abs(result_data),frequencies)\n",
    "        self.df12_calib = params[0]\n",
    "    \n",
    "    def fit_results_a01(self,result_data,drive_powers):\n",
    "        X = np.angle(result_data)\n",
    "        params = match_sine(X,drive_powers)\n",
    "        self.a01_calib = params[0]\n",
    "        \n",
    "    def fit_results_a12(self,result_data,drive_powers):\n",
    "        X = np.angle(result_data)\n",
    "        params = match_sine(X,drive_powers)\n",
    "        self.a12_calib = params[0]\n",
    "        \n",
    "    def pulse_rx01(self,theta=np.pi):\n",
    "        \n",
    "        #wrap theta\n",
    "        theta_wrap = theta - 2*np.pi*np.floor(theta/(2*np.pi))\n",
    "        drive_power = self.a01_calib*theta_wrap/np.pi\n",
    "        \n",
    "        gauss = self.gaussian_pulse(drive_power=drive_power)\n",
    "        return gauss\n",
    "        \n",
    "    def pulse_rx12(self,theta=np.pi):\n",
    "        #wrap theta\n",
    "        theta_wrap = theta - 2*np.pi*np.floor(theta/(2*np.pi))\n",
    "        drive_power = self.a12_calib*theta_wrap/np.pi\n",
    "        \n",
    "        gauss = self.gaussian_pulse(drive_power=drive_power)\n",
    "        return gauss\n",
    "    \n",
    "    def classify_results(self,result_data):\n",
    "        # D dims distance to center [real class, shots , center class]\n",
    "        D = np.abs(np.expand_dims(self.state_centers,axis=(0,1))-np.expand_dims(result_data,axis=2))\n",
    "        result_state = np.argmin(D,axis=2)\n",
    "        return result_state\n",
    "        \n",
    "    def fit_measurements(self,result_data,boolPlot = True):\n",
    "        \n",
    "        num_shots = result_data.shape[1]\n",
    "        num_states = result_data.shape[0]\n",
    "        \n",
    "        #rough etimation of centers thanks to median\n",
    "        self.state_centers = np.median(np.real(result_data),axis=1)+ 1j * np.median(np.imag(result_data),axis=1)\n",
    "        #distance to the centers, to eliminate outliers and plot cumulative distribution\n",
    "        dist = np.abs(np.expand_dims(self.state_centers,axis=1)-result_data)\n",
    "        dist_sort=np.sort(dist,axis=1)\n",
    "        \n",
    "        #update centers with only inliers\n",
    "        self.state_centers = [np.mean(result_data[i,dist[i,:]<5]) for i in range(num_states)]\n",
    "        #for display purposes only\n",
    "        radius = [np.mean(dist[i,dist[i,:]<10]) for i in range(num_states)]\n",
    "        \n",
    "        if boolPlot == True:\n",
    "            plt.figure(figsize=(10,5))\n",
    "            plt.subplot(1,2,1)\n",
    "            colors = ['b','r','g']\n",
    "            for s in range(num_states):\n",
    "                plt.scatter(np.real(result_data[s,:]), np.imag(result_data[s,:]),s=1,c = colors[s],alpha=0.5)\n",
    "                plt.scatter(np.real(self.state_centers[s]),np.imag(self.state_centers[s]),s=30,c = 'k')\n",
    "                t = np.linspace(0,2*np.pi,100)\n",
    "                circle = np.exp(1j*t)*radius[s]+self.state_centers[s]\n",
    "                plt.plot(np.real(circle),np.imag(circle),'k')\n",
    "                plt.axis(\"equal\")\n",
    "                plt.title(\"measurements per class\")\n",
    "                plt.xlabel(\"real\")\n",
    "                plt.ylabel(\"imag\")\n",
    "\n",
    "            plt.subplot(1,2,2)\n",
    "            for s in states:\n",
    "                plt.plot(dist_sort[s,:],np.arange(dist.shape[1]),colors[s],label = f\"state {s}\")\n",
    "                plt.title(\"cumulative distribution of distance wrt centers per class\")\n",
    "                plt.legend()\n",
    "\n",
    "        result_state = self.classify_results(result_data)\n",
    "        confusion_matrix=np.zeros((num_states,num_states)) #rows are true classes, columns are derived classes\n",
    "        for i in range(num_states):\n",
    "            for j in range(num_states):\n",
    "                confusion_matrix[i,j]=np.sum(result_state[i,:]==j)\n",
    "\n",
    "        self.confusion_matrix = confusion_matrix/num_shots\n",
    "                                                                    "
   ]
  },
  {
   "cell_type": "markdown",
   "metadata": {},
   "source": [
    "# tranfers"
   ]
  },
  {
   "cell_type": "code",
   "execution_count": 16,
   "metadata": {},
   "outputs": [],
   "source": [
    "cal = Calibration()"
   ]
  },
  {
   "cell_type": "code",
   "execution_count": 8,
   "metadata": {},
   "outputs": [],
   "source": [
    "# df01 = cal.df01_calib\n",
    "# a01 = cal.a01_calib\n",
    "# df12 = cal.df12_calib\n",
    "# a12 = cal.a12_calib\n",
    "# print(df01)\n",
    "# print(a01)\n",
    "# print(df12)\n",
    "# print(a12)"
   ]
  },
  {
   "cell_type": "code",
   "execution_count": null,
   "metadata": {},
   "outputs": [],
   "source": [
    "# cal.df01_calib = df01\n",
    "# cal.a01_calib = a01\n",
    "# cal.df12_calib = df12\n",
    "# cal.a12_calib = a12\n",
    "# print(df01)\n",
    "# print(a01)\n",
    "# print(df12)\n",
    "# print(a12)"
   ]
  },
  {
   "cell_type": "markdown",
   "metadata": {},
   "source": [
    "# frequency 01"
   ]
  },
  {
   "cell_type": "code",
   "execution_count": 17,
   "metadata": {},
   "outputs": [],
   "source": [
    "frequencies,schedules = cal.frequency01_schedules()"
   ]
  },
  {
   "cell_type": "code",
   "execution_count": null,
   "metadata": {},
   "outputs": [
    {
     "name": "stdout",
     "output_type": "stream",
     "text": [
      "Job Status: job is queued (4)     "
     ]
    }
   ],
   "source": [
    "result_data = cal.run_schedule(schedules)"
   ]
  },
  {
   "cell_type": "code",
   "execution_count": null,
   "metadata": {},
   "outputs": [],
   "source": [
    "plt.plot(np.real(result_data), np.imag(result_data))"
   ]
  },
  {
   "cell_type": "code",
   "execution_count": null,
   "metadata": {},
   "outputs": [],
   "source": [
    "cal.fit_results_f01(result_data,frequencies)"
   ]
  },
  {
   "cell_type": "code",
   "execution_count": null,
   "metadata": {},
   "outputs": [],
   "source": [
    "cal.df01_calib/cal.f01_default"
   ]
  },
  {
   "cell_type": "markdown",
   "metadata": {},
   "source": [
    "# amplitude 01"
   ]
  },
  {
   "cell_type": "code",
   "execution_count": null,
   "metadata": {},
   "outputs": [],
   "source": [
    "drive_powers,schedules = cal.amplitude01_schedules()"
   ]
  },
  {
   "cell_type": "code",
   "execution_count": null,
   "metadata": {},
   "outputs": [],
   "source": [
    "result_data = cal.run_schedule(schedules)"
   ]
  },
  {
   "cell_type": "code",
   "execution_count": null,
   "metadata": {},
   "outputs": [],
   "source": [
    "plt.plot(np.real(result_data), np.imag(result_data))"
   ]
  },
  {
   "cell_type": "code",
   "execution_count": null,
   "metadata": {},
   "outputs": [],
   "source": [
    "cal.fit_results_a01(result_data,drive_powers)"
   ]
  },
  {
   "cell_type": "code",
   "execution_count": null,
   "metadata": {},
   "outputs": [],
   "source": [
    "cal.a01_calib"
   ]
  },
  {
   "cell_type": "markdown",
   "metadata": {},
   "source": [
    "# frequency 12"
   ]
  },
  {
   "cell_type": "code",
   "execution_count": null,
   "metadata": {},
   "outputs": [],
   "source": [
    "frequencies,schedules = cal.frequency12_schedules()"
   ]
  },
  {
   "cell_type": "code",
   "execution_count": null,
   "metadata": {},
   "outputs": [],
   "source": [
    "result_data = cal.run_schedule(schedules)"
   ]
  },
  {
   "cell_type": "code",
   "execution_count": null,
   "metadata": {},
   "outputs": [],
   "source": [
    "plt.plot(np.real(result_data), np.imag(result_data))"
   ]
  },
  {
   "cell_type": "code",
   "execution_count": null,
   "metadata": {},
   "outputs": [],
   "source": [
    "cal.fit_results_f12(result_data,frequencies)"
   ]
  },
  {
   "cell_type": "code",
   "execution_count": null,
   "metadata": {},
   "outputs": [],
   "source": [
    "cal.df12_calib"
   ]
  },
  {
   "cell_type": "markdown",
   "metadata": {},
   "source": [
    "# amplitude 12"
   ]
  },
  {
   "cell_type": "code",
   "execution_count": null,
   "metadata": {},
   "outputs": [],
   "source": [
    "drive_powers,schedules = cal.amplitude12_schedules()"
   ]
  },
  {
   "cell_type": "code",
   "execution_count": null,
   "metadata": {},
   "outputs": [],
   "source": [
    "result_data = cal.run_schedule(schedules)"
   ]
  },
  {
   "cell_type": "code",
   "execution_count": null,
   "metadata": {},
   "outputs": [],
   "source": [
    "plt.plot(np.real(result_data), np.imag(result_data))"
   ]
  },
  {
   "cell_type": "code",
   "execution_count": null,
   "metadata": {},
   "outputs": [],
   "source": [
    "cal.fit_results_a12(result_data,drive_powers)"
   ]
  },
  {
   "cell_type": "code",
   "execution_count": null,
   "metadata": {},
   "outputs": [],
   "source": [
    "cal.a12_calib"
   ]
  },
  {
   "cell_type": "markdown",
   "metadata": {},
   "source": [
    "# measurements"
   ]
  },
  {
   "cell_type": "code",
   "execution_count": null,
   "metadata": {},
   "outputs": [],
   "source": [
    "states,schedules = cal.measurement_schedule()"
   ]
  },
  {
   "cell_type": "code",
   "execution_count": null,
   "metadata": {},
   "outputs": [],
   "source": [
    "result_data = cal.run_schedule(schedules,boolAvg=False)"
   ]
  },
  {
   "cell_type": "code",
   "execution_count": null,
   "metadata": {},
   "outputs": [],
   "source": [
    "cal.fit_measurements(result_data)"
   ]
  },
  {
   "cell_type": "code",
   "execution_count": null,
   "metadata": {},
   "outputs": [],
   "source": [
    "print(cal.confusion_matrix)"
   ]
  },
  {
   "cell_type": "markdown",
   "metadata": {},
   "source": [
    "# gate examples"
   ]
  },
  {
   "cell_type": "markdown",
   "metadata": {},
   "source": [
    "# Hadamard 12"
   ]
  },
  {
   "cell_type": "code",
   "execution_count": null,
   "metadata": {},
   "outputs": [],
   "source": [
    "qbit =0\n",
    "\n",
    "with pulse.build(backend=cal.backend) as sched:\n",
    "    with pulse.align_sequential():\n",
    "        pulse.shift_frequency(cal.df01_calib, pulse.DriveChannel(qbit))\n",
    "        pulse.play(cal.pulse_rx01(), pulse.DriveChannel(qbit))\n",
    "        pulse.shift_frequency(cal.df12_calib, pulse.DriveChannel(qbit))\n",
    "        pulse.play(cal.pulse_rx12(theta = np.pi/2), pulse.DriveChannel(qbit))\n",
    "        pulse.measure(qbit)\n",
    "        \n",
    "schedules = [sched ]"
   ]
  },
  {
   "cell_type": "code",
   "execution_count": null,
   "metadata": {},
   "outputs": [],
   "source": [
    "result_data = cal.run_schedule(schedules,boolAvg=False)\n",
    "result_state = cal.classify_results(result_data)\n",
    "plt.scatter(np.real(result_data[0,:]),np.imag(result_data[0,:]),s=1,c=result_state[0,:])\n",
    "plt.axis('equal')\n",
    "print(np.unique(result_state,return_counts=True))"
   ]
  },
  {
   "cell_type": "markdown",
   "metadata": {},
   "source": [
    "# equal superposition"
   ]
  },
  {
   "cell_type": "code",
   "execution_count": null,
   "metadata": {},
   "outputs": [],
   "source": [
    "qbit =0\n",
    "\n",
    "with pulse.build(backend=cal.backend) as sched:\n",
    "    with pulse.align_sequential():\n",
    "        pulse.shift_frequency(cal.df01_calib, pulse.DriveChannel(qbit))\n",
    "        pulse.play(cal.pulse_rx01(), pulse.DriveChannel(qbit))\n",
    "        pulse.shift_frequency(cal.df12_calib, pulse.DriveChannel(qbit))\n",
    "        pulse.play(cal.pulse_rx12(theta = np.pi/2), pulse.DriveChannel(qbit))\n",
    "        pulse.measure(qbit)\n",
    "        \n",
    "schedules = [sched ]"
   ]
  },
  {
   "cell_type": "code",
   "execution_count": null,
   "metadata": {},
   "outputs": [],
   "source": [
    "result_data = cal.run_schedule(schedules,boolAvg=False)\n",
    "result_state = cal.classify_results(result_data)\n",
    "plt.scatter(np.real(result_data[0,:]),np.imag(result_data[0,:]),s=1,c=result_state[0,:])\n",
    "plt.axis('equal')\n",
    "print(np.unique(result_state,return_counts=True))"
   ]
  }
 ],
 "metadata": {
  "kernelspec": {
   "display_name": "Python 3",
   "language": "python",
   "name": "python3"
  },
  "language_info": {
   "codemirror_mode": {
    "name": "ipython",
    "version": 3
   },
   "file_extension": ".py",
   "mimetype": "text/x-python",
   "name": "python",
   "nbconvert_exporter": "python",
   "pygments_lexer": "ipython3",
   "version": "3.7.1"
  }
 },
 "nbformat": 4,
 "nbformat_minor": 2
}
