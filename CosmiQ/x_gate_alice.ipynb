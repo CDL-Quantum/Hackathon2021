{
 "cells": [
  {
   "cell_type": "code",
   "execution_count": 41,
   "metadata": {},
   "outputs": [],
   "source": [
    "import numpy as np\n",
    "import matplotlib.pyplot as plt"
   ]
  },
  {
   "cell_type": "code",
   "execution_count": 42,
   "metadata": {},
   "outputs": [],
   "source": [
    "from scipy.optimize import curve_fit\n",
    "from scipy.signal import find_peaks"
   ]
  },
  {
   "cell_type": "code",
   "execution_count": 43,
   "metadata": {},
   "outputs": [
    {
     "name": "stderr",
     "output_type": "stream",
     "text": [
      "ibmqfactory.load_account:WARNING:2021-07-27 14:30:18,551: Credentials are already in use. The existing account in the session will be replaced.\n"
     ]
    }
   ],
   "source": [
    "from qiskit import IBMQ\n",
    "IBMQ.load_account()\n",
    "provider = IBMQ.get_provider(hub='ibm-q', group='open', project='main')"
   ]
  },
  {
   "cell_type": "code",
   "execution_count": 44,
   "metadata": {},
   "outputs": [],
   "source": [
    "from qiskit import pulse\n",
    "import qiskit.pulse.library as pulse_lib\n",
    "from qiskit.compiler import assemble\n",
    "from qiskit.tools.monitor import job_monitor"
   ]
  },
  {
   "cell_type": "code",
   "execution_count": 45,
   "metadata": {},
   "outputs": [
    {
     "data": {
      "text/plain": [
       "[<IBMQSimulator('ibmq_qasm_simulator') from IBMQ(hub='ibm-q', group='open', project='main')>,\n",
       " <IBMQBackend('ibmqx2') from IBMQ(hub='ibm-q', group='open', project='main')>,\n",
       " <IBMQBackend('ibmq_armonk') from IBMQ(hub='ibm-q', group='open', project='main')>,\n",
       " <IBMQBackend('ibmq_santiago') from IBMQ(hub='ibm-q', group='open', project='main')>,\n",
       " <IBMQBackend('ibmq_bogota') from IBMQ(hub='ibm-q', group='open', project='main')>,\n",
       " <IBMQBackend('ibmq_lima') from IBMQ(hub='ibm-q', group='open', project='main')>,\n",
       " <IBMQBackend('ibmq_belem') from IBMQ(hub='ibm-q', group='open', project='main')>,\n",
       " <IBMQBackend('ibmq_quito') from IBMQ(hub='ibm-q', group='open', project='main')>,\n",
       " <IBMQSimulator('simulator_statevector') from IBMQ(hub='ibm-q', group='open', project='main')>,\n",
       " <IBMQSimulator('simulator_mps') from IBMQ(hub='ibm-q', group='open', project='main')>,\n",
       " <IBMQSimulator('simulator_extended_stabilizer') from IBMQ(hub='ibm-q', group='open', project='main')>,\n",
       " <IBMQSimulator('simulator_stabilizer') from IBMQ(hub='ibm-q', group='open', project='main')>,\n",
       " <IBMQBackend('ibmq_manila') from IBMQ(hub='ibm-q', group='open', project='main')>]"
      ]
     },
     "execution_count": 45,
     "metadata": {},
     "output_type": "execute_result"
    }
   ],
   "source": [
    "provider.backends()"
   ]
  },
  {
   "cell_type": "code",
   "execution_count": 46,
   "metadata": {},
   "outputs": [],
   "source": [
    "backend = provider.get_backend('ibmq_armonk')\n",
    "# backend = PulseSimulator()\n",
    "# backend = provider.get_backend('ibmq_bogota')\n",
    "\n",
    "backend_config = backend.configuration()\n",
    "assert backend_config.open_pulse, \"Backend doesn't support Pulse\"\n",
    "dt = backend_config.dt\n",
    "\n",
    "backend_defaults = backend.defaults()\n",
    "meas_map = np.array(backend_config.meas_map[0])"
   ]
  },
  {
   "cell_type": "code",
   "execution_count": 47,
   "metadata": {},
   "outputs": [
    {
     "data": {
      "text/plain": [
       "[4971648972.721859]"
      ]
     },
     "execution_count": 47,
     "metadata": {},
     "output_type": "execute_result"
    }
   ],
   "source": [
    "backend_defaults.qubit_freq_est"
   ]
  },
  {
   "cell_type": "code",
   "execution_count": 48,
   "metadata": {},
   "outputs": [],
   "source": [
    "# number of shots for our experiments\n",
    "NUM_SHOTS = 1024\n",
    "SIGMA = 75e-9\n",
    "TRUNC = 8\n",
    "MAXFREQS = 75\n",
    "MAXDRIVE = 0.1\n",
    "SAMPLE = 16\n",
    "SCALE = 1e-14"
   ]
  },
  {
   "cell_type": "code",
   "execution_count": 49,
   "metadata": {},
   "outputs": [],
   "source": [
    "qubit=0\n",
    "default_qubit_freq = backend_defaults.qubit_freq_est[qubit]\n",
    "# Find out which measurement map index is needed for this qubit\n",
    "meas_map_idx = np.where(qubit==meas_map)[0][0]\n",
    "# Get default measurement pulse from instruction schedule map\n",
    "inst_sched_map = backend_defaults.instruction_schedule_map\n",
    "measure = inst_sched_map.get('measure', qubits=qubit)"
   ]
  },
  {
   "cell_type": "code",
   "execution_count": 50,
   "metadata": {},
   "outputs": [],
   "source": [
    "### Collect the necessary channels\n",
    "drive_chan = pulse.DriveChannel(qubit)\n",
    "meas_chan = pulse.MeasureChannel(qubit)\n",
    "acq_chan = pulse.AcquireChannel(qubit)"
   ]
  },
  {
   "cell_type": "code",
   "execution_count": 51,
   "metadata": {},
   "outputs": [
    {
     "name": "stderr",
     "output_type": "stream",
     "text": [
      "/home/abarthe/.local/lib/python3.7/site-packages/ipykernel_launcher.py:36: DeprecationWarning: Passing a Qobj to Backend.run is deprecated and will be removed in a future release. Please pass in circuits or pulse schedules instead.\n"
     ]
    },
    {
     "name": "stdout",
     "output_type": "stream",
     "text": [
      "Job Status: job has successfully run\n"
     ]
    }
   ],
   "source": [
    "# Drive pulse parameters (us = microseconds)\n",
    "drive_sigma = SAMPLE * round(SIGMA/ SAMPLE/ dt)       # The width of the gaussian in units of dt\n",
    "drive_samples = TRUNC * drive_sigma   # The truncating parameter in units of dt\n",
    "drive_power = MAXDRIVE\n",
    "\n",
    "# We will sweep 40 MHz around the estimated frequency, with 75 frequencies\n",
    "span = default_qubit_freq/200\n",
    "freqs = default_qubit_freq + np.linspace(-span, span, MAXFREQS)\n",
    "\n",
    "# Define the drive pulse\n",
    "ground_sweep_drive_pulse = pulse_lib.gaussian(duration=drive_samples,\n",
    "                                                  sigma=drive_sigma,\n",
    "                                                  amp=drive_power,\n",
    "                                                  name='ground_sweep_drive_pulse')\n",
    "\n",
    "# Create the base schedule\n",
    "schedule = pulse.Schedule(name='Frequency sweep starting from ground state.')\n",
    "\n",
    "schedule |= pulse.Play(ground_sweep_drive_pulse, drive_chan)\n",
    "schedule |= measure << schedule.duration\n",
    "\n",
    "# define frequencies for the sweep\n",
    "schedule_freqs = [{drive_chan: freq} for freq in freqs]\n",
    "\n",
    "# assemble the program\n",
    "# Note: we only require a single schedule since each does the same thing;\n",
    "# for each schedule, the LO frequency that mixes down the drive changes\n",
    "# this enables our frequency sweep\n",
    "ground_freq_sweep_program = assemble(schedule,\n",
    "                                     backend=backend, \n",
    "                                     meas_level=1,\n",
    "                                     meas_return='avg',\n",
    "                                     shots=NUM_SHOTS,\n",
    "                                     schedule_los=schedule_freqs)\n",
    "\n",
    "ground_freq_sweep_job = backend.run(ground_freq_sweep_program)\n",
    "job_monitor(ground_freq_sweep_job)\n",
    "job_results = ground_freq_sweep_job.result(timeout=120)\n",
    "# ground_freq_sweep_data"
   ]
  },
  {
   "cell_type": "code",
   "execution_count": 52,
   "metadata": {},
   "outputs": [],
   "source": [
    "result_data = [job_results.get_memory(i)[qubit]*SCALE for i in range(MAXFREQS)]"
   ]
  },
  {
   "cell_type": "code",
   "execution_count": 53,
   "metadata": {},
   "outputs": [],
   "source": [
    "def fit_function(x_values, y_values, function, init_params):\n",
    "    \"\"\"Fit a function using scipy curve_fit.\"\"\"\n",
    "    fitparams, conv = curve_fit(function, x_values, y_values, init_params)\n",
    "    y_fit = function(x_values, *fitparams)\n",
    "    \n",
    "    return fitparams, y_fit"
   ]
  },
  {
   "cell_type": "code",
   "execution_count": 54,
   "metadata": {},
   "outputs": [
    {
     "name": "stderr",
     "output_type": "stream",
     "text": [
      "/home/abarthe/miniconda3/envs/CDLwk3/lib/python3.7/site-packages/numpy/core/_asarray.py:102: ComplexWarning: Casting complex values to real discards the imaginary part\n",
      "  return array(a, dtype, copy=False, order=order)\n"
     ]
    }
   ],
   "source": [
    "(ground_sweep_fit_params, ground_sweep_y_fit) = fit_function(freqs,\n",
    "                                   result_data, \n",
    "                                   lambda x, q_freq, A, B, C: (A / np.pi) * (B / ((x - q_freq)**2 + B**2)) + C,\n",
    "                                   [default_qubit_freq, 10, 0.1*1e9, 3*1e9] # initial parameters for curve_fit 4.975\n",
    "                                   )"
   ]
  },
  {
   "cell_type": "code",
   "execution_count": 55,
   "metadata": {},
   "outputs": [
    {
     "name": "stderr",
     "output_type": "stream",
     "text": [
      "/home/abarthe/miniconda3/envs/CDLwk3/lib/python3.7/site-packages/numpy/core/_asarray.py:171: ComplexWarning: Casting complex values to real discards the imaginary part\n",
      "  return array(a, dtype, copy=False, order=order, subok=True)\n"
     ]
    },
    {
     "data": {
      "image/png": "[encoded data removed]",
      "text/plain": [
       "<Figure size 432x288 with 1 Axes>"
      ]
     },
     "metadata": {
      "needs_background": "light"
     },
     "output_type": "display_data"
    }
   ],
   "source": [
    "# Note: we are only plotting the real part of the signal\n",
    "plt.scatter(freqs/1e9, result_data, color='black')\n",
    "plt.plot(freqs/1e9, ground_sweep_y_fit, color='red')\n",
    "plt.xlim([min(freqs/1e9), max(freqs/1e9)])\n",
    "plt.xlabel(\"Frequency [GHz]\", fontsize=15)\n",
    "plt.ylabel(\"Measured Signal [a.u.]\", fontsize=15)\n",
    "plt.title(\"0->1 Frequency Sweep\", fontsize=15)\n",
    "plt.show()"
   ]
  },
  {
   "cell_type": "code",
   "execution_count": 56,
   "metadata": {},
   "outputs": [
    {
     "data": {
      "text/plain": [
       "4971657502.626977"
      ]
     },
     "execution_count": 56,
     "metadata": {},
     "output_type": "execute_result"
    }
   ],
   "source": [
    "calib_qubit_freq = ground_sweep_fit_params[0]\n",
    "calib_qubit_freq"
   ]
  },
  {
   "cell_type": "code",
   "execution_count": 57,
   "metadata": {},
   "outputs": [],
   "source": [
    "from qiskit.ignis.characterization.calibrations import rabi_schedules, RabiFitter\n",
    "from qiskit.pulse import DriveChannel"
   ]
  },
  {
   "cell_type": "code",
   "execution_count": 58,
   "metadata": {},
   "outputs": [],
   "source": [
    "\n",
    "\n",
    "#construct the schedules\n",
    "num_exps = 64\n",
    "drive_amps = np.linspace(0, 1.0, num_exps)\n",
    "\n",
    "# drive shape parameters\n",
    "drive_duration = 2048\n",
    "drive_sigma = 256\n",
    "\n",
    "rabi_schedules, xdata = rabi_schedules(amp_list=drive_amps, \n",
    "                                       qubits=[qubit], \n",
    "                                       pulse_width=drive_duration, \n",
    "                                       pulse_sigma=drive_sigma,\n",
    "                                       drives=[DriveChannel(0)], \n",
    "                                       inst_map=backend_defaults.instruction_schedule_map, \n",
    "                                       meas_map=backend_config.meas_map)"
   ]
  },
  {
   "cell_type": "code",
   "execution_count": 59,
   "metadata": {},
   "outputs": [],
   "source": [
    "rabi_qobj = assemble(rabi_schedules, \n",
    "                     backend=backend,\n",
    "                     meas_level=1, \n",
    "                     meas_return='avg',\n",
    "                     shots=NUM_SHOTS)"
   ]
  },
  {
   "cell_type": "code",
   "execution_count": 60,
   "metadata": {},
   "outputs": [
    {
     "name": "stdout",
     "output_type": "stream",
     "text": [
      "Job Status: job has successfully run\n"
     ]
    }
   ],
   "source": [
    "rabi_job = backend.run(rabi_qobj)\n",
    "job_monitor(rabi_job)"
   ]
  },
  {
   "cell_type": "code",
   "execution_count": 61,
   "metadata": {},
   "outputs": [
    {
     "name": "stderr",
     "output_type": "stream",
     "text": [
      "/home/abarthe/.local/lib/python3.7/site-packages/scipy/optimize/minpack.py:834: OptimizeWarning: Covariance of the parameters could not be estimated\n",
      "  category=OptimizeWarning)\n"
     ]
    },
    {
     "name": "stdout",
     "output_type": "stream",
     "text": [
      "Pi Amp: 0.193631\n"
     ]
    },
    {
     "data": {
      "image/png": "[encoded data removed]",
      "text/plain": [
       "<Figure size 432x288 with 1 Axes>"
      ]
     },
     "metadata": {
      "needs_background": "light"
     },
     "output_type": "display_data"
    }
   ],
   "source": [
    "job_results = rabi_job.result()\n",
    "result_data = [job_results.get_memory(i)[qubit]*SCALE for i in range(num_exps)]\n",
    "rabi_fit = RabiFitter(job_results, xdata, [qubit], fit_p0 = [1.5e14, 2, 0, 0])\n",
    "\n",
    "# get the pi amplitude\n",
    "pi_amp = rabi_fit.pi_amplitude(0)\n",
    "\n",
    "# plot\n",
    "rabi_fit.plot(0)\n",
    "print('Pi Amp: %f'%pi_amp)\n"
   ]
  },
  {
   "cell_type": "code",
   "execution_count": 62,
   "metadata": {},
   "outputs": [],
   "source": [
    "pi_pulse_01 = pulse_lib.gaussian(duration=drive_samples,\n",
    "                                 amp=pi_amp, \n",
    "                                 sigma=drive_sigma,\n",
    "                                 name='pi_pulse_01')"
   ]
  },
  {
   "cell_type": "code",
   "execution_count": 63,
   "metadata": {},
   "outputs": [],
   "source": [
    "with pulse.build(backend, name='x_01') as x_01:\n",
    "    pulse.play(pi_pulse_01, pulse.drive_channel(0))"
   ]
  },
  {
   "cell_type": "code",
   "execution_count": 67,
   "metadata": {},
   "outputs": [
    {
     "data": {
      "image/png": "[encoded data removed]",
      "text/plain": [
       "<Figure size 936x118.8 with 1 Axes>"
      ]
     },
     "execution_count": 67,
     "metadata": {},
     "output_type": "execute_result"
    }
   ],
   "source": [
    "x_01.draw()"
   ]
  },
  {
   "cell_type": "code",
   "execution_count": 65,
   "metadata": {},
   "outputs": [],
   "source": [
    "# ground state reference point\n",
    "with pulse.build(backend=backend) as gs:\n",
    "    with pulse.align_sequential():\n",
    "        pulse.measure(0)\n",
    "\n",
    "# excited state reference point\n",
    "with pulse.build(backend=backend) as es:\n",
    "    with pulse.align_sequential():\n",
    "        pulse.play(pi_pulse_01, pulse.DriveChannel(0))\n",
    "        pulse.measure(0)\n",
    "\n",
    "schedules = [gs, es]\n",
    "frequencies = np.linspace(-0.36e9, -0.32e9, 51)\n",
    "\n",
    "for freq in frequencies:\n",
    "    with pulse.build(backend=backend) as spec:\n",
    "        with pulse.align_sequential():\n",
    "            pulse.play(pi_pulse_01, pulse.DriveChannel(0))\n",
    "            pulse.shift_frequency(freq, pulse.DriveChannel(0))\n",
    "            pulse.play(pi_pulse_01, pulse.DriveChannel(0))\n",
    "            pulse.measure(0)\n",
    "        \n",
    "    schedules.append(spec)"
   ]
  },
  {
   "cell_type": "code",
   "execution_count": 68,
   "metadata": {},
   "outputs": [],
   "source": [
    "job = backend.run(schedules, meas_level=1)"
   ]
  },
  {
   "cell_type": "code",
   "execution_count": 73,
   "metadata": {},
   "outputs": [
    {
     "data": {
      "text/plain": [
       "<matplotlib.collections.PathCollection at 0x7f381c3db940>"
      ]
     },
     "execution_count": 73,
     "metadata": {},
     "output_type": "execute_result"
    },
    {
     "data": {
      "image/png": "[encoded data removed]",
      "text/plain": [
       "<Figure size 432x288 with 1 Axes>"
      ]
     },
     "metadata": {
      "needs_background": "light"
     },
     "output_type": "display_data"
    }
   ],
   "source": [
    "result = job.result()\n",
    "\n",
    "signal = []\n",
    "for idx in range(len(frequencies)+2):\n",
    "    signal.append(result.get_memory(idx)[0])\n",
    "    \n",
    "plt.scatter(np.real(signal[0]), np.imag(signal[0]), label='Ground state',s=300)\n",
    "plt.scatter(np.real(signal[1]), np.imag(signal[1]), label='1st excited state',s=300)\n",
    "plt.scatter(np.real(signal[2:]), np.imag(signal[2:]), label='spectroscopy')"
   ]
  },
  {
   "cell_type": "code",
   "execution_count": 72,
   "metadata": {},
   "outputs": [
    {
     "data": {
      "text/plain": [
       "[<matplotlib.lines.Line2D at 0x7f385a9d9da0>]"
      ]
     },
     "execution_count": 72,
     "metadata": {},
     "output_type": "execute_result"
    },
    {
     "data": {
      "image/png": "[encoded data removed]",
      "text/plain": [
       "<Figure size 432x288 with 1 Axes>"
      ]
     },
     "metadata": {
      "needs_background": "light"
     },
     "output_type": "display_data"
    }
   ],
   "source": [
    "plt.plot(frequencies,np.abs(signal[2:]))"
   ]
  },
  {
   "cell_type": "code",
   "execution_count": 120,
   "metadata": {},
   "outputs": [],
   "source": [
    "def match_sinc2(X,fs,boolPlot=True):\n",
    "    \n",
    "    #initial parameters\n",
    "    B = np.min(X)\n",
    "    fc = fs[np.argmax(X)]\n",
    "    A = np.max(X) - B\n",
    "    X_norm = (X - B)/A\n",
    "    x_mean = np.mean(X_norm)\n",
    "    df = x_mean*(np.max(fs)-np.min(fs))/np.pi/3\n",
    "    \n",
    "    #fit\n",
    "    (params, X_model) =fit_function(fs,X,lambda f, fc, df, A, B: A*np.sinc((f-fc)/df)**2+B,[fc, df, A, B])\n",
    "    \n",
    "    if boolPlot == True:\n",
    "        plt.scatter(fs,X,c='k')\n",
    "        plt.plot(fs,X_model,c='b')\n",
    "    \n",
    "    return params"
   ]
  },
  {
   "cell_type": "code",
   "execution_count": 121,
   "metadata": {},
   "outputs": [
    {
     "data": {
      "text/plain": [
       "array([-3.48309362e+08, -5.76588696e+06,  3.77770866e+00,  1.87265460e+01])"
      ]
     },
     "execution_count": 121,
     "metadata": {},
     "output_type": "execute_result"
    },
    {
     "data": {
      "image/png": "[encoded data removed]",
      "text/plain": [
       "<Figure size 432x288 with 1 Axes>"
      ]
     },
     "metadata": {
      "needs_background": "light"
     },
     "output_type": "display_data"
    }
   ],
   "source": [
    "match_sinc2(X,frequencies)"
   ]
  },
  {
   "cell_type": "code",
   "execution_count": 86,
   "metadata": {},
   "outputs": [],
   "source": [
    "X = np.abs(signal[2:])*SCALE"
   ]
  },
  {
   "cell_type": "code",
   "execution_count": 104,
   "metadata": {},
   "outputs": [],
   "source": [
    "n = np.min(X)\n",
    "fm = frequencies[np.argmax(X)]\n",
    "a = np.max(X)-np.min(X)\n",
    "X_norm = (X - n)/a\n",
    "m = np.mean(X_norm)\n",
    "df = m/np.pi*(frequencies[-1]-frequencies[0])"
   ]
  },
  {
   "cell_type": "code",
   "execution_count": 109,
   "metadata": {},
   "outputs": [
    {
     "data": {
      "text/plain": [
       "[<matplotlib.lines.Line2D at 0x7f38546cbc18>]"
      ]
     },
     "execution_count": 109,
     "metadata": {},
     "output_type": "execute_result"
    },
    {
     "data": {
      "image/png": "[encoded data removed]",
      "text/plain": [
       "<Figure size 432x288 with 1 Axes>"
      ]
     },
     "metadata": {
      "needs_background": "light"
     },
     "output_type": "display_data"
    }
   ],
   "source": [
    "plt.plot((frequencies-fm)/df,X_norm)"
   ]
  },
  {
   "cell_type": "code",
   "execution_count": 93,
   "metadata": {},
   "outputs": [
    {
     "data": {
      "text/plain": [
       "[<matplotlib.lines.Line2D at 0x7f37fc60e9b0>]"
      ]
     },
     "execution_count": 93,
     "metadata": {},
     "output_type": "execute_result"
    },
    {
     "data": {
      "image/png": "[encoded data removed]",
      "text/plain": [
       "<Figure size 432x288 with 1 Axes>"
      ]
     },
     "metadata": {
      "needs_background": "light"
     },
     "output_type": "display_data"
    }
   ],
   "source": [
    "t=np.linspace(-5,5,101)\n",
    "plt.plot(t,np.sinc(t)**2)"
   ]
  },
  {
   "cell_type": "code",
   "execution_count": 111,
   "metadata": {},
   "outputs": [],
   "source": [
    " (params, X_model) =fit_function(frequencies,\n",
    "              X,\n",
    "              lambda x, fc, df, A, B: A*np.sinc((x-fc)/df)**2+B,\n",
    "              [fm, df, a, n])"
   ]
  },
  {
   "cell_type": "code",
   "execution_count": 112,
   "metadata": {},
   "outputs": [
    {
     "data": {
      "text/plain": [
       "array([-3.48309361e+08,  5.76588077e+06,  3.77771019e+00,  1.87265464e+01])"
      ]
     },
     "execution_count": 112,
     "metadata": {},
     "output_type": "execute_result"
    }
   ],
   "source": [
    "params"
   ]
  },
  {
   "cell_type": "code",
   "execution_count": 113,
   "metadata": {},
   "outputs": [
    {
     "data": {
      "text/plain": [
       "[-348000000.0, 1928695.6819931122, 3.909206785393799, 18.64950923963192]"
      ]
     },
     "execution_count": 113,
     "metadata": {},
     "output_type": "execute_result"
    }
   ],
   "source": [
    "[fm, df, a, n]"
   ]
  },
  {
   "cell_type": "code",
   "execution_count": 119,
   "metadata": {},
   "outputs": [
    {
     "data": {
      "text/plain": [
       "0.33450141175327963"
      ]
     },
     "execution_count": 119,
     "metadata": {},
     "output_type": "execute_result"
    }
   ],
   "source": [
    "1928695/5765880"
   ]
  },
  {
   "cell_type": "code",
   "execution_count": 116,
   "metadata": {},
   "outputs": [
    {
     "data": {
      "text/plain": [
       "[<matplotlib.lines.Line2D at 0x7f37fc3c25c0>]"
      ]
     },
     "execution_count": 116,
     "metadata": {},
     "output_type": "execute_result"
    },
    {
     "data": {
      "image/png": "[encoded data removed]",
      "text/plain": [
       "<Figure size 432x288 with 1 Axes>"
      ]
     },
     "metadata": {
      "needs_background": "light"
     },
     "output_type": "display_data"
    }
   ],
   "source": [
    "plt.scatter(frequencies,X,c='k')\n",
    "plt.plot(frequencies,X_model,c='b')"
   ]
  },
  {
   "cell_type": "code",
   "execution_count": 118,
   "metadata": {},
   "outputs": [
    {
     "data": {
      "text/plain": [
       "4623348141.267609"
      ]
     },
     "execution_count": 118,
     "metadata": {},
     "output_type": "execute_result"
    }
   ],
   "source": [
    "params[0]+calib_qubit_freq"
   ]
  },
  {
   "cell_type": "code",
   "execution_count": 90,
   "metadata": {},
   "outputs": [
    {
     "name": "stdout",
     "output_type": "stream",
     "text": [
      "(-1619198644060160-759800652627968j)\n",
      "(-1318028423725056-1342887828652032j)\n"
     ]
    }
   ],
   "source": [
    "print(signal[0])\n",
    "print(signal[1])"
   ]
  },
  {
   "cell_type": "code",
   "execution_count": 66,
   "metadata": {},
   "outputs": [
    {
     "data": {
      "text/plain": [
       "{}"
      ]
     },
     "execution_count": 66,
     "metadata": {},
     "output_type": "execute_result"
    }
   ],
   "source": [
    "pi_pulse_01.parameters"
   ]
  },
  {
   "cell_type": "code",
   "execution_count": 82,
   "metadata": {},
   "outputs": [],
   "source": [
    "config = backend.configuration()"
   ]
  },
  {
   "cell_type": "code",
   "execution_count": 84,
   "metadata": {},
   "outputs": [
    {
     "name": "stdout",
     "output_type": "stream",
     "text": [
      "{'backend_name': 'ibmq_armonk', 'backend_version': '2.4.13', 'n_qubits': 1, 'basis_gates': ['id', 'rz', 'sx', 'x'], 'gates': [{'name': 'id', 'parameters': [], 'qasm_def': 'gate id q { U(0, 0, 0) q; }', 'coupling_map': [[0]]}, {'name': 'rz', 'parameters': ['theta'], 'qasm_def': 'gate rz(theta) q { U(0, 0, theta) q; }', 'coupling_map': [[0]]}, {'name': 'sx', 'parameters': [], 'qasm_def': 'gate sx q { U(pi/2, 3*pi/2, pi/2) q; }', 'coupling_map': [[0]]}, {'name': 'x', 'parameters': [], 'qasm_def': 'gate x q { U(pi, 0, pi) q; }', 'coupling_map': [[0]]}], 'local': False, 'simulator': False, 'conditional': False, 'open_pulse': True, 'memory': True, 'max_shots': 8192, 'coupling_map': None, 'dynamic_reprate_enabled': False, 'supported_instructions': ['rz', 'id', 'u2', 'delay', 'setf', 'shiftf', 'x', 'u1', 'play', 'u3', 'measure', 'acquire', 'sx'], 'max_experiments': 75, 'sample_name': 'family: Canary, revision: 1.2', 'n_registers': 1, 'credits_required': True, 'online_date': datetime.datetime(2019, 10, 16, 4, 0, tzinfo=tzutc()), 'description': '1 qubit device', 'dt': 0.2222222222222222, 'dtm': 0.2222222222222222, 'processor_type': {'family': 'Canary', 'revision': 1.2}, 'parametric_pulses': ['gaussian', 'gaussian_square', 'drag', 'constant'], 'allow_q_object': True, 'measure_esp_enabled': False, 'multi_meas_enabled': True, 'quantum_volume': 1, 'qubit_channel_mapping': [['d0', 'm0']], 'uchannels_enabled': True, 'url': 'None', 'input_allowed': ['job'], 'allow_object_storage': True, 'pulse_num_channels': 9, 'pulse_num_qubits': 3, 'n_uchannels': 0, 'u_channel_lo': [], 'meas_levels': [1, 2], 'qubit_lo_range': [[4.47164897272186, 5.47164897272186]], 'meas_lo_range': [[6.493370669000001, 7.493370669000001]], 'meas_kernels': ['hw_boxcar'], 'discriminators': ['quadratic_discriminator', 'linear_discriminator'], 'rep_times': [1000.0], 'meas_map': [[0]], 'acquisition_latency': [], 'conditional_latency': [], 'hamiltonian': {'description': 'Qubits are modeled as Duffing oscillators. In this case, the system includes higher energy states, i.e. not just |0> and |1>. The Pauli operators are generalized via the following set of transformations:\\n\\n$(\\\\mathbb{I}-\\\\sigma_{i}^z)/2 \\\\rightarrow O_i \\\\equiv b^\\\\dagger_{i} b_{i}$,\\n\\n$\\\\sigma_{+} \\\\rightarrow b^\\\\dagger$,\\n\\n$\\\\sigma_{-} \\\\rightarrow b$,\\n\\n$\\\\sigma_{i}^X \\\\rightarrow b^\\\\dagger_{i} + b_{i}$.\\n\\nQubits are coupled through resonator buses. The provided Hamiltonian has been projected into the zero excitation subspace of the resonator buses leading to an effective qubit-qubit flip-flop interaction. The qubit resonance frequencies in the Hamiltonian are the cavity dressed frequencies and not exactly what is returned by the backend defaults, which also includes the dressing due to the qubit-qubit interactions.\\n\\nQuantities are returned in angular frequencies, with units 2*pi*GHz.\\n\\nWARNING: Currently not all system Hamiltonian information is available to the public, missing values have been replaced with 0.\\n', 'h_latex': '\\\\begin{align} \\\\mathcal{H}/\\\\hbar = & \\\\sum_{i=0}^{0}\\\\left(\\\\frac{\\\\omega_{q,i}}{2}(\\\\mathbb{I}-\\\\sigma_i^{z})+\\\\frac{\\\\Delta_{i}}{2}(O_i^2-O_i)+\\\\Omega_{d,i}D_i(t)\\\\sigma_i^{X}\\\\right) \\\\\\\\ \\\\end{align}', 'h_str': ['_SUM[i,0,0,wq{i}/2*(I{i}-Z{i})]', '_SUM[i,0,0,delta{i}/2*O{i}*O{i}]', '_SUM[i,0,0,-delta{i}/2*O{i}]', '_SUM[i,0,0,omegad{i}*X{i}||D{i}]'], 'osc': {}, 'qub': {'0': 3}, 'vars': {'delta0': -2.1814775258495027, 'omegad0': 0.11810091009804716, 'wq0': 31.237791777860473}}, 'channels': {'acquire0': {'operates': {'qubits': [0]}, 'purpose': 'acquire', 'type': 'acquire'}, 'd0': {'operates': {'qubits': [0]}, 'purpose': 'drive', 'type': 'drive'}, 'm0': {'operates': {'qubits': [0]}, 'purpose': 'measure', 'type': 'measure'}}}\n"
     ]
    }
   ],
   "source": [
    "print(config.to_dict())"
   ]
  },
  {
   "cell_type": "code",
   "execution_count": 96,
   "metadata": {},
   "outputs": [],
   "source": [
    "backend = provider.get_backend('ibmq_armonk')"
   ]
  },
  {
   "cell_type": "code",
   "execution_count": 22,
   "metadata": {},
   "outputs": [],
   "source": [
    "backend_defaults = backend.defaults()"
   ]
  },
  {
   "cell_type": "code",
   "execution_count": 23,
   "metadata": {},
   "outputs": [
    {
     "name": "stdout",
     "output_type": "stream",
     "text": [
      "{'qubit_freq_est': [4.97164897272186], 'meas_freq_est': [6.993370669000001], 'buffer': 0, 'pulse_library': [{'name': 'QId_d0', 'samples': [0j, 0j, 0j, 0j, 0j, 0j, 0j, 0j, 0j, 0j, 0j, 0j, 0j, 0j, 0j, 0j, 0j, 0j, 0j, 0j, 0j, 0j, 0j, 0j, 0j, 0j, 0j, 0j, 0j, 0j, 0j, 0j, 0j, 0j, 0j, 0j, 0j, 0j, 0j, 0j, 0j, 0j, 0j, 0j, 0j, 0j, 0j, 0j, 0j, 0j, 0j, 0j, 0j, 0j, 0j, 0j, 0j, 0j, 0j, 0j, 0j, 0j, 0j, 0j, 0j, 0j, 0j, 0j, 0j, 0j, 0j, 0j, 0j, 0j, 0j, 0j, 0j, 0j, 0j, 0j, 0j, 0j, 0j, 0j, 0j, 0j, 0j, 0j, 0j, 0j, 0j, 0j, 0j, 0j, 0j, 0j, 0j, 0j, 0j, 0j, 0j, 0j, 0j, 0j, 0j, 0j, 0j, 0j, 0j, 0j, 0j, 0j, 0j, 0j, 0j, 0j, 0j, 0j, 0j, 0j, 0j, 0j, 0j, 0j, 0j, 0j, 0j, 0j, 0j, 0j, 0j, 0j, 0j, 0j, 0j, 0j, 0j, 0j, 0j, 0j, 0j, 0j, 0j, 0j, 0j, 0j, 0j, 0j, 0j, 0j, 0j, 0j, 0j, 0j, 0j, 0j, 0j, 0j, 0j, 0j, 0j, 0j, 0j, 0j, 0j, 0j, 0j, 0j, 0j, 0j, 0j, 0j, 0j, 0j, 0j, 0j, 0j, 0j, 0j, 0j, 0j, 0j, 0j, 0j, 0j, 0j, 0j, 0j, 0j, 0j, 0j, 0j, 0j, 0j, 0j, 0j, 0j, 0j, 0j, 0j, 0j, 0j, 0j, 0j, 0j, 0j, 0j, 0j, 0j, 0j, 0j, 0j, 0j, 0j, 0j, 0j, 0j, 0j, 0j, 0j, 0j, 0j, 0j, 0j, 0j, 0j, 0j, 0j, 0j, 0j, 0j, 0j, 0j, 0j, 0j, 0j, 0j, 0j, 0j, 0j, 0j, 0j, 0j, 0j, 0j, 0j, 0j, 0j, 0j, 0j, 0j, 0j, 0j, 0j, 0j, 0j, 0j, 0j, 0j, 0j, 0j, 0j, 0j, 0j, 0j, 0j, 0j, 0j, 0j, 0j, 0j, 0j, 0j, 0j, 0j, 0j, 0j, 0j, 0j, 0j, 0j, 0j, 0j, 0j, 0j, 0j, 0j, 0j, 0j, 0j, 0j, 0j, 0j, 0j, 0j, 0j, 0j, 0j, 0j, 0j, 0j, 0j, 0j, 0j, 0j, 0j, 0j, 0j, 0j, 0j, 0j, 0j, 0j, 0j, 0j, 0j, 0j, 0j, 0j, 0j]}], 'cmd_def': [{'name': 'id', 'qubits': [0], 'sequence': [{'name': 'QId_d0', 't0': 0, 'ch': 'd0'}]}, {'name': 'measure', 'qubits': [0], 'sequence': [{'name': 'parametric_pulse', 't0': 0, 'ch': 'm0', 'label': 'M_m0', 'pulse_shape': 'gaussian_square', 'parameters': {'amp': (-0.3465902422523164+0.048736064423388015j), 'duration': 22400, 'sigma': 64, 'width': 22144}}, {'name': 'acquire', 't0': 0, 'duration': 22400, 'qubits': [0], 'memory_slot': [0]}]}, {'name': 'rz', 'qubits': [0], 'sequence': [{'name': 'fc', 't0': 0, 'ch': 'd0', 'phase': '-(P0)'}]}, {'name': 'sx', 'qubits': [0], 'sequence': [{'name': 'parametric_pulse', 't0': 0, 'ch': 'd0', 'label': 'X90p_d0', 'pulse_shape': 'drag', 'parameters': {'amp': (0.37062823536005807-0.07692462761912743j), 'beta': -1.2917849688477199, 'duration': 320, 'sigma': 80}}]}, {'name': 'u1', 'qubits': [0], 'sequence': [{'name': 'fc', 't0': 0, 'ch': 'd0', 'phase': '-(P0)'}]}, {'name': 'u2', 'qubits': [0], 'sequence': [{'name': 'fc', 't0': 0, 'ch': 'd0', 'phase': '-(P1)'}, {'name': 'parametric_pulse', 't0': 0, 'ch': 'd0', 'label': 'Y90p_d0', 'pulse_shape': 'drag', 'parameters': {'amp': (0.07692462761912743+0.37062823536005807j), 'beta': -1.2917849688477199, 'duration': 320, 'sigma': 80}}, {'name': 'fc', 't0': 320, 'ch': 'd0', 'phase': '-(P0)'}]}, {'name': 'u3', 'qubits': [0], 'sequence': [{'name': 'fc', 't0': 0, 'ch': 'd0', 'phase': '-(P2)'}, {'name': 'parametric_pulse', 't0': 0, 'ch': 'd0', 'label': 'X90p_d0', 'pulse_shape': 'drag', 'parameters': {'amp': (0.37062823536005807-0.07692462761912743j), 'beta': -1.2917849688477199, 'duration': 320, 'sigma': 80}}, {'name': 'fc', 't0': 320, 'ch': 'd0', 'phase': '-(P0)'}, {'name': 'parametric_pulse', 't0': 320, 'ch': 'd0', 'label': 'X90m_d0', 'pulse_shape': 'drag', 'parameters': {'amp': (-0.370628235360058+0.07692462761912752j), 'beta': -1.2917849688477199, 'duration': 320, 'sigma': 80}}, {'name': 'fc', 't0': 640, 'ch': 'd0', 'phase': '-(P1)'}]}, {'name': 'x', 'qubits': [0], 'sequence': [{'name': 'parametric_pulse', 't0': 0, 'ch': 'd0', 'label': 'Xp_d0', 'pulse_shape': 'drag', 'parameters': {'amp': (0.8053407199000058+0j), 'beta': -0.7209490242410047, 'duration': 320, 'sigma': 80}}]}], 'meas_kernel': {'name': 'hw_boxcar', 'params': {}}, 'discriminator': {'name': 'linear_discriminator', 'params': {'neighborhoods': [{'channels': 1, 'qubits': 1}], 'resample': False}}, '_data': {}}\n"
     ]
    }
   ],
   "source": [
    "print(backend_defaults.to_dict())"
   ]
  },
  {
   "cell_type": "code",
   "execution_count": 26,
   "metadata": {},
   "outputs": [
    {
     "name": "stdout",
     "output_type": "stream",
     "text": [
      "<qiskit.providers.models.pulsedefaults.Command object at 0x7f38b8a83588>\n"
     ]
    }
   ],
   "source": [
    "print(backend_defaults.cmd_def[0])"
   ]
  },
  {
   "cell_type": "code",
   "execution_count": 39,
   "metadata": {},
   "outputs": [
    {
     "data": {
      "text/plain": [
       "{'name': 'u3',\n",
       " 'qubits': [0],\n",
       " 'sequence': [{'name': 'fc', 't0': 0, 'ch': 'd0', 'phase': '-(P2)'},\n",
       "  {'name': 'parametric_pulse',\n",
       "   't0': 0,\n",
       "   'ch': 'd0',\n",
       "   'label': 'X90p_d0',\n",
       "   'pulse_shape': 'drag',\n",
       "   'parameters': {'amp': (0.37062823536005807-0.07692462761912743j),\n",
       "    'beta': -1.2917849688477199,\n",
       "    'duration': 320,\n",
       "    'sigma': 80}},\n",
       "  {'name': 'fc', 't0': 320, 'ch': 'd0', 'phase': '-(P0)'},\n",
       "  {'name': 'parametric_pulse',\n",
       "   't0': 320,\n",
       "   'ch': 'd0',\n",
       "   'label': 'X90m_d0',\n",
       "   'pulse_shape': 'drag',\n",
       "   'parameters': {'amp': (-0.370628235360058+0.07692462761912752j),\n",
       "    'beta': -1.2917849688477199,\n",
       "    'duration': 320,\n",
       "    'sigma': 80}},\n",
       "  {'name': 'fc', 't0': 640, 'ch': 'd0', 'phase': '-(P1)'}]}"
      ]
     },
     "execution_count": 39,
     "metadata": {},
     "output_type": "execute_result"
    }
   ],
   "source": [
    "backend_defaults.cmd_def[6].to_dict()"
   ]
  },
  {
   "cell_type": "code",
   "execution_count": 31,
   "metadata": {},
   "outputs": [
    {
     "data": {
      "text/plain": [
       "{'name': 'id',\n",
       " 'qubits': [0],\n",
       " 'sequence': [{'name': 'QId_d0', 't0': 0, 'ch': 'd0'}]}"
      ]
     },
     "execution_count": 31,
     "metadata": {},
     "output_type": "execute_result"
    }
   ],
   "source": [
    "a"
   ]
  },
  {
   "cell_type": "code",
   "execution_count": 99,
   "metadata": {},
   "outputs": [],
   "source": [
    "backend_defaults.qubit_freq_est=calib_qubit_freq/1e9"
   ]
  },
  {
   "cell_type": "code",
   "execution_count": 100,
   "metadata": {},
   "outputs": [
    {
     "ename": "TypeError",
     "evalue": "'numpy.float64' object is not iterable",
     "output_type": "error",
     "traceback": [
      "\u001b[0;31m---------------------------------------------------------------------------\u001b[0m",
      "\u001b[0;31mTypeError\u001b[0m                                 Traceback (most recent call last)",
      "\u001b[0;32m<ipython-input-100-8b39175b5fca>\u001b[0m in \u001b[0;36m<module>\u001b[0;34m\u001b[0m\n\u001b[0;32m----> 1\u001b[0;31m \u001b[0mprint\u001b[0m\u001b[0;34m(\u001b[0m\u001b[0mbackend_defaults\u001b[0m\u001b[0;34m.\u001b[0m\u001b[0mto_dict\u001b[0m\u001b[0;34m(\u001b[0m\u001b[0;34m)\u001b[0m\u001b[0;34m)\u001b[0m\u001b[0;34m\u001b[0m\u001b[0;34m\u001b[0m\u001b[0m\n\u001b[0m",
      "\u001b[0;32m~/miniconda3/envs/CDLwk3/lib/python3.7/site-packages/qiskit/providers/models/pulsedefaults.py\u001b[0m in \u001b[0;36mto_dict\u001b[0;34m(self)\u001b[0m\n\u001b[1;32m    252\u001b[0m         \u001b[0mout_dict\u001b[0m\u001b[0;34m.\u001b[0m\u001b[0mupdate\u001b[0m\u001b[0;34m(\u001b[0m\u001b[0mself\u001b[0m\u001b[0;34m.\u001b[0m\u001b[0m_data\u001b[0m\u001b[0;34m)\u001b[0m\u001b[0;34m\u001b[0m\u001b[0;34m\u001b[0m\u001b[0m\n\u001b[1;32m    253\u001b[0m \u001b[0;34m\u001b[0m\u001b[0m\n\u001b[0;32m--> 254\u001b[0;31m         \u001b[0mout_dict\u001b[0m\u001b[0;34m[\u001b[0m\u001b[0;34m\"qubit_freq_est\"\u001b[0m\u001b[0;34m]\u001b[0m \u001b[0;34m=\u001b[0m \u001b[0;34m[\u001b[0m\u001b[0mfreq\u001b[0m \u001b[0;34m*\u001b[0m \u001b[0;36m1e-9\u001b[0m \u001b[0;32mfor\u001b[0m \u001b[0mfreq\u001b[0m \u001b[0;32min\u001b[0m \u001b[0mself\u001b[0m\u001b[0;34m.\u001b[0m\u001b[0mqubit_freq_est\u001b[0m\u001b[0;34m]\u001b[0m\u001b[0;34m\u001b[0m\u001b[0;34m\u001b[0m\u001b[0m\n\u001b[0m\u001b[1;32m    255\u001b[0m         \u001b[0mout_dict\u001b[0m\u001b[0;34m[\u001b[0m\u001b[0;34m\"meas_freq_est\"\u001b[0m\u001b[0;34m]\u001b[0m \u001b[0;34m=\u001b[0m \u001b[0;34m[\u001b[0m\u001b[0mfreq\u001b[0m \u001b[0;34m*\u001b[0m \u001b[0;36m1e-9\u001b[0m \u001b[0;32mfor\u001b[0m \u001b[0mfreq\u001b[0m \u001b[0;32min\u001b[0m \u001b[0mself\u001b[0m\u001b[0;34m.\u001b[0m\u001b[0mmeas_freq_est\u001b[0m\u001b[0;34m]\u001b[0m\u001b[0;34m\u001b[0m\u001b[0;34m\u001b[0m\u001b[0m\n\u001b[1;32m    256\u001b[0m         \u001b[0;32mreturn\u001b[0m \u001b[0mout_dict\u001b[0m\u001b[0;34m\u001b[0m\u001b[0;34m\u001b[0m\u001b[0m\n",
      "\u001b[0;31mTypeError\u001b[0m: 'numpy.float64' object is not iterable"
     ]
    }
   ],
   "source": [
    "print(backend_defaults.to_dict())"
   ]
  },
  {
   "cell_type": "code",
   "execution_count": null,
   "metadata": {},
   "outputs": [],
   "source": []
  }
 ],
 "metadata": {
  "kernelspec": {
   "display_name": "Python 3",
   "language": "python",
   "name": "python3"
  },
  "language_info": {
   "codemirror_mode": {
    "name": "ipython",
    "version": 3
   },
   "file_extension": ".py",
   "mimetype": "text/x-python",
   "name": "python",
   "nbconvert_exporter": "python",
   "pygments_lexer": "ipython3",
   "version": "3.7.1"
  }
 },
 "nbformat": 4,
 "nbformat_minor": 2
}
