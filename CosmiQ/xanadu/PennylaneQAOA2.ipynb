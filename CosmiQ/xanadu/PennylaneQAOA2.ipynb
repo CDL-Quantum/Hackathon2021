{
 "cells": [
  {
   "cell_type": "code",
   "execution_count": 1,
   "id": "c74f1c91",
   "metadata": {},
   "outputs": [],
   "source": [
    "#pip install pennylane"
   ]
  },
  {
   "cell_type": "code",
   "execution_count": 4,
   "id": "d8683e8a",
   "metadata": {},
   "outputs": [],
   "source": [
    "import pennylane as qml\n",
    "from pennylane import numpy as np\n",
    "np.random.seed(0)\n",
    "\n",
    "import flatnetwork_simple as fns"
   ]
  },
  {
   "cell_type": "markdown",
   "id": "6c7a02ea",
   "metadata": {},
   "source": [
    "# REAL S&P 500 DATASET"
   ]
  },
  {
   "cell_type": "code",
   "execution_count": 5,
   "id": "4b7915a8",
   "metadata": {},
   "outputs": [
    {
     "data": {
      "image/png": "[encoded data removed]",
      "text/plain": [
       "<Figure size 432x288 with 1 Axes>"
      ]
     },
     "metadata": {
      "needs_background": "light"
     },
     "output_type": "display_data"
    }
   ],
   "source": [
    "from dataloader_class import *\n",
    "dl = data_loader('data/covid2020.csv')\n",
    "dl.split_windows(180)\n",
    "dl.plot_trajectories()"
   ]
  },
  {
   "cell_type": "code",
   "execution_count": 6,
   "id": "21c90c88",
   "metadata": {},
   "outputs": [
    {
     "data": {
      "image/png": "[encoded data removed]",
      "text/plain": [
       "<Figure size 432x288 with 1 Axes>"
      ]
     },
     "metadata": {
      "needs_background": "light"
     },
     "output_type": "display_data"
    }
   ],
   "source": [
    "dl.filter_assets(num_assets=2, method='relevant')\n",
    "dl.plot_trajectories()"
   ]
  },
  {
   "cell_type": "code",
   "execution_count": 7,
   "id": "755dfe7d",
   "metadata": {},
   "outputs": [
    {
     "name": "stdout",
     "output_type": "stream",
     "text": [
      "(2, 2)\n"
     ]
    }
   ],
   "source": [
    "mut = dl.return_mut()\n",
    "sigmat = dl.return_sigmat()\n",
    "print(mut.shape)"
   ]
  },
  {
   "cell_type": "markdown",
   "id": "1758b0af",
   "metadata": {},
   "source": [
    "# DMRG SOLUTION"
   ]
  },
  {
   "cell_type": "code",
   "execution_count": 8,
   "id": "59da1f80",
   "metadata": {},
   "outputs": [
    {
     "name": "stdout",
     "output_type": "stream",
     "text": [
      "Max MPO dim:  9\n"
     ]
    }
   ],
   "source": [
    "L = [mut.shape[0],mut.shape[1],2]\n",
    "d = 2\n",
    "\n",
    "#Parameters\n",
    "mu = lambda t,i: mut[t,i]\n",
    "rho = 5.0\n",
    "\n",
    "fnet = fns.FlatNetwork(L,d)\n",
    "fnet.loadParams(mu, rho)\n",
    "fnet.make_mpos()\n",
    "\n",
    "S, D = fnet.getHamiltonian()"
   ]
  },
  {
   "cell_type": "code",
   "execution_count": 9,
   "id": "f5d42af4",
   "metadata": {
    "scrolled": true
   },
   "outputs": [
    {
     "name": "stdout",
     "output_type": "stream",
     "text": [
      "Schedule:  0  D =  1\n",
      "Beginning sweep:  0 of 10\n",
      "Sweep Energy: -1.87945522\n",
      "Beginning sweep:  1 of 10\n",
      "Sweep Energy: -1.87945522\n",
      "Beginning sweep:  2 of 10\n",
      "Sweep Energy: -1.87945522\n",
      "Beginning sweep:  3 of 10\n",
      "Sweep Energy: -1.87945522\n",
      "Beginning sweep:  4 of 10\n",
      "Sweep Energy: -1.87945522\n",
      "Beginning sweep:  5 of 10\n",
      "Sweep Energy: -1.87945522\n",
      "-----------\n",
      "Schedule:  1  D =  2\n",
      "Beginning sweep:  0 of 10\n",
      "Sweep Energy: -1.87945522\n",
      "Beginning sweep:  1 of 10\n",
      "Sweep Energy: -1.87945522\n",
      "Beginning sweep:  2 of 10\n",
      "Sweep Energy: -2.17874469\n",
      "Beginning sweep:  3 of 10\n",
      "Sweep Energy: -2.19184230\n",
      "Beginning sweep:  4 of 10\n",
      "Sweep Energy: -2.19184230\n",
      "Beginning sweep:  5 of 10\n",
      "Sweep Energy: -2.19184230\n",
      "-----------\n",
      "Schedule:  2  D =  2\n",
      "Beginning sweep:  0 of 10\n",
      "Sweep Energy: -2.19184230\n",
      "Beginning sweep:  1 of 10\n",
      "Sweep Energy: -2.19184230\n",
      "Beginning sweep:  2 of 10\n",
      "Sweep Energy: -2.19184230\n",
      "Beginning sweep:  3 of 10\n",
      "Sweep Energy: -2.19184230\n",
      "Beginning sweep:  4 of 10\n",
      "Sweep Energy: -2.19184230\n",
      "Beginning sweep:  5 of 10\n",
      "Sweep Energy: -2.19184230\n",
      "-----------\n",
      "Schedule:  3  D =  3\n",
      "Beginning sweep:  0 of 10\n",
      "Sweep Energy: -2.30243808\n",
      "Beginning sweep:  1 of 10\n",
      "Sweep Energy: -2.50417985\n",
      "Beginning sweep:  2 of 10\n",
      "Sweep Energy: -2.50417985\n",
      "Beginning sweep:  3 of 10\n",
      "Sweep Energy: -2.50417985\n",
      "Beginning sweep:  4 of 10\n",
      "Sweep Energy: -2.50417985\n",
      "Beginning sweep:  5 of 10\n",
      "Sweep Energy: -2.50417985\n",
      "-----------\n",
      "Schedule:  4  D =  3\n",
      "Beginning sweep:  0 of 10\n",
      "Sweep Energy: -2.50417985\n",
      "Beginning sweep:  1 of 10\n",
      "Sweep Energy: -2.50417985\n",
      "Beginning sweep:  2 of 10\n",
      "Sweep Energy: -2.50417985\n",
      "Beginning sweep:  3 of 10\n",
      "Sweep Energy: -2.50417985\n",
      "Beginning sweep:  4 of 10\n",
      "Sweep Energy: -2.50417985\n",
      "Beginning sweep:  5 of 10\n",
      "Sweep Energy: -2.50417985\n",
      "-----------\n"
     ]
    }
   ],
   "source": [
    "sweepD = [     1,     2,     2,     3,     3,     4,     5,     8,    10]\n",
    "sweepI = [    10,    10,    10,    10,    10,    10,    10,    10,    10]\n",
    "sweepN = [1.0e-2,1.0e-3,1.0e-4,1.0e-5,1.0e-6,1.0e-6,1.0e-6,1.0e-6,1.0e-6]\n",
    "sweepM = [     5,     5,     5,     5,     5,     5,     5,     5,     5]\n",
    "\n",
    "cc = 5\n",
    "e, mps = fnet.run(sweepd = sweepD[:cc], sweepi = sweepI[:cc], sweepn = sweepN[:cc], sweepmin = sweepM[:cc])"
   ]
  },
  {
   "cell_type": "code",
   "execution_count": 10,
   "id": "4dc79f73",
   "metadata": {},
   "outputs": [
    {
     "name": "stdout",
     "output_type": "stream",
     "text": [
      "(0, 0) 0.7500000000000023 0.0023250259995950874\n",
      "(0, 1) 0.25000000000000255 0.0014874160104551906\n",
      "(1, 0) 0.7500000000000023 0.0022945917350109314\n",
      "(1, 1) 0.2500000000000012 0.001373131611521413\n"
     ]
    }
   ],
   "source": [
    "fvs = fnet.computeWeights(mps)\n",
    "fvm = np.zeros([L[1],L[0]])\n",
    "\n",
    "for pair in fvs:\n",
    "    fvm[pair[1],pair[0]] = fvs[pair]\n",
    "    if(abs(fvs[pair]>1.0e-8)):\n",
    "        print(pair, fvs[pair], mu(pair[0],pair[1]))"
   ]
  },
  {
   "cell_type": "code",
   "execution_count": 11,
   "id": "fd69b326",
   "metadata": {},
   "outputs": [
    {
     "data": {
      "text/plain": [
       "Text(0, 0.5, 'Weight')"
      ]
     },
     "execution_count": 11,
     "metadata": {},
     "output_type": "execute_result"
    },
    {
     "data": {
      "image/png": "[encoded data removed]",
      "text/plain": [
       "<Figure size 432x288 with 1 Axes>"
      ]
     },
     "metadata": {
      "needs_background": "light"
     },
     "output_type": "display_data"
    }
   ],
   "source": [
    "import matplotlib.pyplot as plt\n",
    "\n",
    "ts = [t for t in range(0,L[0])]\n",
    "\n",
    "for i in range(L[1]):\n",
    "    plt.plot(ts,fvm[i,:],'-x')\n",
    "plt.xlabel('Time', fontsize=20)\n",
    "plt.ylabel('Weight', fontsize=20)"
   ]
  },
  {
   "cell_type": "code",
   "execution_count": 12,
   "id": "d06d0d9e",
   "metadata": {},
   "outputs": [
    {
     "data": {
      "text/plain": [
       "Text(0, 0.5, 'Relative Profit')"
      ]
     },
     "execution_count": 12,
     "metadata": {},
     "output_type": "execute_result"
    },
    {
     "data": {
      "image/png": "[encoded data removed]",
      "text/plain": [
       "<Figure size 432x288 with 1 Axes>"
      ]
     },
     "metadata": {
      "needs_background": "light"
     },
     "output_type": "display_data"
    }
   ],
   "source": [
    "for i in range(L[1]):\n",
    "    plt.plot(ts,mut[:,i],'-x')\n",
    "    \n",
    "plt.xlabel('Time', fontsize=20)\n",
    "plt.ylabel('Relative Profit', fontsize=20)"
   ]
  },
  {
   "cell_type": "markdown",
   "id": "482a1530",
   "metadata": {},
   "source": [
    "# QAOA"
   ]
  },
  {
   "cell_type": "code",
   "execution_count": 25,
   "id": "7b5bbd68",
   "metadata": {},
   "outputs": [
    {
     "name": "stdout",
     "output_type": "stream",
     "text": [
      "{(0, 0): -2.5005812564998986, (1, 1): -5.001162512999797, (2, 2): -2.500371854002614, (3, 3): -5.000743708005228, (4, 4): -2.5005736479337526, (5, 5): -5.001147295867505, (6, 6): -2.50034328290288, (7, 7): -5.00068656580576}\n",
      "{(0, 0): 0.3125, (0, 1): 1.25, (0, 3): 2.5, (0, 2): 0.625, (1, 1): 1.25, (1, 3): 2.5, (2, 2): 0.3125, (2, 3): 1.25, (3, 3): 1.25, (4, 4): 0.3125, (4, 5): 1.25, (4, 7): 2.5, (4, 6): 0.625, (5, 5): 1.25, (5, 7): 2.5, (6, 6): 0.3125, (6, 7): 1.25, (7, 7): 1.25}\n",
      "\n",
      "\n",
      "{0: -1.0934593717500507, 1: 0.000581256499898597, 2: 0.15643592700130693, 3: -1.2496281459973861, 4: -1.0934631760331237, 5: 0.0005736479337525857, 6: 0.1564216414514401, 7: -1.2496567170971198}\n",
      "{0: -0.078125, 1: -0.3125, 2: -0.078125, 3: -0.3125, 4: -0.078125, 5: -0.3125, 6: -0.078125, 7: -0.3125}\n",
      "{(0, 1): 0.3125, (0, 3): 0.625, (0, 2): 0.15625, (1, 3): 0.625, (2, 3): 0.3125, (4, 5): 0.3125, (4, 7): 0.625, (4, 6): 0.15625, (5, 7): 0.625, (6, 7): 0.3125}\n",
      "{0: -1.1721656282499493, 1: -2.1880812564998986, 2: -1.172060927001307, 3: -2.187871854002614, 4: -1.1721618239668763, 5: -2.1880736479337526, 6: -1.17204664145144, 7: -2.18784328290288}\n",
      "{(0, 1): 0.3125, (0, 3): 0.625, (0, 2): 0.15625, (1, 3): 0.625, (2, 3): 0.3125, (4, 5): 0.3125, (4, 7): 0.625, (4, 6): 0.15625, (5, 7): 0.625, (6, 7): 0.3125}\n"
     ]
    }
   ],
   "source": [
    "#Must convert all parameters to pauli basis\n",
    "\n",
    "Snew = {}\n",
    "Inew = {}\n",
    "for pair in S:\n",
    "    Snew[pair[0]] = -S[pair]/2 if not pair[0] in Snew else Snew[pair[0]] - S[pair]/2\n",
    "    Inew[pair[0]] = S[pair]/2 if not pair[0] in Inew else Inew[pair[0]] + S[pair]/2\n",
    "    \n",
    "for pair in D:\n",
    "    if(pair[0]==pair[1]): #n^2 term\n",
    "        Snew[pair[0]] = -D[pair]/2 if not pair[0] in Snew else Snew[pair[0]] -D[pair]/2\n",
    "        Inew[pair[0]] = D[pair]/4 if not pair[0] in Inew else Inew[pair[0]] + D[pair]/4\n",
    "    else:\n",
    "        Snew[pair[0]] = -D[pair]/2 if not pair[0] in Snew else Snew[pair[0]] -D[pair]/2\n",
    "        Snew[pair[1]] = -D[pair]/2 if not pair[1] in Snew else Snew[pair[1]] -D[pair]/2\n",
    "\n",
    "#Z*Z is I\n",
    "S2new = {}\n",
    "for pair in D:\n",
    "    if(pair[0]==pair[1]): #n^2 term\n",
    "        Inew[pair[0]] = -D[pair]/4 if not pair[0] in Inew else Inew[pair[0]] - D[pair]/4\n",
    "\n",
    "Dnew = {}\n",
    "I2new = {}\n",
    "for pair in D:\n",
    "    if(pair[0]!=pair[1]): #n_a n_b term\n",
    "        Dnew[pair] = D[pair]/4 if not pair in Dnew else Dnew[pair[0]] + D[pair]/4\n",
    "        I2new[pair] = D[pair]/4 if not pair in I2new else I2new[pair[0]] + D[pair]/4    \n",
    "        \n",
    "        \n",
    "print(S)\n",
    "print(D)\n",
    "print('\\n')\n",
    "print(Snew)\n",
    "print(S2new)\n",
    "print(Dnew)\n",
    "print(Inew)\n",
    "print(I2new)\n"
   ]
  },
  {
   "cell_type": "code",
   "execution_count": 28,
   "id": "e616dc61",
   "metadata": {},
   "outputs": [
    {
     "name": "stdout",
     "output_type": "stream",
     "text": [
      "  (-2.1880812564998986) [I1]\n",
      "+ (-2.1880736479337526) [I5]\n",
      "+ (-2.187871854002614) [I3]\n",
      "+ (-2.18784328290288) [I7]\n",
      "+ (-1.2496567170971198) [Z7]\n",
      "+ (-1.2496281459973861) [Z3]\n",
      "+ (-1.1721656282499493) [I0]\n",
      "+ (-1.1721618239668763) [I4]\n",
      "+ (-1.172060927001307) [I2]\n",
      "+ (-1.17204664145144) [I6]\n",
      "+ (-1.0934631760331237) [Z4]\n",
      "+ (-1.0934593717500507) [Z0]\n",
      "+ (0.0005736479337525857) [Z5]\n",
      "+ (0.000581256499898597) [Z1]\n",
      "+ (0.1564216414514401) [Z6]\n",
      "+ (0.15643592700130693) [Z2]\n",
      "+ (0.15625) [Z0 Z2]\n",
      "+ (0.15625) [Z4 Z6]\n",
      "+ (0.15625) [I0 I2]\n",
      "+ (0.15625) [I4 I6]\n",
      "+ (0.3125) [Z0 Z1]\n",
      "+ (0.3125) [Z2 Z3]\n",
      "+ (0.3125) [Z4 Z5]\n",
      "+ (0.3125) [Z6 Z7]\n",
      "+ (0.3125) [I0 I1]\n",
      "+ (0.3125) [I2 I3]\n",
      "+ (0.3125) [I4 I5]\n",
      "+ (0.3125) [I6 I7]\n",
      "+ (0.625) [Z0 Z3]\n",
      "+ (0.625) [Z1 Z3]\n",
      "+ (0.625) [Z4 Z7]\n",
      "+ (0.625) [Z5 Z7]\n",
      "+ (0.625) [I0 I3]\n",
      "+ (0.625) [I1 I3]\n",
      "+ (0.625) [I4 I7]\n",
      "+ (0.625) [I5 I7]\n"
     ]
    }
   ],
   "source": [
    "n_wires = int(np.prod(L))\n",
    "\n",
    "H = qml.Hamiltonian(\n",
    "    [Snew[wire] for wire in Snew] + [Inew[wire] for wire in Inew] + [Dnew[wire] for wire in Dnew] + \n",
    "    [I2new[wire] for wire in I2new],\n",
    "    [qml.PauliZ(wire) for wire in Snew] + [qml.Identity(wire) for wire in Inew] + [qml.PauliZ(wire[0])@qml.PauliZ(wire[1]) for wire in Dnew]\n",
    "    + [qml.Identity(wire[0]) @ qml.Identity(wire[1]) for wire in I2new]    \n",
    ")\n",
    "\n",
    "print(H)    "
   ]
  },
  {
   "cell_type": "code",
   "execution_count": 29,
   "id": "6fb22819",
   "metadata": {},
   "outputs": [
    {
     "name": "stdout",
     "output_type": "stream",
     "text": [
      "  (1.0) [X0]\n",
      "+ (1.0) [X1]\n",
      "+ (1.0) [X2]\n",
      "+ (1.0) [X3]\n",
      "+ (1.0) [X4]\n",
      "+ (1.0) [X5]\n",
      "+ (1.0) [X6]\n",
      "+ (1.0) [X7]\n"
     ]
    }
   ],
   "source": [
    "Hm = qml.Hamiltonian(\n",
    "    [1.0 for wire in range(n_wires)],\n",
    "    [qml.PauliX(wire) for wire in range(n_wires)]\n",
    ")\n",
    "\n",
    "print(Hm)"
   ]
  },
  {
   "cell_type": "code",
   "execution_count": 30,
   "id": "32c563a5",
   "metadata": {},
   "outputs": [],
   "source": [
    "from pennylane import qaoa"
   ]
  },
  {
   "cell_type": "code",
   "execution_count": 31,
   "id": "41cc6032",
   "metadata": {},
   "outputs": [],
   "source": [
    "def qaoa_layer(gamma, alpha):\n",
    "    qaoa.cost_layer(gamma, H)\n",
    "    qaoa.mixer_layer(alpha, Hm)"
   ]
  },
  {
   "cell_type": "code",
   "execution_count": 32,
   "id": "d4176442",
   "metadata": {},
   "outputs": [],
   "source": [
    "depth = 2\n",
    "wires = range(n_wires)\n",
    "\n",
    "def circuit(params, **kwargs):\n",
    "    for w in wires:\n",
    "        qml.Hadamard(wires=w)\n",
    "    qml.layer(qaoa_layer, depth, params[0], params[1])"
   ]
  },
  {
   "cell_type": "code",
   "execution_count": 33,
   "id": "cf0e3570",
   "metadata": {},
   "outputs": [],
   "source": [
    "dev = qml.device(\"qulacs.simulator\", wires=wires)\n",
    "cost_function = qml.ExpvalCost(circuit, H, dev)"
   ]
  },
  {
   "cell_type": "code",
   "execution_count": 34,
   "id": "7c6502fc",
   "metadata": {},
   "outputs": [],
   "source": [
    "optimizer = qml.GradientDescentOptimizer()\n",
    "steps = 200\n",
    "params = [[0.5,0.5], [0.5,0.5]]"
   ]
  },
  {
   "cell_type": "code",
   "execution_count": 35,
   "id": "fad74d97",
   "metadata": {},
   "outputs": [
    {
     "name": "stdout",
     "output_type": "stream",
     "text": [
      "Step     5: -9.9413807\n",
      "Step    10: -10.2282798\n",
      "Step    15: -10.3233617\n",
      "Step    20: -10.3693503\n",
      "Step    25: -10.3976074\n",
      "Step    30: -10.4198959\n",
      "Step    35: -10.4409054\n",
      "Step    40: -10.4625755\n",
      "Step    45: -10.4858007\n",
      "Step    50: -10.5111092\n",
      "Step    55: -10.5389446\n",
      "Step    60: -10.5698052\n",
      "Step    65: -10.6043529\n",
      "Step    70: -10.6435564\n",
      "Step    75: -10.6889436\n",
      "Step    80: -10.7431061\n",
      "Step    85: -10.8107965\n",
      "Step    90: -10.9015060\n",
      "Step    95: -11.0358843\n",
      "Step   100: -11.2613395\n",
      "Step   105: -11.6741014\n",
      "Step   110: -12.3075816\n",
      "Step   115: -12.7664654\n",
      "Step   120: -12.8946171\n",
      "Step   125: -12.9193541\n",
      "Step   130: -12.9248335\n",
      "Step   135: -12.9263857\n",
      "Step   140: -12.9269096\n",
      "Step   145: -12.9271028\n",
      "Step   150: -12.9271770\n",
      "Step   155: -12.9272060\n",
      "Step   160: -12.9272174\n",
      "Step   165: -12.9272219\n",
      "Step   170: -12.9272238\n",
      "Step   175: -12.9272245\n",
      "Step   180: -12.9272248\n",
      "Step   185: -12.9272249\n",
      "Step   190: -12.9272249\n",
      "Step   195: -12.9272249\n",
      "Step   200: -12.9272249\n",
      "Optimal Parameters\n",
      "[[0.4965024987849432, 1.4403981161833161], [0.9025705434921945, 1.181161286644543]]\n"
     ]
    }
   ],
   "source": [
    "for i in range(steps):\n",
    "    params  = optimizer.step(cost_function, params)\n",
    "    if (i+1)%5 == 0:\n",
    "        print('Step {:5d}: {: .7f}'.format(i+1, cost_function(params)))\n",
    "\n",
    "print(\"Optimal Parameters\")\n",
    "print(params)"
   ]
  },
  {
   "cell_type": "code",
   "execution_count": 36,
   "id": "604c05d7",
   "metadata": {},
   "outputs": [],
   "source": [
    "@qml.qnode(dev)\n",
    "def probability_circuit(gamma, alpha):\n",
    "    circuit([gamma,alpha])\n",
    "    return qml.probs(wires=wires)\n",
    "\n",
    "probs = probability_circuit(params[0], params[1])"
   ]
  },
  {
   "cell_type": "code",
   "execution_count": 37,
   "id": "cccda528",
   "metadata": {},
   "outputs": [
    {
     "data": {
      "image/png": "[encoded data removed]",
      "text/plain": [
       "<Figure size 576x396 with 1 Axes>"
      ]
     },
     "metadata": {},
     "output_type": "display_data"
    }
   ],
   "source": [
    "import matplotlib.pyplot as plt\n",
    "\n",
    "plt.style.use(\"seaborn\")\n",
    "plt.bar(range(2**len(wires)), probs)\n",
    "plt.show()"
   ]
  },
  {
   "cell_type": "code",
   "execution_count": 38,
   "id": "31051314",
   "metadata": {},
   "outputs": [
    {
     "name": "stdout",
     "output_type": "stream",
     "text": [
      "102\n"
     ]
    }
   ],
   "source": [
    "print(np.argmax(probs))"
   ]
  },
  {
   "cell_type": "code",
   "execution_count": 44,
   "id": "c74c3485",
   "metadata": {},
   "outputs": [
    {
     "name": "stdout",
     "output_type": "stream",
     "text": [
      "Step     5: -12.9272249\n",
      "Step    10: -12.9272249\n",
      "Step    15: -12.9272249\n",
      "Step    20: -12.9272250\n",
      "Step    25: -12.9272250\n",
      "Step    30: -12.9272250\n",
      "Step    35: -12.9272250\n",
      "Step    40: -12.9272250\n",
      "Step    45: -12.9272250\n",
      "Step    50: -12.9272250\n",
      "Step    55: -12.9272250\n",
      "Step    60: -12.9272250\n",
      "Step    65: -12.9272250\n",
      "Step    70: -12.9272250\n",
      "Step    75: -12.9272250\n",
      "Step    80: -12.9272250\n",
      "Step    85: -12.9272250\n",
      "Step    90: -12.9272250\n",
      "Step    95: -12.9272250\n",
      "Step   100: -12.9272250\n",
      "Step   105: -12.9272250\n",
      "Step   110: -12.9272250\n",
      "Step   115: -12.9272250\n",
      "Step   120: -12.9272250\n",
      "Step   125: -12.9272250\n",
      "Step   130: -12.9272250\n",
      "Step   135: -12.9272250\n",
      "Step   140: -12.9272250\n",
      "Step   145: -12.9272250\n",
      "Step   150: -12.9272250\n",
      "Step   155: -12.9272250\n",
      "Step   160: -12.9272250\n",
      "Step   165: -12.9272250\n",
      "Step   170: -12.9272250\n",
      "Step   175: -12.9272250\n",
      "Step   180: -12.9272250\n",
      "Step   185: -12.9272250\n",
      "Step   190: -12.9272250\n",
      "Step   195: -12.9272250\n",
      "Step   200: -12.9272250\n",
      "Optimal Parameters\n",
      "[[0.49649055067888065, 1.4404224210725132], [0.9025797583926999, 1.1811784228220605]]\n"
     ]
    }
   ],
   "source": [
    "for i in range(steps):\n",
    "    params  = optimizer.step(cost_function, params)\n",
    "    if (i+1)%5 == 0:\n",
    "        print('Step {:5d}: {: .7f}'.format(i+1, cost_function(params)))\n",
    "\n",
    "print(\"Optimal Parameters\")\n",
    "print(params)"
   ]
  },
  {
   "cell_type": "code",
   "execution_count": 48,
   "id": "6be1dac2",
   "metadata": {},
   "outputs": [
    {
     "data": {
      "image/png": "[encoded data removed]",
      "text/plain": [
       "<Figure size 576x396 with 1 Axes>"
      ]
     },
     "metadata": {},
     "output_type": "display_data"
    }
   ],
   "source": [
    "import matplotlib.pyplot as plt\n",
    "\n",
    "plt.style.use(\"seaborn\")\n",
    "plt.bar(range(2**len(wires)), probs)\n",
    "plt.show()"
   ]
  },
  {
   "cell_type": "code",
   "execution_count": 52,
   "id": "d6b7a9be",
   "metadata": {},
   "outputs": [
    {
     "name": "stdout",
     "output_type": "stream",
     "text": [
      "01100110 0.23653221445966188\n"
     ]
    }
   ],
   "source": [
    "#Most probabable State\n",
    "sv = bin(np.argmax(probs))[2:].zfill(len(wires))\n",
    "print(sv,max(probs))"
   ]
  },
  {
   "cell_type": "code",
   "execution_count": 53,
   "id": "76b8a8a4",
   "metadata": {},
   "outputs": [
    {
     "name": "stdout",
     "output_type": "stream",
     "text": [
      "[[0.5  0.25]\n",
      " [0.5  0.25]]\n",
      "0 0 0.5 0.0023250259995950874\n",
      "0 1 0.25 0.0014874160104551906\n",
      "1 0 0.5 0.0022945917350109314\n",
      "1 1 0.25 0.001373131611521413\n"
     ]
    }
   ],
   "source": [
    "fvs = fnet.returnWeights(sv)\n",
    "fvm = np.zeros([L[1],L[0]])\n",
    "\n",
    "print(fvs)\n",
    "\n",
    "for t in range(L[0]):\n",
    "    for i in range(L[1]):        \n",
    "        fvm[i,t] = fvs[t,i]\n",
    "        if(abs(fvs[t,i]>1.0e-8)):\n",
    "            print(t,i, fvs[t,i], mu(t,i))"
   ]
  },
  {
   "cell_type": "code",
   "execution_count": 54,
   "id": "0e680984",
   "metadata": {},
   "outputs": [
    {
     "data": {
      "text/plain": [
       "Text(0, 0.5, 'Weight')"
      ]
     },
     "execution_count": 54,
     "metadata": {},
     "output_type": "execute_result"
    },
    {
     "data": {
      "image/png": "[encoded data removed]",
      "text/plain": [
       "<Figure size 576x396 with 1 Axes>"
      ]
     },
     "metadata": {},
     "output_type": "display_data"
    }
   ],
   "source": [
    "import matplotlib.pyplot as plt\n",
    "\n",
    "ts = [t for t in range(0,L[0])]\n",
    "\n",
    "for i in range(L[1]):\n",
    "    plt.plot(ts,fvm[i,:],'-x')\n",
    "plt.xlabel('Time', fontsize=20)\n",
    "plt.ylabel('Weight', fontsize=20)"
   ]
  },
  {
   "cell_type": "code",
   "execution_count": 55,
   "id": "50af4688",
   "metadata": {},
   "outputs": [
    {
     "data": {
      "text/plain": [
       "Text(0, 0.5, 'Relative Profit')"
      ]
     },
     "execution_count": 55,
     "metadata": {},
     "output_type": "execute_result"
    },
    {
     "data": {
      "image/png": "[encoded data removed]",
      "text/plain": [
       "<Figure size 576x396 with 1 Axes>"
      ]
     },
     "metadata": {},
     "output_type": "display_data"
    }
   ],
   "source": [
    "for i in range(L[1]):\n",
    "    plt.plot(ts,mut[:,i],'-x')\n",
    "    \n",
    "plt.xlabel('Time', fontsize=20)\n",
    "plt.ylabel('Relative Profit', fontsize=20)"
   ]
  },
  {
   "cell_type": "code",
   "execution_count": null,
   "id": "5243fba3",
   "metadata": {},
   "outputs": [],
   "source": []
  }
 ],
 "metadata": {
  "kernelspec": {
   "display_name": "jupyter",
   "language": "python",
   "name": "jupyter"
  },
  "language_info": {
   "codemirror_mode": {
    "name": "ipython",
    "version": 3
   },
   "file_extension": ".py",
   "mimetype": "text/x-python",
   "name": "python",
   "nbconvert_exporter": "python",
   "pygments_lexer": "ipython3",
   "version": "3.9.5"
  }
 },
 "nbformat": 4,
 "nbformat_minor": 5
}
