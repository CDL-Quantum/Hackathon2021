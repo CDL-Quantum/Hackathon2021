{
 "cells": [
  {
   "cell_type": "code",
   "execution_count": 1,
   "id": "c74f1c91",
   "metadata": {},
   "outputs": [],
   "source": [
    "#pip install pennylane"
   ]
  },
  {
   "cell_type": "code",
   "execution_count": 1,
   "id": "d8683e8a",
   "metadata": {},
   "outputs": [],
   "source": [
    "import pennylane as qml\n",
    "from pennylane import numpy as np\n",
    "np.random.seed(0)\n",
    "\n",
    "import flatnetwork_simple as fns"
   ]
  },
  {
   "cell_type": "markdown",
   "id": "6c7a02ea",
   "metadata": {},
   "source": [
    "# REAL S&P 500 DATASET"
   ]
  },
  {
   "cell_type": "code",
   "execution_count": 2,
   "id": "4b7915a8",
   "metadata": {},
   "outputs": [
    {
     "data": {
      "image/png": "[encoded data removed]",
      "text/plain": [
       "<Figure size 432x288 with 1 Axes>"
      ]
     },
     "metadata": {
      "needs_background": "light"
     },
     "output_type": "display_data"
    }
   ],
   "source": [
    "from dataloader_class import *\n",
    "dl = data_loader('data/covid2020.csv')\n",
    "dl.split_windows(180)\n",
    "dl.plot_trajectories()"
   ]
  },
  {
   "cell_type": "code",
   "execution_count": 3,
   "id": "21c90c88",
   "metadata": {},
   "outputs": [
    {
     "data": {
      "image/png": "[encoded data removed]",
      "text/plain": [
       "<Figure size 432x288 with 1 Axes>"
      ]
     },
     "metadata": {
      "needs_background": "light"
     },
     "output_type": "display_data"
    }
   ],
   "source": [
    "dl.filter_assets(num_assets=2, method='relevant')\n",
    "dl.plot_trajectories()"
   ]
  },
  {
   "cell_type": "code",
   "execution_count": 4,
   "id": "755dfe7d",
   "metadata": {},
   "outputs": [
    {
     "name": "stdout",
     "output_type": "stream",
     "text": [
      "(2, 2)\n"
     ]
    }
   ],
   "source": [
    "mut = dl.return_mut()\n",
    "sigmat = dl.return_sigmat()\n",
    "print(mut.shape)"
   ]
  },
  {
   "cell_type": "markdown",
   "id": "1758b0af",
   "metadata": {},
   "source": [
    "# DMRG SOLUTION"
   ]
  },
  {
   "cell_type": "code",
   "execution_count": 5,
   "id": "59da1f80",
   "metadata": {},
   "outputs": [
    {
     "name": "stdout",
     "output_type": "stream",
     "text": [
      "Max MPO dim:  9\n"
     ]
    }
   ],
   "source": [
    "L = [mut.shape[0],mut.shape[1],2]\n",
    "d = 2\n",
    "\n",
    "#Parameters\n",
    "mu = lambda t,i: mut[t,i]\n",
    "rho = 5.0\n",
    "\n",
    "fnet = fns.FlatNetwork(L,d)\n",
    "fnet.loadParams(mu, rho)\n",
    "fnet.make_mpos()\n",
    "\n",
    "S, D = fnet.getHamiltonian()"
   ]
  },
  {
   "cell_type": "code",
   "execution_count": 6,
   "id": "f5d42af4",
   "metadata": {
    "scrolled": true
   },
   "outputs": [
    {
     "name": "stdout",
     "output_type": "stream",
     "text": [
      "Schedule:  0  D =  1\n",
      "Beginning sweep:  0 of 10\n",
      "Sweep Energy: -1.87945522\n",
      "Beginning sweep:  1 of 10\n",
      "Sweep Energy: -1.87945522\n",
      "Beginning sweep:  2 of 10\n",
      "Sweep Energy: -1.87945522\n",
      "Beginning sweep:  3 of 10\n",
      "Sweep Energy: -1.87945522\n",
      "Beginning sweep:  4 of 10\n",
      "Sweep Energy: -1.87945522\n",
      "Beginning sweep:  5 of 10\n",
      "Sweep Energy: -1.87945522\n",
      "-----------\n",
      "Schedule:  1  D =  2\n",
      "Beginning sweep:  0 of 10\n",
      "Sweep Energy: -1.87945522\n",
      "Beginning sweep:  1 of 10\n",
      "Sweep Energy: -1.87945522\n",
      "Beginning sweep:  2 of 10\n",
      "Sweep Energy: -2.17874469\n",
      "Beginning sweep:  3 of 10\n",
      "Sweep Energy: -2.19184230\n",
      "Beginning sweep:  4 of 10\n",
      "Sweep Energy: -2.19184230\n",
      "Beginning sweep:  5 of 10\n",
      "Sweep Energy: -2.19184230\n",
      "-----------\n",
      "Schedule:  2  D =  2\n",
      "Beginning sweep:  0 of 10\n",
      "Sweep Energy: -2.19184230\n",
      "Beginning sweep:  1 of 10\n",
      "Sweep Energy: -2.19184230\n",
      "Beginning sweep:  2 of 10\n",
      "Sweep Energy: -2.19184230\n",
      "Beginning sweep:  3 of 10\n",
      "Sweep Energy: -2.19184230\n",
      "Beginning sweep:  4 of 10\n",
      "Sweep Energy: -2.19184230\n",
      "Beginning sweep:  5 of 10\n",
      "Sweep Energy: -2.19184230\n",
      "-----------\n",
      "Schedule:  3  D =  3\n",
      "Beginning sweep:  0 of 10\n",
      "Sweep Energy: -2.30243808\n",
      "Beginning sweep:  1 of 10\n",
      "Sweep Energy: -2.50417985\n",
      "Beginning sweep:  2 of 10\n",
      "Sweep Energy: -2.50417985\n",
      "Beginning sweep:  3 of 10\n",
      "Sweep Energy: -2.50417985\n",
      "Beginning sweep:  4 of 10\n",
      "Sweep Energy: -2.50417985\n",
      "Beginning sweep:  5 of 10\n",
      "Sweep Energy: -2.50417985\n",
      "-----------\n",
      "Schedule:  4  D =  3\n",
      "Beginning sweep:  0 of 10\n",
      "Sweep Energy: -2.50417985\n",
      "Beginning sweep:  1 of 10\n",
      "Sweep Energy: -2.50417985\n",
      "Beginning sweep:  2 of 10\n",
      "Sweep Energy: -2.50417985\n",
      "Beginning sweep:  3 of 10\n",
      "Sweep Energy: -2.50417985\n",
      "Beginning sweep:  4 of 10\n",
      "Sweep Energy: -2.50417985\n",
      "Beginning sweep:  5 of 10\n",
      "Sweep Energy: -2.50417985\n",
      "-----------\n"
     ]
    }
   ],
   "source": [
    "sweepD = [     1,     2,     2,     3,     3,     4,     5,     8,    10]\n",
    "sweepI = [    10,    10,    10,    10,    10,    10,    10,    10,    10]\n",
    "sweepN = [1.0e-2,1.0e-3,1.0e-4,1.0e-5,1.0e-6,1.0e-6,1.0e-6,1.0e-6,1.0e-6]\n",
    "sweepM = [     5,     5,     5,     5,     5,     5,     5,     5,     5]\n",
    "\n",
    "cc = 5\n",
    "e, mps = fnet.run(sweepd = sweepD[:cc], sweepi = sweepI[:cc], sweepn = sweepN[:cc], sweepmin = sweepM[:cc])"
   ]
  },
  {
   "cell_type": "code",
   "execution_count": 7,
   "id": "4dc79f73",
   "metadata": {},
   "outputs": [
    {
     "name": "stdout",
     "output_type": "stream",
     "text": [
      "(0, 0) 0.7500000000000023 0.0023250259995950874\n",
      "(0, 1) 0.25000000000000255 0.0014874160104551906\n",
      "(1, 0) 0.7500000000000023 0.0022945917350109314\n",
      "(1, 1) 0.2500000000000012 0.001373131611521413\n"
     ]
    }
   ],
   "source": [
    "fvs = fnet.computeWeights(mps)\n",
    "fvm = np.zeros([L[1],L[0]])\n",
    "\n",
    "for pair in fvs:\n",
    "    fvm[pair[1],pair[0]] = fvs[pair]\n",
    "    if(abs(fvs[pair]>1.0e-8)):\n",
    "        print(pair, fvs[pair], mu(pair[0],pair[1]))"
   ]
  },
  {
   "cell_type": "code",
   "execution_count": 8,
   "id": "fd69b326",
   "metadata": {},
   "outputs": [
    {
     "data": {
      "text/plain": [
       "Text(0, 0.5, 'Weight')"
      ]
     },
     "execution_count": 8,
     "metadata": {},
     "output_type": "execute_result"
    },
    {
     "data": {
      "image/png": "[encoded data removed]",
      "text/plain": [
       "<Figure size 432x288 with 1 Axes>"
      ]
     },
     "metadata": {
      "needs_background": "light"
     },
     "output_type": "display_data"
    }
   ],
   "source": [
    "import matplotlib.pyplot as plt\n",
    "\n",
    "ts = [t for t in range(0,L[0])]\n",
    "\n",
    "for i in range(L[1]):\n",
    "    plt.plot(ts,fvm[i,:],'-x')\n",
    "plt.xlabel('Time', fontsize=20)\n",
    "plt.ylabel('Weight', fontsize=20)"
   ]
  },
  {
   "cell_type": "code",
   "execution_count": 9,
   "id": "d06d0d9e",
   "metadata": {},
   "outputs": [
    {
     "data": {
      "text/plain": [
       "Text(0, 0.5, 'Relative Profit')"
      ]
     },
     "execution_count": 9,
     "metadata": {},
     "output_type": "execute_result"
    },
    {
     "data": {
      "image/png": "[encoded data removed]",
      "text/plain": [
       "<Figure size 432x288 with 1 Axes>"
      ]
     },
     "metadata": {
      "needs_background": "light"
     },
     "output_type": "display_data"
    }
   ],
   "source": [
    "for i in range(L[1]):\n",
    "    plt.plot(ts,mut[:,i],'-x')\n",
    "    \n",
    "plt.xlabel('Time', fontsize=20)\n",
    "plt.ylabel('Relative Profit', fontsize=20)"
   ]
  },
  {
   "cell_type": "markdown",
   "id": "482a1530",
   "metadata": {},
   "source": [
    "# QAOA"
   ]
  },
  {
   "cell_type": "code",
   "execution_count": 10,
   "id": "7b5bbd68",
   "metadata": {},
   "outputs": [
    {
     "name": "stdout",
     "output_type": "stream",
     "text": [
      "{(0, 0): -2.5005812564998986, (1, 1): -5.001162512999797, (2, 2): -2.500371854002614, (3, 3): -5.000743708005228, (4, 4): -2.5005736479337526, (5, 5): -5.001147295867505, (6, 6): -2.50034328290288, (7, 7): -5.00068656580576}\n",
      "{(0, 0): 0.3125, (0, 1): 1.25, (0, 3): 2.5, (0, 2): 0.625, (1, 1): 1.25, (1, 3): 2.5, (2, 2): 0.3125, (2, 3): 1.25, (3, 3): 1.25, (4, 4): 0.3125, (4, 5): 1.25, (4, 7): 2.5, (4, 6): 0.625, (5, 5): 1.25, (5, 7): 2.5, (6, 6): 0.3125, (6, 7): 1.25, (7, 7): 1.25}\n",
      "\n",
      "\n",
      "{0: 0.9376859270013069, 1: 1.2503718540026139, 2: 1.8753718540026139, 3: 1.8753718540026139, 4: 0.9376716414514401, 5: 1.2503432829028802, 6: 1.8753432829028802, 7: 1.8753432829028802}\n",
      "{0: -0.078125, 1: -0.3125, 2: -0.078125, 3: -0.3125, 4: -0.078125, 5: -0.3125, 6: -0.078125, 7: -0.3125}\n",
      "{(0, 1): 0.3125, (0, 3): 0.625, (0, 2): 0.15625, (1, 3): 0.625, (2, 3): 0.3125, (4, 5): 0.3125, (4, 7): 0.625, (4, 6): 0.15625, (5, 7): 0.625, (6, 7): 0.3125}\n"
     ]
    }
   ],
   "source": [
    "#Must convert all parameters to pauli basis\n",
    "\n",
    "Snew = {}\n",
    "for pair in S:\n",
    "    Snew[pair[0]] = -S[pair]/2 if not pair[0] in Snew else Snew[pair[0]] - S[pair]/2\n",
    "\n",
    "for pair in D:\n",
    "    if(pair[0]==pair[1]): #n^2 term\n",
    "        Snew[pair[0]] = -D[pair]/2 if not pair[0] in Snew else Snew[pair[0]] -D[pair]/2\n",
    "    else:\n",
    "        Snew[pair[0]] = -D[pair]/2 if not pair[0] in Snew else Snew[pair[0]] -D[pair]/2\n",
    "        Snew[pair[0]] = -D[pair]/2 if not pair[1] in Snew else Snew[pair[1]] -D[pair]/2\n",
    "\n",
    "S2new = {}\n",
    "for pair in D:\n",
    "    if(pair[0]==pair[1]): #n^2 term\n",
    "        S2new[pair[0]] = -D[pair]/4 if not pair[0] in S2new else S2new[pair[0]] - D[pair]/4\n",
    "\n",
    "Dnew = {}\n",
    "for pair in D:\n",
    "    if(pair[0]!=pair[1]): #n_a n_b term\n",
    "        Dnew[pair] = D[pair]/4 if not pair in Dnew else Dnew[pair[0]] + D[pair]/4\n",
    "        \n",
    "print(S)\n",
    "print(D)\n",
    "print('\\n')\n",
    "print(Snew)\n",
    "print(S2new)\n",
    "print(Dnew)\n"
   ]
  },
  {
   "cell_type": "code",
   "execution_count": 11,
   "id": "e616dc61",
   "metadata": {},
   "outputs": [
    {
     "name": "stdout",
     "output_type": "stream",
     "text": [
      "  (-0.3125) [I1]\n",
      "+ (-0.3125) [I3]\n",
      "+ (-0.3125) [I5]\n",
      "+ (-0.3125) [I7]\n",
      "+ (-0.078125) [I0]\n",
      "+ (-0.078125) [I2]\n",
      "+ (-0.078125) [I4]\n",
      "+ (-0.078125) [I6]\n",
      "+ (0.9376716414514401) [Z4]\n",
      "+ (0.9376859270013069) [Z0]\n",
      "+ (1.2503432829028802) [Z5]\n",
      "+ (1.2503718540026139) [Z1]\n",
      "+ (1.8753432829028802) [Z6]\n",
      "+ (1.8753432829028802) [Z7]\n",
      "+ (1.8753718540026139) [Z2]\n",
      "+ (1.8753718540026139) [Z3]\n",
      "+ (0.15625) [Z0 Z2]\n",
      "+ (0.15625) [Z4 Z6]\n",
      "+ (0.3125) [Z0 Z1]\n",
      "+ (0.3125) [Z2 Z3]\n",
      "+ (0.3125) [Z4 Z5]\n",
      "+ (0.3125) [Z6 Z7]\n",
      "+ (0.625) [Z0 Z3]\n",
      "+ (0.625) [Z1 Z3]\n",
      "+ (0.625) [Z4 Z7]\n",
      "+ (0.625) [Z5 Z7]\n"
     ]
    }
   ],
   "source": [
    "n_wires = int(np.prod(L))\n",
    "\n",
    "H = qml.Hamiltonian(\n",
    "    [Snew[wire] for wire in Snew] + [S2new[wire] for wire in S2new] + [Dnew[wire] for wire in Dnew],\n",
    "    [qml.PauliZ(wire) for wire in Snew] + [qml.Identity(wire) for wire in S2new] + [qml.PauliZ(wire[0])@qml.PauliZ(wire[1]) for wire in Dnew]\n",
    ")\n",
    "\n",
    "print(H)    "
   ]
  },
  {
   "cell_type": "code",
   "execution_count": 12,
   "id": "6fb22819",
   "metadata": {},
   "outputs": [
    {
     "name": "stdout",
     "output_type": "stream",
     "text": [
      "  (1.0) [X0]\n",
      "+ (1.0) [X1]\n",
      "+ (1.0) [X2]\n",
      "+ (1.0) [X3]\n",
      "+ (1.0) [X4]\n",
      "+ (1.0) [X5]\n",
      "+ (1.0) [X6]\n",
      "+ (1.0) [X7]\n"
     ]
    }
   ],
   "source": [
    "Hm = qml.Hamiltonian(\n",
    "    [1.0 for wire in range(n_wires)],\n",
    "    [qml.PauliX(wire) for wire in range(n_wires)]\n",
    ")\n",
    "\n",
    "print(Hm)"
   ]
  },
  {
   "cell_type": "code",
   "execution_count": 13,
   "id": "32c563a5",
   "metadata": {},
   "outputs": [],
   "source": [
    "from pennylane import qaoa"
   ]
  },
  {
   "cell_type": "code",
   "execution_count": 14,
   "id": "41cc6032",
   "metadata": {},
   "outputs": [],
   "source": [
    "def qaoa_layer(gamma, alpha):\n",
    "    qaoa.cost_layer(gamma, H)\n",
    "    qaoa.mixer_layer(alpha, Hm)"
   ]
  },
  {
   "cell_type": "code",
   "execution_count": 15,
   "id": "d4176442",
   "metadata": {},
   "outputs": [],
   "source": [
    "depth = 2\n",
    "wires = range(n_wires)\n",
    "\n",
    "def circuit(params, **kwargs):\n",
    "    for w in wires:\n",
    "        qml.Hadamard(wires=w)\n",
    "    qml.layer(qaoa_layer, depth, params[0], params[1])"
   ]
  },
  {
   "cell_type": "code",
   "execution_count": 16,
   "id": "cf0e3570",
   "metadata": {},
   "outputs": [],
   "source": [
    "dev = qml.device(\"qulacs.simulator\", wires=wires)\n",
    "cost_function = qml.ExpvalCost(circuit, H, dev)"
   ]
  },
  {
   "cell_type": "code",
   "execution_count": 19,
   "id": "7c6502fc",
   "metadata": {},
   "outputs": [],
   "source": [
    "optimizer = qml.GradientDescentOptimizer()\n",
    "steps = 200\n",
    "params = [[0.5,0.5], [0.5,0.5]]"
   ]
  },
  {
   "cell_type": "code",
   "execution_count": 20,
   "id": "fad74d97",
   "metadata": {},
   "outputs": [
    {
     "name": "stdout",
     "output_type": "stream",
     "text": [
      "Step     5: -5.8211704\n",
      "Step    10: -6.0685687\n",
      "Step    15: -6.0878808\n",
      "Step    20: -6.0916436\n",
      "Step    25: -6.0948448\n",
      "Step    30: -6.0990229\n",
      "Step    35: -6.1052570\n",
      "Step    40: -6.1159141\n",
      "Step    45: -6.1376206\n",
      "Step    50: -6.1934446\n",
      "Step    55: -6.3805907\n",
      "Step    60: -6.9514192\n",
      "Step    65: -7.5221705\n",
      "Step    70: -7.7963381\n",
      "Step    75: -8.0151973\n",
      "Step    80: -8.2719204\n",
      "Step    85: -8.5863497\n",
      "Step    90: -8.9210239\n",
      "Step    95: -9.1319927\n",
      "Step   100: -9.2223219\n",
      "Step   105: -9.2609239\n",
      "Step   110: -9.2780827\n",
      "Step   115: -9.2859186\n",
      "Step   120: -9.2895644\n",
      "Step   125: -9.2912831\n",
      "Step   130: -9.2921009\n",
      "Step   135: -9.2924927\n",
      "Step   140: -9.2926812\n",
      "Step   145: -9.2927723\n",
      "Step   150: -9.2928163\n",
      "Step   155: -9.2928377\n",
      "Step   160: -9.2928481\n",
      "Step   165: -9.2928531\n",
      "Step   170: -9.2928555\n",
      "Step   175: -9.2928567\n",
      "Step   180: -9.2928573\n",
      "Step   185: -9.2928576\n",
      "Step   190: -9.2928577\n",
      "Step   195: -9.2928578\n",
      "Step   200: -9.2928578\n",
      "Optimal Parameters\n",
      "[[0.2024350224361913, 0.3753336669373794], [0.8520651187328974, 2.0032990999529305]]\n"
     ]
    }
   ],
   "source": [
    "for i in range(steps):\n",
    "    params  = optimizer.step(cost_function, params)\n",
    "    if (i+1)%5 == 0:\n",
    "        print('Step {:5d}: {: .7f}'.format(i+1, cost_function(params)))\n",
    "\n",
    "print(\"Optimal Parameters\")\n",
    "print(params)"
   ]
  },
  {
   "cell_type": "code",
   "execution_count": 22,
   "id": "604c05d7",
   "metadata": {},
   "outputs": [],
   "source": [
    "@qml.qnode(dev)\n",
    "def probability_circuit(gamma, alpha):\n",
    "    circuit([gamma,alpha])\n",
    "    return qml.probs(wires=wires)\n",
    "\n",
    "probs = probability_circuit(params[0], params[1])"
   ]
  },
  {
   "cell_type": "code",
   "execution_count": 23,
   "id": "cccda528",
   "metadata": {},
   "outputs": [
    {
     "data": {
      "image/png": "[encoded data removed]",
      "text/plain": [
       "<Figure size 576x396 with 1 Axes>"
      ]
     },
     "metadata": {},
     "output_type": "display_data"
    }
   ],
   "source": [
    "import matplotlib.pyplot as plt\n",
    "\n",
    "plt.style.use(\"seaborn\")\n",
    "plt.bar(range(2**len(wires)), probs)\n",
    "plt.show()"
   ]
  },
  {
   "cell_type": "code",
   "execution_count": 24,
   "id": "31051314",
   "metadata": {},
   "outputs": [
    {
     "name": "stdout",
     "output_type": "stream",
     "text": [
      "255\n"
     ]
    }
   ],
   "source": [
    "print(np.argmax(probs))"
   ]
  },
  {
   "cell_type": "code",
   "execution_count": 72,
   "id": "d6b7a9be",
   "metadata": {},
   "outputs": [
    {
     "name": "stdout",
     "output_type": "stream",
     "text": [
      "11111111\n"
     ]
    }
   ],
   "source": [
    "#Most probabable State\n",
    "sv = bin(np.argmax(probs))[2:].zfill(len(wires))\n",
    "print(sv)"
   ]
  },
  {
   "cell_type": "code",
   "execution_count": 77,
   "id": "76b8a8a4",
   "metadata": {},
   "outputs": [
    {
     "name": "stdout",
     "output_type": "stream",
     "text": [
      "[[0.75 0.75]\n",
      " [0.75 0.75]]\n",
      "0 1 0.75 0.0014874160104551906\n",
      "1 1 0.75 0.001373131611521413\n"
     ]
    }
   ],
   "source": [
    "fvs = fnet.returnWeights(sv)\n",
    "fvm = np.zeros([L[1],L[0]])\n",
    "\n",
    "print(fvs)\n",
    "\n",
    "for t in range(L[0]):\n",
    "    for i in range(L[1]):        \n",
    "        fvm[i,t] = fvs[t,i]\n",
    "    if(abs(fvs[t,i]>1.0e-8)):\n",
    "        print(t,i, fvs[t,i], mu(t,i))"
   ]
  },
  {
   "cell_type": "code",
   "execution_count": 78,
   "id": "0e680984",
   "metadata": {},
   "outputs": [
    {
     "data": {
      "text/plain": [
       "Text(0, 0.5, 'Weight')"
      ]
     },
     "execution_count": 78,
     "metadata": {},
     "output_type": "execute_result"
    },
    {
     "data": {
      "image/png": "[encoded data removed]",
      "text/plain": [
       "<Figure size 576x396 with 1 Axes>"
      ]
     },
     "metadata": {},
     "output_type": "display_data"
    }
   ],
   "source": [
    "import matplotlib.pyplot as plt\n",
    "\n",
    "ts = [t for t in range(0,L[0])]\n",
    "\n",
    "for i in range(L[1]):\n",
    "    plt.plot(ts,fvm[i,:],'-x')\n",
    "plt.xlabel('Time', fontsize=20)\n",
    "plt.ylabel('Weight', fontsize=20)"
   ]
  },
  {
   "cell_type": "code",
   "execution_count": 79,
   "id": "50af4688",
   "metadata": {},
   "outputs": [
    {
     "data": {
      "text/plain": [
       "Text(0, 0.5, 'Relative Profit')"
      ]
     },
     "execution_count": 79,
     "metadata": {},
     "output_type": "execute_result"
    },
    {
     "data": {
      "image/png": "[encoded data removed]",
      "text/plain": [
       "<Figure size 576x396 with 1 Axes>"
      ]
     },
     "metadata": {},
     "output_type": "display_data"
    }
   ],
   "source": [
    "for i in range(L[1]):\n",
    "    plt.plot(ts,mut[:,i],'-x')\n",
    "    \n",
    "plt.xlabel('Time', fontsize=20)\n",
    "plt.ylabel('Relative Profit', fontsize=20)"
   ]
  },
  {
   "cell_type": "code",
   "execution_count": null,
   "id": "5243fba3",
   "metadata": {},
   "outputs": [],
   "source": []
  }
 ],
 "metadata": {
  "kernelspec": {
   "display_name": "jupyter",
   "language": "python",
   "name": "jupyter"
  },
  "language_info": {
   "codemirror_mode": {
    "name": "ipython",
    "version": 3
   },
   "file_extension": ".py",
   "mimetype": "text/x-python",
   "name": "python",
   "nbconvert_exporter": "python",
   "pygments_lexer": "ipython3",
   "version": "3.9.5"
  }
 },
 "nbformat": 4,
 "nbformat_minor": 5
}
