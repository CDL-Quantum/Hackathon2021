{
 "cells": [
  {
   "cell_type": "code",
   "execution_count": 26,
   "id": "b57edeae",
   "metadata": {},
   "outputs": [
    {
     "name": "stdout",
     "output_type": "stream",
     "text": [
      "  (1) [X0]\n",
      "+ (1) [Z1]\n",
      "+ (0.5) [X0 X1]\n"
     ]
    }
   ],
   "source": [
    "import pennylane as qml\n",
    "\n",
    "H = qml.Hamiltonian(\n",
    "    [1, 1, 0.5],\n",
    "    [qml.PauliX(0), qml.PauliZ(1), qml.PauliX(0) @ qml.PauliX(1)]\n",
    ")\n",
    "print(H)"
   ]
  },
  {
   "cell_type": "code",
   "execution_count": 27,
   "id": "803edf3d",
   "metadata": {},
   "outputs": [],
   "source": [
    "import flatnetwork_simple as fns"
   ]
  },
  {
   "cell_type": "code",
   "execution_count": 28,
   "id": "d0c675be",
   "metadata": {},
   "outputs": [],
   "source": [
    "#Setup\n",
    "K = 20\n",
    "dt = 1.0\n",
    "\n",
    "#Parameters\n",
    "mu = lambda t,i: 1.0\n",
    "rho = 1.0\n",
    "\n",
    "#Annealing params\n",
    "J = 1.0\n",
    "theta = -J*dt/K"
   ]
  },
  {
   "cell_type": "code",
   "execution_count": 85,
   "id": "aaf7c76f",
   "metadata": {},
   "outputs": [
    {
     "name": "stdout",
     "output_type": "stream",
     "text": [
      "Max MPO dim:  9\n",
      "8 18\n"
     ]
    }
   ],
   "source": [
    "L = [2, 2, 2]\n",
    "d = 2\n",
    "fnet = fns.FlatNetwork(L,d)\n",
    "fnet.loadParams(mu, rho)\n",
    "fnet.make_mpos()\n",
    "\n",
    "S, D = fnet.getHamiltonian()\n",
    "print(len(S), len(D))"
   ]
  },
  {
   "cell_type": "code",
   "execution_count": 86,
   "id": "b876d9ba",
   "metadata": {},
   "outputs": [
    {
     "data": {
      "text/plain": [
       "({(0, 0): -0.75,\n",
       "  (1, 1): -1.5,\n",
       "  (2, 2): -0.75,\n",
       "  (3, 3): -1.5,\n",
       "  (4, 4): -0.75,\n",
       "  (5, 5): -1.5,\n",
       "  (6, 6): -0.75,\n",
       "  (7, 7): -1.5},\n",
       " {(0, 0): 0.0625,\n",
       "  (0, 1): 0.25,\n",
       "  (0, 3): 0.5,\n",
       "  (0, 2): 0.125,\n",
       "  (1, 1): 0.25,\n",
       "  (1, 3): 0.5,\n",
       "  (2, 2): 0.0625,\n",
       "  (2, 3): 0.25,\n",
       "  (3, 3): 0.25,\n",
       "  (4, 4): 0.0625,\n",
       "  (4, 5): 0.25,\n",
       "  (4, 7): 0.5,\n",
       "  (4, 6): 0.125,\n",
       "  (5, 5): 0.25,\n",
       "  (5, 7): 0.5,\n",
       "  (6, 6): 0.0625,\n",
       "  (6, 7): 0.25,\n",
       "  (7, 7): 0.25})"
      ]
     },
     "execution_count": 86,
     "metadata": {},
     "output_type": "execute_result"
    }
   ],
   "source": [
    "S, D"
   ]
  },
  {
   "cell_type": "code",
   "execution_count": 88,
   "id": "79499e6f",
   "metadata": {},
   "outputs": [
    {
     "name": "stdout",
     "output_type": "stream",
     "text": [
      "(0, 0)\n",
      "(1, 1)\n",
      "(2, 2)\n",
      "(3, 3)\n",
      "(4, 4)\n",
      "(5, 5)\n",
      "(6, 6)\n",
      "(7, 7)\n"
     ]
    }
   ],
   "source": [
    "for pair in S:\n",
    "    print(pair)"
   ]
  },
  {
   "cell_type": "code",
   "execution_count": 87,
   "id": "8af7365f",
   "metadata": {},
   "outputs": [
    {
     "ename": "IndexError",
     "evalue": "tuple index out of range",
     "output_type": "error",
     "traceback": [
      "\u001b[0;31m---------------------------------------------------------------------------\u001b[0m",
      "\u001b[0;31mIndexError\u001b[0m                                Traceback (most recent call last)",
      "\u001b[0;32m<ipython-input-87-265e0aa240cc>\u001b[0m in \u001b[0;36m<module>\u001b[0;34m\u001b[0m\n\u001b[0;32m----> 1\u001b[0;31m \u001b[0mqml\u001b[0m\u001b[0;34m.\u001b[0m\u001b[0mPauliZ\u001b[0m\u001b[0;34m(\u001b[0m\u001b[0;34m)\u001b[0m\u001b[0;34m\u001b[0m\u001b[0;34m\u001b[0m\u001b[0m\n\u001b[0m",
      "\u001b[0;32m~/opt/anaconda3/envs/quantum-computing/lib/python3.7/site-packages/pennylane/operation.py\u001b[0m in \u001b[0;36m__init__\u001b[0;34m(self, wires, do_queue, id, *params)\u001b[0m\n\u001b[1;32m   1022\u001b[0m         \u001b[0;31m# extract the arguments\u001b[0m\u001b[0;34m\u001b[0m\u001b[0;34m\u001b[0m\u001b[0;34m\u001b[0m\u001b[0m\n\u001b[1;32m   1023\u001b[0m         \u001b[0;32mif\u001b[0m \u001b[0mwires\u001b[0m \u001b[0;32mis\u001b[0m \u001b[0;32mNone\u001b[0m\u001b[0;34m:\u001b[0m\u001b[0;34m\u001b[0m\u001b[0;34m\u001b[0m\u001b[0m\n\u001b[0;32m-> 1024\u001b[0;31m             \u001b[0mwires\u001b[0m \u001b[0;34m=\u001b[0m \u001b[0mparams\u001b[0m\u001b[0;34m[\u001b[0m\u001b[0;34m-\u001b[0m\u001b[0;36m1\u001b[0m\u001b[0;34m]\u001b[0m\u001b[0;34m\u001b[0m\u001b[0;34m\u001b[0m\u001b[0m\n\u001b[0m\u001b[1;32m   1025\u001b[0m             \u001b[0mparams\u001b[0m \u001b[0;34m=\u001b[0m \u001b[0mparams\u001b[0m\u001b[0;34m[\u001b[0m\u001b[0;34m:\u001b[0m\u001b[0;34m-\u001b[0m\u001b[0;36m1\u001b[0m\u001b[0;34m]\u001b[0m\u001b[0;34m\u001b[0m\u001b[0;34m\u001b[0m\u001b[0m\n\u001b[1;32m   1026\u001b[0m \u001b[0;34m\u001b[0m\u001b[0m\n",
      "\u001b[0;31mIndexError\u001b[0m: tuple index out of range"
     ]
    }
   ],
   "source": [
    "qml.PauliZ()"
   ]
  },
  {
   "cell_type": "code",
   "execution_count": null,
   "id": "ecc5f56a",
   "metadata": {},
   "outputs": [],
   "source": []
  }
 ],
 "metadata": {
  "kernelspec": {
   "display_name": "Python 3",
   "language": "python",
   "name": "python3"
  },
  "language_info": {
   "codemirror_mode": {
    "name": "ipython",
    "version": 3
   },
   "file_extension": ".py",
   "mimetype": "text/x-python",
   "name": "python",
   "nbconvert_exporter": "python",
   "pygments_lexer": "ipython3",
   "version": "3.7.10"
  }
 },
 "nbformat": 4,
 "nbformat_minor": 5
}
