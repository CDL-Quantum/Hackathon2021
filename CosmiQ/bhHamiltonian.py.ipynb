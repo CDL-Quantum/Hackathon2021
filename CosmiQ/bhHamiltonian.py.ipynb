{
 "cells": [
  {
   "cell_type": "markdown",
   "id": "5eca9da7",
   "metadata": {},
   "source": [
    "# Cost Function:\n",
    "\n",
    "$\\hat{U} = \\sum_{t=t_0}^{t_f} \\sum_i -\\mu(i,t)\\frac{1}{K}\\sum_{q=0}^{N_q-1} d^q \\hat{n}(i,t,q)$\n",
    "$ + \\frac{\\gamma}{2} \\sum_{t=t_0}^{t_f}\\sum_{ij} \\Sigma^{t}_ij (\\frac{1}{K}\\sum_{q=0}^{N_q-1} d^q \\hat{n}(i,t,q)) (\\frac{1}{K}\\sum_{\\bar{q}=0}^{N_q-1} d^q \\hat{n}(i,t,\\bar{q}))$\n",
    "$ + \\sum_{ij} \\lambda(t,i)\\lambda(t,j)[\n",
    "(\\frac{1}{K}\\sum_{\\bar{q}=0}^{N_q-1} d^q \\hat{n}(i,t+1,{q}))(\\frac{1}{K}\\sum_{\\bar{q}=0}^{N_q-1} d^q \\hat{n}(j,t+1,\\bar{q})) \n",
    "- (\\frac{1}{K}\\sum_{{q}=0}^{N_q-1} d^q \\hat{n}(i,t+1,{q}))(\\frac{1}{K}\\sum_{\\bar{q}=0}^{N_q-1} d^q \\hat{n}(j,t,\\bar{q})) \n",
    "- (\\frac{1}{K}\\sum_{{q}=0}^{N_q-1} d^q \\hat{n}(i,t,{q}))(\\frac{1}{K}\\sum_{\\bar{q}=0}^{N_q-1} d^q \\hat{n}(j,t+1,\\bar{q})) \n",
    "+ (\\frac{1}{K}\\sum_{{q}=0}^{N_q-1} d^q \\hat{n}(i,t,{q}))(\\frac{1}{K}\\sum_{\\bar{q}=0}^{N_q-1} d^q \\hat{n}(j,t,\\bar{q})) \n",
    "]$\n",
    "$ + \\rho \\sum_{t_0}^{t_f}\\sum_{ij} (\\frac{1}{K}\\sum_{{q}=0}^{N_q-1} d^q \\hat{n}(i,t,{q}))(\\frac{1}{K}\\sum_{\\bar{q}=0}^{N_q-1} d^q \\hat{n}(j,t,\\bar{q}))\n",
    "- 2 \\rho \\sum_{t_0}^{t_f} \\sum_{i} (\\frac{1}{K}\\sum_{{q}=0}^{N_q-1} d^q \\hat{n}(i,t,{q})) \n",
    "+ N_t\\cdot N$\n",
    "\n",
    "\n",
    "$\\hat{T} = -J\\sum_{t=t_0}^{t_f}\\sum_{\\langle i,j \\rangle} \\hat{c}^\\dagger(i,t,q) \\hat{c}^(j,t,q)$\n",
    "\n",
    "\n",
    "# Hamiltonian\n",
    "\n",
    "$\\hat{H} = \\hat{T} + \\hat{U}$"
   ]
  },
  {
   "cell_type": "code",
   "execution_count": null,
   "id": "1580c7ae",
   "metadata": {},
   "outputs": [],
   "source": []
  }
 ],
 "metadata": {
  "kernelspec": {
   "display_name": "jupyter",
   "language": "python",
   "name": "jupyter"
  },
  "language_info": {
   "codemirror_mode": {
    "name": "ipython",
    "version": 3
   },
   "file_extension": ".py",
   "mimetype": "text/x-python",
   "name": "python",
   "nbconvert_exporter": "python",
   "pygments_lexer": "ipython3",
   "version": "3.9.5"
  }
 },
 "nbformat": 4,
 "nbformat_minor": 5
}
