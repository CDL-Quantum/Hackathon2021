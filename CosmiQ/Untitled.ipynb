{
 "cells": [
  {
   "cell_type": "code",
   "execution_count": 2,
   "id": "9f8fd4af",
   "metadata": {},
   "outputs": [],
   "source": [
    "from qiskit import pulse\n",
    "from qiskit.pulse.library import Gaussian\n",
    "from qiskit.test.mock import FakeValencia"
   ]
  },
  {
   "cell_type": "code",
   "execution_count": 3,
   "id": "aca95559",
   "metadata": {},
   "outputs": [],
   "source": [
    "backend = FakeValencia()\n",
    "\n",
    "with pulse.build(backend, name='hadamard') as h_q0:\n",
    "    pulse.play(Gaussian(duration=128, amp=0.1, sigma=16), pulse.drive_channel(0))"
   ]
  },
  {
   "cell_type": "code",
   "execution_count": null,
   "id": "8eb1a189",
   "metadata": {},
   "outputs": [],
   "source": []
  }
 ],
 "metadata": {
  "kernelspec": {
   "display_name": "Python 3",
   "language": "python",
   "name": "python3"
  },
  "language_info": {
   "codemirror_mode": {
    "name": "ipython",
    "version": 3
   },
   "file_extension": ".py",
   "mimetype": "text/x-python",
   "name": "python",
   "nbconvert_exporter": "python",
   "pygments_lexer": "ipython3",
   "version": "3.7.10"
  }
 },
 "nbformat": 4,
 "nbformat_minor": 5
}
