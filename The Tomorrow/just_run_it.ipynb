{
 "cells": [
  {
   "cell_type": "markdown",
   "metadata": {
    "id": "6pHXRStSVxjt"
   },
   "source": [
    "# Tomorrow's Map Generation \n",
    "\n",
    "Project for [CDL Quantum Hackathon 2021](https://www.creativedestructionlab.com/streams/quantum/) by the team **The Tomorrow** (Ravindra Babu, Klem Jankiewicz, Piotr Migdał, Victor Onofre, Ekaterina Sokolovskaya).\n",
    "\n",
    "Source (MIT License): https://github.com/stared/cdl-the-tomorrow\n",
    "\n",
    "We use discrete optimization for generating two-dimensions grids of tiles. \n",
    "\n",
    "We use [D-Wave Ocean SDK](https://docs.ocean.dwavesys.com/en/stable/). Within this notebook you use their quantum devices!"
   ]
  },
  {
   "cell_type": "code",
   "execution_count": null,
   "metadata": {
    "id": "RQj6HQ0ei-mJ"
   },
   "outputs": [],
   "source": [
    "!pip install dwave-ocean-sdk==3.4.1 --upgrade --quiet"
   ]
  },
  {
   "cell_type": "markdown",
   "metadata": {
    "id": "XEu9NK8lixqs"
   },
   "source": [
    "If you want to run it on actual quantum devices (you do!), procive API Token for your D-Wave account. Create path `y` and fill the `Authentication token`; leave other fields with their defaults."
   ]
  },
  {
   "cell_type": "code",
   "execution_count": null,
   "metadata": {
    "colab": {
     "base_uri": "https://localhost:8080/"
    },
    "id": "sBAruT7eYcsY",
    "outputId": "0677f969-d404-4c56-e076-aca3890af5a4"
   },
   "outputs": [],
   "source": [
    "!dwave config create"
   ]
  },
  {
   "cell_type": "code",
   "execution_count": null,
   "metadata": {
    "id": "SQHgNFi9hDLo"
   },
   "outputs": [],
   "source": [
    "# only locally, won't work on Colab\n",
    "# !dwave install inspector"
   ]
  },
  {
   "cell_type": "code",
   "execution_count": null,
   "metadata": {
    "id": "iLYMtLXuVxjv"
   },
   "outputs": [],
   "source": [
    "import numpy as np\n",
    "import matplotlib.pyplot as plt\n",
    "import seaborn as sns\n",
    "\n",
    "# D-Wave\n",
    "from dimod import AdjVectorBQM\n",
    "from neal import SimulatedAnnealingSampler\n",
    "from dwave.system import DWaveSampler, EmbeddingComposite, LeapHybridSampler\n",
    "# import dwave.inspector as inspector  # only for Jupyter"
   ]
  },
  {
   "cell_type": "markdown",
   "metadata": {
    "id": "mEKf0x0MVxjw"
   },
   "source": [
    "Let's define the number of available tiles types and desired size of the output. Both of these values need to be filled now, as they affect number of qubits used."
   ]
  },
  {
   "cell_type": "code",
   "execution_count": null,
   "metadata": {
    "id": "ZdQd5tT8Vxjx"
   },
   "outputs": [],
   "source": [
    "n_tiles = 4  #@param {type:\"integer\", min:2}\n",
    "\n",
    "size = 8  #@param {type:\"integer\", min:3}"
   ]
  },
  {
   "cell_type": "markdown",
   "metadata": {
    "id": "QbNz3O7IVxjx"
   },
   "source": [
    "## Binary quadratic model\n",
    "\n",
    "We create a [Binary Quadratic Model](https://docs.ocean.dwavesys.com/en/stable/concepts/bqm.html) (BQM). We use binary convention (i.e. 0s and 1s) rather than spin-½ convention (i.e. +1s and -1s).\n",
    "\n",
    "We have a decision variable, i.e. $\\text{tile}_{xy} = k$ for every position $(x, y)$ with $k \\in [0, 1, \\ldots, \\text{n_tiles}-1]$ being an integer code for the tile.\n",
    "\n",
    "We use [one-hot encoding](https://en.wikipedia.org/wiki/One-hot) - i.e. for each tile we have $k$ binary variables, out of which there is exactly 1 value."
   ]
  },
  {
   "cell_type": "code",
   "execution_count": null,
   "metadata": {
    "id": "hbp-3i4WVxjy"
   },
   "outputs": [],
   "source": [
    "bqm = AdjVectorBQM('BINARY')\n",
    "\n",
    "qubit = {(x, y, k): bqm.add_variable((f'tile_{x}_{y}', k), 0)\n",
    "          for x in range(size)\n",
    "          for y in range(size)\n",
    "          for k in range(n_tiles)}"
   ]
  },
  {
   "cell_type": "markdown",
   "metadata": {
    "id": "hvsjjVasVxj0"
   },
   "source": [
    "We add constraints ensuring that one-hot encoding is fulfilled."
   ]
  },
  {
   "cell_type": "code",
   "execution_count": null,
   "metadata": {
    "id": "t9cpBZzEVxj1"
   },
   "outputs": [],
   "source": [
    "one_hot_penalty = 50.  #@param {type:\"number\"}\n",
    "for x in range(size):\n",
    "    for y in range(size):\n",
    "        bqm.add_linear_equality_constraint(\n",
    "            [(qubit[x, y, k], 1.0) for k in range(n_tiles)],\n",
    "            constant=-1.0,\n",
    "            lagrange_multiplier=one_hot_penalty\n",
    "        )"
   ]
  },
  {
   "cell_type": "markdown",
   "metadata": {
    "id": "plu7BlswVxj2"
   },
   "source": [
    "We add the crucial part - any costs, weights and constraints for tile adjacency. We can have cost function or hard constraints (i.e. ones we don't want to break).\n",
    "\n",
    "In this case hard constraints are equivalent to cost = $\\infty$. In practice, we use a very high cost, as in `one_hot_penalty`.\n",
    "\n",
    "We can create costs in any way. It can be arbitrary number, or derived from probabilites. If we start with an example tile set and calculate concidences, to recreate a similar pattern, we **maximize** likelihood, which is a product over all edges:\n",
    "\n",
    "$$ \\text{likelihood} = \\prod_{<i,j>} p(t_i, t_j) $$\n",
    "\n",
    "It is very small, to small to use floating-point number. We logarithm it and multiply by $-1$, so that it becomes a sum we need to **minimize**:\n",
    "\n",
    "$$ \\text{nll} = - \\sum_{<i,j>} \\log[p(t_i, t_j)] $$\n",
    "\n",
    "Now we can interpret these a cost terms.\n",
    "\n"
   ]
  },
  {
   "cell_type": "code",
   "execution_count": null,
   "metadata": {
    "colab": {
     "base_uri": "https://localhost:8080/"
    },
    "id": "cgqC8BwHVxj2",
    "outputId": "92770f39-0373-4507-ab67-85824d8f66e0"
   },
   "outputs": [],
   "source": [
    "coincidences =  np.array([[4., 6., 4., 8.],\n",
    "                           [6., 0., 0., 4.],\n",
    "                           [4., 0., 0., 0.],\n",
    "                           [8., 4., 0., 5.]]) \n",
    "\n",
    "coincidence_prob = coincidences / coincidences.sum()\n",
    "coincidence_nll = -np.log(coincidence_prob)\n",
    "\n",
    "noise = 0.5  #@param {type:\"number\"}\n",
    "pair_cost = -np.log((coincidences + noise) / (coincidences + noise).sum())\n",
    "assert pair_cost.shape == (n_tiles, n_tiles)\n",
    "\n",
    "# sns.heatmap(pair_cost)"
   ]
  },
  {
   "cell_type": "code",
   "execution_count": null,
   "metadata": {
    "id": "aIsal-OzVxj2"
   },
   "outputs": [],
   "source": [
    "for i in range(size):\n",
    "    for j in range(size):\n",
    "        for k in [i-1, i+1]:\n",
    "            if ((k<0) or (k>=size))==False:\n",
    "                for t_i in range(n_tiles):\n",
    "                    for t_k in range(n_tiles):\n",
    "                        bqm.add_interaction(qubit[i, j, t_i], qubit[k, j, t_k], pair_cost[t_i][t_k])\n",
    "        for l in [j-1, j+1]:\n",
    "            if ((l<0) or (l>=size))==False:\n",
    "                for t_j in range(n_tiles):\n",
    "                    for t_l in range(n_tiles):\n",
    "                        bqm.add_interaction(qubit[i, j, t_j], qubit[i, l, t_l], pair_cost[t_j][t_l])"
   ]
  },
  {
   "cell_type": "markdown",
   "metadata": {
    "id": "t5WsuKpBVxj3"
   },
   "source": [
    "## Run on a classical simulator"
   ]
  },
  {
   "cell_type": "code",
   "execution_count": null,
   "metadata": {
    "colab": {
     "base_uri": "https://localhost:8080/",
     "height": 284
    },
    "id": "NgeI-lodVxj3",
    "outputId": "60763959-6da4-42f8-81ad-c5f7ad3842b5"
   },
   "outputs": [],
   "source": [
    "sampleset = SimulatedAnnealingSampler().sample(bqm, num_reads=100, num_sweeps=10000)\n",
    "sampleset.to_pandas_dataframe().head()"
   ]
  },
  {
   "cell_type": "markdown",
   "metadata": {
    "id": "qSYsHkbbVxj4"
   },
   "source": [
    "## Run on a quantum D-Wave device"
   ]
  },
  {
   "cell_type": "code",
   "execution_count": null,
   "metadata": {
    "id": "8Aj0i8T3XEcm"
   },
   "outputs": [],
   "source": [
    "sampler = LeapHybridSampler()\n",
    "sampleset = sampler.sample(bqm)\n",
    "# sampler = EmbeddingComposite(DWaveSampler())\n",
    "#sampleset = sampler.sample(bqm,\n",
    "#                           num_reads=10,\n",
    "#                           annealing_time=10,\n",
    "#                           auto_scale=True,\n",
    "#                           answer_mode='raw',\n",
    "#                           return_embedding=True)"
   ]
  },
  {
   "cell_type": "code",
   "execution_count": null,
   "metadata": {
    "id": "q7JIfq3FlME1"
   },
   "outputs": [],
   "source": [
    "# only for local Jupyter Notebook and for EmbeddingComposite(DWaveSampler())\n",
    "# inspector.show(sampleset)"
   ]
  },
  {
   "cell_type": "code",
   "execution_count": null,
   "metadata": {
    "colab": {
     "base_uri": "https://localhost:8080/",
     "height": 160
    },
    "id": "pNldj8-aZD1R",
    "outputId": "9b46e537-9510-416e-95a4-1b3216ddd30e"
   },
   "outputs": [],
   "source": [
    "sampleset.to_pandas_dataframe()"
   ]
  },
  {
   "cell_type": "code",
   "execution_count": null,
   "metadata": {
    "colab": {
     "base_uri": "https://localhost:8080/"
    },
    "id": "lkTz49dhVxj4",
    "outputId": "db12bc5d-e18d-4223-e7da-805ba31053a8"
   },
   "outputs": [],
   "source": [
    "# Get the best solution \n",
    "best_solution = sampleset.first.sample\n",
    "assignments = {grid_cell: tile_id for (grid_cell, tile_id), value in best_solution.items() if value}\n",
    "\n",
    "print(assignments)"
   ]
  },
  {
   "cell_type": "code",
   "execution_count": null,
   "metadata": {
    "colab": {
     "base_uri": "https://localhost:8080/"
    },
    "id": "5EL9w7YxR_Yt",
    "outputId": "674b218f-4289-4689-a97b-b76c1d7a1118"
   },
   "outputs": [],
   "source": [
    "len(assignments)"
   ]
  },
  {
   "cell_type": "markdown",
   "metadata": {
    "id": "lnoBBwJrVxj4"
   },
   "source": [
    "## Convert the solution to a map"
   ]
  },
  {
   "cell_type": "code",
   "execution_count": null,
   "metadata": {
    "id": "1jKrWP9jVxj5"
   },
   "outputs": [],
   "source": [
    "output_map = np.array(list(assignments.values())).reshape(size, size)"
   ]
  },
  {
   "cell_type": "code",
   "execution_count": null,
   "metadata": {
    "colab": {
     "base_uri": "https://localhost:8080/",
     "height": 265
    },
    "id": "DQbY1NhCVxj5",
    "outputId": "8abadcae-37fa-49e4-84ff-08368a0dc91d"
   },
   "outputs": [],
   "source": [
    "import matplotlib.pyplot as plt\n",
    "fig, ax = plt.subplots(1, 1, figsize=(5,4))\n",
    "\n",
    "tile_names = ['grass', 'tree', 'water', 'road']\n",
    "tile_colors  = ['#0c0', '#050', '#00c', '#cc6']\n",
    " \n",
    "sns.heatmap(output_map, cmap=tile_colors, linewidth=0.1, linecolor='black', ax=ax)\n",
    "\n",
    "colorbar = ax.collections[0].colorbar\n",
    "M = output_map.max().max()\n",
    "colorbar.set_ticks([(i + 0.5) * (n_tiles - 1) / n_tiles for i in range(n_tiles)])\n",
    "colorbar.set_ticklabels(tile_names)\n",
    "\n",
    "plt.show()"
   ]
  },
  {
   "cell_type": "markdown",
   "metadata": {
    "id": "ArJo2VM7Vxj5"
   },
   "source": [
    "## Thank you!"
   ]
  },
  {
   "cell_type": "code",
   "execution_count": null,
   "metadata": {
    "id": "BZ6Hrcc_jgQv"
   },
   "outputs": [],
   "source": []
  }
 ],
 "metadata": {
  "colab": {
   "name": "CDL-Tomorrow-Map-Generation.ipynb",
   "provenance": []
  },
  "kernelspec": {
   "display_name": "Python 3",
   "language": "python",
   "name": "python3"
  },
  "language_info": {
   "codemirror_mode": {
    "name": "ipython",
    "version": 3
   },
   "file_extension": ".py",
   "mimetype": "text/x-python",
   "name": "python",
   "nbconvert_exporter": "python",
   "pygments_lexer": "ipython3",
   "version": "3.7.6"
  }
 },
 "nbformat": 4,
 "nbformat_minor": 5
}
