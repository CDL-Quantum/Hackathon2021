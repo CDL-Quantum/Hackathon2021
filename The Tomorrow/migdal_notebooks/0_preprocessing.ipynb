{
 "cells": [
  {
   "cell_type": "markdown",
   "metadata": {},
   "source": [
    "# 0. Preprocessing\n",
    "\n",
    "An initial step of turning an example into weights (energy and interaction terms for the Ising model), so that these can be uses in the following Hamiltionan:\n",
    "\n",
    "$$ H = \\sum_{x, y} \\sum_{i} a_i s_i^{(x, y)} + \\sum_{x,y} \\sum_{x', y'} \\sum_{i,j} b_{ij} s_i^{(x, y)} s_j^{(x', y')} [ \\text{if } (x, y) \\text{ neighbors } (x', y')]$$"
   ]
  },
  {
   "cell_type": "code",
   "execution_count": 1,
   "metadata": {},
   "outputs": [],
   "source": [
    "import numpy as np\n",
    "import matplotlib.pyplot as plt\n",
    "import seaborn as sns\n",
    "from collections import Counter"
   ]
  },
  {
   "cell_type": "code",
   "execution_count": 2,
   "metadata": {},
   "outputs": [],
   "source": [
    "# it does not need to be square or anything\n",
    "n_tiles = 4\n",
    "pattern_sample = np.array([\n",
    "    [2, 0, 1, 0, 0],\n",
    "    [0, 0, 3, 3, 3],\n",
    "    [3, 3, 3, 1, 0],\n",
    "    [0, 1, 0, 0, 2]\n",
    "])"
   ]
  },
  {
   "cell_type": "code",
   "execution_count": 3,
   "metadata": {},
   "outputs": [
    {
     "data": {
      "image/png": "[encoded data removed]",
      "text/plain": [
       "<Figure size 360x288 with 2 Axes>"
      ]
     },
     "metadata": {
      "needs_background": "light"
     },
     "output_type": "display_data"
    }
   ],
   "source": [
    "fig, ax = plt.subplots(1, 1, figsize=(5,4))\n",
    "\n",
    "tile_names = ['grass', 'tree', 'water', 'road']\n",
    "tile_colors  = ['#0c0', '#050', '#00c', '#cc6']\n",
    " \n",
    "sns.heatmap(pattern_sample, cmap=tile_colors, linewidth=0.1, linecolor='black', ax=ax)\n",
    "\n",
    "colorbar = ax.collections[0].colorbar\n",
    "M = pattern_sample.max().max()\n",
    "colorbar.set_ticks([(i + 0.5) * (n_tiles - 1) / n_tiles for i in range(n_tiles)])\n",
    "colorbar.set_ticklabels(tile_names)\n",
    "\n",
    "plt.show()"
   ]
  },
  {
   "cell_type": "code",
   "execution_count": 4,
   "metadata": {},
   "outputs": [
    {
     "data": {
      "text/plain": [
       "[(0, 9), (3, 6), (1, 3), (2, 2)]"
      ]
     },
     "execution_count": 4,
     "metadata": {},
     "output_type": "execute_result"
    }
   ],
   "source": [
    "counts = Counter(pattern_sample.flatten())\n",
    "counts.most_common()"
   ]
  },
  {
   "cell_type": "code",
   "execution_count": 5,
   "metadata": {},
   "outputs": [
    {
     "data": {
      "text/plain": [
       "20"
      ]
     },
     "execution_count": 5,
     "metadata": {},
     "output_type": "execute_result"
    }
   ],
   "source": [
    "total_tiles = len(pattern_sample.flatten())\n",
    "total_tiles"
   ]
  },
  {
   "cell_type": "code",
   "execution_count": 6,
   "metadata": {},
   "outputs": [
    {
     "data": {
      "text/plain": [
       "array([0.45, 0.15, 0.1 , 0.3 ])"
      ]
     },
     "execution_count": 6,
     "metadata": {},
     "output_type": "execute_result"
    }
   ],
   "source": [
    "tile_probs = np.array([counts[i] / total_tiles for i in range(n_tiles)])\n",
    "tile_probs"
   ]
  },
  {
   "cell_type": "code",
   "execution_count": 7,
   "metadata": {},
   "outputs": [
    {
     "data": {
      "text/plain": [
       "array([0.7985077 , 1.89711998, 2.30258509, 1.2039728 ])"
      ]
     },
     "execution_count": 7,
     "metadata": {},
     "output_type": "execute_result"
    }
   ],
   "source": [
    "# negative log-likelihood\n",
    "# higher value means something is LESS likely (so it will get a higher energy/cost function)\n",
    "tile_nll = - np.log(tile_probs)\n",
    "tile_nll"
   ]
  },
  {
   "cell_type": "code",
   "execution_count": 8,
   "metadata": {},
   "outputs": [],
   "source": [
    "coincidences = np.zeros((n_tiles, n_tiles))\n",
    "\n",
    "height, width = pattern_sample.shape\n",
    "\n",
    "# horizontal coincidences\n",
    "for x in range(width - 1):\n",
    "    for y in range(height):\n",
    "        tile1 = pattern_sample[y, x]\n",
    "        tile2 = pattern_sample[y, x + 1]\n",
    "        if tile2 < tile1:\n",
    "            tile1, tile2 = tile2, tile1\n",
    "        coincidences[tile1, tile2] += 1\n",
    "        \n",
    "for x in range(width):\n",
    "    for y in range(height - 1):\n",
    "        tile1 = pattern_sample[y, x]\n",
    "        tile2 = pattern_sample[y + 1, x]\n",
    "        if tile2 < tile1:\n",
    "            tile1, tile2 = tile2, tile1\n",
    "        coincidences[tile1, tile2] += 1"
   ]
  },
  {
   "cell_type": "code",
   "execution_count": 9,
   "metadata": {},
   "outputs": [
    {
     "data": {
      "text/plain": [
       "array([[4., 6., 4., 8.],\n",
       "       [0., 0., 0., 4.],\n",
       "       [0., 0., 0., 0.],\n",
       "       [0., 0., 0., 5.]])"
      ]
     },
     "execution_count": 9,
     "metadata": {},
     "output_type": "execute_result"
    }
   ],
   "source": [
    "# we use onlny diagonall and the upper triange (convention, nothing more)\n",
    "coincidences"
   ]
  },
  {
   "cell_type": "code",
   "execution_count": 10,
   "metadata": {},
   "outputs": [
    {
     "data": {
      "text/plain": [
       "<AxesSubplot:>"
      ]
     },
     "execution_count": 10,
     "metadata": {},
     "output_type": "execute_result"
    },
    {
     "data": {
      "image/png": "[encoded data removed]",
      "text/plain": [
       "<Figure size 432x288 with 2 Axes>"
      ]
     },
     "metadata": {
      "needs_background": "light"
     },
     "output_type": "display_data"
    }
   ],
   "source": [
    "coincidence_prob = coincidences / coincidences.sum()\n",
    "sns.heatmap(coincidence_prob)"
   ]
  },
  {
   "cell_type": "code",
   "execution_count": 11,
   "metadata": {},
   "outputs": [
    {
     "name": "stderr",
     "output_type": "stream",
     "text": [
      "<ipython-input-11-47492140dfca>:2: RuntimeWarning: divide by zero encountered in log\n",
      "  coincidence_nll = -np.log(coincidence_prob)\n"
     ]
    },
    {
     "data": {
      "text/plain": [
       "array([[2.04769284, 1.64222774, 2.04769284, 1.35454566],\n",
       "       [       inf,        inf,        inf, 2.04769284],\n",
       "       [       inf,        inf,        inf,        inf],\n",
       "       [       inf,        inf,        inf, 1.82454929]])"
      ]
     },
     "execution_count": 11,
     "metadata": {},
     "output_type": "execute_result"
    }
   ],
   "source": [
    "# impossible combinations have inf energy\n",
    "coincidence_nll = -np.log(coincidence_prob)\n",
    "coincidence_nll"
   ]
  },
  {
   "cell_type": "code",
   "execution_count": 12,
   "metadata": {},
   "outputs": [
    {
     "data": {
      "text/plain": [
       "<AxesSubplot:>"
      ]
     },
     "execution_count": 12,
     "metadata": {},
     "output_type": "execute_result"
    },
    {
     "data": {
      "image/png": "[encoded data removed]",
      "text/plain": [
       "<Figure size 432x288 with 2 Axes>"
      ]
     },
     "metadata": {
      "needs_background": "light"
     },
     "output_type": "display_data"
    }
   ],
   "source": [
    "# if we want to avoid infinities, we can add some epsilon to probabilities\n",
    "# or even better: add 0.5 to counts\n",
    "# (it is arbitrary, but 0.5 apprears a lot in statistics and quantum, as the \"base count\")\n",
    "\n",
    "noise = 0.5\n",
    "concidence_nll_noise = -np.log((coincidences + noise) / (coincidences + noise).sum())\n",
    "sns.heatmap(concidence_nll_noise)"
   ]
  },
  {
   "cell_type": "code",
   "execution_count": null,
   "metadata": {},
   "outputs": [],
   "source": []
  }
 ],
 "metadata": {
  "kernelspec": {
   "display_name": "Python [conda env:cdl-hackathon]",
   "language": "python",
   "name": "conda-env-cdl-hackathon-py"
  },
  "language_info": {
   "codemirror_mode": {
    "name": "ipython",
    "version": 3
   },
   "file_extension": ".py",
   "mimetype": "text/x-python",
   "name": "python",
   "nbconvert_exporter": "python",
   "pygments_lexer": "ipython3",
   "version": "3.9.5"
  }
 },
 "nbformat": 4,
 "nbformat_minor": 4
}
