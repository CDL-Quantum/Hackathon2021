{
 "cells": [
  {
   "cell_type": "markdown",
   "metadata": {},
   "source": [
    "# 1 QAOA with PennyLane\n",
    "\n",
    "We use Quantum Approximate Optimization Algorithm. We start with a fully mixed state and move towards Ising-like Hamiltonian.\n",
    "\n",
    "\n",
    "* [Intro to QAOA by Xanadu](https://pennylane.ai/qml/demos/tutorial_qaoa_intro.html)\n",
    "* [A Quantum Approximate Optimization Algorithm, arXiv:1411.4028](https://arxiv.org/abs/1411.4028)\n",
    "* [From the Quantum Approximate Optimization Algorithm to a Quantum Alternating Operator Ansatz, arXiv:1709.03489\n",
    "](https://arxiv.org/abs/1709.03489)\n",
    "* [Max Independent Set and Quantum Alternating Operator Ansatz, arXiv:1905.04809\n",
    "](https://arxiv.org/abs/1905.04809)\n",
    "\n",
    "## TODO\n",
    "\n",
    "* Encode more than 2 tile values."
   ]
  },
  {
   "cell_type": "code",
   "execution_count": 1,
   "metadata": {},
   "outputs": [],
   "source": [
    "import numpy as np\n",
    "import pennylane as qml\n",
    "from pennylane import qaoa\n",
    "from livelossplot import PlotLosses"
   ]
  },
  {
   "cell_type": "markdown",
   "metadata": {},
   "source": [
    "## Board\n",
    "\n",
    "Setting board size and mapping from position to qubits."
   ]
  },
  {
   "cell_type": "code",
   "execution_count": 2,
   "metadata": {},
   "outputs": [
    {
     "name": "stdout",
     "output_type": "stream",
     "text": [
      "(0, 0) -> 0\n",
      "(0, 1) -> 1\n",
      "(0, 2) -> 2\n",
      "(1, 0) -> 3\n",
      "(1, 1) -> 4\n",
      "(1, 2) -> 5\n",
      "(2, 0) -> 6\n",
      "(2, 1) -> 7\n",
      "(2, 2) -> 8\n",
      "(3, 0) -> 9\n",
      "(3, 1) -> 10\n",
      "(3, 2) -> 11\n"
     ]
    }
   ],
   "source": [
    "width = 4\n",
    "height = 3\n",
    "total_tiles = width * height\n",
    "\n",
    "# turn position into a qubit id\n",
    "def xy2qubit(x, y):\n",
    "    return x * height + y\n",
    "\n",
    "for x in range(width):\n",
    "    for y in range(height):\n",
    "        print(f\"({x}, {y}) -> {xy2qubit(x, y)}\")"
   ]
  },
  {
   "cell_type": "markdown",
   "metadata": {},
   "source": [
    "## Hamiltonians\n",
    "\n",
    "### Mixer Hamiltonian"
   ]
  },
  {
   "cell_type": "code",
   "execution_count": 3,
   "metadata": {},
   "outputs": [
    {
     "name": "stdout",
     "output_type": "stream",
     "text": [
      "  (1) [X0]\n",
      "+ (1) [X1]\n",
      "+ (1) [X2]\n",
      "+ (1) [X3]\n",
      "+ (1) [X4]\n",
      "+ (1) [X5]\n",
      "+ (1) [X6]\n",
      "+ (1) [X7]\n",
      "+ (1) [X8]\n",
      "+ (1) [X9]\n",
      "+ (1) [X10]\n",
      "+ (1) [X11]\n"
     ]
    }
   ],
   "source": [
    "# we use a typical mixing Hamiltonian flipping all qubits separately\n",
    "h_mixer = qml.Hamiltonian(\n",
    "    [1] * total_tiles,\n",
    "    [qml.PauliX(i) for i in range(total_tiles)]\n",
    ")\n",
    "\n",
    "print(h_mixer)"
   ]
  },
  {
   "cell_type": "markdown",
   "metadata": {},
   "source": [
    "### Cost Hamiltonian\n",
    "\n",
    "We need to encode energy (cost, or when dealing with probabilities: negative log-likelihood):\n",
    "\n",
    "* b00 energy of neighbors with same tile id 0\n",
    "* b11 energy of neighbors with same tile id 1\n",
    "* b01 = a10 energy for neighbors with different tile ids (i.e 0 and 1)\n",
    "\n",
    "Classically, for two spins (s and t) our energy would be an expeciation value\n",
    "\n",
    "$$\\vec{s}^T \\begin{bmatrix} b_{00} &  b_{01} \\\\ b_{10} &  b_{11} \\end{bmatrix} \\vec{t} $$\n",
    "\n",
    "Here we need to find a two-body Hamiltonian. It is:\n",
    "\n",
    "$$ b_{00} |00 \\rangle \\langle 00 | + b_{01} |01 \\rangle \\langle 01 | + b_{10} |10 \\rangle \\langle 10 | + b_{11} |11 \\rangle \\langle 11 |$$\n",
    "\n",
    "We can expand that ($b_{01} = b_{10}$ to save us time)\n",
    "\n",
    "$$\n",
    "\\begin{bmatrix}\n",
    "  b_{00} & 0 & 0 & 0 \\\\\n",
    "  0 & b_{01} & 0 & 0 \\\\\n",
    "  0 & 0 & b_{01} & 0 \\\\\n",
    "  0 & 0 & 0 & b_{11}\n",
    "\\end{bmatrix} \n",
    "= \\frac{b_{00} + b_{11} + 2 b_{01}}{4} I \\otimes I + \\frac{b_{00} - b_{11}}{4} (I \\otimes Z + Z \\otimes I) + \\frac{b_{00} + b_{11} - 2 b_{01}}{4} Z \\otimes Z\n",
    "$$\n",
    "\n",
    "Since we don't care about the absolute energy, we drop the idenity term, so\n",
    "\n",
    "$$\n",
    "H_c = \\frac{b_{00} - b_{11}}{4} (I \\otimes Z + Z \\otimes I)  + \\frac{b_{00} + b_{11} - 2 b_{01}}{4} Z \\otimes Z\n",
    "$$\n",
    "\n",
    "Summation goes thorugh each edge (conenction between tiles), so that each tile gets as many Z as many edges it has. For a square grid, it is:\n",
    "\n",
    "* 4 in the center,\n",
    "* 3 on the board boundary,\n",
    "* 2 in the corner.\n",
    "\n",
    "Boundary conditions are pesky in general (fixed, open, wrapped, anything), so for the sake of this problem we simply it by giving 4 always."
   ]
  },
  {
   "cell_type": "code",
   "execution_count": 4,
   "metadata": {},
   "outputs": [],
   "source": [
    "# we can generate it form data or hand-pick it\n",
    "b00 = 0.5\n",
    "# b01 = 0.1  # kind of a normal value\n",
    "b01 = -3. # antiferromagnetic = checkerboard!\n",
    "# b01 = 3.  # ferromagnetic = all the same\n",
    "b11 = 0.5\n",
    "\n",
    "coeff_z = b00 - b11\n",
    "coeff_zz = (b00 + b11 - 2 * b01) / 4"
   ]
  },
  {
   "cell_type": "code",
   "execution_count": 5,
   "metadata": {},
   "outputs": [],
   "source": [
    "h_one = qml.Hamiltonian(\n",
    "    [coeff_z] * total_tiles,\n",
    "    [qml.PauliZ(i) for i in range(total_tiles)]\n",
    ")"
   ]
  },
  {
   "cell_type": "code",
   "execution_count": 6,
   "metadata": {},
   "outputs": [],
   "source": [
    "zz_ops_h = []\n",
    "for x in range(width - 1):\n",
    "    for y in range(height):\n",
    "        i = xy2qubit(x, y)\n",
    "        j = xy2qubit(x + 1, y)\n",
    "        zz_ops_h.append(qml.PauliZ(i) @ qml.PauliZ(j))\n",
    "\n",
    "zz_ops_v = []\n",
    "for x in range(width):\n",
    "    for y in range(height - 1):\n",
    "        i = xy2qubit(x, y)\n",
    "        j = xy2qubit(x, y + 1)\n",
    "        zz_ops_h.append(qml.PauliZ(i) @ qml.PauliZ(j))\n",
    "        "
   ]
  },
  {
   "cell_type": "code",
   "execution_count": 7,
   "metadata": {},
   "outputs": [
    {
     "data": {
      "text/plain": [
       "17"
      ]
     },
     "execution_count": 7,
     "metadata": {},
     "output_type": "execute_result"
    }
   ],
   "source": [
    "n_edges = 2 * width * height - width - height\n",
    "n_edges"
   ]
  },
  {
   "cell_type": "code",
   "execution_count": 8,
   "metadata": {},
   "outputs": [],
   "source": [
    "h_two = qml.Hamiltonian(\n",
    "    [coeff_zz] * n_edges,\n",
    "    zz_ops_h + zz_ops_v\n",
    ")"
   ]
  },
  {
   "cell_type": "code",
   "execution_count": 9,
   "metadata": {},
   "outputs": [
    {
     "name": "stdout",
     "output_type": "stream",
     "text": [
      "  (0.0) [Z0]\n",
      "+ (0.0) [Z1]\n",
      "+ (0.0) [Z2]\n",
      "+ (0.0) [Z3]\n",
      "+ (0.0) [Z4]\n",
      "+ (0.0) [Z5]\n",
      "+ (0.0) [Z6]\n",
      "+ (0.0) [Z7]\n",
      "+ (0.0) [Z8]\n",
      "+ (0.0) [Z9]\n",
      "+ (0.0) [Z10]\n",
      "+ (0.0) [Z11]\n",
      "+ (1.75) [Z0 Z3]\n",
      "+ (1.75) [Z1 Z4]\n",
      "+ (1.75) [Z2 Z5]\n",
      "+ (1.75) [Z3 Z6]\n",
      "+ (1.75) [Z4 Z7]\n",
      "+ (1.75) [Z5 Z8]\n",
      "+ (1.75) [Z6 Z9]\n",
      "+ (1.75) [Z7 Z10]\n",
      "+ (1.75) [Z8 Z11]\n",
      "+ (1.75) [Z0 Z1]\n",
      "+ (1.75) [Z1 Z2]\n",
      "+ (1.75) [Z3 Z4]\n",
      "+ (1.75) [Z4 Z5]\n",
      "+ (1.75) [Z6 Z7]\n",
      "+ (1.75) [Z7 Z8]\n",
      "+ (1.75) [Z9 Z10]\n",
      "+ (1.75) [Z10 Z11]\n"
     ]
    }
   ],
   "source": [
    "h_cost = h_one + h_two\n",
    "print(h_cost)"
   ]
  },
  {
   "cell_type": "markdown",
   "metadata": {},
   "source": [
    "## Creating circuit\n"
   ]
  },
  {
   "cell_type": "code",
   "execution_count": 10,
   "metadata": {},
   "outputs": [],
   "source": [
    "dev = qml.device('default.qubit', wires=range(total_tiles))\n",
    "\n",
    "# a single layer\n",
    "def qaoa_layer(gamma, alpha):\n",
    "    qaoa.cost_layer(gamma, h_cost)\n",
    "    qaoa.mixer_layer(alpha, h_mixer)\n",
    "\n",
    "# number of layers\n",
    "depth = 4\n",
    "    \n",
    "\n",
    "# circuit\n",
    "def circuit(params, **kwargs):\n",
    "    qml.layer(qaoa_layer, depth, params[0], params[1])\n",
    "\n",
    "cost_func = qml.ExpvalCost(circuit, h_cost, dev) "
   ]
  },
  {
   "cell_type": "markdown",
   "metadata": {},
   "source": [
    "## Classical optimization\n",
    "\n",
    "Warning: classical, dense, and will eat memory easily if left to its own devices.\n",
    "\n",
    "Even a grid of 3x4 requires a vector of 10^12 = 4096 coordinates.\n",
    "\n",
    "We use the new, cool `qml.QNGOptimizer` [Quantum natural gradient](https://pennylane.ai/qml/demos/tutorial_quantum_natural_gradient.html) instead of old, boring stochastic gradient descent.\n",
    "\n",
    "EDIT: We want to use the new one, but it gives an error. :(\n",
    "\n",
    "For plotting we use [livelossplot](https://github.com/stared/livelossplot). It is a Python package for tracking training of deep learning models... but why not use it for quantum optimization!"
   ]
  },
  {
   "cell_type": "code",
   "execution_count": 11,
   "metadata": {},
   "outputs": [
    {
     "data": {
      "image/png": "[encoded data removed]",
      "text/plain": [
       "<Figure size 864x864 with 4 Axes>"
      ]
     },
     "metadata": {
      "needs_background": "light"
     },
     "output_type": "display_data"
    },
    {
     "name": "stdout",
     "output_type": "stream",
     "text": [
      "alpha\n",
      "\talpha0           \t (min:    0.196, max:    0.537, cur:    0.196)\n",
      "\talpha1           \t (min:    0.160, max:    0.521, cur:    0.160)\n",
      "\talpha2           \t (min:    0.516, max:    0.742, cur:    0.742)\n",
      "\talpha3           \t (min:    0.509, max:    0.665, cur:    0.586)\n",
      "cost\n",
      "\tcost             \t (min:  -12.465, max:    2.025, cur:   -6.538)\n",
      "gamma\n",
      "\tgamma0           \t (min:    0.500, max:    0.500, cur:    0.500)\n",
      "\tgamma1           \t (min:    0.098, max:    0.555, cur:    0.439)\n",
      "\tgamma2           \t (min:    0.539, max:    0.985, cur:    0.985)\n",
      "\tgamma3           \t (min:    0.559, max:    1.081, cur:    1.081)\n"
     ]
    }
   ],
   "source": [
    "# gammas and alphas for each layer - initial values\n",
    "init_gamma_alpha = 0.5 * np.ones((2, depth))\n",
    "\n",
    "opt = qml.GradientDescentOptimizer(stepsize=0.005)  # 0.4 was WAY too much  \n",
    "# opt = qml.QNGOptimizer(0.01)\n",
    "n_iterations = 10\n",
    "gamma_alpha = init_gamma_alpha\n",
    "\n",
    "\n",
    "livelossplot_groups = {\n",
    "    'cost': ['cost'],\n",
    "    'gamma': ['gamma0', 'gamma1', 'gamma2', 'gamma3'],\n",
    "    'alpha': ['alpha0', 'alpha1', 'alpha2', 'alpha3']\n",
    "}\n",
    "plotlosses = PlotLosses(groups=livelossplot_groups)\n",
    "for i in range(n_iterations):\n",
    "    gamma_alpha, cost = opt.step_and_cost(cost_func, gamma_alpha)\n",
    "    plotlosses.update({\n",
    "        'cost': cost,\n",
    "        'gamma0': gamma_alpha[0, 0],\n",
    "        'gamma1': gamma_alpha[0, 1],\n",
    "        'gamma2': gamma_alpha[0, 2],\n",
    "        'gamma3': gamma_alpha[0, 3],\n",
    "        'alpha0': gamma_alpha[1, 0],\n",
    "        'alpha1': gamma_alpha[1, 1],\n",
    "        'alpha2': gamma_alpha[1, 2],\n",
    "        'alpha3': gamma_alpha[1, 3],\n",
    "    })\n",
    "    plotlosses.send()"
   ]
  },
  {
   "cell_type": "code",
   "execution_count": 12,
   "metadata": {},
   "outputs": [
    {
     "data": {
      "text/plain": [
       "tensor([[0.5       , 0.4387925 , 0.98490704, 1.08121148],\n",
       "        [0.19596039, 0.16008696, 0.74217279, 0.58619355]], requires_grad=True)"
      ]
     },
     "execution_count": 12,
     "metadata": {},
     "output_type": "execute_result"
    }
   ],
   "source": [
    "gamma_alpha"
   ]
  },
  {
   "cell_type": "code",
   "execution_count": 13,
   "metadata": {},
   "outputs": [],
   "source": [
    "@qml.qnode(dev)\n",
    "def probability(p):\n",
    "    circuit(p)\n",
    "    return qml.probs(wires=dev.wires)\n",
    "\n",
    "probs = probability(gamma_alpha)"
   ]
  },
  {
   "cell_type": "code",
   "execution_count": 14,
   "metadata": {},
   "outputs": [
    {
     "data": {
      "text/plain": [
       "4096"
      ]
     },
     "execution_count": 14,
     "metadata": {},
     "output_type": "execute_result"
    }
   ],
   "source": [
    "probs.size"
   ]
  },
  {
   "cell_type": "code",
   "execution_count": 15,
   "metadata": {},
   "outputs": [
    {
     "data": {
      "text/plain": [
       "2709"
      ]
     },
     "execution_count": 15,
     "metadata": {},
     "output_type": "execute_result"
    }
   ],
   "source": [
    "np.argmax(probs)"
   ]
  },
  {
   "cell_type": "code",
   "execution_count": 16,
   "metadata": {},
   "outputs": [
    {
     "data": {
      "text/plain": [
       "'101010010101'"
      ]
     },
     "execution_count": 16,
     "metadata": {},
     "output_type": "execute_result"
    }
   ],
   "source": [
    "optimal_seq = np.binary_repr(np.argmax(probs), total_tiles)\n",
    "optimal_seq"
   ]
  },
  {
   "cell_type": "code",
   "execution_count": 17,
   "metadata": {},
   "outputs": [
    {
     "data": {
      "text/plain": [
       "array([[1, 0, 1],\n",
       "       [0, 1, 0],\n",
       "       [0, 1, 0],\n",
       "       [1, 0, 1]])"
      ]
     },
     "execution_count": 17,
     "metadata": {},
     "output_type": "execute_result"
    }
   ],
   "source": [
    "np.array([int(s) for s in optimal_seq]).reshape(width, height)"
   ]
  },
  {
   "cell_type": "code",
   "execution_count": null,
   "metadata": {},
   "outputs": [],
   "source": [
    "# No sure if this almost-checkerboard is because of the boundary condition or optimization"
   ]
  },
  {
   "cell_type": "markdown",
   "metadata": {},
   "source": [
    "## Sampling\n",
    "\n",
    "Right now it does not work and I don't uderstand API. :("
   ]
  },
  {
   "cell_type": "code",
   "execution_count": null,
   "metadata": {},
   "outputs": [],
   "source": [
    "dev2 = qml.device(\"default.qubit\", wires=total_tiles, shots=5)\n",
    "\n",
    "@qml.qnode(dev2)\n",
    "def circuit(params, **kwargs):\n",
    "    qml.layer(qaoa_layer, depth, params[0], params[1])\n",
    "    return qml.sample(qml.PauliZ(0))\n",
    "    # return qml.sample(h_cost)"
   ]
  },
  {
   "cell_type": "code",
   "execution_count": null,
   "metadata": {},
   "outputs": [],
   "source": [
    "circuit(alphas_gammas)"
   ]
  },
  {
   "cell_type": "code",
   "execution_count": null,
   "metadata": {},
   "outputs": [],
   "source": []
  }
 ],
 "metadata": {
  "kernelspec": {
   "display_name": "Python [conda env:cdl-hackathon]",
   "language": "python",
   "name": "conda-env-cdl-hackathon-py"
  },
  "language_info": {
   "codemirror_mode": {
    "name": "ipython",
    "version": 3
   },
   "file_extension": ".py",
   "mimetype": "text/x-python",
   "name": "python",
   "nbconvert_exporter": "python",
   "pygments_lexer": "ipython3",
   "version": "3.9.5"
  }
 },
 "nbformat": 4,
 "nbformat_minor": 4
}
