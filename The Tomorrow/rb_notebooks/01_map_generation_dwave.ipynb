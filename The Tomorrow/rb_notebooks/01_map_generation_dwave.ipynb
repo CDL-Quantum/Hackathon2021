{
 "cells": [
  {
   "cell_type": "markdown",
   "source": [
    "# Tomorrow's Map Generation \n",
    "In this notebook we will use discrete optimization generating maps from predefined tiles in two dimensional space."
   ],
   "metadata": {}
  },
  {
   "cell_type": "code",
   "execution_count": 1,
   "source": [
    "# !pip install dimod==0.10.1 dwave-system==1.7.0\n",
    "import numpy as np\n",
    "import seaborn as sns"
   ],
   "outputs": [],
   "metadata": {}
  },
  {
   "cell_type": "markdown",
   "source": [
    "Let's define the number of available tiles, adjacency weights and the dimentions of the output map we would like to generate."
   ],
   "metadata": {}
  },
  {
   "cell_type": "code",
   "execution_count": 2,
   "source": [
    "n_tiles = 4\n",
    "map_dim = [8, 8]"
   ],
   "outputs": [],
   "metadata": {}
  },
  {
   "cell_type": "markdown",
   "source": [
    "## Create BQM object\n",
    "\n",
    "- Decision variables: $x_{ij} = k$ if the map cell i, j is assigned with the tile k\n",
    "- Total number of variables: number of map cells times number of tiles"
   ],
   "metadata": {}
  },
  {
   "cell_type": "markdown",
   "source": [
    "## Representation of map as Decision variables\n",
    "\n",
    "Below is an example of variable construction.\n",
    "\n",
    "row\\column | 1 | 2 | 3 | 4 | 5 | 6\n",
    ":----:|:---:|:----:|:----:|:----:|:-----:|:-----:\n",
    "1     | x00 | x01   |x02   | x03   | x04  | x05\n",
    "2     | x10 | x11   |x12   | x13   | x14  | x15\n",
    "3     | x20 | x21   |x22   | x23   | x24  | x25\n",
    "\n",
    "here each cell value corresponds to the respective tile index in the output map"
   ],
   "metadata": {}
  },
  {
   "cell_type": "code",
   "execution_count": 3,
   "source": [
    "from dimod import AdjVectorBQM\n",
    "\n",
    "bqm = AdjVectorBQM('BINARY')\n",
    "\n",
    "x = {(i, j, k): bqm.add_variable((f'x_{i}_{j}', k), 0)\n",
    "     for i in range(map_dim[0])\n",
    "     for j in range(map_dim[1])\n",
    "     for k in range(n_tiles)\n",
    "     }"
   ],
   "outputs": [],
   "metadata": {}
  },
  {
   "cell_type": "code",
   "execution_count": 4,
   "source": [
    "# x"
   ],
   "outputs": [],
   "metadata": {}
  },
  {
   "cell_type": "markdown",
   "source": [
    "## Add constraint\n",
    "- Only one tile can be placed in a given map cell\n",
    "- The sum of xijk for all values of k (all possible tiles) amounts to one"
   ],
   "metadata": {}
  },
  {
   "cell_type": "code",
   "execution_count": 5,
   "source": [
    "one_hot_penalty = 10\n",
    "for i in range(map_dim[0]):\n",
    "    for j in range(map_dim[1]):\n",
    "        bqm.add_linear_equality_constraint(\n",
    "            [(x[i, j, k], 1.0) for k in range(n_tiles)],\n",
    "            constant=-1.0,\n",
    "            lagrange_multiplier=one_hot_penalty\n",
    "        )"
   ],
   "outputs": [],
   "metadata": {}
  },
  {
   "cell_type": "markdown",
   "source": [
    "## Add soft constraints\n",
    "- pairwise interactions between every pair of tiles represent their relative association \n",
    "- the penalty is inverse proportional to the interaction parameter"
   ],
   "metadata": {}
  },
  {
   "cell_type": "code",
   "execution_count": 7,
   "source": [
    "# tile_interaction = [[-2, 2], \n",
    "#                     [2, -2]]\n",
    "# tile_interaction = [[-2, 2, 2], \n",
    "#                     [2, -2, 2],\n",
    "#                     [2, 2, -2]]\n",
    "\n",
    "\n",
    "coincidences =  np.array([[4., 6., 4., 8.],\n",
    "                           [6., 0., 0., 4.],\n",
    "                           [4., 0., 0., 0.],\n",
    "                           [8., 4., 0., 5.]])\n",
    "\n",
    "\n",
    "coincidence_prob = coincidences / coincidences.sum()\n",
    "coincidence_nll = -np.log(coincidence_prob)\n",
    "\n",
    "noise = 0.5\n",
    "concidence_nll_noise = -np.log((coincidences + noise) / (coincidences + noise).sum())\n",
    "\n",
    "# sns.heatmap(concidence_nll_noise)"
   ],
   "outputs": [],
   "metadata": {}
  },
  {
   "cell_type": "code",
   "execution_count": 13,
   "source": [
    "for i in range(map_dim[0]):\n",
    "    for j in range(map_dim[1]):\n",
    "        for k in [i-1, i+1]:\n",
    "            if ((k<0) | (k>=map_dim[0]))==False:\n",
    "                for t_i in range(n_tiles):\n",
    "                    for t_k in range(n_tiles):\n",
    "                        bqm.add_interaction(x[i, j, t_i], x[k, j, t_k], concidence_nll_noise[t_i][t_k])\n",
    "        for l in [j-1, j+1]:\n",
    "            if ((l<0) | (l>=map_dim[1]))==False:\n",
    "                for t_j in range(n_tiles):\n",
    "                    for t_l in range(n_tiles):\n",
    "                        bqm.add_interaction(x[i, j, t_j], x[i, l, t_l], concidence_nll_noise[t_j][t_l])"
   ],
   "outputs": [],
   "metadata": {}
  },
  {
   "cell_type": "markdown",
   "source": [
    "## Run on Simulator/Real hardware"
   ],
   "metadata": {}
  },
  {
   "cell_type": "code",
   "execution_count": 14,
   "source": [
    "from neal import SimulatedAnnealingSampler\n",
    "\n",
    "response = SimulatedAnnealingSampler().sample(bqm, num_reads=100, num_sweeps=10000).truncate(3)\n",
    "print(response)"
   ],
   "outputs": [
    {
     "output_type": "stream",
     "name": "stdout",
     "text": [
      "('x_0_0', 0) ('x_0_0', 1) ('x_0_0', 2) ... ('x_7_7', 3) energy num_oc.\n",
      "0            0            0            0 ...            1    0.0       1\n",
      "1            0            0            0 ...            0    0.0       1\n",
      "2            0            1            0 ...            1    0.0       1\n",
      "['BINARY', 3 rows, 3 samples, 256 variables]\n"
     ]
    }
   ],
   "metadata": {}
  },
  {
   "cell_type": "markdown",
   "source": [
    "## Optimal solution"
   ],
   "metadata": {}
  },
  {
   "cell_type": "code",
   "execution_count": 15,
   "source": [
    "# Get the best solution \n",
    "best_solution = response.first.sample\n",
    "assignments = {grid_cell: tile_id for (grid_cell, tile_id), value in best_solution.items() if value}\n",
    "\n",
    "print(assignments)"
   ],
   "outputs": [
    {
     "output_type": "stream",
     "name": "stdout",
     "text": [
      "{'x_0_0': 3, 'x_0_1': 1, 'x_0_2': 3, 'x_0_3': 0, 'x_0_4': 0, 'x_0_5': 3, 'x_0_6': 2, 'x_0_7': 1, 'x_1_0': 1, 'x_1_1': 2, 'x_1_2': 2, 'x_1_3': 1, 'x_1_4': 0, 'x_1_5': 0, 'x_1_6': 0, 'x_1_7': 1, 'x_2_0': 0, 'x_2_1': 1, 'x_2_2': 1, 'x_2_3': 2, 'x_2_4': 3, 'x_2_5': 1, 'x_2_6': 1, 'x_2_7': 2, 'x_3_0': 2, 'x_3_1': 1, 'x_3_2': 2, 'x_3_3': 2, 'x_3_4': 1, 'x_3_5': 2, 'x_3_6': 0, 'x_3_7': 3, 'x_4_0': 1, 'x_4_1': 2, 'x_4_2': 0, 'x_4_3': 3, 'x_4_4': 0, 'x_4_5': 3, 'x_4_6': 1, 'x_4_7': 0, 'x_5_0': 1, 'x_5_1': 1, 'x_5_2': 0, 'x_5_3': 3, 'x_5_4': 3, 'x_5_5': 3, 'x_5_6': 1, 'x_5_7': 3, 'x_6_0': 2, 'x_6_1': 0, 'x_6_2': 2, 'x_6_3': 0, 'x_6_4': 1, 'x_6_5': 0, 'x_6_6': 0, 'x_6_7': 0, 'x_7_0': 3, 'x_7_1': 1, 'x_7_2': 1, 'x_7_3': 3, 'x_7_4': 2, 'x_7_5': 3, 'x_7_6': 2, 'x_7_7': 3}\n"
     ]
    }
   ],
   "metadata": {}
  },
  {
   "cell_type": "markdown",
   "source": [
    "## Convert the solution assignments to map "
   ],
   "metadata": {}
  },
  {
   "cell_type": "code",
   "execution_count": 16,
   "source": [
    "output_map = np.array(list(assignments.values())).reshape(map_dim[0], map_dim[1])"
   ],
   "outputs": [],
   "metadata": {}
  },
  {
   "cell_type": "code",
   "execution_count": 17,
   "source": [
    "import matplotlib.pyplot as plt\n",
    "fig, ax = plt.subplots(1, 1, figsize=(5,4))\n",
    "\n",
    "tile_names = ['grass', 'tree', 'water', 'road']\n",
    "tile_colors  = ['#0c0', '#050', '#00c', '#cc6']\n",
    " \n",
    "sns.heatmap(output_map, cmap=tile_colors, linewidth=0.1, linecolor='black', ax=ax)\n",
    "\n",
    "colorbar = ax.collections[0].colorbar\n",
    "M = output_map.max().max()\n",
    "colorbar.set_ticks([(i + 0.5) * (n_tiles - 1) / n_tiles for i in range(n_tiles)])\n",
    "colorbar.set_ticklabels(tile_names)\n",
    "\n",
    "plt.show()"
   ],
   "outputs": [
    {
     "output_type": "display_data",
     "data": {
      "text/plain": [
       "<Figure size 360x288 with 2 Axes>"
      ],
      "image/png": "[encoded data removed]",
      "image/svg+xml": "<?xml version=\"1.0\" encoding=\"utf-8\" standalone=\"no\"?>\n<!DOCTYPE svg PUBLIC \"-//W3C//DTD SVG 1.1//EN\"\n  \"http://www.w3.org/Graphics/SVG/1.1/DTD/svg11.dtd\">\n<!-- Created with matplotlib (https://matplotlib.org/) -->\n<svg height=\"248.518125pt\" version=\"1.1\" viewBox=\"0 0 314.59075 248.518125\" width=\"314.59075pt\" xmlns=\"http://www.w3.org/2000/svg\" xmlns:xlink=\"http://www.w3.org/1999/xlink\">\n <metadata>\n  <rdf:RDF xmlns:cc=\"http://creativecommons.org/ns#\" xmlns:dc=\"http://purl.org/dc/elements/1.1/\" xmlns:rdf=\"http://www.w3.org/1999/02/22-rdf-syntax-ns#\">\n   <cc:Work>\n    <dc:type rdf:resource=\"http://purl.org/dc/dcmitype/StillImage\"/>\n    <dc:date>2021-07-27T14:57:02.785653</dc:date>\n    <dc:format>image/svg+xml</dc:format>\n    <dc:creator>\n     <cc:Agent>\n      <dc:title>Matplotlib v3.3.4, https://matplotlib.org/</dc:title>\n     </cc:Agent>\n    </dc:creator>\n   </cc:Work>\n  </rdf:RDF>\n </metadata>\n <defs>\n  <style type=\"text/css\">*{stroke-linecap:butt;stroke-linejoin:round;}</style>\n </defs>\n <g id=\"figure_1\">\n  <g id=\"patch_1\">\n   <path d=\"M 0 248.518125 \nL 314.59075 248.518125 \nL 314.59075 0 \nL 0 0 \nz\n\" style=\"fill:none;\"/>\n  </g>\n  <g id=\"axes_1\">\n   <g id=\"patch_2\">\n    <path d=\"M 23.878125 224.64 \nL 247.078125 224.64 \nL 247.078125 7.2 \nL 23.878125 7.2 \nz\n\" style=\"fill:#ffffff;\"/>\n   </g>\n   <g id=\"QuadMesh_1\">\n    <path clip-path=\"url(#p0d649b531e)\" d=\"M 23.878125 7.2 \nL 51.778125 7.2 \nL 51.778125 34.38 \nL 23.878125 34.38 \nL 23.878125 7.2 \n\" style=\"fill:#cccc66;stroke:#000000;stroke-width:0.1;\"/>\n    <path clip-path=\"url(#p0d649b531e)\" d=\"M 51.778125 7.2 \nL 79.678125 7.2 \nL 79.678125 34.38 \nL 51.778125 34.38 \nL 51.778125 7.2 \n\" style=\"fill:#005500;stroke:#000000;stroke-width:0.1;\"/>\n    <path clip-path=\"url(#p0d649b531e)\" d=\"M 79.678125 7.2 \nL 107.578125 7.2 \nL 107.578125 34.38 \nL 79.678125 34.38 \nL 79.678125 7.2 \n\" style=\"fill:#cccc66;stroke:#000000;stroke-width:0.1;\"/>\n    <path clip-path=\"url(#p0d649b531e)\" d=\"M 107.578125 7.2 \nL 135.478125 7.2 \nL 135.478125 34.38 \nL 107.578125 34.38 \nL 107.578125 7.2 \n\" style=\"fill:#00cc00;stroke:#000000;stroke-width:0.1;\"/>\n    <path clip-path=\"url(#p0d649b531e)\" d=\"M 135.478125 7.2 \nL 163.378125 7.2 \nL 163.378125 34.38 \nL 135.478125 34.38 \nL 135.478125 7.2 \n\" style=\"fill:#00cc00;stroke:#000000;stroke-width:0.1;\"/>\n    <path clip-path=\"url(#p0d649b531e)\" d=\"M 163.378125 7.2 \nL 191.278125 7.2 \nL 191.278125 34.38 \nL 163.378125 34.38 \nL 163.378125 7.2 \n\" style=\"fill:#cccc66;stroke:#000000;stroke-width:0.1;\"/>\n    <path clip-path=\"url(#p0d649b531e)\" d=\"M 191.278125 7.2 \nL 219.178125 7.2 \nL 219.178125 34.38 \nL 191.278125 34.38 \nL 191.278125 7.2 \n\" style=\"fill:#0000cc;stroke:#000000;stroke-width:0.1;\"/>\n    <path clip-path=\"url(#p0d649b531e)\" d=\"M 219.178125 7.2 \nL 247.078125 7.2 \nL 247.078125 34.38 \nL 219.178125 34.38 \nL 219.178125 7.2 \n\" style=\"fill:#005500;stroke:#000000;stroke-width:0.1;\"/>\n    <path clip-path=\"url(#p0d649b531e)\" d=\"M 23.878125 34.38 \nL 51.778125 34.38 \nL 51.778125 61.56 \nL 23.878125 61.56 \nL 23.878125 34.38 \n\" style=\"fill:#005500;stroke:#000000;stroke-width:0.1;\"/>\n    <path clip-path=\"url(#p0d649b531e)\" d=\"M 51.778125 34.38 \nL 79.678125 34.38 \nL 79.678125 61.56 \nL 51.778125 61.56 \nL 51.778125 34.38 \n\" style=\"fill:#0000cc;stroke:#000000;stroke-width:0.1;\"/>\n    <path clip-path=\"url(#p0d649b531e)\" d=\"M 79.678125 34.38 \nL 107.578125 34.38 \nL 107.578125 61.56 \nL 79.678125 61.56 \nL 79.678125 34.38 \n\" style=\"fill:#0000cc;stroke:#000000;stroke-width:0.1;\"/>\n    <path clip-path=\"url(#p0d649b531e)\" d=\"M 107.578125 34.38 \nL 135.478125 34.38 \nL 135.478125 61.56 \nL 107.578125 61.56 \nL 107.578125 34.38 \n\" style=\"fill:#005500;stroke:#000000;stroke-width:0.1;\"/>\n    <path clip-path=\"url(#p0d649b531e)\" d=\"M 135.478125 34.38 \nL 163.378125 34.38 \nL 163.378125 61.56 \nL 135.478125 61.56 \nL 135.478125 34.38 \n\" style=\"fill:#00cc00;stroke:#000000;stroke-width:0.1;\"/>\n    <path clip-path=\"url(#p0d649b531e)\" d=\"M 163.378125 34.38 \nL 191.278125 34.38 \nL 191.278125 61.56 \nL 163.378125 61.56 \nL 163.378125 34.38 \n\" style=\"fill:#00cc00;stroke:#000000;stroke-width:0.1;\"/>\n    <path clip-path=\"url(#p0d649b531e)\" d=\"M 191.278125 34.38 \nL 219.178125 34.38 \nL 219.178125 61.56 \nL 191.278125 61.56 \nL 191.278125 34.38 \n\" style=\"fill:#00cc00;stroke:#000000;stroke-width:0.1;\"/>\n    <path clip-path=\"url(#p0d649b531e)\" d=\"M 219.178125 34.38 \nL 247.078125 34.38 \nL 247.078125 61.56 \nL 219.178125 61.56 \nL 219.178125 34.38 \n\" style=\"fill:#005500;stroke:#000000;stroke-width:0.1;\"/>\n    <path clip-path=\"url(#p0d649b531e)\" d=\"M 23.878125 61.56 \nL 51.778125 61.56 \nL 51.778125 88.74 \nL 23.878125 88.74 \nL 23.878125 61.56 \n\" style=\"fill:#00cc00;stroke:#000000;stroke-width:0.1;\"/>\n    <path clip-path=\"url(#p0d649b531e)\" d=\"M 51.778125 61.56 \nL 79.678125 61.56 \nL 79.678125 88.74 \nL 51.778125 88.74 \nL 51.778125 61.56 \n\" style=\"fill:#005500;stroke:#000000;stroke-width:0.1;\"/>\n    <path clip-path=\"url(#p0d649b531e)\" d=\"M 79.678125 61.56 \nL 107.578125 61.56 \nL 107.578125 88.74 \nL 79.678125 88.74 \nL 79.678125 61.56 \n\" style=\"fill:#005500;stroke:#000000;stroke-width:0.1;\"/>\n    <path clip-path=\"url(#p0d649b531e)\" d=\"M 107.578125 61.56 \nL 135.478125 61.56 \nL 135.478125 88.74 \nL 107.578125 88.74 \nL 107.578125 61.56 \n\" style=\"fill:#0000cc;stroke:#000000;stroke-width:0.1;\"/>\n    <path clip-path=\"url(#p0d649b531e)\" d=\"M 135.478125 61.56 \nL 163.378125 61.56 \nL 163.378125 88.74 \nL 135.478125 88.74 \nL 135.478125 61.56 \n\" style=\"fill:#cccc66;stroke:#000000;stroke-width:0.1;\"/>\n    <path clip-path=\"url(#p0d649b531e)\" d=\"M 163.378125 61.56 \nL 191.278125 61.56 \nL 191.278125 88.74 \nL 163.378125 88.74 \nL 163.378125 61.56 \n\" style=\"fill:#005500;stroke:#000000;stroke-width:0.1;\"/>\n    <path clip-path=\"url(#p0d649b531e)\" d=\"M 191.278125 61.56 \nL 219.178125 61.56 \nL 219.178125 88.74 \nL 191.278125 88.74 \nL 191.278125 61.56 \n\" style=\"fill:#005500;stroke:#000000;stroke-width:0.1;\"/>\n    <path clip-path=\"url(#p0d649b531e)\" d=\"M 219.178125 61.56 \nL 247.078125 61.56 \nL 247.078125 88.74 \nL 219.178125 88.74 \nL 219.178125 61.56 \n\" style=\"fill:#0000cc;stroke:#000000;stroke-width:0.1;\"/>\n    <path clip-path=\"url(#p0d649b531e)\" d=\"M 23.878125 88.74 \nL 51.778125 88.74 \nL 51.778125 115.92 \nL 23.878125 115.92 \nL 23.878125 88.74 \n\" style=\"fill:#0000cc;stroke:#000000;stroke-width:0.1;\"/>\n    <path clip-path=\"url(#p0d649b531e)\" d=\"M 51.778125 88.74 \nL 79.678125 88.74 \nL 79.678125 115.92 \nL 51.778125 115.92 \nL 51.778125 88.74 \n\" style=\"fill:#005500;stroke:#000000;stroke-width:0.1;\"/>\n    <path clip-path=\"url(#p0d649b531e)\" d=\"M 79.678125 88.74 \nL 107.578125 88.74 \nL 107.578125 115.92 \nL 79.678125 115.92 \nL 79.678125 88.74 \n\" style=\"fill:#0000cc;stroke:#000000;stroke-width:0.1;\"/>\n    <path clip-path=\"url(#p0d649b531e)\" d=\"M 107.578125 88.74 \nL 135.478125 88.74 \nL 135.478125 115.92 \nL 107.578125 115.92 \nL 107.578125 88.74 \n\" style=\"fill:#0000cc;stroke:#000000;stroke-width:0.1;\"/>\n    <path clip-path=\"url(#p0d649b531e)\" d=\"M 135.478125 88.74 \nL 163.378125 88.74 \nL 163.378125 115.92 \nL 135.478125 115.92 \nL 135.478125 88.74 \n\" style=\"fill:#005500;stroke:#000000;stroke-width:0.1;\"/>\n    <path clip-path=\"url(#p0d649b531e)\" d=\"M 163.378125 88.74 \nL 191.278125 88.74 \nL 191.278125 115.92 \nL 163.378125 115.92 \nL 163.378125 88.74 \n\" style=\"fill:#0000cc;stroke:#000000;stroke-width:0.1;\"/>\n    <path clip-path=\"url(#p0d649b531e)\" d=\"M 191.278125 88.74 \nL 219.178125 88.74 \nL 219.178125 115.92 \nL 191.278125 115.92 \nL 191.278125 88.74 \n\" style=\"fill:#00cc00;stroke:#000000;stroke-width:0.1;\"/>\n    <path clip-path=\"url(#p0d649b531e)\" d=\"M 219.178125 88.74 \nL 247.078125 88.74 \nL 247.078125 115.92 \nL 219.178125 115.92 \nL 219.178125 88.74 \n\" style=\"fill:#cccc66;stroke:#000000;stroke-width:0.1;\"/>\n    <path clip-path=\"url(#p0d649b531e)\" d=\"M 23.878125 115.92 \nL 51.778125 115.92 \nL 51.778125 143.1 \nL 23.878125 143.1 \nL 23.878125 115.92 \n\" style=\"fill:#005500;stroke:#000000;stroke-width:0.1;\"/>\n    <path clip-path=\"url(#p0d649b531e)\" d=\"M 51.778125 115.92 \nL 79.678125 115.92 \nL 79.678125 143.1 \nL 51.778125 143.1 \nL 51.778125 115.92 \n\" style=\"fill:#0000cc;stroke:#000000;stroke-width:0.1;\"/>\n    <path clip-path=\"url(#p0d649b531e)\" d=\"M 79.678125 115.92 \nL 107.578125 115.92 \nL 107.578125 143.1 \nL 79.678125 143.1 \nL 79.678125 115.92 \n\" style=\"fill:#00cc00;stroke:#000000;stroke-width:0.1;\"/>\n    <path clip-path=\"url(#p0d649b531e)\" d=\"M 107.578125 115.92 \nL 135.478125 115.92 \nL 135.478125 143.1 \nL 107.578125 143.1 \nL 107.578125 115.92 \n\" style=\"fill:#cccc66;stroke:#000000;stroke-width:0.1;\"/>\n    <path clip-path=\"url(#p0d649b531e)\" d=\"M 135.478125 115.92 \nL 163.378125 115.92 \nL 163.378125 143.1 \nL 135.478125 143.1 \nL 135.478125 115.92 \n\" style=\"fill:#00cc00;stroke:#000000;stroke-width:0.1;\"/>\n    <path clip-path=\"url(#p0d649b531e)\" d=\"M 163.378125 115.92 \nL 191.278125 115.92 \nL 191.278125 143.1 \nL 163.378125 143.1 \nL 163.378125 115.92 \n\" style=\"fill:#cccc66;stroke:#000000;stroke-width:0.1;\"/>\n    <path clip-path=\"url(#p0d649b531e)\" d=\"M 191.278125 115.92 \nL 219.178125 115.92 \nL 219.178125 143.1 \nL 191.278125 143.1 \nL 191.278125 115.92 \n\" style=\"fill:#005500;stroke:#000000;stroke-width:0.1;\"/>\n    <path clip-path=\"url(#p0d649b531e)\" d=\"M 219.178125 115.92 \nL 247.078125 115.92 \nL 247.078125 143.1 \nL 219.178125 143.1 \nL 219.178125 115.92 \n\" style=\"fill:#00cc00;stroke:#000000;stroke-width:0.1;\"/>\n    <path clip-path=\"url(#p0d649b531e)\" d=\"M 23.878125 143.1 \nL 51.778125 143.1 \nL 51.778125 170.28 \nL 23.878125 170.28 \nL 23.878125 143.1 \n\" style=\"fill:#005500;stroke:#000000;stroke-width:0.1;\"/>\n    <path clip-path=\"url(#p0d649b531e)\" d=\"M 51.778125 143.1 \nL 79.678125 143.1 \nL 79.678125 170.28 \nL 51.778125 170.28 \nL 51.778125 143.1 \n\" style=\"fill:#005500;stroke:#000000;stroke-width:0.1;\"/>\n    <path clip-path=\"url(#p0d649b531e)\" d=\"M 79.678125 143.1 \nL 107.578125 143.1 \nL 107.578125 170.28 \nL 79.678125 170.28 \nL 79.678125 143.1 \n\" style=\"fill:#00cc00;stroke:#000000;stroke-width:0.1;\"/>\n    <path clip-path=\"url(#p0d649b531e)\" d=\"M 107.578125 143.1 \nL 135.478125 143.1 \nL 135.478125 170.28 \nL 107.578125 170.28 \nL 107.578125 143.1 \n\" style=\"fill:#cccc66;stroke:#000000;stroke-width:0.1;\"/>\n    <path clip-path=\"url(#p0d649b531e)\" d=\"M 135.478125 143.1 \nL 163.378125 143.1 \nL 163.378125 170.28 \nL 135.478125 170.28 \nL 135.478125 143.1 \n\" style=\"fill:#cccc66;stroke:#000000;stroke-width:0.1;\"/>\n    <path clip-path=\"url(#p0d649b531e)\" d=\"M 163.378125 143.1 \nL 191.278125 143.1 \nL 191.278125 170.28 \nL 163.378125 170.28 \nL 163.378125 143.1 \n\" style=\"fill:#cccc66;stroke:#000000;stroke-width:0.1;\"/>\n    <path clip-path=\"url(#p0d649b531e)\" d=\"M 191.278125 143.1 \nL 219.178125 143.1 \nL 219.178125 170.28 \nL 191.278125 170.28 \nL 191.278125 143.1 \n\" style=\"fill:#005500;stroke:#000000;stroke-width:0.1;\"/>\n    <path clip-path=\"url(#p0d649b531e)\" d=\"M 219.178125 143.1 \nL 247.078125 143.1 \nL 247.078125 170.28 \nL 219.178125 170.28 \nL 219.178125 143.1 \n\" style=\"fill:#cccc66;stroke:#000000;stroke-width:0.1;\"/>\n    <path clip-path=\"url(#p0d649b531e)\" d=\"M 23.878125 170.28 \nL 51.778125 170.28 \nL 51.778125 197.46 \nL 23.878125 197.46 \nL 23.878125 170.28 \n\" style=\"fill:#0000cc;stroke:#000000;stroke-width:0.1;\"/>\n    <path clip-path=\"url(#p0d649b531e)\" d=\"M 51.778125 170.28 \nL 79.678125 170.28 \nL 79.678125 197.46 \nL 51.778125 197.46 \nL 51.778125 170.28 \n\" style=\"fill:#00cc00;stroke:#000000;stroke-width:0.1;\"/>\n    <path clip-path=\"url(#p0d649b531e)\" d=\"M 79.678125 170.28 \nL 107.578125 170.28 \nL 107.578125 197.46 \nL 79.678125 197.46 \nL 79.678125 170.28 \n\" style=\"fill:#0000cc;stroke:#000000;stroke-width:0.1;\"/>\n    <path clip-path=\"url(#p0d649b531e)\" d=\"M 107.578125 170.28 \nL 135.478125 170.28 \nL 135.478125 197.46 \nL 107.578125 197.46 \nL 107.578125 170.28 \n\" style=\"fill:#00cc00;stroke:#000000;stroke-width:0.1;\"/>\n    <path clip-path=\"url(#p0d649b531e)\" d=\"M 135.478125 170.28 \nL 163.378125 170.28 \nL 163.378125 197.46 \nL 135.478125 197.46 \nL 135.478125 170.28 \n\" style=\"fill:#005500;stroke:#000000;stroke-width:0.1;\"/>\n    <path clip-path=\"url(#p0d649b531e)\" d=\"M 163.378125 170.28 \nL 191.278125 170.28 \nL 191.278125 197.46 \nL 163.378125 197.46 \nL 163.378125 170.28 \n\" style=\"fill:#00cc00;stroke:#000000;stroke-width:0.1;\"/>\n    <path clip-path=\"url(#p0d649b531e)\" d=\"M 191.278125 170.28 \nL 219.178125 170.28 \nL 219.178125 197.46 \nL 191.278125 197.46 \nL 191.278125 170.28 \n\" style=\"fill:#00cc00;stroke:#000000;stroke-width:0.1;\"/>\n    <path clip-path=\"url(#p0d649b531e)\" d=\"M 219.178125 170.28 \nL 247.078125 170.28 \nL 247.078125 197.46 \nL 219.178125 197.46 \nL 219.178125 170.28 \n\" style=\"fill:#00cc00;stroke:#000000;stroke-width:0.1;\"/>\n    <path clip-path=\"url(#p0d649b531e)\" d=\"M 23.878125 197.46 \nL 51.778125 197.46 \nL 51.778125 224.64 \nL 23.878125 224.64 \nL 23.878125 197.46 \n\" style=\"fill:#cccc66;stroke:#000000;stroke-width:0.1;\"/>\n    <path clip-path=\"url(#p0d649b531e)\" d=\"M 51.778125 197.46 \nL 79.678125 197.46 \nL 79.678125 224.64 \nL 51.778125 224.64 \nL 51.778125 197.46 \n\" style=\"fill:#005500;stroke:#000000;stroke-width:0.1;\"/>\n    <path clip-path=\"url(#p0d649b531e)\" d=\"M 79.678125 197.46 \nL 107.578125 197.46 \nL 107.578125 224.64 \nL 79.678125 224.64 \nL 79.678125 197.46 \n\" style=\"fill:#005500;stroke:#000000;stroke-width:0.1;\"/>\n    <path clip-path=\"url(#p0d649b531e)\" d=\"M 107.578125 197.46 \nL 135.478125 197.46 \nL 135.478125 224.64 \nL 107.578125 224.64 \nL 107.578125 197.46 \n\" style=\"fill:#cccc66;stroke:#000000;stroke-width:0.1;\"/>\n    <path clip-path=\"url(#p0d649b531e)\" d=\"M 135.478125 197.46 \nL 163.378125 197.46 \nL 163.378125 224.64 \nL 135.478125 224.64 \nL 135.478125 197.46 \n\" style=\"fill:#0000cc;stroke:#000000;stroke-width:0.1;\"/>\n    <path clip-path=\"url(#p0d649b531e)\" d=\"M 163.378125 197.46 \nL 191.278125 197.46 \nL 191.278125 224.64 \nL 163.378125 224.64 \nL 163.378125 197.46 \n\" style=\"fill:#cccc66;stroke:#000000;stroke-width:0.1;\"/>\n    <path clip-path=\"url(#p0d649b531e)\" d=\"M 191.278125 197.46 \nL 219.178125 197.46 \nL 219.178125 224.64 \nL 191.278125 224.64 \nL 191.278125 197.46 \n\" style=\"fill:#0000cc;stroke:#000000;stroke-width:0.1;\"/>\n    <path clip-path=\"url(#p0d649b531e)\" d=\"M 219.178125 197.46 \nL 247.078125 197.46 \nL 247.078125 224.64 \nL 219.178125 224.64 \nL 219.178125 197.46 \n\" style=\"fill:#cccc66;stroke:#000000;stroke-width:0.1;\"/>\n   </g>\n   <g id=\"matplotlib.axis_1\">\n    <g id=\"xtick_1\">\n     <g id=\"line2d_1\">\n      <defs>\n       <path d=\"M 0 0 \nL 0 3.5 \n\" id=\"ma36d34e3a8\" style=\"stroke:#000000;stroke-width:0.8;\"/>\n      </defs>\n      <g>\n       <use style=\"stroke:#000000;stroke-width:0.8;\" x=\"37.828125\" xlink:href=\"#ma36d34e3a8\" y=\"224.64\"/>\n      </g>\n     </g>\n     <g id=\"text_1\">\n      <!-- 0 -->\n      <g transform=\"translate(34.646875 239.238437)scale(0.1 -0.1)\">\n       <defs>\n        <path d=\"M 31.78125 66.40625 \nQ 24.171875 66.40625 20.328125 58.90625 \nQ 16.5 51.421875 16.5 36.375 \nQ 16.5 21.390625 20.328125 13.890625 \nQ 24.171875 6.390625 31.78125 6.390625 \nQ 39.453125 6.390625 43.28125 13.890625 \nQ 47.125 21.390625 47.125 36.375 \nQ 47.125 51.421875 43.28125 58.90625 \nQ 39.453125 66.40625 31.78125 66.40625 \nz\nM 31.78125 74.21875 \nQ 44.046875 74.21875 50.515625 64.515625 \nQ 56.984375 54.828125 56.984375 36.375 \nQ 56.984375 17.96875 50.515625 8.265625 \nQ 44.046875 -1.421875 31.78125 -1.421875 \nQ 19.53125 -1.421875 13.0625 8.265625 \nQ 6.59375 17.96875 6.59375 36.375 \nQ 6.59375 54.828125 13.0625 64.515625 \nQ 19.53125 74.21875 31.78125 74.21875 \nz\n\" id=\"DejaVuSans-48\"/>\n       </defs>\n       <use xlink:href=\"#DejaVuSans-48\"/>\n      </g>\n     </g>\n    </g>\n    <g id=\"xtick_2\">\n     <g id=\"line2d_2\">\n      <g>\n       <use style=\"stroke:#000000;stroke-width:0.8;\" x=\"65.728125\" xlink:href=\"#ma36d34e3a8\" y=\"224.64\"/>\n      </g>\n     </g>\n     <g id=\"text_2\">\n      <!-- 1 -->\n      <g transform=\"translate(62.546875 239.238437)scale(0.1 -0.1)\">\n       <defs>\n        <path d=\"M 12.40625 8.296875 \nL 28.515625 8.296875 \nL 28.515625 63.921875 \nL 10.984375 60.40625 \nL 10.984375 69.390625 \nL 28.421875 72.90625 \nL 38.28125 72.90625 \nL 38.28125 8.296875 \nL 54.390625 8.296875 \nL 54.390625 0 \nL 12.40625 0 \nz\n\" id=\"DejaVuSans-49\"/>\n       </defs>\n       <use xlink:href=\"#DejaVuSans-49\"/>\n      </g>\n     </g>\n    </g>\n    <g id=\"xtick_3\">\n     <g id=\"line2d_3\">\n      <g>\n       <use style=\"stroke:#000000;stroke-width:0.8;\" x=\"93.628125\" xlink:href=\"#ma36d34e3a8\" y=\"224.64\"/>\n      </g>\n     </g>\n     <g id=\"text_3\">\n      <!-- 2 -->\n      <g transform=\"translate(90.446875 239.238437)scale(0.1 -0.1)\">\n       <defs>\n        <path d=\"M 19.1875 8.296875 \nL 53.609375 8.296875 \nL 53.609375 0 \nL 7.328125 0 \nL 7.328125 8.296875 \nQ 12.9375 14.109375 22.625 23.890625 \nQ 32.328125 33.6875 34.8125 36.53125 \nQ 39.546875 41.84375 41.421875 45.53125 \nQ 43.3125 49.21875 43.3125 52.78125 \nQ 43.3125 58.59375 39.234375 62.25 \nQ 35.15625 65.921875 28.609375 65.921875 \nQ 23.96875 65.921875 18.8125 64.3125 \nQ 13.671875 62.703125 7.8125 59.421875 \nL 7.8125 69.390625 \nQ 13.765625 71.78125 18.9375 73 \nQ 24.125 74.21875 28.421875 74.21875 \nQ 39.75 74.21875 46.484375 68.546875 \nQ 53.21875 62.890625 53.21875 53.421875 \nQ 53.21875 48.921875 51.53125 44.890625 \nQ 49.859375 40.875 45.40625 35.40625 \nQ 44.1875 33.984375 37.640625 27.21875 \nQ 31.109375 20.453125 19.1875 8.296875 \nz\n\" id=\"DejaVuSans-50\"/>\n       </defs>\n       <use xlink:href=\"#DejaVuSans-50\"/>\n      </g>\n     </g>\n    </g>\n    <g id=\"xtick_4\">\n     <g id=\"line2d_4\">\n      <g>\n       <use style=\"stroke:#000000;stroke-width:0.8;\" x=\"121.528125\" xlink:href=\"#ma36d34e3a8\" y=\"224.64\"/>\n      </g>\n     </g>\n     <g id=\"text_4\">\n      <!-- 3 -->\n      <g transform=\"translate(118.346875 239.238437)scale(0.1 -0.1)\">\n       <defs>\n        <path d=\"M 40.578125 39.3125 \nQ 47.65625 37.796875 51.625 33 \nQ 55.609375 28.21875 55.609375 21.1875 \nQ 55.609375 10.40625 48.1875 4.484375 \nQ 40.765625 -1.421875 27.09375 -1.421875 \nQ 22.515625 -1.421875 17.65625 -0.515625 \nQ 12.796875 0.390625 7.625 2.203125 \nL 7.625 11.71875 \nQ 11.71875 9.328125 16.59375 8.109375 \nQ 21.484375 6.890625 26.8125 6.890625 \nQ 36.078125 6.890625 40.9375 10.546875 \nQ 45.796875 14.203125 45.796875 21.1875 \nQ 45.796875 27.640625 41.28125 31.265625 \nQ 36.765625 34.90625 28.71875 34.90625 \nL 20.21875 34.90625 \nL 20.21875 43.015625 \nL 29.109375 43.015625 \nQ 36.375 43.015625 40.234375 45.921875 \nQ 44.09375 48.828125 44.09375 54.296875 \nQ 44.09375 59.90625 40.109375 62.90625 \nQ 36.140625 65.921875 28.71875 65.921875 \nQ 24.65625 65.921875 20.015625 65.03125 \nQ 15.375 64.15625 9.8125 62.3125 \nL 9.8125 71.09375 \nQ 15.4375 72.65625 20.34375 73.4375 \nQ 25.25 74.21875 29.59375 74.21875 \nQ 40.828125 74.21875 47.359375 69.109375 \nQ 53.90625 64.015625 53.90625 55.328125 \nQ 53.90625 49.265625 50.4375 45.09375 \nQ 46.96875 40.921875 40.578125 39.3125 \nz\n\" id=\"DejaVuSans-51\"/>\n       </defs>\n       <use xlink:href=\"#DejaVuSans-51\"/>\n      </g>\n     </g>\n    </g>\n    <g id=\"xtick_5\">\n     <g id=\"line2d_5\">\n      <g>\n       <use style=\"stroke:#000000;stroke-width:0.8;\" x=\"149.428125\" xlink:href=\"#ma36d34e3a8\" y=\"224.64\"/>\n      </g>\n     </g>\n     <g id=\"text_5\">\n      <!-- 4 -->\n      <g transform=\"translate(146.246875 239.238437)scale(0.1 -0.1)\">\n       <defs>\n        <path d=\"M 37.796875 64.3125 \nL 12.890625 25.390625 \nL 37.796875 25.390625 \nz\nM 35.203125 72.90625 \nL 47.609375 72.90625 \nL 47.609375 25.390625 \nL 58.015625 25.390625 \nL 58.015625 17.1875 \nL 47.609375 17.1875 \nL 47.609375 0 \nL 37.796875 0 \nL 37.796875 17.1875 \nL 4.890625 17.1875 \nL 4.890625 26.703125 \nz\n\" id=\"DejaVuSans-52\"/>\n       </defs>\n       <use xlink:href=\"#DejaVuSans-52\"/>\n      </g>\n     </g>\n    </g>\n    <g id=\"xtick_6\">\n     <g id=\"line2d_6\">\n      <g>\n       <use style=\"stroke:#000000;stroke-width:0.8;\" x=\"177.328125\" xlink:href=\"#ma36d34e3a8\" y=\"224.64\"/>\n      </g>\n     </g>\n     <g id=\"text_6\">\n      <!-- 5 -->\n      <g transform=\"translate(174.146875 239.238437)scale(0.1 -0.1)\">\n       <defs>\n        <path d=\"M 10.796875 72.90625 \nL 49.515625 72.90625 \nL 49.515625 64.59375 \nL 19.828125 64.59375 \nL 19.828125 46.734375 \nQ 21.96875 47.46875 24.109375 47.828125 \nQ 26.265625 48.1875 28.421875 48.1875 \nQ 40.625 48.1875 47.75 41.5 \nQ 54.890625 34.8125 54.890625 23.390625 \nQ 54.890625 11.625 47.5625 5.09375 \nQ 40.234375 -1.421875 26.90625 -1.421875 \nQ 22.3125 -1.421875 17.546875 -0.640625 \nQ 12.796875 0.140625 7.71875 1.703125 \nL 7.71875 11.625 \nQ 12.109375 9.234375 16.796875 8.0625 \nQ 21.484375 6.890625 26.703125 6.890625 \nQ 35.15625 6.890625 40.078125 11.328125 \nQ 45.015625 15.765625 45.015625 23.390625 \nQ 45.015625 31 40.078125 35.4375 \nQ 35.15625 39.890625 26.703125 39.890625 \nQ 22.75 39.890625 18.8125 39.015625 \nQ 14.890625 38.140625 10.796875 36.28125 \nz\n\" id=\"DejaVuSans-53\"/>\n       </defs>\n       <use xlink:href=\"#DejaVuSans-53\"/>\n      </g>\n     </g>\n    </g>\n    <g id=\"xtick_7\">\n     <g id=\"line2d_7\">\n      <g>\n       <use style=\"stroke:#000000;stroke-width:0.8;\" x=\"205.228125\" xlink:href=\"#ma36d34e3a8\" y=\"224.64\"/>\n      </g>\n     </g>\n     <g id=\"text_7\">\n      <!-- 6 -->\n      <g transform=\"translate(202.046875 239.238437)scale(0.1 -0.1)\">\n       <defs>\n        <path d=\"M 33.015625 40.375 \nQ 26.375 40.375 22.484375 35.828125 \nQ 18.609375 31.296875 18.609375 23.390625 \nQ 18.609375 15.53125 22.484375 10.953125 \nQ 26.375 6.390625 33.015625 6.390625 \nQ 39.65625 6.390625 43.53125 10.953125 \nQ 47.40625 15.53125 47.40625 23.390625 \nQ 47.40625 31.296875 43.53125 35.828125 \nQ 39.65625 40.375 33.015625 40.375 \nz\nM 52.59375 71.296875 \nL 52.59375 62.3125 \nQ 48.875 64.0625 45.09375 64.984375 \nQ 41.3125 65.921875 37.59375 65.921875 \nQ 27.828125 65.921875 22.671875 59.328125 \nQ 17.53125 52.734375 16.796875 39.40625 \nQ 19.671875 43.65625 24.015625 45.921875 \nQ 28.375 48.1875 33.59375 48.1875 \nQ 44.578125 48.1875 50.953125 41.515625 \nQ 57.328125 34.859375 57.328125 23.390625 \nQ 57.328125 12.15625 50.6875 5.359375 \nQ 44.046875 -1.421875 33.015625 -1.421875 \nQ 20.359375 -1.421875 13.671875 8.265625 \nQ 6.984375 17.96875 6.984375 36.375 \nQ 6.984375 53.65625 15.1875 63.9375 \nQ 23.390625 74.21875 37.203125 74.21875 \nQ 40.921875 74.21875 44.703125 73.484375 \nQ 48.484375 72.75 52.59375 71.296875 \nz\n\" id=\"DejaVuSans-54\"/>\n       </defs>\n       <use xlink:href=\"#DejaVuSans-54\"/>\n      </g>\n     </g>\n    </g>\n    <g id=\"xtick_8\">\n     <g id=\"line2d_8\">\n      <g>\n       <use style=\"stroke:#000000;stroke-width:0.8;\" x=\"233.128125\" xlink:href=\"#ma36d34e3a8\" y=\"224.64\"/>\n      </g>\n     </g>\n     <g id=\"text_8\">\n      <!-- 7 -->\n      <g transform=\"translate(229.946875 239.238437)scale(0.1 -0.1)\">\n       <defs>\n        <path d=\"M 8.203125 72.90625 \nL 55.078125 72.90625 \nL 55.078125 68.703125 \nL 28.609375 0 \nL 18.3125 0 \nL 43.21875 64.59375 \nL 8.203125 64.59375 \nz\n\" id=\"DejaVuSans-55\"/>\n       </defs>\n       <use xlink:href=\"#DejaVuSans-55\"/>\n      </g>\n     </g>\n    </g>\n   </g>\n   <g id=\"matplotlib.axis_2\">\n    <g id=\"ytick_1\">\n     <g id=\"line2d_9\">\n      <defs>\n       <path d=\"M 0 0 \nL -3.5 0 \n\" id=\"m340f231f53\" style=\"stroke:#000000;stroke-width:0.8;\"/>\n      </defs>\n      <g>\n       <use style=\"stroke:#000000;stroke-width:0.8;\" x=\"23.878125\" xlink:href=\"#m340f231f53\" y=\"20.79\"/>\n      </g>\n     </g>\n     <g id=\"text_9\">\n      <!-- 0 -->\n      <g transform=\"translate(14.798438 23.353281)rotate(-90)scale(0.1 -0.1)\">\n       <use xlink:href=\"#DejaVuSans-48\"/>\n      </g>\n     </g>\n    </g>\n    <g id=\"ytick_2\">\n     <g id=\"line2d_10\">\n      <g>\n       <use style=\"stroke:#000000;stroke-width:0.8;\" x=\"23.878125\" xlink:href=\"#m340f231f53\" y=\"47.97\"/>\n      </g>\n     </g>\n     <g id=\"text_10\">\n      <!-- 1 -->\n      <g transform=\"translate(14.798438 50.533281)rotate(-90)scale(0.1 -0.1)\">\n       <use xlink:href=\"#DejaVuSans-49\"/>\n      </g>\n     </g>\n    </g>\n    <g id=\"ytick_3\">\n     <g id=\"line2d_11\">\n      <g>\n       <use style=\"stroke:#000000;stroke-width:0.8;\" x=\"23.878125\" xlink:href=\"#m340f231f53\" y=\"75.15\"/>\n      </g>\n     </g>\n     <g id=\"text_11\">\n      <!-- 2 -->\n      <g transform=\"translate(14.798438 77.713281)rotate(-90)scale(0.1 -0.1)\">\n       <use xlink:href=\"#DejaVuSans-50\"/>\n      </g>\n     </g>\n    </g>\n    <g id=\"ytick_4\">\n     <g id=\"line2d_12\">\n      <g>\n       <use style=\"stroke:#000000;stroke-width:0.8;\" x=\"23.878125\" xlink:href=\"#m340f231f53\" y=\"102.33\"/>\n      </g>\n     </g>\n     <g id=\"text_12\">\n      <!-- 3 -->\n      <g transform=\"translate(14.798438 104.893281)rotate(-90)scale(0.1 -0.1)\">\n       <use xlink:href=\"#DejaVuSans-51\"/>\n      </g>\n     </g>\n    </g>\n    <g id=\"ytick_5\">\n     <g id=\"line2d_13\">\n      <g>\n       <use style=\"stroke:#000000;stroke-width:0.8;\" x=\"23.878125\" xlink:href=\"#m340f231f53\" y=\"129.51\"/>\n      </g>\n     </g>\n     <g id=\"text_13\">\n      <!-- 4 -->\n      <g transform=\"translate(14.798438 132.073281)rotate(-90)scale(0.1 -0.1)\">\n       <use xlink:href=\"#DejaVuSans-52\"/>\n      </g>\n     </g>\n    </g>\n    <g id=\"ytick_6\">\n     <g id=\"line2d_14\">\n      <g>\n       <use style=\"stroke:#000000;stroke-width:0.8;\" x=\"23.878125\" xlink:href=\"#m340f231f53\" y=\"156.69\"/>\n      </g>\n     </g>\n     <g id=\"text_14\">\n      <!-- 5 -->\n      <g transform=\"translate(14.798438 159.253281)rotate(-90)scale(0.1 -0.1)\">\n       <use xlink:href=\"#DejaVuSans-53\"/>\n      </g>\n     </g>\n    </g>\n    <g id=\"ytick_7\">\n     <g id=\"line2d_15\">\n      <g>\n       <use style=\"stroke:#000000;stroke-width:0.8;\" x=\"23.878125\" xlink:href=\"#m340f231f53\" y=\"183.87\"/>\n      </g>\n     </g>\n     <g id=\"text_15\">\n      <!-- 6 -->\n      <g transform=\"translate(14.798438 186.433281)rotate(-90)scale(0.1 -0.1)\">\n       <use xlink:href=\"#DejaVuSans-54\"/>\n      </g>\n     </g>\n    </g>\n    <g id=\"ytick_8\">\n     <g id=\"line2d_16\">\n      <g>\n       <use style=\"stroke:#000000;stroke-width:0.8;\" x=\"23.878125\" xlink:href=\"#m340f231f53\" y=\"211.05\"/>\n      </g>\n     </g>\n     <g id=\"text_16\">\n      <!-- 7 -->\n      <g transform=\"translate(14.798438 213.613281)rotate(-90)scale(0.1 -0.1)\">\n       <use xlink:href=\"#DejaVuSans-55\"/>\n      </g>\n     </g>\n    </g>\n   </g>\n  </g>\n  <g id=\"axes_2\">\n   <g id=\"patch_3\">\n    <path clip-path=\"url(#p629f84af50)\" d=\"M 261.028125 224.64 \nL 261.028125 170.28 \nL 261.028125 61.56 \nL 261.028125 7.2 \nL 271.900125 7.2 \nL 271.900125 61.56 \nL 271.900125 170.28 \nL 271.900125 224.64 \nz\n\" style=\"fill:#ffffff;stroke:#ffffff;stroke-linejoin:miter;stroke-width:0.01;\"/>\n   </g>\n   <g id=\"QuadMesh_2\">\n    <path clip-path=\"url(#p629f84af50)\" d=\"M 261.028125 224.64 \nL 271.900125 224.64 \nL 271.900125 170.28 \nL 261.028125 170.28 \nL 261.028125 224.64 \n\" style=\"fill:#00cc00;\"/>\n    <path clip-path=\"url(#p629f84af50)\" d=\"M 261.028125 170.28 \nL 271.900125 170.28 \nL 271.900125 115.92 \nL 261.028125 115.92 \nL 261.028125 170.28 \n\" style=\"fill:#005500;\"/>\n    <path clip-path=\"url(#p629f84af50)\" d=\"M 261.028125 115.92 \nL 271.900125 115.92 \nL 271.900125 61.56 \nL 261.028125 61.56 \nL 261.028125 115.92 \n\" style=\"fill:#0000cc;\"/>\n    <path clip-path=\"url(#p629f84af50)\" d=\"M 261.028125 61.56 \nL 271.900125 61.56 \nL 271.900125 7.2 \nL 261.028125 7.2 \nL 261.028125 61.56 \n\" style=\"fill:#cccc66;\"/>\n   </g>\n   <g id=\"matplotlib.axis_3\"/>\n   <g id=\"matplotlib.axis_4\">\n    <g id=\"ytick_9\">\n     <g id=\"line2d_17\">\n      <defs>\n       <path d=\"M 0 0 \nL 3.5 0 \n\" id=\"mc73a1998a2\" style=\"stroke:#000000;stroke-width:0.8;\"/>\n      </defs>\n      <g>\n       <use style=\"stroke:#000000;stroke-width:0.8;\" x=\"271.900125\" xlink:href=\"#mc73a1998a2\" y=\"197.46\"/>\n      </g>\n     </g>\n     <g id=\"text_17\">\n      <!-- grass -->\n      <g transform=\"translate(278.900125 201.259219)scale(0.1 -0.1)\">\n       <defs>\n        <path d=\"M 45.40625 27.984375 \nQ 45.40625 37.75 41.375 43.109375 \nQ 37.359375 48.484375 30.078125 48.484375 \nQ 22.859375 48.484375 18.828125 43.109375 \nQ 14.796875 37.75 14.796875 27.984375 \nQ 14.796875 18.265625 18.828125 12.890625 \nQ 22.859375 7.515625 30.078125 7.515625 \nQ 37.359375 7.515625 41.375 12.890625 \nQ 45.40625 18.265625 45.40625 27.984375 \nz\nM 54.390625 6.78125 \nQ 54.390625 -7.171875 48.1875 -13.984375 \nQ 42 -20.796875 29.203125 -20.796875 \nQ 24.46875 -20.796875 20.265625 -20.09375 \nQ 16.0625 -19.390625 12.109375 -17.921875 \nL 12.109375 -9.1875 \nQ 16.0625 -11.328125 19.921875 -12.34375 \nQ 23.78125 -13.375 27.78125 -13.375 \nQ 36.625 -13.375 41.015625 -8.765625 \nQ 45.40625 -4.15625 45.40625 5.171875 \nL 45.40625 9.625 \nQ 42.625 4.78125 38.28125 2.390625 \nQ 33.9375 0 27.875 0 \nQ 17.828125 0 11.671875 7.65625 \nQ 5.515625 15.328125 5.515625 27.984375 \nQ 5.515625 40.671875 11.671875 48.328125 \nQ 17.828125 56 27.875 56 \nQ 33.9375 56 38.28125 53.609375 \nQ 42.625 51.21875 45.40625 46.390625 \nL 45.40625 54.6875 \nL 54.390625 54.6875 \nz\n\" id=\"DejaVuSans-103\"/>\n        <path d=\"M 41.109375 46.296875 \nQ 39.59375 47.171875 37.8125 47.578125 \nQ 36.03125 48 33.890625 48 \nQ 26.265625 48 22.1875 43.046875 \nQ 18.109375 38.09375 18.109375 28.8125 \nL 18.109375 0 \nL 9.078125 0 \nL 9.078125 54.6875 \nL 18.109375 54.6875 \nL 18.109375 46.1875 \nQ 20.953125 51.171875 25.484375 53.578125 \nQ 30.03125 56 36.53125 56 \nQ 37.453125 56 38.578125 55.875 \nQ 39.703125 55.765625 41.0625 55.515625 \nz\n\" id=\"DejaVuSans-114\"/>\n        <path d=\"M 34.28125 27.484375 \nQ 23.390625 27.484375 19.1875 25 \nQ 14.984375 22.515625 14.984375 16.5 \nQ 14.984375 11.71875 18.140625 8.90625 \nQ 21.296875 6.109375 26.703125 6.109375 \nQ 34.1875 6.109375 38.703125 11.40625 \nQ 43.21875 16.703125 43.21875 25.484375 \nL 43.21875 27.484375 \nz\nM 52.203125 31.203125 \nL 52.203125 0 \nL 43.21875 0 \nL 43.21875 8.296875 \nQ 40.140625 3.328125 35.546875 0.953125 \nQ 30.953125 -1.421875 24.3125 -1.421875 \nQ 15.921875 -1.421875 10.953125 3.296875 \nQ 6 8.015625 6 15.921875 \nQ 6 25.140625 12.171875 29.828125 \nQ 18.359375 34.515625 30.609375 34.515625 \nL 43.21875 34.515625 \nL 43.21875 35.40625 \nQ 43.21875 41.609375 39.140625 45 \nQ 35.0625 48.390625 27.6875 48.390625 \nQ 23 48.390625 18.546875 47.265625 \nQ 14.109375 46.140625 10.015625 43.890625 \nL 10.015625 52.203125 \nQ 14.9375 54.109375 19.578125 55.046875 \nQ 24.21875 56 28.609375 56 \nQ 40.484375 56 46.34375 49.84375 \nQ 52.203125 43.703125 52.203125 31.203125 \nz\n\" id=\"DejaVuSans-97\"/>\n        <path d=\"M 44.28125 53.078125 \nL 44.28125 44.578125 \nQ 40.484375 46.53125 36.375 47.5 \nQ 32.28125 48.484375 27.875 48.484375 \nQ 21.1875 48.484375 17.84375 46.4375 \nQ 14.5 44.390625 14.5 40.28125 \nQ 14.5 37.15625 16.890625 35.375 \nQ 19.28125 33.59375 26.515625 31.984375 \nL 29.59375 31.296875 \nQ 39.15625 29.25 43.1875 25.515625 \nQ 47.21875 21.78125 47.21875 15.09375 \nQ 47.21875 7.46875 41.1875 3.015625 \nQ 35.15625 -1.421875 24.609375 -1.421875 \nQ 20.21875 -1.421875 15.453125 -0.5625 \nQ 10.6875 0.296875 5.421875 2 \nL 5.421875 11.28125 \nQ 10.40625 8.6875 15.234375 7.390625 \nQ 20.0625 6.109375 24.8125 6.109375 \nQ 31.15625 6.109375 34.5625 8.28125 \nQ 37.984375 10.453125 37.984375 14.40625 \nQ 37.984375 18.0625 35.515625 20.015625 \nQ 33.0625 21.96875 24.703125 23.78125 \nL 21.578125 24.515625 \nQ 13.234375 26.265625 9.515625 29.90625 \nQ 5.8125 33.546875 5.8125 39.890625 \nQ 5.8125 47.609375 11.28125 51.796875 \nQ 16.75 56 26.8125 56 \nQ 31.78125 56 36.171875 55.265625 \nQ 40.578125 54.546875 44.28125 53.078125 \nz\n\" id=\"DejaVuSans-115\"/>\n       </defs>\n       <use xlink:href=\"#DejaVuSans-103\"/>\n       <use x=\"63.476562\" xlink:href=\"#DejaVuSans-114\"/>\n       <use x=\"104.589844\" xlink:href=\"#DejaVuSans-97\"/>\n       <use x=\"165.869141\" xlink:href=\"#DejaVuSans-115\"/>\n       <use x=\"217.96875\" xlink:href=\"#DejaVuSans-115\"/>\n      </g>\n     </g>\n    </g>\n    <g id=\"ytick_10\">\n     <g id=\"line2d_18\">\n      <g>\n       <use style=\"stroke:#000000;stroke-width:0.8;\" x=\"271.900125\" xlink:href=\"#mc73a1998a2\" y=\"143.1\"/>\n      </g>\n     </g>\n     <g id=\"text_18\">\n      <!-- tree -->\n      <g transform=\"translate(278.900125 146.899219)scale(0.1 -0.1)\">\n       <defs>\n        <path d=\"M 18.3125 70.21875 \nL 18.3125 54.6875 \nL 36.8125 54.6875 \nL 36.8125 47.703125 \nL 18.3125 47.703125 \nL 18.3125 18.015625 \nQ 18.3125 11.328125 20.140625 9.421875 \nQ 21.96875 7.515625 27.59375 7.515625 \nL 36.8125 7.515625 \nL 36.8125 0 \nL 27.59375 0 \nQ 17.1875 0 13.234375 3.875 \nQ 9.28125 7.765625 9.28125 18.015625 \nL 9.28125 47.703125 \nL 2.6875 47.703125 \nL 2.6875 54.6875 \nL 9.28125 54.6875 \nL 9.28125 70.21875 \nz\n\" id=\"DejaVuSans-116\"/>\n        <path d=\"M 56.203125 29.59375 \nL 56.203125 25.203125 \nL 14.890625 25.203125 \nQ 15.484375 15.921875 20.484375 11.0625 \nQ 25.484375 6.203125 34.421875 6.203125 \nQ 39.59375 6.203125 44.453125 7.46875 \nQ 49.3125 8.734375 54.109375 11.28125 \nL 54.109375 2.78125 \nQ 49.265625 0.734375 44.1875 -0.34375 \nQ 39.109375 -1.421875 33.890625 -1.421875 \nQ 20.796875 -1.421875 13.15625 6.1875 \nQ 5.515625 13.8125 5.515625 26.8125 \nQ 5.515625 40.234375 12.765625 48.109375 \nQ 20.015625 56 32.328125 56 \nQ 43.359375 56 49.78125 48.890625 \nQ 56.203125 41.796875 56.203125 29.59375 \nz\nM 47.21875 32.234375 \nQ 47.125 39.59375 43.09375 43.984375 \nQ 39.0625 48.390625 32.421875 48.390625 \nQ 24.90625 48.390625 20.390625 44.140625 \nQ 15.875 39.890625 15.1875 32.171875 \nz\n\" id=\"DejaVuSans-101\"/>\n       </defs>\n       <use xlink:href=\"#DejaVuSans-116\"/>\n       <use x=\"39.208984\" xlink:href=\"#DejaVuSans-114\"/>\n       <use x=\"78.072266\" xlink:href=\"#DejaVuSans-101\"/>\n       <use x=\"139.595703\" xlink:href=\"#DejaVuSans-101\"/>\n      </g>\n     </g>\n    </g>\n    <g id=\"ytick_11\">\n     <g id=\"line2d_19\">\n      <g>\n       <use style=\"stroke:#000000;stroke-width:0.8;\" x=\"271.900125\" xlink:href=\"#mc73a1998a2\" y=\"88.74\"/>\n      </g>\n     </g>\n     <g id=\"text_19\">\n      <!-- water -->\n      <g transform=\"translate(278.900125 92.539219)scale(0.1 -0.1)\">\n       <defs>\n        <path d=\"M 4.203125 54.6875 \nL 13.1875 54.6875 \nL 24.421875 12.015625 \nL 35.59375 54.6875 \nL 46.1875 54.6875 \nL 57.421875 12.015625 \nL 68.609375 54.6875 \nL 77.59375 54.6875 \nL 63.28125 0 \nL 52.6875 0 \nL 40.921875 44.828125 \nL 29.109375 0 \nL 18.5 0 \nz\n\" id=\"DejaVuSans-119\"/>\n       </defs>\n       <use xlink:href=\"#DejaVuSans-119\"/>\n       <use x=\"81.787109\" xlink:href=\"#DejaVuSans-97\"/>\n       <use x=\"143.066406\" xlink:href=\"#DejaVuSans-116\"/>\n       <use x=\"182.275391\" xlink:href=\"#DejaVuSans-101\"/>\n       <use x=\"243.798828\" xlink:href=\"#DejaVuSans-114\"/>\n      </g>\n     </g>\n    </g>\n    <g id=\"ytick_12\">\n     <g id=\"line2d_20\">\n      <g>\n       <use style=\"stroke:#000000;stroke-width:0.8;\" x=\"271.900125\" xlink:href=\"#mc73a1998a2\" y=\"34.38\"/>\n      </g>\n     </g>\n     <g id=\"text_20\">\n      <!-- road -->\n      <g transform=\"translate(278.900125 38.179219)scale(0.1 -0.1)\">\n       <defs>\n        <path d=\"M 30.609375 48.390625 \nQ 23.390625 48.390625 19.1875 42.75 \nQ 14.984375 37.109375 14.984375 27.296875 \nQ 14.984375 17.484375 19.15625 11.84375 \nQ 23.34375 6.203125 30.609375 6.203125 \nQ 37.796875 6.203125 41.984375 11.859375 \nQ 46.1875 17.53125 46.1875 27.296875 \nQ 46.1875 37.015625 41.984375 42.703125 \nQ 37.796875 48.390625 30.609375 48.390625 \nz\nM 30.609375 56 \nQ 42.328125 56 49.015625 48.375 \nQ 55.71875 40.765625 55.71875 27.296875 \nQ 55.71875 13.875 49.015625 6.21875 \nQ 42.328125 -1.421875 30.609375 -1.421875 \nQ 18.84375 -1.421875 12.171875 6.21875 \nQ 5.515625 13.875 5.515625 27.296875 \nQ 5.515625 40.765625 12.171875 48.375 \nQ 18.84375 56 30.609375 56 \nz\n\" id=\"DejaVuSans-111\"/>\n        <path d=\"M 45.40625 46.390625 \nL 45.40625 75.984375 \nL 54.390625 75.984375 \nL 54.390625 0 \nL 45.40625 0 \nL 45.40625 8.203125 \nQ 42.578125 3.328125 38.25 0.953125 \nQ 33.9375 -1.421875 27.875 -1.421875 \nQ 17.96875 -1.421875 11.734375 6.484375 \nQ 5.515625 14.40625 5.515625 27.296875 \nQ 5.515625 40.1875 11.734375 48.09375 \nQ 17.96875 56 27.875 56 \nQ 33.9375 56 38.25 53.625 \nQ 42.578125 51.265625 45.40625 46.390625 \nz\nM 14.796875 27.296875 \nQ 14.796875 17.390625 18.875 11.75 \nQ 22.953125 6.109375 30.078125 6.109375 \nQ 37.203125 6.109375 41.296875 11.75 \nQ 45.40625 17.390625 45.40625 27.296875 \nQ 45.40625 37.203125 41.296875 42.84375 \nQ 37.203125 48.484375 30.078125 48.484375 \nQ 22.953125 48.484375 18.875 42.84375 \nQ 14.796875 37.203125 14.796875 27.296875 \nz\n\" id=\"DejaVuSans-100\"/>\n       </defs>\n       <use xlink:href=\"#DejaVuSans-114\"/>\n       <use x=\"38.863281\" xlink:href=\"#DejaVuSans-111\"/>\n       <use x=\"100.044922\" xlink:href=\"#DejaVuSans-97\"/>\n       <use x=\"161.324219\" xlink:href=\"#DejaVuSans-100\"/>\n      </g>\n     </g>\n    </g>\n   </g>\n   <g id=\"patch_4\">\n    <path d=\"M 261.028125 224.64 \nL 261.028125 170.28 \nL 261.028125 61.56 \nL 261.028125 7.2 \nL 271.900125 7.2 \nL 271.900125 61.56 \nL 271.900125 170.28 \nL 271.900125 224.64 \nz\n\" style=\"fill:none;\"/>\n   </g>\n  </g>\n </g>\n <defs>\n  <clipPath id=\"p0d649b531e\">\n   <rect height=\"217.44\" width=\"223.2\" x=\"23.878125\" y=\"7.2\"/>\n  </clipPath>\n  <clipPath id=\"p629f84af50\">\n   <rect height=\"217.44\" width=\"10.872\" x=\"261.028125\" y=\"7.2\"/>\n  </clipPath>\n </defs>\n</svg>\n"
     },
     "metadata": {
      "needs_background": "light"
     }
    }
   ],
   "metadata": {}
  },
  {
   "cell_type": "markdown",
   "source": [
    "# Thank You!"
   ],
   "metadata": {}
  },
  {
   "cell_type": "code",
   "execution_count": null,
   "source": [],
   "outputs": [],
   "metadata": {}
  }
 ],
 "metadata": {
  "kernelspec": {
   "display_name": "Python 3 (ipykernel)",
   "language": "python",
   "name": "python3"
  },
  "language_info": {
   "codemirror_mode": {
    "name": "ipython",
    "version": 3
   },
   "file_extension": ".py",
   "mimetype": "text/x-python",
   "name": "python",
   "nbconvert_exporter": "python",
   "pygments_lexer": "ipython3",
   "version": "3.7.10-final"
  }
 },
 "nbformat": 4,
 "nbformat_minor": 5
}