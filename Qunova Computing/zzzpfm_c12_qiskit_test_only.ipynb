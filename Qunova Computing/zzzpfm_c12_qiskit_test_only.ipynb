{
 "cells": [
  {
   "cell_type": "code",
   "execution_count": 1,
   "metadata": {},
   "outputs": [],
   "source": [
    "import qiskit\n",
    "import numpy as np\n",
    "\n",
    "from utils import LoadData\n",
    "from QVC import VariationalClassifier\n",
    "from qiskit.circuit.library import PauliFeatureMap"
   ]
  },
  {
   "cell_type": "code",
   "execution_count": 2,
   "metadata": {},
   "outputs": [
    {
     "name": "stdout",
     "output_type": "stream",
     "text": [
      "     ┌───┐┌──────────┐                                       ┌───┐»\n",
      "q_0: ┤ H ├┤ U1(x[0]) ├──■─────────────────────────────────■──┤ H ├»\n",
      "     ├───┤├──────────┤┌─┴─┐┌───────────────────────────┐┌─┴─┐└───┘»\n",
      "q_1: ┤ H ├┤ U1(x[1]) ├┤ X ├┤ U1((π - x[0])*(π - x[1])) ├┤ X ├──■──»\n",
      "     ├───┤├──────────┤└───┘└───────────────────────────┘└───┘┌─┴─┐»\n",
      "q_2: ┤ H ├┤ U1(x[2]) ├───────────────────────────────────────┤ X ├»\n",
      "     └───┘└──────────┘                                       └───┘»\n",
      "«              ┌──────────┐                                   »\n",
      "«q_0: ─────────┤ U1(x[0]) ├────────────────────────────────■──»\n",
      "«              └──────────┘             ┌───┐┌──────────┐┌─┴─┐»\n",
      "«q_1: ───────────────────────────────■──┤ H ├┤ U1(x[1]) ├┤ X ├»\n",
      "«     ┌───────────────────────────┐┌─┴─┐├───┤├──────────┤└───┘»\n",
      "«q_2: ┤ U1((π - x[1])*(π - x[2])) ├┤ X ├┤ H ├┤ U1(x[2]) ├─────»\n",
      "«     └───────────────────────────┘└───┘└───┘└──────────┘     »\n",
      "«                                                                              \n",
      "«q_0: ───────────────────────────────■─────────────────────────────────────────\n",
      "«     ┌───────────────────────────┐┌─┴─┐                                       \n",
      "«q_1: ┤ U1((π - x[0])*(π - x[1])) ├┤ X ├──■─────────────────────────────────■──\n",
      "«     └───────────────────────────┘└───┘┌─┴─┐┌───────────────────────────┐┌─┴─┐\n",
      "«q_2: ──────────────────────────────────┤ X ├┤ U1((π - x[1])*(π - x[2])) ├┤ X ├\n",
      "«                                       └───┘└───────────────────────────┘└───┘\n"
     ]
    }
   ],
   "source": [
    "# Define quantum feature map\n",
    "qfm = PauliFeatureMap(feature_dimension = 3,\n",
    "                      reps = 2,\n",
    "                      entanglement = 'linear',\n",
    "                      alpha = 1,\n",
    "                      paulis = ['Z', 'ZZ'])\n",
    "print(qfm)"
   ]
  },
  {
   "cell_type": "code",
   "execution_count": 3,
   "metadata": {},
   "outputs": [
    {
     "data": {
      "text/plain": "     ┌──────────────┐┌──────────────┐   ┌──────────────┐┌───────────────┐   »\nq_0: ┤ Ry(theta[0]) ├┤ Rz(theta[2]) ├─■─┤ Ry(theta[8]) ├┤ Rz(theta[10]) ├───»\n     ├──────────────┤├──────────────┤ │ ├──────────────┤└┬──────────────┤   »\nq_1: ┤ Ry(theta[1]) ├┤ Rz(theta[3]) ├─■─┤ Ry(theta[4]) ├─┤ Rz(theta[6]) ├─■─»\n     ├──────────────┤├──────────────┤   └──────────────┘ └──────────────┘ │ »\nq_2: ┤ Ry(theta[5]) ├┤ Rz(theta[7]) ├─────────────────────────────────────■─»\n     └──────────────┘└──────────────┘                                       »\n«                                                                            »\n«q_0: ───────────────────────────────────■───────────────────────────────────»\n«      ┌──────────────┐┌───────────────┐ │ ┌───────────────┐┌───────────────┐»\n«q_1: ─┤ Ry(theta[9]) ├┤ Rz(theta[11]) ├─■─┤ Ry(theta[12]) ├┤ Rz(theta[14]) ├»\n«     ┌┴──────────────┤├───────────────┤   └───────────────┘└───────────────┘»\n«q_2: ┤ Ry(theta[13]) ├┤ Rz(theta[15]) ├─────────────────────────────────────»\n«     └───────────────┘└───────────────┘                                     »\n«        \n«q_0: ───\n«        \n«q_1: ─■─\n«      │ \n«q_2: ─■─\n«        ",
      "text/html": "<pre style=\"word-wrap: normal;white-space: pre;background: #fff0;line-height: 1.1;font-family: &quot;Courier New&quot;,Courier,monospace\">     ┌──────────────┐┌──────────────┐   ┌──────────────┐┌───────────────┐   »\nq_0: ┤ Ry(theta[0]) ├┤ Rz(theta[2]) ├─■─┤ Ry(theta[8]) ├┤ Rz(theta[10]) ├───»\n     ├──────────────┤├──────────────┤ │ ├──────────────┤└┬──────────────┤   »\nq_1: ┤ Ry(theta[1]) ├┤ Rz(theta[3]) ├─■─┤ Ry(theta[4]) ├─┤ Rz(theta[6]) ├─■─»\n     ├──────────────┤├──────────────┤   └──────────────┘ └──────────────┘ │ »\nq_2: ┤ Ry(theta[5]) ├┤ Rz(theta[7]) ├─────────────────────────────────────■─»\n     └──────────────┘└──────────────┘                                       »\n«                                                                            »\n«q_0: ───────────────────────────────────■───────────────────────────────────»\n«      ┌──────────────┐┌───────────────┐ │ ┌───────────────┐┌───────────────┐»\n«q_1: ─┤ Ry(theta[9]) ├┤ Rz(theta[11]) ├─■─┤ Ry(theta[12]) ├┤ Rz(theta[14]) ├»\n«     ┌┴──────────────┤├───────────────┤   └───────────────┘└───────────────┘»\n«q_2: ┤ Ry(theta[13]) ├┤ Rz(theta[15]) ├─────────────────────────────────────»\n«     └───────────────┘└───────────────┘                                     »\n«        \n«q_0: ───\n«        \n«q_1: ─■─\n«      │ \n«q_2: ─■─\n«        </pre>"
     },
     "execution_count": 3,
     "metadata": {},
     "output_type": "execute_result"
    }
   ],
   "source": [
    "# Define variational circuit\n",
    "vc = qiskit.circuit.QuantumCircuit(3)\n",
    "vcpv = qiskit.circuit.ParameterVector('theta', 16)\n",
    "for i in range(2):\n",
    "    vc.ry(vcpv[0+8*i] , 0)\n",
    "    vc.ry(vcpv[1+8*i] , 1)\n",
    "    vc.rz(vcpv[2+8*i] , 0)\n",
    "    vc.rz(vcpv[3+8*i] , 1)\n",
    "    vc.cz(0, 1)\n",
    "    vc.ry(vcpv[4+8*i] , 1)\n",
    "    vc.ry(vcpv[5+8*i] , 2)\n",
    "    vc.rz(vcpv[6+8*i] , 1)\n",
    "    vc.rz(vcpv[7+8*i] , 2)\n",
    "    vc.cz(1, 2)\n",
    "vc.draw()"
   ]
  },
  {
   "cell_type": "code",
   "execution_count": 4,
   "metadata": {},
   "outputs": [],
   "source": [
    "# Define boolean function\n",
    "def bf(bs):\n",
    "    if len([i for i in bs if i == '0']) > len([i for i in bs if i == '1']):\n",
    "        return 1\n",
    "    else:\n",
    "        return -1"
   ]
  },
  {
   "cell_type": "code",
   "execution_count": 5,
   "metadata": {},
   "outputs": [],
   "source": [
    "# Load Data\n",
    "TrainData, TrainLabels, TestData, TestLabels = LoadData(0.2, 3, seed=30)"
   ]
  },
  {
   "cell_type": "code",
   "execution_count": 6,
   "metadata": {},
   "outputs": [],
   "source": [
    "# Make classifier and train it\n",
    "qvc = VariationalClassifier(qfm, vc, bf, False)\n",
    "opt_param = np.load('./npy_files/Optimal_param_zzpfmc12_qiskit.npy')\n",
    "qvc.optimal_params=opt_param"
   ]
  },
  {
   "cell_type": "code",
   "execution_count": 11,
   "metadata": {},
   "outputs": [
    {
     "name": "stdout",
     "output_type": "stream",
     "text": [
      "(0.6190476190476191, [0.1954, 0.1309, 0.899, 0.7103, 0.3968, 0.7149, 0.7698, 0.5595, 0.9376, 0.4131, 0.7911, 0.5107, 0.5215, 0.257, 0.3021, 0.8133, 0.6386, 0.6682, 0.3568, 0.6474, 0.3541], [False, False, True, True, False, True, True, True, True, False, True, True, True, False, False, True, True, True, False, True, False])\n"
     ]
    }
   ],
   "source": [
    "print(qvc.test(TestData, (-1)**TestLabels, verbose=True))"
   ]
  },
  {
   "cell_type": "code",
   "execution_count": 8,
   "metadata": {},
   "outputs": [
    {
     "name": "stdout",
     "output_type": "stream",
     "text": [
      "0.8271604938271605\n"
     ]
    }
   ],
   "source": [
    "print(qvc.test(TrainData, (-1)**TrainLabels, verbose=True))"
   ]
  },
  {
   "cell_type": "code",
   "execution_count": 9,
   "metadata": {},
   "outputs": [
    {
     "data": {
      "text/plain": "21"
     },
     "execution_count": 9,
     "metadata": {},
     "output_type": "execute_result"
    }
   ],
   "source": [
    "len(TestData)"
   ]
  },
  {
   "cell_type": "code",
   "execution_count": 10,
   "metadata": {
    "pycharm": {
     "name": "#%%\n"
    }
   },
   "outputs": [
    {
     "data": {
      "text/plain": "81"
     },
     "execution_count": 10,
     "metadata": {},
     "output_type": "execute_result"
    }
   ],
   "source": [
    "len(TrainData)"
   ]
  }
 ],
 "metadata": {
  "kernelspec": {
   "display_name": "Python 3",
   "language": "python",
   "name": "python3"
  },
  "language_info": {
   "codemirror_mode": {
    "name": "ipython",
    "version": 3
   },
   "file_extension": ".py",
   "mimetype": "text/x-python",
   "name": "python",
   "nbconvert_exporter": "python",
   "pygments_lexer": "ipython3",
   "version": "3.8.3"
  }
 },
 "nbformat": 4,
 "nbformat_minor": 4
}