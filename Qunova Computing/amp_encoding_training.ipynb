{
 "cells": [
  {
   "cell_type": "markdown",
   "metadata": {
    "collapsed": true,
    "pycharm": {
     "name": "#%% md\n"
    }
   },
   "source": [
    "We demonstrate the same frameworks but replacing the embedding scheme to amplitude encoding which is given from the\n",
    "[skeleton code](./rigetti_resources/Amplitude%20Encoding.ipynb).\n",
    "\n",
    "The detail implementation can be found in [pyquil_circuits.py](./pyquil_circuits.py#L161).\n"
   ]
  },
  {
   "cell_type": "code",
   "execution_count": 1,
   "outputs": [],
   "source": [
    "import numpy as np\n",
    "from pyquil_circuits import AmplitudeEncoding, VariationalCircuit\n",
    "from QVC import PyquilVariationalClassifier\n",
    "from utils import load_data, bf, zero_padding"
   ],
   "metadata": {
    "collapsed": false,
    "pycharm": {
     "name": "#%%\n"
    }
   }
  },
  {
   "cell_type": "markdown",
   "source": [
    "The number of amplitudes should be the power of 2. In case the feature dimension is not the power of 2,\n",
    "we put zero padding."
   ],
   "metadata": {
    "collapsed": false,
    "pycharm": {
     "name": "#%% md\n"
    }
   }
  },
  {
   "cell_type": "code",
   "execution_count": 2,
   "outputs": [
    {
     "name": "stdout",
     "output_type": "stream",
     "text": [
      "DECLARE beta REAL[3]\n",
      "RY(beta[2]) 1\n",
      "CONTROLLED RY(beta[1]) 1 0\n",
      "X 1\n",
      "CONTROLLED RY(beta[0]) 1 0\n",
      "X 1\n",
      "DECLARE ro BIT[2]\n",
      "MEASURE 0 ro[0]\n",
      "MEASURE 1 ro[1]\n",
      "\n"
     ]
    }
   ],
   "source": [
    "qfm = AmplitudeEncoding(num_amps=4)\n",
    "print(qfm.circuit)"
   ],
   "metadata": {
    "collapsed": false,
    "pycharm": {
     "name": "#%%\n"
    }
   }
  },
  {
   "cell_type": "markdown",
   "source": [
    "Declare the variational circuit. We put 4 amplitudes into two qubits."
   ],
   "metadata": {
    "collapsed": false,
    "pycharm": {
     "name": "#%% md\n"
    }
   }
  },
  {
   "cell_type": "code",
   "execution_count": 3,
   "outputs": [
    {
     "name": "stdout",
     "output_type": "stream",
     "text": [
      "DECLARE param REAL[8]\n",
      "RY(param[0]) 0\n",
      "RY(param[1]) 1\n",
      "RZ(param[2]) 0\n",
      "RZ(param[3]) 1\n",
      "CZ 0 1\n",
      "RY(param[4]) 0\n",
      "RY(param[5]) 1\n",
      "RZ(param[6]) 0\n",
      "RZ(param[7]) 1\n",
      "CZ 0 1\n",
      "DECLARE ro BIT[2]\n",
      "MEASURE 0 ro[0]\n",
      "MEASURE 1 ro[1]\n",
      "\n"
     ]
    }
   ],
   "source": [
    "vc = VariationalCircuit(num_qubits=2, rep=2)\n",
    "print(vc.circuit)"
   ],
   "metadata": {
    "collapsed": false,
    "pycharm": {
     "name": "#%%\n"
    }
   }
  },
  {
   "cell_type": "markdown",
   "source": [
    "We load the data with the number of principal component of 3.\n",
    "Also, we divide the data into the training data(80%) and test data(20%). Specifying the random seed, we can repeat the experiment with the same condition.\n",
    "The number of amplitudes is 4 in qfm, we put zero padding."
   ],
   "metadata": {
    "collapsed": false,
    "pycharm": {
     "name": "#%% md\n"
    }
   }
  },
  {
   "cell_type": "code",
   "execution_count": 4,
   "outputs": [
    {
     "name": "stdout",
     "output_type": "stream",
     "text": [
      "# of training data = 81\n",
      "# of test data     = 21\n",
      "dimension of data  = 3\n",
      "dimension of padded data  = 4\n"
     ]
    }
   ],
   "source": [
    "seed = 30\n",
    "train_data, train_labels, test_data, test_labels = load_data(test_size=0.2, num_PCs=3, seed=seed)\n",
    "print(f\"# of training data = {len(train_data)}\")\n",
    "print(f\"# of test data     = {len(test_data)}\")\n",
    "print(f\"dimension of data  = {train_data.shape[1]}\")\n",
    "train_data = zero_padding(train_data, 4)\n",
    "test_data = zero_padding(test_data, 4)\n",
    "print(f\"dimension of padded data  = {train_data.shape[1]}\")"
   ],
   "metadata": {
    "collapsed": false,
    "pycharm": {
     "name": "#%%\n"
    }
   }
  },
  {
   "cell_type": "code",
   "execution_count": 5,
   "outputs": [],
   "source": [
    "qvc = PyquilVariationalClassifier(qfm, vc, bool_ftn=bf, use_bias=False)"
   ],
   "metadata": {
    "collapsed": false,
    "pycharm": {
     "name": "#%%\n"
    }
   }
  },
  {
   "cell_type": "markdown",
   "source": [
    "Start training. To reduce the time, we limited the spsa iterations to 20.\n",
    "To monitor the process, you can use `tensorboard`.\n",
    "`tensorboard --logdir=./runs/zzzpfm_c12v3_zzzpfm_c12v3_pyquil_amp_enc`"
   ],
   "metadata": {
    "collapsed": false,
    "pycharm": {
     "name": "#%% md\n"
    }
   }
  },
  {
   "cell_type": "code",
   "execution_count": null,
   "outputs": [
    {
     "name": "stdout",
     "output_type": "stream",
     "text": [
      "Start training\n"
     ]
    }
   ],
   "source": [
    "print(\"Start training\")\n",
    "\n",
    "point, value, nfev = qvc.train(train_data, (-1) ** train_labels, 'zzzpfm_c12v3_pyquil_amp_enc',\n",
    "                               test_data=test_data, test_label=(-1) ** test_labels,\n",
    "                               spsa_maxiter=20)\n",
    "print(\"Training Done\")\n",
    "print(f\"optimal params       = {point}\")\n",
    "print(f\"final training loss  = {value}\")\n",
    "print(f\"function evaluations = {nfev}\")"
   ],
   "metadata": {
    "collapsed": false,
    "pycharm": {
     "name": "#%%\n",
     "is_executing": true
    }
   }
  },
  {
   "cell_type": "markdown",
   "source": [
    "Save the training result"
   ],
   "metadata": {
    "collapsed": false,
    "pycharm": {
     "name": "#%% md\n"
    }
   }
  },
  {
   "cell_type": "code",
   "execution_count": null,
   "outputs": [],
   "source": [
    "np.save('./npy_files/TrainData_zzpfmc12_pyquil_amp_enc.npy', train_data)\n",
    "np.save('./npy_files/TestData_zzpfmc12_pyquil_amp_enc.npy', test_data)\n",
    "np.save('./npy_files/TrainLabels_zzpfmc12_pyquil_amp_enc.npy', train_labels)\n",
    "np.save('./npy_files/TestLabels_zzpfmc12_pyquil_amp_enc.npy', test_labels)\n",
    "np.save('./npy_files/Optimal_param_zzpfmc12_pyquil_amp_enc.npy', point)"
   ],
   "metadata": {
    "collapsed": false,
    "pycharm": {
     "name": "#%%\n",
     "is_executing": true
    }
   }
  }
 ],
 "metadata": {
  "kernelspec": {
   "display_name": "Python 3",
   "language": "python",
   "name": "python3"
  },
  "language_info": {
   "codemirror_mode": {
    "name": "ipython",
    "version": 2
   },
   "file_extension": ".py",
   "mimetype": "text/x-python",
   "name": "python",
   "nbconvert_exporter": "python",
   "pygments_lexer": "ipython2",
   "version": "2.7.6"
  }
 },
 "nbformat": 4,
 "nbformat_minor": 0
}