{
 "cells": [
  {
   "cell_type": "markdown",
   "source": [
    "This notebook scripts demonstrates the training process of the model introduced at [arXiv:2001.03622](https://arxiv.org/abs/2001.03622).\n",
    "The model consists of two parts, which are quantum embedding and variational classifier."
   ],
   "metadata": {
    "collapsed": false,
    "pycharm": {
     "name": "#%% md\n"
    }
   }
  },
  {
   "cell_type": "code",
   "execution_count": 1,
   "metadata": {
    "collapsed": true
   },
   "outputs": [],
   "source": [
    "import numpy as np\n",
    "from pyquil_circuits import PauliFeatureMap, VariationalCircuit\n",
    "from QVC import PyquilVariationalClassifier\n",
    "from utils import load_data, bf"
   ]
  },
  {
   "cell_type": "markdown",
   "source": [
    "We employ the quantum embedding part with Pauli feature map, represented at [arXiv:1804.11326](https://arxiv.org/abs/1804.11326).\n",
    "You can find our implementation of the pauli feature map [here](https://github.com/QuNovaComputing/Hackathon2021/blob/qunovacomputing/Qunova%20Computing/pyquil_circuits.py#L101).\n",
    "We have the dataset with the dimension of 3, we put 3 as the number of qubits."
   ],
   "metadata": {
    "collapsed": false,
    "pycharm": {
     "name": "#%% md\n"
    }
   }
  },
  {
   "cell_type": "code",
   "execution_count": 2,
   "outputs": [
    {
     "name": "stdout",
     "output_type": "stream",
     "text": [
      "DECLARE data REAL[3]\n",
      "H 0\n",
      "RZ(data[0]) 0\n",
      "H 1\n",
      "RZ(data[1]) 1\n",
      "H 2\n",
      "RZ(data[2]) 2\n",
      "CNOT 0 1\n",
      "RZ((pi - data[0])*(pi - data[1])) 1\n",
      "CNOT 0 1\n",
      "CNOT 1 2\n",
      "RZ((pi - data[1])*(pi - data[2])) 2\n",
      "CNOT 1 2\n",
      "H 0\n",
      "RZ(data[0]) 0\n",
      "H 1\n",
      "RZ(data[1]) 1\n",
      "H 2\n",
      "RZ(data[2]) 2\n",
      "CNOT 0 1\n",
      "RZ((pi - data[0])*(pi - data[1])) 1\n",
      "CNOT 0 1\n",
      "CNOT 1 2\n",
      "RZ((pi - data[1])*(pi - data[2])) 2\n",
      "CNOT 1 2\n",
      "DECLARE ro BIT[3]\n",
      "MEASURE 0 ro[0]\n",
      "MEASURE 1 ro[1]\n",
      "MEASURE 2 ro[2]\n",
      "\n"
     ]
    }
   ],
   "source": [
    "qfm = PauliFeatureMap(num_qubits=3, rep=2)\n",
    "print(qfm.circuit)"
   ],
   "metadata": {
    "collapsed": false,
    "pycharm": {
     "name": "#%%\n"
    }
   }
  },
  {
   "cell_type": "markdown",
   "source": [
    "For the variational classifier, we used the circuit as below. The specific implementation can be found [here](https://github.com/QuNovaComputing/Hackathon2021/blob/qunovacomputing/Qunova%20Computing/pyquil_circuits.py#L130)."
   ],
   "metadata": {
    "collapsed": false,
    "pycharm": {
     "name": "#%% md\n"
    }
   }
  },
  {
   "cell_type": "code",
   "execution_count": 3,
   "outputs": [
    {
     "name": "stdout",
     "output_type": "stream",
     "text": [
      "DECLARE param REAL[16]\n",
      "RY(param[0]) 0\n",
      "RY(param[1]) 1\n",
      "RZ(param[2]) 0\n",
      "RZ(param[3]) 1\n",
      "CZ 0 1\n",
      "RY(param[4]) 1\n",
      "RY(param[5]) 2\n",
      "RZ(param[6]) 1\n",
      "RZ(param[7]) 2\n",
      "CZ 1 2\n",
      "RY(param[8]) 0\n",
      "RY(param[9]) 1\n",
      "RZ(param[10]) 0\n",
      "RZ(param[11]) 1\n",
      "CZ 0 1\n",
      "RY(param[12]) 1\n",
      "RY(param[13]) 2\n",
      "RZ(param[14]) 1\n",
      "RZ(param[15]) 2\n",
      "CZ 1 2\n",
      "DECLARE ro BIT[3]\n",
      "MEASURE 0 ro[0]\n",
      "MEASURE 1 ro[1]\n",
      "MEASURE 2 ro[2]\n",
      "\n"
     ]
    }
   ],
   "source": [
    "vc = VariationalCircuit(num_qubits=3, rep=2)\n",
    "print(vc.circuit)"
   ],
   "metadata": {
    "collapsed": false,
    "pycharm": {
     "name": "#%%\n"
    }
   }
  },
  {
   "cell_type": "markdown",
   "source": [
    "We load the data with the number of principle comonents of 3. Also, we divide the data into the training data(80%) and test data(20%).\n",
    "Specifying the random seed, we can repeat the experiment with the same condition."
   ],
   "metadata": {
    "collapsed": false,
    "pycharm": {
     "name": "#%% md\n"
    }
   }
  },
  {
   "cell_type": "code",
   "execution_count": 4,
   "outputs": [
    {
     "name": "stdout",
     "output_type": "stream",
     "text": [
      "# of training data = 81\n",
      "# of test data     = 21\n"
     ]
    }
   ],
   "source": [
    "seed = 30\n",
    "train_data, train_labels, test_data, test_labels = load_data(test_size=0.2, num_PCs=3, seed=seed)\n",
    "print(f\"# of training data = {len(train_data)}\")\n",
    "print(f\"# of test data     = {len(test_data)}\")"
   ],
   "metadata": {
    "collapsed": false,
    "pycharm": {
     "name": "#%%\n"
    }
   }
  },
  {
   "cell_type": "markdown",
   "source": [
    "Combining two parts, we construct the variational classifier."
   ],
   "metadata": {
    "collapsed": false,
    "pycharm": {
     "name": "#%% md\n"
    }
   }
  },
  {
   "cell_type": "code",
   "execution_count": 5,
   "outputs": [],
   "source": [
    "qvc = PyquilVariationalClassifier(qfm, vc, bool_ftn=bf, use_bias=False)"
   ],
   "metadata": {
    "collapsed": false,
    "pycharm": {
     "name": "#%%\n"
    }
   }
  },
  {
   "cell_type": "markdown",
   "source": [
    "Start training. We use the optimizer with [SPSA](https://qiskit.org/documentation/stubs/qiskit.algorithms.optimizers.SPSA.html),\n",
    "with initial values with [1.0, ...].\n",
    "\n",
    "To monitor the process, you can use `tensorboard`.\n",
    "`tensorboard --logdir=./runs/zzzpfm_c12v3_zzzpfm_c12v3_pyquil`"
   ],
   "metadata": {
    "collapsed": false,
    "pycharm": {
     "name": "#%% md\n"
    }
   }
  },
  {
   "cell_type": "code",
   "execution_count": 6,
   "outputs": [
    {
     "name": "stdout",
     "output_type": "stream",
     "text": [
      "Start training\n",
      "Training Done\n",
      "optimal params       = [-0.779126    2.18269376  0.04466904  0.15724436 -0.8130034   0.6916049\n",
      "  2.22174957  1.19136551  1.306887    0.42488094  0.93505012 -0.45540283\n",
      "  0.74377079  0.35898721  0.92695085  1.26341594]\n",
      "final training loss  = 0.8395061728395061\n",
      "function evaluations = 750\n"
     ]
    }
   ],
   "source": [
    "print(\"Start training\")\n",
    "\n",
    "point, value, nfev = qvc.train(train_data, (-1) ** train_labels, 'zzzpfm_c12v3_pyquil',\n",
    "                               test_data=test_data, test_label=(-1) ** test_labels,\n",
    "                               spsa_maxiter=250)\n",
    "print(\"Training Done\")\n",
    "print(f\"optimal params       = {point}\")\n",
    "print(f\"final training loss  = {value}\")\n",
    "print(f\"function evaluations = {nfev}\")"
   ],
   "metadata": {
    "collapsed": false,
    "pycharm": {
     "name": "#%%\n"
    }
   }
  },
  {
   "cell_type": "markdown",
   "source": [
    "Save the training result."
   ],
   "metadata": {
    "collapsed": false,
    "pycharm": {
     "name": "#%% md\n"
    }
   }
  },
  {
   "cell_type": "code",
   "execution_count": 7,
   "outputs": [],
   "source": [
    "np.save('./npy_files/TrainData_zzpfmc12_pyquil.npy', train_data)\n",
    "np.save('./npy_files/TestData_zzpfmc12_pyquil.npy', test_data)\n",
    "np.save('./npy_files/TrainLabels_zzpfmc12_pyquil.npy', train_labels)\n",
    "np.save('./npy_files/TestLabels_zzpfmc12_pyquil.npy', test_labels)\n",
    "np.save('./npy_files/Optimal_param_zzpfmc12_pyquil.npy', point)"
   ],
   "metadata": {
    "collapsed": false,
    "pycharm": {
     "name": "#%%\n"
    }
   }
  },
  {
   "cell_type": "markdown",
   "source": [
    "We have the training process as below. The x-axis corresponds to the iteration number, and the y-axis indicates the losses.\n",
    "\n",
    "![loss_plot.jpg](./figures/loss_plot.jpg)"
   ],
   "metadata": {
    "collapsed": false,
    "pycharm": {
     "name": "#%% md\n"
    }
   }
  }
 ],
 "metadata": {
  "kernelspec": {
   "display_name": "Python 3",
   "language": "python",
   "name": "python3"
  },
  "language_info": {
   "codemirror_mode": {
    "name": "ipython",
    "version": 2
   },
   "file_extension": ".py",
   "mimetype": "text/x-python",
   "name": "python",
   "nbconvert_exporter": "python",
   "pygments_lexer": "ipython2",
   "version": "2.7.6"
  }
 },
 "nbformat": 4,
 "nbformat_minor": 0
}