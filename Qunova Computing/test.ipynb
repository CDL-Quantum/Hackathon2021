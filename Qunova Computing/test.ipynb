{
 "cells": [
  {
   "cell_type": "code",
   "execution_count": 1,
   "metadata": {},
   "outputs": [],
   "source": [
    "import numpy as np\n",
    "\n",
    "from utils import load_data\n",
    "from QVC import PyquilVariationalClassifier\n",
    "from pyquil_circuits import PauliFeatureMap, VariationalCircuit"
   ]
  },
  {
   "cell_type": "code",
   "execution_count": 2,
   "metadata": {},
   "outputs": [],
   "source": [
    "# Define quantum feature map\n",
    "qfm = PauliFeatureMap(num_qubits=3, rep=2)\n",
    "print(qfm)"
   ]
  },
  {
   "cell_type": "code",
   "execution_count": 3,
   "metadata": {},
   "outputs": [],
   "source": [
    "# Define variational circuit\n",
    "vc = VariationalCircuit(num_qubits=3, rep=2)"
   ]
  },
  {
   "cell_type": "code",
   "execution_count": 4,
   "metadata": {},
   "outputs": [],
   "source": [
    "# Define boolean function\n",
    "def bf(bs):\n",
    "    if len([i for i in bs if i == '0']) > len([i for i in bs if i == '1']):\n",
    "        return 1\n",
    "    else:\n",
    "        return -1"
   ]
  },
  {
   "cell_type": "code",
   "execution_count": 5,
   "metadata": {},
   "outputs": [
    {
     "name": "stdout",
     "output_type": "stream",
     "text": [
      "[ 1.56636433 -0.72325934 -0.94454689  1.72973839  0.91390905  1.47260758\n",
      "  1.40753721  1.61813452  1.65474997  1.65748732  2.70052991  2.21620275\n",
      "  0.77342995 -0.57277874 -1.83137667  0.5672403 ]\n"
     ]
    }
   ],
   "source": [
    "# Load Data\n",
    "TrainData, TrainLabels, TestData, TestLabels = load_data(0.2, 3, seed=30)\n",
    "\n",
    "# Load optimized parameters\n",
    "opt_param = np.load('./npy_files/Optimal_param_zzpfmc12_qiskit.npy')\n",
    "print(opt_param)"
   ]
  },
  {
   "cell_type": "code",
   "execution_count": 6,
   "metadata": {},
   "outputs": [],
   "source": [
    "# Make classifier and load trained parameters\n",
    "qvc = PyquilVariationalClassifier(qfm, vc, bf, False)\n",
    "qvc.optimal_params = opt_param"
   ]
  },
  {
   "cell_type": "code",
   "execution_count": 7,
   "metadata": {},
   "outputs": [
    {
     "name": "stdout",
     "output_type": "stream",
     "text": [
      "(0.6190476190476191, [0.1913, 0.1251, 0.9031, 0.709, 0.4067, 0.725, 0.7762, 0.5646, 0.9401, 0.4169, 0.7979, 0.5155, 0.5207, 0.2589, 0.3026, 0.8104, 0.6318, 0.659, 0.3495, 0.6442, 0.3461], [False, False, True, True, False, True, True, True, True, False, True, True, True, False, False, True, True, True, False, True, False])\n"
     ]
    }
   ],
   "source": [
    "print(qvc.test(TestData, (-1)**TestLabels, verbose=True))"
   ]
  },
  {
   "cell_type": "code",
   "execution_count": 8,
   "metadata": {},
   "outputs": [
    {
     "name": "stdout",
     "output_type": "stream",
     "text": [
      "0.8271604938271605\n"
     ]
    }
   ],
   "source": [
    "print(qvc.test(TrainData, (-1)**TrainLabels))"
   ]
  },
  {
   "cell_type": "code",
   "execution_count": 9,
   "metadata": {},
   "outputs": [
    {
     "data": {
      "text/plain": "21"
     },
     "execution_count": 9,
     "metadata": {},
     "output_type": "execute_result"
    }
   ],
   "source": [
    "len(TestData)"
   ]
  },
  {
   "cell_type": "code",
   "execution_count": 10,
   "metadata": {
    "pycharm": {
     "name": "#%%\n"
    }
   },
   "outputs": [
    {
     "data": {
      "text/plain": "81"
     },
     "execution_count": 10,
     "metadata": {},
     "output_type": "execute_result"
    }
   ],
   "source": [
    "len(TrainData)\n"
   ]
  }
 ],
 "metadata": {
  "kernelspec": {
   "display_name": "Python 3",
   "language": "python",
   "name": "python3"
  },
  "language_info": {
   "codemirror_mode": {
    "name": "ipython",
    "version": 3
   },
   "file_extension": ".py",
   "mimetype": "text/x-python",
   "name": "python",
   "nbconvert_exporter": "python",
   "pygments_lexer": "ipython3",
   "version": "3.8.3"
  }
 },
 "nbformat": 4,
 "nbformat_minor": 4
}