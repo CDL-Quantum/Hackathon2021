{
 "cells": [
  {
   "cell_type": "markdown",
   "metadata": {
    "pycharm": {
     "name": "#%% md\n"
    }
   },
   "source": [
    "We repeat the test, with Aspen-9 backend."
   ]
  },
  {
   "cell_type": "code",
   "execution_count": null,
   "outputs": [],
   "source": [
    "import numpy as np\n",
    "\n",
    "from utils import bf\n",
    "from QVC import PyquilVariationalClassifier\n",
    "from pyquil_circuits import PauliFeatureMap, VariationalCircuit"
   ],
   "metadata": {
    "collapsed": false,
    "pycharm": {
     "name": "#%%\n"
    }
   }
  },
  {
   "cell_type": "code",
   "execution_count": 2,
   "metadata": {},
   "outputs": [],
   "source": [
    "# Define quantum feature map\n",
    "qfm = PauliFeatureMap(num_qubits=3, rep=2)\n",
    "vc = VariationalCircuit(num_qubits=3, rep=2)\n",
    "qvc = PyquilVariationalClassifier(qfm, vc, bool_ftn=bf, use_bias=False)"
   ]
  },
  {
   "cell_type": "code",
   "execution_count": 5,
   "metadata": {},
   "outputs": [
    {
     "name": "stdout",
     "output_type": "stream",
     "text": [
      "[ 1.56636433 -0.72325934 -0.94454689  1.72973839  0.91390905  1.47260758\n",
      "  1.40753721  1.61813452  1.65474997  1.65748732  2.70052991  2.21620275\n",
      "  0.77342995 -0.57277874 -1.83137667  0.5672403 ]\n"
     ]
    }
   ],
   "source": [
    "# Load Data\n",
    "train_data = np.load('./npy_files/TrainData_zzpfmc12_pyquil.npy')\n",
    "test_data = np.load('./npy_files/TestData_zzpfmc12_pyquil.npy')\n",
    "train_labels = np.load('./npy_files/TrainLabels_zzpfmc12_pyquil.npy')\n",
    "test_labels = np.load('./npy_files/TestLabels_zzpfmc12_pyquil.npy')\n",
    "opt_param = np.load('./npy_files/Optimal_param_zzpfmc12_qiskit.npy')\n",
    "\n",
    "qvc.optimal_params = opt_param"
   ]
  },
  {
   "cell_type": "code",
   "execution_count": 6,
   "metadata": {},
   "outputs": [],
   "source": [
    "test_acc, _, test_correct = qvc.test(test_data, (-1)**test_labels, verbose=True, backend='Aspen-9')\n",
    "print(f\"Test accuracy     = {test_acc}\")"
   ]
  },
  {
   "cell_type": "code",
   "execution_count": 8,
   "metadata": {
    "pycharm": {
     "name": "#%%\n"
    }
   },
   "outputs": [
    {
     "name": "stdout",
     "output_type": "stream",
     "text": [
      "0.3333333333333333\n"
     ]
    }
   ],
   "source": [
    "import matplotlib.pyplot as plt\n",
    "fig = plt.figure()\n",
    "ax = fig.add_subplot(projection='3d')\n",
    "colors = ['tab:blue', 'tab:red', 'tab:gray']\n",
    "correct_dp_c0 = list()\n",
    "correct_dp_c1 = list()\n",
    "false_dp = list()\n",
    "for i, (dp, l) in enumerate(zip(test_data[:len(test_correct)], test_correct)):\n",
    "    if l :\n",
    "        if test_labels[i] == 0:\n",
    "            correct_dp_c0.append(dp)\n",
    "        elif test_labels[i] == 1:\n",
    "            correct_dp_c1.append(dp)\n",
    "        else:\n",
    "            print(\"something went wrong\")\n",
    "            raise ValueError\n",
    "    else:\n",
    "        false_dp.append(dp)\n",
    "correct_dp_c0 = np.array([np.array(d) for d in correct_dp_c0]).swapaxes(0,1)\n",
    "correct_dp_c1 = np.array([np.array(d) for d in correct_dp_c1]).swapaxes(0,1)\n",
    "false_dp = np.array([np.array(d) for d in false_dp]).swapaxes(0,1)\n",
    "ax.scatter(correct_dp_c0[0], correct_dp_c0[1], correct_dp_c0[2],\n",
    "           c = colors[0],\n",
    "           label='correct_cls0')\n",
    "ax.scatter(correct_dp_c1[0], correct_dp_c1[1], correct_dp_c1[2],\n",
    "           c = colors[1],\n",
    "           label='correct_cls1')\n",
    "ax.scatter(false_dp[0], false_dp[1], false_dp[2],\n",
    "           c = colors[2],\n",
    "           label='false')\n",
    "ax.set_xlabel('pc1')\n",
    "ax.set_ylabel('pc2')\n",
    "ax.set_zlabel('pc3')\n",
    "fig.legend(bbox_to_anchor=(1,1))\n",
    "\n",
    "plt.savefig('./figures/zzzpfm_c12_class_test_qpu.png')"
   ]
  }
 ],
 "metadata": {
  "kernelspec": {
   "display_name": "Python 3",
   "language": "python",
   "name": "python3"
  },
  "language_info": {
   "codemirror_mode": {
    "name": "ipython",
    "version": 3
   },
   "file_extension": ".py",
   "mimetype": "text/x-python",
   "name": "python",
   "nbconvert_exporter": "python",
   "pygments_lexer": "ipython3",
   "version": "3.8.3"
  }
 },
 "nbformat": 4,
 "nbformat_minor": 4
}