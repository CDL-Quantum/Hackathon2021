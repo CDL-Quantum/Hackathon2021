{
 "cells": [
  {
   "cell_type": "markdown",
   "metadata": {},
   "source": [
    "In several quantum machine learning algorithms, an important sub-routine is amplitude encoding. This refers to the process whereby classical data is encoded into the amplitudes of a quantum register. A classical data point must consist of numerical values, which should then be normalized so that the sum of the square of the components sum to 1. Thereafter, the (sub-)routine described below can be used to encode that classical datapoint into a quantum state."
   ]
  },
  {
   "cell_type": "code",
   "execution_count": 1,
   "metadata": {},
   "outputs": [],
   "source": [
    "import numpy as np\n",
    "import math\n",
    "\n",
    "from pyquil import Program, get_qc\n",
    "from pyquil.api import WavefunctionSimulator\n",
    "from pyquil.gates import *\n",
    "\n",
    "import itertools"
   ]
  },
  {
   "cell_type": "markdown",
   "metadata": {},
   "source": [
    "Given a quantum state with real amplitudes, how do we construct a circuit that would prepare such a state? As described in \"Transformation of quantum states using uniformly controlled rotations\" by Mottonen et al. (https://arxiv.org/pdf/quant-ph/0407010.pdf), we need to run the following series of controlled rotations in reverse:\n",
    "\n",
    "![Drawing](https://raw.githubusercontent.com/QuNovaComputing/Hackathon2021/qunovacomputing/Qunova%20Computing/rigetti_resources/uniformly_controlled_rotations.png)\n",
    "\n",
    "where the black dots denote the control qubit being in the state $\\vert 1 \\rangle$ and the white dots denote the control qubit being in the state $\\vert 0 \\rangle$."
   ]
  },
  {
   "cell_type": "markdown",
   "metadata": {},
   "source": [
    "The angles are to be calculated according to\n",
    "\n",
    "![Drawing](https://raw.githubusercontent.com/QuNovaComputing/Hackathon2021/qunovacomputing/Qunova%20Computing/rigetti_resources/beta_angles.png)\n",
    "\n",
    "(images borrowed from \"Supervised Learning with Quantum Computers\" by M. Schuld, F. Petruccione)"
   ]
  },
  {
   "cell_type": "markdown",
   "metadata": {},
   "source": [
    "Let us first write a function that can calculate the $\\beta$'s above."
   ]
  },
  {
   "cell_type": "code",
   "execution_count": 2,
   "metadata": {},
   "outputs": [],
   "source": [
    "def all_betas(amps):\n",
    "    \"\"\"\n",
    "    Given some real amplitudes, compute the RY angles needed to prepare this state\n",
    "\n",
    "    :return dict: key: (s, j), value: beta angle\n",
    "    \"\"\"\n",
    "    n = math.log(len(amps), 2)\n",
    "    assert np.isclose(n, int(n)), \"Specify 2^n amplitudes for some n\"\n",
    "    n = int(n)\n",
    "    d_betas = {}\n",
    "    for s in range(1, n + 1):\n",
    "        for j in range(1, 2**(n-s) + 1):\n",
    "            # calculate numerator\n",
    "            numer_sqr = 0.0\n",
    "            for l in range(2**(s - 1)):\n",
    "                idx_num = (2 * j - 1) * (2**(s-1)) + l\n",
    "                numer_sqr += np.abs(amps[idx_num])**2\n",
    "            numerator = np.sqrt(numer_sqr)\n",
    "            # calculate denominator\n",
    "            denom_sqr = 0.0\n",
    "            for ll in range(2**s):\n",
    "                idx_den = (j - 1) * (2**s) + ll\n",
    "                denom_sqr += np.abs(amps[idx_den])**2\n",
    "            denominator = np.sqrt(denom_sqr)\n",
    "            # avoid any pathological cases, e.g. if denominator = 0.0\n",
    "            if np.isclose(numerator, 0.0):\n",
    "                ratio = 0.0\n",
    "            else:\n",
    "                ratio = numerator / denominator\n",
    "            # ensure argument to arccos lies within domain [-1, 1]\n",
    "            if ratio > 1.0:\n",
    "                ratio = 1.0\n",
    "            elif ratio < -1.0:\n",
    "                ratio = -1.0\n",
    "            else:\n",
    "                pass\n",
    "            # finally, compute the beta angles\n",
    "            d_betas[s, j] = -2 * np.arcsin(ratio)\n",
    "    return d_betas"
   ]
  },
  {
   "cell_type": "markdown",
   "metadata": {},
   "source": [
    "Following this, we now write a function that will encode a given classical vector into the amplitudes of a quantum state."
   ]
  },
  {
   "cell_type": "code",
   "execution_count": 3,
   "metadata": {},
   "outputs": [],
   "source": [
    "def state_prep_prog(amps):\n",
    "    \"\"\"\n",
    "    Given some real amplitudes, compute the pyQuil Program needed to prepare this state\n",
    "    \n",
    "    :return Program: state preparation circuit\n",
    "    \"\"\"\n",
    "    n = math.log(len(amps), 2)\n",
    "    assert np.isclose(n, int(n)), \"Specify 2^n amplitudes for some n\"\n",
    "    n = int(n)\n",
    "    d_betas = all_betas(amps)\n",
    "    tot_prog = Program()\n",
    "    for s in range(n, 0, -1):\n",
    "        tot_js = 2**(n-s)\n",
    "        num_combs = math.log(tot_js, 2)\n",
    "        assert np.isclose(num_combs, int(num_combs)), \"Something went wrong\"\n",
    "        num_combs = int(num_combs)\n",
    "        all_combs = np.array(list(itertools.product([0, 1], repeat=num_combs)))\n",
    "        for j in range(1, tot_js + 1)[::-1]:\n",
    "            if len(all_combs) == 1:\n",
    "                tot_prog += Program(f\"RY({d_betas[s, j]}) {s-1}\")\n",
    "            else:\n",
    "                # pick the relevant combination, e.g. [0,0] or [0, 1] or [1, 0] or [1, 1] for two control qubits\n",
    "                comb = all_combs[j-1]\n",
    "                rot_prog_str = f\"RY({d_betas[s, j]}) {s-1}\"\n",
    "                rot_oper_prog_str = f\"RY({d_betas[s, j]}) \"\n",
    "                rot_qub_prog_str = f\"{s-1}\"\n",
    "                flip_prog_strs = []\n",
    "                # this loops through the controlled operation, e.g. [0, 1] in the opposite direction\n",
    "                for x, cbit in enumerate(comb[::-1]):\n",
    "                    if cbit == 0:\n",
    "                        flip_prog_strs += [f\"X {s+x}\"]\n",
    "                    else:\n",
    "                        pass\n",
    "                    rot_oper_prog_str = \"CONTROLLED \" + rot_oper_prog_str\n",
    "                    rot_qub_prog_str = f\"{s+x} \" + rot_qub_prog_str\n",
    "                rot_prog_str = rot_oper_prog_str + rot_qub_prog_str\n",
    "                tot_prog += Program(flip_prog_strs) + Program(rot_prog_str) + Program(flip_prog_strs[::-1])\n",
    "\n",
    "    return tot_prog"
   ]
  },
  {
   "cell_type": "markdown",
   "metadata": {},
   "source": [
    "To check the correctness of our implementation, we will test the functions above against random amplitudes."
   ]
  },
  {
   "cell_type": "code",
   "execution_count": 4,
   "metadata": {},
   "outputs": [],
   "source": [
    "wfn_sim = WavefunctionSimulator()"
   ]
  },
  {
   "cell_type": "code",
   "execution_count": 5,
   "metadata": {},
   "outputs": [],
   "source": [
    "def random_amplitudes(num_qubits=3):\n",
    "    N = 2**num_qubits\n",
    "    amps = np.random.uniform(low=0.0, high=1.0, size=N)\n",
    "    amps *= 1 / np.sqrt(np.sum(np.abs(amps)**2))\n",
    "    assert np.isclose(np.sum(np.abs(amps)**2), 1.0), \"Amplitudes do not square-sum to 1\"\n",
    "    return amps"
   ]
  },
  {
   "cell_type": "code",
   "execution_count": 6,
   "metadata": {},
   "outputs": [],
   "source": [
    "# draw some random real amplitudes\n",
    "amps = random_amplitudes()\n",
    "\n",
    "# create the state prep Program corresponding to these amplitudes\n",
    "prep_prog = state_prep_prog(amps)\n",
    "wfn = wfn_sim.wavefunction(prep_prog)\n",
    "\n",
    "# compare the outcome probabilities resulting from the state prep Program\n",
    "# with the expected probabilities\n",
    "outcome_probs = list(wfn.get_outcome_probs().values())\n",
    "expected_probs = amps**2\n",
    "assert np.allclose(expected_probs, outcome_probs), \"Measurement probabilities do not agree\""
   ]
  }
 ],
 "metadata": {
  "kernelspec": {
   "display_name": "Python 3",
   "language": "python",
   "name": "python3"
  },
  "language_info": {
   "codemirror_mode": {
    "name": "ipython",
    "version": 3
   },
   "file_extension": ".py",
   "mimetype": "text/x-python",
   "name": "python",
   "nbconvert_exporter": "python",
   "pygments_lexer": "ipython3",
   "version": "3.7.7"
  }
 },
 "nbformat": 4,
 "nbformat_minor": 2
}