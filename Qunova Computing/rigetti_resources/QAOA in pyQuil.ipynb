{
 "cells": [
  {
   "cell_type": "markdown",
   "metadata": {},
   "source": [
    "Copyright Rigetti Computing 2021."
   ]
  },
  {
   "cell_type": "markdown",
   "metadata": {},
   "source": [
    "### QAOA using PyQuil"
   ]
  },
  {
   "cell_type": "markdown",
   "metadata": {},
   "source": [
    "Import relevant modules."
   ]
  },
  {
   "cell_type": "code",
   "execution_count": 1,
   "metadata": {},
   "outputs": [],
   "source": [
    "%matplotlib inline\n",
    "import matplotlib.pyplot as plt\n",
    "\n",
    "import itertools\n",
    "\n",
    "import numpy as np\n",
    "\n",
    "from pyquil import Program\n",
    "from pyquil.api import WavefunctionSimulator\n",
    "from pyquil.gates import *\n",
    "from pyquil.paulis import *\n",
    "\n",
    "from tqdm import tqdm\n",
    "\n",
    "import networkx as nx"
   ]
  },
  {
   "cell_type": "markdown",
   "metadata": {},
   "source": [
    "Specify resources: For now, let's use the `WavefunctionSimulator` for simulating our algorithm."
   ]
  },
  {
   "cell_type": "code",
   "execution_count": 2,
   "metadata": {},
   "outputs": [],
   "source": [
    "wfn_sim = WavefunctionSimulator()"
   ]
  },
  {
   "cell_type": "markdown",
   "metadata": {},
   "source": [
    "Let's try and solve the simplest problem we can think of: the 2-node graph. Its MaxCut solution should just be the cut across the lone edge in the graph. Expressed as a bitstring, the solution is either `01` or `10`. Let's see if we can get this solution using QAOA."
   ]
  },
  {
   "cell_type": "markdown",
   "metadata": {},
   "source": [
    "First, we need to specify the qubits we will use."
   ]
  },
  {
   "cell_type": "code",
   "execution_count": 3,
   "metadata": {},
   "outputs": [],
   "source": [
    "qubits = [0, 1]\n",
    "n_qubits = len(qubits)"
   ]
  },
  {
   "cell_type": "markdown",
   "metadata": {},
   "source": [
    "The 2-node graph on these qubits looks like this."
   ]
  },
  {
   "cell_type": "code",
   "execution_count": 4,
   "metadata": {},
   "outputs": [
    {
     "data": {
      "image/png": "[encoded data removed]",
      "text/plain": [
       "<Figure size 432x288 with 1 Axes>"
      ]
     },
     "metadata": {},
     "output_type": "display_data"
    }
   ],
   "source": [
    "G = nx.Graph()\n",
    "G.add_edge(qubits[0], qubits[1])\n",
    "nx.draw(G)"
   ]
  },
  {
   "cell_type": "markdown",
   "metadata": {},
   "source": [
    "Specifying the Cost Hamiltonian for this problem is simple. It is just the product of Z operators on the 2 nodes (qubits). For our purposes, we can simply optimize $\\sum ZZ$ insteadd of the MaxCut Hamiltonian $\\frac{1}{2} \\sum I - Z_i Z_j$. The main difference is that we will now seek to minimize rather than maximize the hamiltonian."
   ]
  },
  {
   "cell_type": "code",
   "execution_count": 5,
   "metadata": {},
   "outputs": [],
   "source": [
    "# Cost hamiltonian of the 2-node graph connecting qubits 0 and 1\n",
    "qA, qB = qubits\n",
    "hamiltonian = sZ(qA) * sZ(qB) + 0.0"
   ]
  },
  {
   "cell_type": "markdown",
   "metadata": {},
   "source": [
    "Specifying the mixer term is also simple. We just need the sum of all `X`s on all the qubits."
   ]
  },
  {
   "cell_type": "code",
   "execution_count": 6,
   "metadata": {},
   "outputs": [],
   "source": [
    "mixer = sX(qA) + sX(qB)"
   ]
  },
  {
   "cell_type": "markdown",
   "metadata": {},
   "source": [
    "Let's now write our first QAOA program. We'll focus on the `p=1` case."
   ]
  },
  {
   "cell_type": "code",
   "execution_count": 7,
   "metadata": {},
   "outputs": [],
   "source": [
    "# Initialize an empty Program\n",
    "qaoa_prog = Program()\n",
    "\n",
    "# Declare some parametric variables \n",
    "gamma = qaoa_prog.declare('gamma', 'REAL', 1)\n",
    "beta = qaoa_prog.declare('beta', 'REAL', 1)\n",
    "\n",
    "# Initial state\n",
    "for q in qubits:\n",
    "    qaoa_prog += H(q)\n",
    "    \n",
    "# Cost term\n",
    "for ham_term in hamiltonian:\n",
    "    qaoa_prog += exponential_map(ham_term)(gamma)\n",
    "    \n",
    "# Mixer term\n",
    "for mixer_term in mixer:\n",
    "    qaoa_prog += exponential_map(mixer_term)(beta)"
   ]
  },
  {
   "cell_type": "markdown",
   "metadata": {},
   "source": [
    "Let's take a peek at what a typical QAOA state looks like."
   ]
  },
  {
   "cell_type": "code",
   "execution_count": 8,
   "metadata": {},
   "outputs": [
    {
     "name": "stdout",
     "output_type": "stream",
     "text": [
      "(-0.3829318021-0.4181104428j)|00> + (0.2741963852-0.3215015317j)|01> + (0.2741963852-0.3215015317j)|10> + (-0.3829318021-0.4181104428j)|11>\n"
     ]
    }
   ],
   "source": [
    "gamma, beta = np.random.uniform(0.0, 2*np.pi, size=2)\n",
    "wfn = wfn_sim.wavefunction(qaoa_prog, memory_map={'gamma': [gamma], 'beta': [beta]})\n",
    "print(wfn)"
   ]
  },
  {
   "cell_type": "markdown",
   "metadata": {},
   "source": [
    "Notice and compare the amplitudes for $\\vert 00 \\rangle$ and $\\vert 11 \\rangle$, or $\\vert 01 \\rangle$ or $\\vert 10 \\rangle$. Are they the same or different? Why or why not?"
   ]
  },
  {
   "cell_type": "markdown",
   "metadata": {},
   "source": [
    "Using the same values for `gamma` and `beta`, let's compute what the expectation value of the cost hamiltonian would look like, which is what we're trying to optimize for, after all."
   ]
  },
  {
   "cell_type": "code",
   "execution_count": 9,
   "metadata": {},
   "outputs": [
    {
     "name": "stdout",
     "output_type": "stream",
     "text": [
      "0.28581242973026794\n"
     ]
    }
   ],
   "source": [
    "expect = wfn_sim.expectation(qaoa_prog, hamiltonian, memory_map={'gamma': [gamma], 'beta': [beta]})\n",
    "print(expect)"
   ]
  },
  {
   "cell_type": "markdown",
   "metadata": {},
   "source": [
    "Is this a good or bad solution? We can find out by comparing against the true result. Since we are interested in the least possible value that the cost hamiltonian operator can take over all possible quantum states, we can solve for the eigenvalues of the matrix corresponding to this operator."
   ]
  },
  {
   "cell_type": "code",
   "execution_count": 10,
   "metadata": {},
   "outputs": [
    {
     "name": "stdout",
     "output_type": "stream",
     "text": [
      "Min eigenvalue: -1.0\n"
     ]
    }
   ],
   "source": [
    "from pyquil.simulation.tools import lifted_pauli\n",
    "\n",
    "# obtain the matrix form of the cost hamiltonian operator\n",
    "mat = lifted_pauli(hamiltonian, hamiltonian.get_qubits())\n",
    "\n",
    "# obtain its eigenvalues\n",
    "eigvals, eigvecs = np.linalg.eig(mat)\n",
    "min_eigval = np.min(eigvals)\n",
    "assert np.isclose(min_eigval.imag, 0.0)   # expectation value of a Hermitian observable should be real\n",
    "min_eigval = np.real(min_eigval)\n",
    "print(f\"Min eigenvalue: {min_eigval}\")"
   ]
  },
  {
   "cell_type": "markdown",
   "metadata": {},
   "source": [
    "Let's now perform an entire scan over possible values of `gamma` and `beta`, and find the best possible angles, the min expectation value, and crucially, the bitstrings we sample for the optimal values of `gamma` and `beta`."
   ]
  },
  {
   "cell_type": "code",
   "execution_count": 11,
   "metadata": {},
   "outputs": [
    {
     "name": "stderr",
     "output_type": "stream",
     "text": [
      "100%|██████████| 625/625 [00:03<00:00, 175.15it/s]\n"
     ]
    }
   ],
   "source": [
    "width = 25\n",
    "angle_range = np.linspace(0.0, np.pi, width)\n",
    "\n",
    "expectations = []\n",
    "\n",
    "expect_min = np.inf\n",
    "best_angles = None\n",
    "\n",
    "for (gamma, beta) in tqdm(list(itertools.product(angle_range, angle_range))):\n",
    "    expect = wfn_sim.expectation(qaoa_prog, hamiltonian, memory_map={'gamma': [gamma], 'beta': [beta]})\n",
    "    expectations.append(expect)\n",
    "    \n",
    "    if expect < expect_min:\n",
    "        expect_min = expect\n",
    "        best_angles = (gamma, beta)\n",
    "    \n",
    "landscape = np.array(expectations).reshape(width, width)"
   ]
  },
  {
   "cell_type": "markdown",
   "metadata": {},
   "source": [
    "Let's plot what the landscape looks like."
   ]
  },
  {
   "cell_type": "code",
   "execution_count": 12,
   "metadata": {},
   "outputs": [
    {
     "data": {
      "image/png": "[encoded data removed]",
      "text/plain": [
       "<Figure size 432x288 with 2 Axes>"
      ]
     },
     "metadata": {
      "needs_background": "light"
     },
     "output_type": "display_data"
    }
   ],
   "source": [
    "min_x, min_y = (np.argmin(landscape) % width, np.argmin(landscape) // width)\n",
    "plt.imshow(landscape, extent=[0, np.pi, np.pi, 0])\n",
    "plt.plot((min_x + 0.5) * np.pi / width, (min_y + 0.5) * np.pi / width, 'ro')\n",
    "plt.colorbar()\n",
    "plt.xlabel('gamma (radians)')\n",
    "plt.ylabel('beta (radians)')\n",
    "plt.title(f'Max-Cut QAOA Landscape')\n",
    "plt.show()"
   ]
  },
  {
   "cell_type": "markdown",
   "metadata": {},
   "source": [
    "Here are the optimal values of `gamma` and `beta` that produce the best value for the cost hamiltonian."
   ]
  },
  {
   "cell_type": "code",
   "execution_count": 13,
   "metadata": {},
   "outputs": [
    {
     "name": "stdout",
     "output_type": "stream",
     "text": [
      "Optimal gamma: 0.7853981633974483\n",
      "Optimal beta: 1.1780972450961724\n"
     ]
    }
   ],
   "source": [
    "opt_gamma, opt_beta = best_angles\n",
    "print(f\"Optimal gamma: {opt_gamma}\")\n",
    "print(f\"Optimal beta: {opt_beta}\")"
   ]
  },
  {
   "cell_type": "markdown",
   "metadata": {},
   "source": [
    "Let's see what the `p=1` QAOA state looks like for these values."
   ]
  },
  {
   "cell_type": "code",
   "execution_count": 14,
   "metadata": {},
   "outputs": [
    {
     "name": "stdout",
     "output_type": "stream",
     "text": [
      "(-0.5-0.5j)|01> + (-0.5-0.5j)|10>\n"
     ]
    }
   ],
   "source": [
    "wfn = wfn_sim.wavefunction(qaoa_prog, memory_map={'gamma': [opt_gamma], 'beta': [opt_beta]})\n",
    "print(wfn)"
   ]
  },
  {
   "cell_type": "markdown",
   "metadata": {},
   "source": [
    "You should observe a non-zero amplitude only for the states $\\vert 10\\rangle$ and $\\vert 01 \\rangle$. Thus, if we sample from this state, we should only obtain the MaxCut solution, which specifies a cut across the single edge in the graph."
   ]
  },
  {
   "cell_type": "code",
   "execution_count": 15,
   "metadata": {},
   "outputs": [
    {
     "name": "stdout",
     "output_type": "stream",
     "text": [
      "[[0 1]\n",
      " [0 1]\n",
      " [1 0]\n",
      " [1 0]\n",
      " [1 0]\n",
      " [1 0]\n",
      " [1 0]\n",
      " [0 1]\n",
      " [1 0]\n",
      " [1 0]]\n"
     ]
    }
   ],
   "source": [
    "samples = wfn.sample_bitstrings(n_samples=10)\n",
    "print(samples)"
   ]
  },
  {
   "cell_type": "markdown",
   "metadata": {},
   "source": [
    "Moreover, if we compare the expectation value of the cost hamiltonian to the min eigenvalue of its corresponding matrix, we should find a ratio of exactly 1."
   ]
  },
  {
   "cell_type": "code",
   "execution_count": 16,
   "metadata": {},
   "outputs": [
    {
     "name": "stdout",
     "output_type": "stream",
     "text": [
      "Performance ratio: 0.999999999999999\n"
     ]
    }
   ],
   "source": [
    "opt_expect = wfn_sim.expectation(qaoa_prog, hamiltonian, memory_map={'gamma': [opt_gamma], 'beta': [opt_beta]})\n",
    "performance_ratio = np.abs(opt_expect) / np.abs(min_eigval)\n",
    "print(f\"Performance ratio: {performance_ratio}\")"
   ]
  },
  {
   "cell_type": "markdown",
   "metadata": {},
   "source": [
    "We could also have utilized some other optimizer to find the optimum."
   ]
  },
  {
   "cell_type": "code",
   "execution_count": 17,
   "metadata": {},
   "outputs": [],
   "source": [
    "from scipy.optimize import minimize"
   ]
  },
  {
   "cell_type": "code",
   "execution_count": 18,
   "metadata": {},
   "outputs": [],
   "source": [
    "def objective(angles):\n",
    "    global wfn_sim\n",
    "    global qaoa_prog\n",
    "    global hamiltonian\n",
    "    gamma, beta = angles\n",
    "    obs = wfn_sim.expectation(qaoa_prog, hamiltonian, memory_map={'gamma': [gamma], 'beta': [beta]})\n",
    "    return obs"
   ]
  },
  {
   "cell_type": "code",
   "execution_count": 19,
   "metadata": {},
   "outputs": [
    {
     "name": "stdout",
     "output_type": "stream",
     "text": [
      "Optimization completed: True\n",
      "Performance ratio: 0.9999998493377515\n",
      "Optimal angles: [2.35616052 1.96335923]\n"
     ]
    }
   ],
   "source": [
    "initial_guess = np.random.uniform(0.0, np.pi, size=2)\n",
    "res = minimize(objective, x0=initial_guess, method='COBYLA')\n",
    "\n",
    "print(f\"Optimization completed: {res.success}\")\n",
    "print(f\"Performance ratio: {-res.fun}\")\n",
    "print(f\"Optimal angles: {res.x}\")"
   ]
  }
 ],
 "metadata": {
  "kernelspec": {
   "display_name": "Python 3",
   "language": "python",
   "name": "python3"
  },
  "language_info": {
   "codemirror_mode": {
    "name": "ipython",
    "version": 3
   },
   "file_extension": ".py",
   "mimetype": "text/x-python",
   "name": "python",
   "nbconvert_exporter": "python",
   "pygments_lexer": "ipython3",
   "version": "3.7.7"
  }
 },
 "nbformat": 4,
 "nbformat_minor": 2
}
