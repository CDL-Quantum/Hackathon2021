{
 "cells": [
  {
   "cell_type": "markdown",
   "metadata": {},
   "source": [
    "Copyright Rigetti Computing 2021."
   ]
  },
  {
   "cell_type": "markdown",
   "metadata": {},
   "source": [
    "## Grover's search algorithm in pyQuil"
   ]
  },
  {
   "cell_type": "markdown",
   "metadata": {},
   "source": [
    "In this notebook, we'll demonstrate a simple implementation of Grover's algorithm in pyQuil."
   ]
  },
  {
   "cell_type": "code",
   "execution_count": 1,
   "metadata": {},
   "outputs": [],
   "source": [
    "%matplotlib inline\n",
    "import matplotlib.pyplot as plt\n",
    "import itertools\n",
    "import numpy as np\n",
    "from pyquil.api import WavefunctionSimulator\n",
    "from pyquil.gates import *\n",
    "from pyquil.quil import Program\n",
    "from typing import List"
   ]
  },
  {
   "cell_type": "markdown",
   "metadata": {},
   "source": [
    "First, we write the circuit that defines the oracle for a given bitstring. We use an ancillary qubit in the state $\\vert - \\rangle = \\frac{1}{\\sqrt{2}}\\left(\\vert 0 \\rangle - \\vert 1 \\rangle \\right)$ to perform a \"phase kick-back\", i.e. $ U_{\\omega} \\vert x \\rangle \\vert - \\rangle = (-1)^{f(x)} \\vert x \\rangle \\vert - \\rangle$. Moreover, we can identify the marked bitstring simply by controlled operations."
   ]
  },
  {
   "cell_type": "code",
   "execution_count": 2,
   "metadata": {},
   "outputs": [],
   "source": [
    "def oracle(bb: str, qubits: List[int]) -> Program:\n",
    "    '''\n",
    "    Implements the oracle U:|x>|-> --> (-1)^(f(x)) |x>|->\n",
    "    where |-> = (|0> - |1>)/sqrt(2) and f(x) is either 0 or 1\n",
    "    \n",
    "    :param bb: Unique bitstring for which f(x) = 1\n",
    "    :param qubits: List of qubits to run the computation on,\n",
    "        with the last qubit acting as the ancillary\n",
    "    '''\n",
    "    assert len(qubits) - 1 == len(bb), f\"Not enough qubits\"\n",
    "    prog = Program()\n",
    "    # track qubits which are controlled on the 0 state\n",
    "    flipped_idxs = []\n",
    "    for q, x in enumerate(bb):\n",
    "        if x=='0':\n",
    "            prog += X(qubits[q])\n",
    "            flipped_idxs.append(q)\n",
    "        elif x=='1':\n",
    "            pass\n",
    "        else:\n",
    "            raise ValueError(\"Input should be a bitstring in str format.\")\n",
    "    # perform the phase kick-back controlled on the marked bitstring\n",
    "    prog += X(qubits[-1]).controlled(qubits[:-1])\n",
    "    # flip qubits back to the their former state\n",
    "    for q in flipped_idxs:\n",
    "        prog += X(qubits[q])\n",
    "    return prog"
   ]
  },
  {
   "cell_type": "markdown",
   "metadata": {},
   "source": [
    "Second, we define the circuit for the diffusion operator $U_{+} = 2 \\vert + \\rangle \\langle + \\vert - \\mathbb{I}$. We first move to the Hadamard basis, then apply a controlled phase kick-back similarly as above."
   ]
  },
  {
   "cell_type": "code",
   "execution_count": 3,
   "metadata": {},
   "outputs": [],
   "source": [
    "def diffusion(qubits: List[int]) -> Program:\n",
    "    '''\n",
    "    Implements the diffusion operator U = 2|+><+| - I\n",
    "\n",
    "    :param qubits: List of qubits to run the computation on,\n",
    "        with the last qubit acting as the ancillary\n",
    "    '''\n",
    "    # move to the Hadamard basis\n",
    "    prog = Program([H(q) for q in qubits])\n",
    "    # phase kick-back controlled on the |0>^n state\n",
    "    prog += Program([X(q) for q in qubits])\n",
    "    prog += X(qubits[-1]).controlled(qubits[:-1])\n",
    "    prog += Program([X(q) for q in qubits])\n",
    "    # move back to the computational basis\n",
    "    prog += Program([H(q) for q in qubits])\n",
    "    return prog"
   ]
  },
  {
   "cell_type": "markdown",
   "metadata": {},
   "source": [
    "Putting these two things together, we can run Grover's algorithm for some marked bitstring."
   ]
  },
  {
   "cell_type": "code",
   "execution_count": 4,
   "metadata": {
    "scrolled": false
   },
   "outputs": [
    {
     "name": "stdout",
     "output_type": "stream",
     "text": [
      "Marked bitstring is: 10010\n",
      "The most probable outcome is: |10010>\n"
     ]
    },
    {
     "data": {
      "image/png": "[encoded data removed]",
      "text/plain": [
       "<Figure size 864x576 with 1 Axes>"
      ]
     },
     "metadata": {
      "needs_background": "light"
     },
     "output_type": "display_data"
    }
   ],
   "source": [
    "# number of qubits (excluding the ancilla)\n",
    "n = 5\n",
    "\n",
    "# define a \"marked bitstring\"\n",
    "marked_str = ''.join(np.random.choice(['0', '1'], size=n))\n",
    "print(f\"Marked bitstring is: {marked_str}\")\n",
    "\n",
    "# number of iterations, only go up to sqrt(2^n) iterations\n",
    "num_iters = int(np.sqrt(2**n))\n",
    "\n",
    "# reversed because of WavefunctionSimulator convention\n",
    "qubits = list(reversed(range(len(marked_str) + 1)))\n",
    "\n",
    "### write the full circuit\n",
    "# initialize n qubits in the |+> state, and an ancilla in the |-> state\n",
    "prog = Program()\n",
    "ro = prog.declare('ro', 'BIT', 1)\n",
    "prog += Program([H(q) for q in qubits])\n",
    "prog += Z(qubits[-1])\n",
    "\n",
    "# define the oracle and phase shift operators\n",
    "orac = oracle(marked_str, qubits)\n",
    "diff = diffusion(qubits)\n",
    "\n",
    "# call the oracle and the phase shift operators in succession\n",
    "# a total of sqrt(2^n) times\n",
    "for _ in range(num_iters):\n",
    "    prog += orac\n",
    "    prog += diff\n",
    "    \n",
    "# measure out and discard the ancilla\n",
    "prog += MEASURE(qubits[-1], ro[0])\n",
    "\n",
    "# simulate exact probabilities via the WavefunctionSimulator\n",
    "wfn_sim = WavefunctionSimulator()\n",
    "wfn = wfn_sim.wavefunction(prog)\n",
    "outcome_probs = wfn.get_outcome_probs()\n",
    "print (\"The most probable outcome is: |%s>\" % (max(outcome_probs, key=outcome_probs.get)[:-1]))\n",
    "\n",
    "# plot histogram of sampling probabilities\n",
    "plt.figure(figsize=(12, 8))\n",
    "plt.bar([i[:-1] for i in outcome_probs.keys()], outcome_probs.values())\n",
    "plt.xticks(fontsize=10, rotation=65)\n",
    "plt.xlabel('Bitstrings')\n",
    "plt.ylabel('Sampling probabilities')\n",
    "plt.show()"
   ]
  }
 ],
 "metadata": {
  "kernelspec": {
   "display_name": "Python 3",
   "language": "python",
   "name": "python3"
  },
  "language_info": {
   "codemirror_mode": {
    "name": "ipython",
    "version": 3
   },
   "file_extension": ".py",
   "mimetype": "text/x-python",
   "name": "python",
   "nbconvert_exporter": "python",
   "pygments_lexer": "ipython3",
   "version": "3.7.7"
  }
 },
 "nbformat": 4,
 "nbformat_minor": 2
}
