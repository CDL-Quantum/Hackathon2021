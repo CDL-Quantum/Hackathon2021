{
 "cells": [
  {
   "cell_type": "markdown",
   "metadata": {},
   "source": [
    "Copyright Rigetti Computing 2021."
   ]
  },
  {
   "cell_type": "markdown",
   "metadata": {},
   "source": [
    "## Sampling and Readout Errors using pyQuil"
   ]
  },
  {
   "cell_type": "markdown",
   "metadata": {},
   "source": [
    "Import relevant modules."
   ]
  },
  {
   "cell_type": "code",
   "execution_count": 1,
   "metadata": {},
   "outputs": [],
   "source": [
    "%matplotlib inline\n",
    "import matplotlib.pyplot as plt\n",
    "\n",
    "import itertools\n",
    "\n",
    "import numpy as np\n",
    "\n",
    "from pyquil import get_qc, Program\n",
    "from pyquil.api import WavefunctionSimulator\n",
    "from pyquil.gates import *\n",
    "from pyquil.paulis import *\n",
    "\n",
    "from tqdm import tqdm\n",
    "\n",
    "import networkx as nx"
   ]
  },
  {
   "cell_type": "markdown",
   "metadata": {},
   "source": [
    "### Sampling Error"
   ]
  },
  {
   "cell_type": "markdown",
   "metadata": {},
   "source": [
    "Previously, we used the `WavefunctionSimulator`. This time, we will primarily use a `QuantumComputer`."
   ]
  },
  {
   "cell_type": "code",
   "execution_count": 2,
   "metadata": {},
   "outputs": [
    {
     "name": "stdout",
     "output_type": "stream",
     "text": [
      "[0, 1]\n"
     ]
    }
   ],
   "source": [
    "wfn_sim = WavefunctionSimulator()\n",
    "\n",
    "n_qubits = 2\n",
    "qc = get_qc(f'{n_qubits}q-qvm')\n",
    "qubits = qc.qubits()\n",
    "print(qubits)"
   ]
  },
  {
   "cell_type": "markdown",
   "metadata": {},
   "source": [
    "Let us first compute what the expectation value of the observable $Z$ is in a fair (quantum) dice: the Hadamard state."
   ]
  },
  {
   "cell_type": "code",
   "execution_count": 3,
   "metadata": {},
   "outputs": [
    {
     "name": "stdout",
     "output_type": "stream",
     "text": [
      "0j\n"
     ]
    }
   ],
   "source": [
    "prog = Program(H(0))\n",
    "Z_expectation = wfn_sim.expectation(prog, sZ(0)+0.0)\n",
    "print(Z_expectation)"
   ]
  },
  {
   "cell_type": "markdown",
   "metadata": {},
   "source": [
    "Now let us try to estimate it via sampling. First, we simply obtain some shots."
   ]
  },
  {
   "cell_type": "code",
   "execution_count": 4,
   "metadata": {
    "scrolled": true
   },
   "outputs": [
    {
     "name": "stdout",
     "output_type": "stream",
     "text": [
      "(1000, 1)\n",
      "[[1]\n",
      " [1]\n",
      " [0]\n",
      " [1]\n",
      " [0]]\n"
     ]
    }
   ],
   "source": [
    "n_shots = 1000\n",
    "\n",
    "prog = Program()\n",
    "ro = prog.declare('ro', 'BIT', 1)\n",
    "prog += H(0)\n",
    "prog += MEASURE(0, ro[0])\n",
    "prog.wrap_in_numshots_loop(n_shots)\n",
    "\n",
    "exe = qc.compile(prog)\n",
    "\n",
    "samples = qc.run(exe)\n",
    "print(samples.shape)\n",
    "print(samples[:5])"
   ]
  },
  {
   "cell_type": "markdown",
   "metadata": {},
   "source": [
    "Next, we estimate the expectation value $\\langle Z \\rangle$. Remember that $\\langle 0 \\vert Z \\vert 0 \\rangle=1$ and $\\langle 1 \\vert Z \\vert 1 \\rangle=-1$."
   ]
  },
  {
   "cell_type": "code",
   "execution_count": 5,
   "metadata": {},
   "outputs": [
    {
     "name": "stdout",
     "output_type": "stream",
     "text": [
      "-0.01\n"
     ]
    }
   ],
   "source": [
    "Z_eigs = 1 - 2*samples\n",
    "Z_expect = np.mean(Z_eigs)\n",
    "print(Z_expect)"
   ]
  },
  {
   "cell_type": "markdown",
   "metadata": {},
   "source": [
    "Ok, so it's close, though not exactly equal, to our ideal value. Let us perform several of the above experiments, and obtain a distribution of such averages. (Recall: The Central Limit Theorem says this should look like a bell-shaped curve)."
   ]
  },
  {
   "cell_type": "code",
   "execution_count": 6,
   "metadata": {},
   "outputs": [
    {
     "name": "stderr",
     "output_type": "stream",
     "text": [
      "100%|██████████| 1000/1000 [00:16<00:00, 59.35it/s]\n"
     ]
    },
    {
     "data": {
      "image/png": "[encoded data removed]",
      "text/plain": [
       "<Figure size 864x576 with 1 Axes>"
      ]
     },
     "metadata": {
      "needs_background": "light"
     },
     "output_type": "display_data"
    }
   ],
   "source": [
    "n_expts = 1000\n",
    "\n",
    "Z_expects = []\n",
    "\n",
    "for _ in tqdm(range(n_expts)):\n",
    "    \n",
    "    samples = qc.run(exe)\n",
    "    Z_eigs = 1 - 2*samples\n",
    "    Z_expect = np.mean(Z_eigs)\n",
    "    Z_expects.append(Z_expect)\n",
    "    \n",
    "plt.figure(figsize=(12, 8))\n",
    "plt.hist(Z_expects, bins=50)\n",
    "plt.show()"
   ]
  },
  {
   "cell_type": "markdown",
   "metadata": {},
   "source": [
    "We can also estimate expectation values of other observables, such as $X$ or $Y$. But in order to do so, we need to rotate into the appropriate basis, since our quantum computer can really only measure in the $Z$ (computational) basis.<br>\n",
    "\n",
    "In order to measure $X$, note that $HZH = X$, so that $\\langle \\psi \\vert X \\vert \\psi \\rangle = \\langle \\psi \\vert HZH \\vert \\psi \\rangle$, so that we can simply apply an $H$ gate before measuring, then carrying out the usual procedure."
   ]
  },
  {
   "cell_type": "markdown",
   "metadata": {},
   "source": [
    "First, let's compute what the ideal value is."
   ]
  },
  {
   "cell_type": "code",
   "execution_count": 7,
   "metadata": {},
   "outputs": [
    {
     "name": "stdout",
     "output_type": "stream",
     "text": [
      "(0.9999999999999998+0j)\n"
     ]
    }
   ],
   "source": [
    "prog = Program(H(0))\n",
    "X_expectation = wfn_sim.expectation(prog, sX(0)+0.0)\n",
    "print(X_expectation)"
   ]
  },
  {
   "cell_type": "markdown",
   "metadata": {},
   "source": [
    "Next, let's estimate via sampling."
   ]
  },
  {
   "cell_type": "code",
   "execution_count": 8,
   "metadata": {},
   "outputs": [],
   "source": [
    "n_shots = 1000\n",
    "\n",
    "prog = Program()\n",
    "ro = prog.declare('ro', 'BIT', 1)\n",
    "prog += H(0)\n",
    "\n",
    "# apply (another) H to perform a measurement in the X basis\n",
    "prog += H(0)\n",
    "\n",
    "# now measure as usual\n",
    "prog += MEASURE(0, ro[0])\n",
    "prog.wrap_in_numshots_loop(n_shots)\n",
    "\n",
    "exe = qc.compile(prog)"
   ]
  },
  {
   "cell_type": "markdown",
   "metadata": {},
   "source": [
    "And now let's estimate $X$ via sampling."
   ]
  },
  {
   "cell_type": "code",
   "execution_count": 9,
   "metadata": {},
   "outputs": [
    {
     "name": "stderr",
     "output_type": "stream",
     "text": [
      "100%|██████████| 1000/1000 [00:06<00:00, 144.00it/s]\n"
     ]
    },
    {
     "data": {
      "image/png": "[encoded data removed]",
      "text/plain": [
       "<Figure size 864x576 with 1 Axes>"
      ]
     },
     "metadata": {
      "needs_background": "light"
     },
     "output_type": "display_data"
    }
   ],
   "source": [
    "n_expts = 1000\n",
    "\n",
    "X_expects = []\n",
    "\n",
    "for _ in tqdm(range(n_expts)):\n",
    "    \n",
    "    samples = qc.run(exe)\n",
    "    X_eigs = 1 - 2*samples\n",
    "    X_expect = np.mean(X_eigs)\n",
    "    X_expects.append(X_expect)\n",
    "    \n",
    "plt.figure(figsize=(12, 8))\n",
    "plt.hist(X_expects, bins=50)\n",
    "plt.show()"
   ]
  },
  {
   "cell_type": "markdown",
   "metadata": {},
   "source": [
    "Similarly, note that $U^{\\dagger}ZU=-Y$ where $U = RX(-\\pi/2)$, so we can just apply $RX(-\\pi/2)$ before measuring, and then carrying out the usual procedure (but taking care to take care of the minus sign)."
   ]
  },
  {
   "cell_type": "code",
   "execution_count": 10,
   "metadata": {},
   "outputs": [
    {
     "name": "stdout",
     "output_type": "stream",
     "text": [
      "0j\n"
     ]
    }
   ],
   "source": [
    "# ideal value\n",
    "prog = Program(H(0))\n",
    "Y_expectation = wfn_sim.expectation(prog, sY(0)+0.0)\n",
    "print(Y_expectation)"
   ]
  },
  {
   "cell_type": "code",
   "execution_count": 11,
   "metadata": {},
   "outputs": [
    {
     "name": "stdout",
     "output_type": "stream",
     "text": [
      "DECLARE ro BIT[1]\n",
      "RX(pi/2) 0\n",
      "RZ(pi/2) 0\n",
      "MEASURE 0 ro[0]\n",
      "HALT\n",
      "\n"
     ]
    }
   ],
   "source": [
    "# via sampling\n",
    "n_shots = 1000\n",
    "\n",
    "prog = Program()\n",
    "ro = prog.declare('ro', 'BIT', 1)\n",
    "prog += H(0)\n",
    "\n",
    "# rotate into Y-basis\n",
    "prog += RX(-np.pi/2, 0)\n",
    "\n",
    "# now measure as usual\n",
    "prog += MEASURE(0, ro[0])\n",
    "prog.wrap_in_numshots_loop(n_shots)\n",
    "\n",
    "exe = qc.compile(prog)\n",
    "\n",
    "print(exe.program)"
   ]
  },
  {
   "cell_type": "code",
   "execution_count": 12,
   "metadata": {},
   "outputs": [
    {
     "name": "stderr",
     "output_type": "stream",
     "text": [
      "100%|██████████| 1000/1000 [00:17<00:00, 57.63it/s]\n"
     ]
    },
    {
     "data": {
      "image/png": "[encoded data removed]",
      "text/plain": [
       "<Figure size 864x576 with 1 Axes>"
      ]
     },
     "metadata": {
      "needs_background": "light"
     },
     "output_type": "display_data"
    }
   ],
   "source": [
    "n_expts = 1000\n",
    "\n",
    "Y_expects = []\n",
    "\n",
    "for _ in tqdm(range(n_expts)):\n",
    "    \n",
    "    samples = qc.run(exe)\n",
    "    Y_eigs = -1.0 * (1 - 2*samples)\n",
    "    Y_expect = np.mean(Y_eigs)\n",
    "    Y_expects.append(Y_expect)\n",
    "    \n",
    "plt.figure(figsize=(12, 8))\n",
    "plt.hist(Y_expects, bins=50)\n",
    "plt.show()"
   ]
  },
  {
   "cell_type": "markdown",
   "metadata": {},
   "source": [
    "### Readout Error"
   ]
  },
  {
   "cell_type": "markdown",
   "metadata": {},
   "source": [
    "There is a simple way to introduce readout error in pyQuil. The syntax is given [here](https://pyquil-docs.rigetti.com/en/stable/apidocs/autogen/pyquil.quil.Program.define_noisy_readout.html)."
   ]
  },
  {
   "cell_type": "code",
   "execution_count": 13,
   "metadata": {},
   "outputs": [],
   "source": [
    "n_shots = 1000\n",
    "\n",
    "p00 = 0.85\n",
    "p11 = 0.92\n",
    "\n",
    "prog = Program()\n",
    "ro = prog.declare('ro', 'BIT', 1)\n",
    "prog.define_noisy_readout(0, p00, p11)\n",
    "prog += H(0)\n",
    "prog += MEASURE(0, ro[0])\n",
    "prog.wrap_in_numshots_loop(n_shots)\n",
    "\n",
    "exe = qc.compile(prog)"
   ]
  },
  {
   "cell_type": "code",
   "execution_count": 14,
   "metadata": {},
   "outputs": [
    {
     "name": "stderr",
     "output_type": "stream",
     "text": [
      "100%|██████████| 1000/1000 [00:16<00:00, 59.24it/s]\n"
     ]
    },
    {
     "data": {
      "image/png": "[encoded data removed]",
      "text/plain": [
       "<Figure size 864x576 with 1 Axes>"
      ]
     },
     "metadata": {
      "needs_background": "light"
     },
     "output_type": "display_data"
    }
   ],
   "source": [
    "n_expts = 1000\n",
    "\n",
    "Z_expects = []\n",
    "\n",
    "for _ in tqdm(range(n_expts)):\n",
    "    \n",
    "    samples = qc.run(exe)\n",
    "    Z_eigs = 1 - 2*samples\n",
    "    Z_expect = np.mean(Z_eigs)\n",
    "    Z_expects.append(Z_expect)\n",
    "    \n",
    "plt.figure(figsize=(12, 8))\n",
    "plt.hist(Z_expects, bins=50)\n",
    "plt.show()"
   ]
  },
  {
   "cell_type": "markdown",
   "metadata": {},
   "source": [
    "Notice how readout error has caused the center of the Bull curve to shift!"
   ]
  },
  {
   "cell_type": "markdown",
   "metadata": {},
   "source": [
    "### Confusion matrix inversion"
   ]
  },
  {
   "cell_type": "markdown",
   "metadata": {},
   "source": [
    "Let's now repeat the above analysis to measure the observable $ZZ$ in the Bell state."
   ]
  },
  {
   "cell_type": "code",
   "execution_count": 15,
   "metadata": {},
   "outputs": [],
   "source": [
    "n_shots = 1000\n",
    "\n",
    "# readout noise on qubit 0\n",
    "p00_q0 = 0.87\n",
    "p11_q0 = 0.91\n",
    "\n",
    "# readout noise on qubit 1\n",
    "p00_q1 = 0.93\n",
    "p11_q1 = 0.86\n",
    "\n",
    "noisy_prog = Program()\n",
    "noisy_prog.define_noisy_readout(0, p00_q0, p11_q0)\n",
    "noisy_prog.define_noisy_readout(1, p00_q1, p11_q1)\n",
    "\n",
    "prog = Program()\n",
    "ro = prog.declare('ro', 'BIT', 2)\n",
    "prog += noisy_prog\n",
    "prog += H(0)\n",
    "prog += CNOT(0,1)\n",
    "for idx, q in enumerate([0,1]):\n",
    "    prog += MEASURE(q, ro[idx])\n",
    "prog.wrap_in_numshots_loop(n_shots)\n",
    "\n",
    "exe = qc.compile(prog)"
   ]
  },
  {
   "cell_type": "markdown",
   "metadata": {},
   "source": [
    "Ideally, since $ZZ \\left( \\frac{\\vert 00 \\rangle + \\vert 11 \\rangle}{\\sqrt{2}}\\right) = 1$, in the absence of errors the expectation value would be 1. However, readout errors can shift the measured expectation value away from the ideal value, as we observe below."
   ]
  },
  {
   "cell_type": "code",
   "execution_count": 16,
   "metadata": {},
   "outputs": [
    {
     "name": "stderr",
     "output_type": "stream",
     "text": [
      "100%|██████████| 1000/1000 [00:33<00:00, 30.28it/s]\n"
     ]
    },
    {
     "data": {
      "image/png": "[encoded data removed]",
      "text/plain": [
       "<Figure size 864x576 with 1 Axes>"
      ]
     },
     "metadata": {
      "needs_background": "light"
     },
     "output_type": "display_data"
    }
   ],
   "source": [
    "qc = get_qc(f'{n_qubits}q-qvm')\n",
    "n_expts = 1000\n",
    "\n",
    "ZZ_expects = []\n",
    "\n",
    "for _ in tqdm(range(n_expts)):\n",
    "    \n",
    "    samples = qc.run(exe)\n",
    "    ZZ_eigs = np.prod(1 - 2*samples, axis=1)\n",
    "    ZZ_expect = np.mean(ZZ_eigs)\n",
    "    ZZ_expects.append(ZZ_expect)\n",
    "    \n",
    "plt.figure(figsize=(12, 8))\n",
    "plt.hist(ZZ_expects, bins=50)\n",
    "plt.show()"
   ]
  },
  {
   "cell_type": "markdown",
   "metadata": {},
   "source": [
    "Let us now try to correct for this readout error. As explained in the slides, we can make use of Bayes identity $p(read=x) = \\sum_{y} p(read=x \\vert sampled=y) \\cdot p(sampled=y)$ to infer the true sampling probabilities $p(sampled=y)$."
   ]
  },
  {
   "cell_type": "markdown",
   "metadata": {},
   "source": [
    "First, we estimate what the empirical probabilities are, i.e. $p(read=x)$."
   ]
  },
  {
   "cell_type": "code",
   "execution_count": 17,
   "metadata": {
    "scrolled": true
   },
   "outputs": [],
   "source": [
    "qc = get_qc(f'{n_qubits}q-qvm')\n",
    "samples = qc.run(exe)\n",
    "samples_str = [''.join(str(q) for q in shot) for shot in samples]\n",
    "\n",
    "all_bitstrings = list(''.join(bb) for bb in itertools.product(['0','1'], repeat=2))\n",
    "\n",
    "probs_empirical = []\n",
    "for bitstring in all_bitstrings:\n",
    "    frac = samples_str.count(bitstring) / n_shots\n",
    "    probs_empirical.append(frac)"
   ]
  },
  {
   "cell_type": "markdown",
   "metadata": {},
   "source": [
    "Next, we estimate the confusion matrix $p(read=x \\vert sampled=y)$. We do this by successively preparing all possible bitstrings $y$, then read them out and measure the fraction of times we obtain each possible bitstring."
   ]
  },
  {
   "cell_type": "code",
   "execution_count": 18,
   "metadata": {},
   "outputs": [
    {
     "name": "stderr",
     "output_type": "stream",
     "text": [
      "/Users/sohaib/Documents/pyquil/pyquil/quil.py:1180: UserWarning: Please DECLARE all memory. I'm adding a declaration for the `ro` register, but I won't do this for you in the future.\n",
      "  \"Please DECLARE all memory. I'm adding a declaration for the `ro` register, \"\n"
     ]
    }
   ],
   "source": [
    "qc = get_qc(f'{n_qubits}q-qvm')\n",
    "n_expts = 1000\n",
    "\n",
    "dim = 2**n_qubits\n",
    "confusion_matrix = np.zeros((dim, dim))\n",
    "\n",
    "# for (bb1,bb2) in itertools.product(all_bitstrings, repeat=2):\n",
    "for idx, bb in enumerate(all_bitstrings):\n",
    "    \n",
    "    prog = Program()\n",
    "    prog += noisy_prog\n",
    "    \n",
    "    for q, x in enumerate(bb):\n",
    "        if x=='0':\n",
    "            pass\n",
    "        elif x=='1':\n",
    "            prog += X(q)\n",
    "            \n",
    "    for i, q in enumerate([0,1]):\n",
    "        prog += MEASURE(q, ro[i])\n",
    "\n",
    "    prog.wrap_in_numshots_loop(n_shots)\n",
    "    \n",
    "    exe = qc.compile(prog)\n",
    "    samples = qc.run(exe)\n",
    "    samples_str = [''.join(str(q) for q in shot) for shot in samples]\n",
    "    measured_fracs = [samples_str.count(bitstring)/n_shots for bitstring in all_bitstrings]\n",
    "    confusion_matrix[:,idx] = measured_fracs"
   ]
  },
  {
   "cell_type": "markdown",
   "metadata": {},
   "source": [
    "In vector notation, we can express $p(read=x) = \\sum_{y} p(read=x \\vert sampled=y) \\cdot p(sampled=y)$ as $\\vec{p} = P \\vec{q}$, where $\\vec{p}$ are the empirical probabilities, $P$ is the confusion matrix, and $q$ are the true sampling probabilities. To infer $\\vec{q}$, we can simply invert this equation and solve $\\vec{q} = P^{-1} \\vec{p}$."
   ]
  },
  {
   "cell_type": "code",
   "execution_count": 19,
   "metadata": {},
   "outputs": [],
   "source": [
    "conf_mat_inv = np.linalg.inv(confusion_matrix)\n",
    "probs_correct = conf_mat_inv @ probs_empirical"
   ]
  },
  {
   "cell_type": "markdown",
   "metadata": {},
   "source": [
    "With the corrected probabilities ($\\vec{q}$) we can infer the expectation value of the observable $ZZ$."
   ]
  },
  {
   "cell_type": "code",
   "execution_count": 20,
   "metadata": {},
   "outputs": [
    {
     "name": "stdout",
     "output_type": "stream",
     "text": [
      "Empirical ZZ estimate: 0.562\n",
      "Corrected ZZ estimate: 0.8965972964990718\n"
     ]
    }
   ],
   "source": [
    "ZZ_empirical = (probs_empirical[0] + probs_empirical[3]) - (probs_empirical[1] + probs_empirical[2])\n",
    "ZZ_corrected = (probs_correct[0] + probs_correct[3]) - (probs_correct[1] + probs_correct[2])\n",
    "\n",
    "print(f\"Empirical ZZ estimate: {ZZ_empirical}\")\n",
    "print(f\"Corrected ZZ estimate: {ZZ_corrected}\")"
   ]
  },
  {
   "cell_type": "markdown",
   "metadata": {},
   "source": [
    "We see that the corrected estimate is much closer to the ideal value of 1.0."
   ]
  },
  {
   "cell_type": "markdown",
   "metadata": {},
   "source": [
    "Note however that the corrected \"probabilities\" are really only quasi-probabilities, as even though they sum to 1"
   ]
  },
  {
   "cell_type": "code",
   "execution_count": 21,
   "metadata": {},
   "outputs": [
    {
     "name": "stdout",
     "output_type": "stream",
     "text": [
      "1.0\n"
     ]
    }
   ],
   "source": [
    "print(np.sum(probs_correct))"
   ]
  },
  {
   "cell_type": "markdown",
   "metadata": {},
   "source": [
    "they need not necessarily all be non-negative"
   ]
  },
  {
   "cell_type": "code",
   "execution_count": 22,
   "metadata": {},
   "outputs": [
    {
     "name": "stdout",
     "output_type": "stream",
     "text": [
      "[0.48376423 0.02600961 0.02569175 0.46453442]\n"
     ]
    }
   ],
   "source": [
    "print(probs_correct)"
   ]
  }
 ],
 "metadata": {
  "kernelspec": {
   "display_name": "Python 3",
   "language": "python",
   "name": "python3"
  },
  "language_info": {
   "codemirror_mode": {
    "name": "ipython",
    "version": 3
   },
   "file_extension": ".py",
   "mimetype": "text/x-python",
   "name": "python",
   "nbconvert_exporter": "python",
   "pygments_lexer": "ipython3",
   "version": "3.7.7"
  }
 },
 "nbformat": 4,
 "nbformat_minor": 2
}
