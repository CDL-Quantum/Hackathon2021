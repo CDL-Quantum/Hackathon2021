{
 "cells": [
  {
   "cell_type": "markdown",
   "metadata": {},
   "source": [
    "Copyright Rigetti Computing 2021."
   ]
  },
  {
   "cell_type": "markdown",
   "metadata": {},
   "source": [
    "## Digital Zero Noise Extrapolation using PyQuil"
   ]
  },
  {
   "cell_type": "markdown",
   "metadata": {},
   "source": [
    "In this notebook, we'll explore the technique of using digital zero noise extrapolation to mitigate for gate errors. Specifically, we'll use the depolarizing channel as our noise model."
   ]
  },
  {
   "cell_type": "code",
   "execution_count": 1,
   "metadata": {},
   "outputs": [],
   "source": [
    "%matplotlib inline\n",
    "import matplotlib.pyplot as plt\n",
    "\n",
    "import itertools\n",
    "\n",
    "import numpy as np\n",
    "\n",
    "from pyquil import get_qc, Program\n",
    "from pyquil.gates import *\n",
    "from pyquil.paulis import *\n",
    "\n",
    "from tqdm import tqdm\n",
    "\n",
    "import networkx as nx\n",
    "\n",
    "import functools"
   ]
  },
  {
   "cell_type": "markdown",
   "metadata": {},
   "source": [
    "We'll first define some handy functions that will aid us in our analysis."
   ]
  },
  {
   "cell_type": "code",
   "execution_count": 2,
   "metadata": {},
   "outputs": [],
   "source": [
    "def random_unitary(n):\n",
    "    \"\"\"\n",
    "    :param n: number of qubits\n",
    "    :return: array of shape (2^n, 2^n) representing random unitary matrix drawn from Haar measure\n",
    "    \"\"\"\n",
    "    # draw complex matrix from Ginibre ensemble\n",
    "    z = np.random.randn(2**n, 2**n) + 1j * np.random.randn(2**n, 2**n)\n",
    "    # QR decompose this complex matrix\n",
    "    q, r = np.linalg.qr(z)\n",
    "    # make this decomposition unique\n",
    "    d = np.diagonal(r)\n",
    "    l = np.diag(d) / np.abs(d)\n",
    "    return np.matmul(q, l)"
   ]
  },
  {
   "cell_type": "code",
   "execution_count": 3,
   "metadata": {},
   "outputs": [],
   "source": [
    "def pauli_operators(n):\n",
    "    \"\"\"\n",
    "    Generates all 4^n Pauli operators over n qubits\n",
    "    \n",
    "    :param n: number of qubits\n",
    "    :return: list of arrays, each array of shape (2^n, 2^n) representing a Pauli operator\n",
    "    \"\"\"\n",
    "    # list single qubit Pauli operators\n",
    "    sI = np.array([[1, 0], [0, 1]])\n",
    "    sX = np.array([[0, 1], [1, 0]])\n",
    "    sY = np.array([[0, -1j], [1j, 0]])\n",
    "    sZ = np.array([[1, 0], [0, -1]])\n",
    "    paulis = [sI, sX, sY, sZ]\n",
    "   \n",
    "    # identify the dimension of the Hilbert space\n",
    "    dim = 2**n\n",
    "\n",
    "    ## Sanity check -- initialize an arbitrary initial state\n",
    "    ##       and make sure it gets sent to totally mixed state\n",
    "    ket = np.random.uniform(0.0, 1.0, size=dim)\n",
    "    ket /= np.sqrt(np.sum(ket**2))\n",
    "    assert np.isclose(np.sum(ket**2), 1.0)  # normalize\n",
    "\n",
    "    rho = np.outer(ket, ket)\n",
    "\n",
    "    rho_pr = np.zeros((dim, dim), dtype='complex128')\n",
    "    \n",
    "    ops_list = []\n",
    "\n",
    "    for x in itertools.product(paulis, repeat=n):\n",
    "        op = functools.reduce(lambda a, b: np.kron(a, b), x)\n",
    "        assert np.allclose(op @ op.conj().T, np.eye(2**n)), f\"op**2: {op @ op.conj().T}\"\n",
    "        rho_pr += op @ rho @ op.conj().T\n",
    "        ops_list.append(op)\n",
    "\n",
    "    assert np.allclose(rho_pr / (dim**2), np.eye(dim)/dim)\n",
    "    \n",
    "    # return the desired list of operators\n",
    "    return ops_list"
   ]
  },
  {
   "cell_type": "code",
   "execution_count": 4,
   "metadata": {},
   "outputs": [],
   "source": [
    "def depolarizing_kraus_ops(prob, n=2):\n",
    "    \"\"\"\n",
    "    Provides the Kraus operators for a depolarizing channel over `n_qubits`\n",
    "    \n",
    "    :param prob: probability of obtaining maximally mixed state\n",
    "    :param n: number of qubits\n",
    "    :return: list of arrays, each array of shape (2^n, 2^n) representing a Kraus operator\n",
    "    \"\"\"\n",
    "    I_ = np.eye(2**n)\n",
    "    D_ops = pauli_operators(n)\n",
    "    kraus_ops = [np.sqrt(1-prob) * I_]\n",
    "    for D_ in D_ops:\n",
    "        kraus_ops.append(np.sqrt(prob/len(D_ops)) * D_)\n",
    "    return kraus_ops"
   ]
  },
  {
   "cell_type": "markdown",
   "metadata": {},
   "source": [
    "We'll investigate the case of a circuit preparing a Bell state $\\frac{1}{\\sqrt{2}} \\left( \\vert 00 \\rangle + \\vert 11 \\rangle \\right)$. We would like to compute the expectation value of the observable $ZZ$ in this state. Since $\\langle 00 \\vert ZZ \\vert 00 \\rangle = \\langle 11 \\vert ZZ \\vert 11 \\rangle = 1$ and $\\langle 00 \\vert ZZ \\vert 11 \\rangle = \\langle 11 \\vert ZZ \\vert 00 \\rangle = 0$, we expect to find $\\langle Z \\rangle = 1$ in this state."
   ]
  },
  {
   "cell_type": "code",
   "execution_count": 5,
   "metadata": {},
   "outputs": [
    {
     "name": "stdout",
     "output_type": "stream",
     "text": [
      "1.0\n"
     ]
    }
   ],
   "source": [
    "qc = get_qc('2q-qvm')\n",
    "\n",
    "n_shots = 10_000\n",
    "\n",
    "# write Bell circuit prep program\n",
    "prog = Program()\n",
    "ro = prog.declare('ro', 'BIT', 2)\n",
    "# Note: Pragma preservation makes sure gates stay intact,\n",
    "#    and are not \"compiled\" away\n",
    "prog += Program(\"PRAGMA PRESERVE_BLOCK\")\n",
    "prog += H(0)\n",
    "prog += CNOT(0, 1)\n",
    "prog += Program(\"PRAGMA END_PRESERVE_BLOCK\")\n",
    "\n",
    "for idx, q in enumerate([0, 1]):\n",
    "    prog += MEASURE(q, ro[idx])\n",
    "\n",
    "prog.wrap_in_numshots_loop(n_shots)\n",
    "\n",
    "results = qc.run(prog)\n",
    "\n",
    "ZZ_eigs = 1 - 2*results\n",
    "\n",
    "ZZ = np.mean(ZZ_eigs[:,0] * ZZ_eigs[:,1])\n",
    "\n",
    "print(ZZ)  # should be 1.0"
   ]
  },
  {
   "cell_type": "markdown",
   "metadata": {},
   "source": [
    "Next, let's add some depolarizing noise. In pyQuil, we can do this by first defining a dummy gate, then over-writing this dummy gate with the depolarizing channel. We'll follow every use of a `CNOT` with this noisy gate, so that in effect our CNOTs become 2-qubit depolarizing channels where with some probability we obtain the state unitarily evolving through a `CNOT` gate, and with remaining probability we get the totally mixed state."
   ]
  },
  {
   "cell_type": "code",
   "execution_count": 6,
   "metadata": {},
   "outputs": [
    {
     "name": "stdout",
     "output_type": "stream",
     "text": [
      "0.7926\n"
     ]
    }
   ],
   "source": [
    "qc = get_qc('2q-qvm')\n",
    "\n",
    "n_shots = 10_000\n",
    "\n",
    "# specify error probability\n",
    "gate_fidelity = 0.80\n",
    "prob = 1 - gate_fidelity\n",
    "\n",
    "# write noisy program\n",
    "prog = Program()\n",
    "ro = prog.declare('ro', 'BIT', 2)\n",
    "prog.defgate(\"DummyGate\", random_unitary(2))\n",
    "prog.define_noisy_gate(\"DummyGate\", [0, 1], depolarizing_kraus_ops(prob))\n",
    "    \n",
    "p_noisy = prog.copy()\n",
    "p_noisy += Program(\"PRAGMA PRESERVE_BLOCK\")\n",
    "p_noisy += H(0)\n",
    "p_noisy += CNOT(0, 1)\n",
    "p_noisy += [(\"DummyGate\", 0, 1)]\n",
    "p_noisy += Program(\"PRAGMA END_PRESERVE_BLOCK\")\n",
    "\n",
    "for idx, q in enumerate([0, 1]):\n",
    "    p_noisy += MEASURE(q, ro[idx])\n",
    "\n",
    "p_noisy.wrap_in_numshots_loop(n_shots)\n",
    "\n",
    "results = qc.run(p_noisy)\n",
    "\n",
    "ZZ_eigs = 1 - 2*results\n",
    "\n",
    "ZZ = np.mean(ZZ_eigs[:,0] * ZZ_eigs[:,1])\n",
    "\n",
    "print(ZZ)  # should be approx. 0.8"
   ]
  },
  {
   "cell_type": "markdown",
   "metadata": {},
   "source": [
    "In order to exaggerate the noise in the system, we can similarly apply 3 noisy CNOTs."
   ]
  },
  {
   "cell_type": "code",
   "execution_count": 7,
   "metadata": {},
   "outputs": [
    {
     "name": "stdout",
     "output_type": "stream",
     "text": [
      "0.5098\n"
     ]
    }
   ],
   "source": [
    "qc = get_qc('2q-qvm')\n",
    "\n",
    "n_shots = 10_000\n",
    "\n",
    "n_noisy = 3   # no. of noisy 2q gate\n",
    "\n",
    "# specify error probability\n",
    "gate_fidelity = 0.80\n",
    "prob = 1 - gate_fidelity\n",
    "\n",
    "# write noisy program\n",
    "prog = Program()\n",
    "ro = prog.declare('ro', 'BIT', 2)\n",
    "prog.defgate(\"DummyGate\", random_unitary(2))\n",
    "prog.define_noisy_gate(\"DummyGate\", [0, 1], depolarizing_kraus_ops(prob))\n",
    "    \n",
    "p_noisy = prog.copy()\n",
    "p_noisy += Program(\"PRAGMA PRESERVE_BLOCK\")\n",
    "p_noisy += H(0)\n",
    "for _ in range(n_noisy):\n",
    "    p_noisy += CNOT(0, 1)\n",
    "    p_noisy += [(\"DummyGate\", 0, 1)]\n",
    "p_noisy += Program(\"PRAGMA END_PRESERVE_BLOCK\")\n",
    "\n",
    "for idx, q in enumerate([0, 1]):\n",
    "    p_noisy += MEASURE(q, ro[idx])\n",
    "\n",
    "p_noisy.wrap_in_numshots_loop(n_shots)\n",
    "\n",
    "results = qc.run(p_noisy)\n",
    "\n",
    "ZZ_eigs = 1 - 2*results\n",
    "\n",
    "ZZ = np.mean(ZZ_eigs[:,0] * ZZ_eigs[:,1])\n",
    "\n",
    "print(ZZ)  # should be approx. 0.8^3 ~ 0.512"
   ]
  },
  {
   "cell_type": "markdown",
   "metadata": {},
   "source": [
    "Next, we use the digital zero noise extrapolation technique, as described in the lecture, to compute the ideal expectation value as well as the depolarizing noise on the system."
   ]
  },
  {
   "cell_type": "markdown",
   "metadata": {},
   "source": [
    "We'll compute the noisy estimates of the expectation values at several values of the no. of (noisy) CNOTs we have in the circuit."
   ]
  },
  {
   "cell_type": "code",
   "execution_count": 8,
   "metadata": {},
   "outputs": [
    {
     "name": "stderr",
     "output_type": "stream",
     "text": [
      "100%|██████████| 8/8 [00:23<00:00,  2.94s/it]\n"
     ]
    }
   ],
   "source": [
    "qc = get_qc('2q-qvm')\n",
    "\n",
    "n_shots = 10_000\n",
    "\n",
    "# specify error probability\n",
    "gate_fidelity = 0.80\n",
    "prob = 1 - gate_fidelity\n",
    "\n",
    "# collect ZZ estimates for several number of noisy CNOTs\n",
    "ZZ_vals = []\n",
    "n_noisy = [1, 3, 5, 7, 9, 11, 13, 15]\n",
    "\n",
    "# write noisy program\n",
    "prog = Program()\n",
    "ro = prog.declare('ro', 'BIT', 2)\n",
    "prog.defgate(\"DummyGate\", random_unitary(2))\n",
    "prog.define_noisy_gate(\"DummyGate\", [0, 1], depolarizing_kraus_ops(prob))\n",
    "\n",
    "for n_cnots in tqdm(n_noisy):\n",
    "    \n",
    "    p_noisy = prog.copy()\n",
    "    p_noisy += Program(\"PRAGMA PRESERVE_BLOCK\")\n",
    "    p_noisy += H(0)\n",
    "    for _ in range(n_cnots):\n",
    "        p_noisy += CNOT(0, 1)\n",
    "        p_noisy += [(\"DummyGate\", 0, 1)]\n",
    "    p_noisy += Program(\"PRAGMA END_PRESERVE_BLOCK\")\n",
    "    \n",
    "    for idx, q in enumerate([0, 1]):\n",
    "        p_noisy += MEASURE(q, ro[idx])\n",
    "        \n",
    "    p_noisy.wrap_in_numshots_loop(n_shots)\n",
    "    \n",
    "    results = qc.run(p_noisy)\n",
    "    \n",
    "    ZZ_eigs = 1 - 2*results\n",
    "\n",
    "    ZZ = np.mean(ZZ_eigs[:,0] * ZZ_eigs[:,1])\n",
    "    \n",
    "    ZZ_vals.append(ZZ)"
   ]
  },
  {
   "cell_type": "markdown",
   "metadata": {},
   "source": [
    "Check that the results make sense by comparing against the theoretical value."
   ]
  },
  {
   "cell_type": "code",
   "execution_count": 9,
   "metadata": {},
   "outputs": [
    {
     "name": "stdout",
     "output_type": "stream",
     "text": [
      "n: 1\n",
      "expt ZZ-val: 0.8072\n",
      "theory ZZ-val: 0.8\n",
      "******************************\n",
      "n: 3\n",
      "expt ZZ-val: 0.5032\n",
      "theory ZZ-val: 0.5120000000000001\n",
      "******************************\n",
      "n: 5\n",
      "expt ZZ-val: 0.3096\n",
      "theory ZZ-val: 0.3276800000000001\n",
      "******************************\n",
      "n: 7\n",
      "expt ZZ-val: 0.2138\n",
      "theory ZZ-val: 0.20971520000000007\n",
      "******************************\n",
      "n: 9\n",
      "expt ZZ-val: 0.125\n",
      "theory ZZ-val: 0.13421772800000006\n",
      "******************************\n",
      "n: 11\n",
      "expt ZZ-val: 0.0972\n",
      "theory ZZ-val: 0.08589934592000005\n",
      "******************************\n",
      "n: 13\n",
      "expt ZZ-val: 0.0416\n",
      "theory ZZ-val: 0.054975581388800036\n",
      "******************************\n",
      "n: 15\n",
      "expt ZZ-val: 0.0314\n",
      "theory ZZ-val: 0.03518437208883203\n",
      "******************************\n"
     ]
    }
   ],
   "source": [
    "for idx, n in enumerate(n_noisy):\n",
    "    print(f\"n: {n}\")\n",
    "    expt = ZZ_vals[idx]\n",
    "    theory = gate_fidelity**n\n",
    "    print(f\"expt ZZ-val: {expt}\")\n",
    "    print(f\"theory ZZ-val: {theory}\")\n",
    "\n",
    "    # Ideally, we should check for numerical closeness.\n",
    "    # At this no. of shots, this check can sometimes fail.\n",
    "    #     assert np.isclose(theory, expt, atol=1e-2)\n",
    "    print(\"*\" * 30)"
   ]
  },
  {
   "cell_type": "markdown",
   "metadata": {},
   "source": [
    "Let's generate a plot of expectation values vs. no. of noisy CNOTs to convince ourselves it looks like a straight line. Recall that for the depolarizing noise channel, we expect the noisy expectation values to behave as $y = Cp^n \\Rightarrow \\log{y} = n \\log{p} + \\log{C}$, where $y$ denotes the noisy expectation values we have measured, $n$ is the no. of noisy `CNOT` gates we have applied, $p$ is the gate fidelity, and $C$ is the ideal expectation value."
   ]
  },
  {
   "cell_type": "code",
   "execution_count": 10,
   "metadata": {},
   "outputs": [
    {
     "data": {
      "image/png": "[encoded data removed]",
      "text/plain": [
       "<Figure size 864x576 with 1 Axes>"
      ]
     },
     "metadata": {
      "needs_background": "light"
     },
     "output_type": "display_data"
    }
   ],
   "source": [
    "n_noisy = np.array(n_noisy)\n",
    "ZZ_vals = np.array(ZZ_vals)\n",
    "\n",
    "x_vals = n_noisy\n",
    "y_vals = np.log(ZZ_vals)\n",
    "\n",
    "plt.figure(figsize=(12, 8))\n",
    "plt.plot(x_vals, y_vals)\n",
    "plt.show()"
   ]
  },
  {
   "cell_type": "markdown",
   "metadata": {},
   "source": [
    "Next, let's fit a straight line model to the above data. We can then extract the ideal expecation value using the formula described above."
   ]
  },
  {
   "cell_type": "code",
   "execution_count": 11,
   "metadata": {},
   "outputs": [
    {
     "name": "stdout",
     "output_type": "stream",
     "text": [
      "exptl prob: 0.7918705174928765\n",
      "ideal expectation value: 1.0340292432232288\n"
     ]
    }
   ],
   "source": [
    "from scipy.optimize import curve_fit\n",
    "\n",
    "def linear_model(x, m, c):\n",
    "    return m*x + c\n",
    "\n",
    "popt, pcov = curve_fit(linear_model, x_vals, y_vals)\n",
    "\n",
    "m, c = popt\n",
    "print(f\"exptl prob: {np.exp(m)}\")   # should be close to 0.8\n",
    "print(f\"ideal expectation value: {np.exp(c)}\")    # should be close to 1.0"
   ]
  }
 ],
 "metadata": {
  "kernelspec": {
   "display_name": "Python 3",
   "language": "python",
   "name": "python3"
  },
  "language_info": {
   "codemirror_mode": {
    "name": "ipython",
    "version": 3
   },
   "file_extension": ".py",
   "mimetype": "text/x-python",
   "name": "python",
   "nbconvert_exporter": "python",
   "pygments_lexer": "ipython3",
   "version": "3.7.7"
  }
 },
 "nbformat": 4,
 "nbformat_minor": 2
}
