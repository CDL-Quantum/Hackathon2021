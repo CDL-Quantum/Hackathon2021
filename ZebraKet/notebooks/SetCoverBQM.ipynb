{
 "cells": [
  {
   "cell_type": "markdown",
   "source": [
    "# The Set Cover Problem DQM\n",
    "CDL Quantum Hackathon 2021"
   ],
   "metadata": {}
  },
  {
   "cell_type": "code",
   "execution_count": 1,
   "source": [
    "# Ziwei Qiu, ziweiqiu@g.harvard.edu\n",
    "import os\n",
    "os.chdir('..')\n",
    "from dimod import BinaryQuadraticModel\n",
    "from dimod import ExactSolver\n",
    "from neal import SimulatedAnnealingSampler\n",
    "from itertools import combinations\n",
    "from dwave.system import LeapHybridSampler\n",
    "import numpy as np\n",
    "import pandas as pd\n",
    "from utils.data import read_inventory_optimization_data"
   ],
   "outputs": [],
   "metadata": {
    "collapsed": false
   }
  },
  {
   "cell_type": "code",
   "execution_count": 2,
   "source": [
    "def build_setcover_bqm(U, V, verbose = False):\n",
    "    \"\"\"Construct BQM for the set cover problem\n",
    "    Args:\n",
    "        U (array-like):\n",
    "            A set of elements defining the universe\n",
    "        V (array of sets):\n",
    "            Array of subsets\n",
    "    Returns:\n",
    "        Binary quadratic model instance\n",
    "        x: variable\n",
    "    \"\"\"\n",
    "    \n",
    "    # Create indicator variables\n",
    "    I = []\n",
    "    for i in range(len(V)):\n",
    "        I.append([1 if U[a] in V[i] else 0 for a in range(len(U))])\n",
    "    \n",
    "    if verbose:\n",
    "        print('Indicator variables: I_i,a',I)\n",
    "    \n",
    "    # Lagrange multipliers A>B>0\n",
    "    A = 2\n",
    "    B = 1\n",
    "    \n",
    "    ##@  Binary Quadratic Model @##\n",
    "    bqm = BinaryQuadraticModel('BINARY')\n",
    "\n",
    "    # Add linear terms\n",
    "    # x linear terms\n",
    "    x = [bqm.add_variable('x_'+str(i+1), A*sum(I[i])+B) for i in range(0,len(V))]\n",
    "    if verbose:\n",
    "        print('x variables:',x)\n",
    "\n",
    "    # y_am linear terms\n",
    "    y = []\n",
    "    for a in range(1,len(U)+1):\n",
    "        y.append([bqm.add_variable('y_('+str(a)+', '+str(m)+')', A*(m**2-1)) for m in range(1,len(V)+1)])\n",
    "    if verbose:\n",
    "        print('y variables:',y)\n",
    "\n",
    "    # Add quadratic terms\n",
    "\n",
    "    # x_i-x_j terms\n",
    "    for i in range(1,len(V)+1):\n",
    "        for j in range(i+1,len(V)+1):\n",
    "            key = ('x_' + str(i), 'x_' + str(j))\n",
    "            bqm.quadratic[key] = 2*A*np.dot(np.array(I[i-1]),np.array(I[j-1]))\n",
    "\n",
    "    # y_am - y_an terms\n",
    "    for m in range(1,len(V)+1):\n",
    "        for n in range(m+1,len(V)+1):\n",
    "            for a in range(1,len(U)+1):\n",
    "                key = ('y_('+str(a)+', '+str(m)+')', 'y_('+str(a)+', '+str(n)+')')\n",
    "                bqm.quadratic[key] = 2*A*(1+m*n)\n",
    "\n",
    "    # x_i-y_am terms\n",
    "    for i in range(1,len(V)+1):\n",
    "        for m in range(1,len(V)+1):\n",
    "            for a in range(1,len(U)+1):\n",
    "                key = ('x_' + str(i), 'y_('+str(a)+', '+str(m)+')')\n",
    "                bqm.quadratic[key] = -2*A*m*I[i-1][a-1]\n",
    "    return bqm, x\n",
    "\n",
    "def solve_bqm(bqm, x, sampler):\n",
    "    response = sampler.sample(bqm)\n",
    "    best_solution = response.first.sample\n",
    "    best_solution = [best_solution[i] for i in x]\n",
    "    print(best_solution)\n",
    "    \n",
    "    return best_solution"
   ],
   "outputs": [],
   "metadata": {
    "collapsed": true
   }
  },
  {
   "cell_type": "markdown",
   "source": [
    "# Implementation"
   ],
   "metadata": {}
  },
  {
   "cell_type": "code",
   "execution_count": 3,
   "source": [
    "# Define a simple set cover problem\n",
    "U = list(set(np.random.randint(10, size=(10))))\n",
    "\n",
    "V = [set(U[i] for i in np.random.randint(len(U), size=(8))) for j in range(5)]\n",
    "\n",
    "print('The universe is',U)\n",
    "print('Number of elements in the universe: {:d}'.format(len(U)))\n",
    "\n",
    "print('There are {:d} collections:'.format(len(V)),V)\n",
    "print('Number of sets: N={:d}'.format(len(V)))"
   ],
   "outputs": [
    {
     "output_type": "stream",
     "name": "stdout",
     "text": [
      "The universe is [1, 2, 4, 5, 8, 9]\n",
      "Number of elements in the universe: 6\n",
      "There are 5 collections: [{1, 2, 4, 8, 9}, {1, 4, 5, 8, 9}, {1, 2, 4, 5}, {1, 2, 4}, {1, 2, 4, 5, 9}]\n",
      "Number of sets: N=5\n"
     ]
    }
   ],
   "metadata": {
    "collapsed": false
   }
  },
  {
   "cell_type": "markdown",
   "source": [
    "### Solve the Set Cover Problem with Simulated Annealing"
   ],
   "metadata": {}
  },
  {
   "cell_type": "code",
   "execution_count": 4,
   "source": [
    "bqm,x = build_setcover_bqm(U, V)\n",
    "best_solution = solve_bqm(bqm, x, SimulatedAnnealingSampler())"
   ],
   "outputs": [
    {
     "output_type": "stream",
     "name": "stdout",
     "text": [
      "[0, 0, 1, 0, 1]\n"
     ]
    }
   ],
   "metadata": {
    "collapsed": false
   }
  },
  {
   "cell_type": "markdown",
   "source": [
    "### Solve the Set Cover Problem with Quantum Annealing (Leap Hybrid Solver)"
   ],
   "metadata": {}
  },
  {
   "cell_type": "code",
   "execution_count": 5,
   "source": [
    "bqm,x = build_setcover_bqm(U, V)\n",
    "best_solution = solve_bqm(bqm, x, LeapHybridSampler())"
   ],
   "outputs": [
    {
     "output_type": "stream",
     "name": "stdout",
     "text": [
      "[0, 1, 1, 0, 0]\n"
     ]
    }
   ],
   "metadata": {
    "collapsed": false
   }
  },
  {
   "cell_type": "markdown",
   "source": [
    "# Grocery Data \n",
    "## Small dataset"
   ],
   "metadata": {}
  },
  {
   "cell_type": "code",
   "execution_count": 6,
   "source": [
    "inventory, supplier_inventory = read_inventory_optimization_data(os.path.join(os.getcwd(),'data/small-cost-mock.csv'))"
   ],
   "outputs": [],
   "metadata": {}
  },
  {
   "cell_type": "code",
   "execution_count": 7,
   "source": [
    "print('There are {:d} items in the universe.\\n'.format(len(inventory)))\n",
    "print('There are {:d} suppliers.\\n'.format(len(supplier_inventory)))\n",
    "\n",
    "# Build the BQM\n",
    "bqm,x = build_setcover_bqm(inventory, supplier_inventory)\n",
    "\n",
    "# Quantum Annealing\n",
    "print('Solution:')\n",
    "best_solution = solve_bqm(bqm, x, LeapHybridSampler())\n",
    "print('There are {:d} suppliers selected.'.format(sum(best_solution)))\n",
    "suppliers = [f'supplier{i}' for i in np.where(best_solution)[0]]\n",
    "print('Selected Suppliers:', suppliers)"
   ],
   "outputs": [
    {
     "output_type": "stream",
     "name": "stdout",
     "text": [
      "There are 20 items in the universe.\n",
      "\n",
      "There are 10 suppliers.\n",
      "\n",
      "Solution:\n",
      "[0, 1, 1, 0, 0, 0, 1, 0, 1, 0]\n",
      "There are 4 suppliers selected.\n",
      "Selected Suppliers: ['supplier1', 'supplier2', 'supplier6', 'supplier8']\n"
     ]
    }
   ],
   "metadata": {
    "collapsed": false
   }
  },
  {
   "cell_type": "markdown",
   "source": [
    "## Medium dataset"
   ],
   "metadata": {}
  },
  {
   "cell_type": "code",
   "execution_count": 8,
   "source": [
    "inventory, supplier_inventory = read_inventory_optimization_data(os.path.join(os.getcwd(),'data/medium-cost-mock.csv'))"
   ],
   "outputs": [],
   "metadata": {}
  },
  {
   "cell_type": "code",
   "execution_count": 9,
   "source": [
    "print('There are {:d} items in the universe.\\n'.format(len(inventory)))\n",
    "print('There are {:d} suppliers.\\n'.format(len(supplier_inventory)))\n",
    "\n",
    "# Build the BQM\n",
    "bqm,x = build_setcover_bqm(inventory, supplier_inventory)\n",
    "\n",
    "# Quantum Annealing\n",
    "print('Solution:')\n",
    "best_solution = solve_bqm(bqm, x, LeapHybridSampler())\n",
    "print('There are {:d} suppliers selected.'.format(sum(best_solution)))\n",
    "suppliers = [f'supplier{i}' for i in np.where(best_solution)[0]]\n",
    "print('Selected Suppliers:', suppliers)"
   ],
   "outputs": [
    {
     "output_type": "stream",
     "name": "stdout",
     "text": [
      "There are 100 items in the universe.\n",
      "\n",
      "There are 40 suppliers.\n",
      "\n",
      "Solution:\n",
      "[1, 1, 1, 0, 1, 1, 1, 1, 1, 1, 1, 1, 1, 1, 1, 0, 1, 1, 1, 1, 1, 0, 1, 1, 1, 1, 1, 1, 1, 0, 1, 1, 1, 1, 1, 1, 1, 1, 1, 1]\n",
      "There are 36 suppliers selected.\n",
      "Selected Suppliers: ['supplier0', 'supplier1', 'supplier2', 'supplier4', 'supplier5', 'supplier6', 'supplier7', 'supplier8', 'supplier9', 'supplier10', 'supplier11', 'supplier12', 'supplier13', 'supplier14', 'supplier16', 'supplier17', 'supplier18', 'supplier19', 'supplier20', 'supplier22', 'supplier23', 'supplier24', 'supplier25', 'supplier26', 'supplier27', 'supplier28', 'supplier30', 'supplier31', 'supplier32', 'supplier33', 'supplier34', 'supplier35', 'supplier36', 'supplier37', 'supplier38', 'supplier39']\n"
     ]
    }
   ],
   "metadata": {
    "collapsed": false
   }
  },
  {
   "cell_type": "markdown",
   "source": [
    "## Large dataset"
   ],
   "metadata": {}
  },
  {
   "cell_type": "code",
   "execution_count": 10,
   "source": [
    "inventory, supplier_inventory = read_inventory_optimization_data(os.path.join(os.getcwd(),'data/large-cost-mock.csv'))"
   ],
   "outputs": [],
   "metadata": {}
  },
  {
   "cell_type": "code",
   "execution_count": 11,
   "source": [
    "print('There are {:d} items in the universe.\\n'.format(len(inventory)))\n",
    "print('There are {:d} suppliers.'.format(len(supplier_inventory)))\n",
    "\n",
    "# Build the BQM\n",
    "bqm,x = build_setcover_bqm(inventory, supplier_inventory)\n",
    "\n",
    "# Quantum Annealing\n",
    "best_solution = solve_bqm(bqm, x, LeapHybridSampler())\n",
    "\n",
    "suppliers = [f'supplier{i}' for i in np.where(best_solution)[0]]\n",
    "print('Selected Suppliers:', suppliers)"
   ],
   "outputs": [
    {
     "output_type": "stream",
     "name": "stdout",
     "text": [
      "There are 200 items in the universe.\n",
      "\n",
      "There are 80 suppliers.\n",
      "[1, 0, 1, 1, 1, 1, 1, 1, 1, 1, 1, 1, 1, 1, 1, 1, 1, 1, 1, 1, 1, 1, 1, 1, 1, 1, 1, 1, 1, 1, 1, 1, 1, 1, 1, 1, 1, 1, 1, 1, 1, 1, 1, 1, 1, 1, 1, 1, 1, 1, 1, 0, 1, 1, 1, 1, 1, 1, 1, 1, 1, 1, 1, 1, 1, 1, 1, 1, 1, 1, 1, 1, 1, 1, 1, 1, 1, 1, 1, 1]\n",
      "Selected Suppliers: ['supplier0', 'supplier2', 'supplier3', 'supplier4', 'supplier5', 'supplier6', 'supplier7', 'supplier8', 'supplier9', 'supplier10', 'supplier11', 'supplier12', 'supplier13', 'supplier14', 'supplier15', 'supplier16', 'supplier17', 'supplier18', 'supplier19', 'supplier20', 'supplier21', 'supplier22', 'supplier23', 'supplier24', 'supplier25', 'supplier26', 'supplier27', 'supplier28', 'supplier29', 'supplier30', 'supplier31', 'supplier32', 'supplier33', 'supplier34', 'supplier35', 'supplier36', 'supplier37', 'supplier38', 'supplier39', 'supplier40', 'supplier41', 'supplier42', 'supplier43', 'supplier44', 'supplier45', 'supplier46', 'supplier47', 'supplier48', 'supplier49', 'supplier50', 'supplier52', 'supplier53', 'supplier54', 'supplier55', 'supplier56', 'supplier57', 'supplier58', 'supplier59', 'supplier60', 'supplier61', 'supplier62', 'supplier63', 'supplier64', 'supplier65', 'supplier66', 'supplier67', 'supplier68', 'supplier69', 'supplier70', 'supplier71', 'supplier72', 'supplier73', 'supplier74', 'supplier75', 'supplier76', 'supplier77', 'supplier78', 'supplier79']\n"
     ]
    }
   ],
   "metadata": {
    "collapsed": true
   }
  },
  {
   "cell_type": "markdown",
   "source": [
    "## Extra Large Dataset"
   ],
   "metadata": {}
  },
  {
   "cell_type": "code",
   "execution_count": 13,
   "source": [
    "inventory, supplier_inventory = read_inventory_optimization_data(os.path.join(os.getcwd(),'data/extra_large-cost-mock.csv'))"
   ],
   "outputs": [],
   "metadata": {
    "collapsed": true
   }
  },
  {
   "cell_type": "code",
   "execution_count": 14,
   "source": [
    "print('There are {:d} items in the universe.\\n'.format(len(inventory)))\n",
    "print('There are {:d} suppliers.'.format(len(supplier_inventory)))\n",
    "\n",
    "# Build the BQM\n",
    "bqm,x = build_setcover_bqm(inventory, supplier_inventory)\n",
    "\n",
    "# Quantum Annealing\n",
    "best_solution = solve_bqm(bqm, x, LeapHybridSampler())\n",
    "\n",
    "suppliers = [f'supplier{i}' for i in np.where(best_solution)[0]]\n",
    "print('Selected Suppliers:', suppliers)"
   ],
   "outputs": [
    {
     "output_type": "stream",
     "name": "stdout",
     "text": [
      "There are 1000 items in the universe.\n",
      "\n",
      "There are 120 suppliers.\n"
     ]
    },
    {
     "output_type": "error",
     "ename": "KeyboardInterrupt",
     "evalue": "",
     "traceback": [
      "\u001b[0;31m---------------------------------------------------------------------------\u001b[0m",
      "\u001b[0;31mKeyboardInterrupt\u001b[0m                         Traceback (most recent call last)",
      "\u001b[0;32m<ipython-input-14-5d27b300596c>\u001b[0m in \u001b[0;36m<module>\u001b[0;34m\u001b[0m\n\u001b[1;32m      3\u001b[0m \u001b[0;34m\u001b[0m\u001b[0m\n\u001b[1;32m      4\u001b[0m \u001b[0;31m# Build the BQM\u001b[0m\u001b[0;34m\u001b[0m\u001b[0;34m\u001b[0m\u001b[0;34m\u001b[0m\u001b[0m\n\u001b[0;32m----> 5\u001b[0;31m \u001b[0mbqm\u001b[0m\u001b[0;34m,\u001b[0m\u001b[0mx\u001b[0m \u001b[0;34m=\u001b[0m \u001b[0mbuild_setcover_bqm\u001b[0m\u001b[0;34m(\u001b[0m\u001b[0minventory\u001b[0m\u001b[0;34m,\u001b[0m \u001b[0msupplier_inventory\u001b[0m\u001b[0;34m)\u001b[0m\u001b[0;34m\u001b[0m\u001b[0;34m\u001b[0m\u001b[0m\n\u001b[0m\u001b[1;32m      6\u001b[0m \u001b[0;34m\u001b[0m\u001b[0m\n\u001b[1;32m      7\u001b[0m \u001b[0;31m# Quantum Annealing\u001b[0m\u001b[0;34m\u001b[0m\u001b[0;34m\u001b[0m\u001b[0;34m\u001b[0m\u001b[0m\n",
      "\u001b[0;32m<ipython-input-2-484c51a5c94b>\u001b[0m in \u001b[0;36mbuild_setcover_bqm\u001b[0;34m(U, V, verbose)\u001b[0m\n\u001b[1;32m     52\u001b[0m             \u001b[0;32mfor\u001b[0m \u001b[0ma\u001b[0m \u001b[0;32min\u001b[0m \u001b[0mrange\u001b[0m\u001b[0;34m(\u001b[0m\u001b[0;36m1\u001b[0m\u001b[0;34m,\u001b[0m\u001b[0mlen\u001b[0m\u001b[0;34m(\u001b[0m\u001b[0mU\u001b[0m\u001b[0;34m)\u001b[0m\u001b[0;34m+\u001b[0m\u001b[0;36m1\u001b[0m\u001b[0;34m)\u001b[0m\u001b[0;34m:\u001b[0m\u001b[0;34m\u001b[0m\u001b[0;34m\u001b[0m\u001b[0m\n\u001b[1;32m     53\u001b[0m                 \u001b[0mkey\u001b[0m \u001b[0;34m=\u001b[0m \u001b[0;34m(\u001b[0m\u001b[0;34m'y_('\u001b[0m\u001b[0;34m+\u001b[0m\u001b[0mstr\u001b[0m\u001b[0;34m(\u001b[0m\u001b[0ma\u001b[0m\u001b[0;34m)\u001b[0m\u001b[0;34m+\u001b[0m\u001b[0;34m', '\u001b[0m\u001b[0;34m+\u001b[0m\u001b[0mstr\u001b[0m\u001b[0;34m(\u001b[0m\u001b[0mm\u001b[0m\u001b[0;34m)\u001b[0m\u001b[0;34m+\u001b[0m\u001b[0;34m')'\u001b[0m\u001b[0;34m,\u001b[0m \u001b[0;34m'y_('\u001b[0m\u001b[0;34m+\u001b[0m\u001b[0mstr\u001b[0m\u001b[0;34m(\u001b[0m\u001b[0ma\u001b[0m\u001b[0;34m)\u001b[0m\u001b[0;34m+\u001b[0m\u001b[0;34m', '\u001b[0m\u001b[0;34m+\u001b[0m\u001b[0mstr\u001b[0m\u001b[0;34m(\u001b[0m\u001b[0mn\u001b[0m\u001b[0;34m)\u001b[0m\u001b[0;34m+\u001b[0m\u001b[0;34m')'\u001b[0m\u001b[0;34m)\u001b[0m\u001b[0;34m\u001b[0m\u001b[0;34m\u001b[0m\u001b[0m\n\u001b[0;32m---> 54\u001b[0;31m                 \u001b[0mbqm\u001b[0m\u001b[0;34m.\u001b[0m\u001b[0mquadratic\u001b[0m\u001b[0;34m[\u001b[0m\u001b[0mkey\u001b[0m\u001b[0;34m]\u001b[0m \u001b[0;34m=\u001b[0m \u001b[0;36m2\u001b[0m\u001b[0;34m*\u001b[0m\u001b[0mA\u001b[0m\u001b[0;34m*\u001b[0m\u001b[0;34m(\u001b[0m\u001b[0;36m1\u001b[0m\u001b[0;34m+\u001b[0m\u001b[0mm\u001b[0m\u001b[0;34m*\u001b[0m\u001b[0mn\u001b[0m\u001b[0;34m)\u001b[0m\u001b[0;34m\u001b[0m\u001b[0;34m\u001b[0m\u001b[0m\n\u001b[0m\u001b[1;32m     55\u001b[0m \u001b[0;34m\u001b[0m\u001b[0m\n\u001b[1;32m     56\u001b[0m     \u001b[0;31m# x_i-y_am terms\u001b[0m\u001b[0;34m\u001b[0m\u001b[0;34m\u001b[0m\u001b[0;34m\u001b[0m\u001b[0m\n",
      "\u001b[0;32m~/miniconda3/envs/zebraket-cdl-hackathon-2021/lib/python3.9/site-packages/dimod/core/bqm.py\u001b[0m in \u001b[0;36m__setitem__\u001b[0;34m(self, uv, bias)\u001b[0m\n\u001b[1;32m    248\u001b[0m         \u001b[0;31m# inherits its ability to reshape the bqm from the `.set_linear` method\u001b[0m\u001b[0;34m\u001b[0m\u001b[0;34m\u001b[0m\u001b[0;34m\u001b[0m\u001b[0m\n\u001b[1;32m    249\u001b[0m         \u001b[0mu\u001b[0m\u001b[0;34m,\u001b[0m \u001b[0mv\u001b[0m \u001b[0;34m=\u001b[0m \u001b[0muv\u001b[0m\u001b[0;34m\u001b[0m\u001b[0;34m\u001b[0m\u001b[0m\n\u001b[0;32m--> 250\u001b[0;31m         \u001b[0mself\u001b[0m\u001b[0;34m.\u001b[0m\u001b[0m_bqm\u001b[0m\u001b[0;34m.\u001b[0m\u001b[0mset_quadratic\u001b[0m\u001b[0;34m(\u001b[0m\u001b[0mu\u001b[0m\u001b[0;34m,\u001b[0m \u001b[0mv\u001b[0m\u001b[0;34m,\u001b[0m \u001b[0mbias\u001b[0m\u001b[0;34m)\u001b[0m\u001b[0;34m\u001b[0m\u001b[0;34m\u001b[0m\u001b[0m\n\u001b[0m\u001b[1;32m    251\u001b[0m \u001b[0;34m\u001b[0m\u001b[0m\n\u001b[1;32m    252\u001b[0m     \u001b[0;32mdef\u001b[0m \u001b[0mmin\u001b[0m\u001b[0;34m(\u001b[0m\u001b[0mself\u001b[0m\u001b[0;34m,\u001b[0m \u001b[0mdefault\u001b[0m\u001b[0;34m=\u001b[0m\u001b[0;32mNone\u001b[0m\u001b[0;34m)\u001b[0m\u001b[0;34m:\u001b[0m\u001b[0;34m\u001b[0m\u001b[0;34m\u001b[0m\u001b[0m\n",
      "\u001b[0;32m~/miniconda3/envs/zebraket-cdl-hackathon-2021/lib/python3.9/site-packages/dimod/bqm/adjdictbqm.py\u001b[0m in \u001b[0;36mset_quadratic\u001b[0;34m(self, u, v, bias)\u001b[0m\n\u001b[1;32m    652\u001b[0m \u001b[0;34m\u001b[0m\u001b[0m\n\u001b[1;32m    653\u001b[0m         \u001b[0madj\u001b[0m \u001b[0;34m=\u001b[0m \u001b[0mself\u001b[0m\u001b[0;34m.\u001b[0m\u001b[0m_adj\u001b[0m\u001b[0;34m\u001b[0m\u001b[0;34m\u001b[0m\u001b[0m\n\u001b[0;32m--> 654\u001b[0;31m         \u001b[0madj\u001b[0m\u001b[0;34m[\u001b[0m\u001b[0mu\u001b[0m\u001b[0;34m]\u001b[0m\u001b[0;34m[\u001b[0m\u001b[0mv\u001b[0m\u001b[0;34m]\u001b[0m \u001b[0;34m=\u001b[0m \u001b[0madj\u001b[0m\u001b[0;34m[\u001b[0m\u001b[0mv\u001b[0m\u001b[0;34m]\u001b[0m\u001b[0;34m[\u001b[0m\u001b[0mu\u001b[0m\u001b[0;34m]\u001b[0m \u001b[0;34m=\u001b[0m \u001b[0mbias\u001b[0m\u001b[0;34m\u001b[0m\u001b[0;34m\u001b[0m\u001b[0m\n\u001b[0m",
      "\u001b[0;31mKeyboardInterrupt\u001b[0m: "
     ]
    }
   ],
   "metadata": {
    "collapsed": true
   }
  }
 ],
 "metadata": {
  "kernelspec": {
   "name": "python3",
   "display_name": "Python 3.9.5 64-bit ('zebraket-cdl-hackathon-2021': conda)"
  },
  "language_info": {
   "codemirror_mode": {
    "name": "ipython",
    "version": 3
   },
   "file_extension": ".py",
   "mimetype": "text/x-python",
   "name": "python",
   "nbconvert_exporter": "python",
   "pygments_lexer": "ipython3",
   "version": "3.9.5"
  },
  "interpreter": {
   "hash": "5f20994d19ff6c8c5cec1db5b7f7944e8fd16ef471b6d6e4ac9b86936de59e16"
  }
 },
 "nbformat": 4,
 "nbformat_minor": 2
}