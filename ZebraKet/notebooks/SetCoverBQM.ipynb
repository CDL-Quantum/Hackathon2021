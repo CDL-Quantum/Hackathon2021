{
 "cells": [
  {
   "cell_type": "markdown",
   "source": [
    "# The Set Cover Problem BQM\n",
    "\n",
    "CDL Quantum Hackathon 2021  \n",
    "Team ZebraKet   \n",
    "Ziwei Qiu (ziweiqiu@g.harvard.edu), Alex Khan, Theo Cleland, Ehsan Torabizadeh"
   ],
   "metadata": {}
  },
  {
   "cell_type": "markdown",
   "source": [
    "# Problem Definition\n",
    "\n",
    "As a grocery store manager, you want to re-stock. This notebook helps you decide which suppliers to buy all your items you need. \n",
    "\n",
    "Your inventory has $M$ items in total and there are $N$ suppliers in the market. Each supplier only provides a subset of items so you have to purchase from multiple suppliers. You want to minimize the number of suppliers, since more suppliers add overhead expenses in the real world (such as negoitation, traveling, etc.). The constraint is that the union of the items provided from the suppliers you chose is equal to your inventory. Therefore, this is a set cover problem.\n",
    "\n",
    "### QUBO Representation\n",
    "\n",
    "We define two set of variables in this problem [1]:  \n",
    "(1) $x_\\alpha$ is a **discrete** variable which denotes the quantity of item $\\alpha$ you decide to purchase.  \n",
    "(2) $y_{\\alpha,m}$ is a **binary** variable which equals to 1 if among the suppliers you choose, there are $m$ of suppliers have the item $\\alpha$ available.   \n",
    "\n",
    "The following Hamiltonian represents the problem:\n",
    "$$H = A\\sum_{\\alpha=1}^{M}\\left(1-\\sum_{m=1}^{N}y_{\\alpha,m}\\right)^2 + A\\sum_{\\alpha=1}^{M}\\left(\\sum_{m=1}^{N}my_{\\alpha,m}-\\sum_{i:\\alpha\\in V_i}x_i \\right)^2 + \n",
    "B\\sum_{i=1}^{N} x_i$$\n",
    "\n",
    " $$\\sum_{i:\\alpha\\in V_i}x_i = \\sum_{i=1}^{N} x_i I_{i,\\alpha}$$\n",
    " \n",
    ",where $I_{i,\\alpha}$ is an indicator variable, which equals to 1 if item $\\alpha$ is provided by supplier $i$.\n",
    "\n",
    "The first term enforces exactly one $y_{\\alpha,m}$ equals 1 to guarantee this is a valid solution. The second term represents the contraints you need to cover all the items in the inventory (or universe). The third term in minimizes the number of suppliers. We need to satisfy $A>B>0$ in order to get valid solutions. \n",
    "\n",
    "We expand the Hamiltonian $H$ to get the linear and quadratic terms in the QUBO representation.\n",
    "\n",
    "$$H=\\sum_{\\alpha=1}^{M}\\sum_{m=1}^{N}A(m^2-1)y_{\\alpha,m}+\\sum_{i=1}^{N}\\left(\\sum_{\\alpha=1}^{M}AI_{i,\\alpha}+B \\right)x_i+2A\\sum_{\\alpha=1}^{M}\\left[\\sum_{m,n}(1+mn)y_{\\alpha,m}y_{\\alpha,n}+\\sum_{i,j}I_{i,\\alpha}I_{j,\\alpha}x_ix_j-\\sum_{m,i}my_{\\alpha,m}I_{i,\\alpha}x_i\\right]$$\n",
    "\n",
    "The first two terms are **linear** terms and the rest are **quadratic** terms.\n"
   ],
   "metadata": {}
  },
  {
   "cell_type": "code",
   "execution_count": 1,
   "source": [
    "# Ziwei Qiu, ziweiqiu@g.harvard.edu\n",
    "import os\n",
    "os.chdir('..')\n",
    "from dimod import BinaryQuadraticModel\n",
    "from dimod import ExactSolver\n",
    "from neal import SimulatedAnnealingSampler\n",
    "from itertools import combinations\n",
    "from dwave.system import LeapHybridSampler\n",
    "import numpy as np\n",
    "import pandas as pd\n",
    "from utils.data import read_inventory_optimization_data\n",
    "from services.classical_optimizers import binary_supplier_optimizer"
   ],
   "outputs": [],
   "metadata": {
    "collapsed": false
   }
  },
  {
   "cell_type": "code",
   "execution_count": 2,
   "source": [
    "def build_setcover_bqm(U, V, verbose = False):\n",
    "    \"\"\"Construct BQM for the set cover problem\n",
    "    Args:\n",
    "        U (array-like):\n",
    "            A set of elements defining the universe\n",
    "        V (array of sets):\n",
    "            Array of subsets\n",
    "    Returns:\n",
    "        Binary quadratic model instance\n",
    "        x: variable\n",
    "    \"\"\"\n",
    "    \n",
    "    # Create indicator variables\n",
    "    I = []\n",
    "    for i in range(len(V)):\n",
    "        I.append([1 if U[a] in V[i] else 0 for a in range(len(U))])\n",
    "    \n",
    "    if verbose:\n",
    "        print('Indicator variables: I_i,a',I)\n",
    "    \n",
    "    # Lagrange multipliers A>B>0\n",
    "    A = 2\n",
    "    B = 1\n",
    "    \n",
    "    ##@  Binary Quadratic Model @##\n",
    "    bqm = BinaryQuadraticModel('BINARY')\n",
    "\n",
    "    # Add linear terms\n",
    "    # x linear terms\n",
    "    x = [bqm.add_variable('x_'+str(i+1), A*sum(I[i])+B) for i in range(0,len(V))]\n",
    "    if verbose:\n",
    "        print('x variables:',x)\n",
    "\n",
    "    # y_am linear terms\n",
    "    y = []\n",
    "    for a in range(1,len(U)+1):\n",
    "        y.append([bqm.add_variable('y_('+str(a)+', '+str(m)+')', A*(m**2-1)) for m in range(1,len(V)+1)])\n",
    "    if verbose:\n",
    "        print('y variables:',y)\n",
    "\n",
    "    # Add quadratic terms\n",
    "\n",
    "    # x_i-x_j terms\n",
    "    for i in range(1,len(V)+1):\n",
    "        for j in range(i+1,len(V)+1):\n",
    "            key = ('x_' + str(i), 'x_' + str(j))\n",
    "            bqm.quadratic[key] = 2*A*np.dot(np.array(I[i-1]),np.array(I[j-1]))\n",
    "\n",
    "    # y_am - y_an terms\n",
    "    for m in range(1,len(V)+1):\n",
    "        for n in range(m+1,len(V)+1):\n",
    "            for a in range(1,len(U)+1):\n",
    "                key = ('y_('+str(a)+', '+str(m)+')', 'y_('+str(a)+', '+str(n)+')')\n",
    "                bqm.quadratic[key] = 2*A*(1+m*n)\n",
    "\n",
    "    # x_i-y_am terms\n",
    "    for i in range(1,len(V)+1):\n",
    "        for m in range(1,len(V)+1):\n",
    "            for a in range(1,len(U)+1):\n",
    "                key = ('x_' + str(i), 'y_('+str(a)+', '+str(m)+')')\n",
    "                bqm.quadratic[key] = -2*A*m*I[i-1][a-1]\n",
    "    return bqm, x\n",
    "\n",
    "def solve_bqm(bqm, x, sampler, **kwargs):\n",
    "    response = sampler.sample(bqm, **kwargs)\n",
    "    energies = response.record.energy\n",
    "    best_energy = energies[0]\n",
    "    best_solution = response.first.sample\n",
    "    best_solution = [best_solution[i] for i in x]\n",
    "    print(best_solution)\n",
    "    print(f'Energy: {best_energy}')\n",
    "    \n",
    "    return best_solution, best_energy\n",
    "\n",
    "def display_classical_solution(classical_solution, supplier_data):\n",
    "    print('\\nSolution (Classical Algorithm):')\n",
    "    print('There are {:d} suppliers selected.'.format(len(classical_solution)))\n",
    "    idx_supplier = [index for index, data in enumerate(supplier_data) if len([s for s in classical_solution if s == data]) > 0]\n",
    "    suppliers = [f'supplier{i}' for i in idx_supplier]\n",
    "    print('Selected Suppliers:', suppliers)\n",
    "\n",
    "def display_data(inventory, supplier_inventory):\n",
    "    print('There are {:d} items we need to source in our inventory.'.format(len(inventory)))\n",
    "    print('There are {:d} suppliers.'.format(len(supplier_inventory)))\n",
    "    print('Inventory:')\n",
    "    print(inventory)\n",
    "    print('\\nSupplier data:')\n",
    "    for idx, supplier_data in enumerate(supplier_inventory):\n",
    "        print(f'supplier{idx}: ', supplier_data)"
   ],
   "outputs": [],
   "metadata": {
    "collapsed": true
   }
  },
  {
   "cell_type": "markdown",
   "source": [
    "# Implementation"
   ],
   "metadata": {}
  },
  {
   "cell_type": "code",
   "execution_count": 3,
   "source": [
    "# Define a simple set cover problem\n",
    "U = list(set(np.random.randint(10, size=(10))))\n",
    "\n",
    "V = [set(U[i] for i in np.random.randint(len(U), size=(8))) for j in range(5)]\n",
    "\n",
    "print('The universe is',U)\n",
    "print('Number of elements in the universe: {:d}'.format(len(U)))\n",
    "\n",
    "print('There are {:d} collections:'.format(len(V)),V)\n",
    "print('Number of sets: N={:d}'.format(len(V)))"
   ],
   "outputs": [
    {
     "output_type": "stream",
     "name": "stdout",
     "text": [
      "The universe is [0, 2, 3, 4, 9]\n",
      "Number of elements in the universe: 5\n",
      "There are 5 collections: [{0, 2, 3, 4, 9}, {0, 9, 2}, {0, 2, 3, 4}, {0, 9, 2, 3}, {0, 2, 3, 4, 9}]\n",
      "Number of sets: N=5\n"
     ]
    }
   ],
   "metadata": {
    "collapsed": false
   }
  },
  {
   "cell_type": "markdown",
   "source": [
    "### Solve the Set Cover Problem with Simulated Annealing"
   ],
   "metadata": {}
  },
  {
   "cell_type": "code",
   "execution_count": 4,
   "source": [
    "bqm,x = build_setcover_bqm(U, V)\n",
    "best_solution = solve_bqm(bqm, x, SimulatedAnnealingSampler())"
   ],
   "outputs": [
    {
     "output_type": "stream",
     "name": "stdout",
     "text": [
      "[0, 1, 0, 1, 1]\n",
      "Energy: -7.0\n"
     ]
    }
   ],
   "metadata": {
    "collapsed": false
   }
  },
  {
   "cell_type": "markdown",
   "source": [
    "### Solve the Set Cover Problem with Quantum Annealing (Leap Hybrid Solver)"
   ],
   "metadata": {}
  },
  {
   "cell_type": "code",
   "execution_count": 5,
   "source": [
    "bqm,x = build_setcover_bqm(U, V)\n",
    "best_solution = solve_bqm(bqm, x, LeapHybridSampler())"
   ],
   "outputs": [
    {
     "output_type": "stream",
     "name": "stdout",
     "text": [
      "[0, 0, 0, 0, 1]\n",
      "Energy: -9.0\n"
     ]
    }
   ],
   "metadata": {
    "collapsed": false
   }
  },
  {
   "cell_type": "markdown",
   "source": [
    "# Grocery Data \n",
    "## Small dataset"
   ],
   "metadata": {}
  },
  {
   "cell_type": "code",
   "execution_count": 6,
   "source": [
    "inventory, supplier_inventory = read_inventory_optimization_data(os.path.join(os.getcwd(),'data/small-cost-mock.csv'))\n",
    "# Build the BQM\n",
    "bqm,x = build_setcover_bqm(inventory, supplier_inventory)\n",
    "print('There are {:d} items in the universe.\\n'.format(len(inventory)))\n",
    "print('There are {:d} suppliers.\\n'.format(len(supplier_inventory)))"
   ],
   "outputs": [
    {
     "output_type": "stream",
     "name": "stdout",
     "text": [
      "There are 20 items in the universe.\n",
      "\n",
      "There are 10 suppliers.\n",
      "\n"
     ]
    }
   ],
   "metadata": {
    "collapsed": true
   }
  },
  {
   "cell_type": "code",
   "execution_count": 7,
   "source": [
    "# Quantum Annealing\n",
    "print('Solution (Hybrid):')\n",
    "best_solution, best_energy = solve_bqm(bqm, x, LeapHybridSampler())\n",
    "print('There are {:d} suppliers selected.'.format(sum(best_solution)))\n",
    "suppliers = [f'supplier{i}' for i in np.where(best_solution)[0]]\n",
    "print('Selected Suppliers:', suppliers)"
   ],
   "outputs": [
    {
     "output_type": "stream",
     "name": "stdout",
     "text": [
      "Solution (Hybrid):\n",
      "[0, 0, 0, 1, 1, 0, 1, 0, 0, 0]\n",
      "Energy: -23.0\n",
      "There are 3 suppliers selected.\n",
      "Selected Suppliers: ['supplier3', 'supplier4', 'supplier6']\n"
     ]
    }
   ],
   "metadata": {
    "collapsed": false
   }
  },
  {
   "cell_type": "code",
   "execution_count": 8,
   "source": [
    "# Simulated Annealing\n",
    "print('Solution (Simulated Annealing):')\n",
    "best_solution, best_energy = solve_bqm(bqm, x, SimulatedAnnealingSampler(), **{\"num_reads\":100, \"num_sweeps\": 1000})\n",
    "print('There are {:d} suppliers selected.'.format(sum(best_solution)))\n",
    "suppliers = [f'supplier{i}' for i in np.where(best_solution)[0]]\n",
    "print('Selected Suppliers:', suppliers)"
   ],
   "outputs": [
    {
     "output_type": "stream",
     "name": "stdout",
     "text": [
      "Solution (Simulated Annealing):\n",
      "[1, 1, 0, 1, 1, 0, 1, 0, 1, 1]\n",
      "Energy: 14.0\n",
      "There are 7 suppliers selected.\n",
      "Selected Suppliers: ['supplier0', 'supplier1', 'supplier3', 'supplier4', 'supplier6', 'supplier8', 'supplier9']\n"
     ]
    }
   ],
   "metadata": {}
  },
  {
   "cell_type": "code",
   "execution_count": 9,
   "source": [
    "# Classical Algo\n",
    "best_solution_classical = binary_supplier_optimizer(inventory, supplier_inventory)\n",
    "display_classical_solution(best_solution_classical, supplier_inventory)"
   ],
   "outputs": [
    {
     "output_type": "stream",
     "name": "stdout",
     "text": [
      "\n",
      "Solution (Classical Algorithm):\n",
      "There are 2 suppliers selected.\n",
      "Selected Suppliers: ['supplier0', 'supplier7']\n"
     ]
    }
   ],
   "metadata": {}
  },
  {
   "cell_type": "markdown",
   "source": [
    "## Medium dataset"
   ],
   "metadata": {}
  },
  {
   "cell_type": "code",
   "execution_count": 10,
   "source": [
    "inventory, supplier_inventory = read_inventory_optimization_data(os.path.join(os.getcwd(),'data/medium-cost-mock.csv'))\n",
    "# Build the BQM\n",
    "bqm,x = build_setcover_bqm(inventory, supplier_inventory)\n",
    "print('There are {:d} items in the universe.\\n'.format(len(inventory)))\n",
    "print('There are {:d} suppliers.\\n'.format(len(supplier_inventory)))"
   ],
   "outputs": [
    {
     "output_type": "stream",
     "name": "stdout",
     "text": [
      "There are 100 items in the universe.\n",
      "\n",
      "There are 40 suppliers.\n",
      "\n"
     ]
    }
   ],
   "metadata": {
    "collapsed": true
   }
  },
  {
   "cell_type": "code",
   "execution_count": 13,
   "source": [
    "# Quantum Annealing\n",
    "print('Solution (Hybrid):')\n",
    "best_solution, best_energy = solve_bqm(bqm, x, LeapHybridSampler())\n",
    "print('There are {:d} suppliers selected.'.format(sum(best_solution)))\n",
    "suppliers = [f'supplier{i}' for i in np.where(best_solution)[0]]\n",
    "print('Selected Suppliers:', suppliers)"
   ],
   "outputs": [
    {
     "output_type": "stream",
     "name": "stdout",
     "text": [
      "Solution (Hybrid):\n",
      "[1, 1, 1, 1, 1, 1, 1, 1, 1, 0, 1, 1, 0, 0, 1, 1, 1, 1, 1, 1, 1, 1, 1, 1, 1, 1, 1, 1, 1, 1, 1, 1, 1, 0, 1, 1, 1, 1, 1, 1]\n",
      "Energy: 888.0\n",
      "There are 36 suppliers selected.\n",
      "Selected Suppliers: ['supplier0', 'supplier1', 'supplier2', 'supplier3', 'supplier4', 'supplier5', 'supplier6', 'supplier7', 'supplier8', 'supplier10', 'supplier11', 'supplier14', 'supplier15', 'supplier16', 'supplier17', 'supplier18', 'supplier19', 'supplier20', 'supplier21', 'supplier22', 'supplier23', 'supplier24', 'supplier25', 'supplier26', 'supplier27', 'supplier28', 'supplier29', 'supplier30', 'supplier31', 'supplier32', 'supplier34', 'supplier35', 'supplier36', 'supplier37', 'supplier38', 'supplier39']\n"
     ]
    }
   ],
   "metadata": {
    "collapsed": false
   }
  },
  {
   "cell_type": "code",
   "execution_count": 14,
   "source": [
    "# Simulated Annealing\n",
    "print('Solution (Simulated Annealing):')\n",
    "best_solution, best_energy = solve_bqm(bqm, x, SimulatedAnnealingSampler(), **{\"num_reads\":100, \"num_sweeps\": 1000})\n",
    "print('There are {:d} suppliers selected.'.format(sum(best_solution)))\n",
    "suppliers = [f'supplier{i}' for i in np.where(best_solution)[0]]\n",
    "print('Selected Suppliers:', suppliers)"
   ],
   "outputs": [
    {
     "output_type": "stream",
     "name": "stdout",
     "text": [
      "Solution (Simulated Annealing):\n",
      "[1, 1, 1, 1, 1, 1, 1, 1, 1, 1, 1, 0, 0, 1, 1, 0, 1, 1, 1, 1, 1, 1, 1, 1, 1, 1, 1, 1, 1, 1, 1, 1, 1, 0, 1, 1, 1, 1, 1, 1]\n",
      "Energy: 1111.0\n",
      "There are 36 suppliers selected.\n",
      "Selected Suppliers: ['supplier0', 'supplier1', 'supplier2', 'supplier3', 'supplier4', 'supplier5', 'supplier6', 'supplier7', 'supplier8', 'supplier9', 'supplier10', 'supplier13', 'supplier14', 'supplier16', 'supplier17', 'supplier18', 'supplier19', 'supplier20', 'supplier21', 'supplier22', 'supplier23', 'supplier24', 'supplier25', 'supplier26', 'supplier27', 'supplier28', 'supplier29', 'supplier30', 'supplier31', 'supplier32', 'supplier34', 'supplier35', 'supplier36', 'supplier37', 'supplier38', 'supplier39']\n"
     ]
    }
   ],
   "metadata": {}
  },
  {
   "cell_type": "code",
   "execution_count": 15,
   "source": [
    "# Classical Algo\n",
    "best_solution_classical = binary_supplier_optimizer(inventory, supplier_inventory)\n",
    "display_classical_solution(best_solution_classical, supplier_inventory)"
   ],
   "outputs": [
    {
     "output_type": "stream",
     "name": "stdout",
     "text": [
      "\n",
      "Solution (Classical Algorithm):\n",
      "There are 2 suppliers selected.\n",
      "Selected Suppliers: ['supplier2', 'supplier22']\n"
     ]
    }
   ],
   "metadata": {}
  },
  {
   "cell_type": "markdown",
   "source": [
    "## Large dataset"
   ],
   "metadata": {}
  },
  {
   "cell_type": "code",
   "execution_count": 16,
   "source": [
    "inventory, supplier_inventory = read_inventory_optimization_data(os.path.join(os.getcwd(),'data/large-cost-mock.csv'))\n",
    "# Build the BQM\n",
    "bqm,x = build_setcover_bqm(inventory, supplier_inventory)\n",
    "print('There are {:d} items in the universe.\\n'.format(len(inventory)))\n",
    "print('There are {:d} suppliers.\\n'.format(len(supplier_inventory)))"
   ],
   "outputs": [
    {
     "output_type": "stream",
     "name": "stdout",
     "text": [
      "There are 200 items in the universe.\n",
      "\n",
      "There are 80 suppliers.\n",
      "\n"
     ]
    }
   ],
   "metadata": {
    "collapsed": true
   }
  },
  {
   "cell_type": "code",
   "execution_count": 17,
   "source": [
    "# Quantum Annealing\n",
    "print('Solution (Hybrid):')\n",
    "best_solution, best_energy = solve_bqm(bqm, x, LeapHybridSampler())\n",
    "print('There are {:d} suppliers selected.'.format(sum(best_solution)))\n",
    "suppliers = [f'supplier{i}' for i in np.where(best_solution)[0]]\n",
    "print('Selected Suppliers:', suppliers)"
   ],
   "outputs": [
    {
     "output_type": "stream",
     "name": "stdout",
     "text": [
      "Solution (Hybrid):\n",
      "[1, 1, 1, 1, 1, 1, 1, 1, 1, 1, 1, 1, 1, 1, 1, 1, 1, 1, 1, 1, 0, 1, 1, 1, 1, 1, 1, 1, 1, 1, 1, 1, 1, 1, 1, 1, 1, 1, 1, 1, 1, 1, 1, 1, 1, 1, 1, 1, 1, 1, 1, 1, 1, 1, 1, 1, 1, 1, 1, 1, 1, 1, 1, 1, 1, 1, 0, 1, 1, 1, 1, 1, 1, 1, 1, 1, 1, 1, 1, 1]\n",
      "Energy: 3694.0\n",
      "There are 78 suppliers selected.\n",
      "Selected Suppliers: ['supplier0', 'supplier1', 'supplier2', 'supplier3', 'supplier4', 'supplier5', 'supplier6', 'supplier7', 'supplier8', 'supplier9', 'supplier10', 'supplier11', 'supplier12', 'supplier13', 'supplier14', 'supplier15', 'supplier16', 'supplier17', 'supplier18', 'supplier19', 'supplier21', 'supplier22', 'supplier23', 'supplier24', 'supplier25', 'supplier26', 'supplier27', 'supplier28', 'supplier29', 'supplier30', 'supplier31', 'supplier32', 'supplier33', 'supplier34', 'supplier35', 'supplier36', 'supplier37', 'supplier38', 'supplier39', 'supplier40', 'supplier41', 'supplier42', 'supplier43', 'supplier44', 'supplier45', 'supplier46', 'supplier47', 'supplier48', 'supplier49', 'supplier50', 'supplier51', 'supplier52', 'supplier53', 'supplier54', 'supplier55', 'supplier56', 'supplier57', 'supplier58', 'supplier59', 'supplier60', 'supplier61', 'supplier62', 'supplier63', 'supplier64', 'supplier65', 'supplier67', 'supplier68', 'supplier69', 'supplier70', 'supplier71', 'supplier72', 'supplier73', 'supplier74', 'supplier75', 'supplier76', 'supplier77', 'supplier78', 'supplier79']\n"
     ]
    }
   ],
   "metadata": {
    "collapsed": true
   }
  },
  {
   "cell_type": "code",
   "execution_count": 18,
   "source": [
    "# Simulated Annealing\n",
    "print('Solution (Simulated Annealing):')\n",
    "best_solution, best_energy = solve_bqm(bqm, x, SimulatedAnnealingSampler(), **{\"num_reads\":50, \"num_sweeps\": 100})\n",
    "print('There are {:d} suppliers selected.'.format(sum(best_solution)))\n",
    "suppliers = [f'supplier{i}' for i in np.where(best_solution)[0]]\n",
    "print('Selected Suppliers:', suppliers)"
   ],
   "outputs": [
    {
     "output_type": "stream",
     "name": "stdout",
     "text": [
      "Solution (Simulated Annealing):\n",
      "[0, 1, 1, 0, 1, 1, 1, 1, 1, 1, 1, 1, 1, 1, 1, 1, 0, 1, 1, 1, 1, 1, 1, 1, 1, 1, 1, 1, 1, 1, 1, 1, 1, 1, 1, 1, 1, 1, 1, 1, 1, 1, 1, 1, 1, 1, 1, 1, 1, 1, 1, 1, 1, 1, 1, 1, 1, 1, 1, 1, 1, 1, 1, 1, 1, 1, 1, 1, 1, 1, 1, 1, 1, 1, 1, 1, 1, 1, 0, 1]\n",
      "Energy: 5354.0\n",
      "There are 76 suppliers selected.\n",
      "Selected Suppliers: ['supplier1', 'supplier2', 'supplier4', 'supplier5', 'supplier6', 'supplier7', 'supplier8', 'supplier9', 'supplier10', 'supplier11', 'supplier12', 'supplier13', 'supplier14', 'supplier15', 'supplier17', 'supplier18', 'supplier19', 'supplier20', 'supplier21', 'supplier22', 'supplier23', 'supplier24', 'supplier25', 'supplier26', 'supplier27', 'supplier28', 'supplier29', 'supplier30', 'supplier31', 'supplier32', 'supplier33', 'supplier34', 'supplier35', 'supplier36', 'supplier37', 'supplier38', 'supplier39', 'supplier40', 'supplier41', 'supplier42', 'supplier43', 'supplier44', 'supplier45', 'supplier46', 'supplier47', 'supplier48', 'supplier49', 'supplier50', 'supplier51', 'supplier52', 'supplier53', 'supplier54', 'supplier55', 'supplier56', 'supplier57', 'supplier58', 'supplier59', 'supplier60', 'supplier61', 'supplier62', 'supplier63', 'supplier64', 'supplier65', 'supplier66', 'supplier67', 'supplier68', 'supplier69', 'supplier70', 'supplier71', 'supplier72', 'supplier73', 'supplier74', 'supplier75', 'supplier76', 'supplier77', 'supplier79']\n"
     ]
    }
   ],
   "metadata": {}
  },
  {
   "cell_type": "code",
   "execution_count": 19,
   "source": [
    "# Classical Algo\n",
    "best_solution_classical = binary_supplier_optimizer(inventory, supplier_inventory)\n",
    "display_classical_solution(best_solution_classical, supplier_inventory)"
   ],
   "outputs": [
    {
     "output_type": "stream",
     "name": "stdout",
     "text": [
      "\n",
      "Solution (Classical Algorithm):\n",
      "There are 3 suppliers selected.\n",
      "Selected Suppliers: ['supplier0', 'supplier6', 'supplier13']\n"
     ]
    }
   ],
   "metadata": {}
  }
 ],
 "metadata": {
  "interpreter": {
   "hash": "5f20994d19ff6c8c5cec1db5b7f7944e8fd16ef471b6d6e4ac9b86936de59e16"
  },
  "kernelspec": {
   "name": "python3",
   "display_name": "Python 3.9.5 64-bit ('zebraket-cdl-hackathon-2021': conda)"
  },
  "language_info": {
   "codemirror_mode": {
    "name": "ipython",
    "version": 3
   },
   "file_extension": ".py",
   "mimetype": "text/x-python",
   "name": "python",
   "nbconvert_exporter": "python",
   "pygments_lexer": "ipython3",
   "version": "3.9.5"
  }
 },
 "nbformat": 4,
 "nbformat_minor": 2
}