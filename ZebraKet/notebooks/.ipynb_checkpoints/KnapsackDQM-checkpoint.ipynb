{
 "cells": [
  {
   "cell_type": "markdown",
   "metadata": {},
   "source": [
    "# The Knapsack Problem DQM\n",
    "\n",
    "CDL Quantum Hackathon 2021  \n",
    "Team ZebraKet   \n",
    "Ziwei Qiu (ziweiqiu@g.harvard.edu), Alex Khan, Theo Cleland, Ehsan Torabizadeh"
   ]
  },
  {
   "cell_type": "markdown",
   "metadata": {},
   "source": [
    "# Problem Definition\n",
    "\n",
    "As a grocery store manager, you want to re-stock. This notebook helps you make decisions what items to buy to maximize your profit given an integer budget contrainst $W$. There are $M$ items in the market. $W_{\\alpha}$ and $V_{\\alpha}$ denotes the cost and profit of item $\\alpha$, respectively. In the real world, there is an upper limit of the quantity we can buy for each item. We solved the optimization problem assuming two different bound conditions: **(1) bound is fixed for all items, and (2) bound differs among items.**\n",
    "\n",
    "$$\\text{maximize} \\quad \\sum_{\\alpha=1}^{M} V_{\\alpha} x_{\\alpha}$$\n",
    "$$\\text{subject to} \\quad \\sum_{\\alpha=1}^{M}W_{\\alpha}x_{\\alpha}\\leq W$$\n",
    "$$ 0 \\leq x_{\\alpha} \\leq \\text{bound}[\\alpha], \\quad x_{\\alpha} \\text{ is integer,} \\quad \\alpha=1,...,n$$\n",
    "\n",
    "This is a Knapscak problem.\n",
    "\n",
    "\n",
    "### QUBO Representation\n",
    "\n",
    "We define two set of variables in this problem [1]:  \n",
    "(1) $x_i$ is a **binary** variable which equals to 1 if the supplier $i$ is chosen.   \n",
    "(2) $y_{\\alpha,m}$ is a **binary** variable which equals to 1 if among the suppliers you choose, there are $m$ of suppliers have the item $\\alpha$ available.   \n",
    "\n",
    "The following Hamiltonian represents the problem.\n",
    "\n",
    "$$H=A\\left(1 - \\sum_{n=1}^{W} y_{n}\\right)^{2} + A \\left(\\sum_{n=1}^{W}n y_{n} - \\sum_{\\alpha=1}^{M} W_{\\alpha} x_{\\alpha}\\right)^{2}  - B\\sum_{\\alpha=1}^{M}V_{\\alpha}x_{\\alpha}$$\n",
    "\n",
    "The first term enforces the total cost is less than or equal to the budget $W$, because exactly one $w_{n}$ equals to 1. The second term enforces that the total cost is indeed the sum of the costs of each item to guarantee that this is a valid soltuion. The third term term is to maximize the profit. $H_3$ enforces the consistency that you can only purchase items from the suppliers that are chosen. The hyperparameters $A$ and $B$ are Lagrange multipliers or penalty coefficients. We need to satisfy $A>B \\text{ max(values)}>0$ in order to get valid solutions. \n",
    "\n",
    "We expand the Hamiltonian $H$ to get the linear and quadratic terms in the QUBO representation.\n",
    "\n",
    "$$H=\\sum_{\\alpha=1}^{M}AW_{\\alpha}^2x_{\\alpha}^2 - \\sum_{\\alpha=1}^{M}B W_{\\alpha} x_{\\alpha} + \\sum_{n=1}^{W}A (n^2-1)y_n + \\sum_{n,m}^{W}2A\\left(1+nm\\right)y_ny_m + \\sum_{\\alpha,\\beta}^{M}2A W_{\\alpha}W_{\\beta}x_{\\alpha}x_{\\beta}y_ny_m-\\sum_{\\alpha=1}^{M}\\sum_{n=1}^{W}2AnW_{\\alpha}y_nx_{\\alpha}$$\n",
    "\n",
    "The first two terms are **linear** terms and the rest are **quadratic** terms.\n",
    "\n",
    "### Andrew Lucas Log trick: \n",
    "$y_n$ are auxiliary variables to implement the budget constaint $W$, so there are $W$ of such variables. Andrew Lucas introcued a trick to reduce the number of $y_n$ to $\\log(W)$ [1].\n",
    "\n",
    "### Three DQMs:\n",
    "We construct three DQMs below:  \n",
    "(1) `build_knapsack_dqm_fixedbound` construsts a DQM which assumes the bound is fixed for all items, with the log trick implemented.  \n",
    "(2) `build_knapsack_dqm_variablebound2` construsts a DQM which assumes the bound differs amont items, with the log trick implemented.   \n",
    "(3) `build_knapsack_dqm_variablebound1` construsts a DQM which assumes the bound differs amont items, without using the log trick.  \n",
    "\n",
    "We first run DQM on a small dataset randomly generated to make sure the solution is the optimal one, then import a external grocery data to solve a real-world problem."
   ]
  },
  {
   "cell_type": "code",
   "execution_count": 1,
   "metadata": {
    "collapsed": false
   },
   "outputs": [],
   "source": [
    "import os\n",
    "os.chdir('..')\n",
    "\n",
    "from services.classical_optimizers import discrete_profit_optimizer_brute_force\n",
    "from utils.data import read_profit_optimization_data\n",
    "from dimod import DiscreteQuadraticModel\n",
    "from dimod import ExactSolver\n",
    "import sys\n",
    "from dwave.system import LeapHybridDQMSampler\n",
    "from neal import SimulatedAnnealingSampler\n",
    "from math import log2, floor\n",
    "import dimod\n",
    "import os\n",
    "import numpy as np\n",
    "import pandas as pd\n",
    "import time"
   ]
  },
  {
   "cell_type": "markdown",
   "metadata": {},
   "source": [
    "## Construct DQM\n",
    "### Fixed Bound"
   ]
  },
  {
   "cell_type": "code",
   "execution_count": 2,
   "metadata": {
    "collapsed": true
   },
   "outputs": [],
   "source": [
    "def build_knapsack_dqm_fixedbound(values, weights, weight_capacity, bound, verbose = False):\n",
    "    \"\"\"Construct DQM for the generalized knapsack problem\n",
    "    Args:\n",
    "        values (array-like):\n",
    "            Array of values associated with the items\n",
    "        weights (array-like):\n",
    "            Array of weights associated with the items\n",
    "        weight_capacity (int):\n",
    "            Maximum allowable weight\n",
    "        bound(int):\n",
    "            Maximum allowable pieces for each item\n",
    "    Returns:\n",
    "        Discrete quadratic model instance\n",
    "        x: variable\n",
    "    \"\"\"\n",
    "    bound += 1 # also take into account the value 0\n",
    "    pieces = range(bound)\n",
    "    \n",
    "    # First guess the lagrange\n",
    "    lagrange = max(values)*0.5\n",
    "    if verbose:\n",
    "        print('lagrange:',lagrange)\n",
    "\n",
    "    # Number of objects\n",
    "    x_size = len(values)\n",
    "\n",
    "    # Lucas's algorithm introduces additional slack variables to\n",
    "    # handle the inequality. M+1 binary slack variables are needed to\n",
    "    # represent the sum using a set of powers of 2.\n",
    "    M = floor(log2(weight_capacity))\n",
    "    num_slack_variables = M + 1\n",
    "\n",
    "    # Slack variable list for Lucas's algorithm. The last variable has\n",
    "    # a special value because it terminates the sequence.\n",
    "    y = [2**n for n in range(M)]\n",
    "    y.append(weight_capacity + 1 - 2**M)\n",
    "    \n",
    "    ##@  Discrete Quadratic Model @##\n",
    "    dqm = DiscreteQuadraticModel()\n",
    "    x = []\n",
    "    #@ Add variables @##\n",
    "    for k in range(x_size):\n",
    "        x.append(dqm.add_variable(bound, label='x' + str(k)))\n",
    "\n",
    "    for k in range(num_slack_variables):\n",
    "        dqm.add_variable(2, label='y' + str(k)) # either 0 or 1\n",
    "\n",
    "    ##@ Hamiltonian xi-xi terms ##\n",
    "    for k in range(x_size):\n",
    "        dqm.set_linear('x' + str(k), lagrange * (weights[k]**2) * (np.array(pieces)**2) - values[k]*pieces)\n",
    "\n",
    "\n",
    "    # # Hamiltonian xi-xj terms\n",
    "    for i in range(x_size):\n",
    "        for j in range(i + 1, x_size):\n",
    "            biases_dict = {}\n",
    "            for piece1 in pieces:\n",
    "                for piece2 in pieces:\n",
    "                    biases_dict[(piece1, piece2)]=(2 * lagrange * weights[i] * weights[j])*piece1*piece2\n",
    "\n",
    "            dqm.set_quadratic('x' + str(i), 'x' + str(j), biases_dict)\n",
    "\n",
    "    # Hamiltonian y-y terms\n",
    "    for k in range(num_slack_variables):\n",
    "        dqm.set_linear('y' + str(k), lagrange*np.array([0,1])* (y[k]**2))\n",
    "\n",
    "    # Hamiltonian yi-yj terms \n",
    "    for i in range(num_slack_variables):\n",
    "        for j in range(i + 1, num_slack_variables): \n",
    "            dqm.set_quadratic('y' + str(i), 'y' + str(j), {(1,1):2 * lagrange * y[i] * y[j]})\n",
    "\n",
    "    # Hamiltonian x-y terms\n",
    "    for i in range(x_size):\n",
    "        for j in range(num_slack_variables):\n",
    "            biases_dict = {}\n",
    "            for piece1 in pieces:\n",
    "                biases_dict[(piece1, 1)]=-2 * lagrange * weights[i] * y[j]*piece1\n",
    "\n",
    "            dqm.set_quadratic('x' + str(i), 'y' + str(j), biases_dict) \n",
    "    \n",
    "    return dqm, x"
   ]
  },
  {
   "cell_type": "markdown",
   "metadata": {},
   "source": [
    "### Various Bounds"
   ]
  },
  {
   "cell_type": "code",
   "execution_count": 3,
   "metadata": {
    "collapsed": true
   },
   "outputs": [],
   "source": [
    "def build_knapsack_dqm_variablebound2(values, weights, weight_capacity, bound, verbose = False):\n",
    "    \"\"\"Construct DQM for the generalized knapsack problem\n",
    "    Args:\n",
    "        values (array-like):\n",
    "            Array of values associated with the items\n",
    "        weights (array-like):\n",
    "            Array of weights associated with the items\n",
    "        weight_capacity (int):\n",
    "            Maximum allowable weight\n",
    "        bound(int):\n",
    "            Maximum allowable pieces for each item\n",
    "    Returns:\n",
    "        Discrete quadratic model instance\n",
    "    \"\"\"\n",
    "    bound = [b+1 for b in bound] # also take into account the value 0\n",
    "#     pieces = range(bound)\n",
    "    \n",
    "    # First guess the lagrange\n",
    "    lagrange = max(values)*0.5\n",
    "    if verbose:\n",
    "        print('lagrange:',lagrange)\n",
    "\n",
    "    # Number of objects\n",
    "    x_size = len(values)\n",
    "\n",
    "    # Lucas's algorithm introduces additional slack variables to\n",
    "    # handle the inequality. M+1 binary slack variables are needed to\n",
    "    # represent the sum using a set of powers of 2.\n",
    "    M = floor(log2(weight_capacity))\n",
    "    num_slack_variables = M + 1\n",
    "\n",
    "    # Slack variable list for Lucas's algorithm. The last variable has\n",
    "    # a special value because it terminates the sequence.\n",
    "    y = [2**n for n in range(M)]\n",
    "    y.append(weight_capacity + 1 - 2**M)\n",
    "    \n",
    "    ##@  Discrete Quadratic Model @##\n",
    "    dqm = DiscreteQuadraticModel()\n",
    "    \n",
    "    x = []\n",
    "    #@ Add variables @##\n",
    "    for k in range(x_size):\n",
    "        x.append(dqm.add_variable(bound[k], label='x' + str(k)))\n",
    "\n",
    "    for k in range(num_slack_variables):\n",
    "        dqm.add_variable(2, label='y' + str(k)) # either 0 or 1\n",
    "\n",
    "    ##@ Hamiltonian xi-xi terms ##\n",
    "    for k in range(x_size):\n",
    "        pieces = range(bound[k])\n",
    "        dqm.set_linear('x' + str(k), lagrange * (weights[k]**2) * (np.array(pieces)**2) - values[k]*pieces)\n",
    "\n",
    "\n",
    "    # # Hamiltonian xi-xj terms\n",
    "    for i in range(x_size):\n",
    "        for j in range(i + 1, x_size):\n",
    "            biases_dict = {}\n",
    "            for piece1 in range(bound[i]):\n",
    "                for piece2 in range(bound[j]):\n",
    "                    biases_dict[(piece1, piece2)]=(2 * lagrange * weights[i] * weights[j])*piece1*piece2\n",
    "\n",
    "            dqm.set_quadratic('x' + str(i), 'x' + str(j), biases_dict)\n",
    "\n",
    "    # Hamiltonian y-y terms\n",
    "    for k in range(num_slack_variables):\n",
    "        dqm.set_linear('y' + str(k), lagrange*np.array([0,1])* (y[k]**2))\n",
    "\n",
    "    # Hamiltonian yi-yj terms \n",
    "    for i in range(num_slack_variables):\n",
    "        for j in range(i + 1, num_slack_variables): \n",
    "            dqm.set_quadratic('y' + str(i), 'y' + str(j), {(1,1):2 * lagrange * y[i] * y[j]})\n",
    "\n",
    "    # Hamiltonian x-y terms\n",
    "    for i in range(x_size):\n",
    "        for j in range(num_slack_variables):\n",
    "            biases_dict = {}\n",
    "            for piece1 in range(bound[i]):\n",
    "                biases_dict[(piece1, 1)]=-2 * lagrange * weights[i] * y[j]*piece1\n",
    "\n",
    "            dqm.set_quadratic('x' + str(i), 'y' + str(j), biases_dict) \n",
    "    \n",
    "    return dqm,x\n",
    "\n",
    "# Without the Andrew Lucas log trick\n",
    "def build_knapsack_dqm_variablebound(values, weights, weight_capacity, bound, verbose = False):\n",
    "    \"\"\"Construct DQM for the generalized knapsack problem\n",
    "    Args:\n",
    "        values (array-like):\n",
    "            Array of values associated with the items\n",
    "        weights (array-like):\n",
    "            Array of weights associated with the items\n",
    "        weight_capacity (int):\n",
    "            Maximum allowable weight\n",
    "        bound(array-like):\n",
    "            Maximum allowable pieces for each item\n",
    "    Returns:\n",
    "        Discrete quadratic model instance\n",
    "        x: varibles\n",
    "    \"\"\"\n",
    "    bound = [b+1 for b in bound] # also take into account the value 0\n",
    "    \n",
    "    # Lagrange multipliers A>max(values)>0\n",
    "    A1 = max(values)*8\n",
    "    A2 = max(values)*2\n",
    "    \n",
    "    num_of_items = len(values)\n",
    "    ##@  Discrete Quadratic Model @##\n",
    "    dqm = DiscreteQuadraticModel()\n",
    "\n",
    "    x = []\n",
    "    #@ Add variables @##\n",
    "    for k in range(num_of_items):\n",
    "        x.append(dqm.add_variable(bound[k], label='x' + str(k))) # number of discrete values \n",
    "\n",
    "    for n in range(1,weight_capacity+1):\n",
    "        dqm.add_variable(2, label='y' + str(n)) # either 0 or 1, 2 values possible\n",
    "\n",
    "    ##@ Hamiltonian xi-xi terms ##\n",
    "    for k in range(num_of_items):\n",
    "        pieces = range(bound[k])\n",
    "    #     dqm.set_linear('x' + str(k),  - values[k]*pieces)\n",
    "        dqm.set_linear('x' + str(k), A2 * (weights[k]**2) * (np.array(pieces)**2) - values[k]*np.array(pieces))\n",
    "\n",
    "    # Hamiltonian y-y terms\n",
    "    for n in range(1,weight_capacity+1):\n",
    "        dqm.set_linear('y' + str(n), np.array([0,1])* (n**2*A2-A1))\n",
    "\n",
    "    # Hamiltonian yi-yj terms \n",
    "    for n in range(1,weight_capacity+1):\n",
    "        for m in range(n + 1, weight_capacity+1): \n",
    "            dqm.set_quadratic('y' + str(n), 'y' + str(m), {(1,1):2 * A1 * (1+m*n)})\n",
    "\n",
    "    # # Hamiltonian xi-xj terms\n",
    "    for i in range(num_of_items):\n",
    "        for j in range(i + 1, num_of_items):\n",
    "            biases_dict = {}\n",
    "            for piece1 in range(bound[i]):\n",
    "                for piece2 in range(bound[j]):\n",
    "                    biases_dict[(piece1, piece2)]=(2 * A2 * weights[i] * weights[j])*piece1*piece2\n",
    "            dqm.set_quadratic('x' + str(i), 'x' + str(j), biases_dict)\n",
    "\n",
    "    # Hamiltonian x-y terms\n",
    "    for i in range(num_of_items):\n",
    "        for n in range(1,weight_capacity+1):\n",
    "            biases_dict = {}\n",
    "            for piece1 in range(bound[i]):\n",
    "                biases_dict[(piece1, 1)]=-2 * A2 * weights[i] * n* piece1\n",
    "\n",
    "            dqm.set_quadratic('x' + str(i), 'y' + str(n), biases_dict) \n",
    "            \n",
    "    return dqm, x"
   ]
  },
  {
   "cell_type": "code",
   "execution_count": 4,
   "metadata": {
    "collapsed": false
   },
   "outputs": [],
   "source": [
    "def solve_dqm(dqm, x, sampler = None, verbose = False):\n",
    "    if sampler is None:\n",
    "        sampler = LeapHybridDQMSampler()\n",
    "\n",
    "    sampleset = sampler.sample_dqm(dqm)\n",
    "#     sampleset = SimulatedAnnealingSampler().sample_dqm(dqm)\n",
    "    best_solution = sampleset.first.sample    \n",
    "    best_solution = [best_solution[i] for i in x]\n",
    "    print('best solution:',best_solution)\n",
    "    \n",
    "    return best_solution"
   ]
  },
  {
   "cell_type": "markdown",
   "metadata": {},
   "source": [
    "# Implementation"
   ]
  },
  {
   "cell_type": "code",
   "execution_count": 9,
   "metadata": {
    "collapsed": false
   },
   "outputs": [
    {
     "name": "stdout",
     "output_type": "stream",
     "text": [
      "values: [8, 7, 1, 8, 5, 9, 8, 7, 1, 4, 1, 3]\n",
      "weights: [2, 4, 8, 8, 4, 2, 5, 2, 4, 9, 7, 2]\n",
      "weight_capacity: 23\n"
     ]
    }
   ],
   "source": [
    "num_of_items = 12\n",
    "values = list(np.random.randint(1,10, size=(num_of_items)))\n",
    "weights = list(np.random.randint(1,10, size=(num_of_items)))\n",
    "weight_capacity = np.random.randint(12, 40)\n",
    "print('values:',values)\n",
    "print('weights:',weights)\n",
    "print('weight_capacity:',weight_capacity)"
   ]
  },
  {
   "cell_type": "markdown",
   "metadata": {},
   "source": [
    "### Solve Bounded Knapsack Problem 1: All Items have the Same Bound"
   ]
  },
  {
   "cell_type": "code",
   "execution_count": 10,
   "metadata": {
    "collapsed": false
   },
   "outputs": [
    {
     "name": "stdout",
     "output_type": "stream",
     "text": [
      "fixed bound: 3\n",
      "best solution: [2, 0, 0, 0, 0, 3, 0, 3, 0, 0, 1, 0]\n",
      "Total weight: 23\n",
      "Total value: 65\n"
     ]
    }
   ],
   "source": [
    "fixed_bound = 3\n",
    "print('fixed bound:',fixed_bound)\n",
    "\n",
    "(dqm,x) = build_knapsack_dqm_fixedbound(values, weights, weight_capacity, fixed_bound)\n",
    "best_solution = solve_dqm(dqm,x)\n",
    "\n",
    "total_weights = sum([weights[i]*best_solution[i] for i in range(len(x))])\n",
    "total_value = sum([values[i]*best_solution[i] for i in range(len(x))])\n",
    "    \n",
    "print('Total weight:',total_weights)\n",
    "print('Total value:',total_value)"
   ]
  },
  {
   "cell_type": "markdown",
   "metadata": {},
   "source": [
    "### Solve Bounded Knapsack Problem 2: Each Item has Different Bounds"
   ]
  },
  {
   "cell_type": "code",
   "execution_count": 11,
   "metadata": {
    "collapsed": false
   },
   "outputs": [
    {
     "name": "stdout",
     "output_type": "stream",
     "text": [
      "variable bounds: [2, 2, 5, 5, 5, 5, 2, 4, 4, 2, 4, 3]\n",
      "best solution: [2, 0, 0, 0, 0, 4, 0, 0, 0, 1, 0, 1]\n",
      "Total weight: 23\n",
      "Total value: 59\n"
     ]
    }
   ],
   "source": [
    "# Define an array of bounds\n",
    "np.random.seed(100)\n",
    "variable_bounds = list(np.random.randint(2, 6,size=(num_of_items)))\n",
    "print('variable bounds:',variable_bounds)\n",
    "\n",
    "(dqm,x) = build_knapsack_dqm_variablebound(values, weights, weight_capacity, variable_bounds)\n",
    "best_solution = solve_dqm(dqm,x)\n",
    "\n",
    "total_weights = sum([weights[i]*best_solution[i] for i in range(len(x))])\n",
    "total_value = sum([values[i]*best_solution[i] for i in range(len(x))])\n",
    "    \n",
    "print('Total weight:',total_weights)\n",
    "print('Total value:',total_value)"
   ]
  },
  {
   "cell_type": "markdown",
   "metadata": {},
   "source": [
    "### Solve Bounded Knapsack Problem 2: Each Item has Different Bounds (with Lucas log trick)"
   ]
  },
  {
   "cell_type": "code",
   "execution_count": 12,
   "metadata": {
    "collapsed": false
   },
   "outputs": [
    {
     "name": "stdout",
     "output_type": "stream",
     "text": [
      "variable bounds: [2, 2, 5, 5, 5, 5, 2, 4, 4, 2, 4, 3]\n",
      "best solution: [2, 0, 0, 0, 0, 5, 0, 0, 0, 1, 0, 0]\n",
      "Total weight: 23\n",
      "Total value: 65\n"
     ]
    }
   ],
   "source": [
    "# Define an array of bounds.\n",
    "np.random.seed(100)\n",
    "variable_bounds = list(np.random.randint(2, 6,size=(num_of_items)))\n",
    "print('variable bounds:',variable_bounds)\n",
    "\n",
    "(dqm,x) = build_knapsack_dqm_variablebound2(values, weights, weight_capacity, variable_bounds)\n",
    "best_solution = solve_dqm(dqm,x)\n",
    "\n",
    "total_weights = sum([weights[i]*best_solution[i] for i in range(len(x))])\n",
    "total_value = sum([values[i]*best_solution[i] for i in range(len(x))])\n",
    "    \n",
    "print('Total weight:',total_weights)\n",
    "print('Total value:',total_value)"
   ]
  },
  {
   "cell_type": "markdown",
   "metadata": {},
   "source": [
    "# Grocery Mock Data - Small Scale"
   ]
  },
  {
   "cell_type": "code",
   "execution_count": 13,
   "metadata": {
    "collapsed": false
   },
   "outputs": [
    {
     "name": "stdout",
     "output_type": "stream",
     "text": [
      "average cost: 11.72\n",
      "average profit: 23.45\n",
      "budget: 318.54\n"
     ]
    }
   ],
   "source": [
    "profit, cost = read_profit_optimization_data(os.path.join(os.getcwd(),'data/small-cost-mock.csv'))\n",
    "np.random.seed(100)\n",
    "budget = np.mean(cost)*50*np.random.rand()\n",
    "print('average cost: {:.2f}'.format(np.mean(cost)))\n",
    "print('average profit: {:.2f}'.format(np.mean(profit)))\n",
    "print('budget: {:.2f}'.format(budget))\n",
    "\n",
    "# We need to formulate everything as integers, so multiply by 100\n",
    "profit_integers = np.array([int(p*100) for p in profit])\n",
    "cost_integers = np.array([int(c*100) for c in cost])\n",
    "budget_integer = int(budget*100)"
   ]
  },
  {
   "cell_type": "markdown",
   "metadata": {},
   "source": [
    "### Solve Bounded Knapsack Problem 1: All Items have the Same Bound"
   ]
  },
  {
   "cell_type": "code",
   "execution_count": 14,
   "metadata": {
    "collapsed": false,
    "scrolled": true
   },
   "outputs": [
    {
     "name": "stdout",
     "output_type": "stream",
     "text": [
      "fixed bound: 50\n",
      "best solution: [0, 0, 0, 0, 0, 0, 0, 0, 0, 0, 0, 0, 0, 0, 0, 0, 0, 0, 36, 3]\n",
      "Total cost: 201.53\n",
      "Total profit: 403.06\n",
      "Processing time [sec]: 13.43\n"
     ]
    }
   ],
   "source": [
    "np.random.seed(100)\n",
    "fixed_bound = 50\n",
    "print('fixed bound:',fixed_bound)\n",
    "\n",
    "tik = time.time()\n",
    "(dqm,x) = build_knapsack_dqm_fixedbound(profit_integers, cost_integers, budget_integer, fixed_bound)\n",
    "best_solution = solve_dqm(dqm,x)\n",
    "tok = time.time()\n",
    "\n",
    "total_costs = sum([cost[index]*count for index, count in enumerate(best_solution)])\n",
    "total_profit = sum([profit[index]*count for index, count in enumerate(best_solution)])\n",
    "    \n",
    "print('Total cost: {:.2f}'.format(total_costs))\n",
    "print('Total profit: {:.2f}'.format(total_profit))\n",
    "print('Processing time [sec]: {:.2f}'.format(tok-tik))"
   ]
  },
  {
   "cell_type": "markdown",
   "metadata": {},
   "source": [
    "### Solve Bounded Knapsack Problem 2: Each Item has Different Bounds (with Lucas Log Trick)"
   ]
  },
  {
   "cell_type": "code",
   "execution_count": 15,
   "metadata": {
    "collapsed": false
   },
   "outputs": [
    {
     "name": "stdout",
     "output_type": "stream",
     "text": [
      "variable bounds: [18, 34, 13, 49, 33, 25, 20, 40, 44, 12, 44, 24, 44, 34, 25, 46, 26, 19, 39, 32]\n",
      "best solution: [0, 0, 0, 0, 0, 0, 0, 0, 0, 0, 0, 0, 0, 0, 0, 0, 0, 3, 33, 11]\n",
      "Total cost: 264.96\n",
      "Total profit: 529.92\n",
      "Processing time [sec]: 11.65\n"
     ]
    }
   ],
   "source": [
    "# Define an array of bounds using the log trick\n",
    "np.random.seed(100)\n",
    "variable_bounds = list(np.random.randint(10, 50,size=(len(profit))))\n",
    "print('variable bounds:',variable_bounds)\n",
    "\n",
    "tik = time.time()\n",
    "(dqm,x) = build_knapsack_dqm_variablebound2(profit_integers, cost_integers, budget_integer, variable_bounds)\n",
    "best_solution = solve_dqm(dqm,x)\n",
    "tok = time.time()\n",
    "\n",
    "total_costs = sum([cost[index]*count for index, count in enumerate(best_solution)])\n",
    "total_profit = sum([profit[index]*count for index, count in enumerate(best_solution)])\n",
    "    \n",
    "print('Total cost: {:.2f}'.format(total_costs))\n",
    "print('Total profit: {:.2f}'.format(total_profit))\n",
    "print('Processing time [sec]: {:.2f}'.format(tok-tik))"
   ]
  },
  {
   "cell_type": "markdown",
   "metadata": {},
   "source": [
    "# Grocery Mock Data - Medium Scale"
   ]
  },
  {
   "cell_type": "code",
   "execution_count": 16,
   "metadata": {
    "collapsed": false
   },
   "outputs": [
    {
     "name": "stdout",
     "output_type": "stream",
     "text": [
      "average cost: 11.12\n",
      "average profit: 22.23\n",
      "budget: 302.01\n"
     ]
    }
   ],
   "source": [
    "profit, cost = read_profit_optimization_data(os.path.join(os.getcwd(),'data/medium-cost-mock.csv'))\n",
    "np.random.seed(100)\n",
    "budget = np.mean(cost)*50*np.random.rand()\n",
    "print('average cost: {:.2f}'.format(np.mean(cost)))\n",
    "print('average profit: {:.2f}'.format(np.mean(profit)))\n",
    "print('budget: {:.2f}'.format(budget))\n",
    "\n",
    "# We need to formulate everything as integers, so multiply by 100\n",
    "profit_integers = np.array([int(p*100) for p in profit])\n",
    "cost_integers = np.array([int(c*100) for c in cost])\n",
    "budget_integer = int(budget*100)"
   ]
  },
  {
   "cell_type": "markdown",
   "metadata": {},
   "source": [
    "### Solve Bounded Knapsack Problem 1: All Items have the Same Bound"
   ]
  },
  {
   "cell_type": "code",
   "execution_count": 17,
   "metadata": {
    "collapsed": false,
    "scrolled": true
   },
   "outputs": [
    {
     "name": "stdout",
     "output_type": "stream",
     "text": [
      "fixed bound: 50\n",
      "best solution: [0, 0, 0, 0, 0, 0, 0, 0, 0, 0, 0, 0, 0, 0, 0, 0, 0, 0, 0, 0, 0, 0, 0, 0, 0, 0, 0, 0, 0, 0, 0, 0, 0, 0, 0, 0, 0, 0, 0, 0, 0, 0, 0, 0, 0, 0, 0, 0, 0, 0, 0, 0, 0, 0, 0, 0, 0, 0, 0, 0, 0, 0, 0, 0, 0, 0, 0, 0, 0, 0, 0, 0, 0, 0, 0, 0, 0, 0, 0, 0, 0, 0, 0, 0, 0, 0, 0, 0, 0, 0, 0, 0, 0, 0, 0, 3, 13, 8, 43, 26]\n",
      "Total cost: 289.86\n",
      "Total profit: 579.73\n",
      "Processing time [sec]: 68.69\n"
     ]
    }
   ],
   "source": [
    "np.random.seed(100)\n",
    "fixed_bound = 50\n",
    "print('fixed bound:',fixed_bound)\n",
    "\n",
    "tik = time.time()\n",
    "(dqm,x) = build_knapsack_dqm_fixedbound(profit_integers, cost_integers, budget_integer, fixed_bound)\n",
    "best_solution = solve_dqm(dqm,x)\n",
    "tok = time.time()\n",
    "\n",
    "total_costs = sum([cost[index]*count for index, count in enumerate(best_solution)])\n",
    "total_profit = sum([profit[index]*count for index, count in enumerate(best_solution)])\n",
    "    \n",
    "print('Total cost: {:.2f}'.format(total_costs))\n",
    "print('Total profit: {:.2f}'.format(total_profit))\n",
    "print('Processing time [sec]: {:.2f}'.format(tok-tik))"
   ]
  },
  {
   "cell_type": "markdown",
   "metadata": {},
   "source": [
    "### Solve Bounded Knapsack Problem 2: Each Item has Different Bounds (with Lucas Log Trick)"
   ]
  },
  {
   "cell_type": "code",
   "execution_count": 18,
   "metadata": {
    "collapsed": false
   },
   "outputs": [
    {
     "name": "stdout",
     "output_type": "stream",
     "text": [
      "variable bounds: [18, 34, 13, 49, 33, 25, 20, 40, 44, 12, 44, 24, 44, 34, 25, 46, 26, 19, 39, 32, 12, 37, 14, 41, 11, 23, 29, 46, 14, 37, 13, 17, 11, 24, 17, 26, 12, 40, 29, 44, 37, 40, 49, 48, 28, 10, 44, 20, 27, 18, 23, 40, 27, 14, 37, 37, 29, 24, 10, 23, 22, 13, 16, 13, 30, 25, 20, 33, 13, 46, 15, 17, 48, 32, 40, 44, 30, 41, 22, 43, 48, 32, 10, 44, 29, 14, 14, 45, 33, 19, 31, 35, 16, 47, 48, 49, 40, 40, 12, 34]\n",
      "best solution: [0, 0, 0, 0, 0, 0, 0, 0, 0, 0, 0, 0, 0, 0, 0, 0, 0, 0, 0, 0, 0, 0, 0, 0, 0, 0, 0, 0, 0, 0, 0, 0, 0, 0, 0, 0, 0, 0, 0, 0, 0, 0, 0, 0, 0, 0, 0, 0, 0, 0, 0, 0, 0, 0, 0, 0, 0, 0, 0, 0, 0, 0, 0, 0, 0, 0, 0, 0, 0, 0, 1, 0, 0, 0, 0, 0, 0, 0, 0, 0, 0, 0, 0, 0, 0, 0, 0, 0, 0, 0, 0, 0, 0, 0, 0, 0, 12, 25, 4, 14]\n",
      "Total cost: 292.24\n",
      "Total profit: 584.49\n",
      "Processing time [sec]: 29.23\n"
     ]
    }
   ],
   "source": [
    "# Define an array of bounds using the log trick\n",
    "np.random.seed(100)\n",
    "variable_bounds = list(np.random.randint(10, 50,size=(len(profit))))\n",
    "print('variable bounds:',variable_bounds)\n",
    "\n",
    "tik = time.time()\n",
    "(dqm,x) = build_knapsack_dqm_variablebound2(profit_integers, cost_integers, budget_integer, variable_bounds)\n",
    "best_solution = solve_dqm(dqm,x)\n",
    "tok = time.time()\n",
    "\n",
    "total_costs = sum([cost[index]*count for index, count in enumerate(best_solution)])\n",
    "total_profit = sum([profit[index]*count for index, count in enumerate(best_solution)])\n",
    "    \n",
    "print('Total cost: {:.2f}'.format(total_costs))\n",
    "print('Total profit: {:.2f}'.format(total_profit))\n",
    "print('Processing time [sec]: {:.2f}'.format(tok-tik))"
   ]
  },
  {
   "cell_type": "markdown",
   "metadata": {},
   "source": [
    "## References\n",
    "[1] Lucas, A., 2014. Ising formulations of many NP problems. Frontiers in physics, 2, p.5."
   ]
  }
 ],
 "metadata": {
  "interpreter": {
   "hash": "5f20994d19ff6c8c5cec1db5b7f7944e8fd16ef471b6d6e4ac9b86936de59e16"
  },
  "kernelspec": {
   "display_name": "cdl",
   "language": "python",
   "name": "cdl"
  },
  "language_info": {
   "codemirror_mode": {
    "name": "ipython",
    "version": 3
   },
   "file_extension": ".py",
   "mimetype": "text/x-python",
   "name": "python",
   "nbconvert_exporter": "python",
   "pygments_lexer": "ipython3",
   "version": "3.9.6"
  }
 },
 "nbformat": 4,
 "nbformat_minor": 2
}
