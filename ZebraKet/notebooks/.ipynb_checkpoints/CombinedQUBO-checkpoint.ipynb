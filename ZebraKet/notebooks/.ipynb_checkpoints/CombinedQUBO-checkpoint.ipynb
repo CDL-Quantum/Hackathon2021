{
 "cells": [
  {
   "cell_type": "markdown",
   "metadata": {},
   "source": [
    "# QUBO Representation of Combined Knapsack and Set Cover Problem\n",
    "\n",
    "CDL Quantum Hackathon 2021  \n",
    "Team ZebraKet   \n",
    "Ziwei Qiu (ziweiqiu@g.harvard.edu), Alex Khan, Theo Cleland, Ehsan Torabizadeh"
   ]
  },
  {
   "cell_type": "markdown",
   "metadata": {},
   "source": [
    "## Problem Definition\n",
    "As a grocery store manager, you want to re-stock. This notebook provides a solution to help you make decisions what items to buy to maximize your profit and where to buy them to minimize the number of suppliers you need to work with. The philosophy behind this solution provides a general approach to decision making in a dilemma. \n",
    "\n",
    "Let's first define the problem, clarify the parameters and variables. Parameters are denoted by uppercase letters and variables are by lowercase letters.\n",
    "\n",
    "There are $N$ suppliers in the market and $M$ items in total in your inventory. $i$ is the supplier index, so $i=1,2,...,N$. $\\alpha$ is the item index, so $\\alpha=1,2,...,M$.The cost of an item can differ between suppliers, so $W_{\\alpha,i}$ denotes the cost of item $\\alpha$ in supplier $i$. $V_{\\alpha}$ denotes the selling price of item $\\alpha$ in your grocery store to your potential customers. $W$ is the budget you have for purchase from suppliers.\n",
    "\n",
    "There are four variables in this problem:  \n",
    "(1) $x_i$ is a **binary** variable which equals to 1 if the supplier $i$ is chosen.   \n",
    "(2) $y_{\\alpha,m}$ is a **binary** variable which equals to 1 if among the suppliers you choose, there are $m$ of suppliers have the item $\\alpha$ available.   \n",
    "(3) $z_{\\alpha,i}$ is a **discrete** variable which denotes the quantity of item $\\alpha$ you decide to purchase from supplier $i$. There is an upper bound of quantity you can buy for each item, denoted by an array `bound`.  So $z_{\\alpha,i}=0,1,2,...,$ `bound`[$\\alpha$].  \n",
    "(4) $w_n$ is a **binary** variable which equals to 1 if the total cost of your purchase is equal to $n$.\n",
    "\n",
    "Your decisions will be based on these variable values. In terms of cash flow, your negative cash flow will be $\\sum_{\\alpha, i} W_{\\alpha,i} z_{\\alpha,i}$ by purchasing from suppliers. Your potential positive cash flow will be $\\sum_{\\alpha, i} V_{\\alpha} z_{\\alpha,i}$ from your customers.\n",
    "\n",
    "Here are the considerations:  \n",
    "(1) You may want to build long-term collaboration with certain suppliers. To reduce the cost, you want to minimize the number of suppliers you will work with. The chosen suppliers should cover all the items in your inventory. This is a set cover problem.  \n",
    "(2) Based on current item costs $W_{\\alpha,i}$ from suppliers and your selling price $V_{\\alpha}$, you want to decide what items and how many of them to purchase this time. Your negative cash flow needs to be within the budget $W$, while you want to maximize the potential positive cash flow. This is a Knapsack problem.  \n",
    "(3) In the real world, considerations (1) and (2) can compete. It is likely that minimizing the number of suppliers doensn't optimize your profit, while maximizing your profit may require you to work with more suppliers which can add overhead expenses (negoitations, travelling, etc.). We provide a solution to deal with this dilemma. We represent this combined optimization problem with QUBO formulation and solving it by running on D-Wave's quantum hardware."
   ]
  },
  {
   "cell_type": "markdown",
   "metadata": {},
   "source": [
    "## QUBO Representation\n",
    "\n",
    "We define the following Hamiltonian to represent our problem. $H_1$ and $H_2$ are based on Andrew Lucas's paper [1]. \n",
    "\n",
    "$H_1 = A_1\\sum_{\\alpha=1}^{M}\\left(1-\\sum_{m=1}^{N}y_{\\alpha,m}\\right)^2 + A_1'\\sum_{\\alpha=1}^{M}\\left(\\sum_{m=1}^{N}my_{\\alpha,m}-\\sum_{i:\\alpha\\in V_i}x_i \\right)^2 + \n",
    "B_1\\sum_{i=1}^{N} x_i$\n",
    "\n",
    "$H_2=A_2\\left(1 - \\sum_{n=1}^{W} w_{n}\\right)^{2} + A_2' \\left(\\sum_{n=1}^{W}n w_{n} - \\sum_{\\alpha=1}^{M}\\sum_{i=1}^{N} W_{\\alpha,i} z_{\\alpha,i}\\right)^{2}  - B_2\\sum_{\\alpha=1}^{M}\\sum_{i=1}^{N}V_{\\alpha}z_{\\alpha,i}$ \n",
    "\n",
    "$H_3=C \\sum_{\\alpha=1}^{M}\\sum_{i=1}^{N} z_{\\alpha,i}\\left(1-x_i\\right)$\n",
    "\n",
    "\n",
    "The first term in $H_1$ enforces exactly one $y_{\\alpha,m}$ equals 1 to guarantee this is a valid solution. The second term in $H_1$ represents the contraints you need to cover all the items in the inventory (or universe). The third term in $H_1$ minimizes the number of suppliers. The first term in $H_2$ enforces the total cost is less than or equal to the budget $W$, because exactly one $w_{n}$ equals to 1. The second term in $H_2$ enforces that the total cost is indeed the sum of the costs of each item to guarantee that this is a valid soltuion. The third term term in $H_2$ is to maximize the potential positive cash flow. $H_3$ enforces the consistency that you can only purchase items from the suppliers that are chosen. The hyperparameters $A_1$, $A_1'$, $B_1$, $A_2$, $A_2'$, $B2$ and $C$ are Lagrange multipliers or penalty coefficients. We need to satisfy $\\min(A_1,A_1')>B_1$ and $\\min(A_2,A_2')>B_2\\max(V_{\\alpha})$ in order to get valid solutions. Furthermore, we can choose these hypermeters based on our priorities over competing objectives.\n"
   ]
  },
  {
   "cell_type": "code",
   "execution_count": 68,
   "metadata": {
    "collapsed": true
   },
   "outputs": [],
   "source": [
    "from dimod import BinaryQuadraticModel\n",
    "from dimod import DiscreteQuadraticModel\n",
    "from dimod import ExactSolver\n",
    "from neal import SimulatedAnnealingSampler\n",
    "from itertools import combinations\n",
    "from dwave.system import LeapHybridSampler\n",
    "from dwave.system import LeapHybridDQMSampler\n",
    "from math import log2, floor\n",
    "import os\n",
    "import numpy as np\n",
    "import pandas as pd"
   ]
  },
  {
   "cell_type": "markdown",
   "metadata": {},
   "source": [
    "## Generate data for the grocery problem"
   ]
  },
  {
   "cell_type": "code",
   "execution_count": 274,
   "metadata": {
    "collapsed": false
   },
   "outputs": [
    {
     "name": "stdout",
     "output_type": "stream",
     "text": [
      "The inventory universe is [0, 1, 4, 9, 11, 12, 13, 15]\n",
      "Number of elements in the universe: 8\n",
      "There are 5 suppliers: [{0, 1, 12, 4}, {0, 4, 9, 11, 13}, {0, 9, 11, 13, 15}, {0, 1, 4, 9, 11, 13}, {1, 12, 13, 9}]\n",
      "Average cost for each item in the supplier market: [13 25 13 92 86 30 30 89]\n",
      "Item costs from different suppliers (row: item index, column: supplier index): [[11, 9, 13, 14, -1], [23, -1, -1, 24, 24], [13, 11, -1, 11, -1], [-1, 82, 85, 83, 75], [-1, 73, 79, 104, -1], [25, -1, -1, -1, 32], [-1, 35, 24, 23, 24], [-1, -1, 105, -1, -1]]\n",
      "Budget: 100\n",
      "Selling price in the grocery store:  [ 15  30  15 110 103  36  36 106]\n",
      "Upper bound on item quantity we can purchase: [7, 2, 7, 7, 4, 5, 2, 6]\n"
     ]
    }
   ],
   "source": [
    "# Define the problem\n",
    "np.random.seed(10)\n",
    "\n",
    "# inventory universe\n",
    "U = list(set(np.random.randint(16, size=(10))))\n",
    "print('The inventory universe is',U)\n",
    "print('Number of elements in the universe: {:d}'.format(len(U)))\n",
    "\n",
    "# suppliers \n",
    "S = [set(U[i] for i in np.random.randint(len(U), size=(6))) for j in range(5)]\n",
    "print('There are {:d} suppliers:'.format(len(S)),S)\n",
    "\n",
    "# item costs from suppliers\n",
    "W_avg = np.random.randint(100, size=(len(U))) # average cost of each item. \n",
    "print('Average cost for each item in the supplier market:',W_avg)\n",
    "# Different suppliers have slightly different pricing from the average cost, no more than 25%\n",
    "W = [list(np.int64(np.random.randint(75,125, size=(len(S)))/100 * W_avg[i])) for i in range(len(U))]\n",
    "for item in range(len(U)):\n",
    "    for supplier in range(len(S)):\n",
    "        if U[item] not in S[supplier]:\n",
    "            W[item][supplier] = -1\n",
    "print('Item costs from different suppliers (row: item index, column: supplier index):',W) # row: item index. column: supplier index\n",
    "\n",
    "# Budget\n",
    "Wbudget = 100\n",
    "print('Budget:',Wbudget)\n",
    "\n",
    "V = np.int64(1.2*W_avg) # the selling price in your retail grocery store is 20% above the supplier average price.\n",
    "print('Selling price in the grocery store: ',V)\n",
    "\n",
    "bound = list(np.random.randint(2, 8,size=(len(U))))\n",
    "print('Upper bound on item quantity we can purchase:',bound)"
   ]
  },
  {
   "cell_type": "code",
   "execution_count": 275,
   "metadata": {
    "collapsed": false
   },
   "outputs": [
    {
     "name": "stdout",
     "output_type": "stream",
     "text": [
      "Indicator variables: I_i,a [[1, 1, 1, 0, 0, 1, 0, 0], [1, 0, 1, 1, 1, 0, 1, 0], [1, 0, 0, 1, 1, 0, 1, 1], [1, 1, 1, 1, 1, 0, 1, 0], [0, 1, 0, 1, 0, 1, 1, 0]]\n"
     ]
    }
   ],
   "source": [
    "# Create indicator variables\n",
    "I = []\n",
    "for i in range(len(S)):\n",
    "    I.append([1 if U[a] in S[i] else 0 for a in range(len(U))])\n",
    "print('Indicator variables: I_i,a',I)"
   ]
  },
  {
   "cell_type": "markdown",
   "metadata": {},
   "source": [
    "## Create the Combined Knapsack-SetCover DQM model"
   ]
  },
  {
   "cell_type": "code",
   "execution_count": 276,
   "metadata": {
    "collapsed": false
   },
   "outputs": [
    {
     "name": "stdout",
     "output_type": "stream",
     "text": [
      "Knapsack lagrange is 55.0\n",
      "H3 lagrange C is 0\n",
      "Set cover lagrange is: A=2000, B=1000.\n"
     ]
    }
   ],
   "source": [
    "# Knapsack part\n",
    "values = V\n",
    "weight_capacity = Wbudget\n",
    "weights = W\n",
    "\n",
    "bound = [b+1 for b in bound] # also take into account the value 0\n",
    "\n",
    "# First guess the lagrange\n",
    "lagrange = max(values)*0.5\n",
    "C = 0\n",
    "print('Knapsack lagrange is',lagrange)\n",
    "print('H3 lagrange C is',C)\n",
    "\n",
    "# Number of objects\n",
    "x_size = len(values)\n",
    "\n",
    "# Lucas's algorithm introduces additional slack variables to\n",
    "# handle the inequality. M+1 binary slack variables are needed to\n",
    "# represent the sum using a set of powers of 2.\n",
    "M = floor(log2(weight_capacity))\n",
    "num_slack_variables = M + 1\n",
    "\n",
    "# Slack variable list for Lucas's algorithm. The last variable has\n",
    "# a special value because it terminates the sequence.\n",
    "w = [2**n for n in range(M)]\n",
    "w.append(weight_capacity + 1 - 2**M)\n",
    "\n",
    "##@  Discrete Quadratic Model @##\n",
    "dqm = DiscreteQuadraticModel()\n",
    "\n",
    "z = []\n",
    "#@ Add variables @##\n",
    "\n",
    "for k in range(x_size): # loop over all items\n",
    "    for s in range(len(S)):\n",
    "        z.append(dqm.add_variable(bound[k], label='z' + str(k) + ',' + str(s)))\n",
    "\n",
    "for k in range(num_slack_variables):\n",
    "    dqm.add_variable(2, label='w' + str(k)) # either 0 or 1\n",
    "    \n",
    "##@ Hamiltonian zi-zi terms ##\n",
    "for k in range(x_size):\n",
    "    pieces = range(bound[k])\n",
    "    for s in range(len(S)):\n",
    "        dqm.set_linear('z' + str(k) + ',' + str(s), \n",
    "                       lagrange * (weights[k][s]**2) * (np.array(pieces)**2) + (C-values[k])*pieces)\n",
    "        \n",
    "# # Hamiltonian xi-xj terms\n",
    "for i in range(x_size):\n",
    "    for j in range(i + 1, x_size):\n",
    "        for s1 in range(len(S)):\n",
    "            for s2 in range(len(S)):\n",
    "                biases_dict = {}\n",
    "                for piece1 in range(bound[i]):\n",
    "                    for piece2 in range(bound[j]):\n",
    "                        biases_dict[(piece1, piece2)]=(2 * lagrange * weights[i][s1] * weights[j][s2])*piece1*piece2\n",
    "\n",
    "                dqm.set_quadratic('z' + str(i)+ ',' + str(s1), 'z' + str(j)+ ',' + str(s2), biases_dict)\n",
    "                \n",
    "# Hamiltonian y-y terms\n",
    "for k in range(num_slack_variables):\n",
    "    dqm.set_linear('w' + str(k), lagrange*np.array([0,1])* (w[k]**2))\n",
    "    \n",
    "# Hamiltonian yi-yj terms \n",
    "for i in range(num_slack_variables):\n",
    "    for j in range(i + 1, num_slack_variables): \n",
    "        dqm.set_quadratic('w' + str(i), 'w' + str(j), {(1,1):2 * lagrange * w[i] * w[j]})\n",
    "        \n",
    "# Hamiltonian x-y terms\n",
    "for i in range(x_size):\n",
    "    for s in range(len(S)):\n",
    "        for j in range(num_slack_variables):\n",
    "            biases_dict = {}\n",
    "            for piece1 in range(bound[i]):\n",
    "                biases_dict[(piece1, 1)]=-2 * lagrange * weights[i][s] * w[j]*piece1\n",
    "\n",
    "            dqm.set_quadratic('z' + str(i)+ ',' + str(s), 'w' + str(j), biases_dict) \n",
    "            \n",
    "# Set cover part\n",
    "# Lagrange multipliers A>B>0\n",
    "A = 2000\n",
    "B = 1000\n",
    "\n",
    "print('Set cover lagrange is: A={:d}, B={:d}.'.format(A,B))\n",
    "\n",
    "# x linear terms\n",
    "x = []\n",
    "for i in range(0,len(S)):\n",
    "    x.append(dqm.add_variable(2, label='x_'+str(i+1))) # either 0 or 1\n",
    "    dqm.set_linear('x_'+str(i+1), (A*sum(I[i])+B)*np.array([0,1]))\n",
    "    \n",
    "# y_am linear terms\n",
    "y = []\n",
    "for a in range(1,len(U)+1):\n",
    "    for m in range(1,len(S)+1):\n",
    "        y.append(dqm.add_variable(2, label ='y_('+str(a)+', '+str(m)+')'))\n",
    "        dqm.set_linear('y_('+str(a)+', '+str(m)+')', A*(m**2-1)*np.array([0,1]))\n",
    "\n",
    "# Add quadratic terms\n",
    "\n",
    "# x_i-x_j terms\n",
    "for i in range(1,len(S)+1):\n",
    "    for j in range(i+1,len(S)+1):        \n",
    "        dqm.set_quadratic('x_' + str(i), 'x_' + str(j), {(1,1):2*A*np.dot(np.array(I[i-1]),np.array(I[j-1]))})\n",
    "\n",
    "# y_am - y_an terms\n",
    "for m in range(1,len(S)+1):\n",
    "    for n in range(m+1,len(S)+1):\n",
    "        for a in range(1,len(U)+1):\n",
    "            dqm.set_quadratic('y_('+str(a)+', '+str(m)+')', 'y_('+str(a)+', '+str(n)+')', {(1,1): 2*A*(1+m*n)})\n",
    "            \n",
    "# x_i-y_am terms\n",
    "for i in range(1,len(S)+1):\n",
    "    for m in range(1,len(S)+1):\n",
    "        for a in range(1,len(U)+1):\n",
    "            dqm.set_quadratic('x_' + str(i), 'y_('+str(a)+', '+str(m)+')', {(1,1):-2*A*m*I[i-1][a-1]})\n",
    "    \n",
    "# Hamiltonian x-z terms in H3\n",
    "for i in range(x_size):\n",
    "    for s in range(1,len(S)):\n",
    "        for j in range(num_slack_variables):\n",
    "            biases_dict = {}\n",
    "            for piece1 in range(bound[i]):\n",
    "                biases_dict[(piece1, 1)]=-C * piece1\n",
    "\n",
    "            dqm.set_quadratic('z' + str(i)+ ',' + str(s), 'x_' + str(s+1), biases_dict) "
   ]
  },
  {
   "cell_type": "markdown",
   "metadata": {},
   "source": [
    "## Run DQM on the D-wave machine"
   ]
  },
  {
   "cell_type": "code",
   "execution_count": 277,
   "metadata": {
    "collapsed": false
   },
   "outputs": [],
   "source": [
    "sampler = LeapHybridDQMSampler()\n",
    "sampleset = sampler.sample_dqm(dqm)\n",
    "best_solution = sampleset.first.sample    "
   ]
  },
  {
   "cell_type": "code",
   "execution_count": 278,
   "metadata": {
    "collapsed": false
   },
   "outputs": [
    {
     "name": "stdout",
     "output_type": "stream",
     "text": [
      "Selected suppliers: [1, 1, 1, 1, 1]\n"
     ]
    }
   ],
   "source": [
    "selected_suppliers = [best_solution[i] for i in x]\n",
    "print('Selected suppliers:', selected_suppliers)"
   ]
  },
  {
   "cell_type": "code",
   "execution_count": 280,
   "metadata": {
    "collapsed": false
   },
   "outputs": [
    {
     "data": {
      "text/html": [
       "<div>\n",
       "<style scoped>\n",
       "    .dataframe tbody tr th:only-of-type {\n",
       "        vertical-align: middle;\n",
       "    }\n",
       "\n",
       "    .dataframe tbody tr th {\n",
       "        vertical-align: top;\n",
       "    }\n",
       "\n",
       "    .dataframe thead th {\n",
       "        text-align: right;\n",
       "    }\n",
       "</style>\n",
       "<table border=\"1\" class=\"dataframe\">\n",
       "  <thead>\n",
       "    <tr style=\"text-align: right;\">\n",
       "      <th>Supplier</th>\n",
       "      <th>0</th>\n",
       "      <th>1</th>\n",
       "      <th>2</th>\n",
       "      <th>3</th>\n",
       "      <th>4</th>\n",
       "    </tr>\n",
       "    <tr>\n",
       "      <th>Item</th>\n",
       "      <th></th>\n",
       "      <th></th>\n",
       "      <th></th>\n",
       "      <th></th>\n",
       "      <th></th>\n",
       "    </tr>\n",
       "  </thead>\n",
       "  <tbody>\n",
       "    <tr>\n",
       "      <th>0</th>\n",
       "      <td>7</td>\n",
       "      <td>7</td>\n",
       "      <td>7</td>\n",
       "      <td>7</td>\n",
       "      <td>0</td>\n",
       "    </tr>\n",
       "    <tr>\n",
       "      <th>1</th>\n",
       "      <td>0</td>\n",
       "      <td>2</td>\n",
       "      <td>2</td>\n",
       "      <td>0</td>\n",
       "      <td>0</td>\n",
       "    </tr>\n",
       "    <tr>\n",
       "      <th>4</th>\n",
       "      <td>0</td>\n",
       "      <td>0</td>\n",
       "      <td>7</td>\n",
       "      <td>0</td>\n",
       "      <td>7</td>\n",
       "    </tr>\n",
       "    <tr>\n",
       "      <th>9</th>\n",
       "      <td>7</td>\n",
       "      <td>0</td>\n",
       "      <td>0</td>\n",
       "      <td>0</td>\n",
       "      <td>0</td>\n",
       "    </tr>\n",
       "    <tr>\n",
       "      <th>11</th>\n",
       "      <td>4</td>\n",
       "      <td>0</td>\n",
       "      <td>0</td>\n",
       "      <td>0</td>\n",
       "      <td>4</td>\n",
       "    </tr>\n",
       "    <tr>\n",
       "      <th>12</th>\n",
       "      <td>0</td>\n",
       "      <td>5</td>\n",
       "      <td>5</td>\n",
       "      <td>5</td>\n",
       "      <td>0</td>\n",
       "    </tr>\n",
       "    <tr>\n",
       "      <th>13</th>\n",
       "      <td>2</td>\n",
       "      <td>0</td>\n",
       "      <td>0</td>\n",
       "      <td>0</td>\n",
       "      <td>0</td>\n",
       "    </tr>\n",
       "    <tr>\n",
       "      <th>15</th>\n",
       "      <td>6</td>\n",
       "      <td>6</td>\n",
       "      <td>0</td>\n",
       "      <td>6</td>\n",
       "      <td>6</td>\n",
       "    </tr>\n",
       "  </tbody>\n",
       "</table>\n",
       "</div>"
      ],
      "text/plain": [
       "Supplier  0  1  2  3  4\n",
       "Item                   \n",
       "0         7  7  7  7  0\n",
       "1         0  2  2  0  0\n",
       "4         0  0  7  0  7\n",
       "9         7  0  0  0  0\n",
       "11        4  0  0  0  4\n",
       "12        0  5  5  5  0\n",
       "13        2  0  0  0  0\n",
       "15        6  6  0  6  6"
      ]
     },
     "execution_count": 280,
     "metadata": {},
     "output_type": "execute_result"
    }
   ],
   "source": [
    "purchase_plan = [best_solution[i] for i in z]\n",
    "purchase_plan = np.array(purchase_plan).reshape((len(U), len(S)))\n",
    "df = pd.DataFrame(purchase_plan, index=pd.Index(U, name='Item'), \n",
    "                  columns=pd.Index(list(range(len(S))), name='Supplier'))\n",
    "df"
   ]
  },
  {
   "cell_type": "markdown",
   "metadata": {},
   "source": [
    "## References\n",
    "[1] Lucas, A., 2014. Ising formulations of many NP problems. Frontiers in physics, 2, p.5.\n"
   ]
  }
 ],
 "metadata": {
  "kernelspec": {
   "display_name": "cdl",
   "language": "python",
   "name": "cdl"
  },
  "language_info": {
   "codemirror_mode": {
    "name": "ipython",
    "version": 3
   },
   "file_extension": ".py",
   "mimetype": "text/x-python",
   "name": "python",
   "nbconvert_exporter": "python",
   "pygments_lexer": "ipython3",
   "version": "3.9.6"
  }
 },
 "nbformat": 4,
 "nbformat_minor": 2
}
