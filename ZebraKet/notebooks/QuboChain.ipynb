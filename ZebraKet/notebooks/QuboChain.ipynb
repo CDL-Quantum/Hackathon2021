{
 "cells": [
  {
   "cell_type": "markdown",
   "source": [
    "# Chaining Qubos"
   ],
   "metadata": {}
  },
  {
   "cell_type": "markdown",
   "source": [
    "This notebook contains the code used to execute a \"Qubo Chain\". The idea is that we can add an arbitrarily number of qubos to a chain and optimize them all together.\n",
    "\n",
    "Instead of trying to combine qubos into one by developping a crazy complex qubo, we can break it up into little blocks, and evaluate the qubo chain."
   ],
   "metadata": {}
  },
  {
   "cell_type": "code",
   "execution_count": 8,
   "source": [
    "import os \n",
    "# Path hack so notbook can open modules and files correctly:\n",
    "# NOTE if you run this cell multiple times, you might need to close the notebook and re-open it\n",
    "os.chdir('..') \n",
    "from services.Chain import Chain\n",
    "from models.ProfitQubo import ProfitQubo\n",
    "from models.SupplierQubo import SupplierQubo\n",
    "from utils.data import read_inventory_optimization_data\n",
    "from config import standard_mock_data\n",
    "from neal import SimulatedAnnealingSampler\n",
    "from dwave.system import LeapHybridDQMSampler\n",
    "import numpy as np"
   ],
   "outputs": [],
   "metadata": {}
  },
  {
   "cell_type": "markdown",
   "source": [
    "Our chain needs to start somewhere. Start off with the inventory data."
   ],
   "metadata": {}
  },
  {
   "cell_type": "code",
   "execution_count": 2,
   "source": [
    "data_file = standard_mock_data['small']\n",
    "inventory_requirement, supplier_inventory = read_inventory_optimization_data(data_file)"
   ],
   "outputs": [],
   "metadata": {}
  },
  {
   "cell_type": "markdown",
   "source": [
    "When we pass data from one Qubo to the other (via the build method), we can use this function"
   ],
   "metadata": {}
  },
  {
   "cell_type": "code",
   "execution_count": 4,
   "source": [
    "def pass_data_to_next_qubo(data_file:str): \n",
    "    # Hacky function that should be generalized away\n",
    "    def post_process_inventory_qubo(solution, energy):\n",
    "        from utils.data import read_profit_optimization_data\n",
    "\n",
    "        hacky_suppliers = [f'supplier{i}' for i in np.where(solution)[0]]  # looses the name, but its a hackathon.\n",
    "        profit, cost = read_profit_optimization_data(data_file, hacky_suppliers)\n",
    "\n",
    "        return dict(\n",
    "            profits=profit,\n",
    "            costs=cost\n",
    "        )\n",
    "    \n",
    "    return post_process_inventory_qubo"
   ],
   "outputs": [],
   "metadata": {}
  },
  {
   "cell_type": "markdown",
   "source": [
    "Instantiate our qubos we want to chain"
   ],
   "metadata": {}
  },
  {
   "cell_type": "code",
   "execution_count": 10,
   "source": [
    "# Instantiate your two (or more) qubos\n",
    "qubo1 = SupplierQubo(inventory_requirement, supplier_inventory)\n",
    "qubo2 = ProfitQubo()  # Leave the initializer on this blank, because the data depends on the first step\n",
    "\n",
    "# Now we can define the samplers that we want to be used on each Qubo\n",
    "sampler1 = SimulatedAnnealingSampler().sample\n",
    "sampler2 = LeapHybridDQMSampler().sample_dqm\n",
    "samplers = [sampler1, sampler2]\n",
    "# Can define kwparams for them\n",
    "sampler_params = [dict(), dict()]\n",
    "\n",
    "# Now you need to specify how to pass data from one qubo to the other\n",
    "# This can definitely be improved\n",
    "qubo1.define_post_process_function(pass_data_to_next_qubo(data_file))\n",
    "# qubo2 does not need this because it is the last qubo in the chain"
   ],
   "outputs": [
    {
     "output_type": "stream",
     "name": "stdout",
     "text": [
      "Building QUBO\n"
     ]
    }
   ],
   "metadata": {}
  },
  {
   "cell_type": "markdown",
   "source": [
    "Nows the fun part\n",
    "### We instantiate and evaluate the chain"
   ],
   "metadata": {}
  },
  {
   "cell_type": "code",
   "execution_count": 11,
   "source": [
    "# Instantiate chain\n",
    "chain = Chain()\n",
    "# Add some qubos\n",
    "chain.append(qubo1)\n",
    "chain.append(qubo2)\n",
    "\n",
    "# Evaluate the chain\n",
    "chain.process_best(samplers, sampler_params)\n"
   ],
   "outputs": [
    {
     "output_type": "stream",
     "name": "stdout",
     "text": [
      "Solving Qubo\n",
      "Solved\n",
      "  x_1 x_10 x_2 x_3 x_4 x_5 x_6 x_7 x_8 x_9 y_(1, 1) ... y_(9, 9) energy num_oc.\n",
      "0   1    1   0   0   1   1   1   1   1   1        0 ...        0   -2.0       1\n",
      "['BINARY', 1 rows, 1 samples, 210 variables]\n",
      "Starting next iteration with data {'profits': [14.193259698904324, 42.34503782559854, 29.08061425715131, 19.422087347158914, 39.65028317935948, 2.647142528191858, 37.02026493051393, 29.27274307589468, 9.617732359087729, 21.903774512816625, 15.163823982865704, 1.7489799922534774, 18.09133959951975, 42.77435773396476, 37.5644702135008, 34.29426458078795, 17.628685377043077, 44.79655445736397, 10.932978575753499, 3.158230974212466], 'costs': array([ 7.09662985, 21.17251891, 14.54030713,  9.71104367, 19.82514159,\n",
      "        1.32357126, 18.51013247, 14.63637154,  4.80886618, 10.95188726,\n",
      "        7.58191199,  0.87449   ,  9.0456698 , 21.38717887, 18.78223511,\n",
      "       17.14713229,  8.81434269, 22.39827723,  5.46648929,  1.57911549])}\n",
      "Building QUBO\n",
      "Solving Qubo\n",
      "Solved\n",
      "   x0 x1 x2 x3 x4 x5 x6 x7 x8 x9 x10 x11 x12 x13 x14 ... y6      energy num_oc.\n",
      "10  0  0  0  0  0  1  0  0  0  0   0   4   0   0   0 ...  1 -183.678374       1\n",
      "9   0  0  0  0  0  2  0  0  0  0   0   1   0   0   0 ...  1 -152.066021       1\n",
      "11  0  0  0  0  0  1  0  0  0  0   0   0   0   0   0 ...  1 -119.993236       1\n",
      "6   0  0  0  0  0  0  0  0  0  0   0   1   0   0   0 ...  1 -102.746346       1\n",
      "4   0  0  0  0  0  6  0  0  0  0   0   9   0   0   0 ...  1  -86.416199       1\n",
      "2   0  0  0  0  0 10  0  0  0  0   0   1   0   0   0 ...  0  -86.039285       1\n",
      "5   0  0  0  0  0  2  0  0  0  0   0   9   0   0   0 ...  0  -77.208469       1\n",
      "7   0  0  0  0  0  3  0  0  0  0   0   6   0   0   0 ...  0  -62.104589       1\n",
      "8   0  0  0  0  0  2  0  0  0  0   0   9   0   0   0 ...  0  -61.800352       1\n",
      "0   0  0  0  0  0  0  0  0  0  0   0   0   0   0   0 ...  0  -14.072576       1\n",
      "3   0  0  0  0  0  0  0  0  0  0   0   5   0   0   0 ...  0   -12.53822       1\n",
      "1   0  0  0  0  0  0  0  0  0  0   0   4   0   0   0 ...  0   -4.774332       1\n",
      "['DISCRETE', 12 rows, 12 samples, 27 variables]\n"
     ]
    }
   ],
   "metadata": {}
  },
  {
   "cell_type": "markdown",
   "source": [
    "### Now we can evalute the results from the qubos in the chain"
   ],
   "metadata": {}
  },
  {
   "cell_type": "markdown",
   "source": [
    "1. For the first step, we minimized the number of needed suppliers to match our inventory (unfortunately, this solution is not accurate yet)"
   ],
   "metadata": {}
  },
  {
   "cell_type": "code",
   "execution_count": 25,
   "source": [
    "print('Here is the result from the first Qubo')\n",
    "print(qubo1.response)\n",
    "def print_suppliers(qubo):\n",
    "    # Hacky function that should be generalized away\n",
    "    best_solution = [qubo.response.first.sample[i] for i in qubo.x]\n",
    "    return [f'supplier{i}' for i in np.where(best_solution)[0]]\n",
    "\n",
    "print(f'\\nThe \"best\" suppliers selected for this step: {print_suppliers(qubo1)}')"
   ],
   "outputs": [
    {
     "output_type": "stream",
     "name": "stdout",
     "text": [
      "Here is the result from the first Qubo\n",
      "  x_1 x_10 x_2 x_3 x_4 x_5 x_6 x_7 x_8 x_9 y_(1, 1) ... y_(9, 9) energy num_oc.\n",
      "0   1    1   0   0   1   1   1   1   1   1        0 ...        0   -2.0       1\n",
      "['BINARY', 1 rows, 1 samples, 210 variables]\n",
      "\n",
      "The \"best\" suppliers selected for this step: ['supplier0', 'supplier3', 'supplier4', 'supplier5', 'supplier6', 'supplier7', 'supplier8', 'supplier9']\n"
     ]
    }
   ],
   "metadata": {}
  },
  {
   "cell_type": "markdown",
   "source": [
    "2. For the second step, we maximized the profit. Lets check out our solution for that!"
   ],
   "metadata": {}
  },
  {
   "cell_type": "code",
   "execution_count": 55,
   "source": [
    "print('Here is the result from the second Qubo')\n",
    "print(qubo2.response)\n",
    "\n",
    "qubo1_output = qubo1.post_process\n",
    "print('\\nThe data passed into qubo2:')\n",
    "print(qubo1_output[0])\n",
    "\n",
    "costs_output = qubo1_output[0]['costs']\n",
    "profits_output = qubo1_output[0]['profits']\n",
    "print(f'\\nTotal cost calculated: {np.sum([cost*count for cost, count in zip(costs_output, qubo2.solution_set)])} with budget {qubo2.budget}')\n",
    "print(f'Total profit calculated: {np.sum([profit*count for profit, count in zip(profits_output, qubo2.solution_set)])} with budget {qubo2.budget}')"
   ],
   "outputs": [
    {
     "output_type": "stream",
     "name": "stdout",
     "text": [
      "Here is the result from the second Qubo\n",
      "   x0 x1 x2 x3 x4 x5 x6 x7 x8 x9 x10 x11 x12 x13 x14 ... y6      energy num_oc.\n",
      "10  0  0  0  0  0  1  0  0  0  0   0   4   0   0   0 ...  1 -183.678374       1\n",
      "9   0  0  0  0  0  2  0  0  0  0   0   1   0   0   0 ...  1 -152.066021       1\n",
      "11  0  0  0  0  0  1  0  0  0  0   0   0   0   0   0 ...  1 -119.993236       1\n",
      "6   0  0  0  0  0  0  0  0  0  0   0   1   0   0   0 ...  1 -102.746346       1\n",
      "4   0  0  0  0  0  6  0  0  0  0   0   9   0   0   0 ...  1  -86.416199       1\n",
      "2   0  0  0  0  0 10  0  0  0  0   0   1   0   0   0 ...  0  -86.039285       1\n",
      "5   0  0  0  0  0  2  0  0  0  0   0   9   0   0   0 ...  0  -77.208469       1\n",
      "7   0  0  0  0  0  3  0  0  0  0   0   6   0   0   0 ...  0  -62.104589       1\n",
      "8   0  0  0  0  0  2  0  0  0  0   0   9   0   0   0 ...  0  -61.800352       1\n",
      "0   0  0  0  0  0  0  0  0  0  0   0   0   0   0   0 ...  0  -14.072576       1\n",
      "3   0  0  0  0  0  0  0  0  0  0   0   5   0   0   0 ...  0   -12.53822       1\n",
      "1   0  0  0  0  0  0  0  0  0  0   0   4   0   0   0 ...  0   -4.774332       1\n",
      "['DISCRETE', 12 rows, 12 samples, 27 variables]\n",
      "\n",
      "The data passed into qubo2:\n",
      "{'profits': [14.193259698904324, 42.34503782559854, 29.08061425715131, 19.422087347158914, 39.65028317935948, 2.647142528191858, 37.02026493051393, 29.27274307589468, 9.617732359087729, 21.903774512816625, 15.163823982865704, 1.7489799922534774, 18.09133959951975, 42.77435773396476, 37.5644702135008, 34.29426458078795, 17.628685377043077, 44.79655445736397, 10.932978575753499, 3.158230974212466], 'costs': array([ 7.09662985, 21.17251891, 14.54030713,  9.71104367, 19.82514159,\n",
      "        1.32357126, 18.51013247, 14.63637154,  4.80886618, 10.95188726,\n",
      "        7.58191199,  0.87449   ,  9.0456698 , 21.38717887, 18.78223511,\n",
      "       17.14713229,  8.81434269, 22.39827723,  5.46648929,  1.57911549])}\n",
      "\n",
      "Total cost calculated: 2078.9928487025986 with budget 100\n",
      "Total profit calculated: 4157.985697405196 with budget 100\n"
     ]
    }
   ],
   "metadata": {}
  }
 ],
 "metadata": {
  "orig_nbformat": 4,
  "language_info": {
   "name": "python",
   "version": "3.9.5",
   "mimetype": "text/x-python",
   "codemirror_mode": {
    "name": "ipython",
    "version": 3
   },
   "pygments_lexer": "ipython3",
   "nbconvert_exporter": "python",
   "file_extension": ".py"
  },
  "kernelspec": {
   "name": "python3",
   "display_name": "Python 3.9.5 64-bit ('zebraket-cdl-hackathon-2021': conda)"
  },
  "interpreter": {
   "hash": "5f20994d19ff6c8c5cec1db5b7f7944e8fd16ef471b6d6e4ac9b86936de59e16"
  }
 },
 "nbformat": 4,
 "nbformat_minor": 2
}