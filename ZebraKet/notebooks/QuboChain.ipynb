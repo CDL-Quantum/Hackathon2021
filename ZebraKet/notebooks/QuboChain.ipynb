{
 "cells": [
  {
   "cell_type": "markdown",
   "source": [
    "# Chaining Qubos"
   ],
   "metadata": {}
  },
  {
   "cell_type": "markdown",
   "source": [
    "This notebook contains the code used to execute a \"Qubo Chain\". The idea is that we can add an arbitrarily number of qubos to a chain and optimize them all together.\n",
    "\n",
    "Instead of trying to [combine qubos into one](./CombinedQUBO.ipynb) by developping a complex qubo, we can break it up into little blocks, and evaluate the qubo chain."
   ],
   "metadata": {}
  },
  {
   "cell_type": "code",
   "execution_count": 1,
   "source": [
    "import os \n",
    "# Path hack so notbook can open modules and files correctly:\n",
    "# NOTE if you run this cell multiple times, you might need to close the notebook and re-open it\n",
    "os.chdir('..') \n",
    "from services.Chain import Chain\n",
    "from models.ProfitQubo import ProfitQubo\n",
    "from models.SupplierQubo import SupplierQubo\n",
    "from utils.data import read_inventory_optimization_data\n",
    "from config import standard_mock_data\n",
    "from neal import SimulatedAnnealingSampler\n",
    "from dwave.system import LeapHybridDQMSampler\n",
    "import numpy as np"
   ],
   "outputs": [],
   "metadata": {}
  },
  {
   "cell_type": "markdown",
   "source": [
    "Our chain needs to start somewhere. Start off with the inventory data."
   ],
   "metadata": {}
  },
  {
   "cell_type": "code",
   "execution_count": 2,
   "source": [
    "data_file = standard_mock_data['small']\n",
    "inventory_requirement, supplier_inventory = read_inventory_optimization_data(data_file)"
   ],
   "outputs": [],
   "metadata": {}
  },
  {
   "cell_type": "markdown",
   "source": [
    "When we pass data from one Qubo to the other (via the build method), we can use this function"
   ],
   "metadata": {}
  },
  {
   "cell_type": "code",
   "execution_count": 3,
   "source": [
    "def pass_data_to_next_qubo(data_file:str): \n",
    "    # Hacky function that should be generalized away\n",
    "    def post_process_inventory_qubo(solution, energy):\n",
    "        from utils.data import read_profit_optimization_data\n",
    "\n",
    "        hacky_suppliers = [f'supplier{i}' for i in np.where(solution)[0]]  # looses the name, but its a hackathon.\n",
    "        profit, cost = read_profit_optimization_data(data_file, hacky_suppliers)\n",
    "\n",
    "        return dict(\n",
    "            profits=profit,\n",
    "            costs=cost\n",
    "        )\n",
    "    \n",
    "    return post_process_inventory_qubo"
   ],
   "outputs": [],
   "metadata": {}
  },
  {
   "cell_type": "markdown",
   "source": [
    "## Instantiate our qubos we want to chain"
   ],
   "metadata": {}
  },
  {
   "cell_type": "code",
   "execution_count": 4,
   "source": [
    "# Instantiate your two (or more) qubos\n",
    "qubo1 = SupplierQubo(inventory_requirement, supplier_inventory)\n",
    "qubo2 = ProfitQubo()  # Leave the initializer on this blank, because the data depends on the first step\n",
    "\n",
    "# Now we can define the samplers that we want to be used on each Qubo\n",
    "sampler1 = SimulatedAnnealingSampler().sample\n",
    "sampler2 = LeapHybridDQMSampler().sample_dqm\n",
    "samplers = [sampler1, sampler2]\n",
    "# Can define kwparams for them\n",
    "sampler_params = [dict(), dict()]\n",
    "\n",
    "# Now you need to specify how to pass data from one qubo to the other\n",
    "# This can definitely be improved\n",
    "qubo1.define_post_process_function(pass_data_to_next_qubo(data_file))\n",
    "# qubo2 does not need this because it is the last qubo in the chain"
   ],
   "outputs": [
    {
     "output_type": "stream",
     "name": "stdout",
     "text": [
      "Building QUBO\n"
     ]
    }
   ],
   "metadata": {}
  },
  {
   "cell_type": "markdown",
   "source": [
    "Nows the fun part\n",
    "## Instantiate and evaluate the chain"
   ],
   "metadata": {}
  },
  {
   "cell_type": "code",
   "execution_count": 5,
   "source": [
    "# Instantiate chain\n",
    "chain = Chain()\n",
    "# Add some qubos\n",
    "chain.append(qubo1)\n",
    "chain.append(qubo2)\n",
    "\n",
    "# Evaluate the chain\n",
    "chain.process_best(samplers, sampler_params)\n"
   ],
   "outputs": [
    {
     "output_type": "stream",
     "name": "stdout",
     "text": [
      "Solving Qubo\n",
      "Solved\n",
      "  x_1 x_10 x_2 x_3 x_4 x_5 x_6 x_7 x_8 x_9 y_(1, 1) ... y_(9, 9) energy num_oc.\n",
      "0   1    0   1   1   1   1   1   1   1   1        0 ...        0   13.0       1\n",
      "['BINARY', 1 rows, 1 samples, 210 variables]\n",
      "Starting next iteration with data {'profits': [13.888028307530039, 54.57804875299364, 29.403732193341888, 19.422087347158914, 39.23291177747147, 2.647142528191858, 37.02026493051393, 29.59092506585005, 7.987608230428792, 21.903774512816625, 15.899931943198988, 1.7489799922534774, 18.09133959951975, 42.77435773396476, 37.5644702135008, 34.29426458078795, 17.628685377043077, 44.79655445736397, 10.932978575753499, 3.263505340019549], 'costs': array([ 6.94401415, 27.28902438, 14.7018661 ,  9.71104367, 19.61645589,\n",
      "        1.32357126, 18.51013247, 14.79546253,  3.99380412, 10.95188726,\n",
      "        7.94996597,  0.87449   ,  9.0456698 , 21.38717887, 18.78223511,\n",
      "       17.14713229,  8.81434269, 22.39827723,  5.46648929,  1.63175267])}\n",
      "Building QUBO\n",
      "Solving Qubo\n",
      "Solved\n",
      "   x0 x1 x2 x3 x4 x5 x6 x7 x8 x9 x10 x11 x12 x13 x14 ... y6      energy num_oc.\n",
      "0   0  0  0  0  0  1  0  0  0  0   0   3   0   0   0 ...  1  -200.08933       1\n",
      "5   0  0  0  0  0  2  0  0  0  0   0   5   0   0   0 ...  1 -192.090235       1\n",
      "6   0  0  0  0  0  7  0  0  0  0   0   5   0   0   0 ...  1 -182.929032       1\n",
      "8   0  0  0  0  0  0  0  0  0  0   0   2   0   0   0 ...  1 -143.784667       1\n",
      "11  0  0  0  0  0  0  0  0  0  0   0   2   0   0   0 ...  1  -135.59898       1\n",
      "1   0  0  0  0  0  3  0  0  0  0   0   1   0   0   0 ...  1  -127.26713       1\n",
      "10  0  0  0  0  0  2  0  0  0  0   0   3   0   0   0 ...  1 -118.879856       1\n",
      "3   0  0  0  0  0  0  0  0  0  0   0   4   0   0   0 ...  0 -109.101697       1\n",
      "2   0  0  0  0  0  2  0  0  0  0   0   1   0   0   0 ...  0 -105.809567       1\n",
      "9   0  0  0  0  0  0  0  0  0  0   0   3   0   0   0 ...  0  -92.914311       1\n",
      "7   0  0  0  0  0  3  0  0  1  0   0   6   0   0   0 ...  0  -60.164587       1\n",
      "4   0  0  0  0  0  1  0  0  0  0   0   2   0   0   0 ...  0   -6.087646       1\n",
      "['DISCRETE', 12 rows, 12 samples, 27 variables]\n"
     ]
    }
   ],
   "metadata": {}
  },
  {
   "cell_type": "markdown",
   "source": [
    "### Now we can evalute the results from the qubos in the chain"
   ],
   "metadata": {}
  },
  {
   "cell_type": "markdown",
   "source": [
    "1. For the first step, we minimized the number of needed suppliers to match our inventory (unfortunately, this solution is not accurate yet)"
   ],
   "metadata": {}
  },
  {
   "cell_type": "code",
   "execution_count": 6,
   "source": [
    "print('Here is the result from the first Qubo')\n",
    "print(qubo1.response)\n",
    "def print_suppliers(qubo):\n",
    "    # Hacky function that should be generalized away\n",
    "    best_solution = [qubo.response.first.sample[i] for i in qubo.x]\n",
    "    return [f'supplier{i}' for i in np.where(best_solution)[0]]\n",
    "\n",
    "print(f'\\nThe \"best\" suppliers selected for this step: {print_suppliers(qubo1)}')"
   ],
   "outputs": [
    {
     "output_type": "stream",
     "name": "stdout",
     "text": [
      "Here is the result from the first Qubo\n",
      "  x_1 x_10 x_2 x_3 x_4 x_5 x_6 x_7 x_8 x_9 y_(1, 1) ... y_(9, 9) energy num_oc.\n",
      "0   1    0   1   1   1   1   1   1   1   1        0 ...        0   13.0       1\n",
      "['BINARY', 1 rows, 1 samples, 210 variables]\n",
      "\n",
      "The \"best\" suppliers selected for this step: ['supplier0', 'supplier1', 'supplier2', 'supplier3', 'supplier4', 'supplier5', 'supplier6', 'supplier7', 'supplier8']\n"
     ]
    }
   ],
   "metadata": {}
  },
  {
   "cell_type": "markdown",
   "source": [
    "2. For the second step, we maximized the profit. Lets check out our solution for that!"
   ],
   "metadata": {}
  },
  {
   "cell_type": "code",
   "execution_count": 7,
   "source": [
    "print('Here is the result from the second Qubo')\n",
    "print(qubo2.response)\n",
    "\n",
    "qubo1_output = qubo1.post_process\n",
    "print('\\nThe data passed into qubo2:')\n",
    "print(qubo1_output[0])\n",
    "\n",
    "costs_output = qubo1_output[0]['costs']\n",
    "profits_output = qubo1_output[0]['profits']\n",
    "print(f'\\nTotal cost calculated: {np.sum([cost*count for cost, count in zip(costs_output, qubo2.solution_set)])} with budget {qubo2.budget}')\n",
    "print(f'Total profit calculated: {np.sum([profit*count for profit, count in zip(profits_output, qubo2.solution_set)])} with budget {qubo2.budget}')\n",
    "\n",
    "print('\\nSummary\\n')\n",
    "print('Step 1: Supplier Inventory Optimization')\n",
    "print(f'The \"best\" suppliers selected for this step: {print_suppliers(qubo1)}')\n",
    "\n",
    "print('\\nStep 2: Profit Optimization')\n",
    "print(f'Total profit calculated: {np.sum([profit*count for profit, count in zip(profits_output, qubo2.solution_set)])} with budget {qubo2.budget}')"
   ],
   "outputs": [
    {
     "output_type": "stream",
     "name": "stdout",
     "text": [
      "Here is the result from the second Qubo\n",
      "   x0 x1 x2 x3 x4 x5 x6 x7 x8 x9 x10 x11 x12 x13 x14 ... y6      energy num_oc.\n",
      "0   0  0  0  0  0  1  0  0  0  0   0   3   0   0   0 ...  1  -200.08933       1\n",
      "5   0  0  0  0  0  2  0  0  0  0   0   5   0   0   0 ...  1 -192.090235       1\n",
      "6   0  0  0  0  0  7  0  0  0  0   0   5   0   0   0 ...  1 -182.929032       1\n",
      "8   0  0  0  0  0  0  0  0  0  0   0   2   0   0   0 ...  1 -143.784667       1\n",
      "11  0  0  0  0  0  0  0  0  0  0   0   2   0   0   0 ...  1  -135.59898       1\n",
      "1   0  0  0  0  0  3  0  0  0  0   0   1   0   0   0 ...  1  -127.26713       1\n",
      "10  0  0  0  0  0  2  0  0  0  0   0   3   0   0   0 ...  1 -118.879856       1\n",
      "3   0  0  0  0  0  0  0  0  0  0   0   4   0   0   0 ...  0 -109.101697       1\n",
      "2   0  0  0  0  0  2  0  0  0  0   0   1   0   0   0 ...  0 -105.809567       1\n",
      "9   0  0  0  0  0  0  0  0  0  0   0   3   0   0   0 ...  0  -92.914311       1\n",
      "7   0  0  0  0  0  3  0  0  1  0   0   6   0   0   0 ...  0  -60.164587       1\n",
      "4   0  0  0  0  0  1  0  0  0  0   0   2   0   0   0 ...  0   -6.087646       1\n",
      "['DISCRETE', 12 rows, 12 samples, 27 variables]\n",
      "\n",
      "The data passed into qubo2:\n",
      "{'profits': [13.888028307530039, 54.57804875299364, 29.403732193341888, 19.422087347158914, 39.23291177747147, 2.647142528191858, 37.02026493051393, 29.59092506585005, 7.987608230428792, 21.903774512816625, 15.899931943198988, 1.7489799922534774, 18.09133959951975, 42.77435773396476, 37.5644702135008, 34.29426458078795, 17.628685377043077, 44.79655445736397, 10.932978575753499, 3.263505340019549], 'costs': array([ 6.94401415, 27.28902438, 14.7018661 ,  9.71104367, 19.61645589,\n",
      "        1.32357126, 18.51013247, 14.79546253,  3.99380412, 10.95188726,\n",
      "        7.94996597,  0.87449   ,  9.0456698 , 21.38717887, 18.78223511,\n",
      "       17.14713229,  8.81434269, 22.39827723,  5.46648929,  1.63175267])}\n",
      "\n",
      "Total cost calculated: 2281.338108359792 with budget 100\n",
      "Total profit calculated: 4562.676216719583 with budget 100\n",
      "\n",
      "Summary\n",
      "\n",
      "Step 1: Supplier Inventory Optimization\n",
      "The \"best\" suppliers selected for this step: ['supplier0', 'supplier1', 'supplier2', 'supplier3', 'supplier4', 'supplier5', 'supplier6', 'supplier7', 'supplier8']\n",
      "\n",
      "Step 2: Profit Optimization\n",
      "Total profit calculated: 4562.676216719583 with budget 100\n"
     ]
    }
   ],
   "metadata": {}
  },
  {
   "cell_type": "markdown",
   "source": [
    "Lets just put all this logic in one function so we can re-use it"
   ],
   "metadata": {}
  },
  {
   "cell_type": "code",
   "execution_count": 8,
   "source": [
    "def run_experiment(filename): \n",
    "    inventory_requirement, supplier_inventory = read_inventory_optimization_data(filename)\n",
    "    # Instantiate your two (or more) qubos\n",
    "    qubo1 = SupplierQubo(inventory_requirement, supplier_inventory)\n",
    "    qubo2 = ProfitQubo()  # Leave the initializer on this blank, because the data depends on the first step\n",
    "\n",
    "    # Now we can define the samplers that we want to be used on each Qubo\n",
    "    sampler1 = SimulatedAnnealingSampler().sample\n",
    "    sampler2 = LeapHybridDQMSampler().sample_dqm\n",
    "    samplers = [sampler1, sampler2]\n",
    "    # Can define kwparams for them\n",
    "    sampler_params = [dict(), dict()]\n",
    "\n",
    "    # Now you need to specify how to pass data from one qubo to the other\n",
    "    # This can definitely be improved\n",
    "    qubo1.define_post_process_function(pass_data_to_next_qubo(filename))\n",
    "    # qubo2 does not need this because it is the last qubo in the chain\n",
    "\n",
    "    # Instantiate chain\n",
    "    chain = Chain()\n",
    "    # Add some qubos\n",
    "    chain.append(qubo1)\n",
    "    chain.append(qubo2)\n",
    "\n",
    "    # Evaluate the chain\n",
    "    chain.process_best(samplers, sampler_params)\n",
    "\n",
    "    print('Here is the result from the first Qubo')\n",
    "    print(qubo1.response)\n",
    "    def get_suppliers(qubo):\n",
    "        # Hacky function that should be generalized away\n",
    "        best_solution = [qubo.response.first.sample[i] for i in qubo.x]\n",
    "        return [f'supplier{i}' for i in np.where(best_solution)[0]]\n",
    "\n",
    "    print(f'\\nThe \"best\" suppliers selected for this step: {get_suppliers(qubo1)}')\n",
    "\n",
    "    print('Here is the result from the second Qubo')\n",
    "    print(qubo2.response)\n",
    "\n",
    "    qubo1_output = qubo1.post_process\n",
    "    # print('\\nThe data passed into qubo2:')\n",
    "    # print(qubo1_output[0])\n",
    "\n",
    "    costs_output = qubo1_output[0]['costs']\n",
    "    profits_output = qubo1_output[0]['profits']\n",
    "    print(f'\\nTotal cost calculated: {np.sum([cost*count for cost, count in zip(costs_output, qubo2.solution_set)])} with budget {qubo2.budget}')\n",
    "    print(f'Total profit calculated: {np.sum([profit*count for profit, count in zip(profits_output, qubo2.solution_set)])} with budget {qubo2.budget}')\n",
    "\n",
    "    print('\\nSummary\\n')\n",
    "    print('Step 1: Supplier Inventory Optimization')\n",
    "    print(f'The \"best\" suppliers selected for this step: {get_suppliers(qubo1)}')\n",
    "    print(f'Number of suppliers found: {len(get_suppliers(qubo1))}')\n",
    "\n",
    "    print('\\nStep 2: Profit Optimization')\n",
    "    print(f'Total cost caluclated: {np.sum([cost*count for cost, count in zip(costs_output, qubo2.solution_set)])} with budget {qubo2.budget}')\n",
    "    print(f'Total profit calculated: {np.sum([profit*count for profit, count in zip(profits_output, qubo2.solution_set)])} with budget {qubo2.budget}')"
   ],
   "outputs": [],
   "metadata": {}
  },
  {
   "cell_type": "markdown",
   "source": [
    "We can run this experiment on all our data sets"
   ],
   "metadata": {}
  },
  {
   "cell_type": "code",
   "execution_count": 9,
   "source": [
    "run_experiment(standard_mock_data['small'])"
   ],
   "outputs": [
    {
     "output_type": "stream",
     "name": "stdout",
     "text": [
      "Building QUBO\n",
      "Solving Qubo\n",
      "Solved\n",
      "  x_1 x_10 x_2 x_3 x_4 x_5 x_6 x_7 x_8 x_9 y_(1, 1) ... y_(9, 9) energy num_oc.\n",
      "0   1    1   1   0   1   1   1   0   1   1        0 ...        0    6.0       1\n",
      "['BINARY', 1 rows, 1 samples, 210 variables]\n",
      "Starting next iteration with data {'profits': [13.888028307530039, 42.34503782559854, 29.08061425715131, 19.422087347158914, 39.23291177747147, 2.647142528191858, 37.02026493051393, 29.27274307589468, 9.617732359087729, 21.903774512816625, 15.163823982865704, 1.7489799922534774, 18.09133959951975, 42.77435773396476, 37.5644702135008, 34.29426458078795, 17.628685377043077, 53.75586534883678, 10.932978575753499, 3.158230974212466], 'costs': array([ 6.94401415, 21.17251891, 14.54030713,  9.71104367, 19.61645589,\n",
      "        1.32357126, 18.51013247, 14.63637154,  4.80886618, 10.95188726,\n",
      "        7.58191199,  0.87449   ,  9.0456698 , 21.38717887, 18.78223511,\n",
      "       17.14713229,  8.81434269, 26.87793267,  5.46648929,  1.57911549])}\n",
      "Building QUBO\n",
      "Solving Qubo\n",
      "Solved\n",
      "   x0 x1 x2 x3 x4 x5 x6 x7 x8 x9 x10 x11 x12 x13 x14 ... y6      energy num_oc.\n",
      "6   0  0  0  0  0  9  0  0  0  0   0   2   0   0   0 ...  1 -199.930598       1\n",
      "0   0  0  0  0  0  6  0  0  0  0   0   4   0   0   0 ...  1 -182.061556       1\n",
      "5   0  0  0  0  0  0  0  0  0  0   0   3   0   0   0 ...  1 -163.816119       1\n",
      "10  0  0  0  0  0 10  0  0  0  0   0   1   0   0   0 ...  1 -132.023014       1\n",
      "8   0  0  0  0  0  3  0  0  0  0   0   9   0   0   0 ...  1 -127.975056       1\n",
      "11  0  0  0  0  0  1  0  0  0  0   0   4   0   0   0 ...  0 -124.939684       1\n",
      "7   0  0  0  0  0  0  0  0  0  0   0   5   0   0   0 ...  1 -115.595176       1\n",
      "9   0  0  0  0  0  4  0  0  0  0   0   2   0   0   0 ...  0 -113.975689       1\n",
      "1   0  0  0  0  0  0  0  0  0  0   0   1   0   0   0 ...  1 -111.947201       1\n",
      "3   0  0  0  0  0  0  0  0  0  0   0   2   0   0   0 ...  1  -80.073847       1\n",
      "4   0  0  0  0  0  5  0  0  0  0   0   7   0   0   0 ...  0  -67.587159       1\n",
      "2   0  0  0  0  0  1  0  0  0  0   0   0   0   0   0 ...  0  -45.992864       1\n",
      "['DISCRETE', 12 rows, 12 samples, 27 variables]\n",
      "Here is the result from the first Qubo\n",
      "  x_1 x_10 x_2 x_3 x_4 x_5 x_6 x_7 x_8 x_9 y_(1, 1) ... y_(9, 9) energy num_oc.\n",
      "0   1    1   1   0   1   1   1   0   1   1        0 ...        0    6.0       1\n",
      "['BINARY', 1 rows, 1 samples, 210 variables]\n",
      "\n",
      "The \"best\" suppliers selected for this step: ['supplier0', 'supplier1', 'supplier3', 'supplier4', 'supplier5', 'supplier7', 'supplier8', 'supplier9']\n",
      "Here is the result from the second Qubo\n",
      "   x0 x1 x2 x3 x4 x5 x6 x7 x8 x9 x10 x11 x12 x13 x14 ... y6      energy num_oc.\n",
      "6   0  0  0  0  0  9  0  0  0  0   0   2   0   0   0 ...  1 -199.930598       1\n",
      "0   0  0  0  0  0  6  0  0  0  0   0   4   0   0   0 ...  1 -182.061556       1\n",
      "5   0  0  0  0  0  0  0  0  0  0   0   3   0   0   0 ...  1 -163.816119       1\n",
      "10  0  0  0  0  0 10  0  0  0  0   0   1   0   0   0 ...  1 -132.023014       1\n",
      "8   0  0  0  0  0  3  0  0  0  0   0   9   0   0   0 ...  1 -127.975056       1\n",
      "11  0  0  0  0  0  1  0  0  0  0   0   4   0   0   0 ...  0 -124.939684       1\n",
      "7   0  0  0  0  0  0  0  0  0  0   0   5   0   0   0 ...  1 -115.595176       1\n",
      "9   0  0  0  0  0  4  0  0  0  0   0   2   0   0   0 ...  0 -113.975689       1\n",
      "1   0  0  0  0  0  0  0  0  0  0   0   1   0   0   0 ...  1 -111.947201       1\n",
      "3   0  0  0  0  0  0  0  0  0  0   0   2   0   0   0 ...  1  -80.073847       1\n",
      "4   0  0  0  0  0  5  0  0  0  0   0   7   0   0   0 ...  0  -67.587159       1\n",
      "2   0  0  0  0  0  1  0  0  0  0   0   0   0   0   0 ...  0  -45.992864       1\n",
      "['DISCRETE', 12 rows, 12 samples, 27 variables]\n",
      "\n",
      "Total cost calculated: 2328.943459200991 with budget 100\n",
      "Total profit calculated: 4657.886918401982 with budget 100\n",
      "\n",
      "Summary\n",
      "\n",
      "Step 1: Supplier Inventory Optimization\n",
      "The \"best\" suppliers selected for this step: ['supplier0', 'supplier1', 'supplier3', 'supplier4', 'supplier5', 'supplier7', 'supplier8', 'supplier9']\n",
      "Number of suppliers found: 8\n",
      "\n",
      "Step 2: Profit Optimization\n",
      "Total cost caluclated: 2328.943459200991 with budget 100\n",
      "Total profit calculated: 4657.886918401982 with budget 100\n"
     ]
    }
   ],
   "metadata": {}
  },
  {
   "cell_type": "code",
   "execution_count": 10,
   "source": [
    "run_experiment(standard_mock_data['medium'])"
   ],
   "outputs": [
    {
     "output_type": "stream",
     "name": "stdout",
     "text": [
      "Building QUBO\n",
      "Solving Qubo\n",
      "Solved\n",
      "  x_1 x_10 x_11 x_12 x_13 x_14 x_15 x_16 x_17 x_18 ... y_(99, 9) energy num_oc.\n",
      "0   1    1    1    1    1    1    1    1    1    1 ...         1 1127.0       1\n",
      "['BINARY', 1 rows, 1 samples, 4040 variables]\n",
      "Starting next iteration with data {'profits': [38.19056030528154, 6.2221736291464795, 36.95941005668472, 7.212357138553866, 37.09734191729193, 36.297925567920984, 37.803690863596714, 28.825097504613105, 23.286939891154496, 5.299257882533357, 42.46298328633512, 5.028537687708292, 31.404606574002635, 0.9720282256865127, 14.054803795147318, 7.930503449040431, 42.207172145007874, 40.87149988742412, 31.11318075917573, 40.983148848748115, 42.14704075932852, 25.58621797141423, 6.838982787675635, 4.3243957130040105, 43.59372003788174, 26.60761142564833, 10.026364040437777, 7.17870622388254, 29.255451878316684, 7.185719143317469, 17.806749414865216, 13.98710135014695, 24.897917493054116, 34.556767224624934, 16.326955895805916, 2.610526998025086, 28.608414063770866, 23.1564517197363, 2.0175543381213252, 8.829640756664975, 0.39724054079443694, 14.451333362945256, 1.9458107429975322, 16.914752342865434, 7.388142686393454, 12.851024515940683, 14.19128132080994, 31.76271676767439, 7.19335054774038, 37.540158716887746, 40.4972100251952, 25.36207894431189, 29.040590600368027, 37.28280095843306, 27.250896422820365, 12.565466662696487, 44.6904581578236, 15.552590070551922, 24.165444911353745, 43.173365118463735, 39.740503194163296, 24.52287251372927, 21.283034067518308, 11.115732499908173, 2.4408156847378786, 9.830434854338126, 16.712715905036227, 17.77888785152087, 18.87899307654844, 9.089967214929676, 0.13768307910672123, 38.96793879119362, 16.365727329826406, 2.0914483501916665, 43.98675900518291, 42.262072280384544, 11.551389026916443, 40.66077330354993, 2.1102204698074756, 36.782007860511655, 26.194022205214843, 23.254319206538362, 37.22806128964234, 41.10237205536302, 26.466605216860664, 34.060241961829874, 11.934162067631089, 42.42087453623647, 29.238869827641302, 26.23154500522621, 17.18410879952763, 33.917384076983026, 15.387072846464356, 42.39866496397114, 3.695195197524739, 41.83467944406847, 5.760939698079644, 18.28408608304867, 3.5176145501183607, 3.1461938763925517], 'costs': array([19.09528015,  3.11108681, 18.47970503,  3.60617857, 18.54867096,\n",
      "       18.14896278, 18.90184543, 14.41254875, 11.64346995,  2.64962894,\n",
      "       21.23149164,  2.51426884, 15.70230329,  0.48601411,  7.0274019 ,\n",
      "        3.96525172, 21.10358607, 20.43574994, 15.55659038, 20.49157442,\n",
      "       21.07352038, 12.79310899,  3.41949139,  2.16219786, 21.79686002,\n",
      "       13.30380571,  5.01318202,  3.58935311, 14.62772594,  3.59285957,\n",
      "        8.90337471,  6.99355068, 12.44895875, 17.27838361,  8.16347795,\n",
      "        1.3052635 , 14.30420703, 11.57822586,  1.00877717,  4.41482038,\n",
      "        0.19862027,  7.22566668,  0.97290537,  8.45737617,  3.69407134,\n",
      "        6.42551226,  7.09564066, 15.88135838,  3.59667527, 18.77007936,\n",
      "       20.24860501, 12.68103947, 14.5202953 , 18.64140048, 13.62544821,\n",
      "        6.28273333, 22.34522908,  7.77629504, 12.08272246, 21.58668256,\n",
      "       19.8702516 , 12.26143626, 10.64151703,  5.55786625,  1.22040784,\n",
      "        4.91521743,  8.35635795,  8.88944393,  9.43949654,  4.54498361,\n",
      "        0.06884154, 19.4839694 ,  8.18286366,  1.04572418, 21.9933795 ,\n",
      "       21.13103614,  5.77569451, 20.33038665,  1.05511023, 18.39100393,\n",
      "       13.0970111 , 11.6271596 , 18.61403064, 20.55118603, 13.23330261,\n",
      "       17.03012098,  5.96708103, 21.21043727, 14.61943491, 13.1157725 ,\n",
      "        8.5920544 , 16.95869204,  7.69353642, 21.19933248,  1.8475976 ,\n",
      "       20.91733972,  2.88046985,  9.14204304,  1.75880728,  1.57309694])}\n",
      "Building QUBO\n",
      "Solving Qubo\n",
      "Solved\n",
      "   x0 x1 x2 x3 x4 x5 x6 x7 x8 x9 x10 x11 x12 x13 x14 ... y6      energy num_oc.\n",
      "6   0  1  0  1  0  0  0  0  0  0   0   0   0   2   0 ...  1 -200.093727       1\n",
      "4   0  1  0  0  0  0  0  0  0  0   0   0   0   4   0 ...  1 -184.109117       1\n",
      "3   0  0  0  0  0  0  0  0  0  1   0   0   0   6   0 ...  1 -152.108959       1\n",
      "2   0  0  0  0  0  0  0  0  0  0   0   0   0   2   0 ...  1 -116.105012       1\n",
      "0   0  0  0  0  0  0  0  0  0  1   0   2   0   9   0 ...  0 -110.111868       1\n",
      "11  0  0  0  0  0  0  0  0  0  0   0   0   0   0   0 ...  0 -110.109051       1\n",
      "7   0  1  0  0  0  0  0  0  0  0   0   2   0   1   0 ...  0  -94.099426       1\n",
      "5   0  0  0  1  0  0  0  0  0  0   0   0   0   1   0 ...  1  -88.104116       1\n",
      "10  0  0  0  0  0  0  0  0  0  0   0   2   0   9   0 ...  0  -70.109958       1\n",
      "8   0  0  0  1  0  0  0  0  0  0   0   0   0   2   0 ...  0  -60.109223       1\n",
      "9   0  0  0  0  0  0  0  0  0  1   0   0   0   1   0 ...  0  -38.089438       1\n",
      "1   0  0  0  0  0  0  0  0  0  0   0   0   0   1   0 ...  0  -30.110828       1\n",
      "['DISCRETE', 12 rows, 12 samples, 107 variables]\n",
      "Here is the result from the first Qubo\n",
      "  x_1 x_10 x_11 x_12 x_13 x_14 x_15 x_16 x_17 x_18 ... y_(99, 9) energy num_oc.\n",
      "0   1    1    1    1    1    1    1    1    1    1 ...         1 1127.0       1\n",
      "['BINARY', 1 rows, 1 samples, 4040 variables]\n",
      "\n",
      "The \"best\" suppliers selected for this step: ['supplier0', 'supplier1', 'supplier2', 'supplier3', 'supplier4', 'supplier5', 'supplier6', 'supplier7', 'supplier8', 'supplier9', 'supplier10', 'supplier11', 'supplier12', 'supplier13', 'supplier14', 'supplier15', 'supplier16', 'supplier17', 'supplier18', 'supplier19', 'supplier20', 'supplier21', 'supplier22', 'supplier24', 'supplier25', 'supplier26', 'supplier27', 'supplier28', 'supplier29', 'supplier30', 'supplier31', 'supplier32', 'supplier33', 'supplier34', 'supplier35', 'supplier36', 'supplier37', 'supplier38', 'supplier39']\n",
      "Here is the result from the second Qubo\n",
      "   x0 x1 x2 x3 x4 x5 x6 x7 x8 x9 x10 x11 x12 x13 x14 ... y6      energy num_oc.\n",
      "6   0  1  0  1  0  0  0  0  0  0   0   0   0   2   0 ...  1 -200.093727       1\n",
      "4   0  1  0  0  0  0  0  0  0  0   0   0   0   4   0 ...  1 -184.109117       1\n",
      "3   0  0  0  0  0  0  0  0  0  1   0   0   0   6   0 ...  1 -152.108959       1\n",
      "2   0  0  0  0  0  0  0  0  0  0   0   0   0   2   0 ...  1 -116.105012       1\n",
      "0   0  0  0  0  0  0  0  0  0  1   0   2   0   9   0 ...  0 -110.111868       1\n",
      "11  0  0  0  0  0  0  0  0  0  0   0   0   0   0   0 ...  0 -110.109051       1\n",
      "7   0  1  0  0  0  0  0  0  0  0   0   2   0   1   0 ...  0  -94.099426       1\n",
      "5   0  0  0  1  0  0  0  0  0  0   0   0   0   1   0 ...  1  -88.104116       1\n",
      "10  0  0  0  0  0  0  0  0  0  0   0   2   0   9   0 ...  0  -70.109958       1\n",
      "8   0  0  0  1  0  0  0  0  0  0   0   0   0   2   0 ...  0  -60.109223       1\n",
      "9   0  0  0  0  0  0  0  0  0  1   0   0   0   1   0 ...  0  -38.089438       1\n",
      "1   0  0  0  0  0  0  0  0  0  0   0   0   0   1   0 ...  0  -30.110828       1\n",
      "['DISCRETE', 12 rows, 12 samples, 107 variables]\n",
      "\n",
      "Total cost calculated: 5664.547464908108 with budget 100\n",
      "Total profit calculated: 11329.094929816216 with budget 100\n",
      "\n",
      "Summary\n",
      "\n",
      "Step 1: Supplier Inventory Optimization\n",
      "The \"best\" suppliers selected for this step: ['supplier0', 'supplier1', 'supplier2', 'supplier3', 'supplier4', 'supplier5', 'supplier6', 'supplier7', 'supplier8', 'supplier9', 'supplier10', 'supplier11', 'supplier12', 'supplier13', 'supplier14', 'supplier15', 'supplier16', 'supplier17', 'supplier18', 'supplier19', 'supplier20', 'supplier21', 'supplier22', 'supplier24', 'supplier25', 'supplier26', 'supplier27', 'supplier28', 'supplier29', 'supplier30', 'supplier31', 'supplier32', 'supplier33', 'supplier34', 'supplier35', 'supplier36', 'supplier37', 'supplier38', 'supplier39']\n",
      "Number of suppliers found: 39\n",
      "\n",
      "Step 2: Profit Optimization\n",
      "Total cost caluclated: 5664.547464908108 with budget 100\n",
      "Total profit calculated: 11329.094929816216 with budget 100\n"
     ]
    }
   ],
   "metadata": {}
  },
  {
   "cell_type": "code",
   "execution_count": 11,
   "source": [
    "run_experiment(standard_mock_data['large'])"
   ],
   "outputs": [
    {
     "output_type": "stream",
     "name": "stdout",
     "text": [
      "Building QUBO\n",
      "Solving Qubo\n",
      "Solved\n",
      "  x_1 x_10 x_11 x_12 x_13 x_14 x_15 x_16 x_17 x_18 ... y_(99, 9) energy num_oc.\n",
      "0   1    1    1    1    1    1    0    1    0    1 ...         0 4317.0       1\n",
      "['BINARY', 1 rows, 1 samples, 16080 variables]\n",
      "Starting next iteration with data {'profits': [15.504075001823676, 6.973495383774301, 7.9554084188772745, 20.54402187437939, 0.11655844831199899, 36.62589584918122, 20.667849612859676, 22.618753503111137, 22.170052038155198, 16.17415917553553, 34.96592265212466, 3.9511680584133253, 17.65882409633582, 5.567080130206419, 43.04867838252428, 20.670519540722232, 38.648962347808165, 2.0816048483874185, 36.844082988938055, 6.6153420239193235, 12.596423631704024, 33.623106548000024, 28.546277044866194, 33.20907451855213, 24.95694546712494, 25.691049913984962, 30.532440973503547, 16.07285663170987, 33.977558185380616, 29.2138322966408, 15.941214899562997, 12.779572913010236, 40.00118300412505, 21.845369467729377, 16.80599259644721, 21.46315646136086, 14.000306133641411, 14.764227661128283, 5.9933653916592675, 43.183710206778784, 36.32562238438773, 43.50996080540803, 24.11192850836246, 23.963334805178228, 25.18210034831331, 9.161337659677312, 17.969033056867993, 3.083871704070954, 42.11997257011609, 3.1463567392419485, 31.046445817219414, 13.710860354258472, 9.595893948254012, 16.9552920289943, 1.8423944880086012, 1.5890275670905687, 20.622847406553383, 8.745739474606815, 7.482306832688499, 26.358074516913874, 5.672001302747537, 43.45818380855731, 35.89922290284548, 36.52061394220287, 4.654496538498886, 18.937645076948478, 30.966798684797272, 19.540469303817126, 32.54379781563773, 18.8203505936498, 25.683052222332424, 0.3790108629859327, 16.224305736845075, 27.789819424099285, 24.644447238318655, 39.00148088207058, 2.9331580843055014, 33.76630367698223, 14.175019657322657, 33.196087751002054, 20.306123560241907, 18.532029074426084, 1.4348896148680776, 24.421208788895818, 18.841654458958743, 16.235654922490852, 26.70186791283814, 25.37672542278919, 24.158514738834317, 13.19746285776815, 19.331186145585683, 7.1892438694961225, 21.25386685881095, 33.68694907134228, 12.422664509546223, 9.232711120642794, 36.40105335454551, 35.080864069132346, 37.15389659227135, 39.674224709835116, 8.259140697005446, 7.621875704565545, 44.8235909610172, 3.8349910717581586, 2.331094279225634, 17.649051644573447, 32.47652577394119, 19.9936563683385, 39.75815046430057, 4.841396801896856, 28.278806973224413, 36.434925096835855, 6.5260267212865015, 42.787627001272256, 28.610901598017875, 35.645310076942806, 33.43756662728228, 40.98703691420653, 5.4532755920406215, 43.99813259598942, 13.604356891956215, 40.59520908523545, 42.269475810512176, 21.222487168215473, 12.816459991308484, 18.49876691576035, 13.44693092966499, 38.66074447918261, 21.634152698302962, 23.070533143405427, 17.01508919805692, 22.736227459701347, 31.641018532429037, 19.900593599845543, 23.313340941163787, 28.044818092023576, 29.582703205433198, 22.765973627202623, 0.28101825289093096, 18.5693803527845, 5.606152532170615, 29.543895700108454, 13.887832880209547, 7.238603748813015, 3.574669898642221, 26.610553468361566, 10.003529314890432, 17.726143909795958, 9.578264970306297, 41.061900943701716, 22.93894835468059, 29.807319946780147, 44.543675510907306, 10.164568381162997, 38.379627312453366, 8.28800499057957, 46.40685717229083, 18.117062418365784, 20.26121649018547, 24.95089676964299, 28.944928209058638, 20.530495691676627, 6.624389775230223, 30.10317895560737, 39.78355775454823, 7.732579626251481, 11.720385294174346, 25.566683633862247, 10.511943346732313, 44.67584494999966, 38.70679205972337, 19.582667997935232, 40.332265483706976, 13.146749902953909, 1.7928658656832972, 4.915883578777615, 23.01112282860995, 42.08237189411638, 34.07798405303589, 10.033060532141697, 17.844351918970574, 14.928046709947107, 34.07171384979905, 0.0395503065584578, 42.69874014226258, 8.388401728781258, 28.959178453445652, 12.450081612771111, 1.1416058464868581, 21.431993339614735, 16.677295818960424, 23.46943284983559, 40.82483805844673, 38.72964745284868, 2.3743224062521966, 2.5793387644040324, 37.51468464399173, 17.270322838598588, 6.346727729232828, 32.63823366411482], 'costs': array([7.75203750e+00, 3.48674769e+00, 3.97770421e+00, 1.02720109e+01,\n",
      "       5.82792242e-02, 1.83129479e+01, 1.03339248e+01, 1.13093768e+01,\n",
      "       1.10850260e+01, 8.08707959e+00, 1.74829613e+01, 1.97558403e+00,\n",
      "       8.82941205e+00, 2.78354007e+00, 2.15243392e+01, 1.03352598e+01,\n",
      "       1.93244812e+01, 1.04080242e+00, 1.84220415e+01, 3.30767101e+00,\n",
      "       6.29821182e+00, 1.68115533e+01, 1.42731385e+01, 1.66045373e+01,\n",
      "       1.24784727e+01, 1.28455250e+01, 1.52662205e+01, 8.03642832e+00,\n",
      "       1.69887791e+01, 1.46069161e+01, 7.97060745e+00, 6.38978646e+00,\n",
      "       2.00005915e+01, 1.09226847e+01, 8.40299630e+00, 1.07315782e+01,\n",
      "       7.00015307e+00, 7.38211383e+00, 2.99668270e+00, 2.15918551e+01,\n",
      "       1.81628112e+01, 2.17549804e+01, 1.20559643e+01, 1.19816674e+01,\n",
      "       1.25910502e+01, 4.58066883e+00, 8.98451653e+00, 1.54193585e+00,\n",
      "       2.10599863e+01, 1.57317837e+00, 1.55232229e+01, 6.85543018e+00,\n",
      "       4.79794697e+00, 8.47764601e+00, 9.21197244e-01, 7.94513784e-01,\n",
      "       1.03114237e+01, 4.37286974e+00, 3.74115342e+00, 1.31790373e+01,\n",
      "       2.83600065e+00, 2.17290919e+01, 1.79496115e+01, 1.82603070e+01,\n",
      "       2.32724827e+00, 9.46882254e+00, 1.54833993e+01, 9.77023465e+00,\n",
      "       1.62718989e+01, 9.41017530e+00, 1.28415261e+01, 1.89505431e-01,\n",
      "       8.11215287e+00, 1.38949097e+01, 1.23222236e+01, 1.95007404e+01,\n",
      "       1.46657904e+00, 1.68831518e+01, 7.08750983e+00, 1.65980439e+01,\n",
      "       1.01530618e+01, 9.26601454e+00, 7.17444807e-01, 1.22106044e+01,\n",
      "       9.42082723e+00, 8.11782746e+00, 1.33509340e+01, 1.26883627e+01,\n",
      "       1.20792574e+01, 6.59873143e+00, 9.66559307e+00, 3.59462193e+00,\n",
      "       1.06269334e+01, 1.68434745e+01, 6.21133225e+00, 4.61635556e+00,\n",
      "       1.82005267e+01, 1.75404320e+01, 1.85769483e+01, 1.98371124e+01,\n",
      "       4.12957035e+00, 3.81093785e+00, 2.24117955e+01, 1.91749554e+00,\n",
      "       1.16554714e+00, 8.82452582e+00, 1.62382629e+01, 9.99682818e+00,\n",
      "       1.98790752e+01, 2.42069840e+00, 1.41394035e+01, 1.82174625e+01,\n",
      "       3.26301336e+00, 2.13938135e+01, 1.43054508e+01, 1.78226550e+01,\n",
      "       1.67187833e+01, 2.04935185e+01, 2.72663780e+00, 2.19990663e+01,\n",
      "       6.80217845e+00, 2.02976045e+01, 2.11347379e+01, 1.06112436e+01,\n",
      "       6.40823000e+00, 9.24938346e+00, 6.72346546e+00, 1.93303722e+01,\n",
      "       1.08170763e+01, 1.15352666e+01, 8.50754460e+00, 1.13681137e+01,\n",
      "       1.58205093e+01, 9.95029680e+00, 1.16566705e+01, 1.40224090e+01,\n",
      "       1.47913516e+01, 1.13829868e+01, 1.40509126e-01, 9.28469018e+00,\n",
      "       2.80307627e+00, 1.47719479e+01, 6.94391644e+00, 3.61930187e+00,\n",
      "       1.78733495e+00, 1.33052767e+01, 5.00176466e+00, 8.86307195e+00,\n",
      "       4.78913249e+00, 2.05309505e+01, 1.14694742e+01, 1.49036600e+01,\n",
      "       2.22718378e+01, 5.08228419e+00, 1.91898137e+01, 4.14400250e+00,\n",
      "       2.32034286e+01, 9.05853121e+00, 1.01306082e+01, 1.24754484e+01,\n",
      "       1.44724641e+01, 1.02652478e+01, 3.31219489e+00, 1.50515895e+01,\n",
      "       1.98917789e+01, 3.86628981e+00, 5.86019265e+00, 1.27833418e+01,\n",
      "       5.25597167e+00, 2.23379225e+01, 1.93533960e+01, 9.79133400e+00,\n",
      "       2.01661327e+01, 6.57337495e+00, 8.96432933e-01, 2.45794179e+00,\n",
      "       1.15055614e+01, 2.10411859e+01, 1.70389920e+01, 5.01653027e+00,\n",
      "       8.92217596e+00, 7.46402335e+00, 1.70358569e+01, 1.97751533e-02,\n",
      "       2.13493701e+01, 4.19420086e+00, 1.44795892e+01, 6.22504081e+00,\n",
      "       5.70802923e-01, 1.07159967e+01, 8.33864791e+00, 1.17347164e+01,\n",
      "       2.04124190e+01, 1.93648237e+01, 1.18716120e+00, 1.28966938e+00,\n",
      "       1.87573423e+01, 8.63516142e+00, 3.17336386e+00, 1.63191168e+01])}\n",
      "Building QUBO\n",
      "Solving Qubo\n",
      "Solved\n",
      "   x0 x1 x2 x3 x4 x5 x6 x7 x8 x9 x10 x11 x12 x13 ... y6          energy num_oc.\n",
      "18  0  0  0  0  2  0  0  0  0  0   0   0   0   0 ...  1     -200.106277       1\n",
      "14  0  0  0  0  9  0  0  0  0  0   0   0   0   0 ...  1     -200.098151       1\n",
      "12  0  0  0  0  8  0  0  0  0  0   0   0   0   0 ...  1     -152.106541       1\n",
      "9   0  0  0  0  3  0  0  0  0  0   0   0   0   0 ...  1     -136.105391       1\n",
      "0   0  0  0  0 10  0  0  0  0  0   0   1   0   0 ...  1     -120.105677       1\n",
      "15  0  0  0  0  6  0  0  0  0  0   0   0   0   0 ...  0     -110.107054       1\n",
      "4   0  0  0  0 10  0  0  0  0  0   0   0   0   0 ...  0     -110.099349       1\n",
      "6   0  0  0  0 10  0  0  0  0  0   0   1   0   0 ...  0     -110.095133       1\n",
      "2   0  0  0  0 10  0  0  0  0  0   0   0   0   0 ...  0     -110.061871       1\n",
      "7   0  0  0  0 10  0  0  0  0  0   0   1   0   0 ...  0     -109.891479       1\n",
      "13  0  0  0  0 10  0  0  0  0  0   0   1   0   0 ...  1      -88.104154       1\n",
      "11  0  1  0  0  4  0  0  0  0  0   0   2   0   0 ...  0      -78.105665       1\n",
      "16  0  0  0  0 10  0  0  0  0  0   0   0   0   0 ...  0      -78.101837       1\n",
      "17  0  0  0  0  0  0  0  0  0  0   0   0   0   0 ...  0      -62.355716       1\n",
      "10  0  0  0  0  0  0  0  0  0  0   0   0   0   0 ...  0      -40.367034       1\n",
      "19  0  0  0  0 10  0  0  0  0  0   0   0   0   0 ...  0      -14.106999       1\n",
      "8   0  0  0  0  2  0  0  0  0  0   0   0   0   0 ...  0      -14.104351       1\n",
      "1   0  0  0  0  4  0  0  0  0  0   0   1   0   0 ...  0      -14.051983       1\n",
      "3   0  0  0  0 10  0  0  0  0  0   0   0   0   0 ...  0      -14.025675       1\n",
      "5   0  0  0  0 10  0  0  0  0  0   0   0   0   0 ...  0      -14.015737       1\n",
      "20  8  0  0  0 10  0  0  0  0  0   0   0   4   8 ...  0 19546168.474452       1\n",
      "['DISCRETE', 21 rows, 21 samples, 207 variables]\n",
      "Here is the result from the first Qubo\n",
      "  x_1 x_10 x_11 x_12 x_13 x_14 x_15 x_16 x_17 x_18 ... y_(99, 9) energy num_oc.\n",
      "0   1    1    1    1    1    1    0    1    0    1 ...         0 4317.0       1\n",
      "['BINARY', 1 rows, 1 samples, 16080 variables]\n",
      "\n",
      "The \"best\" suppliers selected for this step: ['supplier0', 'supplier1', 'supplier2', 'supplier3', 'supplier4', 'supplier5', 'supplier6', 'supplier7', 'supplier8', 'supplier9', 'supplier10', 'supplier11', 'supplier12', 'supplier13', 'supplier15', 'supplier17', 'supplier18', 'supplier19', 'supplier20', 'supplier21', 'supplier22', 'supplier23', 'supplier24', 'supplier25', 'supplier26', 'supplier28', 'supplier29', 'supplier30', 'supplier31', 'supplier32', 'supplier33', 'supplier34', 'supplier35', 'supplier36', 'supplier37', 'supplier38', 'supplier39', 'supplier40', 'supplier41', 'supplier42', 'supplier43', 'supplier44', 'supplier45', 'supplier46', 'supplier47', 'supplier48', 'supplier49', 'supplier50', 'supplier51', 'supplier52', 'supplier53', 'supplier54', 'supplier55', 'supplier56', 'supplier57', 'supplier58', 'supplier59', 'supplier60', 'supplier61', 'supplier62', 'supplier63', 'supplier64', 'supplier65', 'supplier66', 'supplier67', 'supplier68', 'supplier69', 'supplier70', 'supplier71', 'supplier72', 'supplier73', 'supplier74', 'supplier75', 'supplier76', 'supplier77', 'supplier78', 'supplier79']\n",
      "Here is the result from the second Qubo\n",
      "   x0 x1 x2 x3 x4 x5 x6 x7 x8 x9 x10 x11 x12 x13 ... y6          energy num_oc.\n",
      "18  0  0  0  0  2  0  0  0  0  0   0   0   0   0 ...  1     -200.106277       1\n",
      "14  0  0  0  0  9  0  0  0  0  0   0   0   0   0 ...  1     -200.098151       1\n",
      "12  0  0  0  0  8  0  0  0  0  0   0   0   0   0 ...  1     -152.106541       1\n",
      "9   0  0  0  0  3  0  0  0  0  0   0   0   0   0 ...  1     -136.105391       1\n",
      "0   0  0  0  0 10  0  0  0  0  0   0   1   0   0 ...  1     -120.105677       1\n",
      "15  0  0  0  0  6  0  0  0  0  0   0   0   0   0 ...  0     -110.107054       1\n",
      "4   0  0  0  0 10  0  0  0  0  0   0   0   0   0 ...  0     -110.099349       1\n",
      "6   0  0  0  0 10  0  0  0  0  0   0   1   0   0 ...  0     -110.095133       1\n",
      "2   0  0  0  0 10  0  0  0  0  0   0   0   0   0 ...  0     -110.061871       1\n",
      "7   0  0  0  0 10  0  0  0  0  0   0   1   0   0 ...  0     -109.891479       1\n",
      "13  0  0  0  0 10  0  0  0  0  0   0   1   0   0 ...  1      -88.104154       1\n",
      "11  0  1  0  0  4  0  0  0  0  0   0   2   0   0 ...  0      -78.105665       1\n",
      "16  0  0  0  0 10  0  0  0  0  0   0   0   0   0 ...  0      -78.101837       1\n",
      "17  0  0  0  0  0  0  0  0  0  0   0   0   0   0 ...  0      -62.355716       1\n",
      "10  0  0  0  0  0  0  0  0  0  0   0   0   0   0 ...  0      -40.367034       1\n",
      "19  0  0  0  0 10  0  0  0  0  0   0   0   0   0 ...  0      -14.106999       1\n",
      "8   0  0  0  0  2  0  0  0  0  0   0   0   0   0 ...  0      -14.104351       1\n",
      "1   0  0  0  0  4  0  0  0  0  0   0   1   0   0 ...  0      -14.051983       1\n",
      "3   0  0  0  0 10  0  0  0  0  0   0   0   0   0 ...  0      -14.025675       1\n",
      "5   0  0  0  0 10  0  0  0  0  0   0   0   0   0 ...  0      -14.015737       1\n",
      "20  8  0  0  0 10  0  0  0  0  0   0   0   4   8 ...  0 19546168.474452       1\n",
      "['DISCRETE', 21 rows, 21 samples, 207 variables]\n",
      "\n",
      "Total cost calculated: 6663.0785586377 with budget 100\n",
      "Total profit calculated: 13326.157117275401 with budget 100\n",
      "\n",
      "Summary\n",
      "\n",
      "Step 1: Supplier Inventory Optimization\n",
      "The \"best\" suppliers selected for this step: ['supplier0', 'supplier1', 'supplier2', 'supplier3', 'supplier4', 'supplier5', 'supplier6', 'supplier7', 'supplier8', 'supplier9', 'supplier10', 'supplier11', 'supplier12', 'supplier13', 'supplier15', 'supplier17', 'supplier18', 'supplier19', 'supplier20', 'supplier21', 'supplier22', 'supplier23', 'supplier24', 'supplier25', 'supplier26', 'supplier28', 'supplier29', 'supplier30', 'supplier31', 'supplier32', 'supplier33', 'supplier34', 'supplier35', 'supplier36', 'supplier37', 'supplier38', 'supplier39', 'supplier40', 'supplier41', 'supplier42', 'supplier43', 'supplier44', 'supplier45', 'supplier46', 'supplier47', 'supplier48', 'supplier49', 'supplier50', 'supplier51', 'supplier52', 'supplier53', 'supplier54', 'supplier55', 'supplier56', 'supplier57', 'supplier58', 'supplier59', 'supplier60', 'supplier61', 'supplier62', 'supplier63', 'supplier64', 'supplier65', 'supplier66', 'supplier67', 'supplier68', 'supplier69', 'supplier70', 'supplier71', 'supplier72', 'supplier73', 'supplier74', 'supplier75', 'supplier76', 'supplier77', 'supplier78', 'supplier79']\n",
      "Number of suppliers found: 77\n",
      "\n",
      "Step 2: Profit Optimization\n",
      "Total cost caluclated: 6663.0785586377 with budget 100\n",
      "Total profit calculated: 13326.157117275401 with budget 100\n"
     ]
    }
   ],
   "metadata": {}
  }
 ],
 "metadata": {
  "orig_nbformat": 4,
  "language_info": {
   "name": "python",
   "version": "3.9.5",
   "mimetype": "text/x-python",
   "codemirror_mode": {
    "name": "ipython",
    "version": 3
   },
   "pygments_lexer": "ipython3",
   "nbconvert_exporter": "python",
   "file_extension": ".py"
  },
  "kernelspec": {
   "name": "python3",
   "display_name": "Python 3.9.5 64-bit ('zebraket-cdl-hackathon-2021': conda)"
  },
  "interpreter": {
   "hash": "5f20994d19ff6c8c5cec1db5b7f7944e8fd16ef471b6d6e4ac9b86936de59e16"
  }
 },
 "nbformat": 4,
 "nbformat_minor": 2
}