{
 "cells": [
  {
   "cell_type": "markdown",
   "source": [
    "# Chaining Qubos"
   ],
   "metadata": {}
  },
  {
   "cell_type": "markdown",
   "source": [
    "This notebook contains the code used to execute a \"Qubo Chain\". The idea is that we can add an arbitrarily number of qubos to a chain and optimize them all together.\n",
    "\n",
    "Instead of trying to [combine qubos into one](./CombinedQUBO.ipynb) by developping a complex qubo, we can break it up into little blocks, and evaluate the qubo chain."
   ],
   "metadata": {}
  },
  {
   "cell_type": "code",
   "execution_count": 1,
   "source": [
    "import os \n",
    "# Path hack so notbook can open modules and files correctly:\n",
    "# NOTE if you run this cell multiple times, you might need to close the notebook and re-open it\n",
    "os.chdir('..') \n",
    "from services.Chain import Chain\n",
    "from models.ProfitQubo import ProfitQubo\n",
    "from models.SupplierQubo import SupplierQubo\n",
    "from utils.data import read_inventory_optimization_data\n",
    "from config import standard_mock_data\n",
    "from neal import SimulatedAnnealingSampler\n",
    "from dwave.system import LeapHybridDQMSampler\n",
    "import numpy as np"
   ],
   "outputs": [],
   "metadata": {}
  },
  {
   "cell_type": "markdown",
   "source": [
    "Our chain needs to start somewhere. Start off with the inventory data."
   ],
   "metadata": {}
  },
  {
   "cell_type": "code",
   "execution_count": 2,
   "source": [
    "data_file = standard_mock_data['small']\n",
    "inventory_requirement, supplier_inventory = read_inventory_optimization_data(data_file)"
   ],
   "outputs": [],
   "metadata": {}
  },
  {
   "cell_type": "markdown",
   "source": [
    "When we pass data from one Qubo to the other (via the build method), we can use this function"
   ],
   "metadata": {}
  },
  {
   "cell_type": "code",
   "execution_count": 3,
   "source": [
    "def pass_data_to_next_qubo(data_file:str): \n",
    "    # Hacky function that should be generalized away\n",
    "    def post_process_inventory_qubo(solution, energy):\n",
    "        from utils.data import read_profit_optimization_data\n",
    "\n",
    "        hacky_suppliers = [f'supplier{i}' for i in np.where(solution)[0]]  # looses the name, but its a hackathon.\n",
    "        profit, cost = read_profit_optimization_data(data_file, hacky_suppliers)\n",
    "\n",
    "        return dict(\n",
    "            profits=profit,\n",
    "            costs=cost\n",
    "        )\n",
    "    \n",
    "    return post_process_inventory_qubo"
   ],
   "outputs": [],
   "metadata": {}
  },
  {
   "cell_type": "markdown",
   "source": [
    "Instantiate our qubos we want to chain"
   ],
   "metadata": {}
  },
  {
   "cell_type": "code",
   "execution_count": 4,
   "source": [
    "# Instantiate your two (or more) qubos\n",
    "qubo1 = SupplierQubo(inventory_requirement, supplier_inventory)\n",
    "qubo2 = ProfitQubo()  # Leave the initializer on this blank, because the data depends on the first step\n",
    "\n",
    "# Now we can define the samplers that we want to be used on each Qubo\n",
    "sampler1 = SimulatedAnnealingSampler().sample\n",
    "sampler2 = LeapHybridDQMSampler().sample_dqm\n",
    "samplers = [sampler1, sampler2]\n",
    "# Can define kwparams for them\n",
    "sampler_params = [dict(), dict()]\n",
    "\n",
    "# Now you need to specify how to pass data from one qubo to the other\n",
    "# This can definitely be improved\n",
    "qubo1.define_post_process_function(pass_data_to_next_qubo(data_file))\n",
    "# qubo2 does not need this because it is the last qubo in the chain"
   ],
   "outputs": [
    {
     "output_type": "stream",
     "name": "stdout",
     "text": [
      "Building QUBO\n"
     ]
    }
   ],
   "metadata": {}
  },
  {
   "cell_type": "markdown",
   "source": [
    "Nows the fun part\n",
    "### We instantiate and evaluate the chain"
   ],
   "metadata": {}
  },
  {
   "cell_type": "code",
   "execution_count": 5,
   "source": [
    "# Instantiate chain\n",
    "chain = Chain()\n",
    "# Add some qubos\n",
    "chain.append(qubo1)\n",
    "chain.append(qubo2)\n",
    "\n",
    "# Evaluate the chain\n",
    "chain.process_best(samplers, sampler_params)\n"
   ],
   "outputs": [
    {
     "output_type": "stream",
     "name": "stdout",
     "text": [
      "Solving Qubo\n",
      "Solved\n",
      "  x_1 x_10 x_2 x_3 x_4 x_5 x_6 x_7 x_8 x_9 y_(1, 1) ... y_(9, 9) energy num_oc.\n",
      "0   1    1   0   1   1   0   1   1   1   1        0 ...        0    8.0       1\n",
      "['BINARY', 1 rows, 1 samples, 210 variables]\n",
      "Starting next iteration with data {'profits': [14.193259698904324, 42.34503782559854, 29.08061425715131, 19.422087347158914, 39.65028317935948, 2.647142528191858, 37.02026493051393, 29.27274307589468, 7.987608230428792, 21.903774512816625, 15.163823982865704, 1.7489799922534774, 18.09133959951975, 48.225991562803394, 37.5644702135008, 34.29426458078795, 17.628685377043077, 44.79655445736397, 10.932978575753499, 3.158230974212466], 'costs': array([ 7.09662985, 21.17251891, 14.54030713,  9.71104367, 19.82514159,\n",
      "        1.32357126, 18.51013247, 14.63637154,  3.99380412, 10.95188726,\n",
      "        7.58191199,  0.87449   ,  9.0456698 , 24.11299578, 18.78223511,\n",
      "       17.14713229,  8.81434269, 22.39827723,  5.46648929,  1.57911549])}\n",
      "Building QUBO\n",
      "Solving Qubo\n",
      "Solved\n",
      "   x0 x1 x2 x3 x4 x5 x6 x7 x8 x9 x10 x11 x12 x13 x14 ... y6      energy num_oc.\n",
      "11  0  0  0  0  0  2  0  0  0  0   0   5   0   0   0 ...  1 -184.026713       1\n",
      "4   0  0  0  0  0  0  0  0  0  0   0   1   0   0   0 ...  1 -152.071184       1\n",
      "9   0  0  0  0  0  1  0  0  0  0   0   0   0   0   0 ...  1  -134.44474       1\n",
      "2   0  0  0  0  0  3  0  0  0  0   0   4   0   0   0 ...  1 -119.356272       1\n",
      "10  0  0  0  0  0  1  0  0  0  0   0   0   0   0   0 ...  1 -119.213284       1\n",
      "1   0  0  0  0  0  1  0  0  0  0   0   0   0   0   0 ...  0  -84.033014       1\n",
      "3   0  0  0  0  0  1  0  0  0  0   0   1   0   0   0 ...  0  -62.103338       1\n",
      "6   0  0  0  0  0  7  0  0  0  0   0   0   0   0   0 ...  0  -62.096502       1\n",
      "7   0  0  0  0  0 10  0  0  0  0   0   0   0   0   0 ...  0  -61.985658       1\n",
      "5   0  0  0  0  0  6  0  0  0  0   0   6   0   0   0 ...  0  -53.805253       1\n",
      "8   0  0  0  0  0  8  0  0  0  0   0   8   0   0   0 ...  0  -46.076892       1\n",
      "0   0  0  0  0  0  2  0  0  0  0   0   5   0   0   0 ...  0  -14.035483       1\n",
      "['DISCRETE', 12 rows, 12 samples, 27 variables]\n"
     ]
    }
   ],
   "metadata": {}
  },
  {
   "cell_type": "markdown",
   "source": [
    "### Now we can evalute the results from the qubos in the chain"
   ],
   "metadata": {}
  },
  {
   "cell_type": "markdown",
   "source": [
    "1. For the first step, we minimized the number of needed suppliers to match our inventory (unfortunately, this solution is not accurate yet)"
   ],
   "metadata": {}
  },
  {
   "cell_type": "code",
   "execution_count": 6,
   "source": [
    "print('Here is the result from the first Qubo')\n",
    "print(qubo1.response)\n",
    "def print_suppliers(qubo):\n",
    "    # Hacky function that should be generalized away\n",
    "    best_solution = [qubo.response.first.sample[i] for i in qubo.x]\n",
    "    return [f'supplier{i}' for i in np.where(best_solution)[0]]\n",
    "\n",
    "print(f'\\nThe \"best\" suppliers selected for this step: {print_suppliers(qubo1)}')"
   ],
   "outputs": [
    {
     "output_type": "stream",
     "name": "stdout",
     "text": [
      "Here is the result from the first Qubo\n",
      "  x_1 x_10 x_2 x_3 x_4 x_5 x_6 x_7 x_8 x_9 y_(1, 1) ... y_(9, 9) energy num_oc.\n",
      "0   1    1   0   1   1   0   1   1   1   1        0 ...        0    8.0       1\n",
      "['BINARY', 1 rows, 1 samples, 210 variables]\n",
      "\n",
      "The \"best\" suppliers selected for this step: ['supplier0', 'supplier2', 'supplier3', 'supplier5', 'supplier6', 'supplier7', 'supplier8', 'supplier9']\n"
     ]
    }
   ],
   "metadata": {}
  },
  {
   "cell_type": "markdown",
   "source": [
    "2. For the second step, we maximized the profit. Lets check out our solution for that!"
   ],
   "metadata": {}
  },
  {
   "cell_type": "code",
   "execution_count": 7,
   "source": [
    "print('Here is the result from the second Qubo')\n",
    "print(qubo2.response)\n",
    "\n",
    "qubo1_output = qubo1.post_process\n",
    "print('\\nThe data passed into qubo2:')\n",
    "print(qubo1_output[0])\n",
    "\n",
    "costs_output = qubo1_output[0]['costs']\n",
    "profits_output = qubo1_output[0]['profits']\n",
    "print(f'\\nTotal cost calculated: {np.sum([cost*count for cost, count in zip(costs_output, qubo2.solution_set)])} with budget {qubo2.budget}')\n",
    "print(f'Total profit calculated: {np.sum([profit*count for profit, count in zip(profits_output, qubo2.solution_set)])} with budget {qubo2.budget}')\n",
    "\n",
    "print('\\nSummary\\n')\n",
    "print('Step 1: Supplier Inventory Optimization')\n",
    "print(f'The \"best\" suppliers selected for this step: {print_suppliers(qubo1)}')\n",
    "\n",
    "print('\\nStep 2: Profit Optimization')\n",
    "print(f'Total profit calculated: {np.sum([profit*count for profit, count in zip(profits_output, qubo2.solution_set)])} with budget {qubo2.budget}')"
   ],
   "outputs": [
    {
     "output_type": "stream",
     "name": "stdout",
     "text": [
      "Here is the result from the second Qubo\n",
      "   x0 x1 x2 x3 x4 x5 x6 x7 x8 x9 x10 x11 x12 x13 x14 ... y6      energy num_oc.\n",
      "11  0  0  0  0  0  2  0  0  0  0   0   5   0   0   0 ...  1 -184.026713       1\n",
      "4   0  0  0  0  0  0  0  0  0  0   0   1   0   0   0 ...  1 -152.071184       1\n",
      "9   0  0  0  0  0  1  0  0  0  0   0   0   0   0   0 ...  1  -134.44474       1\n",
      "2   0  0  0  0  0  3  0  0  0  0   0   4   0   0   0 ...  1 -119.356272       1\n",
      "10  0  0  0  0  0  1  0  0  0  0   0   0   0   0   0 ...  1 -119.213284       1\n",
      "1   0  0  0  0  0  1  0  0  0  0   0   0   0   0   0 ...  0  -84.033014       1\n",
      "3   0  0  0  0  0  1  0  0  0  0   0   1   0   0   0 ...  0  -62.103338       1\n",
      "6   0  0  0  0  0  7  0  0  0  0   0   0   0   0   0 ...  0  -62.096502       1\n",
      "7   0  0  0  0  0 10  0  0  0  0   0   0   0   0   0 ...  0  -61.985658       1\n",
      "5   0  0  0  0  0  6  0  0  0  0   0   6   0   0   0 ...  0  -53.805253       1\n",
      "8   0  0  0  0  0  8  0  0  0  0   0   8   0   0   0 ...  0  -46.076892       1\n",
      "0   0  0  0  0  0  2  0  0  0  0   0   5   0   0   0 ...  0  -14.035483       1\n",
      "['DISCRETE', 12 rows, 12 samples, 27 variables]\n",
      "\n",
      "The data passed into qubo2:\n",
      "{'profits': [14.193259698904324, 42.34503782559854, 29.08061425715131, 19.422087347158914, 39.65028317935948, 2.647142528191858, 37.02026493051393, 29.27274307589468, 7.987608230428792, 21.903774512816625, 15.163823982865704, 1.7489799922534774, 18.09133959951975, 48.225991562803394, 37.5644702135008, 34.29426458078795, 17.628685377043077, 44.79655445736397, 10.932978575753499, 3.158230974212466], 'costs': array([ 7.09662985, 21.17251891, 14.54030713,  9.71104367, 19.82514159,\n",
      "        1.32357126, 18.51013247, 14.63637154,  3.99380412, 10.95188726,\n",
      "        7.58191199,  0.87449   ,  9.0456698 , 24.11299578, 18.78223511,\n",
      "       17.14713229,  8.81434269, 22.39827723,  5.46648929,  1.57911549])}\n",
      "\n",
      "Total cost calculated: 2109.8432404272867 with budget 100\n",
      "Total profit calculated: 4219.686480854572 with budget 100\n",
      "\n",
      "Summary\n",
      "\n",
      "Step 1: Supplier Inventory Optimization\n",
      "The \"best\" suppliers selected for this step: ['supplier0', 'supplier2', 'supplier3', 'supplier5', 'supplier6', 'supplier7', 'supplier8', 'supplier9']\n",
      "\n",
      "Step 2: Profit Optimization\n",
      "Total profit calculated: 4219.686480854572 with budget 100\n"
     ]
    }
   ],
   "metadata": {}
  },
  {
   "cell_type": "markdown",
   "source": [
    "Lets just put all this logic in one function so we can re-use it"
   ],
   "metadata": {}
  },
  {
   "cell_type": "code",
   "execution_count": 8,
   "source": [
    "def run_experiment(filename): \n",
    "    inventory_requirement, supplier_inventory = read_inventory_optimization_data(filename)\n",
    "    # Instantiate your two (or more) qubos\n",
    "    qubo1 = SupplierQubo(inventory_requirement, supplier_inventory)\n",
    "    qubo2 = ProfitQubo()  # Leave the initializer on this blank, because the data depends on the first step\n",
    "\n",
    "    # Now we can define the samplers that we want to be used on each Qubo\n",
    "    sampler1 = SimulatedAnnealingSampler().sample\n",
    "    sampler2 = LeapHybridDQMSampler().sample_dqm\n",
    "    samplers = [sampler1, sampler2]\n",
    "    # Can define kwparams for them\n",
    "    sampler_params = [dict(), dict()]\n",
    "\n",
    "    # Now you need to specify how to pass data from one qubo to the other\n",
    "    # This can definitely be improved\n",
    "    qubo1.define_post_process_function(pass_data_to_next_qubo(filename))\n",
    "    # qubo2 does not need this because it is the last qubo in the chain\n",
    "\n",
    "    # Instantiate chain\n",
    "    chain = Chain()\n",
    "    # Add some qubos\n",
    "    chain.append(qubo1)\n",
    "    chain.append(qubo2)\n",
    "\n",
    "    # Evaluate the chain\n",
    "    chain.process_best(samplers, sampler_params)\n",
    "\n",
    "    print('Here is the result from the first Qubo')\n",
    "    print(qubo1.response)\n",
    "    def print_suppliers(qubo):\n",
    "        # Hacky function that should be generalized away\n",
    "        best_solution = [qubo.response.first.sample[i] for i in qubo.x]\n",
    "        return [f'supplier{i}' for i in np.where(best_solution)[0]]\n",
    "\n",
    "    print(f'\\nThe \"best\" suppliers selected for this step: {print_suppliers(qubo1)}')\n",
    "\n",
    "    print('Here is the result from the second Qubo')\n",
    "    print(qubo2.response)\n",
    "\n",
    "    qubo1_output = qubo1.post_process\n",
    "    # print('\\nThe data passed into qubo2:')\n",
    "    # print(qubo1_output[0])\n",
    "\n",
    "    costs_output = qubo1_output[0]['costs']\n",
    "    profits_output = qubo1_output[0]['profits']\n",
    "    print(f'\\nTotal cost calculated: {np.sum([cost*count for cost, count in zip(costs_output, qubo2.solution_set)])} with budget {qubo2.budget}')\n",
    "    print(f'Total profit calculated: {np.sum([profit*count for profit, count in zip(profits_output, qubo2.solution_set)])} with budget {qubo2.budget}')\n",
    "\n",
    "    print('\\nSummary\\n')\n",
    "    print('Step 1: Supplier Inventory Optimization')\n",
    "    print(f'The \"best\" suppliers selected for this step: {print_suppliers(qubo1)}')\n",
    "\n",
    "    print('\\nStep 2: Profit Optimization')\n",
    "    print(f'Total profit calculated: {np.sum([profit*count for profit, count in zip(profits_output, qubo2.solution_set)])} with budget {qubo2.budget}')"
   ],
   "outputs": [],
   "metadata": {}
  },
  {
   "cell_type": "markdown",
   "source": [
    "We can run this experiment on all our data sets"
   ],
   "metadata": {}
  },
  {
   "cell_type": "code",
   "execution_count": 9,
   "source": [
    "run_experiment(standard_mock_data['small'])"
   ],
   "outputs": [
    {
     "output_type": "stream",
     "name": "stdout",
     "text": [
      "Building QUBO\n",
      "Solving Qubo\n",
      "Solved\n",
      "  x_1 x_10 x_2 x_3 x_4 x_5 x_6 x_7 x_8 x_9 y_(1, 1) ... y_(9, 9) energy num_oc.\n",
      "0   0    1   0   1   1   1   1   1   1   0        0 ...        0   17.0       1\n",
      "['BINARY', 1 rows, 1 samples, 210 variables]\n",
      "Starting next iteration with data {'profits': [14.193259698904324, 42.34503782559854, 29.08061425715131, 19.422087347158914, 39.65028317935948, 2.647142528191858, 37.02026493051393, 29.27274307589468, 7.987608230428792, 21.903774512816625, 15.163823982865704, 1.7489799922534774, 18.09133959951975, 42.77435773396476, 37.5644702135008, 34.29426458078795, 19.35323068566685, 44.79655445736397, 10.932978575753499, 3.158230974212466], 'costs': array([ 7.09662985, 21.17251891, 14.54030713,  9.71104367, 19.82514159,\n",
      "        1.32357126, 18.51013247, 14.63637154,  3.99380412, 10.95188726,\n",
      "        7.58191199,  0.87449   ,  9.0456698 , 21.38717887, 18.78223511,\n",
      "       17.14713229,  9.67661534, 22.39827723,  5.46648929,  1.57911549])}\n",
      "Building QUBO\n",
      "Solving Qubo\n",
      "Solved\n",
      "   x0 x1 x2 x3 x4 x5 x6 x7 x8 x9 x10 x11 x12 x13 x14 ... y6      energy num_oc.\n",
      "1   0  0  0  0  0  0  0  0  0  0   0   0   0   0   0 ...  1 -199.987187       1\n",
      "7   0  0  0  0  0  1  0  0  0  0   0   1   0   0   0 ...  1 -175.269101       1\n",
      "2   0  0  0  0  0  2  0  0  0  0   0   4   0   0   0 ...  1 -171.529549       1\n",
      "8   0  0  0  0  0  9  0  0  0  0   0   0   0   0   0 ...  0 -126.044645       1\n",
      "9   0  0  0  0  0  1  0  0  1  0   0   4   0   0   0 ...  1 -115.333519       1\n",
      "4   0  0  0  0  0  8  0  0  0  0   0  10   0   0   0 ...  0 -109.824483       1\n",
      "3   0  0  0  0  0  2  0  0  0  0   0  10   0   0   0 ...  0 -109.806699       1\n",
      "11  0  0  0  0  0  1  0  0  0  0   0  10   0   0   0 ...  1  -109.56683       1\n",
      "0   0  0  0  0  0  2  0  0  0  0   0   5   0   0   0 ...  0 -109.002119       1\n",
      "5   0  0  0  0  0  4  0  0  1  0   0   0   0   0   0 ...  0  -84.965266       1\n",
      "6   0  0  0  0  0  5  0  0  0  0   0   0   0   0   0 ...  0  -29.957957       1\n",
      "10  0  0  0  0  0  1  0  0  0  0   0   7   0   0   0 ...  0  -13.115825       1\n",
      "['DISCRETE', 12 rows, 12 samples, 27 variables]\n",
      "Here is the result from the first Qubo\n",
      "  x_1 x_10 x_2 x_3 x_4 x_5 x_6 x_7 x_8 x_9 y_(1, 1) ... y_(9, 9) energy num_oc.\n",
      "0   0    1   0   1   1   1   1   1   1   0        0 ...        0   17.0       1\n",
      "['BINARY', 1 rows, 1 samples, 210 variables]\n",
      "\n",
      "The \"best\" suppliers selected for this step: ['supplier2', 'supplier3', 'supplier4', 'supplier5', 'supplier6', 'supplier7', 'supplier9']\n",
      "Here is the result from the second Qubo\n",
      "   x0 x1 x2 x3 x4 x5 x6 x7 x8 x9 x10 x11 x12 x13 x14 ... y6      energy num_oc.\n",
      "1   0  0  0  0  0  0  0  0  0  0   0   0   0   0   0 ...  1 -199.987187       1\n",
      "7   0  0  0  0  0  1  0  0  0  0   0   1   0   0   0 ...  1 -175.269101       1\n",
      "2   0  0  0  0  0  2  0  0  0  0   0   4   0   0   0 ...  1 -171.529549       1\n",
      "8   0  0  0  0  0  9  0  0  0  0   0   0   0   0   0 ...  0 -126.044645       1\n",
      "9   0  0  0  0  0  1  0  0  1  0   0   4   0   0   0 ...  1 -115.333519       1\n",
      "4   0  0  0  0  0  8  0  0  0  0   0  10   0   0   0 ...  0 -109.824483       1\n",
      "3   0  0  0  0  0  2  0  0  0  0   0  10   0   0   0 ...  0 -109.806699       1\n",
      "11  0  0  0  0  0  1  0  0  0  0   0  10   0   0   0 ...  1  -109.56683       1\n",
      "0   0  0  0  0  0  2  0  0  0  0   0   5   0   0   0 ...  0 -109.002119       1\n",
      "5   0  0  0  0  0  4  0  0  1  0   0   0   0   0   0 ...  0  -84.965266       1\n",
      "6   0  0  0  0  0  5  0  0  0  0   0   0   0   0   0 ...  0  -29.957957       1\n",
      "10  0  0  0  0  0  1  0  0  0  0   0   7   0   0   0 ...  0  -13.115825       1\n",
      "['DISCRETE', 12 rows, 12 samples, 27 variables]\n",
      "\n",
      "Total cost calculated: 2582.0741253505266 with budget 100\n",
      "Total profit calculated: 5164.148250701053 with budget 100\n",
      "\n",
      "Summary\n",
      "\n",
      "Step 1: Supplier Inventory Optimization\n",
      "The \"best\" suppliers selected for this step: ['supplier2', 'supplier3', 'supplier4', 'supplier5', 'supplier6', 'supplier7', 'supplier9']\n",
      "\n",
      "Step 2: Profit Optimization\n",
      "Total profit calculated: 5164.148250701053 with budget 100\n"
     ]
    }
   ],
   "metadata": {}
  },
  {
   "cell_type": "code",
   "execution_count": 10,
   "source": [
    "run_experiment(standard_mock_data['medium'])"
   ],
   "outputs": [
    {
     "output_type": "stream",
     "name": "stdout",
     "text": [
      "Building QUBO\n",
      "Solving Qubo\n",
      "Solved\n",
      "  x_1 x_10 x_11 x_12 x_13 x_14 x_15 x_16 x_17 x_18 ... y_(99, 9) energy num_oc.\n",
      "0   1    1    1    1    1    1    1    0    1    1 ...         0  891.0       1\n",
      "['BINARY', 1 rows, 1 samples, 4040 variables]\n",
      "Starting next iteration with data {'profits': [38.19056030528154, 6.2221736291464795, 36.95941005668472, 7.212357138553866, 37.09734191729193, 36.297925567920984, 37.803690863596714, 29.465655226937848, 23.286939891154496, 5.299257882533357, 42.46298328633512, 5.028537687708292, 31.404606574002635, 0.9720282256865127, 14.054803795147318, 7.930503449040431, 42.207172145007874, 40.87149988742412, 31.11318075917573, 40.983148848748115, 42.14704075932852, 25.58621797141423, 6.838982787675635, 4.3243957130040105, 43.59372003788174, 26.60761142564833, 10.026364040437777, 7.17870622388254, 29.255451878316684, 7.185719143317469, 17.806749414865216, 13.98710135014695, 24.897917493054116, 34.556767224624934, 16.326955895805916, 2.610526998025086, 28.608414063770866, 23.1564517197363, 2.0175543381213252, 8.829640756664975, 0.39724054079443694, 14.451333362945256, 1.9458107429975322, 16.914752342865434, 7.388142686393454, 12.851024515940683, 14.19128132080994, 31.76271676767439, 7.19335054774038, 37.540158716887746, 40.4972100251952, 25.36207894431189, 29.040590600368027, 37.28280095843306, 27.250896422820365, 12.565466662696487, 44.6904581578236, 15.552590070551922, 24.165444911353745, 43.653069175335574, 39.740503194163296, 24.52287251372927, 21.283034067518308, 10.760975079698335, 2.4408156847378786, 9.830434854338126, 16.712715905036227, 17.77888785152087, 18.87899307654844, 8.990077465315064, 0.13768307910672123, 38.96793879119362, 16.54756874460226, 2.0914483501916665, 43.98675900518291, 42.262072280384544, 11.551389026916443, 42.016132413668274, 2.1102204698074756, 36.782007860511655, 26.194022205214843, 23.254319206538362, 37.22806128964234, 41.10237205536302, 26.466605216860664, 34.060241961829874, 11.934162067631089, 42.42087453623647, 29.238869827641302, 27.10592983873375, 17.18410879952763, 35.80168319237099, 15.387072846464356, 42.39866496397114, 3.695195197524739, 41.83467944406847, 5.760939698079644, 18.28408608304867, 3.5176145501183607, 3.1461938763925517], 'costs': array([19.09528015,  3.11108681, 18.47970503,  3.60617857, 18.54867096,\n",
      "       18.14896278, 18.90184543, 14.73282761, 11.64346995,  2.64962894,\n",
      "       21.23149164,  2.51426884, 15.70230329,  0.48601411,  7.0274019 ,\n",
      "        3.96525172, 21.10358607, 20.43574994, 15.55659038, 20.49157442,\n",
      "       21.07352038, 12.79310899,  3.41949139,  2.16219786, 21.79686002,\n",
      "       13.30380571,  5.01318202,  3.58935311, 14.62772594,  3.59285957,\n",
      "        8.90337471,  6.99355068, 12.44895875, 17.27838361,  8.16347795,\n",
      "        1.3052635 , 14.30420703, 11.57822586,  1.00877717,  4.41482038,\n",
      "        0.19862027,  7.22566668,  0.97290537,  8.45737617,  3.69407134,\n",
      "        6.42551226,  7.09564066, 15.88135838,  3.59667527, 18.77007936,\n",
      "       20.24860501, 12.68103947, 14.5202953 , 18.64140048, 13.62544821,\n",
      "        6.28273333, 22.34522908,  7.77629504, 12.08272246, 21.82653459,\n",
      "       19.8702516 , 12.26143626, 10.64151703,  5.38048754,  1.22040784,\n",
      "        4.91521743,  8.35635795,  8.88944393,  9.43949654,  4.49503873,\n",
      "        0.06884154, 19.4839694 ,  8.27378437,  1.04572418, 21.9933795 ,\n",
      "       21.13103614,  5.77569451, 21.00806621,  1.05511023, 18.39100393,\n",
      "       13.0970111 , 11.6271596 , 18.61403064, 20.55118603, 13.23330261,\n",
      "       17.03012098,  5.96708103, 21.21043727, 14.61943491, 13.55296492,\n",
      "        8.5920544 , 17.9008416 ,  7.69353642, 21.19933248,  1.8475976 ,\n",
      "       20.91733972,  2.88046985,  9.14204304,  1.75880728,  1.57309694])}\n",
      "Building QUBO\n",
      "Solving Qubo\n",
      "Solved\n",
      "   x0 x1 x2 x3 x4 x5 x6 x7 x8 x9 x10 x11 x12 x13 x14 ... y6      energy num_oc.\n",
      "1   0  0  0  0  0  0  0  0  0  1   0   0   0   4   0 ...  1  -192.08475       1\n",
      "2   0  1  0  0  0  0  0  0  0  1   0   2   0   8   0 ...  1 -176.111654       1\n",
      "4   0  0  0  0  0  0  0  0  0  0   0   0   0   0   0 ...  1 -136.111856       1\n",
      "7   0  2  0  0  0  0  0  0  0  0   0   0   0   1   0 ...  1 -120.109385       1\n",
      "3   0  2  0  0  0  0  0  0  0  0   0   0   0   5   0 ...  1 -120.097841       1\n",
      "0   0  0  0  0  0  0  0  0  0  0   0   1   0   3   0 ...  1 -112.111578       1\n",
      "5   0  3  0  0  0  0  0  0  0  0   0   1   0   1   0 ...  0  -94.103373       1\n",
      "11  0  0  0  0  0  0  0  0  0  0   0   0   0   2   0 ...  1  -80.107675       1\n",
      "8   0  0  0  0  0  0  0  0  0  0   0   0   0   0   0 ...  0  -62.111478       1\n",
      "9   0  0  0  1  0  0  0  0  0  1   0   0   0   4   0 ...  0  -62.110869       1\n",
      "6   0  0  0  0  0  0  0  0  0  0   0   0   0   5   0 ...  0  -62.106138       1\n",
      "10  0  0  0  0  0  0  0  0  0  0   0   0   0  10   0 ...  0   -30.10463       1\n",
      "['DISCRETE', 12 rows, 12 samples, 107 variables]\n",
      "Here is the result from the first Qubo\n",
      "  x_1 x_10 x_11 x_12 x_13 x_14 x_15 x_16 x_17 x_18 ... y_(99, 9) energy num_oc.\n",
      "0   1    1    1    1    1    1    1    0    1    1 ...         0  891.0       1\n",
      "['BINARY', 1 rows, 1 samples, 4040 variables]\n",
      "\n",
      "The \"best\" suppliers selected for this step: ['supplier0', 'supplier1', 'supplier2', 'supplier3', 'supplier4', 'supplier5', 'supplier6', 'supplier7', 'supplier8', 'supplier9', 'supplier10', 'supplier11', 'supplier12', 'supplier13', 'supplier14', 'supplier16', 'supplier17', 'supplier18', 'supplier19', 'supplier21', 'supplier22', 'supplier23', 'supplier24', 'supplier25', 'supplier26', 'supplier27', 'supplier28', 'supplier29', 'supplier30', 'supplier31', 'supplier32', 'supplier33', 'supplier34', 'supplier35', 'supplier36', 'supplier37', 'supplier38']\n",
      "Here is the result from the second Qubo\n",
      "   x0 x1 x2 x3 x4 x5 x6 x7 x8 x9 x10 x11 x12 x13 x14 ... y6      energy num_oc.\n",
      "1   0  0  0  0  0  0  0  0  0  1   0   0   0   4   0 ...  1  -192.08475       1\n",
      "2   0  1  0  0  0  0  0  0  0  1   0   2   0   8   0 ...  1 -176.111654       1\n",
      "4   0  0  0  0  0  0  0  0  0  0   0   0   0   0   0 ...  1 -136.111856       1\n",
      "7   0  2  0  0  0  0  0  0  0  0   0   0   0   1   0 ...  1 -120.109385       1\n",
      "3   0  2  0  0  0  0  0  0  0  0   0   0   0   5   0 ...  1 -120.097841       1\n",
      "0   0  0  0  0  0  0  0  0  0  0   0   1   0   3   0 ...  1 -112.111578       1\n",
      "5   0  3  0  0  0  0  0  0  0  0   0   1   0   1   0 ...  0  -94.103373       1\n",
      "11  0  0  0  0  0  0  0  0  0  0   0   0   0   2   0 ...  1  -80.107675       1\n",
      "8   0  0  0  0  0  0  0  0  0  0   0   0   0   0   0 ...  0  -62.111478       1\n",
      "9   0  0  0  1  0  0  0  0  0  1   0   0   0   4   0 ...  0  -62.110869       1\n",
      "6   0  0  0  0  0  0  0  0  0  0   0   0   0   5   0 ...  0  -62.106138       1\n",
      "10  0  0  0  0  0  0  0  0  0  0   0   0   0  10   0 ...  0   -30.10463       1\n",
      "['DISCRETE', 12 rows, 12 samples, 107 variables]\n",
      "\n",
      "Total cost calculated: 4628.7196786428 with budget 100\n",
      "Total profit calculated: 9257.4393572856 with budget 100\n",
      "\n",
      "Summary\n",
      "\n",
      "Step 1: Supplier Inventory Optimization\n",
      "The \"best\" suppliers selected for this step: ['supplier0', 'supplier1', 'supplier2', 'supplier3', 'supplier4', 'supplier5', 'supplier6', 'supplier7', 'supplier8', 'supplier9', 'supplier10', 'supplier11', 'supplier12', 'supplier13', 'supplier14', 'supplier16', 'supplier17', 'supplier18', 'supplier19', 'supplier21', 'supplier22', 'supplier23', 'supplier24', 'supplier25', 'supplier26', 'supplier27', 'supplier28', 'supplier29', 'supplier30', 'supplier31', 'supplier32', 'supplier33', 'supplier34', 'supplier35', 'supplier36', 'supplier37', 'supplier38']\n",
      "\n",
      "Step 2: Profit Optimization\n",
      "Total profit calculated: 9257.4393572856 with budget 100\n"
     ]
    }
   ],
   "metadata": {}
  },
  {
   "cell_type": "code",
   "execution_count": 11,
   "source": [
    "run_experiment(standard_mock_data['large'])"
   ],
   "outputs": [
    {
     "output_type": "stream",
     "name": "stdout",
     "text": [
      "Building QUBO\n",
      "Solving Qubo\n"
     ]
    }
   ],
   "metadata": {}
  }
 ],
 "metadata": {
  "orig_nbformat": 4,
  "language_info": {
   "name": "python",
   "version": "3.9.5",
   "mimetype": "text/x-python",
   "codemirror_mode": {
    "name": "ipython",
    "version": 3
   },
   "pygments_lexer": "ipython3",
   "nbconvert_exporter": "python",
   "file_extension": ".py"
  },
  "kernelspec": {
   "name": "python3",
   "display_name": "Python 3.9.5 64-bit ('zebraket-cdl-hackathon-2021': conda)"
  },
  "interpreter": {
   "hash": "5f20994d19ff6c8c5cec1db5b7f7944e8fd16ef471b6d6e4ac9b86936de59e16"
  }
 },
 "nbformat": 4,
 "nbformat_minor": 2
}