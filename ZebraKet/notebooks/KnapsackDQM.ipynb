{
 "cells": [
  {
   "cell_type": "markdown",
   "source": [
    "# The Knapsack Problem DQM\n",
    "CDL Quantum Hackathon 2021"
   ],
   "metadata": {}
  },
  {
   "cell_type": "code",
   "execution_count": 1,
   "source": [
    "# Ziwei Qiu, ziweiqiu@g.harvard.edu\n",
    "import os\n",
    "os.chdir('..')\n",
    "from utils.data import read_profit_optimization_data\n",
    "from dimod import DiscreteQuadraticModel\n",
    "from dimod import ExactSolver\n",
    "import sys\n",
    "from dwave.system import LeapHybridDQMSampler\n",
    "from neal import SimulatedAnnealingSampler\n",
    "from math import log2, floor\n",
    "import dimod\n",
    "import os\n",
    "import numpy as np\n",
    "import pandas as pd"
   ],
   "outputs": [],
   "metadata": {
    "collapsed": true
   }
  },
  {
   "cell_type": "markdown",
   "source": [
    "## Construct DQM"
   ],
   "metadata": {}
  },
  {
   "cell_type": "code",
   "execution_count": 2,
   "source": [
    "def build_knapsack_dqm_fixedbound(values, weights, weight_capacity, bound, verbose = False):\n",
    "    \"\"\"Construct DQM for the generalized knapsack problem\n",
    "    Args:\n",
    "        values (array-like):\n",
    "            Array of values associated with the items\n",
    "        weights (array-like):\n",
    "            Array of weights associated with the items\n",
    "        weight_capacity (int):\n",
    "            Maximum allowable weight\n",
    "        bound(int):\n",
    "            Maximum allowable pieces for each item\n",
    "    Returns:\n",
    "        Discrete quadratic model instance\n",
    "        x: variable\n",
    "    \"\"\"\n",
    "    bound += 1 # also take into account the value 0\n",
    "    pieces = range(bound)\n",
    "    \n",
    "    # First guess the lagrange\n",
    "    lagrange = max(values)*0.5\n",
    "    if verbose:\n",
    "        print('lagrange:',lagrange)\n",
    "\n",
    "    # Number of objects\n",
    "    x_size = len(values)\n",
    "\n",
    "    # Lucas's algorithm introduces additional slack variables to\n",
    "    # handle the inequality. M+1 binary slack variables are needed to\n",
    "    # represent the sum using a set of powers of 2.\n",
    "    M = floor(log2(weight_capacity))\n",
    "    num_slack_variables = M + 1\n",
    "\n",
    "    # Slack variable list for Lucas's algorithm. The last variable has\n",
    "    # a special value because it terminates the sequence.\n",
    "    y = [2**n for n in range(M)]\n",
    "    y.append(weight_capacity + 1 - 2**M)\n",
    "    \n",
    "    ##@  Discrete Quadratic Model @##\n",
    "    dqm = DiscreteQuadraticModel()\n",
    "    x = []\n",
    "    #@ Add variables @##\n",
    "    for k in range(x_size):\n",
    "        x.append(dqm.add_variable(bound, label='x' + str(k)))\n",
    "\n",
    "    for k in range(num_slack_variables):\n",
    "        dqm.add_variable(2, label='y' + str(k)) # either 0 or 1\n",
    "\n",
    "    ##@ Hamiltonian xi-xi terms ##\n",
    "    for k in range(x_size):\n",
    "        dqm.set_linear('x' + str(k), lagrange * (weights[k]**2) * (np.array(pieces)**2) - values[k]*pieces)\n",
    "\n",
    "\n",
    "    # # Hamiltonian xi-xj terms\n",
    "    for i in range(x_size):\n",
    "        for j in range(i + 1, x_size):\n",
    "            biases_dict = {}\n",
    "            for piece1 in pieces:\n",
    "                for piece2 in pieces:\n",
    "                    biases_dict[(piece1, piece2)]=(2 * lagrange * weights[i] * weights[j])*piece1*piece2\n",
    "\n",
    "            dqm.set_quadratic('x' + str(i), 'x' + str(j), biases_dict)\n",
    "\n",
    "    # Hamiltonian y-y terms\n",
    "    for k in range(num_slack_variables):\n",
    "        dqm.set_linear('y' + str(k), lagrange*np.array([0,1])* (y[k]**2))\n",
    "\n",
    "    # Hamiltonian yi-yj terms \n",
    "    for i in range(num_slack_variables):\n",
    "        for j in range(i + 1, num_slack_variables): \n",
    "            dqm.set_quadratic('y' + str(i), 'y' + str(j), {(1,1):2 * lagrange * y[i] * y[j]})\n",
    "\n",
    "    # Hamiltonian x-y terms\n",
    "    for i in range(x_size):\n",
    "        for j in range(num_slack_variables):\n",
    "            biases_dict = {}\n",
    "            for piece1 in pieces:\n",
    "                biases_dict[(piece1, 1)]=-2 * lagrange * weights[i] * y[j]*piece1\n",
    "\n",
    "            dqm.set_quadratic('x' + str(i), 'y' + str(j), biases_dict) \n",
    "    \n",
    "    return dqm, x"
   ],
   "outputs": [],
   "metadata": {
    "collapsed": true
   }
  },
  {
   "cell_type": "code",
   "execution_count": 3,
   "source": [
    "# Use the Andrew Lucas log trick\n",
    "def build_knapsack_dqm_variablebound2(values, weights, weight_capacity, bound, verbose = False):\n",
    "    \"\"\"Construct DQM for the generalized knapsack problem\n",
    "    Args:\n",
    "        values (array-like):\n",
    "            Array of values associated with the items\n",
    "        weights (array-like):\n",
    "            Array of weights associated with the items\n",
    "        weight_capacity (int):\n",
    "            Maximum allowable weight\n",
    "        bound(int):\n",
    "            Maximum allowable pieces for each item\n",
    "    Returns:\n",
    "        Discrete quadratic model instance\n",
    "    \"\"\"\n",
    "    bound = [b+1 for b in bound] # also take into account the value 0\n",
    "#     pieces = range(bound)\n",
    "    \n",
    "    # First guess the lagrange\n",
    "    lagrange = max(values)*0.5\n",
    "    if verbose:\n",
    "        print('lagrange:',lagrange)\n",
    "\n",
    "    # Number of objects\n",
    "    x_size = len(values)\n",
    "\n",
    "    # Lucas's algorithm introduces additional slack variables to\n",
    "    # handle the inequality. M+1 binary slack variables are needed to\n",
    "    # represent the sum using a set of powers of 2.\n",
    "    M = floor(log2(weight_capacity))\n",
    "    num_slack_variables = M + 1\n",
    "\n",
    "    # Slack variable list for Lucas's algorithm. The last variable has\n",
    "    # a special value because it terminates the sequence.\n",
    "    y = [2**n for n in range(M)]\n",
    "    y.append(weight_capacity + 1 - 2**M)\n",
    "    \n",
    "    ##@  Discrete Quadratic Model @##\n",
    "    dqm = DiscreteQuadraticModel()\n",
    "    \n",
    "    x = []\n",
    "    #@ Add variables @##\n",
    "    for k in range(x_size):\n",
    "        x.append(dqm.add_variable(bound[k], label='x' + str(k)))\n",
    "\n",
    "    for k in range(num_slack_variables):\n",
    "        dqm.add_variable(2, label='y' + str(k)) # either 0 or 1\n",
    "\n",
    "    ##@ Hamiltonian xi-xi terms ##\n",
    "    for k in range(x_size):\n",
    "        pieces = range(bound[k])\n",
    "        dqm.set_linear('x' + str(k), lagrange * (weights[k]**2) * (np.array(pieces)**2) - values[k]*pieces)\n",
    "\n",
    "\n",
    "    # # Hamiltonian xi-xj terms\n",
    "    for i in range(x_size):\n",
    "        for j in range(i + 1, x_size):\n",
    "            biases_dict = {}\n",
    "            for piece1 in range(bound[i]):\n",
    "                for piece2 in range(bound[j]):\n",
    "                    biases_dict[(piece1, piece2)]=(2 * lagrange * weights[i] * weights[j])*piece1*piece2\n",
    "\n",
    "            dqm.set_quadratic('x' + str(i), 'x' + str(j), biases_dict)\n",
    "\n",
    "    # Hamiltonian y-y terms\n",
    "    for k in range(num_slack_variables):\n",
    "        dqm.set_linear('y' + str(k), lagrange*np.array([0,1])* (y[k]**2))\n",
    "\n",
    "    # Hamiltonian yi-yj terms \n",
    "    for i in range(num_slack_variables):\n",
    "        for j in range(i + 1, num_slack_variables): \n",
    "            dqm.set_quadratic('y' + str(i), 'y' + str(j), {(1,1):2 * lagrange * y[i] * y[j]})\n",
    "\n",
    "    # Hamiltonian x-y terms\n",
    "    for i in range(x_size):\n",
    "        for j in range(num_slack_variables):\n",
    "            biases_dict = {}\n",
    "            for piece1 in range(bound[i]):\n",
    "                biases_dict[(piece1, 1)]=-2 * lagrange * weights[i] * y[j]*piece1\n",
    "\n",
    "            dqm.set_quadratic('x' + str(i), 'y' + str(j), biases_dict) \n",
    "    \n",
    "    return dqm,x\n",
    "\n",
    "# Without the Andrew Lucas log trick\n",
    "def build_knapsack_dqm_variablebound(values, weights, weight_capacity, bound, verbose = False):\n",
    "    \"\"\"Construct DQM for the generalized knapsack problem\n",
    "    Args:\n",
    "        values (array-like):\n",
    "            Array of values associated with the items\n",
    "        weights (array-like):\n",
    "            Array of weights associated with the items\n",
    "        weight_capacity (int):\n",
    "            Maximum allowable weight\n",
    "        bound(array-like):\n",
    "            Maximum allowable pieces for each item\n",
    "    Returns:\n",
    "        Discrete quadratic model instance\n",
    "        x: varibles\n",
    "    \"\"\"\n",
    "    bound = [b+1 for b in bound] # also take into account the value 0\n",
    "    \n",
    "    # Lagrange multipliers A>max(values)>0\n",
    "    A1 = max(values)*8\n",
    "    A2 = max(values)*2\n",
    "    \n",
    "    num_of_items = len(values)\n",
    "    ##@  Discrete Quadratic Model @##\n",
    "    dqm = DiscreteQuadraticModel()\n",
    "\n",
    "    x = []\n",
    "    #@ Add variables @##\n",
    "    for k in range(num_of_items):\n",
    "        x.append(dqm.add_variable(bound[k], label='x' + str(k))) # number of discrete values \n",
    "\n",
    "    for n in range(1,weight_capacity+1):\n",
    "        dqm.add_variable(2, label='y' + str(n)) # either 0 or 1, 2 values possible\n",
    "\n",
    "    ##@ Hamiltonian xi-xi terms ##\n",
    "    for k in range(num_of_items):\n",
    "        pieces = range(bound[k])\n",
    "    #     dqm.set_linear('x' + str(k),  - values[k]*pieces)\n",
    "        dqm.set_linear('x' + str(k), A2 * (weights[k]**2) * (np.array(pieces)**2) - values[k]*np.array(pieces))\n",
    "\n",
    "    # Hamiltonian y-y terms\n",
    "    for n in range(1,weight_capacity+1):\n",
    "        dqm.set_linear('y' + str(n), np.array([0,1])* (n**2*A2-A1))\n",
    "\n",
    "    # Hamiltonian yi-yj terms \n",
    "    for n in range(1,weight_capacity+1):\n",
    "        for m in range(n + 1, weight_capacity+1): \n",
    "            dqm.set_quadratic('y' + str(n), 'y' + str(m), {(1,1):2 * A1 * (1+m*n)})\n",
    "\n",
    "    # # Hamiltonian xi-xj terms\n",
    "    for i in range(num_of_items):\n",
    "        for j in range(i + 1, num_of_items):\n",
    "            biases_dict = {}\n",
    "            for piece1 in range(bound[i]):\n",
    "                for piece2 in range(bound[j]):\n",
    "                    biases_dict[(piece1, piece2)]=(2 * A2 * weights[i] * weights[j])*piece1*piece2\n",
    "            dqm.set_quadratic('x' + str(i), 'x' + str(j), biases_dict)\n",
    "\n",
    "    # Hamiltonian x-y terms\n",
    "    for i in range(num_of_items):\n",
    "        for n in range(1,weight_capacity+1):\n",
    "            biases_dict = {}\n",
    "            for piece1 in range(bound[i]):\n",
    "                biases_dict[(piece1, 1)]=-2 * A2 * weights[i] * n* piece1\n",
    "\n",
    "            dqm.set_quadratic('x' + str(i), 'y' + str(n), biases_dict) \n",
    "            \n",
    "    return dqm, x"
   ],
   "outputs": [],
   "metadata": {
    "collapsed": true
   }
  },
  {
   "cell_type": "code",
   "execution_count": 4,
   "source": [
    "def solve_dqm(dqm, x, sampler = None, verbose = False):\n",
    "    if sampler is None:\n",
    "        sampler = LeapHybridDQMSampler()\n",
    "    sampleset = sampler.sample_dqm(dqm)\n",
    "    best_solution = sampleset.first.sample    \n",
    "    best_solution = [best_solution[i] for i in x]\n",
    "    print(best_solution)\n",
    "    \n",
    "    return best_solution"
   ],
   "outputs": [],
   "metadata": {
    "collapsed": false
   }
  },
  {
   "cell_type": "markdown",
   "source": [
    "# Implementation"
   ],
   "metadata": {}
  },
  {
   "cell_type": "code",
   "execution_count": 5,
   "source": [
    "num_of_items = 12\n",
    "values = list(np.random.randint(1,10, size=(num_of_items)))\n",
    "weights = list(np.random.randint(1,10, size=(num_of_items)))\n",
    "weight_capacity = np.random.randint(12, 40)\n",
    "print('values:',values)\n",
    "print('weights:',weights)\n",
    "print('weight_capacity:',weight_capacity)"
   ],
   "outputs": [
    {
     "output_type": "stream",
     "name": "stdout",
     "text": [
      "values: [6, 7, 4, 4, 6, 3, 4, 6, 6, 7, 9, 4]\n",
      "weights: [4, 3, 8, 8, 3, 3, 9, 4, 4, 2, 7, 5]\n",
      "weight_capacity: 23\n"
     ]
    }
   ],
   "metadata": {
    "collapsed": false
   }
  },
  {
   "cell_type": "markdown",
   "source": [
    "### Solve Bounded Knapsack Problem 1: All Items have the Same Bound"
   ],
   "metadata": {}
  },
  {
   "cell_type": "code",
   "execution_count": 6,
   "source": [
    "fixed_bound = 3\n",
    "print('fixed bound:',fixed_bound)\n",
    "\n",
    "(dqm,x) = build_knapsack_dqm_fixedbound(values, weights, weight_capacity, fixed_bound)\n",
    "best_solution = solve_dqm(dqm,x)\n",
    "\n",
    "total_weights = sum([weights[i]*best_solution[i] for i in range(len(x))])\n",
    "total_value = sum([values[i]*best_solution[i] for i in range(len(x))])\n",
    "    \n",
    "print('Total weight:',total_weights)\n",
    "print('Total value:',total_value)"
   ],
   "outputs": [
    {
     "output_type": "stream",
     "name": "stdout",
     "text": [
      "fixed bound: 3\n",
      "[0, 1, 0, 0, 1, 0, 0, 0, 1, 3, 1, 0]\n",
      "Total weight: 23\n",
      "Total value: 49\n"
     ]
    }
   ],
   "metadata": {
    "collapsed": false
   }
  },
  {
   "cell_type": "markdown",
   "source": [
    "### Solve Bounded Knapsack Problem 2: Each Item has Different Bounds"
   ],
   "metadata": {}
  },
  {
   "cell_type": "code",
   "execution_count": 7,
   "source": [
    "# Define an array of bounds\n",
    "variable_bounds = list(np.random.randint(2, 6,size=(num_of_items)))\n",
    "# variable_bounds = [3 for i in range(num_of_items)]\n",
    "print('variable bounds:',variable_bounds)\n",
    "\n",
    "(dqm,x) = build_knapsack_dqm_variablebound(values, weights, weight_capacity, variable_bounds)\n",
    "best_solution = solve_dqm(dqm,x)\n",
    "\n",
    "total_weights = sum([weights[i]*best_solution[i] for i in range(len(x))])\n",
    "total_value = sum([values[i]*best_solution[i] for i in range(len(x))])\n",
    "    \n",
    "print('Total weight:',total_weights)\n",
    "print('Total value:',total_value)"
   ],
   "outputs": [
    {
     "output_type": "stream",
     "name": "stdout",
     "text": [
      "variable bounds: [4, 4, 3, 5, 2, 5, 4, 3, 3, 4, 2, 3]\n",
      "[0, 0, 0, 0, 1, 0, 0, 0, 2, 2, 1, 0]\n",
      "Total weight: 22\n",
      "Total value: 41\n"
     ]
    }
   ],
   "metadata": {
    "collapsed": false
   }
  },
  {
   "cell_type": "markdown",
   "source": [
    "### Solve Bounded Knapsack Problem 2: Each Item has Different Bounds (with Lucas log trick)"
   ],
   "metadata": {}
  },
  {
   "cell_type": "code",
   "execution_count": 8,
   "source": [
    "# Define an array of bounds\n",
    "variable_bounds = list(np.random.randint(2, 6,size=(num_of_items)))\n",
    "# variable_bounds = [3 for i in range(num_of_items)]\n",
    "print('variable bounds:',variable_bounds)\n",
    "\n",
    "(dqm,x) = build_knapsack_dqm_variablebound2(values, weights, weight_capacity, variable_bounds)\n",
    "best_solution = solve_dqm(dqm,x)\n",
    "\n",
    "total_weights = sum([weights[i]*best_solution[i] for i in range(len(x))])\n",
    "total_value = sum([values[i]*best_solution[i] for i in range(len(x))])\n",
    "    \n",
    "print('Total weight:',total_weights)\n",
    "print('Total value:',total_value)"
   ],
   "outputs": [
    {
     "output_type": "stream",
     "name": "stdout",
     "text": [
      "variable bounds: [3, 5, 4, 2, 5, 5, 3, 3, 3, 4, 4, 2]\n",
      "[0, 2, 0, 0, 0, 0, 0, 1, 0, 3, 1, 0]\n",
      "Total weight: 23\n",
      "Total value: 50\n"
     ]
    }
   ],
   "metadata": {
    "collapsed": false
   }
  },
  {
   "cell_type": "markdown",
   "source": [
    "# Grocery Data"
   ],
   "metadata": {}
  },
  {
   "cell_type": "code",
   "execution_count": 9,
   "source": [
    "profit, cost = read_profit_optimization_data(os.path.join(os.getcwd(),'data/small-cost-mock.csv'))\n",
    "budget = np.mean(cost)*50*np.random.rand()\n",
    "\n",
    "print('average cost: ', np.mean(cost))\n",
    "print('average profit: ', np.mean(profit))\n",
    "print('budget: ', budget)"
   ],
   "outputs": [
    {
     "output_type": "stream",
     "name": "stdout",
     "text": [
      "average cost:  11.723847457000542\n",
      "average profit:  23.447694914001083\n",
      "budget:  255.10316954983296\n"
     ]
    }
   ],
   "metadata": {}
  },
  {
   "cell_type": "markdown",
   "source": [
    "We need to formulate everything as integers, so multiply by 100"
   ],
   "metadata": {}
  },
  {
   "cell_type": "code",
   "execution_count": 10,
   "source": [
    "profit_integers = np.array([int(p*100) for p in profit])\n",
    "cost_integers = np.array([int(c*100) for c in cost])\n",
    "budget_integer = int(budget*100)"
   ],
   "outputs": [],
   "metadata": {}
  },
  {
   "cell_type": "markdown",
   "source": [
    "### Solve Bounded Knapsack Problem 1: All Items have the Same Bound"
   ],
   "metadata": {}
  },
  {
   "cell_type": "code",
   "execution_count": 11,
   "source": [
    "fixed_bound = 50\n",
    "print('fixed bound:',fixed_bound)\n",
    "\n",
    "(dqm,x) = build_knapsack_dqm_fixedbound(profit_integers, cost_integers, budget_integer, fixed_bound)\n",
    "best_solution = solve_dqm(dqm,x)\n",
    "\n",
    "total_costs = sum([cost[index]*count for index, count in enumerate(best_solution)])\n",
    "total_profit = sum([profit[index]*count for index, count in enumerate(best_solution)])\n",
    "    \n",
    "print('Total cost:',total_costs)\n",
    "print('Total profit:',total_profit)"
   ],
   "outputs": [
    {
     "output_type": "stream",
     "name": "stdout",
     "text": [
      "fixed bound: 50\n",
      "[0, 0, 0, 0, 0, 0, 0, 0, 0, 0, 0, 0, 0, 0, 0, 0, 0, 2, 23, 27]\n",
      "Total cost: 213.16192623039748\n",
      "Total profit: 426.32385246079497\n"
     ]
    }
   ],
   "metadata": {
    "collapsed": false
   }
  },
  {
   "cell_type": "markdown",
   "source": [
    "### Solve Bounded Knapsack Problem 2: Each Item has Different Bounds"
   ],
   "metadata": {}
  },
  {
   "cell_type": "code",
   "execution_count": 12,
   "source": [
    "# Define an array of bounds using the log trick\n",
    "variable_bounds = list(np.random.randint(10, 50,size=(len(profit))))\n",
    "print('variable bounds:',variable_bounds)\n",
    "\n",
    "(dqm,x) = build_knapsack_dqm_variablebound2(profit_integers, cost_integers, budget_integer, variable_bounds)\n",
    "best_solution = solve_dqm(dqm,x)\n",
    "\n",
    "total_costs = sum([cost[index]*count for index, count in enumerate(best_solution)])\n",
    "total_profit = sum([profit[index]*count for index, count in enumerate(best_solution)])\n",
    "    \n",
    "print('Total cost:',total_costs)\n",
    "print('Total profit:',total_profit)"
   ],
   "outputs": [
    {
     "output_type": "stream",
     "name": "stdout",
     "text": [
      "variable bounds: [15, 45, 32, 24, 46, 30, 32, 15, 20, 32, 23, 38, 32, 20, 43, 45, 40, 24, 43, 41]\n",
      "[0, 0, 0, 0, 0, 0, 0, 0, 0, 0, 0, 1, 0, 0, 0, 0, 0, 0, 24, 14]\n",
      "Total cost: 154.17784972465597\n",
      "Total profit: 308.35569944931194\n"
     ]
    }
   ],
   "metadata": {}
  },
  {
   "cell_type": "code",
   "execution_count": 13,
   "source": [
    "# Define an array of bounds without using the log trick\n",
    "print('variable bounds:',variable_bounds)\n",
    "\n",
    "(dqm,x) = build_knapsack_dqm_variablebound(profit_integers, cost_integers, budget_integer, variable_bounds)\n",
    "best_solution = solve_dqm(dqm,x)\n",
    "\n",
    "total_costs = sum([cost[index]*count for index, count in enumerate(best_solution)])\n",
    "total_profit = sum([profit[index]*count for index, count in enumerate(best_solution)])\n",
    "    \n",
    "print('Total cost:',total_costs)\n",
    "print('Total profit:',total_profit)"
   ],
   "outputs": [
    {
     "output_type": "stream",
     "name": "stdout",
     "text": [
      "variable bounds: [15, 45, 32, 24, 46, 30, 32, 15, 20, 32, 23, 38, 32, 20, 43, 45, 40, 24, 43, 41]\n"
     ]
    },
    {
     "output_type": "error",
     "ename": "KeyboardInterrupt",
     "evalue": "",
     "traceback": [
      "\u001b[0;31m---------------------------------------------------------------------------\u001b[0m",
      "\u001b[0;31mKeyboardInterrupt\u001b[0m                         Traceback (most recent call last)",
      "\u001b[0;32m<ipython-input-13-cfe000c9e755>\u001b[0m in \u001b[0;36m<module>\u001b[0;34m\u001b[0m\n\u001b[1;32m      2\u001b[0m \u001b[0mprint\u001b[0m\u001b[0;34m(\u001b[0m\u001b[0;34m'variable bounds:'\u001b[0m\u001b[0;34m,\u001b[0m\u001b[0mvariable_bounds\u001b[0m\u001b[0;34m)\u001b[0m\u001b[0;34m\u001b[0m\u001b[0;34m\u001b[0m\u001b[0m\n\u001b[1;32m      3\u001b[0m \u001b[0;34m\u001b[0m\u001b[0m\n\u001b[0;32m----> 4\u001b[0;31m \u001b[0;34m(\u001b[0m\u001b[0mdqm\u001b[0m\u001b[0;34m,\u001b[0m\u001b[0mx\u001b[0m\u001b[0;34m)\u001b[0m \u001b[0;34m=\u001b[0m \u001b[0mbuild_knapsack_dqm_variablebound\u001b[0m\u001b[0;34m(\u001b[0m\u001b[0mprofit_integers\u001b[0m\u001b[0;34m,\u001b[0m \u001b[0mcost_integers\u001b[0m\u001b[0;34m,\u001b[0m \u001b[0mbudget_integer\u001b[0m\u001b[0;34m,\u001b[0m \u001b[0mvariable_bounds\u001b[0m\u001b[0;34m)\u001b[0m\u001b[0;34m\u001b[0m\u001b[0;34m\u001b[0m\u001b[0m\n\u001b[0m\u001b[1;32m      5\u001b[0m \u001b[0mbest_solution\u001b[0m \u001b[0;34m=\u001b[0m \u001b[0msolve_dqm\u001b[0m\u001b[0;34m(\u001b[0m\u001b[0mdqm\u001b[0m\u001b[0;34m,\u001b[0m\u001b[0mx\u001b[0m\u001b[0;34m)\u001b[0m\u001b[0;34m\u001b[0m\u001b[0;34m\u001b[0m\u001b[0m\n\u001b[1;32m      6\u001b[0m \u001b[0;34m\u001b[0m\u001b[0m\n",
      "\u001b[0;32m<ipython-input-3-0e47bc672c53>\u001b[0m in \u001b[0;36mbuild_knapsack_dqm_variablebound\u001b[0;34m(values, weights, weight_capacity, bound, verbose)\u001b[0m\n\u001b[1;32m    130\u001b[0m     \u001b[0;32mfor\u001b[0m \u001b[0mn\u001b[0m \u001b[0;32min\u001b[0m \u001b[0mrange\u001b[0m\u001b[0;34m(\u001b[0m\u001b[0;36m1\u001b[0m\u001b[0;34m,\u001b[0m\u001b[0mweight_capacity\u001b[0m\u001b[0;34m+\u001b[0m\u001b[0;36m1\u001b[0m\u001b[0;34m)\u001b[0m\u001b[0;34m:\u001b[0m\u001b[0;34m\u001b[0m\u001b[0;34m\u001b[0m\u001b[0m\n\u001b[1;32m    131\u001b[0m         \u001b[0;32mfor\u001b[0m \u001b[0mm\u001b[0m \u001b[0;32min\u001b[0m \u001b[0mrange\u001b[0m\u001b[0;34m(\u001b[0m\u001b[0mn\u001b[0m \u001b[0;34m+\u001b[0m \u001b[0;36m1\u001b[0m\u001b[0;34m,\u001b[0m \u001b[0mweight_capacity\u001b[0m\u001b[0;34m+\u001b[0m\u001b[0;36m1\u001b[0m\u001b[0;34m)\u001b[0m\u001b[0;34m:\u001b[0m\u001b[0;34m\u001b[0m\u001b[0;34m\u001b[0m\u001b[0m\n\u001b[0;32m--> 132\u001b[0;31m             \u001b[0mdqm\u001b[0m\u001b[0;34m.\u001b[0m\u001b[0mset_quadratic\u001b[0m\u001b[0;34m(\u001b[0m\u001b[0;34m'y'\u001b[0m \u001b[0;34m+\u001b[0m \u001b[0mstr\u001b[0m\u001b[0;34m(\u001b[0m\u001b[0mn\u001b[0m\u001b[0;34m)\u001b[0m\u001b[0;34m,\u001b[0m \u001b[0;34m'y'\u001b[0m \u001b[0;34m+\u001b[0m \u001b[0mstr\u001b[0m\u001b[0;34m(\u001b[0m\u001b[0mm\u001b[0m\u001b[0;34m)\u001b[0m\u001b[0;34m,\u001b[0m \u001b[0;34m{\u001b[0m\u001b[0;34m(\u001b[0m\u001b[0;36m1\u001b[0m\u001b[0;34m,\u001b[0m\u001b[0;36m1\u001b[0m\u001b[0;34m)\u001b[0m\u001b[0;34m:\u001b[0m\u001b[0;36m2\u001b[0m \u001b[0;34m*\u001b[0m \u001b[0mA1\u001b[0m \u001b[0;34m*\u001b[0m \u001b[0;34m(\u001b[0m\u001b[0;36m1\u001b[0m\u001b[0;34m+\u001b[0m\u001b[0mm\u001b[0m\u001b[0;34m*\u001b[0m\u001b[0mn\u001b[0m\u001b[0;34m)\u001b[0m\u001b[0;34m}\u001b[0m\u001b[0;34m)\u001b[0m\u001b[0;34m\u001b[0m\u001b[0;34m\u001b[0m\u001b[0m\n\u001b[0m\u001b[1;32m    133\u001b[0m \u001b[0;34m\u001b[0m\u001b[0m\n\u001b[1;32m    134\u001b[0m     \u001b[0;31m# # Hamiltonian xi-xj terms\u001b[0m\u001b[0;34m\u001b[0m\u001b[0;34m\u001b[0m\u001b[0;34m\u001b[0m\u001b[0m\n",
      "\u001b[0;32m~/miniconda3/envs/zebraket-cdl-hackathon-2021/lib/python3.9/site-packages/dimod/discrete/discrete_quadratic_model.py\u001b[0m in \u001b[0;36mset_quadratic\u001b[0;34m(self, u, v, biases)\u001b[0m\n\u001b[1;32m    529\u001b[0m         self._cydqm.set_quadratic(\n\u001b[1;32m    530\u001b[0m             \u001b[0mself\u001b[0m\u001b[0;34m.\u001b[0m\u001b[0mvariables\u001b[0m\u001b[0;34m.\u001b[0m\u001b[0mindex\u001b[0m\u001b[0;34m(\u001b[0m\u001b[0mu\u001b[0m\u001b[0;34m)\u001b[0m\u001b[0;34m,\u001b[0m\u001b[0;34m\u001b[0m\u001b[0;34m\u001b[0m\u001b[0m\n\u001b[0;32m--> 531\u001b[0;31m             \u001b[0mself\u001b[0m\u001b[0;34m.\u001b[0m\u001b[0mvariables\u001b[0m\u001b[0;34m.\u001b[0m\u001b[0mindex\u001b[0m\u001b[0;34m(\u001b[0m\u001b[0mv\u001b[0m\u001b[0;34m)\u001b[0m\u001b[0;34m,\u001b[0m\u001b[0;34m\u001b[0m\u001b[0;34m\u001b[0m\u001b[0m\n\u001b[0m\u001b[1;32m    532\u001b[0m             biases)\n\u001b[1;32m    533\u001b[0m \u001b[0;34m\u001b[0m\u001b[0m\n",
      "\u001b[0;32m~/miniconda3/envs/zebraket-cdl-hackathon-2021/lib/python3.9/site-packages/dimod/variables.py\u001b[0m in \u001b[0;36m__call__\u001b[0;34m(self, v)\u001b[0m\n\u001b[1;32m     65\u001b[0m     \u001b[0;32mdef\u001b[0m \u001b[0m__call__\u001b[0m\u001b[0;34m(\u001b[0m\u001b[0mself\u001b[0m\u001b[0;34m,\u001b[0m \u001b[0mv\u001b[0m\u001b[0;34m)\u001b[0m\u001b[0;34m:\u001b[0m\u001b[0;34m\u001b[0m\u001b[0;34m\u001b[0m\u001b[0m\n\u001b[1;32m     66\u001b[0m         \u001b[0;31m# todo: support start and end like list.index\u001b[0m\u001b[0;34m\u001b[0m\u001b[0;34m\u001b[0m\u001b[0;34m\u001b[0m\u001b[0m\n\u001b[0;32m---> 67\u001b[0;31m         \u001b[0;32mif\u001b[0m \u001b[0mv\u001b[0m \u001b[0;32mnot\u001b[0m \u001b[0;32min\u001b[0m \u001b[0mself\u001b[0m\u001b[0;34m.\u001b[0m\u001b[0mvariables\u001b[0m\u001b[0;34m:\u001b[0m\u001b[0;34m\u001b[0m\u001b[0;34m\u001b[0m\u001b[0m\n\u001b[0m\u001b[1;32m     68\u001b[0m             \u001b[0;32mraise\u001b[0m \u001b[0mValueError\u001b[0m\u001b[0;34m(\u001b[0m\u001b[0;34m'unknown variable {!r}'\u001b[0m\u001b[0;34m.\u001b[0m\u001b[0mformat\u001b[0m\u001b[0;34m(\u001b[0m\u001b[0mv\u001b[0m\u001b[0;34m)\u001b[0m\u001b[0;34m)\u001b[0m\u001b[0;34m\u001b[0m\u001b[0;34m\u001b[0m\u001b[0m\n\u001b[1;32m     69\u001b[0m         \u001b[0;32mreturn\u001b[0m \u001b[0mself\u001b[0m\u001b[0;34m.\u001b[0m\u001b[0mvariables\u001b[0m\u001b[0;34m.\u001b[0m\u001b[0m_label_to_idx\u001b[0m\u001b[0;34m.\u001b[0m\u001b[0mget\u001b[0m\u001b[0;34m(\u001b[0m\u001b[0mv\u001b[0m\u001b[0;34m,\u001b[0m \u001b[0mv\u001b[0m\u001b[0;34m)\u001b[0m\u001b[0;34m\u001b[0m\u001b[0;34m\u001b[0m\u001b[0m\n",
      "\u001b[0;32m~/miniconda3/envs/zebraket-cdl-hackathon-2021/lib/python3.9/site-packages/dimod/variables.py\u001b[0m in \u001b[0;36m__contains__\u001b[0;34m(self, v)\u001b[0m\n\u001b[1;32m    117\u001b[0m     \u001b[0;32mdef\u001b[0m \u001b[0m__contains__\u001b[0m\u001b[0;34m(\u001b[0m\u001b[0mself\u001b[0m\u001b[0;34m,\u001b[0m \u001b[0mv\u001b[0m\u001b[0;34m)\u001b[0m\u001b[0;34m:\u001b[0m\u001b[0;34m\u001b[0m\u001b[0;34m\u001b[0m\u001b[0m\n\u001b[1;32m    118\u001b[0m         \u001b[0;32mtry\u001b[0m\u001b[0;34m:\u001b[0m\u001b[0;34m\u001b[0m\u001b[0;34m\u001b[0m\u001b[0m\n\u001b[0;32m--> 119\u001b[0;31m             in_range = (isinstance(v, Number)\n\u001b[0m\u001b[1;32m    120\u001b[0m                         \u001b[0;32mand\u001b[0m \u001b[0mv\u001b[0m \u001b[0;34m==\u001b[0m \u001b[0mint\u001b[0m\u001b[0;34m(\u001b[0m\u001b[0mv\u001b[0m\u001b[0;34m)\u001b[0m\u001b[0;34m\u001b[0m\u001b[0;34m\u001b[0m\u001b[0m\n\u001b[1;32m    121\u001b[0m                         and 0 <= v < self._stop)\n",
      "\u001b[0;31mKeyboardInterrupt\u001b[0m: "
     ]
    }
   ],
   "metadata": {
    "collapsed": true
   }
  }
 ],
 "metadata": {
  "kernelspec": {
   "name": "python3",
   "display_name": "Python 3.9.5 64-bit ('zebraket-cdl-hackathon-2021': conda)"
  },
  "language_info": {
   "codemirror_mode": {
    "name": "ipython",
    "version": 3
   },
   "file_extension": ".py",
   "mimetype": "text/x-python",
   "name": "python",
   "nbconvert_exporter": "python",
   "pygments_lexer": "ipython3",
   "version": "3.9.5"
  },
  "interpreter": {
   "hash": "5f20994d19ff6c8c5cec1db5b7f7944e8fd16ef471b6d6e4ac9b86936de59e16"
  }
 },
 "nbformat": 4,
 "nbformat_minor": 2
}