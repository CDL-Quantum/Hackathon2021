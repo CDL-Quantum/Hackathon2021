{
 "cells": [
  {
   "cell_type": "code",
   "execution_count": 15,
   "source": [
    "import os \n",
    "os.chdir('..')  # Path hack: NOTE if you run this cell multiple times, you might need to comment this line out\n",
    "from utils.data import read_profit_optimization_data\n",
    "from config import standard_mock_data\n",
    "from services.classical_optimizers import binary_profit_optimizer, discrete_profit_optimizer\n",
    "from models.ProfitQubo import ProfitQubo\n",
    "from neal import SimulatedAnnealingSampler\n",
    "from dwave.system import LeapHybridDQMSampler"
   ],
   "outputs": [],
   "metadata": {}
  },
  {
   "cell_type": "markdown",
   "source": [
    "What ever constants we want"
   ],
   "metadata": {}
  },
  {
   "cell_type": "code",
   "execution_count": 5,
   "source": [
    "budget = 10000"
   ],
   "outputs": [],
   "metadata": {}
  },
  {
   "cell_type": "markdown",
   "source": [
    "First let's read in our data. We can start off with the small data set"
   ],
   "metadata": {}
  },
  {
   "cell_type": "code",
   "execution_count": 4,
   "source": [
    "profit, cost = read_profit_optimization_data(standard_mock_data['small'])\n",
    "# TODO: Somehow visualize the data"
   ],
   "outputs": [],
   "metadata": {}
  },
  {
   "cell_type": "markdown",
   "source": [
    "Next we try the classical solution. Note, we have a discreet method (which is not very applicable to the real world) and a binary method (more applicable)."
   ],
   "metadata": {}
  },
  {
   "cell_type": "markdown",
   "source": [
    "discrete method just for completeness (recall: this is not very applicable to real world)"
   ],
   "metadata": {}
  },
  {
   "cell_type": "code",
   "execution_count": 8,
   "source": [
    "binary_solution, binary_cost, binary_profit = binary_profit_optimizer(profit=profit, cost=cost, budget=budget)\n",
    "print('Found binary (crude) profit optimization solution', binary_solution, binary_cost, binary_profit)"
   ],
   "outputs": [
    {
     "output_type": "stream",
     "name": "stdout",
     "text": [
      "Found binary (crude) profit optimization solution (0, 1, 2, 3, 4, 5, 6, 7, 8, 9, 10, 11, 12, 13, 14, 15, 16, 17, 18, 19) 356.73150914723203 499.42411280612487\n"
     ]
    }
   ],
   "metadata": {}
  },
  {
   "cell_type": "markdown",
   "source": [
    "Next we use the discrete solution"
   ],
   "metadata": {}
  },
  {
   "cell_type": "code",
   "execution_count": 9,
   "source": [
    "discrete_profit = discrete_profit_optimizer(profit=profit, cost=cost, budget=budget)\n",
    "print('Found discrete (crude) profit optimization solution', discrete_profit)\n",
    "# TODO: Somehow visualize the result and make it comparable to the next steps\n",
    "# TODO: fix this function to make it yield appropriate data (i.e. solution set, cost)"
   ],
   "outputs": [
    {
     "output_type": "stream",
     "name": "stdout",
     "text": [
      "Found discrete (crude) profit optimization solution 14130.2\n"
     ]
    }
   ],
   "metadata": {}
  },
  {
   "cell_type": "markdown",
   "source": [
    "Great! Now lets use the QUBO formulation. We start with the simulated annealing"
   ],
   "metadata": {}
  },
  {
   "cell_type": "code",
   "execution_count": 13,
   "source": [
    "# TODO make the ProfitQubo take a list of budgets\n",
    "qubo = ProfitQubo(profits=profit, costs=cost, budget=budget)\n",
    "sampler = SimulatedAnnealingSampler().sample_dqm\n",
    "qubo.solve(sampler, **{\"num_reads\":100, \"num_sweeps\": 100000})\n",
    "print(qubo.solution_set)"
   ],
   "outputs": [
    {
     "output_type": "error",
     "ename": "AttributeError",
     "evalue": "'SimulatedAnnealingSampler' object has no attribute 'sample_dqm'",
     "traceback": [
      "\u001b[0;31m---------------------------------------------------------------------------\u001b[0m",
      "\u001b[0;31mAttributeError\u001b[0m                            Traceback (most recent call last)",
      "\u001b[0;32m<ipython-input-13-2b70a6768e94>\u001b[0m in \u001b[0;36m<module>\u001b[0;34m\u001b[0m\n\u001b[1;32m      1\u001b[0m \u001b[0;31m# TODO make the ProfitQubo take a list of budgets\u001b[0m\u001b[0;34m\u001b[0m\u001b[0;34m\u001b[0m\u001b[0;34m\u001b[0m\u001b[0m\n\u001b[1;32m      2\u001b[0m \u001b[0mqubo\u001b[0m \u001b[0;34m=\u001b[0m \u001b[0mProfitQubo\u001b[0m\u001b[0;34m(\u001b[0m\u001b[0mprofits\u001b[0m\u001b[0;34m=\u001b[0m\u001b[0mprofit\u001b[0m\u001b[0;34m,\u001b[0m \u001b[0mcosts\u001b[0m\u001b[0;34m=\u001b[0m\u001b[0mcost\u001b[0m\u001b[0;34m,\u001b[0m \u001b[0mbudget\u001b[0m\u001b[0;34m=\u001b[0m\u001b[0mbudget\u001b[0m\u001b[0;34m)\u001b[0m\u001b[0;34m\u001b[0m\u001b[0;34m\u001b[0m\u001b[0m\n\u001b[0;32m----> 3\u001b[0;31m \u001b[0msampler\u001b[0m \u001b[0;34m=\u001b[0m \u001b[0mSimulatedAnnealingSampler\u001b[0m\u001b[0;34m(\u001b[0m\u001b[0;34m)\u001b[0m\u001b[0;34m.\u001b[0m\u001b[0msample_dqm\u001b[0m\u001b[0;34m\u001b[0m\u001b[0;34m\u001b[0m\u001b[0m\n\u001b[0m\u001b[1;32m      4\u001b[0m \u001b[0mqubo\u001b[0m\u001b[0;34m.\u001b[0m\u001b[0msolve\u001b[0m\u001b[0;34m(\u001b[0m\u001b[0msampler\u001b[0m\u001b[0;34m,\u001b[0m \u001b[0;34m**\u001b[0m\u001b[0;34m{\u001b[0m\u001b[0;34m\"num_reads\"\u001b[0m\u001b[0;34m:\u001b[0m\u001b[0;36m100\u001b[0m\u001b[0;34m,\u001b[0m \u001b[0;34m\"num_sweeps\"\u001b[0m\u001b[0;34m:\u001b[0m \u001b[0;36m100000\u001b[0m\u001b[0;34m}\u001b[0m\u001b[0;34m)\u001b[0m\u001b[0;34m\u001b[0m\u001b[0;34m\u001b[0m\u001b[0m\n\u001b[1;32m      5\u001b[0m \u001b[0mprint\u001b[0m\u001b[0;34m(\u001b[0m\u001b[0mqubo\u001b[0m\u001b[0;34m.\u001b[0m\u001b[0msolution_set\u001b[0m\u001b[0;34m)\u001b[0m\u001b[0;34m\u001b[0m\u001b[0;34m\u001b[0m\u001b[0m\n",
      "\u001b[0;31mAttributeError\u001b[0m: 'SimulatedAnnealingSampler' object has no attribute 'sample_dqm'"
     ]
    }
   ],
   "metadata": {}
  },
  {
   "cell_type": "markdown",
   "source": [
    "Ok, lets try the hybrid solver now"
   ],
   "metadata": {}
  },
  {
   "cell_type": "code",
   "execution_count": 16,
   "source": [
    "sampler = LeapHybridDQMSampler().sample_dqm\n",
    "qubo.solve(sampler)\n",
    "print(qubo.solution_set)"
   ],
   "outputs": [
    {
     "output_type": "stream",
     "name": "stdout",
     "text": [
      "   x0 x1 x2 x3 x4 x5 x6 x7 x8 x9 x10 x11 x12 x13 ... y13         energy num_oc.\n",
      "12 10 10 10 10 10 10 10  9 10 10   9  10  10  10 ...   1   -4205.553113       1\n",
      "3   0  0  1  0 10  5  8  4 10  0   9   0   8  10 ...   1   -3218.261363       1\n",
      "22 10 10 10 10 10  8  9  4  2  2  10   2   1   3 ...   1    -3123.25136       1\n",
      "10  0 10 10 10  0  0  8  4  0  0   7   6  10  10 ...   1   -2893.952026       1\n",
      "20 10  0 10  2  4  7  8  8  5  9   7   9   0   7 ...   0    -2742.28209       1\n",
      "4   0  0  1  0  4  5  0  4  0  0   7   0  10  10 ...   1   -2674.632111       1\n",
      "8   0  0  0  0  0  7  5  0 10  0   7   6  10  10 ...   1   -2585.862854       1\n",
      "11 10 10 10 10 10 10 10 10 10 10  10  10  10  10 ...   0   -2568.389841       1\n",
      "13 10 10 10 10 10 10 10 10 10 10  10  10  10  10 ...   0   -2568.389841       1\n",
      "14  0  0  0  0  0  0  0  0  0  0   6   0  10  10 ...   1   -2541.815244       1\n",
      "21  0  0  0  0  0  0  0  0  0  0   4   0  10  10 ...   1   -2538.177225       1\n",
      "19  0  0  0  0  0  0  0  0  0  0   1   0  10  10 ...   1   -2535.618553       1\n",
      "15  0  0  1  2  2  5  5  0 10  0   8   6   8   9 ...   0   -2254.845684       1\n",
      "6   0  0 10  0  4  5  5  0  0  0   7   0  10   3 ...   1   -2177.510903       1\n",
      "1   0  0  1  2  0  0  0  9  5  0   7   0  10  10 ...   0   -2154.264835       1\n",
      "2   0  0  1  0  4  7  0  0 10  0   8   0   8   3 ...   0   -2044.836689       1\n",
      "23  0  0  9  0  6  7  5  0  0 10  10   5   4   6 ...   0    -1969.87312       1\n",
      "7   0  0 10  2  0  0  5  9  0 10   7   6   1  10 ...   0   -1845.243642       1\n",
      "0   0  0 10  0  0  7  5  0  0 10   9   0   1  10 ...   0     460.936119       1\n",
      "5   0 10 10 10  0  0  8  9  0  0   9   0  10  10 ...   1     842.225072       1\n",
      "9   0  0 10  2  0  0  8  9  0  0   9   0  10  10 ...   1    2795.673726       1\n",
      "18 10 10 10 10 10 10 10 10 10 10  10  10  10  10 ...   1    4893.276212       1\n",
      "17 10 10 10 10 10 10 10 10 10 10  10  10  10  10 ...   1  726259.759128       1\n",
      "16 10 10 10 10 10 10 10 10 10 10  10  10  10  10 ...   0 2430630.295183       1\n",
      "['DISCRETE', 24 rows, 24 samples, 34 variables]\n"
     ]
    }
   ],
   "metadata": {}
  }
 ],
 "metadata": {
  "orig_nbformat": 4,
  "language_info": {
   "name": "python",
   "version": "3.9.5",
   "mimetype": "text/x-python",
   "codemirror_mode": {
    "name": "ipython",
    "version": 3
   },
   "pygments_lexer": "ipython3",
   "nbconvert_exporter": "python",
   "file_extension": ".py"
  },
  "kernelspec": {
   "name": "python3",
   "display_name": "Python 3.9.5 64-bit ('zebraket-cdl-hackathon-2021': conda)"
  },
  "interpreter": {
   "hash": "5f20994d19ff6c8c5cec1db5b7f7944e8fd16ef471b6d6e4ac9b86936de59e16"
  }
 },
 "nbformat": 4,
 "nbformat_minor": 2
}