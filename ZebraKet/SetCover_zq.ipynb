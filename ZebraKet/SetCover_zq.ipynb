{
 "cells": [
  {
   "cell_type": "code",
   "execution_count": 280,
   "metadata": {},
   "outputs": [],
   "source": [
    "# Ziwei Qiu, ziweiqiu@g.harvard.edu"
   ]
  },
  {
   "cell_type": "code",
   "execution_count": 281,
   "metadata": {},
   "outputs": [],
   "source": [
    "from dimod import BinaryQuadraticModel\n",
    "from dimod import ExactSolver\n",
    "from neal import SimulatedAnnealingSampler\n",
    "from itertools import combinations\n",
    "import numpy as np"
   ]
  },
  {
   "cell_type": "markdown",
   "metadata": {},
   "source": [
    "## Problem Definition\n",
    "\n",
    "The set cover problem is to identify the smallest sub-collection of `V` whose union equals the universe `U`."
   ]
  },
  {
   "cell_type": "code",
   "execution_count": 282,
   "metadata": {},
   "outputs": [
    {
     "name": "stdout",
     "output_type": "stream",
     "text": [
      "The universe is [1, 2, 4]\n",
      "There are 4 collections: [{1}, {1, 2}, {4}, {2}]\n",
      "Number of elements in the universe: 3\n",
      "Number of sets: N=4\n",
      "Indicator variables: I_i,a [[1, 0, 0], [1, 1, 0], [0, 0, 1], [0, 1, 0]]\n"
     ]
    }
   ],
   "source": [
    "# Define a simple set cover problem\n",
    "# U = set(np.random.randint(10, size=(5)))\n",
    "U = list(set([1,2,4]))\n",
    "\n",
    "\n",
    "# V = [set(np.random.randint(10, size=(5))) for i in range(5)]\n",
    "V = [set([1]),set([1,2]),set([4]), set([2])]\n",
    "\n",
    "print('The universe is',U)\n",
    "print('There are {:d} collections:'.format(len(V)),V)\n",
    "\n",
    "print('Number of elements in the universe: {:d}'.format(len(U)))\n",
    "print('Number of sets: N={:d}'.format(len(V)))\n",
    "\n",
    "# Create indicator variables\n",
    "I = []\n",
    "for i in range(len(V)):\n",
    "    I.append([1 if U[a] in V[i] else 0 for a in range(len(U))])\n",
    "print('Indicator variables: I_i,a',I)\n",
    "\n",
    "# Lagrange multipliers A>B>0\n",
    "A = 2\n",
    "B = 1"
   ]
  },
  {
   "cell_type": "markdown",
   "metadata": {},
   "source": [
    "## Create the BQM model"
   ]
  },
  {
   "cell_type": "code",
   "execution_count": 283,
   "metadata": {
    "code_folding": []
   },
   "outputs": [
    {
     "name": "stdout",
     "output_type": "stream",
     "text": [
      "x variables: ['x_1', 'x_2', 'x_3', 'x_4']\n",
      "y variables: [['y_(1, 1)', 'y_(1, 2)', 'y_(1, 3)', 'y_(1, 4)'], ['y_(2, 1)', 'y_(2, 2)', 'y_(2, 3)', 'y_(2, 4)'], ['y_(3, 1)', 'y_(3, 2)', 'y_(3, 3)', 'y_(3, 4)']]\n"
     ]
    }
   ],
   "source": [
    "##@  Binary Quadratic Model @##\n",
    "bqm = BinaryQuadraticModel('BINARY')\n",
    "\n",
    "# Add linear terms\n",
    "# x linear terms\n",
    "x = [bqm.add_variable(f'x_{i+1}', A*sum(I[i])+B) for i in range(0,len(V))]\n",
    "# x = [bqm.add_variable(f'x_{i+1}', A*sum(I[i])) for i in range(0,len(V))]\n",
    "print('x variables:',x)\n",
    "\n",
    "# y_am linear terms\n",
    "y = []\n",
    "for a in range(1,len(U)+1):\n",
    "    y.append([bqm.add_variable(f'y_{a,m}', A*(m**2-1)) for m in range(1,len(V)+1)])\n",
    "print('y variables:',y)\n",
    "\n",
    "# Add quadratic terms\n",
    "\n",
    "# x_i-x_j terms\n",
    "for i in range(1,len(V)+1):\n",
    "    for j in range(i+1,len(V)+1):\n",
    "        key = ('x_' + str(i), 'x_' + str(j))\n",
    "        bqm.quadratic[key] = 2*A*np.dot(np.array(I[i-1]),np.array(I[j-1]))\n",
    "        \n",
    "# y_am - y_an terms\n",
    "for m in range(1,len(V)+1):\n",
    "    for n in range(m+1,len(V)+1):\n",
    "        for a in range(1,len(U)+1):\n",
    "            key = ('y_('+str(a)+', '+str(m)+')', 'y_('+str(a)+', '+str(n)+')')\n",
    "            bqm.quadratic[key] = 2*A*(1+m*n)\n",
    "            \n",
    "\n",
    "# x_i-y_am terms\n",
    "for i in range(1,len(V)+1):\n",
    "    for m in range(1,len(V)+1):\n",
    "        for a in range(1,len(U)+1):\n",
    "            key = ('x_' + str(i), 'y_('+str(a)+', '+str(m)+')')\n",
    "            bqm.quadratic[key] = -2*A*m*I[i-1][a-1]\n"
   ]
  },
  {
   "cell_type": "markdown",
   "metadata": {},
   "source": [
    "## SimulatedAnnealingSampler"
   ]
  },
  {
   "cell_type": "code",
   "execution_count": 285,
   "metadata": {},
   "outputs": [
    {
     "name": "stdout",
     "output_type": "stream",
     "text": [
      "  x_1 x_2 x_3 x_4 y_(1, 1) y_(1, 2) y_(1, 3) ... y_(3, 4) energy num_oc.\n",
      "0   0   1   1   0        1        0        0 ...        0   -4.0       1\n",
      "1   0   1   1   0        1        0        0 ...        0   -4.0       1\n",
      "2   0   1   1   0        1        0        0 ...        0   -4.0       1\n",
      "3   0   1   1   0        1        0        0 ...        0   -4.0       1\n",
      "4   0   1   1   0        1        0        0 ...        0   -4.0       1\n",
      "5   0   1   1   0        1        0        0 ...        0   -4.0       1\n",
      "6   0   1   1   0        1        0        0 ...        0   -4.0       1\n",
      "7   0   1   1   0        1        0        0 ...        0   -4.0       1\n",
      "8   0   1   1   0        1        0        0 ...        0   -4.0       1\n",
      "9   0   1   1   0        1        0        0 ...        0   -4.0       1\n",
      "['BINARY', 10 rows, 10 samples, 16 variables]\n",
      "[0, 1, 1, 0]\n"
     ]
    }
   ],
   "source": [
    "response = SimulatedAnnealingSampler().sample(bqm, num_reads=100, num_sweeps=10000).truncate(10)\n",
    "# response = SimulatedAnnealingSampler().sample(bqm).truncate(10)\n",
    "print(response)\n",
    "best_solution = response.first.sample\n",
    "print([best_solution[i] for i in x])\n",
    "# print(best_solution)"
   ]
  },
  {
   "cell_type": "code",
   "execution_count": 287,
   "metadata": {},
   "outputs": [
    {
     "name": "stdout",
     "output_type": "stream",
     "text": [
      "[0, 1, 1, 0]\n"
     ]
    }
   ],
   "source": [
    "response = ExactSolver().sample(bqm)\n",
    "samples = response.samples()\n",
    "best_solution = response.first.sample\n",
    "# energy = sampleset.first.energy\n",
    "print([best_solution[i] for i in x])\n",
    "# print(best_solution)\n",
    "# print(\"Solution energy: \", energy)\n",
    "# print(response.truncate(5))"
   ]
  }
 ],
 "metadata": {
  "kernelspec": {
   "display_name": "Python 3",
   "language": "python",
   "name": "python3"
  },
  "language_info": {
   "codemirror_mode": {
    "name": "ipython",
    "version": 3
   },
   "file_extension": ".py",
   "mimetype": "text/x-python",
   "name": "python",
   "nbconvert_exporter": "python",
   "pygments_lexer": "ipython3",
   "version": "3.7.3"
  }
 },
 "nbformat": 4,
 "nbformat_minor": 2
}
