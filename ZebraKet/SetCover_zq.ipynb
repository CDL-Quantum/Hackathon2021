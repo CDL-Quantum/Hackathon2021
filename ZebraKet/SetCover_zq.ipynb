{
 "cells": [
  {
   "cell_type": "code",
   "execution_count": 19,
   "metadata": {},
   "outputs": [],
   "source": [
    "# Ziwei Qiu, ziweiqiu@g.harvard.edu\n",
    "from dimod import BinaryQuadraticModel\n",
    "from dimod import ExactSolver\n",
    "from neal import SimulatedAnnealingSampler\n",
    "from itertools import combinations\n",
    "# from dwave.system import LeapHybridBQMSampler\n",
    "import numpy as np"
   ]
  },
  {
   "cell_type": "markdown",
   "metadata": {},
   "source": [
    "## Problem Definition\n",
    "\n",
    "The set cover problem is to identify the smallest sub-collection of `V` whose union equals the universe `U`."
   ]
  },
  {
   "cell_type": "code",
   "execution_count": 3,
   "metadata": {},
   "outputs": [
    {
     "name": "stdout",
     "output_type": "stream",
     "text": [
      "The universe is [4, 6, 7]\n",
      "There are 5 collections: [{0, 3, 4}, {8, 2, 5, 7}, {8, 3, 4, 7}, {9, 4, 5, 6}, {8, 9, 2, 4}]\n",
      "Number of elements in the universe: 3\n",
      "Number of sets: N=5\n",
      "Indicator variables: I_i,a [[1, 0, 0], [0, 0, 1], [1, 0, 1], [1, 1, 0], [1, 0, 0]]\n"
     ]
    }
   ],
   "source": [
    "# Define a simple set cover problem\n",
    "U = list(set(np.random.randint(10, size=(5))))\n",
    "# U = list(set([1,2,4]))\n",
    "\n",
    "\n",
    "V = [set(np.random.randint(10, size=(5))) for i in range(5)]\n",
    "# V = [set([1]),set([1,2]),set([4]), set([2])]\n",
    "\n",
    "print('The universe is',U)\n",
    "print('There are {:d} collections:'.format(len(V)),V)\n",
    "\n",
    "print('Number of elements in the universe: {:d}'.format(len(U)))\n",
    "print('Number of sets: N={:d}'.format(len(V)))\n",
    "\n",
    "# Create indicator variables\n",
    "I = []\n",
    "for i in range(len(V)):\n",
    "    I.append([1 if U[a] in V[i] else 0 for a in range(len(U))])\n",
    "print('Indicator variables: I_i,a',I)\n",
    "\n",
    "# Lagrange multipliers A>B>0\n",
    "A = 2\n",
    "B = 1"
   ]
  },
  {
   "cell_type": "markdown",
   "metadata": {},
   "source": [
    "## Create the BQM model"
   ]
  },
  {
   "cell_type": "code",
   "execution_count": 6,
   "metadata": {
    "code_folding": []
   },
   "outputs": [
    {
     "name": "stdout",
     "output_type": "stream",
     "text": [
      "x variables: ['x_1', 'x_2', 'x_3', 'x_4', 'x_5']\n",
      "y variables: [['y_(1, 1)', 'y_(1, 2)', 'y_(1, 3)', 'y_(1, 4)', 'y_(1, 5)'], ['y_(2, 1)', 'y_(2, 2)', 'y_(2, 3)', 'y_(2, 4)', 'y_(2, 5)'], ['y_(3, 1)', 'y_(3, 2)', 'y_(3, 3)', 'y_(3, 4)', 'y_(3, 5)']]\n"
     ]
    }
   ],
   "source": [
    "##@  Binary Quadratic Model @##\n",
    "bqm = BinaryQuadraticModel('BINARY')\n",
    "\n",
    "# Add linear terms\n",
    "# x linear terms\n",
    "x = [bqm.add_variable(f'x_{i+1}', A*sum(I[i])+B) for i in range(0,len(V))]\n",
    "print('x variables:',x)\n",
    "\n",
    "# y_am linear terms\n",
    "y = []\n",
    "for a in range(1,len(U)+1):\n",
    "    y.append([bqm.add_variable(f'y_{a,m}', A*(m**2-1)) for m in range(1,len(V)+1)])\n",
    "print('y variables:',y)\n",
    "\n",
    "# Add quadratic terms\n",
    "\n",
    "# x_i-x_j terms\n",
    "for i in range(1,len(V)+1):\n",
    "    for j in range(i+1,len(V)+1):\n",
    "        key = ('x_' + str(i), 'x_' + str(j))\n",
    "        bqm.quadratic[key] = 2*A*np.dot(np.array(I[i-1]),np.array(I[j-1]))\n",
    "        \n",
    "# y_am - y_an terms\n",
    "for m in range(1,len(V)+1):\n",
    "    for n in range(m+1,len(V)+1):\n",
    "        for a in range(1,len(U)+1):\n",
    "            key = ('y_('+str(a)+', '+str(m)+')', 'y_('+str(a)+', '+str(n)+')')\n",
    "            bqm.quadratic[key] = 2*A*(1+m*n)\n",
    "            \n",
    "# x_i-y_am terms\n",
    "for i in range(1,len(V)+1):\n",
    "    for m in range(1,len(V)+1):\n",
    "        for a in range(1,len(U)+1):\n",
    "            key = ('x_' + str(i), 'y_('+str(a)+', '+str(m)+')')\n",
    "            bqm.quadratic[key] = -2*A*m*I[i-1][a-1]"
   ]
  },
  {
   "cell_type": "markdown",
   "metadata": {},
   "source": [
    "## Exact Solver"
   ]
  },
  {
   "cell_type": "code",
   "execution_count": null,
   "metadata": {},
   "outputs": [],
   "source": [
    "response = ExactSolver().sample(bqm)\n",
    "samples = response.samples()\n",
    "best_solution = response.first.sample\n",
    "print([best_solution[i] for i in x])"
   ]
  },
  {
   "cell_type": "markdown",
   "metadata": {},
   "source": [
    "## SimulatedAnnealingSampler"
   ]
  },
  {
   "cell_type": "code",
   "execution_count": 14,
   "metadata": {},
   "outputs": [
    {
     "name": "stdout",
     "output_type": "stream",
     "text": [
      "  x_1 x_2 x_3 x_4 x_5 y_(1, 1) y_(1, 2) y_(1, 3) ... y_(3, 5) energy num_oc.\n",
      "0   0   0   1   1   0        0        1        0 ...        0   -4.0       1\n",
      "1   0   0   1   1   0        0        1        0 ...        0   -4.0       1\n",
      "2   0   1   0   1   0        1        0        0 ...        0   -4.0       1\n",
      "3   0   0   1   1   0        0        1        0 ...        0   -4.0       1\n",
      "4   0   0   1   1   0        0        1        0 ...        0   -4.0       1\n",
      "5   0   0   1   1   0        0        1        0 ...        0   -4.0       1\n",
      "6   0   1   0   1   0        1        0        0 ...        0   -4.0       1\n",
      "7   0   1   0   1   0        1        0        0 ...        0   -4.0       1\n",
      "8   0   1   0   1   0        1        0        0 ...        0   -4.0       1\n",
      "9   0   1   0   1   0        1        0        0 ...        0   -4.0       1\n",
      "['BINARY', 10 rows, 10 samples, 20 variables]\n",
      "[0, 0, 1, 1, 0]\n"
     ]
    }
   ],
   "source": [
    "response = SimulatedAnnealingSampler().sample(bqm, num_reads=100, num_sweeps=10000).truncate(10)\n",
    "# response = SimulatedAnnealingSampler().sample(bqm).truncate(10)\n",
    "print(response)\n",
    "best_solution = response.first.sample\n",
    "print([best_solution[i] for i in x])\n",
    "# print(best_solution)"
   ]
  },
  {
   "cell_type": "markdown",
   "metadata": {},
   "source": [
    "## LeapHybridDQMSampler"
   ]
  },
  {
   "cell_type": "code",
   "execution_count": 17,
   "metadata": {},
   "outputs": [
    {
     "ename": "AttributeError",
     "evalue": "'LeapHybridDQMSampler' object has no attribute 'sample_bqm'",
     "output_type": "error",
     "traceback": [
      "\u001b[0;31m---------------------------------------------------------------------------\u001b[0m",
      "\u001b[0;31mAttributeError\u001b[0m                            Traceback (most recent call last)",
      "\u001b[0;32m<ipython-input-17-635c368c52d2>\u001b[0m in \u001b[0;36m<module>\u001b[0;34m\u001b[0m\n\u001b[0;32m----> 1\u001b[0;31m \u001b[0mresponse\u001b[0m \u001b[0;34m=\u001b[0m \u001b[0mLeapHybridDQMSampler\u001b[0m\u001b[0;34m(\u001b[0m\u001b[0;34m)\u001b[0m\u001b[0;34m.\u001b[0m\u001b[0msample_bqm\u001b[0m\u001b[0;34m(\u001b[0m\u001b[0mbqm\u001b[0m\u001b[0;34m,\u001b[0m \u001b[0mnum_reads\u001b[0m\u001b[0;34m=\u001b[0m\u001b[0;36m100\u001b[0m\u001b[0;34m,\u001b[0m \u001b[0mnum_sweeps\u001b[0m\u001b[0;34m=\u001b[0m\u001b[0;36m10000\u001b[0m\u001b[0;34m)\u001b[0m\u001b[0;34m.\u001b[0m\u001b[0mtruncate\u001b[0m\u001b[0;34m(\u001b[0m\u001b[0;36m10\u001b[0m\u001b[0;34m)\u001b[0m\u001b[0;34m\u001b[0m\u001b[0;34m\u001b[0m\u001b[0m\n\u001b[0m\u001b[1;32m      2\u001b[0m \u001b[0;31m# response = SimulatedAnnealingSampler().sample(bqm).truncate(10)\u001b[0m\u001b[0;34m\u001b[0m\u001b[0;34m\u001b[0m\u001b[0;34m\u001b[0m\u001b[0m\n\u001b[1;32m      3\u001b[0m \u001b[0mprint\u001b[0m\u001b[0;34m(\u001b[0m\u001b[0mresponse\u001b[0m\u001b[0;34m)\u001b[0m\u001b[0;34m\u001b[0m\u001b[0;34m\u001b[0m\u001b[0m\n\u001b[1;32m      4\u001b[0m \u001b[0mbest_solution\u001b[0m \u001b[0;34m=\u001b[0m \u001b[0mresponse\u001b[0m\u001b[0;34m.\u001b[0m\u001b[0mfirst\u001b[0m\u001b[0;34m.\u001b[0m\u001b[0msample\u001b[0m\u001b[0;34m\u001b[0m\u001b[0;34m\u001b[0m\u001b[0m\n\u001b[1;32m      5\u001b[0m \u001b[0mprint\u001b[0m\u001b[0;34m(\u001b[0m\u001b[0;34m[\u001b[0m\u001b[0mbest_solution\u001b[0m\u001b[0;34m[\u001b[0m\u001b[0mi\u001b[0m\u001b[0;34m]\u001b[0m \u001b[0;32mfor\u001b[0m \u001b[0mi\u001b[0m \u001b[0;32min\u001b[0m \u001b[0mx\u001b[0m\u001b[0;34m]\u001b[0m\u001b[0;34m)\u001b[0m\u001b[0;34m\u001b[0m\u001b[0;34m\u001b[0m\u001b[0m\n",
      "\u001b[0;31mAttributeError\u001b[0m: 'LeapHybridDQMSampler' object has no attribute 'sample_bqm'"
     ]
    }
   ],
   "source": [
    "response = LeapHybridBQMSampler().sample_bqm(bqm, num_reads=100, num_sweeps=10000).truncate(10)\n",
    "# response = SimulatedAnnealingSampler().sample(bqm).truncate(10)\n",
    "print(response)\n",
    "best_solution = response.first.sample\n",
    "print([best_solution[i] for i in x])"
   ]
  }
 ],
 "metadata": {
  "kernelspec": {
   "display_name": "Python 3",
   "language": "python",
   "name": "python3"
  },
  "language_info": {
   "codemirror_mode": {
    "name": "ipython",
    "version": 3
   },
   "file_extension": ".py",
   "mimetype": "text/x-python",
   "name": "python",
   "nbconvert_exporter": "python",
   "pygments_lexer": "ipython3",
   "version": "3.7.3"
  }
 },
 "nbformat": 4,
 "nbformat_minor": 2
}
