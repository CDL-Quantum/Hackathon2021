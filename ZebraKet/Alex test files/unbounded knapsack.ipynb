{
 "cells": [
  {
   "cell_type": "code",
   "execution_count": 2,
   "id": "397fff9b",
   "metadata": {},
   "outputs": [
    {
     "name": "stdout",
     "output_type": "stream",
     "text": [
      "900\n"
     ]
    }
   ],
   "source": [
    "# Python3 program to find maximum\n",
    "# achievable value with a knapsack\n",
    "# of weight W and multiple instances allowed.\n",
    "\n",
    "# Returns the maximum value\n",
    "# with knapsack of W capacity\n",
    "def unboundedKnapsack(W, n, val, wt):\n",
    "\n",
    "\t# dp[i] is going to store maximum\n",
    "\t# value with knapsack capacity i.\n",
    "\tdp = [0 for i in range(W + 1)]\n",
    "\n",
    "\tans = 0\n",
    "\n",
    "\t# Fill dp[] using above recursive formula\n",
    "\tfor i in range(W + 1):\n",
    "\t\tfor j in range(n):\n",
    "\t\t\tif (wt[j] <= i):\n",
    "\t\t\t\tdp[i] = max(dp[i], dp[i - wt[j]] + val[j])\n",
    "\n",
    "\treturn dp[W]\n",
    "\n",
    "# Driver program\n",
    "W = 300\n",
    "val = [10, 30, 20]\n",
    "wt = [5, 10, 15]\n",
    "n = len(val)\n",
    "\n",
    "print(unboundedKnapsack(W, n, val, wt))\n",
    "\n",
    "# This code is contributed by Anant Agarwal.\n"
   ]
  },
  {
   "cell_type": "code",
   "execution_count": null,
   "id": "389181bc",
   "metadata": {},
   "outputs": [],
   "source": []
  }
 ],
 "metadata": {
  "kernelspec": {
   "display_name": "Python 3",
   "language": "python",
   "name": "python3"
  },
  "language_info": {
   "codemirror_mode": {
    "name": "ipython",
    "version": 3
   },
   "file_extension": ".py",
   "mimetype": "text/x-python",
   "name": "python",
   "nbconvert_exporter": "python",
   "pygments_lexer": "ipython3",
   "version": "3.8.10"
  }
 },
 "nbformat": 4,
 "nbformat_minor": 5
}
