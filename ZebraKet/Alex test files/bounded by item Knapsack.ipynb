{
 "cells": [
  {
   "cell_type": "code",
   "execution_count": 1,
   "metadata": {},
   "outputs": [],
   "source": [
    "import numpy as np\n",
    "\n",
    "def import_file(data_file_name):\n",
    "    import pandas as pd\n",
    "    df = pd.read_csv(data_file_name, header=None)\n",
    "    df.columns = ['cost', 'weight','quantity']\n",
    "    print(df)\n",
    "    \n",
    "    c=df['cost']\n",
    "    w=df['weight']\n",
    "    m=df['quantity']\n",
    "    return(c,w,m)\n",
    "\n",
    "def knapsack(c,w,m,w_capacity):\n",
    "    from itertools import combinations\n",
    "    import numpy as np\n",
    "    \n",
    "    Total=np.sum(m) #total buckets item_i x qty_i\n",
    "    N=len(c) #total items\n",
    "    \n",
    "    def sum(i_list, p):\n",
    "        sum_p=0\n",
    "        for item in (i_list):\n",
    "            sum_p+=p[item]\n",
    "        return(int(sum_p))\n",
    "    \n",
    "    lc=np.zeros(Total)\n",
    "    lw=np.zeros(Total)\n",
    "    lm=np.zeros(Total)\n",
    "    \n",
    "    # create the long list of single items to work on and index\n",
    "    i=0\n",
    "    index_l=[]\n",
    "    for r in range(N):\n",
    "        for s in range(m[r]):\n",
    "            lc[i]=c[r]\n",
    "            lw[i]=w[r]\n",
    "            index_l.append(r)\n",
    "            i+=1\n",
    "    \n",
    "    c_max=0\n",
    "    w_max=0\n",
    "    max_list=[]\n",
    "    \n",
    "    for n in range(1,Total+1):  # for groups of items from 1 to N\n",
    "        for i_list in combinations(np.arange(Total), n): # allcombinations of n items\n",
    "            \n",
    "            if sum(list(i_list),lw)<=w_capacity: # if the weight of the current list of items is within the weight capacity\n",
    "                if sum(list(i_list),lc)>c_max:  # if the cost of the current list of items is more than the max cost found so far\n",
    "\n",
    "                    c_max=sum(list(i_list),lc)  #c_max updated the cost of the current list of items\n",
    "                    w_max=sum(list(i_list),lw)  #w_max upated to the weight of the current items\n",
    "                    \n",
    "                    max_list=list(i_list)\n",
    "                    #print(list(i_list), sum(list(i_list),c), sum(list(i_list),w))\n",
    "    i=0\n",
    "    bucket=np.zeros(N)\n",
    "   \n",
    "    for i in range(Total):\n",
    "        if i in (max_list):\n",
    "            bucket[index_l[i]]+=1\n",
    "    return(bucket, c_max, w_max)"
   ]
  },
  {
   "cell_type": "code",
   "execution_count": 2,
   "metadata": {},
   "outputs": [
    {
     "name": "stdout",
     "output_type": "stream",
     "text": [
      "   cost  weight  quantity\n",
      "0    10      21         1\n",
      "1    12      25         2\n",
      "2    11      26         4\n",
      "3    16      24         3\n",
      "4    14      20         3\n",
      "5    15      23         1\n",
      "6    13      27         2\n",
      "[0. 0. 0. 3. 2. 1. 0.] 91 135\n"
     ]
    }
   ],
   "source": [
    "c,w,m=import_file(\"small_data_m.txt\")\n",
    "final_list, max_c, max_w =knapsack(c,w,m,150)\n",
    "print(final_list, max_c, max_w)"
   ]
  },
  {
   "cell_type": "code",
   "execution_count": null,
   "metadata": {},
   "outputs": [],
   "source": []
  }
 ],
 "metadata": {
  "kernelspec": {
   "display_name": "Python 3",
   "language": "python",
   "name": "python3"
  },
  "language_info": {
   "codemirror_mode": {
    "name": "ipython",
    "version": 3
   },
   "file_extension": ".py",
   "mimetype": "text/x-python",
   "name": "python",
   "nbconvert_exporter": "python",
   "pygments_lexer": "ipython3",
   "version": "3.8.10"
  }
 },
 "nbformat": 4,
 "nbformat_minor": 2
}
