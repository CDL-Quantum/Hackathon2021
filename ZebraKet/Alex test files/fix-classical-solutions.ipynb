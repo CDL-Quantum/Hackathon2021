{
 "cells": [
  {
   "cell_type": "code",
   "execution_count": 11,
   "source": [
    "import os \n",
    "os.chdir('..')  # Weird pathing hack\n",
    "from services.classical_optimizers import binary_supplier_optimizer, discrete_profit_optimizer, binary_profit_optimizer\n",
    "import pandas as pd"
   ],
   "outputs": [],
   "metadata": {}
  },
  {
   "cell_type": "code",
   "execution_count": 12,
   "source": [
    "    # Define some constants\n",
    "    budget = 100 # 100 dollars buget\n",
    "    \n",
    "    # Fake data (TODO: implement this method in Data.py)\n",
    "    prices = (3.5, 3.4, 3.8, 6.1)\n",
    "    costs = (1.5, 1.4, 1.8, 2.1)\n",
    "    items = (f'item{i}' for i in range(len(prices)))\n",
    "    row_names = ['price', 'cost']\n",
    "    fake_data = pd.DataFrame([prices, costs], columns=items, index=row_names)\n",
    "    print('Here is our generated data: \\n', fake_data)\n"
   ],
   "outputs": [
    {
     "output_type": "stream",
     "name": "stdout",
     "text": [
      "Here is our generated data: \n",
      "        item0  item1  item2  item3\n",
      "price    3.5    3.4    3.8    6.1\n",
      "cost     1.5    1.4    1.8    2.1\n"
     ]
    }
   ],
   "metadata": {}
  },
  {
   "cell_type": "markdown",
   "source": [
    "See the binary knapsack is working:"
   ],
   "metadata": {}
  },
  {
   "cell_type": "code",
   "execution_count": 13,
   "source": [
    "    # Test the binary knapsack solution\n",
    "    binary_solution, binary_cost, binary_profit = binary_profit_optimizer(price_data=fake_data, budget=budget)\n",
    "    print('\\n\\nfound solution for BINARY knapsack: ', binary_cost, binary_profit)\n",
    "    print('result\\n', binary_solution, '\\n\\n')"
   ],
   "outputs": [
    {
     "output_type": "stream",
     "name": "stdout",
     "text": [
      "products:\n",
      " ['item0', 'item1', 'item2', 'item3']\n",
      "profit:\n",
      " [2.0, 2.0, 1.9999999999999998, 3.9999999999999996]\n",
      "\n",
      "\n",
      "found solution for BINARY knapsack:  6.800000000000001 10.0\n",
      "result\n",
      " (0, 1, 2, 3) \n",
      "\n",
      "\n"
     ]
    }
   ],
   "metadata": {}
  },
  {
   "cell_type": "markdown",
   "source": [
    "But the discrete knapsack is working as far as I can tell, we just don't get the actual solution out, we only get the cost..."
   ],
   "metadata": {}
  },
  {
   "cell_type": "code",
   "execution_count": 14,
   "source": [
    "    # Test the discrete knapsack\n",
    "    discrete_profit = discrete_profit_optimizer(price_data=fake_data, budget=budget)\n",
    "    print('found solution for DISCRETE knapsack: ', 'profit', discrete_profit) \n"
   ],
   "outputs": [
    {
     "output_type": "stream",
     "name": "stdout",
     "text": [
      "found solution for DISCRETE knapsack:  profit 187.54\n"
     ]
    }
   ],
   "metadata": {}
  },
  {
   "cell_type": "markdown",
   "source": [
    "And for completness, here is the supplier optimization (i.e. the cover set problem)"
   ],
   "metadata": {}
  },
  {
   "cell_type": "code",
   "execution_count": 15,
   "source": [
    "    universe = set(range(1, 11))\n",
    "    subsets = [set([1, 2, 3, 8, 9, 10]),\n",
    "        set([1, 2, 3, 4, 5]),\n",
    "        set([4, 5, 7]),\n",
    "        set([5, 6, 7]),\n",
    "        set([6, 7, 8, 9, 10])]\n",
    "    cover = binary_supplier_optimizer(universe, subsets)\n",
    "    print('\\n\\n', 'Found inventory optimization solution', cover)\n"
   ],
   "outputs": [
    {
     "output_type": "stream",
     "name": "stdout",
     "text": [
      "\n",
      "\n",
      " Found inventory optimization solution [{1, 2, 3, 8, 9, 10}, {4, 5, 7}, {5, 6, 7}]\n"
     ]
    }
   ],
   "metadata": {}
  }
 ],
 "metadata": {
  "orig_nbformat": 4,
  "language_info": {
   "name": "python",
   "version": "3.9.5",
   "mimetype": "text/x-python",
   "codemirror_mode": {
    "name": "ipython",
    "version": 3
   },
   "pygments_lexer": "ipython3",
   "nbconvert_exporter": "python",
   "file_extension": ".py"
  },
  "kernelspec": {
   "name": "python3",
   "display_name": "Python 3.9.5 64-bit ('zebraket-cdl-hackathon-2021': conda)"
  },
  "interpreter": {
   "hash": "5f20994d19ff6c8c5cec1db5b7f7944e8fd16ef471b6d6e4ac9b86936de59e16"
  }
 },
 "nbformat": 4,
 "nbformat_minor": 2
}