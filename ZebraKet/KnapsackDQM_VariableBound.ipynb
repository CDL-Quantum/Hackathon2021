{
 "cells": [
  {
   "cell_type": "code",
   "execution_count": 205,
   "metadata": {
    "collapsed": true
   },
   "outputs": [],
   "source": [
    "# Ziwei Qiu, ziweiqiu@g.harvard.edu\n",
    "from dimod import DiscreteQuadraticModel\n",
    "from dimod import ExactSolver\n",
    "import pandas as pd\n",
    "import sys\n",
    "from dwave.system import LeapHybridDQMSampler\n",
    "from neal import SimulatedAnnealingSampler\n",
    "from math import log2, floor\n",
    "import dimod\n",
    "import os\n",
    "import numpy as np"
   ]
  },
  {
   "cell_type": "markdown",
   "metadata": {},
   "source": [
    "## Problem Definition"
   ]
  },
  {
   "cell_type": "code",
   "execution_count": 202,
   "metadata": {
    "collapsed": false,
    "scrolled": true
   },
   "outputs": [
    {
     "name": "stdout",
     "output_type": "stream",
     "text": [
      "values: [4, 2, 2, 2, 2]\n",
      "weights: [3, 1, 3, 1, 3]\n",
      "bound: [18, 18, 19, 17, 17]\n",
      "weight_limit: 10\n"
     ]
    }
   ],
   "source": [
    "num_of_items = 5\n",
    "values = list(np.random.randint(1,5, size=(num_of_items)))\n",
    "weights = list(np.random.randint(1,5, size=(num_of_items)))\n",
    "bound = list(np.random.randint(12, 20,size=(num_of_items))+2)\n",
    "# weights = [1,4]\n",
    "# values = [3,4]\n",
    "# bound = [10,10]\n",
    "bound = [b+1 for b in bound] # take into account 0\n",
    "weight_limit = 10\n",
    "\n",
    "print('values:',values)\n",
    "print('weights:',weights)\n",
    "print('bound:',bound)\n",
    "print('weight_limit:',weight_limit)\n",
    "# Lagrange multipliers A>max(costs)B>0\n",
    "# B = 1\n",
    "A = max(values)*3"
   ]
  },
  {
   "cell_type": "markdown",
   "metadata": {},
   "source": [
    "## Create the DQM model\n"
   ]
  },
  {
   "cell_type": "code",
   "execution_count": 203,
   "metadata": {
    "collapsed": false
   },
   "outputs": [],
   "source": [
    "##@  Discrete Quadratic Model @##\n",
    "dqm = DiscreteQuadraticModel()\n",
    "\n",
    "x = []\n",
    "#@ Add variables @##\n",
    "for k in range(num_of_items):\n",
    "    x.append(dqm.add_variable(bound[k], label='x' + str(k))) # number of discrete values \n",
    "\n",
    "for n in range(1,weight_limit+1):\n",
    "    dqm.add_variable(2, label='y' + str(n)) # either 0 or 1, 2 values possible\n",
    "    \n",
    "##@ Hamiltonian xi-xi terms ##\n",
    "for k in range(num_of_items):\n",
    "    pieces = range(bound[k])\n",
    "#     dqm.set_linear('x' + str(k),  - values[k]*pieces)\n",
    "    dqm.set_linear('x' + str(k), A * (weights[k]**2) * (np.array(pieces)**2) - values[k]*np.array(pieces))\n",
    "\n",
    "# Hamiltonian y-y terms\n",
    "for n in range(1,weight_limit+1):\n",
    "    dqm.set_linear('y' + str(n), A*np.array([0,1])* (n**2-1))\n",
    "    \n",
    "# Hamiltonian yi-yj terms \n",
    "for n in range(1,weight_limit+1):\n",
    "    for m in range(n + 1, weight_limit+1): \n",
    "        dqm.set_quadratic('y' + str(n), 'y' + str(m), {(1,1):2 * A * (1+m*n)})\n",
    "        \n",
    "# # Hamiltonian xi-xj terms\n",
    "for i in range(num_of_items):\n",
    "    for j in range(i + 1, num_of_items):\n",
    "        biases_dict = {}\n",
    "        for piece1 in range(bound[i]):\n",
    "            for piece2 in range(bound[j]):\n",
    "                biases_dict[(piece1, piece2)]=(2 * A * weights[i] * weights[j])*piece1*piece2\n",
    "        dqm.set_quadratic('x' + str(i), 'x' + str(j), biases_dict)\n",
    "    \n",
    "# Hamiltonian x-y terms\n",
    "for i in range(num_of_items):\n",
    "    for n in range(1,weight_limit+1):\n",
    "        biases_dict = {}\n",
    "        for piece1 in range(bound[i]):\n",
    "            biases_dict[(piece1, 1)]=-2 * A * weights[i] * n* piece1\n",
    "\n",
    "        dqm.set_quadratic('x' + str(i), 'y' + str(n), biases_dict) "
   ]
  },
  {
   "cell_type": "code",
   "execution_count": 225,
   "metadata": {
    "collapsed": false
   },
   "outputs": [],
   "source": [
    "sampler = LeapHybridDQMSampler()\n",
    "response = sampler.sample_dqm(dqm)\n",
    "sample = response.first.sample\n",
    "energy = response.first.energy\n",
    "best_solution = response.first.sample\n",
    "best_solution = [best_solution[i] for i in x]\n",
    "total_weights = sum([weights[i]*best_solution[i] for i in range(len(x))])\n",
    "total_value = sum([values[i]*best_solution[i] for i in range(len(x))])\n",
    "print(best_solution)\n",
    "print('Total weight:',total_weights)\n",
    "print('Total value:',total_value)"
   ]
  }
 ],
 "metadata": {
  "kernelspec": {
   "display_name": "cdl",
   "language": "python",
   "name": "cdl"
  },
  "language_info": {
   "codemirror_mode": {
    "name": "ipython",
    "version": 3
   },
   "file_extension": ".py",
   "mimetype": "text/x-python",
   "name": "python",
   "nbconvert_exporter": "python",
   "pygments_lexer": "ipython3",
   "version": "3.9.6"
  }
 },
 "nbformat": 4,
 "nbformat_minor": 2
}
