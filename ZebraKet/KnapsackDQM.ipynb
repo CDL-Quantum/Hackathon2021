{
 "cells": [
  {
   "cell_type": "markdown",
   "metadata": {},
   "source": [
    "# The Knapsack Problem DQM\n",
    "CDL Quantum Hackathon 2021"
   ]
  },
  {
   "cell_type": "code",
   "execution_count": 1,
   "metadata": {
    "collapsed": true
   },
   "outputs": [],
   "source": [
    "# Ziwei Qiu, ziweiqiu@g.harvard.edu\n",
    "from dimod import DiscreteQuadraticModel\n",
    "from dimod import ExactSolver\n",
    "import sys\n",
    "from dwave.system import LeapHybridDQMSampler\n",
    "from neal import SimulatedAnnealingSampler\n",
    "from math import log2, floor\n",
    "import dimod\n",
    "import os\n",
    "import numpy as np\n",
    "import pandas as pd"
   ]
  },
  {
   "cell_type": "markdown",
   "metadata": {},
   "source": [
    "## Construct DQM"
   ]
  },
  {
   "cell_type": "code",
   "execution_count": 2,
   "metadata": {
    "collapsed": true
   },
   "outputs": [],
   "source": [
    "def build_knapsack_dqm_fixedbound(values, weights, weight_capacity, bound, verbose = False):\n",
    "    \"\"\"Construct DQM for the generalized knapsack problem\n",
    "    Args:\n",
    "        values (array-like):\n",
    "            Array of values associated with the items\n",
    "        weights (array-like):\n",
    "            Array of weights associated with the items\n",
    "        weight_capacity (int):\n",
    "            Maximum allowable weight\n",
    "        bound(int):\n",
    "            Maximum allowable pieces for each item\n",
    "    Returns:\n",
    "        Discrete quadratic model instance\n",
    "        x: variable\n",
    "    \"\"\"\n",
    "    bound += 1 # also take into account the value 0\n",
    "    pieces = range(bound)\n",
    "    \n",
    "    # First guess the lagrange\n",
    "    lagrange = max(values)*0.5\n",
    "    if verbose:\n",
    "        print('lagrange:',lagrange)\n",
    "\n",
    "    # Number of objects\n",
    "    x_size = len(values)\n",
    "\n",
    "    # Lucas's algorithm introduces additional slack variables to\n",
    "    # handle the inequality. M+1 binary slack variables are needed to\n",
    "    # represent the sum using a set of powers of 2.\n",
    "    M = floor(log2(weight_capacity))\n",
    "    num_slack_variables = M + 1\n",
    "\n",
    "    # Slack variable list for Lucas's algorithm. The last variable has\n",
    "    # a special value because it terminates the sequence.\n",
    "    y = [2**n for n in range(M)]\n",
    "    y.append(weight_capacity + 1 - 2**M)\n",
    "    \n",
    "    ##@  Discrete Quadratic Model @##\n",
    "    dqm = DiscreteQuadraticModel()\n",
    "    x = []\n",
    "    #@ Add variables @##\n",
    "    for k in range(x_size):\n",
    "        x.append(dqm.add_variable(bound, label='x' + str(k)))\n",
    "\n",
    "    for k in range(num_slack_variables):\n",
    "        dqm.add_variable(2, label='y' + str(k)) # either 0 or 1\n",
    "\n",
    "    ##@ Hamiltonian xi-xi terms ##\n",
    "    for k in range(x_size):\n",
    "        dqm.set_linear('x' + str(k), lagrange * (weights[k]**2) * (np.array(pieces)**2) - values[k]*pieces)\n",
    "\n",
    "\n",
    "    # # Hamiltonian xi-xj terms\n",
    "    for i in range(x_size):\n",
    "        for j in range(i + 1, x_size):\n",
    "            biases_dict = {}\n",
    "            for piece1 in pieces:\n",
    "                for piece2 in pieces:\n",
    "                    biases_dict[(piece1, piece2)]=(2 * lagrange * weights[i] * weights[j])*piece1*piece2\n",
    "\n",
    "            dqm.set_quadratic('x' + str(i), 'x' + str(j), biases_dict)\n",
    "\n",
    "    # Hamiltonian y-y terms\n",
    "    for k in range(num_slack_variables):\n",
    "        dqm.set_linear('y' + str(k), lagrange*np.array([0,1])* (y[k]**2))\n",
    "\n",
    "    # Hamiltonian yi-yj terms \n",
    "    for i in range(num_slack_variables):\n",
    "        for j in range(i + 1, num_slack_variables): \n",
    "            dqm.set_quadratic('y' + str(i), 'y' + str(j), {(1,1):2 * lagrange * y[i] * y[j]})\n",
    "\n",
    "    # Hamiltonian x-y terms\n",
    "    for i in range(x_size):\n",
    "        for j in range(num_slack_variables):\n",
    "            biases_dict = {}\n",
    "            for piece1 in pieces:\n",
    "                biases_dict[(piece1, 1)]=-2 * lagrange * weights[i] * y[j]*piece1\n",
    "\n",
    "            dqm.set_quadratic('x' + str(i), 'y' + str(j), biases_dict) \n",
    "    \n",
    "    return dqm, x"
   ]
  },
  {
   "cell_type": "code",
   "execution_count": 3,
   "metadata": {
    "collapsed": true
   },
   "outputs": [],
   "source": [
    "def build_knapsack_dqm_variablebound(values, weights, weight_capacity, bound, verbose = False):\n",
    "    \"\"\"Construct DQM for the generalized knapsack problem\n",
    "    Args:\n",
    "        values (array-like):\n",
    "            Array of values associated with the items\n",
    "        weights (array-like):\n",
    "            Array of weights associated with the items\n",
    "        weight_capacity (int):\n",
    "            Maximum allowable weight\n",
    "        bound(array-like):\n",
    "            Maximum allowable pieces for each item\n",
    "    Returns:\n",
    "        Discrete quadratic model instance\n",
    "        x: varibles\n",
    "    \"\"\"\n",
    "    bound = [b+1 for b in bound] # also take into account the value 0\n",
    "    \n",
    "    # Lagrange multipliers A>max(values)>0\n",
    "    A1 = max(values)*8\n",
    "    A2 = max(values)*2\n",
    "    \n",
    "    ##@  Discrete Quadratic Model @##\n",
    "    dqm = DiscreteQuadraticModel()\n",
    "\n",
    "    x = []\n",
    "    #@ Add variables @##\n",
    "    for k in range(num_of_items):\n",
    "        x.append(dqm.add_variable(bound[k], label='x' + str(k))) # number of discrete values \n",
    "\n",
    "    for n in range(1,weight_capacity+1):\n",
    "        dqm.add_variable(2, label='y' + str(n)) # either 0 or 1, 2 values possible\n",
    "\n",
    "    ##@ Hamiltonian xi-xi terms ##\n",
    "    for k in range(num_of_items):\n",
    "        pieces = range(bound[k])\n",
    "    #     dqm.set_linear('x' + str(k),  - values[k]*pieces)\n",
    "        dqm.set_linear('x' + str(k), A2 * (weights[k]**2) * (np.array(pieces)**2) - values[k]*np.array(pieces))\n",
    "\n",
    "    # Hamiltonian y-y terms\n",
    "    for n in range(1,weight_capacity+1):\n",
    "        dqm.set_linear('y' + str(n), np.array([0,1])* (n**2*A2-A1))\n",
    "\n",
    "    # Hamiltonian yi-yj terms \n",
    "    for n in range(1,weight_capacity+1):\n",
    "        for m in range(n + 1, weight_capacity+1): \n",
    "            dqm.set_quadratic('y' + str(n), 'y' + str(m), {(1,1):2 * A1 * (1+m*n)})\n",
    "\n",
    "    # # Hamiltonian xi-xj terms\n",
    "    for i in range(num_of_items):\n",
    "        for j in range(i + 1, num_of_items):\n",
    "            biases_dict = {}\n",
    "            for piece1 in range(bound[i]):\n",
    "                for piece2 in range(bound[j]):\n",
    "                    biases_dict[(piece1, piece2)]=(2 * A2 * weights[i] * weights[j])*piece1*piece2\n",
    "            dqm.set_quadratic('x' + str(i), 'x' + str(j), biases_dict)\n",
    "\n",
    "    # Hamiltonian x-y terms\n",
    "    for i in range(num_of_items):\n",
    "        for n in range(1,weight_capacity+1):\n",
    "            biases_dict = {}\n",
    "            for piece1 in range(bound[i]):\n",
    "                biases_dict[(piece1, 1)]=-2 * A2 * weights[i] * n* piece1\n",
    "\n",
    "            dqm.set_quadratic('x' + str(i), 'y' + str(n), biases_dict) \n",
    "            \n",
    "    return dqm, x"
   ]
  },
  {
   "cell_type": "code",
   "execution_count": 56,
   "metadata": {
    "collapsed": false
   },
   "outputs": [],
   "source": [
    "def solve_dqm(dqm, x, sampler = None, verbose = False):\n",
    "    if sampler is None:\n",
    "        sampler = LeapHybridDQMSampler()\n",
    "    sampleset = sampler.sample_dqm(dqm)\n",
    "    best_solution = sampleset.first.sample    \n",
    "    best_solution = [best_solution[i] for i in x]\n",
    "    print(best_solution)\n",
    "    \n",
    "    return best_solution"
   ]
  },
  {
   "cell_type": "markdown",
   "metadata": {},
   "source": [
    "# Implementation"
   ]
  },
  {
   "cell_type": "code",
   "execution_count": 58,
   "metadata": {
    "collapsed": false
   },
   "outputs": [
    {
     "name": "stdout",
     "output_type": "stream",
     "text": [
      "values: [5, 5, 1, 7, 9, 1, 7, 4, 7, 1, 7, 8]\n",
      "weights: [3, 8, 5, 1, 4, 6, 8, 1, 7, 6, 4, 3]\n",
      "weight_capacity: 17\n"
     ]
    }
   ],
   "source": [
    "num_of_items = 12\n",
    "values = list(np.random.randint(1,10, size=(num_of_items)))\n",
    "weights = list(np.random.randint(1,10, size=(num_of_items)))\n",
    "weight_capacity = np.random.randint(12, 40)\n",
    "print('values:',values)\n",
    "print('weights:',weights)\n",
    "print('weight_capacity:',weight_capacity)"
   ]
  },
  {
   "cell_type": "markdown",
   "metadata": {},
   "source": [
    "### Solve Bounded Knapsack Problem 1: All Items have the Same Bound"
   ]
  },
  {
   "cell_type": "code",
   "execution_count": 59,
   "metadata": {
    "collapsed": false
   },
   "outputs": [
    {
     "name": "stdout",
     "output_type": "stream",
     "text": [
      "fixed bound: 3\n",
      "[0, 0, 0, 3, 1, 0, 0, 3, 0, 0, 0, 2]\n",
      "Total weight: 16\n",
      "Total value: 58\n"
     ]
    }
   ],
   "source": [
    "fixed_bound = 3\n",
    "print('fixed bound:',fixed_bound)\n",
    "\n",
    "(dqm,x) = build_knapsack_dqm_fixedbound(values, weights, weight_capacity, fixed_bound)\n",
    "best_solution = solve_dqm(dqm,x)\n",
    "\n",
    "total_weights = sum([weights[i]*best_solution[i] for i in range(len(x))])\n",
    "total_value = sum([values[i]*best_solution[i] for i in range(len(x))])\n",
    "    \n",
    "print('Total weight:',total_weights)\n",
    "print('Total value:',total_value)"
   ]
  },
  {
   "cell_type": "markdown",
   "metadata": {},
   "source": [
    "### Solve Bounded Knapsack Problem 2: Each Item has Different Bounds"
   ]
  },
  {
   "cell_type": "code",
   "execution_count": 60,
   "metadata": {
    "collapsed": false
   },
   "outputs": [
    {
     "name": "stdout",
     "output_type": "stream",
     "text": [
      "variable bounds: [5, 2, 2, 3, 5, 2, 3, 2, 2, 4, 5, 3]\n",
      "[0, 0, 0, 2, 0, 0, 0, 0, 0, 0, 3, 1]\n",
      "Total weight: 17\n",
      "Total value: 43\n"
     ]
    }
   ],
   "source": [
    "# Define an array of bounds\n",
    "variable_bounds = list(np.random.randint(2, 6,size=(num_of_items)))\n",
    "# variable_bounds = [3 for i in range(num_of_items)]\n",
    "print('variable bounds:',variable_bounds)\n",
    "\n",
    "(dqm,x) = build_knapsack_dqm_variablebound(values, weights, weight_capacity, variable_bounds)\n",
    "best_solution = solve_dqm(dqm,x)\n",
    "\n",
    "total_weights = sum([weights[i]*best_solution[i] for i in range(len(x))])\n",
    "total_value = sum([values[i]*best_solution[i] for i in range(len(x))])\n",
    "    \n",
    "print('Total weight:',total_weights)\n",
    "print('Total value:',total_value)"
   ]
  },
  {
   "cell_type": "markdown",
   "metadata": {},
   "source": [
    "# Grocery Data"
   ]
  },
  {
   "cell_type": "code",
   "execution_count": 61,
   "metadata": {
    "collapsed": false
   },
   "outputs": [
    {
     "data": {
      "text/html": [
       "<div>\n",
       "<style scoped>\n",
       "    .dataframe tbody tr th:only-of-type {\n",
       "        vertical-align: middle;\n",
       "    }\n",
       "\n",
       "    .dataframe tbody tr th {\n",
       "        vertical-align: top;\n",
       "    }\n",
       "\n",
       "    .dataframe thead th {\n",
       "        text-align: right;\n",
       "    }\n",
       "</style>\n",
       "<table border=\"1\" class=\"dataframe\">\n",
       "  <thead>\n",
       "    <tr style=\"text-align: right;\">\n",
       "      <th></th>\n",
       "      <th>Unnamed: 0</th>\n",
       "      <th>item0</th>\n",
       "      <th>item1</th>\n",
       "      <th>item2</th>\n",
       "      <th>item3</th>\n",
       "      <th>item4</th>\n",
       "      <th>item5</th>\n",
       "      <th>item6</th>\n",
       "      <th>item7</th>\n",
       "      <th>item8</th>\n",
       "      <th>...</th>\n",
       "      <th>item10</th>\n",
       "      <th>item11</th>\n",
       "      <th>item12</th>\n",
       "      <th>item13</th>\n",
       "      <th>item14</th>\n",
       "      <th>item15</th>\n",
       "      <th>item16</th>\n",
       "      <th>item17</th>\n",
       "      <th>item18</th>\n",
       "      <th>item19</th>\n",
       "    </tr>\n",
       "  </thead>\n",
       "  <tbody>\n",
       "    <tr>\n",
       "      <th>0</th>\n",
       "      <td>supplier0</td>\n",
       "      <td>25.651062</td>\n",
       "      <td>16.885580</td>\n",
       "      <td>9.874869</td>\n",
       "      <td>4.073876</td>\n",
       "      <td>11.845272</td>\n",
       "      <td>4.486785</td>\n",
       "      <td>2.600526</td>\n",
       "      <td>10.754414</td>\n",
       "      <td>11.321333</td>\n",
       "      <td>...</td>\n",
       "      <td>8.981416</td>\n",
       "      <td>18.169675</td>\n",
       "      <td>-1.000000</td>\n",
       "      <td>6.955355</td>\n",
       "      <td>-1.000000</td>\n",
       "      <td>7.081792</td>\n",
       "      <td>23.158746</td>\n",
       "      <td>22.546562</td>\n",
       "      <td>-1.000000</td>\n",
       "      <td>12.837133</td>\n",
       "    </tr>\n",
       "    <tr>\n",
       "      <th>1</th>\n",
       "      <td>supplier1</td>\n",
       "      <td>25.449085</td>\n",
       "      <td>23.421934</td>\n",
       "      <td>-1.000000</td>\n",
       "      <td>3.909275</td>\n",
       "      <td>16.661481</td>\n",
       "      <td>3.346700</td>\n",
       "      <td>2.515956</td>\n",
       "      <td>-1.000000</td>\n",
       "      <td>10.940784</td>\n",
       "      <td>...</td>\n",
       "      <td>-1.000000</td>\n",
       "      <td>18.169675</td>\n",
       "      <td>-1.000000</td>\n",
       "      <td>9.397129</td>\n",
       "      <td>3.742742</td>\n",
       "      <td>7.081792</td>\n",
       "      <td>23.397496</td>\n",
       "      <td>20.312218</td>\n",
       "      <td>-1.000000</td>\n",
       "      <td>15.849929</td>\n",
       "    </tr>\n",
       "    <tr>\n",
       "      <th>2</th>\n",
       "      <td>supplier2</td>\n",
       "      <td>-1.000000</td>\n",
       "      <td>-1.000000</td>\n",
       "      <td>-1.000000</td>\n",
       "      <td>-1.000000</td>\n",
       "      <td>14.708964</td>\n",
       "      <td>-1.000000</td>\n",
       "      <td>2.431386</td>\n",
       "      <td>14.080521</td>\n",
       "      <td>11.987294</td>\n",
       "      <td>...</td>\n",
       "      <td>-1.000000</td>\n",
       "      <td>19.207942</td>\n",
       "      <td>10.194032</td>\n",
       "      <td>9.619108</td>\n",
       "      <td>4.668781</td>\n",
       "      <td>6.809415</td>\n",
       "      <td>27.694995</td>\n",
       "      <td>24.780906</td>\n",
       "      <td>-1.000000</td>\n",
       "      <td>-1.000000</td>\n",
       "    </tr>\n",
       "    <tr>\n",
       "      <th>3</th>\n",
       "      <td>supplier3</td>\n",
       "      <td>18.783848</td>\n",
       "      <td>16.522449</td>\n",
       "      <td>9.714302</td>\n",
       "      <td>4.032726</td>\n",
       "      <td>14.839132</td>\n",
       "      <td>-1.000000</td>\n",
       "      <td>2.262246</td>\n",
       "      <td>10.089192</td>\n",
       "      <td>10.560235</td>\n",
       "      <td>...</td>\n",
       "      <td>-1.000000</td>\n",
       "      <td>-1.000000</td>\n",
       "      <td>11.566305</td>\n",
       "      <td>8.805184</td>\n",
       "      <td>4.630196</td>\n",
       "      <td>6.319138</td>\n",
       "      <td>27.933745</td>\n",
       "      <td>-1.000000</td>\n",
       "      <td>27.917692</td>\n",
       "      <td>15.980921</td>\n",
       "    </tr>\n",
       "    <tr>\n",
       "      <th>4</th>\n",
       "      <td>supplier4</td>\n",
       "      <td>19.389779</td>\n",
       "      <td>21.424714</td>\n",
       "      <td>7.225514</td>\n",
       "      <td>4.691130</td>\n",
       "      <td>12.496111</td>\n",
       "      <td>3.751246</td>\n",
       "      <td>2.410244</td>\n",
       "      <td>13.082689</td>\n",
       "      <td>-1.000000</td>\n",
       "      <td>...</td>\n",
       "      <td>8.309908</td>\n",
       "      <td>20.419254</td>\n",
       "      <td>10.586110</td>\n",
       "      <td>8.953170</td>\n",
       "      <td>-1.000000</td>\n",
       "      <td>6.754940</td>\n",
       "      <td>26.262495</td>\n",
       "      <td>24.374662</td>\n",
       "      <td>20.938269</td>\n",
       "      <td>16.766867</td>\n",
       "    </tr>\n",
       "  </tbody>\n",
       "</table>\n",
       "<p>5 rows × 21 columns</p>\n",
       "</div>"
      ],
      "text/plain": [
       "  Unnamed: 0      item0      item1     item2     item3      item4     item5  \\\n",
       "0  supplier0  25.651062  16.885580  9.874869  4.073876  11.845272  4.486785   \n",
       "1  supplier1  25.449085  23.421934 -1.000000  3.909275  16.661481  3.346700   \n",
       "2  supplier2  -1.000000  -1.000000 -1.000000 -1.000000  14.708964 -1.000000   \n",
       "3  supplier3  18.783848  16.522449  9.714302  4.032726  14.839132 -1.000000   \n",
       "4  supplier4  19.389779  21.424714  7.225514  4.691130  12.496111  3.751246   \n",
       "\n",
       "      item6      item7      item8  ...    item10     item11     item12  \\\n",
       "0  2.600526  10.754414  11.321333  ...  8.981416  18.169675  -1.000000   \n",
       "1  2.515956  -1.000000  10.940784  ... -1.000000  18.169675  -1.000000   \n",
       "2  2.431386  14.080521  11.987294  ... -1.000000  19.207942  10.194032   \n",
       "3  2.262246  10.089192  10.560235  ... -1.000000  -1.000000  11.566305   \n",
       "4  2.410244  13.082689  -1.000000  ...  8.309908  20.419254  10.586110   \n",
       "\n",
       "     item13    item14    item15     item16     item17     item18     item19  \n",
       "0  6.955355 -1.000000  7.081792  23.158746  22.546562  -1.000000  12.837133  \n",
       "1  9.397129  3.742742  7.081792  23.397496  20.312218  -1.000000  15.849929  \n",
       "2  9.619108  4.668781  6.809415  27.694995  24.780906  -1.000000  -1.000000  \n",
       "3  8.805184  4.630196  6.319138  27.933745  -1.000000  27.917692  15.980921  \n",
       "4  8.953170 -1.000000  6.754940  26.262495  24.374662  20.938269  16.766867  \n",
       "\n",
       "[5 rows x 21 columns]"
      ]
     },
     "execution_count": 61,
     "metadata": {},
     "output_type": "execute_result"
    }
   ],
   "source": [
    "# Load Data\n",
    "supplier_data = os.path.join(os.getcwd(),'data/small-cost-mock.csv')\n",
    "supplier_df = pd.read_csv(supplier_data)\n",
    "supplier_df.head()"
   ]
  },
  {
   "cell_type": "code",
   "execution_count": 62,
   "metadata": {
    "collapsed": false
   },
   "outputs": [
    {
     "data": {
      "text/html": [
       "<div>\n",
       "<style scoped>\n",
       "    .dataframe tbody tr th:only-of-type {\n",
       "        vertical-align: middle;\n",
       "    }\n",
       "\n",
       "    .dataframe tbody tr th {\n",
       "        vertical-align: top;\n",
       "    }\n",
       "\n",
       "    .dataframe thead th {\n",
       "        text-align: right;\n",
       "    }\n",
       "</style>\n",
       "<table border=\"1\" class=\"dataframe\">\n",
       "  <thead>\n",
       "    <tr style=\"text-align: right;\">\n",
       "      <th></th>\n",
       "      <th>Unnamed: 0</th>\n",
       "      <th>item0</th>\n",
       "      <th>item1</th>\n",
       "      <th>item2</th>\n",
       "      <th>item3</th>\n",
       "      <th>item4</th>\n",
       "      <th>item5</th>\n",
       "      <th>item6</th>\n",
       "      <th>item7</th>\n",
       "      <th>item8</th>\n",
       "      <th>...</th>\n",
       "      <th>item10</th>\n",
       "      <th>item11</th>\n",
       "      <th>item12</th>\n",
       "      <th>item13</th>\n",
       "      <th>item14</th>\n",
       "      <th>item15</th>\n",
       "      <th>item16</th>\n",
       "      <th>item17</th>\n",
       "      <th>item18</th>\n",
       "      <th>item19</th>\n",
       "    </tr>\n",
       "  </thead>\n",
       "  <tbody>\n",
       "    <tr>\n",
       "      <th>0</th>\n",
       "      <td>price</td>\n",
       "      <td>61.562548</td>\n",
       "      <td>56.212641</td>\n",
       "      <td>24.663087</td>\n",
       "      <td>11.653756</td>\n",
       "      <td>39.987555</td>\n",
       "      <td>10.768284</td>\n",
       "      <td>6.241263</td>\n",
       "      <td>34.325428</td>\n",
       "      <td>28.769505</td>\n",
       "      <td>...</td>\n",
       "      <td>25.785897</td>\n",
       "      <td>51.49805</td>\n",
       "      <td>27.759133</td>\n",
       "      <td>23.08586</td>\n",
       "      <td>11.390282</td>\n",
       "      <td>16.996301</td>\n",
       "      <td>67.040988</td>\n",
       "      <td>59.474175</td>\n",
       "      <td>67.002461</td>\n",
       "      <td>40.240482</td>\n",
       "    </tr>\n",
       "  </tbody>\n",
       "</table>\n",
       "<p>1 rows × 21 columns</p>\n",
       "</div>"
      ],
      "text/plain": [
       "  Unnamed: 0      item0      item1      item2      item3      item4  \\\n",
       "0      price  61.562548  56.212641  24.663087  11.653756  39.987555   \n",
       "\n",
       "       item5     item6      item7      item8  ...     item10    item11  \\\n",
       "0  10.768284  6.241263  34.325428  28.769505  ...  25.785897  51.49805   \n",
       "\n",
       "      item12    item13     item14     item15     item16     item17     item18  \\\n",
       "0  27.759133  23.08586  11.390282  16.996301  67.040988  59.474175  67.002461   \n",
       "\n",
       "      item19  \n",
       "0  40.240482  \n",
       "\n",
       "[1 rows x 21 columns]"
      ]
     },
     "execution_count": 62,
     "metadata": {},
     "output_type": "execute_result"
    }
   ],
   "source": [
    "profit_data = os.path.join(os.getcwd(),'data/small-price-mock.csv')\n",
    "profit_df = pd.read_csv(profit_data)\n",
    "profit_df.head()"
   ]
  },
  {
   "cell_type": "code",
   "execution_count": 63,
   "metadata": {
    "collapsed": false
   },
   "outputs": [
    {
     "name": "stdout",
     "output_type": "stream",
     "text": [
      "average cost: [2210, 2021, 899, 437, 1444, 375, 240, 1266, 1097, 1794, 933, 1948, 1011, 830, 416, 648, 2510, 2222, 2594, 1515]\n",
      "item profit: [6156, 5621, 2466, 1165, 3999, 1077, 624, 3433, 2877, 4945, 2579, 5150, 2776, 2309, 1139, 1700, 6704, 5947, 6700, 4024]\n",
      "budget: 627919\n"
     ]
    }
   ],
   "source": [
    "item_list = list(supplier_df.columns[1:])\n",
    "item_avg_cost=[np.int64(round(np.average([i for i in supplier_df[item] if i>0])*100)) for item in item_list] # unit: cent\n",
    "item_profit = [np.int64(round(p*100)) for p in list(profit_df.iloc[0,1:])] # unit: cent\n",
    "budget = round(sum(item_avg_cost)*50*np.random.rand())\n",
    "\n",
    "print('average cost:', item_avg_cost)\n",
    "print('item profit:',item_profit)\n",
    "print('budget:',budget)"
   ]
  },
  {
   "cell_type": "markdown",
   "metadata": {},
   "source": [
    "### Solve Bounded Knapsack Problem 1: All Items have the Same Bound"
   ]
  },
  {
   "cell_type": "code",
   "execution_count": 64,
   "metadata": {
    "collapsed": false
   },
   "outputs": [
    {
     "name": "stdout",
     "output_type": "stream",
     "text": [
      "fixed bound: 50\n",
      "[18, 16, 11, 16, 22, 30, 36, 32, 1, 5, 38, 2, 27, 33, 19, 46, 44, 50, 19, 11]\n",
      "Total cost: 610474\n",
      "Total profit: 1649902\n"
     ]
    }
   ],
   "source": [
    "fixed_bound = 50\n",
    "print('fixed bound:',fixed_bound)\n",
    "\n",
    "(dqm,x) = build_knapsack_dqm_fixedbound(item_profit, item_avg_cost, budget, fixed_bound)\n",
    "best_solution = solve_dqm(dqm,x)\n",
    "\n",
    "total_costs = sum([item_avg_cost[i]*best_solution[i] for i in range(len(x))])\n",
    "total_profit = sum([item_profit[i]*best_solution[i] for i in range(len(x))])\n",
    "    \n",
    "print('Total cost:',total_costs)\n",
    "print('Total profit:',total_profit)"
   ]
  },
  {
   "cell_type": "markdown",
   "metadata": {},
   "source": [
    "### Solve Bounded Knapsack Problem 2: Each Item has Different Bounds"
   ]
  },
  {
   "cell_type": "code",
   "execution_count": null,
   "metadata": {
    "collapsed": false
   },
   "outputs": [
    {
     "name": "stdout",
     "output_type": "stream",
     "text": [
      "variable bounds: [12, 13, 38, 36, 14, 30, 46, 16, 11, 13, 33, 17]\n"
     ]
    }
   ],
   "source": [
    "# Define an array of bounds\n",
    "variable_bounds = list(np.random.randint(10, 50,size=(num_of_items)))\n",
    "print('variable bounds:',variable_bounds)\n",
    "\n",
    "(dqm,x) = build_knapsack_dqm_variablebound(item_profit, item_avg_cost, budget, variable_bounds)\n",
    "best_solution = solve_dqm(dqm,x)\n",
    "\n",
    "total_costs = sum([item_avg_cost[i]*best_solution[i] for i in range(len(x))])\n",
    "total_profit = sum([item_profit[i]*best_solution[i] for i in range(len(x))])\n",
    "    \n",
    "print('Total cost:',total_costs)\n",
    "print('Total profit:',total_profit)"
   ]
  }
 ],
 "metadata": {
  "kernelspec": {
   "display_name": "cdl",
   "language": "python",
   "name": "cdl"
  },
  "language_info": {
   "codemirror_mode": {
    "name": "ipython",
    "version": 3
   },
   "file_extension": ".py",
   "mimetype": "text/x-python",
   "name": "python",
   "nbconvert_exporter": "python",
   "pygments_lexer": "ipython3",
   "version": "3.9.6"
  }
 },
 "nbformat": 4,
 "nbformat_minor": 2
}
