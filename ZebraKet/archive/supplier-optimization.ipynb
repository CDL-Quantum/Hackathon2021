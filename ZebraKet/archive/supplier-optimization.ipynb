{
 "cells": [
  {
   "cell_type": "code",
   "execution_count": 1,
   "source": [
    "import os \n",
    "os.chdir('..')  # Path hack: NOTE if you run this cell multiple times, you might need to comment this line out\n",
    "from utils.data import read_inventory_optimization_data\n",
    "from config import standard_mock_data\n",
    "from services.classical_optimizers import binary_supplier_optimizer\n",
    "from models.SupplierQubo import SupplierQubo\n",
    "from neal import SimulatedAnnealingSampler\n",
    "from dwave.system import LeapHybridSampler"
   ],
   "outputs": [],
   "metadata": {}
  },
  {
   "cell_type": "markdown",
   "source": [
    "First let's read in our data. We can start off with the small data set"
   ],
   "metadata": {}
  },
  {
   "cell_type": "code",
   "execution_count": 2,
   "source": [
    "inventory, supplier_inventories = read_inventory_optimization_data(standard_mock_data['small'])\n",
    "# TODO: Somehow visualize the data"
   ],
   "outputs": [],
   "metadata": {}
  },
  {
   "cell_type": "markdown",
   "source": [
    "Next lets try our classical solution to this"
   ],
   "metadata": {}
  },
  {
   "cell_type": "code",
   "execution_count": 3,
   "source": [
    "cover = binary_supplier_optimizer(inventory, supplier_inventories)\n",
    "print(cover)\n",
    "# TODO: Somehow visualize the result and make it comparable to the next steps"
   ],
   "outputs": [
    {
     "output_type": "stream",
     "name": "stdout",
     "text": [
      "[{'item6', 'item4', 'item2', 'item0', 'item11', 'item5', 'item3', 'item7', 'item10', 'item12', 'item16', 'item9', 'item8', 'item19', 'item18', 'item1', 'item15'}, {'item2', 'item0', 'item11', 'item5', 'item3', 'item7', 'item10', 'item16', 'item14', 'item9', 'item13', 'item18', 'item8', 'item17', 'item1', 'item19'}]\n"
     ]
    }
   ],
   "metadata": {}
  },
  {
   "cell_type": "markdown",
   "source": [
    "Now lets also try our Qubo formulation\n",
    "First, lets use the simulated annealing"
   ],
   "metadata": {}
  },
  {
   "cell_type": "code",
   "execution_count": 4,
   "source": [
    "qubo = SupplierQubo(inventory, supplier_inventories)\n",
    "sampler = SimulatedAnnealingSampler().sample\n",
    "qubo.solve(sampler, **{\"num_reads\":100, \"num_sweeps\": 100000})\n",
    "print(qubo.solution_set)\n",
    "#TODO: Better way to visualize the solution set (add a method in AbstractQubo.py)"
   ],
   "outputs": [
    {
     "output_type": "stream",
     "name": "stdout",
     "text": [
      "   x_1 x_10 x_2 x_3 x_4 x_5 x_6 x_7 x_8 x_9 ... y_(9, 9) energy num_oc.\n",
      "11   1    1   0   1   0   0   0   1   0   1 ...        0  -17.0       1\n",
      "22   1    1   1   1   1   0   1   0   1   0 ...        0  -13.0       1\n",
      "10   1    1   1   1   1   1   0   1   0   1 ...        0  -12.0       1\n",
      "7    1    0   1   0   1   1   1   1   0   1 ...        0  -11.0       1\n",
      "60   1    1   1   0   1   1   1   0   1   0 ...        0  -11.0       1\n",
      "63   1    1   1   0   0   0   1   1   1   1 ...        0  -11.0       1\n",
      "14   1    1   1   1   1   1   1   0   0   1 ...        0  -10.0       1\n",
      "24   1    1   1   0   1   0   1   1   1   1 ...        0  -10.0       1\n",
      "27   1    1   1   0   1   1   0   1   1   1 ...        0  -10.0       1\n",
      "47   1    1   0   1   0   1   1   1   1   1 ...        0  -10.0       1\n",
      "53   1    1   1   0   1   1   1   1   0   1 ...        0  -10.0       1\n",
      "69   1    1   1   1   1   1   0   1   0   1 ...        0  -10.0       1\n",
      "72   1    1   1   1   0   0   1   1   0   0 ...        0  -10.0       1\n",
      "98   1    1   1   0   1   1   1   0   1   1 ...        0  -10.0       1\n",
      "52   0    0   1   1   1   1   1   1   0   1 ...        0   -9.0       1\n",
      "80   0    1   0   1   1   0   1   1   1   1 ...        0   -9.0       1\n",
      "90   1    1   1   0   0   1   1   1   1   0 ...        0   -9.0       1\n",
      "23   0    1   1   0   0   1   1   0   1   1 ...        0   -8.0       1\n",
      "84   1    1   1   1   0   0   1   1   1   1 ...        0   -8.0       1\n",
      "88   1    1   1   1   0   1   0   1   1   1 ...        0   -8.0       1\n",
      "58   1    0   1   1   1   1   1   1   1   1 ...        0   -7.0       1\n",
      "81   0    1   1   1   1   1   1   1   1   1 ...        0   -7.0       1\n",
      "16   1    1   1   1   1   1   0   1   1   0 ...        0   -6.0       1\n",
      "76   1    1   1   1   1   0   1   1   0   1 ...        0   -6.0       1\n",
      "85   1    1   1   1   0   0   1   1   1   1 ...        0   -6.0       1\n",
      "20   1    0   1   1   1   1   1   1   1   1 ...        0   -5.0       1\n",
      "25   0    1   1   1   1   1   1   1   1   1 ...        0   -5.0       1\n",
      "41   1    1   1   1   0   1   1   1   0   0 ...        0   -5.0       1\n",
      "78   0    1   1   1   1   1   1   1   1   1 ...        0   -5.0       1\n",
      "86   1    1   1   1   1   1   1   1   1   0 ...        0   -5.0       1\n",
      "4    1    1   1   1   1   1   0   1   1   0 ...        0   -4.0       1\n",
      "21   1    1   1   1   1   1   1   1   1   1 ...        1   -4.0       1\n",
      "28   1    1   1   1   1   0   1   1   0   1 ...        0   -4.0       1\n",
      "31   0    1   1   1   1   0   1   1   1   1 ...        0   -4.0       1\n",
      "48   1    1   1   0   1   0   1   1   1   1 ...        1   -4.0       1\n",
      "83   1    1   0   1   0   1   1   1   1   1 ...        0   -4.0       1\n",
      "61   1    1   1   1   0   0   0   1   1   1 ...        0   -3.0       1\n",
      "91   0    0   1   1   0   1   1   1   1   1 ...        0   -3.0       1\n",
      "92   0    0   1   1   1   0   1   1   1   1 ...        0   -3.0       1\n",
      "96   1    1   1   0   0   1   1   1   1   0 ...        0   -3.0       1\n",
      "5    1    0   1   1   0   1   1   1   1   1 ...        0   -2.0       1\n",
      "17   1    1   1   1   0   1   1   0   1   1 ...        0   -2.0       1\n",
      "42   0    0   1   1   1   1   1   1   1   1 ...        0   -2.0       1\n",
      "44   1    1   1   1   0   1   1   1   0   1 ...        0   -2.0       1\n",
      "55   1    1   1   1   1   1   1   1   1   1 ...        0   -2.0       1\n",
      "59   1    1   1   1   1   1   1   1   1   1 ...        1   -2.0       1\n",
      "99   1    1   1   1   0   1   1   1   0   1 ...        0   -2.0       1\n",
      "29   1    1   1   1   1   1   1   1   0   1 ...        0   -1.0       1\n",
      "51   1    1   1   1   1   1   0   1   1   1 ...        0   -1.0       1\n",
      "71   1    1   1   1   1   1   1   1   1   0 ...        0   -1.0       1\n",
      "8    1    1   1   1   1   0   1   0   1   1 ...        0    0.0       1\n",
      "19   1    1   1   1   1   1   1   0   1   0 ...        0    0.0       1\n",
      "56   1    1   1   1   1   1   1   1   1   1 ...        0    0.0       1\n",
      "3    1    1   1   1   1   1   1   1   0   1 ...        0    1.0       1\n",
      "15   1    1   1   1   0   1   1   1   1   1 ...        0    1.0       1\n",
      "18   1    1   1   1   1   1   1   0   1   1 ...        0    1.0       1\n",
      "26   1    0   1   1   1   1   1   1   1   1 ...        0    1.0       1\n",
      "38   1    1   1   1   0   1   1   1   1   1 ...        0    1.0       1\n",
      "46   1    1   1   1   0   1   1   1   1   1 ...        0    1.0       1\n",
      "67   0    1   1   1   1   1   1   1   0   1 ...        0    2.0       1\n",
      "75   1    1   1   1   1   1   1   1   1   1 ...        1    2.0       1\n",
      "77   1    1   1   1   0   1   1   1   0   1 ...        0    2.0       1\n",
      "43   1    1   1   1   0   1   1   0   0   1 ...        0    3.0       1\n",
      "54   1    1   1   1   1   1   0   1   1   1 ...        0    3.0       1\n",
      "66   1    1   0   1   1   1   1   1   1   1 ...        0    3.0       1\n",
      "70   1    1   1   1   1   1   1   1   0   1 ...        1    3.0       1\n",
      "13   0    1   1   1   0   1   1   1   1   1 ...        0    4.0       1\n",
      "30   1    1   1   1   1   1   1   1   1   1 ...        0    4.0       1\n",
      "64   1    1   1   0   1   1   1   0   1   1 ...        0    4.0       1\n",
      "87   1    1   1   1   0   1   1   1   0   1 ...        0    4.0       1\n",
      "6    1    1   1   1   0   1   1   1   1   1 ...        0    5.0       1\n",
      "9    1    1   1   1   1   0   1   1   1   1 ...        0    5.0       1\n",
      "33   1    1   1   1   1   0   1   1   1   1 ...        0    5.0       1\n",
      "40   1    1   1   1   0   1   1   1   1   1 ...        0    5.0       1\n",
      "45   1    1   1   0   1   1   1   1   1   1 ...        0    5.0       1\n",
      "74   1    1   1   1   0   1   1   1   1   1 ...        0    5.0       1\n",
      "79   1    0   1   1   1   1   1   1   1   1 ...        1    5.0       1\n",
      "2    1    1   1   1   1   1   1   1   1   1 ...        0    6.0       1\n",
      "36   1    1   1   1   1   1   1   1   1   1 ...        0    6.0       1\n",
      "49   1    1   1   1   1   1   1   1   1   1 ...        0    6.0       1\n",
      "82   1    1   0   1   0   0   1   1   1   1 ...        0    7.0       1\n",
      "1    1    1   0   1   1   1   1   1   0   1 ...        0    8.0       1\n",
      "39   1    1   1   1   1   1   1   1   1   1 ...        0    8.0       1\n",
      "57   1    1   1   1   1   1   1   0   0   1 ...        0    8.0       1\n",
      "95   1    1   1   0   1   1   1   0   1   1 ...        0    8.0       1\n",
      "97   1    1   0   1   0   1   1   1   1   1 ...        0    8.0       1\n",
      "12   1    1   1   1   1   1   1   0   1   1 ...        0    9.0       1\n",
      "94   1    0   1   1   1   1   1   1   1   1 ...        0    9.0       1\n",
      "35   1    1   1   1   1   1   1   1   1   1 ...        0   10.0       1\n",
      "73   1    1   1   1   1   1   1   1   1   1 ...        0   10.0       1\n",
      "32   1    1   1   0   1   1   1   1   1   1 ...        0   11.0       1\n",
      "62   0    1   1   1   1   1   1   1   1   1 ...        0   11.0       1\n",
      "65   1    1   1   1   1   1   0   1   1   1 ...        0   11.0       1\n",
      "89   1    0   1   1   1   1   1   1   1   1 ...        0   11.0       1\n",
      "68   1    1   1   1   1   1   1   1   1   1 ...        0   12.0       1\n",
      "93   1    1   1   1   1   1   1   1   1   1 ...        0   12.0       1\n",
      "50   1    1   1   1   0   1   1   1   1   1 ...        0   13.0       1\n",
      "37   1    1   0   1   1   1   1   1   1   1 ...        0   17.0       1\n",
      "34   1    1   1   1   1   1   1   1   1   1 ...        0   18.0       1\n",
      "0    1    1   1   1   1   1   1   1   1   1 ...        0   22.0       1\n",
      "['BINARY', 100 rows, 100 samples, 210 variables]\n"
     ]
    }
   ],
   "metadata": {}
  },
  {
   "cell_type": "markdown",
   "source": [
    "Next, lets try the HybridSolver"
   ],
   "metadata": {}
  },
  {
   "cell_type": "code",
   "execution_count": 5,
   "source": [
    "sampler = LeapHybridSampler().sample\n",
    "qubo.solve(sampler)\n",
    "print(qubo.solution_set)"
   ],
   "outputs": [
    {
     "output_type": "stream",
     "name": "stdout",
     "text": [
      "  x_1 x_10 x_2 x_3 x_4 x_5 x_6 x_7 x_8 x_9 y_(1, 1) ... y_(9, 9) energy num_oc.\n",
      "0   0    1   0   1   0   1   0   0   0   0        0 ...        0  -23.0       1\n",
      "['BINARY', 1 rows, 1 samples, 210 variables]\n"
     ]
    }
   ],
   "metadata": {}
  }
 ],
 "metadata": {
  "orig_nbformat": 4,
  "language_info": {
   "name": "python",
   "version": "3.9.5",
   "mimetype": "text/x-python",
   "codemirror_mode": {
    "name": "ipython",
    "version": 3
   },
   "pygments_lexer": "ipython3",
   "nbconvert_exporter": "python",
   "file_extension": ".py"
  },
  "kernelspec": {
   "name": "python3",
   "display_name": "Python 3.9.5 64-bit ('zebraket-cdl-hackathon-2021': conda)"
  },
  "interpreter": {
   "hash": "5f20994d19ff6c8c5cec1db5b7f7944e8fd16ef471b6d6e4ac9b86936de59e16"
  }
 },
 "nbformat": 4,
 "nbformat_minor": 2
}