{
 "cells": [
  {
   "cell_type": "code",
   "execution_count": 2,
   "id": "43a9f419",
   "metadata": {},
   "outputs": [],
   "source": [
    "import strawberryfields as sf\n",
    "import numpy as np\n",
    "import matplotlib.pyplot as plt\n",
    "import matplotlib as mpl\n",
    "from matplotlib import cm\n",
    "\n",
    "import seaborn as sns"
   ]
  },
  {
   "cell_type": "code",
   "execution_count": 722,
   "id": "54be6a19",
   "metadata": {},
   "outputs": [],
   "source": [
    "def OneModeCoherentHO(Ns,t,nth,shots):\n",
    "    \"\"\"\n",
    "    Function that performs sensing using a single coherent state and performing homodyne measurements\n",
    "    \n",
    "    Args:\n",
    "    \n",
    "        Ns (float) : Average number of photons in the #1 mode\n",
    "        t,nth (float,float) : channel transmittivity and number of thermal photons for the thermal loss channel\n",
    "        shots (integer) : number of repeated iid measurements to perform\n",
    "    \n",
    "    Returns:\n",
    "    \n",
    "        list, list (complex,complex): returns the complex signal <X>+i<P> of both modes\n",
    "    \n",
    "    \n",
    "    \n",
    "    \"\"\"\n",
    "    s1 = np.zeros(shots)\n",
    "\n",
    "    alpha = np.sqrt(Ns/4)\n",
    "    \n",
    "    for i in range(shots):\n",
    "        prog= sf.Program(1)\n",
    "        \n",
    "        with prog.context as q:\n",
    "        \n",
    "            sf.ops.Coherent(alpha) | q[0] # State preparation\n",
    "            sf.ops.ThermalLossChannel(t,nth) | q[0] # Thermal loss channel mimicing target\n",
    "     \n",
    "            sf.ops.MeasureX | q[0] # Het. Msmnt of signal 1\n",
    "\n",
    "\n",
    "        # Need to run twice because of bug in the bosonic backend in dealing with repeated HD measurements\n",
    "    \n",
    "        eng = sf.Engine(\"bosonic\")\n",
    "        results = eng.run(prog)\n",
    "    \n",
    "        #Collecting the samples\n",
    "        samples = results.all_samples\n",
    "    \n",
    "        #Creating the measurement records\n",
    "        s1[i] = samples[0][0]\n",
    "    \n",
    "    # Interation over number of shots is done, outputing the records\n",
    "    \n",
    "    return s1\n",
    "\n",
    "def OneModeCoherentHD(Ns,t,nth,shots):\n",
    "    \"\"\"\n",
    "    Function that performs sensing using a single coherent state and performing heterodyne measurements\n",
    "\n",
    "    Args:\n",
    "    \n",
    "        Ns (float) : Average number of photons in the #1 mode\n",
    "        t,nth (float,float) : channel transmittivity and number of thermal photons for the thermal loss channel\n",
    "        shots (integer) : number of repeated iid measurements to perform\n",
    "    \n",
    "    Returns:\n",
    "    \n",
    "        list, list (complex,complex): returns the complex signal <X>+i<P> of both modes\n",
    "    \n",
    "    \n",
    "    \n",
    "    \"\"\"\n",
    "    s1 = (1+1j)*np.zeros(shots)\n",
    "\n",
    "    alpha = np.sqrt(Ns/4)\n",
    "    \n",
    "    for i in range(shots):\n",
    "        prog= sf.Program(1)\n",
    "        \n",
    "        with prog.context as q:\n",
    "        \n",
    "            sf.ops.Coherent(alpha) | q[0] # State preparation\n",
    "            sf.ops.ThermalLossChannel(t,nth) | q[0] # Thermal loss channel mimicing target\n",
    "     \n",
    "            sf.ops.MeasureHD | q[0] # Het. Msmnt of signal 1\n",
    "\n",
    "\n",
    "        # Need to run twice because of bug in the bosonic backend in dealing with repeated HD measurements\n",
    "    \n",
    "        eng = sf.Engine(\"bosonic\")\n",
    "        results = eng.run(prog)\n",
    "        \n",
    "    \n",
    "        #Collecting the samples\n",
    "        samples = results.all_samples\n",
    "    \n",
    "        #Creating the measurement records\n",
    "        s1[i] = samples[0][0]\n",
    "    \n",
    "    # Interation over number of shots is done, outputing the records\n",
    "    \n",
    "    return s1\n",
    "\n",
    "\n",
    "def TwoModeSqueezedHD(Ns,t,nth,shots):\n",
    "    \n",
    "    \"\"\"\n",
    "    Function that performs sensing using two-mode squeezing and performing heterodyne measurements\n",
    "    \n",
    "    Args:\n",
    "    \n",
    "        Ns (float) : Average number of photons in the #1 mode\n",
    "        t,nth (float,float) : channel transmittivity and number of thermal photons for the thermal loss channel\n",
    "        shots (integer) : number of repeated iid measurements to perform\n",
    "    \n",
    "    Returns:\n",
    "    \n",
    "        list, list (complex,complex): returns the complex signal <X>+i<P> of both modes\n",
    "    \n",
    "    \n",
    "    \n",
    "    \"\"\"\n",
    "    \n",
    "    s1 = (1+1j)*np.zeros(shots)\n",
    "    s2 = (1+1j)*np.zeros(shots)\n",
    "    \n",
    "    r = np.arcsinh(np.sqrt(Ns/2))\n",
    "    \n",
    "    for i in range(shots):\n",
    "        prog= sf.Program(2)\n",
    "        \n",
    "        with prog.context as q:\n",
    "        \n",
    "            sf.ops.S2gate(r,0) | (q[0],q[1]) # State preparation\n",
    "            sf.ops.ThermalLossChannel(t,nth) | q[0] # Thermal loss channel mimicing target\n",
    "     \n",
    "            sf.ops.MeasureHD | q[0] # Het. Msmnt of signal 1\n",
    "            sf.ops.MeasureHD | q[1] # Het. Msmnt of signal 2\n",
    "\n",
    "        # Need to run twice because of bug in the bosonic backend in dealing with repeated HD measurements\n",
    "    \n",
    "        eng = sf.Engine(\"bosonic\")\n",
    "        results = eng.run(prog)\n",
    "        eng = sf.Engine(\"bosonic\")\n",
    "        results = eng.run(prog)\n",
    "    \n",
    "        #Collecting the samples\n",
    "        samples = results.all_samples\n",
    "    \n",
    "        #Creating the measurement records\n",
    "        s1[i] = samples[0][0]\n",
    "        s2[i] = samples[1][0]\n",
    "    \n",
    "    # Interation over number of shots is done, outputing the records\n",
    "    \n",
    "    return s1,s2\n",
    "\n",
    "def TwoModeThermalHD(Ns,t,nth,shots):\n",
    "    \n",
    "    \"\"\"\n",
    "    Function that performs sensing using two-mode thermal states that are classically correlated and performing heterodyne measurements\n",
    "    \n",
    "    Args:\n",
    "    \n",
    "        Ns (float) : Average number of photons in the #1 mode\n",
    "        t,nth (float,float) : channel transmittivity and number of thermal photons for the thermal loss channel\n",
    "        shots (integer) : number of repeated iid measurements to perform\n",
    "    \n",
    "    Returns:\n",
    "    \n",
    "        list, list (complex,complex): returns the complex signal <X>+i<P> of both modes\n",
    "    \n",
    "    \n",
    "    \n",
    "    \"\"\"\n",
    "    \n",
    "    s1 = (1+1j)*np.zeros(shots)\n",
    "    s2 = (1+1j)*np.zeros(shots)\n",
    "    \n",
    "\n",
    "    \n",
    "    for i in range(shots):\n",
    "        prog= sf.Program(2)\n",
    "        \n",
    "        with prog.context as q:\n",
    "        \n",
    "            sf.ops.Thermal(Ns) | q[0] # State preparation\n",
    "            sf.ops.BSgate() | (q[0],q[1])\n",
    "            \n",
    "            sf.ops.ThermalLossChannel(t,nth) | q[0] # Thermal loss channel mimicing target\n",
    "     \n",
    "            sf.ops.MeasureHD | q[0] # Het. Msmnt of signal 1\n",
    "            sf.ops.MeasureHD | q[1] # Het. Msmnt of signal 2\n",
    "\n",
    "        # Need to run twice because of bug in the bosonic backend in dealing with repeated HD measurements\n",
    "    \n",
    "        eng = sf.Engine(\"bosonic\")\n",
    "        results = eng.run(prog)\n",
    "        eng = sf.Engine(\"bosonic\")\n",
    "        results = eng.run(prog)\n",
    "    \n",
    "       \n",
    "        \n",
    "        #Collecting the samples\n",
    "        samples = results.all_samples\n",
    "    \n",
    "        #Creating the measurement records\n",
    "        s1[i] = samples[0][0]\n",
    "        s2[i] = samples[1][0]\n",
    "    \n",
    "    # Interation over number of shots is done, outputing the records\n",
    "    \n",
    "    return s1,s2\n",
    "\n",
    "def SNR(op0, op1):\n",
    "    \"\"\" Function that evaluates the signal-to-noise ratio of a given operator depending \n",
    "    on the msmt statistics on a binary outcome repeated over N independant and inditically distributed measurements.\n",
    "    \n",
    "        We define SNR as\n",
    "        SNR = N* |<op1> - <op0>|^2 / ((Var[op0]+ Var[op1])/2)\n",
    "        \n",
    "        <x> statistical average of operator x\n",
    "        Var[x] denotes the variance of x\n",
    "        N = len(x) : the number of samples in the measurement records\n",
    "        \n",
    "    Args:\n",
    "    \n",
    "        op0, op1 (complex array length N ) : array N elements with the expectation values over N iids of an operator op given the binary outcome 0 or 1\n",
    "        \n",
    "    \n",
    "    Returns:\n",
    "    \n",
    "        float: SNR calculation from the above equation\n",
    "        \n",
    "        \n",
    "        \n",
    "    \n",
    "    \"\"\"\n",
    "    result = len(op0)*np.abs(np.mean(op1) - np.mean(op0))**2/((np.var(op1)+np.var(op0))/2)\n",
    "    \n",
    "    return result\n"
   ]
  },
  {
   "cell_type": "markdown",
   "id": "a61d3295",
   "metadata": {},
   "source": [
    "Ok so now, we need to have a binary hypothesis test:\n",
    "\n",
    "Target absent : H = 0 s1 is completely lost and totally replaced by atmospheric noise. Channel transmittivity t =0\n",
    "\n",
    "Target present : H =1 s1 is reflected with probability r = 1 - t, where t is the channel transmittivity\n",
    "\n"
   ]
  },
  {
   "cell_type": "markdown",
   "id": "2d12be33",
   "metadata": {},
   "source": [
    "Overall setup configuration"
   ]
  },
  {
   "cell_type": "code",
   "execution_count": 723,
   "id": "d769d0c0",
   "metadata": {},
   "outputs": [],
   "source": [
    "#Transmit power parameters\n",
    "Ns = 10\n",
    "\n",
    "#Loss Channel parameters\n",
    "nth=1000\n",
    "t=0.0001\n",
    "\n",
    "# Number of measurements\n",
    "shots=10000\n",
    "\n",
    "np.random.seed(42)"
   ]
  },
  {
   "cell_type": "markdown",
   "id": "0adf26ad",
   "metadata": {},
   "source": [
    "COHERENT STATE + HOMODYNE DETECTION"
   ]
  },
  {
   "cell_type": "code",
   "execution_count": 724,
   "id": "f3cde147",
   "metadata": {},
   "outputs": [],
   "source": [
    "#Target Absent \n",
    "s10 = np.zeros(shots)\n",
    "\n",
    "s10 = OneModeCoherentHO(Ns,0,nth,shots)\n",
    "M0=s10\n",
    "\n",
    "# Target Present\n",
    "s11 = np.zeros(shots)\n",
    "s11 = OneModeCoherentHO(Ns,t,nth/np.sqrt(1-t),shots)\n",
    "M1=s11\n",
    "\n",
    "SNR_CHO=SNR(M0,M1)"
   ]
  },
  {
   "cell_type": "code",
   "execution_count": 725,
   "id": "7124460b",
   "metadata": {},
   "outputs": [
    {
     "name": "stdout",
     "output_type": "stream",
     "text": [
      "0.8024701742978395\n"
     ]
    }
   ],
   "source": [
    "print(SNR_CHO)"
   ]
  },
  {
   "cell_type": "code",
   "execution_count": 726,
   "id": "f4a68b27",
   "metadata": {},
   "outputs": [
    {
     "data": {
      "image/png": "[encoded data removed]",
      "text/plain": [
       "<Figure size 432x288 with 1 Axes>"
      ]
     },
     "metadata": {},
     "output_type": "display_data"
    }
   ],
   "source": [
    "plt.hist(M0,bins=100);\n",
    "plt.hist(M1,bins=100);\n",
    "plt.show()"
   ]
  },
  {
   "cell_type": "markdown",
   "id": "1fdeee87",
   "metadata": {},
   "source": [
    "COHERENT STATE + HETERODYNE DETECTION"
   ]
  },
  {
   "cell_type": "code",
   "execution_count": 727,
   "id": "5d893e42",
   "metadata": {},
   "outputs": [],
   "source": [
    "#Target Absent \n",
    "s10 = np.zeros(shots)\n",
    "s10 = OneModeCoherentHD(Ns,0,nth,shots)\n",
    "\n",
    "# Target Present\n",
    "s11 = np.zeros(shots)\n",
    "s11 = OneModeCoherentHD(Ns,t,nth/np.sqrt(1-t),shots)\n",
    "\n",
    "M0=s10.real*s10.real + s10.imag*s10.imag\n",
    "M1=s11.real*s11.real + s11.imag*s11.imag\n",
    "\n",
    "SNR_CHD=SNR(M0,M1)"
   ]
  },
  {
   "cell_type": "code",
   "execution_count": 728,
   "id": "82b295b5",
   "metadata": {},
   "outputs": [
    {
     "data": {
      "image/png": "[encoded data removed]",
      "text/plain": [
       "<Figure size 432x288 with 1 Axes>"
      ]
     },
     "metadata": {},
     "output_type": "display_data"
    }
   ],
   "source": [
    "plt.hist(M0,bins=100);\n",
    "plt.hist(M1,bins=100);\n",
    "plt.show()"
   ]
  },
  {
   "cell_type": "code",
   "execution_count": 729,
   "id": "4de0830d",
   "metadata": {},
   "outputs": [
    {
     "name": "stdout",
     "output_type": "stream",
     "text": [
      "0.3364100310419132\n"
     ]
    }
   ],
   "source": [
    "print(SNR_CHD)"
   ]
  },
  {
   "cell_type": "markdown",
   "id": "11bf4a2d",
   "metadata": {},
   "source": [
    "TWO-MODE THERMAL STATES (Classically correlated) + HETERODYNE"
   ]
  },
  {
   "cell_type": "code",
   "execution_count": 730,
   "id": "b6ecf862",
   "metadata": {},
   "outputs": [],
   "source": [
    "#Target Absent \n",
    "s10 = (1+1j)*np.zeros(shots)\n",
    "s20 = (1+1j)*np.zeros(shots)\n",
    "\n",
    "s10,s20 = TwoModeThermalHD(Ns,0,nth,shots)\n",
    "M0=s10.real*s20.real + s10.imag*s20.imag\n",
    "\n",
    "# Target Present\n",
    "s11 = (1+1j)*np.zeros(shots)\n",
    "s21 = (1+1j)*np.zeros(shots)\n",
    "\n",
    "s11,s21 = TwoModeThermalHD(Ns,t,nth/np.sqrt(1-t),shots)\n",
    "\n",
    "M1=s11.real*s21.real + s11.imag*s21.imag\n",
    "\n",
    "SNR_2TH = SNR(M0,M1)"
   ]
  },
  {
   "cell_type": "code",
   "execution_count": 731,
   "id": "7de433c9",
   "metadata": {},
   "outputs": [
    {
     "name": "stdout",
     "output_type": "stream",
     "text": [
      "4.6189223712277725\n"
     ]
    }
   ],
   "source": [
    "print(SNR_2TH)"
   ]
  },
  {
   "cell_type": "code",
   "execution_count": 732,
   "id": "43762a75",
   "metadata": {},
   "outputs": [
    {
     "data": {
      "image/png": "[encoded data removed]",
      "text/plain": [
       "<Figure size 432x288 with 1 Axes>"
      ]
     },
     "metadata": {},
     "output_type": "display_data"
    }
   ],
   "source": [
    "plt.hist(M0,bins=100);\n",
    "plt.hist(M1,bins=100);\n",
    "plt.show()"
   ]
  },
  {
   "cell_type": "markdown",
   "id": "072de0e8",
   "metadata": {},
   "source": [
    "TWO-MODE SQUEEZED STATES + HETERODYNE"
   ]
  },
  {
   "cell_type": "code",
   "execution_count": 737,
   "id": "eb9ffba3",
   "metadata": {},
   "outputs": [],
   "source": [
    "#Target Absent \n",
    "M0 = np.zeros(shots)\n",
    "s10 = (1+1j)*np.zeros(shots)\n",
    "s20 = (1+1j)*np.zeros(shots)\n",
    "\n",
    "s10,s20 = TwoModeSqueezedHD(Ns,0,nth,shots)\n",
    "M0=s10.real*s20.real - s10.imag*s20.imag\n",
    "\n",
    "# Target Present\n",
    "M1 = np.zeros(shots)\n",
    "s11 = (1+1j)*np.zeros(shots)\n",
    "s21 = (1+1j)*np.zeros(shots)\n",
    "\n",
    "\n",
    "s11,s21 = TwoModeSqueezedHD(Ns,t,nth/np.sqrt(1-t),shots)\n",
    "M1=s11.real*s21.real - s11.imag*s21.imag\n",
    "\n",
    "SNR_2SQ = SNR(M0,M1)"
   ]
  },
  {
   "cell_type": "code",
   "execution_count": 738,
   "id": "caa91619",
   "metadata": {},
   "outputs": [
    {
     "name": "stdout",
     "output_type": "stream",
     "text": [
      "0.3896304715272131\n"
     ]
    }
   ],
   "source": [
    "print(SNR_2SQ)"
   ]
  },
  {
   "cell_type": "code",
   "execution_count": 739,
   "id": "2137e786",
   "metadata": {},
   "outputs": [
    {
     "data": {
      "image/png": "[encoded data removed]",
      "text/plain": [
       "<Figure size 432x288 with 1 Axes>"
      ]
     },
     "metadata": {},
     "output_type": "display_data"
    }
   ],
   "source": [
    "plt.hist(M0.real,bins=100);\n",
    "plt.hist(M1.real,bins=100);\n",
    "plt.show()"
   ]
  },
  {
   "cell_type": "code",
   "execution_count": null,
   "id": "f47e5440",
   "metadata": {},
   "outputs": [],
   "source": []
  },
  {
   "cell_type": "markdown",
   "id": "6debb5f4",
   "metadata": {},
   "source": [
    "CHECKS"
   ]
  },
  {
   "cell_type": "code",
   "execution_count": 736,
   "id": "f277a04a",
   "metadata": {},
   "outputs": [
    {
     "name": "stdout",
     "output_type": "stream",
     "text": [
      "[0. 0.] [[11.  0.]\n",
      " [ 0. 11.]]\n",
      "[10.  0.] [[1. 0.]\n",
      " [0. 1.]]\n",
      "[0. 0. 0. 0.] [[ 11.          10.95445115   0.           0.        ]\n",
      " [ 10.95445115  11.           0.           0.        ]\n",
      " [  0.           0.          11.         -10.95445115]\n",
      " [  0.           0.         -10.95445115  11.        ]]\n",
      "[0. 0. 0. 0.] [[11. 10.  0.  0.]\n",
      " [10. 11.  0.  0.]\n",
      " [ 0.  0. 11. 10.]\n",
      " [ 0.  0. 10. 11.]]\n"
     ]
    }
   ],
   "source": [
    "prog= sf.Program(6)\n",
    "\n",
    "Ns=10\n",
    "\n",
    "with prog.context as q:\n",
    "    \n",
    "    sf.ops.Thermal(Ns/2) | q[0] # State preparation\n",
    "    sf.ops.Coherent(np.sqrt(Ns/4),0) | q[1]\n",
    "    sf.ops.S2gate(np.arcsinh(np.sqrt(Ns/2)),0) | (q[2],q[3])\n",
    "    sf.ops.Thermal(Ns) | q[4]\n",
    "    sf.ops.BSgate() |(q[4],q[5])\n",
    "    \n",
    "eng = sf.Engine(\"gaussian\")\n",
    "result = eng.run(prog)\n",
    "states=result.state\n",
    "\n",
    "mu0,cov0 = states.reduced_gaussian([0])\n",
    "mu1,cov1 = states.reduced_gaussian([1])\n",
    "mu23,cov23 = states.reduced_gaussian([2,3])\n",
    "mu45,cov45 = states.reduced_gaussian([4,5])\n",
    "\n",
    "print(mu0,cov0)\n",
    "print(mu1**2,cov1)\n",
    "print(mu23,cov23)\n",
    "print(mu45,cov45)"
   ]
  },
  {
   "cell_type": "code",
   "execution_count": null,
   "id": "8b91de86",
   "metadata": {},
   "outputs": [],
   "source": []
  },
  {
   "cell_type": "code",
   "execution_count": null,
   "id": "c10064ff",
   "metadata": {},
   "outputs": [],
   "source": []
  },
  {
   "cell_type": "code",
   "execution_count": null,
   "id": "9c74580f",
   "metadata": {},
   "outputs": [],
   "source": []
  },
  {
   "cell_type": "code",
   "execution_count": null,
   "id": "cc32a613",
   "metadata": {},
   "outputs": [],
   "source": []
  },
  {
   "cell_type": "code",
   "execution_count": null,
   "id": "9097a7e5",
   "metadata": {},
   "outputs": [],
   "source": []
  }
 ],
 "metadata": {
  "kernelspec": {
   "display_name": "Python 3 (ipykernel)",
   "language": "python",
   "name": "python3"
  },
  "language_info": {
   "codemirror_mode": {
    "name": "ipython",
    "version": 3
   },
   "file_extension": ".py",
   "mimetype": "text/x-python",
   "name": "python",
   "nbconvert_exporter": "python",
   "pygments_lexer": "ipython3",
   "version": "3.9.2"
  }
 },
 "nbformat": 4,
 "nbformat_minor": 5
}
