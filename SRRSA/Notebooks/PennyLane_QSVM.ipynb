{
 "cells": [
  {
   "cell_type": "code",
   "execution_count": 1,
   "id": "1cf39bc4-28df-456e-ac24-c67a0984ff8c",
   "metadata": {},
   "outputs": [],
   "source": [
    "import collections\n",
    "from noisyopt import minimizeSPSA\n",
    "import pennylane as qml\n",
    "from pennylane import numpy as np\n",
    "import random\n",
    "import seaborn as sns\n",
    "import torch\n",
    "from torch.autograd import Variable\n",
    "# set the random seed\n",
    "seed = 145\n",
    "np.random.seed(seed)"
   ]
  },
  {
   "cell_type": "markdown",
   "id": "9bcf6c7e-895d-4240-9674-6d7018ede683",
   "metadata": {},
   "source": [
    "# Data\n",
    "We grab the adhoc data from qiskit and will try and replicate the results as impelmented in  <a href=\"https://arxiv.org/pdf/1804.11326.pdf\" class=\"external\">Havlicek et al</a>."
   ]
  },
  {
   "cell_type": "code",
   "execution_count": 2,
   "id": "124175a4-cd84-495e-9b78-1c6bc0eed266",
   "metadata": {},
   "outputs": [
    {
     "name": "stderr",
     "output_type": "stream",
     "text": [
      "/Users/rickyyoung/opt/anaconda3/envs/qBraid/lib/python3.8/site-packages/qiskit/aqua/__init__.py:86: DeprecationWarning: The package qiskit.aqua is deprecated. It was moved/refactored to qiskit-terra For more information see <https://github.com/Qiskit/qiskit-aqua/blob/main/README.md#migration-guide>\n",
      "  warn_package('aqua', 'qiskit-terra')\n",
      "/Users/rickyyoung/opt/anaconda3/envs/qBraid/lib/python3.8/site-packages/qiskit/ml/__init__.py:40: DeprecationWarning: The package qiskit.ml is deprecated. It was moved/refactored to qiskit_machine_learning (pip install qiskit-machine-learning). For more information see <https://github.com/Qiskit/qiskit-aqua/blob/main/README.md#migration-guide>\n",
      "  warn_package('ml', 'qiskit_machine_learning', 'qiskit-machine-learning')\n",
      "/Users/rickyyoung/opt/anaconda3/envs/qBraid/lib/python3.8/site-packages/qiskit/ml/datasets/ad_hoc.py:79: DeprecationWarning: The variable qiskit.aqua.aqua_globals is deprecated. It was moved/refactored to qiskit.utils.algorithm_globals (pip install qiskit-terra). For more information see <https://github.com/Qiskit/qiskit-aqua/blob/main/README.md#migration-guide>\n",
      "  basis = aqua_globals.random.random((2 ** n, 2 ** n)) + \\\n"
     ]
    },
    {
     "data": {
      "image/png": "[encoded data removed]",
      "text/plain": [
       "<Figure size 432x288 with 1 Axes>"
      ]
     },
     "metadata": {
      "needs_background": "light"
     },
     "output_type": "display_data"
    },
    {
     "name": "stdout",
     "output_type": "stream",
     "text": [
      "['A', 'B']\n",
      "{'A': array([[3.64424748, 3.33008821],\n",
      "       [0.43982297, 3.14159265],\n",
      "       [2.70176968, 0.50265482],\n",
      "       [5.15221195, 2.95309709],\n",
      "       [0.56548668, 4.08407045],\n",
      "       [5.59203492, 2.76460154],\n",
      "       [3.70707933, 5.0893801 ],\n",
      "       [0.9424778 , 1.31946891],\n",
      "       [0.50265482, 4.08407045],\n",
      "       [0.9424778 , 3.14159265],\n",
      "       [3.95840674, 2.57610598],\n",
      "       [4.0212386 , 6.22035345],\n",
      "       [3.70707933, 1.57079633],\n",
      "       [1.50796447, 5.46637122],\n",
      "       [4.20973416, 3.20442451],\n",
      "       [5.15221195, 3.01592895],\n",
      "       [5.59203492, 0.37699112],\n",
      "       [1.94778745, 5.96902604],\n",
      "       [2.07345115, 5.84336234],\n",
      "       [1.57079633, 1.50796447]]), 'B': array([[3.01592895, 1.31946891],\n",
      "       [3.39292007, 2.19911486],\n",
      "       [4.64955713, 6.1575216 ],\n",
      "       [6.1575216 , 5.34070751],\n",
      "       [3.51858377, 0.18849556],\n",
      "       [1.31946891, 0.18849556],\n",
      "       [0.18849556, 0.25132741],\n",
      "       [5.52920307, 2.0106193 ],\n",
      "       [3.01592895, 3.33008821],\n",
      "       [1.25663706, 5.59203492],\n",
      "       [5.78053048, 5.40353936],\n",
      "       [4.33539786, 4.0212386 ],\n",
      "       [3.26725636, 3.45575192],\n",
      "       [4.77522083, 0.25132741],\n",
      "       [1.63362818, 2.07345115],\n",
      "       [0.37699112, 5.46637122],\n",
      "       [2.95309709, 5.0893801 ],\n",
      "       [0.06283185, 0.18849556],\n",
      "       [2.95309709, 3.70707933],\n",
      "       [5.27787566, 2.0106193 ]])}\n"
     ]
    }
   ],
   "source": [
    "from qiskit.ml.datasets import ad_hoc_data, sample_ad_hoc_data\n",
    "from qiskit.aqua.utils import split_dataset_to_data_and_labels\n",
    "num_wires = 2\n",
    "sample_total, training_input, test_input, class_labels = ad_hoc_data(\n",
    "    training_size=20, \n",
    "    test_size=10, \n",
    "    n=num_wires, \n",
    "    gap=0.3, \n",
    "    plot_data=True\n",
    ")\n",
    "extra_test_data = sample_ad_hoc_data(sample_total, 10, n=num_wires)\n",
    "datapoints, class_to_label = split_dataset_to_data_and_labels(extra_test_data)\n",
    "print(class_labels)\n",
    "print(training_input)"
   ]
  },
  {
   "cell_type": "markdown",
   "id": "30faea14-2841-4736-8511-2a10338e6934",
   "metadata": {},
   "source": [
    "We shuffle the dataset after one hot encoding the data points."
   ]
  },
  {
   "cell_type": "code",
   "execution_count": 3,
   "id": "eb92fb62-1129-4066-9f00-d46eabf08b39",
   "metadata": {},
   "outputs": [
    {
     "name": "stderr",
     "output_type": "stream",
     "text": [
      "<ipython-input-3-32dfad1bdbdc>:4: DeprecationWarning: Using or importing the ABCs from 'collections' instead of from 'collections.abc' is deprecated since Python 3.3, and in 3.10 it will stop working\n",
      "  if isinstance(v,collections.Iterable):\n"
     ]
    }
   ],
   "source": [
    "def shuffled_data(data) -> list:\n",
    "    shuffled_data = []\n",
    "    for _, (k, v) in enumerate(data.items()):\n",
    "        if isinstance(v,collections.Iterable):\n",
    "            for val in v:\n",
    "                shuffled_data.append((class_to_label[k],val))\n",
    "    random.shuffle(shuffled_data)\n",
    "    return shuffled_data\n",
    "training_input_shuffled = shuffled_data(training_input)\n",
    "test_input_shuffled = shuffled_data(test_input)"
   ]
  },
  {
   "cell_type": "markdown",
   "id": "545b3c3d-95ee-47f5-a18f-054b6b346695",
   "metadata": {},
   "source": [
    "We convert the data using a ZZFeature map. We consider the unitary to be an enta"
   ]
  },
  {
   "cell_type": "code",
   "execution_count": 33,
   "id": "218ca92e-2ad1-4cb2-8082-da8ca58c364a",
   "metadata": {},
   "outputs": [],
   "source": [
    "def ZZFeatureMap(data_vector,num_wires) -> None:\n",
    "    #if len(data_vector) != num_wires:\n",
    "        #raise ValueError(f\"data vector of size {len(data_vector)} is not compatible with feature dim of {num_wires}.\")\n",
    "    for i in range(num_wires):\n",
    "        qml.Hadamard(wires=i)\n",
    "        # our encoding of x_i for classical data X\n",
    "        phi = 2.0*data_vector[i]\n",
    "        qml.RZ(phi, wires=i)\n",
    "    for i in range(num_wires-1):\n",
    "        qml.CNOT(wires=[i,i+1])\n",
    "        # our encoding of x_i for classical data X\n",
    "        phi = 2.0*(np.pi-data_vector[i])*(np.pi-data_vector[i+1])\n",
    "        qml.RZ(phi, wires=i+1)\n",
    "        qml.CNOT(wires=[i,i+1]) \n"
   ]
  },
  {
   "cell_type": "code",
   "execution_count": 34,
   "id": "3d20b0b3-ee2c-4223-91f0-caf437517649",
   "metadata": {},
   "outputs": [],
   "source": [
    "\n",
    "num_wires = 4\n",
    "\n",
    "num_qubits  = 4\n",
    "dev_kernel = qml.device(\"default.qubit\", wires=num_wires)\n",
    "\n",
    "\n",
    "def QSVM(params,input_data=None):\n",
    "    ZZFeatureMap(input_data[1],num_wires)  \n",
    "    if train:\n",
    "        qml.templates.BasicEntanglerLayers(params._value, wires=list(range(num_wires)))\n",
    "    else:\n",
    "        qml.templates.BasicEntanglerLayers(params, wires=list(range(num_wires)))\n",
    "    measurements = qml.operation.Tensor(*[qml.PauliZ(qubit) for qubit in range(num_wires)])\n",
    "    return qml.expval(measurements)\n",
    "\n",
    "         "
   ]
  },
  {
   "cell_type": "code",
   "execution_count": 38,
   "id": "96fbfa64-c3dc-4e8b-97c2-325ee721a5e7",
   "metadata": {},
   "outputs": [
    {
     "name": "stdout",
     "output_type": "stream",
     "text": [
      " 0: ──H──RZ(6.53)──╭C─────────────╭C──RX(0.0172)──╭C──RX(0.172)──╭C──╭┤ ⟨Z ⊗ Z⟩ \n",
      " 1: ──H──RZ(6.91)──╰X──RZ(0.079)──╰X──RX(0.103)───╰X──RX(0.328)──╰X──╰┤ ⟨Z ⊗ Z⟩ \n",
      "\n"
     ]
    }
   ],
   "source": [
    "#\n",
    "# finish optimization algorithm we run it through the Gradient Descent\n",
    "num_layers=2\n",
    "num_wires = 2\n",
    "\n",
    "init_params = qml.init.basic_entangler_layers_normal(\n",
    "    n_wires=num_wires, n_layers=num_layers\n",
    ")\n",
    "\n",
    "\n",
    "opt = qml.GradientDescentOptimizer(stepsize=0.3)\n",
    "# Create a device, qnode and cost function specific to gradient descent\n",
    "dev_sampler_gd = qml.device(\"qiskit.aer\", wires=10, shots=1000)\n",
    "qnode_gd = qml.QNode(QSVM, dev_sampler_gd)\n",
    "\n",
    "drawer = qml.draw(qnode_gd)\n",
    "print(drawer(params,[1,[3.26725636, 3.45575192]]))\n",
    "def cost_gd(params,input_data):\n",
    "    return (qnode_gd(params,input_data)-input_data[0])**2\n",
    "\n",
    "steps = 20\n",
    "params = init_params.copy()\n",
    "\n",
    "\n"
   ]
  },
  {
   "cell_type": "code",
   "execution_count": 15,
   "id": "1402de7c-6983-4291-85c2-4cbeb70ca1b0",
   "metadata": {},
   "outputs": [
    {
     "name": "stdout",
     "output_type": "stream",
     "text": [
      "Iteration = 0, Number of device executions = 1, Cost = 1.065024\n",
      "val 1.065024\n",
      "Iteration = 1, Number of device executions = 2, Cost = 0.933156\n",
      "val 0.933156\n",
      "Iteration = 2, Number of device executions = 3, Cost = 1.0857640000000002\n",
      "val 1.0857640000000002\n",
      "Iteration = 3, Number of device executions = 4, Cost = 1.1491840000000002\n",
      "val 1.1491840000000002\n",
      "Iteration = 4, Number of device executions = 5, Cost = 0.001024\n",
      "val 0.001024\n",
      "Iteration = 5, Number of device executions = 6, Cost = 0.0009\n",
      "val 0.0009\n",
      "Iteration = 6, Number of device executions = 7, Cost = 0.8537760000000001\n",
      "val 0.8537760000000001\n",
      "Iteration = 7, Number of device executions = 8, Cost = 0.753424\n",
      "val 0.753424\n",
      "Iteration = 8, Number of device executions = 9, Cost = 0.0036\n",
      "val 0.0036\n",
      "Iteration = 9, Number of device executions = 10, Cost = 0.001444\n",
      "val 0.001444\n",
      "Iteration = 10, Number of device executions = 11, Cost = 0.8537760000000001\n",
      "val 0.8537760000000001\n",
      "Iteration = 11, Number of device executions = 12, Cost = 0.012996\n",
      "val 0.012996\n",
      "Iteration = 12, Number of device executions = 13, Cost = 1.089936\n",
      "val 1.089936\n",
      "Iteration = 13, Number of device executions = 14, Cost = 0.7224999999999999\n",
      "val 0.7224999999999999\n",
      "Iteration = 14, Number of device executions = 15, Cost = 0.8648999999999999\n",
      "val 0.8648999999999999\n",
      "Iteration = 15, Number of device executions = 16, Cost = 0.001024\n",
      "val 0.001024\n",
      "Iteration = 16, Number of device executions = 17, Cost = 0.000256\n",
      "val 0.000256\n",
      "Iteration = 17, Number of device executions = 18, Cost = 0.8464\n",
      "val 0.8464\n",
      "Iteration = 18, Number of device executions = 19, Cost = 0.8798439999999998\n",
      "val 0.8798439999999998\n",
      "Iteration = 19, Number of device executions = 20, Cost = 0.010816\n",
      "val 0.010816\n",
      "Iteration = 20, Number of device executions = 21, Cost = 0.0144\n",
      "val 0.0144\n",
      "Iteration = 21, Number of device executions = 22, Cost = 0.007743999999999999\n",
      "val 0.007743999999999999\n",
      "Iteration = 22, Number of device executions = 23, Cost = 1.024144\n",
      "val 1.024144\n",
      "Iteration = 23, Number of device executions = 24, Cost = 0.976144\n",
      "val 0.976144\n",
      "Iteration = 24, Number of device executions = 25, Cost = 0.9292959999999999\n",
      "val 0.9292959999999999\n",
      "Iteration = 25, Number of device executions = 26, Cost = 0.996004\n",
      "val 0.996004\n",
      "Iteration = 26, Number of device executions = 27, Cost = 0.8611840000000001\n",
      "val 0.8611840000000001\n",
      "Iteration = 27, Number of device executions = 28, Cost = 3.6e-05\n",
      "val 3.6e-05\n",
      "Iteration = 28, Number of device executions = 29, Cost = 0.0256\n",
      "val 0.0256\n",
      "Iteration = 29, Number of device executions = 30, Cost = 0.964324\n",
      "val 0.964324\n",
      "Iteration = 30, Number of device executions = 31, Cost = 1.6e-05\n",
      "val 1.6e-05\n",
      "Iteration = 31, Number of device executions = 32, Cost = 1.2100000000000002\n",
      "val 1.2100000000000002\n",
      "Iteration = 32, Number of device executions = 33, Cost = 0.002304\n",
      "val 0.002304\n",
      "Iteration = 33, Number of device executions = 34, Cost = 1.6e-05\n",
      "val 1.6e-05\n",
      "Iteration = 34, Number of device executions = 35, Cost = 0.001444\n",
      "val 0.001444\n",
      "Iteration = 35, Number of device executions = 36, Cost = 0.0029159999999999998\n",
      "val 0.0029159999999999998\n",
      "Iteration = 36, Number of device executions = 37, Cost = 0.002704\n",
      "val 0.002704\n",
      "Iteration = 37, Number of device executions = 38, Cost = 0.0031360000000000003\n",
      "val 0.0031360000000000003\n",
      "Iteration = 38, Number of device executions = 39, Cost = 0.913936\n",
      "val 0.913936\n",
      "Iteration = 39, Number of device executions = 40, Cost = 6.4e-05\n",
      "val 6.4e-05\n"
     ]
    },
    {
     "data": {
      "text/plain": [
       "1.0"
      ]
     },
     "execution_count": 15,
     "metadata": {},
     "output_type": "execute_result"
    }
   ],
   "source": [
    "opt = qml.GradientDescentOptimizer(stepsize=0.3)\n",
    "\n",
    "# Create a device, qnode and cost function specific to gradient descent\n",
    "dev_sampler_gd = qml.device(\"qiskit.aer\", wires=num_wires, shots=1000)\n",
    "qnode_gd = qml.QNode(QSVM, dev_sampler_gd)\n",
    "\n",
    "\n",
    "steps = 20\n",
    "params = init_params.copy()\n",
    "device_execs_grad = [0]\n",
    "cost_store_grad = []\n",
    "b = np.random.random()\n",
    "# Set the number of training epochs\n",
    "epochs = 5\n",
    "\n",
    "cost_list =[]\n",
    "target_list = []\n",
    "\n",
    "for k in range(len(training_input_shuffled)):\n",
    "    train = True\n",
    "    params,val = opt.step_and_cost(lambda params: cost_gd(params,input_data=training_input_shuffled[k]), params)\n",
    "    device_execs_grad.append(dev_sampler_gd.num_executions)\n",
    "    cost_store_grad.append(val)\n",
    "    print(\n",
    "        f\"Iteration = {k}, \"\n",
    "        f\"Number of device executions = {dev_sampler_gd.num_executions}, \"\n",
    "        f\"Cost = {val}\"\n",
    "    )\n",
    "    print(\"val\",val)\n",
    "    if val < 0.50:\n",
    "        cost_list.append(0)\n",
    "    else:\n",
    "        cost_list.append(1)  \n",
    "    target_list.append( training_input_shuffled[k][0])\n",
    "    \n",
    "def accuracy_score(pred,target):\n",
    "    score = np.array(pred) == np.array(target)\n",
    "    return float(score.sum()/len(target))\n",
    "\n",
    "accuracy_score(cost_list,target_list)"
   ]
  },
  {
   "cell_type": "markdown",
   "id": "b8c9e48c-f223-497b-a70d-17de2995a8e6",
   "metadata": {},
   "source": [
    "To test our model we will use the same parameter and train it on the test set."
   ]
  },
  {
   "cell_type": "code",
   "execution_count": 8,
   "id": "923ac360-2b5a-4c3d-9892-676a27b733f9",
   "metadata": {},
   "outputs": [
    {
     "name": "stdout",
     "output_type": "stream",
     "text": [
      "(1, array([0.06283185, 1.82212374]))\n",
      "-0.132\n",
      "(0, array([2.82743339, 0.56548668]))\n",
      "0.012\n",
      "(1, array([3.39292007, 0.62831853]))\n",
      "-0.03\n",
      "(1, array([4.77522083, 5.65486678]))\n",
      "0.112\n",
      "(1, array([1.13097336, 0.69115038]))\n",
      "-0.044\n",
      "(1, array([3.33008821, 2.0106193 ]))\n",
      "0.094\n",
      "(0, array([0.69115038, 2.19911486]))\n",
      "0.102\n",
      "(1, array([5.0893801 , 1.69646003]))\n",
      "0.016\n",
      "(0, array([4.27256601, 2.51327412]))\n",
      "-0.118\n",
      "(1, array([2.63893783, 5.46637122]))\n",
      "0.066\n",
      "(0, array([4.33539786, 2.63893783]))\n",
      "-0.094\n",
      "(0, array([2.07345115, 1.00530965]))\n",
      "0.04\n",
      "(1, array([2.95309709, 1.88495559]))\n",
      "-0.136\n",
      "(1, array([3.0787608 , 0.81681409]))\n",
      "-0.092\n",
      "(1, array([4.0212386 , 0.56548668]))\n",
      "0.028\n",
      "(0, array([5.27787566, 5.65486678]))\n",
      "-0.142\n",
      "(0, array([0.69115038, 1.63362818]))\n",
      "-0.114\n",
      "(0, array([0.        , 1.57079633]))\n",
      "0.066\n",
      "(0, array([0.25132741, 4.64955713]))\n",
      "0.058\n",
      "(0, array([5.27787566, 3.45575192]))\n",
      "0.088\n",
      "0.5\n"
     ]
    }
   ],
   "source": [
    "# evaluate\n",
    "\n",
    "train = False\n",
    "check = 0\n",
    "for val in test_input_shuffled:\n",
    "    print(val)\n",
    "    x = qnode_gd(params,input_data=val)\n",
    "    print(x)\n",
    "    if x>0.5:\n",
    "        if 1==val[0]:\n",
    "            check += 1\n",
    "    else:\n",
    "        if 0==val[0]:\n",
    "            check += 1\n",
    "    \n",
    "print(check/len(test_input_shuffled))"
   ]
  },
  {
   "cell_type": "code",
   "execution_count": null,
   "id": "b71b14fb-ada2-4888-96ca-eaefc4f8f849",
   "metadata": {},
   "outputs": [],
   "source": [
    "sns"
   ]
  },
  {
   "cell_type": "code",
   "execution_count": null,
   "id": "434d1289-69f5-4cf4-991d-40f9a11627fe",
   "metadata": {},
   "outputs": [],
   "source": []
  },
  {
   "cell_type": "code",
   "execution_count": null,
   "id": "67652dbd-caaa-485b-af8e-5d45d2df9ed1",
   "metadata": {},
   "outputs": [],
   "source": []
  }
 ],
 "metadata": {
  "kernelspec": {
   "display_name": "Python (3.8)",
   "language": "python",
   "name": "quantum"
  },
  "language_info": {
   "codemirror_mode": {
    "name": "ipython",
    "version": 3
   },
   "file_extension": ".py",
   "mimetype": "text/x-python",
   "name": "python",
   "nbconvert_exporter": "python",
   "pygments_lexer": "ipython3",
   "version": "3.8.10"
  }
 },
 "nbformat": 4,
 "nbformat_minor": 5
}
