{
 "cells": [
  {
   "cell_type": "markdown",
   "id": "197e9b24",
   "metadata": {},
   "source": [
    "# Amplitude Encoding\n",
    "\n",
    "#### Ricky Young, Maxim Mints, Hiroki Nakayama\n",
    "{ryoung98, mmints, naho5058} @stanford.edu\n",
    "\n",
    "In this notebook we explore the amplitude encoding classical inputs and introduce a cirq implementation for the amplitude encoding created on the Pennylane platform.\n",
    "\n",
    "\n",
    "Linke to Pennylane: https://pennylane.readthedocs.io/en/stable/_modules/pennylane/templates/embeddings/amplitude.html#AmplitudeEmbedding\n"
   ]
  },
  {
   "cell_type": "code",
   "execution_count": 27,
   "id": "17b612a5",
   "metadata": {},
   "outputs": [],
   "source": [
    "# import\n",
    "import cirq\n",
    "import pennylane as qml\n",
    "from pennylane.templates import AmplitudeEmbedding\n",
    "import numpy as np\n",
    "\n",
    "# visualization\n",
    "from cirq.contrib.svg import SVGCircuit"
   ]
  },
  {
   "cell_type": "markdown",
   "id": "b90c80ca",
   "metadata": {},
   "source": [
    "## What is amplitude encoding?\n",
    "Amplitude encoding is one of two main ways of translating classical data into quantum inputs used for qML (quantum machine learning). \n"
   ]
  },
  {
   "cell_type": "markdown",
   "id": "df536357",
   "metadata": {},
   "source": [
    "### What are the pros and cons of amplitude encoding?\n"
   ]
  },
  {
   "cell_type": "markdown",
   "id": "af52320c",
   "metadata": {},
   "source": [
    "## Example code"
   ]
  },
  {
   "cell_type": "markdown",
   "id": "5be67892",
   "metadata": {},
   "source": [
    "Here's a quick default example provided by Pennylane on amplitude encoding."
   ]
  },
  {
   "cell_type": "code",
   "execution_count": 7,
   "id": "8c8e28fc",
   "metadata": {},
   "outputs": [
    {
     "name": "stdout",
     "output_type": "stream",
     "text": [
      "[0.5+0.j 0.5+0.j 0.5+0.j 0.5+0.j]\n"
     ]
    }
   ],
   "source": [
    "dev = qml.device('default.qubit', wires=2)\n",
    "\n",
    "@qml.qnode(dev)\n",
    "def circuit(f=None):\n",
    "    AmplitudeEmbedding(features=f, wires=range(2))\n",
    "    return qml.expval(qml.PauliZ(0))\n",
    "\n",
    "encoding = circuit(f=[1/2, 1/2, 1/2, 1/2])\n",
    "print(dev.state)"
   ]
  },
  {
   "cell_type": "markdown",
   "id": "60852ba5",
   "metadata": {},
   "source": [
    "We'll follow the "
   ]
  },
  {
   "cell_type": "markdown",
   "id": "54c82837",
   "metadata": {},
   "source": [
    "Here's an unnormalized input:"
   ]
  },
  {
   "cell_type": "code",
   "execution_count": 9,
   "id": "4425e8c4",
   "metadata": {},
   "outputs": [
    {
     "name": "stdout",
     "output_type": "stream",
     "text": [
      "[0.58834841+0.j 0.39223227+0.j 0.39223227+0.j 0.58834841+0.j]\n"
     ]
    }
   ],
   "source": [
    "dev = qml.device('default.qubit', wires=2)\n",
    "\n",
    "@qml.qnode(dev)\n",
    "def circuit(f=None):\n",
    "    AmplitudeEmbedding(features=f, wires=range(2),normalize=True)\n",
    "    return qml.expval(qml.PauliZ(0))\n",
    "\n",
    "encoding = circuit(f=[1/2, 1/3, 1/3, 1/2])\n",
    "print(dev.state)"
   ]
  },
  {
   "cell_type": "markdown",
   "id": "11ba92a3",
   "metadata": {},
   "source": [
    "We will also explore the difference between the cirq mixed state and pure simulator provided by the pennylane plugin."
   ]
  },
  {
   "cell_type": "code",
   "execution_count": 34,
   "id": "df793af2",
   "metadata": {},
   "outputs": [
    {
     "name": "stdout",
     "output_type": "stream",
     "text": [
      "[0.5+0.j 0.5+0.j 0.5+0.j 0.5+0.j]\n"
     ]
    }
   ],
   "source": [
    "dev = qml.device('cirq.simulator', wires=2)\n",
    "\n",
    "@qml.qnode(dev)\n",
    "def circuit(f=None):\n",
    "    AmplitudeEmbedding(features=f, wires=range(2))\n",
    "    return qml.expval(qml.PauliZ(0))\n",
    "\n",
    "encoding = circuit(f=[1/2, 1/2, 1/2, 1/2])\n",
    "print(dev.state)"
   ]
  },
  {
   "cell_type": "code",
   "execution_count": 37,
   "id": "96d4c7e7",
   "metadata": {},
   "outputs": [
    {
     "name": "stdout",
     "output_type": "stream",
     "text": [
      "[[0.25+0.j 0.25+0.j 0.25+0.j 0.25+0.j]\n",
      " [0.25+0.j 0.25+0.j 0.25+0.j 0.25+0.j]\n",
      " [0.25+0.j 0.25+0.j 0.25+0.j 0.25+0.j]\n",
      " [0.25+0.j 0.25+0.j 0.25+0.j 0.25+0.j]]\n"
     ]
    }
   ],
   "source": [
    "dev = qml.device('cirq.mixedsimulator', wires=2)\n",
    "@qml.qnode(dev)\n",
    "def circuit(f=None):\n",
    "    AmplitudeEmbedding(features=f, wires=range(2))\n",
    "    return qml.expval(qml.PauliZ(0))\n",
    "\n",
    "encoding = circuit(f=[1/2, 1/2, 1/2, 1/2])\n",
    "print(dev.state)"
   ]
  },
  {
   "cell_type": "code",
   "execution_count": null,
   "id": "f867ba4a",
   "metadata": {},
   "outputs": [],
   "source": []
  },
  {
   "cell_type": "markdown",
   "id": "113bd896",
   "metadata": {},
   "source": [
    "### Our cirq implementation"
   ]
  },
  {
   "cell_type": "code",
   "execution_count": 15,
   "id": "191189ed",
   "metadata": {},
   "outputs": [],
   "source": [
    "# tolerance for normalization\n",
    "TOLERANCE = 1e-10\n",
    "\n",
    "# Use Mottonen state preparation to get an amplitude embedding of the states\n",
    "# Adapted from https://pennylane.readthedocs.io/en/stable/_modules/pennylane/templates/state_preparations/mottonen.html#MottonenStatePreparation\n",
    "\n",
    "def gray_code(rank):\n",
    "    \"\"\"Generates the Gray code of given rank.\n",
    "\n",
    "    Args:\n",
    "        rank (int): rank of the Gray code (i.e. number of bits)\n",
    "    \"\"\"\n",
    "\n",
    "    def gray_code_recurse(g, rank):\n",
    "        k = len(g)\n",
    "        if rank <= 0:\n",
    "            return\n",
    "\n",
    "        for i in range(k - 1, -1, -1):\n",
    "            char = \"1\" + g[i]\n",
    "            g.append(char)\n",
    "        for i in range(k - 1, -1, -1):\n",
    "            g[i] = \"0\" + g[i]\n",
    "\n",
    "        gray_code_recurse(g, rank - 1)\n",
    "\n",
    "    g = [\"0\", \"1\"]\n",
    "    gray_code_recurse(g, rank - 1)\n",
    "\n",
    "    return g\n",
    "\n",
    "\n",
    "def _matrix_M_entry(row, col):\n",
    "    \"\"\"Returns one entry for the matrix that maps alpha to theta.\n",
    "\n",
    "    See Eq. (3) in `Möttönen et al. (2004) <https://arxiv.org/pdf/quant-ph/0407010.pdf>`_.\n",
    "\n",
    "    Args:\n",
    "        row (int): one-based row number\n",
    "        col (int): one-based column number\n",
    "\n",
    "    Returns:\n",
    "        (float): transformation matrix entry at given row and column\n",
    "    \"\"\"\n",
    "    # (col >> 1) ^ col is the Gray code of col\n",
    "    b_and_g = row & ((col >> 1) ^ col)\n",
    "    sum_of_ones = 0\n",
    "    while b_and_g > 0:\n",
    "        if b_and_g & 0b1:\n",
    "            sum_of_ones += 1\n",
    "\n",
    "        b_and_g = b_and_g >> 1\n",
    "\n",
    "    return (-1) ** sum_of_ones\n",
    "\n",
    "\n",
    "def _compute_theta(alpha):\n",
    "    \"\"\"Maps the angles alpha of the multi-controlled rotations decomposition of a uniformly controlled rotation\n",
    "     to the rotation angles used in the Gray code implementation.\n",
    "\n",
    "    Args:\n",
    "        alpha (tensor_like): alpha parameters\n",
    "\n",
    "    Returns:\n",
    "        (tensor_like): rotation angles theta\n",
    "    \"\"\"\n",
    "    ln = alpha.shape[0]\n",
    "    k = np.log2(alpha.shape[0])\n",
    "\n",
    "    M_trans = np.zeros(shape=(ln, ln))\n",
    "    for i in range(len(M_trans)):\n",
    "        for j in range(len(M_trans[0])):\n",
    "            M_trans[i, j] = _matrix_M_entry(j, i)\n",
    "\n",
    "    theta = np.dot(M_trans, alpha)\n",
    "\n",
    "    return theta / 2 ** k\n",
    "\n",
    "\n",
    "def _uniform_rotation_dagger(gate, alpha, control_wires, target_wire, circuit):\n",
    "    r\"\"\"Applies a uniformly-controlled rotation to the target qubit.\n",
    "\n",
    "    A uniformly-controlled rotation is a sequence of multi-controlled\n",
    "    rotations, each of which is conditioned on the control qubits being in a different state.\n",
    "    For example, a uniformly-controlled rotation with two control qubits describes a sequence of\n",
    "    four multi-controlled rotations, each applying the rotation only if the control qubits\n",
    "    are in states :math:`|00\\rangle`, :math:`|01\\rangle`, :math:`|10\\rangle`, and :math:`|11\\rangle`, respectively.\n",
    "\n",
    "    To implement a uniformly-controlled rotation using single qubit rotations and CNOT gates,\n",
    "    a decomposition based on Gray codes is used. For this purpose, the multi-controlled rotation\n",
    "    angles alpha have to be converted into a set of non-controlled rotation angles theta.\n",
    "\n",
    "    For more details, see `Möttönen and Vartiainen (2005), Fig 7a<https://arxiv.org/pdf/quant-ph/0504100.pdf>`_.\n",
    "\n",
    "    Args:\n",
    "        gate (.Operation): gate to be applied, needs to have exactly one parameter\n",
    "        alpha (tensor_like): angles to decompose the uniformly-controlled rotation into multi-controlled rotations\n",
    "        control_wires (array[int]): wires that act as control\n",
    "        target_wire (int): wire that acts as target\n",
    "    \"\"\"\n",
    "\n",
    "    theta = _compute_theta(alpha)\n",
    "\n",
    "    gray_code_rank = len(control_wires)\n",
    "\n",
    "    if gray_code_rank == 0:\n",
    "        if theta[0] != 0.0:\n",
    "            circuit.append(gate(theta[0])(target_wire))\n",
    "        return\n",
    "\n",
    "    code = gray_code(gray_code_rank)\n",
    "    num_selections = len(code)\n",
    "\n",
    "    control_indices = [\n",
    "        int(np.log2(int(code[i], 2) ^ int(code[(i + 1) % num_selections], 2)))\n",
    "        for i in range(num_selections)\n",
    "    ]\n",
    "\n",
    "    for i, control_index in enumerate(control_indices):\n",
    "        if theta[i] != 0.0:\n",
    "            circuit.append(gate(theta[i])(target_wire))\n",
    "        circuit.append(cirq.CNOT(control_wires[control_index], target_wire))\n",
    "\n",
    "\n",
    "def _get_alpha_z(omega, n, k):\n",
    "    r\"\"\"Computes the rotation angles required to implement the uniformly-controlled Z rotation\n",
    "    applied to the :math:`k`th qubit.\n",
    "\n",
    "    The :math:`j`th angle is related to the phases omega of the desired amplitudes via:\n",
    "\n",
    "    .. math:: \\alpha^{z,k}_j = \\sum_{l=1}^{2^{k-1}} \\frac{\\omega_{(2j-1) 2^{k-1}+l} - \\omega_{(2j-2) 2^{k-1}+l}}{2^{k-1}}\n",
    "\n",
    "    Args:\n",
    "        omega (tensor_like): phases of the state to prepare\n",
    "        n (int): total number of qubits for the uniformly-controlled rotation\n",
    "        k (int): index of current qubit\n",
    "\n",
    "    Returns:\n",
    "        array representing :math:`\\alpha^{z,k}`\n",
    "    \"\"\"\n",
    "    indices1 = [\n",
    "        [(2 * j - 1) * 2 ** (k - 1) + l - 1 for l in range(1, 2 ** (k - 1) + 1)]\n",
    "        for j in range(1, 2 ** (n - k) + 1)\n",
    "    ]\n",
    "    indices2 = [\n",
    "        [(2 * j - 2) * 2 ** (k - 1) + l - 1 for l in range(1, 2 ** (k - 1) + 1)]\n",
    "        for j in range(1, 2 ** (n - k) + 1)\n",
    "    ]\n",
    "\n",
    "    term1 = np.take(omega, indices=indices1)\n",
    "    term2 = np.take(omega, indices=indices2)\n",
    "    diff = (term1 - term2) / 2 ** (k - 1)\n",
    "\n",
    "    return np.sum(diff, axis=1)\n",
    "\n",
    "\n",
    "def _get_alpha_y(a, n, k):\n",
    "    r\"\"\"Computes the rotation angles required to implement the uniformly controlled Y rotation\n",
    "    applied to the :math:`k`th qubit.\n",
    "\n",
    "    The :math:`j`-th angle is related to the absolute values, a, of the desired amplitudes via:\n",
    "\n",
    "    .. math:: \\alpha^{y,k}_j = 2 \\arcsin \\sqrt{ \\frac{ \\sum_{l=1}^{2^{k-1}} a_{(2j-1)2^{k-1} +l}^2  }{ \\sum_{l=1}^{2^{k}} a_{(j-1)2^{k} +l}^2  } }\n",
    "\n",
    "    Args:\n",
    "        a (tensor_like): absolute values of the state to prepare\n",
    "        n (int): total number of qubits for the uniformly-controlled rotation\n",
    "        k (int): index of current qubit\n",
    "\n",
    "    Returns:\n",
    "        array representing :math:`\\alpha^{y,k}`\n",
    "    \"\"\"\n",
    "    indices_numerator = [\n",
    "        [(2 * (j + 1) - 1) * 2 ** (k - 1) + l for l in range(2 ** (k - 1))]\n",
    "        for j in range(2 ** (n - k))\n",
    "    ]\n",
    "    numerator = np.take(a, indices=indices_numerator)\n",
    "    numerator = np.sum(np.abs(numerator) ** 2, axis=1)\n",
    "\n",
    "    indices_denominator = [[j * 2 ** k + l for l in range(2 ** k)] for j in range(2 ** (n - k))]\n",
    "    denominator = np.take(a, indices=indices_denominator)\n",
    "    denominator = np.sum(np.abs(denominator) ** 2, axis=1)\n",
    "\n",
    "    # Divide only where denominator is zero, else leave initial value of zero.\n",
    "    # The equation guarantees that the numerator is also zero in the corresponding entries.\n",
    "\n",
    "    with np.errstate(divide=\"ignore\", invalid=\"ignore\"):\n",
    "        division = numerator / denominator\n",
    "\n",
    "    division = np.where(denominator != 0.0, division, 0.0)\n",
    "\n",
    "    return 2 * np.arcsin(np.sqrt(division))\n",
    "\n",
    "def mottonenStatePrep(state_vector, qubits, circuit):\n",
    "\n",
    "        a = np.abs(state_vector)\n",
    "        omega = np.angle(state_vector)\n",
    "\n",
    "        # change ordering of wires, since original code\n",
    "        # was written for IBM machines\n",
    "        wires_reverse = qubits[::-1]\n",
    "\n",
    "        # Apply inverse y rotation cascade to prepare correct absolute values of amplitudes\n",
    "        for k in range(len(wires_reverse), 0, -1):\n",
    "            alpha_y_k = _get_alpha_y(a, len(wires_reverse), k)\n",
    "            control = wires_reverse[k:]\n",
    "            target = wires_reverse[k - 1]\n",
    "            _uniform_rotation_dagger(cirq.ry, alpha_y_k, control, target, circuit)\n",
    "\n",
    "        # If necessary, apply inverse z rotation cascade to prepare correct phases of amplitudes\n",
    "        if not np.allclose(omega, 0):\n",
    "            for k in range(len(wires_reverse), 0, -1):\n",
    "                alpha_z_k = _get_alpha_z(omega, len(wires_reverse), k)\n",
    "                control = wires_reverse[k:]\n",
    "                target = wires_reverse[k - 1]\n",
    "                if len(alpha_z_k) > 0:\n",
    "                    _uniform_rotation_dagger(cirq.rz, alpha_z_k, control, target, circuit)\n",
    "\n",
    "         \n",
    "# The below is borrowed from https://pennylane.readthedocs.io/en/stable/_modules/pennylane/templates/embeddings/amplitude.html#AmplitudeEmbedding\n",
    "def _preprocess(features, wires, pad_with, normalize):\n",
    "    \"\"\"Validate and pre-process inputs as follows:\n",
    "\n",
    "    * Check that the features tensor is one-dimensional.\n",
    "    * If pad_with is None, check that the first dimension of the features tensor\n",
    "      has length :math:`2^n` where :math:`n` is the number of qubits. Else check that the\n",
    "      first dimension of the features tensor is not larger than :math:`2^n` and pad features with value if necessary.\n",
    "    * If normalize is false, check that first dimension of features is normalised to one. Else, normalise the\n",
    "      features tensor.\n",
    "    \"\"\"\n",
    "\n",
    "    shape = features.shape\n",
    "\n",
    "    # check shape\n",
    "    if features.ndim != 1:\n",
    "        raise ValueError(f\"Features must be a one-dimensional tensor; got shape {shape}.\")\n",
    "\n",
    "    n_features = shape[0]\n",
    "    if pad_with is None and n_features != 2 ** len(wires):\n",
    "        raise ValueError(\n",
    "            f\"Features must be of length {2 ** len(wires)}; got length {n_features}. \"\n",
    "            f\"Use the 'pad' argument for automated padding.\"\n",
    "        )\n",
    "\n",
    "    if pad_with is not None and n_features > 2 ** len(wires):\n",
    "        raise ValueError(\n",
    "            f\"Features must be of length {2 ** len(wires)} or \"\n",
    "            f\"smaller to be padded; got length {n_features}.\"\n",
    "        )\n",
    "\n",
    "    # pad\n",
    "    if pad_with is not None and n_features < 2 ** len(wires):\n",
    "        padding = [pad_with] * (2 ** len(wires) - n_features)\n",
    "        features = np.concatenate([features, padding], axis=0)\n",
    "\n",
    "    # normalize\n",
    "    norm = np.sum(np.abs(features) ** 2)\n",
    "\n",
    "    if not np.allclose(norm, 1.0, atol=TOLERANCE):\n",
    "        if normalize or pad_with:\n",
    "            features = features / np.sqrt(norm)\n",
    "        else:\n",
    "            raise ValueError(\n",
    "                f\"Features must be a vector of length 1.0; got length {norm}.\"\n",
    "                \"Use 'normalize=True' to automatically normalize.\"\n",
    "            )\n",
    "\n",
    "    features = features.astype(np.complex128)\n",
    "    return features\n",
    "\n",
    "def cirqAppendAmplitudeEmbedding(features, qubits, circuit, pad_with=None, normalize=False):\n",
    "    features = _preprocess(features, qubits, pad_with, normalize)\n",
    "    mottonenStatePrep(features, qubits, circuit)"
   ]
  },
  {
   "cell_type": "code",
   "execution_count": 29,
   "id": "03cd872c",
   "metadata": {},
   "outputs": [
    {
     "data": {
      "image/svg+xml": [
       "<svg xmlns=\"http://www.w3.org/2000/svg\" width=\"308.4430859375\" height=\"100.0\"><line x1=\"32.246796875\" x2=\"278.4430859375\" y1=\"25.0\" y2=\"25.0\" stroke=\"#1967d2\" stroke-width=\"1\" /><line x1=\"32.246796875\" x2=\"278.4430859375\" y1=\"75.0\" y2=\"75.0\" stroke=\"#1967d2\" stroke-width=\"1\" /><line x1=\"178.4430859375\" x2=\"178.4430859375\" y1=\"25.0\" y2=\"75.0\" stroke=\"black\" stroke-width=\"3\" /><line x1=\"238.4430859375\" x2=\"238.4430859375\" y1=\"25.0\" y2=\"75.0\" stroke=\"black\" stroke-width=\"3\" /><rect x=\"10.0\" y=\"5.0\" width=\"44.49359375\" height=\"40\" stroke=\"black\" fill=\"white\" stroke-width=\"0\" /><text x=\"32.246796875\" y=\"25.0\" dominant-baseline=\"middle\" text-anchor=\"middle\" font-size=\"14px\" font-family=\"Arial\">(0, 0): </text><rect x=\"10.0\" y=\"55.0\" width=\"44.49359375\" height=\"40\" stroke=\"black\" fill=\"white\" stroke-width=\"0\" /><text x=\"32.246796875\" y=\"75.0\" dominant-baseline=\"middle\" text-anchor=\"middle\" font-size=\"14px\" font-family=\"Arial\">(1, 0): </text><rect x=\"74.49359375\" y=\"5.0\" width=\"63.9494921875\" height=\"40\" stroke=\"black\" fill=\"white\" stroke-width=\"1\" /><text x=\"106.46833984375\" y=\"25.0\" dominant-baseline=\"middle\" text-anchor=\"middle\" font-size=\"14px\" font-family=\"Arial\">Ry(0.5π)</text><rect x=\"74.49359375\" y=\"55.0\" width=\"63.9494921875\" height=\"40\" stroke=\"black\" fill=\"white\" stroke-width=\"1\" /><text x=\"106.46833984375\" y=\"75.0\" dominant-baseline=\"middle\" text-anchor=\"middle\" font-size=\"14px\" font-family=\"Arial\">Ry(0.5π)</text><circle cx=\"178.4430859375\" cy=\"25.0\" r=\"10.0\" /><rect x=\"158.4430859375\" y=\"55.0\" width=\"40\" height=\"40\" stroke=\"black\" fill=\"white\" stroke-width=\"1\" /><text x=\"178.4430859375\" y=\"75.0\" dominant-baseline=\"middle\" text-anchor=\"middle\" font-size=\"18px\" font-family=\"Arial\">X</text><circle cx=\"238.4430859375\" cy=\"25.0\" r=\"10.0\" /><rect x=\"218.4430859375\" y=\"55.0\" width=\"40\" height=\"40\" stroke=\"black\" fill=\"white\" stroke-width=\"1\" /><text x=\"238.4430859375\" y=\"75.0\" dominant-baseline=\"middle\" text-anchor=\"middle\" font-size=\"18px\" font-family=\"Arial\">X</text></svg>"
      ],
      "text/plain": [
       "<cirq.contrib.svg.svg.SVGCircuit at 0x7ff4b09c3fa0>"
      ]
     },
     "execution_count": 29,
     "metadata": {},
     "output_type": "execute_result"
    }
   ],
   "source": [
    "circuit = cirq.Circuit()\n",
    "q0,q1 = cirq.GridQubit.rect(2,1)\n",
    "features=np.array([1/2, 1/2, 1/2, 1/2])\n",
    "cirqAppendAmplitudeEmbedding(features,np.array([q0,q1]),circuit)\n",
    "SVGCircuit(circuit)"
   ]
  },
  {
   "cell_type": "markdown",
   "id": "5426d9c1",
   "metadata": {},
   "source": [
    "We can check the state and see that it matches the one produced on the Pennylane amplitude encoding! It should be the same since all we did was change how it takes in an input:"
   ]
  },
  {
   "cell_type": "code",
   "execution_count": 31,
   "id": "79fb277e",
   "metadata": {},
   "outputs": [
    {
     "name": "stdout",
     "output_type": "stream",
     "text": [
      "Simulate the circuit:\n",
      "measurements: (no measurements)\n",
      "output vector: 0.5|00⟩ + 0.5|01⟩ + 0.5|10⟩ + 0.5|11⟩\n",
      "\n"
     ]
    }
   ],
   "source": [
    "# Initialize Simulator\n",
    "s=cirq.Simulator()\n",
    "\n",
    "print('Simulate the circuit:')\n",
    "results=s.simulate(circuit)\n",
    "print(results)\n",
    "print()"
   ]
  },
  {
   "cell_type": "markdown",
   "id": "65923cbc",
   "metadata": {},
   "source": [
    "Let's also check for the non normalized state"
   ]
  },
  {
   "cell_type": "code",
   "execution_count": 32,
   "id": "209c036f",
   "metadata": {},
   "outputs": [
    {
     "data": {
      "image/svg+xml": [
       "<svg xmlns=\"http://www.w3.org/2000/svg\" width=\"412.626953125\" height=\"100.0\"><line x1=\"32.246796875\" x2=\"382.626953125\" y1=\"25.0\" y2=\"25.0\" stroke=\"#1967d2\" stroke-width=\"1\" /><line x1=\"32.246796875\" x2=\"382.626953125\" y1=\"75.0\" y2=\"75.0\" stroke=\"#1967d2\" stroke-width=\"1\" /><line x1=\"178.4430859375\" x2=\"178.4430859375\" y1=\"25.0\" y2=\"75.0\" stroke=\"black\" stroke-width=\"3\" /><line x1=\"342.626953125\" x2=\"342.626953125\" y1=\"25.0\" y2=\"75.0\" stroke=\"black\" stroke-width=\"3\" /><rect x=\"10.0\" y=\"5.0\" width=\"44.49359375\" height=\"40\" stroke=\"black\" fill=\"white\" stroke-width=\"0\" /><text x=\"32.246796875\" y=\"25.0\" dominant-baseline=\"middle\" text-anchor=\"middle\" font-size=\"14px\" font-family=\"Arial\">(0, 0): </text><rect x=\"10.0\" y=\"55.0\" width=\"44.49359375\" height=\"40\" stroke=\"black\" fill=\"white\" stroke-width=\"0\" /><text x=\"32.246796875\" y=\"75.0\" dominant-baseline=\"middle\" text-anchor=\"middle\" font-size=\"14px\" font-family=\"Arial\">(1, 0): </text><rect x=\"74.49359375\" y=\"5.0\" width=\"63.9494921875\" height=\"40\" stroke=\"black\" fill=\"white\" stroke-width=\"1\" /><text x=\"106.46833984375\" y=\"25.0\" dominant-baseline=\"middle\" text-anchor=\"middle\" font-size=\"14px\" font-family=\"Arial\">Ry(0.5π)</text><rect x=\"74.49359375\" y=\"55.0\" width=\"63.9494921875\" height=\"40\" stroke=\"black\" fill=\"white\" stroke-width=\"1\" /><text x=\"106.46833984375\" y=\"75.0\" dominant-baseline=\"middle\" text-anchor=\"middle\" font-size=\"14px\" font-family=\"Arial\">Ry(0.5π)</text><circle cx=\"178.4430859375\" cy=\"25.0\" r=\"10.0\" /><rect x=\"158.4430859375\" y=\"55.0\" width=\"40\" height=\"40\" stroke=\"black\" fill=\"white\" stroke-width=\"1\" /><text x=\"178.4430859375\" y=\"75.0\" dominant-baseline=\"middle\" text-anchor=\"middle\" font-size=\"18px\" font-family=\"Arial\">X</text><rect x=\"218.44308593749997\" y=\"55.0\" width=\"84.18386718750001\" height=\"40\" stroke=\"black\" fill=\"white\" stroke-width=\"1\" /><text x=\"260.53501953125\" y=\"75.0\" dominant-baseline=\"middle\" text-anchor=\"middle\" font-size=\"14px\" font-family=\"Arial\">Ry(-0.126π)</text><circle cx=\"342.626953125\" cy=\"25.0\" r=\"10.0\" /><rect x=\"322.626953125\" y=\"55.0\" width=\"40\" height=\"40\" stroke=\"black\" fill=\"white\" stroke-width=\"1\" /><text x=\"342.626953125\" y=\"75.0\" dominant-baseline=\"middle\" text-anchor=\"middle\" font-size=\"18px\" font-family=\"Arial\">X</text></svg>"
      ],
      "text/plain": [
       "<cirq.contrib.svg.svg.SVGCircuit at 0x7ff4b0d9bd60>"
      ]
     },
     "execution_count": 32,
     "metadata": {},
     "output_type": "execute_result"
    }
   ],
   "source": [
    "circuit = cirq.Circuit()\n",
    "q0,q1 = cirq.GridQubit.rect(2,1)\n",
    "features=np.array([1/2, 1/3, 1/3, 1/2])\n",
    "cirqAppendAmplitudeEmbedding(features,np.array([q0,q1]),circuit,normalize=True)\n",
    "SVGCircuit(circuit)"
   ]
  },
  {
   "cell_type": "code",
   "execution_count": 33,
   "id": "78760b4e",
   "metadata": {},
   "outputs": [
    {
     "name": "stdout",
     "output_type": "stream",
     "text": [
      "Simulate the circuit:\n",
      "measurements: (no measurements)\n",
      "output vector: 0.588|00⟩ + 0.392|01⟩ + 0.392|10⟩ + 0.588|11⟩\n",
      "\n"
     ]
    }
   ],
   "source": [
    "# Initialize Simulator\n",
    "s=cirq.Simulator()\n",
    "\n",
    "print('Simulate the circuit:')\n",
    "results=s.simulate(circuit)\n",
    "print(results)\n",
    "print()"
   ]
  }
 ],
 "metadata": {
  "kernelspec": {
   "display_name": "Python 3",
   "language": "python",
   "name": "python3"
  },
  "language_info": {
   "codemirror_mode": {
    "name": "ipython",
    "version": 3
   },
   "file_extension": ".py",
   "mimetype": "text/x-python",
   "name": "python",
   "nbconvert_exporter": "python",
   "pygments_lexer": "ipython3",
   "version": "3.8.5"
  }
 },
 "nbformat": 4,
 "nbformat_minor": 5
}
