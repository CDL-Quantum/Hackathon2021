{
 "cells": [
  {
   "cell_type": "code",
   "execution_count": null,
   "id": "91dbb6e7-e550-4954-bd4a-b3976231d70b",
   "metadata": {},
   "outputs": [],
   "source": [
    "import pandas as pd\n",
    "import numpy as np\n",
    "import tensorflow as tf\n",
    "from sklearn.preprocessing import MinMaxScaler\n",
    "from sklearn.model_selection import train_test_split\n",
    "import pennylane as qml\n",
    "import warnings\n",
    "warnings.filterwarnings('ignore')\n",
    "tf.keras.backend.set_floatx('float64')\n",
    "\n",
    "import warnings\n",
    "warnings.filterwarnings('ignore')"
   ]
  },
  {
   "cell_type": "code",
   "execution_count": null,
   "id": "72158124-1b3b-4f65-9af7-087a806b0e0c",
   "metadata": {},
   "outputs": [],
   "source": [
    "###predict 2nd half line using 1st half total and open ##\n",
    "\n",
    "df1 = pd.read_csv(\"nfl_odds.csv\")\n",
    "df1['1H'] = df1['1st'] + df1['2nd']\n",
    "\n",
    "df2 = pd.read_csv('bet.csv')\n",
    "df = df1.merge(df2, left_on = 'Team', right_on = 'Tm')\n",
    "df.columns"
   ]
  },
  {
   "cell_type": "code",
   "execution_count": null,
   "id": "0d8cb0f9-75fd-4450-87e4-6aee46162fba",
   "metadata": {},
   "outputs": [],
   "source": [
    "df = df[['1H','Open', 'Sc%','EXP', 'Y/P', 'TD', 'TO%','PF','Yds','ML', '2H']]\n",
    "df.head()"
   ]
  },
  {
   "cell_type": "code",
   "execution_count": null,
   "id": "915d618e-5cd1-4e7f-a102-49250139d6e3",
   "metadata": {},
   "outputs": [],
   "source": [
    "n_qubits = 4\n",
    "dev = qml.device(\"default.qubit\", wires=n_qubits)\n",
    "\n",
    "@qml.qnode(dev)\n",
    "def qnode(inputs, weights):\n",
    "    qml.templates.AngleEmbedding(inputs, wires=range(n_qubits))\n",
    "    qml.templates.BasicEntanglerLayers(weights, wires=range(n_qubits))\n",
    "    return [qml.expval(qml.PauliZ(wires=i)) for i in range(n_qubits)]\n",
    "\n"
   ]
  },
  {
   "cell_type": "code",
   "execution_count": null,
   "id": "08ff2f35-8fbf-4136-bd2c-f39fd1c5ff5c",
   "metadata": {},
   "outputs": [],
   "source": [
    "n_layers = 6\n",
    "weight_shapes = {\"weights\": (n_layers, n_qubits)}"
   ]
  },
  {
   "cell_type": "code",
   "execution_count": null,
   "id": "0e85814f-2355-4013-b763-75435010676d",
   "metadata": {},
   "outputs": [],
   "source": [
    "qlayer = qml.qnn.KerasLayer(qnode, weight_shapes, output_dim=n_qubits)"
   ]
  },
  {
   "cell_type": "code",
   "execution_count": null,
   "id": "fe47f2af-1e32-4bcf-a9c6-fc5bf2dfa4c2",
   "metadata": {},
   "outputs": [],
   "source": [
    "clayer_1 = tf.keras.layers.Dense(4)\n",
    "clayer_2 = tf.keras.layers.Dense(2, activation=\"relu\")\n",
    "model = tf.keras.models.Sequential([clayer_1, qlayer, clayer_2])"
   ]
  },
  {
   "cell_type": "code",
   "execution_count": null,
   "id": "cc7f8c42-9d6c-4b94-8115-b5151c59909d",
   "metadata": {},
   "outputs": [],
   "source": [
    "opt = tf.keras.optimizers.SGD(learning_rate=0.2)\n",
    "model.compile(opt, loss=\"mae\", metrics=[\"mean_absolute_error\"])"
   ]
  },
  {
   "cell_type": "code",
   "execution_count": null,
   "id": "341262dc-9b30-4b6b-aaac-4c4f5a94b58d",
   "metadata": {},
   "outputs": [],
   "source": [
    "df = df[df.Open != 'pk']\n",
    "df = df[df['2H'] != 'pk']\n",
    "df['Open'] = df['Open'].astype(float)\n",
    "df['2H'] = df['2H'].astype(float)\n",
    "X = df[['1H','Open', 'Sc%','EXP', 'Y/P', 'TD', 'TO%','PF','Yds','ML']]\n",
    "y = df['2H']\n",
    "\n",
    "X = np.asarray(X).astype(np.float32)\n",
    "\n",
    "X_train, X_test, y_train, y_test = train_test_split(X, y, test_size=0.15, random_state=0)\n",
    "\n",
    "scaler = MinMaxScaler(feature_range = (0,1))\n",
    "scaler.fit(X_train)\n",
    "X_train = scaler.transform(X_train)"
   ]
  },
  {
   "cell_type": "code",
   "execution_count": null,
   "id": "007440b9-2eb1-4a80-87a7-fe509650c886",
   "metadata": {},
   "outputs": [],
   "source": [
    "fitting = model.fit(X_train, y_train, epochs=10, batch_size=5, validation_split=0.15, verbose=2)"
   ]
  },
  {
   "cell_type": "code",
   "execution_count": null,
   "id": "51de0ae2-4e17-43b6-b816-8f778d1a179d",
   "metadata": {},
   "outputs": [],
   "source": [
    "X_test = scaler.transform(X_test)\n",
    "preds = model.predict(X_test)"
   ]
  },
  {
   "cell_type": "code",
   "execution_count": null,
   "id": "c1f84a44-fa9e-4c70-9dfd-61f398428bfb",
   "metadata": {},
   "outputs": [],
   "source": [
    "pred = pd.DataFrame(preds, columns =[ 'prediction'])\n",
    "pred = pred[(pred.prediction > 0) & (pred.prediction < 30)]\n",
    "y_test = y_test.reset_index()\n",
    "\n",
    "compare = pd.concat([pred, y_test], axis=1)\n",
    "compare = compare.drop('index', axis=1)"
   ]
  },
  {
   "cell_type": "code",
   "execution_count": null,
   "id": "8f503e16-3e43-4eac-bb23-48c3a9ff4fa2",
   "metadata": {},
   "outputs": [],
   "source": [
    "compare[(compare.prediction - compare['2H']) < 8]"
   ]
  },
  {
   "cell_type": "code",
   "execution_count": null,
   "id": "9fa0dc52-59a8-49d5-a06b-ec6f2bbc31b7",
   "metadata": {},
   "outputs": [],
   "source": []
  },
  {
   "cell_type": "code",
   "execution_count": null,
   "id": "204b1201-0736-4d57-8cb5-b894eb7c8405",
   "metadata": {},
   "outputs": [],
   "source": []
  }
 ],
 "metadata": {
  "kernelspec": {
   "display_name": "Python 3 (ipykernel)",
   "language": "python",
   "name": "python3"
  },
  "language_info": {
   "codemirror_mode": {
    "name": "ipython",
    "version": 3
   },
   "file_extension": ".py",
   "mimetype": "text/x-python",
   "name": "python",
   "nbconvert_exporter": "python",
   "pygments_lexer": "ipython3",
   "version": "3.8.6"
  }
 },
 "nbformat": 4,
 "nbformat_minor": 5
}
