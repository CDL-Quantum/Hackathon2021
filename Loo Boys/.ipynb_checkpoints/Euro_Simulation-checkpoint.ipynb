{
 "cells": [
  {
   "cell_type": "markdown",
   "id": "b0cab0cc",
   "metadata": {},
   "source": [
    "# March Madness\n",
    "\n",
    "**Summary**: March madness is a sports event held every March organized by the National Collegiate Athletic Association (NCAA), which is a tournament among the top 64 teams in the United States. (1)\n",
    "\n",
    "## Defintions\n",
    "1. A tournament (T,$\\lambda$) is a complete binary tree T (having vertices V, leaves L, and internal nodes I) with a bijective labelling $\\lambda$ : L $\\to$ \\{1, ...,|L|\\}\n",
    "2. A bracket $\\beta$ for a tournament (T, $\\lambda$) is a complete set of predictions about the game of a tournament. That is, $\\beta$ is a labelling of V, where $\\beta$(l) = $\\lambda$(l) for l$\\in$ L and $\\beta$(u) $\\in$ $\\{\\beta$(s),$\\beta(t)\\}$ for each $u \\in I$ having children s, t.\n",
    "3. A partial result $\\pi$ of a tournament (T, $\\lambda$) is a labelling of some V', where $L \\subseteq V' \\subseteq V$, where $\\pi$(l) = $\\lambda$(l) for all $l \\in L$ and for every $u \\in I$ having children such that: $u \\in V' \\to s,t \\in V'$ and $\\pi(u)\\in \\{\\pi(s),\\pi(t)\\}$\n",
    "4. A tournament result for a tournment (T, $\\lambda$) is simply a partial result defined on all of V. A tournament result $\\rho$ is consistent with a partial result $\\pi$, written as $\\rho  \\succeq \\pi$, if $\\rho(\\nu)=\\pi(\\nu)$ for all nodes $\\nu$ for which $\\pi$ is defined.\n",
    "5. The score $\\sigma_{\\pi}(\\beta)$ of a branch $\\beta$ relative to a partial result $\\pi$ (defined on V') is $|\\{v \\in V' \\bigcap I : \\beta(\\nu) = \\pi(\\nu)\\}|$\n",
    "\n",
    "## Algorithm\n",
    "In this program, we will solve the march madness using the quantum decision trees (2, 3).\n"
   ]
  },
  {
   "cell_type": "markdown",
   "id": "b9d30f59",
   "metadata": {},
   "source": [
    "### References:\n",
    "1. https://web.eecs.umich.edu/~cpeikert/pubs/march_madness.pdf\n",
    "2. https://arxiv.org/pdf/1703.03693.pdf\n",
    "3. https://arxiv.org/pdf/quant-ph/9706062.pdf"
   ]
  },
  {
   "cell_type": "code",
   "execution_count": 2,
   "id": "dd84405b",
   "metadata": {},
   "outputs": [
    {
     "name": "stdout",
     "output_type": "stream",
     "text": [
      "Requirement already satisfied: pennylane in /Users/brandonhiles/opt/anaconda3/envs/cohert/lib/python3.7/site-packages (0.16.0)\n",
      "Requirement already satisfied: semantic-version==2.6 in /Users/brandonhiles/opt/anaconda3/envs/cohert/lib/python3.7/site-packages (from pennylane) (2.6.0)\n",
      "Requirement already satisfied: autograd in /Users/brandonhiles/opt/anaconda3/envs/cohert/lib/python3.7/site-packages (from pennylane) (1.3)\n",
      "Requirement already satisfied: appdirs in /Users/brandonhiles/opt/anaconda3/envs/cohert/lib/python3.7/site-packages (from pennylane) (1.4.4)\n",
      "Requirement already satisfied: networkx in /Users/brandonhiles/.local/lib/python3.7/site-packages (from pennylane) (2.5.1)\n",
      "Requirement already satisfied: toml in /Users/brandonhiles/opt/anaconda3/envs/cohert/lib/python3.7/site-packages (from pennylane) (0.10.2)\n",
      "Requirement already satisfied: scipy in /Users/brandonhiles/.local/lib/python3.7/site-packages (from pennylane) (1.7.0)\n",
      "Requirement already satisfied: numpy in /Users/brandonhiles/opt/anaconda3/envs/cohert/lib/python3.7/site-packages (from pennylane) (1.20.3)\n",
      "Requirement already satisfied: autoray in /Users/brandonhiles/opt/anaconda3/envs/cohert/lib/python3.7/site-packages (from pennylane) (0.2.5)\n",
      "Requirement already satisfied: future>=0.15.2 in /Users/brandonhiles/opt/anaconda3/envs/cohert/lib/python3.7/site-packages (from autograd->pennylane) (0.18.2)\n",
      "Requirement already satisfied: decorator<5,>=4.3 in /Users/brandonhiles/.local/lib/python3.7/site-packages (from networkx->pennylane) (4.4.2)\n"
     ]
    }
   ],
   "source": [
    "# Install all our dependencies\n",
    "\n",
    "!pip install pennylane"
   ]
  },
  {
   "cell_type": "code",
   "execution_count": 3,
   "id": "032de1f8",
   "metadata": {},
   "outputs": [],
   "source": [
    "import pennylane as qml\n",
    "from pennylane import numpy as np"
   ]
  },
  {
   "cell_type": "code",
   "execution_count": 5,
   "id": "4630c242",
   "metadata": {},
   "outputs": [
    {
     "ename": "NameError",
     "evalue": "name 'dev' is not defined",
     "output_type": "error",
     "traceback": [
      "\u001b[0;31m---------------------------------------------------------------------------\u001b[0m",
      "\u001b[0;31mNameError\u001b[0m                                 Traceback (most recent call last)",
      "\u001b[0;32m<ipython-input-5-25842a8ed14b>\u001b[0m in \u001b[0;36m<module>\u001b[0;34m\u001b[0m\n\u001b[1;32m      1\u001b[0m \u001b[0;31m# Test code to see if imports are working\u001b[0m\u001b[0;34m\u001b[0m\u001b[0;34m\u001b[0m\u001b[0;34m\u001b[0m\u001b[0m\n\u001b[0;32m----> 2\u001b[0;31m \u001b[0;34m@\u001b[0m\u001b[0mqml\u001b[0m\u001b[0;34m.\u001b[0m\u001b[0mqnode\u001b[0m\u001b[0;34m(\u001b[0m\u001b[0mdev\u001b[0m\u001b[0;34m)\u001b[0m\u001b[0;34m\u001b[0m\u001b[0;34m\u001b[0m\u001b[0m\n\u001b[0m\u001b[1;32m      3\u001b[0m \u001b[0;32mdef\u001b[0m \u001b[0mcircuit_2\u001b[0m\u001b[0;34m(\u001b[0m\u001b[0mtheta\u001b[0m\u001b[0;34m,\u001b[0m \u001b[0mphi\u001b[0m\u001b[0;34m)\u001b[0m\u001b[0;34m:\u001b[0m\u001b[0;34m\u001b[0m\u001b[0;34m\u001b[0m\u001b[0m\n\u001b[1;32m      4\u001b[0m     \u001b[0mqml\u001b[0m\u001b[0;34m.\u001b[0m\u001b[0mCNOT\u001b[0m\u001b[0;34m(\u001b[0m\u001b[0mwires\u001b[0m\u001b[0;34m=\u001b[0m\u001b[0;34m[\u001b[0m\u001b[0;36m0\u001b[0m\u001b[0;34m,\u001b[0m \u001b[0;36m1\u001b[0m\u001b[0;34m]\u001b[0m\u001b[0;34m)\u001b[0m\u001b[0;34m\u001b[0m\u001b[0;34m\u001b[0m\u001b[0m\n\u001b[1;32m      5\u001b[0m     \u001b[0mqml\u001b[0m\u001b[0;34m.\u001b[0m\u001b[0mRX\u001b[0m\u001b[0;34m(\u001b[0m\u001b[0mtheta\u001b[0m\u001b[0;34m,\u001b[0m \u001b[0mwires\u001b[0m\u001b[0;34m=\u001b[0m\u001b[0;36m2\u001b[0m\u001b[0;34m)\u001b[0m\u001b[0;34m\u001b[0m\u001b[0;34m\u001b[0m\u001b[0m\n",
      "\u001b[0;31mNameError\u001b[0m: name 'dev' is not defined"
     ]
    }
   ],
   "source": [
    "# Test code to see if imports are working\n",
    "\n",
    "@qml.qnode(dev)\n",
    "def circuit_2(theta, phi):\n",
    "    qml.CNOT(wires=[0, 1])\n",
    "    qml.RX(theta, wires=2)\n",
    "    qml.Hadamard(wires=0)\n",
    "    qml.CNOT(wires=[2, 0])\n",
    "    qml.RY(phi, wires=1)\n",
    "    \n",
    "    return qml.expval(qml.PauliY(wires=0)), qml.expval(qml.PauliZ(wires=1))\n",
    "\n",
    "theta = np.array(0.1)\n",
    "phi = np.array(0.2)\n",
    "circuit_2(theta, phi)\n",
    "print(qml.draw(circuit_2)(theta, phi))"
   ]
  },
  {
   "cell_type": "code",
   "execution_count": null,
   "id": "230ec261",
   "metadata": {},
   "outputs": [],
   "source": []
  },
  {
   "cell_type": "code",
   "execution_count": null,
   "id": "0080f648",
   "metadata": {},
   "outputs": [],
   "source": []
  }
 ],
 "metadata": {
  "kernelspec": {
   "display_name": "brandon",
   "language": "python",
   "name": "brandon"
  },
  "language_info": {
   "codemirror_mode": {
    "name": "ipython",
    "version": 3
   },
   "file_extension": ".py",
   "mimetype": "text/x-python",
   "name": "python",
   "nbconvert_exporter": "python",
   "pygments_lexer": "ipython3",
   "version": "3.7.1"
  }
 },
 "nbformat": 4,
 "nbformat_minor": 5
}
