{
 "cells": [
  {
   "cell_type": "code",
   "execution_count": 2,
   "id": "5d2b45a0-6b62-4e19-8f08-d7d458d92663",
   "metadata": {},
   "outputs": [],
   "source": [
    "import requests\n",
    "import pandas as pd\n",
    "import numpy as np\n",
    "from dimod import BinaryQuadraticModel\n",
    "from dwave.system import LeapHybridSampler"
   ]
  },
  {
   "cell_type": "code",
   "execution_count": 3,
   "id": "8c61393f-8f26-4daa-876e-7279f8c2ebbf",
   "metadata": {},
   "outputs": [],
   "source": [
    "url = 'https://fantasy.premierleague.com/api/bootstrap-static/'\n",
    "r = requests.get(url)\n",
    "json = r.json()\n",
    "json.keys()\n",
    "\n",
    "elements_df = pd.DataFrame(json['elements'])\n",
    "elements_types_df = pd.DataFrame(json['element_types'])\n",
    "teams_df = pd.DataFrame(json['teams'])"
   ]
  },
  {
   "cell_type": "code",
   "execution_count": 4,
   "id": "7f2eb18b-74cf-49df-ab05-d5a6a1d3d431",
   "metadata": {},
   "outputs": [],
   "source": [
    "slim_elements_df = elements_df[['second_name','team','element_type','selected_by_percent','now_cost','minutes','transfers_in','value_season','total_points']]\n",
    "df = slim_elements_df.merge(elements_types_df, left_on = 'element_type', right_on = 'id')\n",
    "\n",
    "df = df[['plural_name_short','second_name','team','element_type','selected_by_percent','now_cost','minutes','transfers_in','value_season','total_points']]"
   ]
  },
  {
   "cell_type": "code",
   "execution_count": 4,
   "id": "8cc8fd76-bed0-4ce9-a95e-128346f14cb5",
   "metadata": {},
   "outputs": [],
   "source": [
    "df = df[df.minutes > 100]\n",
    "df.loc[df.plural_name_short == 'GKP', 'class'] = 1\n",
    "df.loc[df.plural_name_short == 'DEF', 'class'] = 2\n",
    "df.loc[df.plural_name_short == 'FWD', 'class'] = 3\n",
    "df.loc[df.plural_name_short == 'MID', 'class'] = 4"
   ]
  },
  {
   "cell_type": "code",
   "execution_count": 5,
   "id": "2cdd5b50-bd67-47f0-b25d-418b85af8ecd",
   "metadata": {},
   "outputs": [],
   "source": [
    "df_mid = df[df.plural_name_short == 'MID']\n",
    "df_gk = df[df.plural_name_short == 'GKP']\n",
    "df_def = df[df.plural_name_short == 'DEF']\n",
    "df_fwd = df[df.plural_name_short == 'FWD']"
   ]
  },
  {
   "cell_type": "code",
   "execution_count": 6,
   "id": "d65c225c-0816-498c-8c18-db8dee489ce4",
   "metadata": {},
   "outputs": [],
   "source": [
    "def set_up_bqm(df1, percent, max_weight):\n",
    "    df1['value_season'] = df1['value_season'].astype(float)\n",
    "    values = list(df1['value_season'])\n",
    "    weights = list(df1['now_cost'])\n",
    "    volumes = [x/x for x in range(1, len(values))]\n",
    "\n",
    "    n = len(values)\n",
    "    variables = list(range(n))\n",
    "    weight = max_weight*percent\n",
    "\n",
    "    return variables, values, volumes"
   ]
  },
  {
   "cell_type": "code",
   "execution_count": 7,
   "id": "2329efe2-e11a-48e0-95b9-c90a6d213c73",
   "metadata": {},
   "outputs": [],
   "source": [
    "def bqm_position(variables, values, volumes, max_volume):\n",
    "\n",
    "    bqm = BinaryQuadraticModel('BINARY')\n",
    "\n",
    "    variables = [bqm.add_variable(v, -values[v]) for v in variables]\n",
    "    \n",
    "    slacks_volume = bqm.add_linear_equality_constraint(\n",
    "    [(x, v) for x, v in zip(variables, volumes)],\n",
    "    constant=-max_volume,\n",
    "    lagrange_multiplier=500\n",
    "    )\n",
    "\n",
    "    return bqm"
   ]
  },
  {
   "cell_type": "code",
   "execution_count": 8,
   "id": "7f0c8167-f46b-406a-8d88-813c1f03e769",
   "metadata": {},
   "outputs": [
    {
     "name": "stderr",
     "output_type": "stream",
     "text": [
      "/Library/Frameworks/Python.framework/Versions/3.8/lib/python3.8/site-packages/pandas/core/frame.py:3607: SettingWithCopyWarning: \n",
      "A value is trying to be set on a copy of a slice from a DataFrame.\n",
      "Try using .loc[row_indexer,col_indexer] = value instead\n",
      "\n",
      "See the caveats in the documentation: https://pandas.pydata.org/pandas-docs/stable/user_guide/indexing.html#returning-a-view-versus-a-copy\n",
      "  self._set_item(key, value)\n"
     ]
    }
   ],
   "source": [
    "variables_def, values_def, volumes_def = set_up_bqm(df_def, 20, 1000)\n",
    "variables_mid, values_mid, volumes_mid = set_up_bqm(df_mid, 30, 1000)\n",
    "variables_fwd, values_fwd, volumes_fwd = set_up_bqm(df_fwd, 30, 1000)\n",
    "variables_gk, values_gk, volumes_gk = set_up_bqm(df_gk, 20, 1000)"
   ]
  },
  {
   "cell_type": "code",
   "execution_count": 9,
   "id": "6f5b42e4-b327-4afb-aff5-1c3edf3d8a95",
   "metadata": {},
   "outputs": [],
   "source": [
    "bqm_mid=bqm_position(variables_mid,values_mid,volumes_mid, 3)\n",
    "bqm_fwd=bqm_position(variables_fwd,values_fwd,volumes_fwd, 1)\n",
    "bqm_gk=bqm_position(variables_gk,values_gk,volumes_gk, 0)\n",
    "bqm_def=bqm_position(variables_def,values_def,volumes_def, 3)"
   ]
  },
  {
   "cell_type": "code",
   "execution_count": 10,
   "id": "a13f296d-e43f-44d3-90df-0b0c71fb0615",
   "metadata": {},
   "outputs": [],
   "source": [
    "def get_players(bqm, df):\n",
    "    sampler = LeapHybridSampler(token = \"KmJQ-eb7dea9880650063660800305a6750d9fe70bb21\")\n",
    "    response = sampler.sample(\n",
    "        bqm, time_limit=25,\n",
    "        )\n",
    "    best_solution = response.first.sample\n",
    "    indices = []\n",
    "\n",
    "    for i, v in best_solution.items():\n",
    "        if v != 0:\n",
    "            indices.append(i)\n",
    "\n",
    "    print(df.iloc[indices][['second_name','plural_name_short' ]])"
   ]
  },
  {
   "cell_type": "code",
   "execution_count": 11,
   "id": "29eb1af7-306a-48a7-ba48-12c5f787dbb9",
   "metadata": {},
   "outputs": [
    {
     "name": "stdout",
     "output_type": "stream",
     "text": [
      "     second_name plural_name_short\n",
      "330      Targett               DEF\n",
      "421  Wan-Bissaka               DEF\n",
      "469    Cresswell               DEF\n",
      "485    Ait Nouri               DEF\n"
     ]
    }
   ],
   "source": [
    "get_players(bqm_def, df_def)"
   ]
  },
  {
   "cell_type": "code",
   "execution_count": 13,
   "id": "ae6aff7e-4a84-4270-baeb-f81bbb676052",
   "metadata": {},
   "outputs": [
    {
     "name": "stdout",
     "output_type": "stream",
     "text": [
      "    second_name plural_name_short\n",
      "145      Dallas               MID\n",
      "152    Harrison               MID\n",
      "244      Soucek               MID\n",
      "253    Otasowie               MID\n"
     ]
    }
   ],
   "source": [
    "get_players(bqm_mid , df_mid)"
   ]
  },
  {
   "cell_type": "code",
   "execution_count": 14,
   "id": "b2f7cd00-883f-4187-84e5-184a0106a84a",
   "metadata": {},
   "outputs": [
    {
     "name": "stdout",
     "output_type": "stream",
     "text": [
      "    second_name plural_name_short\n",
      "285     Bamford               FWD\n",
      "315       Silva               FWD\n"
     ]
    }
   ],
   "source": [
    "get_players(bqm_fwd , df_fwd)"
   ]
  },
  {
   "cell_type": "code",
   "execution_count": 15,
   "id": "c2b0fcd9-1994-4109-9aec-372fde7683d5",
   "metadata": {},
   "outputs": [
    {
     "name": "stdout",
     "output_type": "stream",
     "text": [
      "            second_name plural_name_short\n",
      "47  dos Santos Patrício               GKP\n"
     ]
    }
   ],
   "source": [
    "get_players(bqm_gk, df_gk)"
   ]
  },
  {
   "cell_type": "code",
   "execution_count": null,
   "id": "bf3f28ca-254c-41e9-9789-82e76c0c60b6",
   "metadata": {},
   "outputs": [],
   "source": []
  },
  {
   "cell_type": "code",
   "execution_count": null,
   "id": "d708ab04-8ac0-4564-b5a3-a2e9b3555a61",
   "metadata": {},
   "outputs": [],
   "source": []
  },
  {
   "cell_type": "code",
   "execution_count": null,
   "id": "49a1d7c4-77ae-4891-ad75-878d13adb264",
   "metadata": {},
   "outputs": [],
   "source": []
  }
 ],
 "metadata": {
  "kernelspec": {
   "display_name": "Python 3",
   "language": "python",
   "name": "python3"
  },
  "language_info": {
   "codemirror_mode": {
    "name": "ipython",
    "version": 3
   },
   "file_extension": ".py",
   "mimetype": "text/x-python",
   "name": "python",
   "nbconvert_exporter": "python",
   "pygments_lexer": "ipython3",
   "version": "3.8.5"
  }
 },
 "nbformat": 4,
 "nbformat_minor": 5
}
