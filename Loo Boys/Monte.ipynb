{
 "cells": [
  {
   "cell_type": "code",
   "execution_count": 1,
   "id": "15004d24-310c-454c-b9e6-d284c12fb672",
   "metadata": {},
   "outputs": [],
   "source": [
    "import pandas as pd\n",
    "import numpy as np\n",
    "from dimod import BinaryQuadraticModel\n",
    "from dwave.system import LeapHybridSampler\n",
    "import matplotlib.pyplot as plt\n",
    "import warnings\n",
    "from collections import Counter\n",
    "import cirq\n",
    "warnings.filterwarnings('ignore')\n",
    "\n",
    "plt.rcParams[\"figure.figsize\"] = (10,8)"
   ]
  },
  {
   "cell_type": "code",
   "execution_count": 2,
   "id": "23176014-fa4a-444e-8c3f-ce716eac34dd",
   "metadata": {},
   "outputs": [],
   "source": [
    "df = pd.read_csv('basket.csv')"
   ]
  },
  {
   "cell_type": "code",
   "execution_count": 3,
   "id": "0d0bd7cc-7bd5-455b-8e6f-35cd2007e305",
   "metadata": {},
   "outputs": [],
   "source": [
    "df.loc[df.PTS > df['PTS.1'], 'Winner'] = df['Visitor']\n",
    "df.loc[df.PTS < df['PTS.1'], 'Winner'] = df['Home']\n",
    "\n",
    "df.loc[df.PTS > df['PTS.1'], 'Loser'] = df['Home']\n",
    "df.loc[df.PTS < df['PTS.1'], 'Loser'] = df['Visitor']"
   ]
  },
  {
   "cell_type": "code",
   "execution_count": 4,
   "id": "33f2a164-e8b6-42ce-8ad3-879e1c62a779",
   "metadata": {},
   "outputs": [],
   "source": [
    "df['VisitorPPG'] = df.groupby('Visitor')['PTS'].transform(np.mean)\n",
    "df['HomePPG'] = df.groupby('Home')['PTS.1'].transform(np.mean)"
   ]
  },
  {
   "cell_type": "code",
   "execution_count": 5,
   "id": "87678152-005a-4fa8-822a-ac2691d2cf4d",
   "metadata": {},
   "outputs": [
    {
     "data": {
      "text/html": [
       "<div>\n",
       "<style scoped>\n",
       "    .dataframe tbody tr th:only-of-type {\n",
       "        vertical-align: middle;\n",
       "    }\n",
       "\n",
       "    .dataframe tbody tr th {\n",
       "        vertical-align: top;\n",
       "    }\n",
       "\n",
       "    .dataframe thead th {\n",
       "        text-align: right;\n",
       "    }\n",
       "</style>\n",
       "<table border=\"1\" class=\"dataframe\">\n",
       "  <thead>\n",
       "    <tr style=\"text-align: right;\">\n",
       "      <th></th>\n",
       "      <th>Date</th>\n",
       "      <th>Start (ET)</th>\n",
       "      <th>Visitor</th>\n",
       "      <th>PTS</th>\n",
       "      <th>Home</th>\n",
       "      <th>PTS.1</th>\n",
       "      <th>Attend.</th>\n",
       "      <th>Winner</th>\n",
       "      <th>Loser</th>\n",
       "      <th>VisitorPPG</th>\n",
       "      <th>HomePPG</th>\n",
       "    </tr>\n",
       "  </thead>\n",
       "  <tbody>\n",
       "    <tr>\n",
       "      <th>0</th>\n",
       "      <td>Tue, Dec 22, 2020</td>\n",
       "      <td>7:00p</td>\n",
       "      <td>Golden State Warriors</td>\n",
       "      <td>99</td>\n",
       "      <td>Brooklyn Nets</td>\n",
       "      <td>125</td>\n",
       "      <td>0</td>\n",
       "      <td>Brooklyn Nets</td>\n",
       "      <td>Golden State Warriors</td>\n",
       "      <td>110.750000</td>\n",
       "      <td>127.000000</td>\n",
       "    </tr>\n",
       "    <tr>\n",
       "      <th>1</th>\n",
       "      <td>Tue, Dec 22, 2020</td>\n",
       "      <td>10:00p</td>\n",
       "      <td>Los Angeles Clippers</td>\n",
       "      <td>116</td>\n",
       "      <td>Los Angeles Lakers</td>\n",
       "      <td>109</td>\n",
       "      <td>0</td>\n",
       "      <td>Los Angeles Clippers</td>\n",
       "      <td>Los Angeles Lakers</td>\n",
       "      <td>118.500000</td>\n",
       "      <td>120.250000</td>\n",
       "    </tr>\n",
       "    <tr>\n",
       "      <th>2</th>\n",
       "      <td>Wed, Dec 23, 2020</td>\n",
       "      <td>7:00p</td>\n",
       "      <td>Charlotte Hornets</td>\n",
       "      <td>114</td>\n",
       "      <td>Cleveland Cavaliers</td>\n",
       "      <td>121</td>\n",
       "      <td>300</td>\n",
       "      <td>Cleveland Cavaliers</td>\n",
       "      <td>Charlotte Hornets</td>\n",
       "      <td>116.000000</td>\n",
       "      <td>108.333333</td>\n",
       "    </tr>\n",
       "    <tr>\n",
       "      <th>3</th>\n",
       "      <td>Wed, Dec 23, 2020</td>\n",
       "      <td>7:00p</td>\n",
       "      <td>New York Knicks</td>\n",
       "      <td>107</td>\n",
       "      <td>Indiana Pacers</td>\n",
       "      <td>121</td>\n",
       "      <td>0</td>\n",
       "      <td>Indiana Pacers</td>\n",
       "      <td>New York Knicks</td>\n",
       "      <td>95.000000</td>\n",
       "      <td>114.750000</td>\n",
       "    </tr>\n",
       "    <tr>\n",
       "      <th>4</th>\n",
       "      <td>Wed, Dec 23, 2020</td>\n",
       "      <td>7:00p</td>\n",
       "      <td>Miami Heat</td>\n",
       "      <td>107</td>\n",
       "      <td>Orlando Magic</td>\n",
       "      <td>113</td>\n",
       "      <td>3,396</td>\n",
       "      <td>Orlando Magic</td>\n",
       "      <td>Miami Heat</td>\n",
       "      <td>107.000000</td>\n",
       "      <td>102.500000</td>\n",
       "    </tr>\n",
       "    <tr>\n",
       "      <th>...</th>\n",
       "      <td>...</td>\n",
       "      <td>...</td>\n",
       "      <td>...</td>\n",
       "      <td>...</td>\n",
       "      <td>...</td>\n",
       "      <td>...</td>\n",
       "      <td>...</td>\n",
       "      <td>...</td>\n",
       "      <td>...</td>\n",
       "      <td>...</td>\n",
       "      <td>...</td>\n",
       "    </tr>\n",
       "    <tr>\n",
       "      <th>62</th>\n",
       "      <td>Thu, Dec 31, 2020</td>\n",
       "      <td>6:30p</td>\n",
       "      <td>Philadelphia 76ers</td>\n",
       "      <td>116</td>\n",
       "      <td>Orlando Magic</td>\n",
       "      <td>92</td>\n",
       "      <td>3,247</td>\n",
       "      <td>Philadelphia 76ers</td>\n",
       "      <td>Orlando Magic</td>\n",
       "      <td>106.333333</td>\n",
       "      <td>102.500000</td>\n",
       "    </tr>\n",
       "    <tr>\n",
       "      <th>63</th>\n",
       "      <td>Thu, Dec 31, 2020</td>\n",
       "      <td>7:00p</td>\n",
       "      <td>Sacramento Kings</td>\n",
       "      <td>119</td>\n",
       "      <td>Houston Rockets</td>\n",
       "      <td>122</td>\n",
       "      <td>3,247</td>\n",
       "      <td>Houston Rockets</td>\n",
       "      <td>Sacramento Kings</td>\n",
       "      <td>121.500000</td>\n",
       "      <td>122.000000</td>\n",
       "    </tr>\n",
       "    <tr>\n",
       "      <th>64</th>\n",
       "      <td>Thu, Dec 31, 2020</td>\n",
       "      <td>7:30p</td>\n",
       "      <td>New York Knicks</td>\n",
       "      <td>83</td>\n",
       "      <td>Toronto Raptors</td>\n",
       "      <td>100</td>\n",
       "      <td>3,449</td>\n",
       "      <td>Toronto Raptors</td>\n",
       "      <td>New York Knicks</td>\n",
       "      <td>95.000000</td>\n",
       "      <td>99.500000</td>\n",
       "    </tr>\n",
       "    <tr>\n",
       "      <th>65</th>\n",
       "      <td>Thu, Dec 31, 2020</td>\n",
       "      <td>8:00p</td>\n",
       "      <td>New Orleans Pelicans</td>\n",
       "      <td>113</td>\n",
       "      <td>Oklahoma City Thunder</td>\n",
       "      <td>80</td>\n",
       "      <td>0</td>\n",
       "      <td>New Orleans Pelicans</td>\n",
       "      <td>Oklahoma City Thunder</td>\n",
       "      <td>102.500000</td>\n",
       "      <td>98.666667</td>\n",
       "    </tr>\n",
       "    <tr>\n",
       "      <th>66</th>\n",
       "      <td>Thu, Dec 31, 2020</td>\n",
       "      <td>9:00p</td>\n",
       "      <td>Phoenix Suns</td>\n",
       "      <td>106</td>\n",
       "      <td>Utah Jazz</td>\n",
       "      <td>95</td>\n",
       "      <td>1,932</td>\n",
       "      <td>Phoenix Suns</td>\n",
       "      <td>Utah Jazz</td>\n",
       "      <td>108.333333</td>\n",
       "      <td>103.000000</td>\n",
       "    </tr>\n",
       "  </tbody>\n",
       "</table>\n",
       "<p>67 rows × 11 columns</p>\n",
       "</div>"
      ],
      "text/plain": [
       "                 Date Start (ET)                Visitor  PTS  \\\n",
       "0   Tue, Dec 22, 2020      7:00p  Golden State Warriors   99   \n",
       "1   Tue, Dec 22, 2020     10:00p   Los Angeles Clippers  116   \n",
       "2   Wed, Dec 23, 2020      7:00p      Charlotte Hornets  114   \n",
       "3   Wed, Dec 23, 2020      7:00p        New York Knicks  107   \n",
       "4   Wed, Dec 23, 2020      7:00p             Miami Heat  107   \n",
       "..                ...        ...                    ...  ...   \n",
       "62  Thu, Dec 31, 2020      6:30p     Philadelphia 76ers  116   \n",
       "63  Thu, Dec 31, 2020      7:00p       Sacramento Kings  119   \n",
       "64  Thu, Dec 31, 2020      7:30p        New York Knicks   83   \n",
       "65  Thu, Dec 31, 2020      8:00p   New Orleans Pelicans  113   \n",
       "66  Thu, Dec 31, 2020      9:00p           Phoenix Suns  106   \n",
       "\n",
       "                     Home  PTS.1 Attend.                Winner  \\\n",
       "0           Brooklyn Nets    125       0         Brooklyn Nets   \n",
       "1      Los Angeles Lakers    109       0  Los Angeles Clippers   \n",
       "2     Cleveland Cavaliers    121     300   Cleveland Cavaliers   \n",
       "3          Indiana Pacers    121       0        Indiana Pacers   \n",
       "4           Orlando Magic    113   3,396         Orlando Magic   \n",
       "..                    ...    ...     ...                   ...   \n",
       "62          Orlando Magic     92   3,247    Philadelphia 76ers   \n",
       "63        Houston Rockets    122   3,247       Houston Rockets   \n",
       "64        Toronto Raptors    100   3,449       Toronto Raptors   \n",
       "65  Oklahoma City Thunder     80       0  New Orleans Pelicans   \n",
       "66              Utah Jazz     95   1,932          Phoenix Suns   \n",
       "\n",
       "                    Loser  VisitorPPG     HomePPG  \n",
       "0   Golden State Warriors  110.750000  127.000000  \n",
       "1      Los Angeles Lakers  118.500000  120.250000  \n",
       "2       Charlotte Hornets  116.000000  108.333333  \n",
       "3         New York Knicks   95.000000  114.750000  \n",
       "4              Miami Heat  107.000000  102.500000  \n",
       "..                    ...         ...         ...  \n",
       "62          Orlando Magic  106.333333  102.500000  \n",
       "63       Sacramento Kings  121.500000  122.000000  \n",
       "64        New York Knicks   95.000000   99.500000  \n",
       "65  Oklahoma City Thunder  102.500000   98.666667  \n",
       "66              Utah Jazz  108.333333  103.000000  \n",
       "\n",
       "[67 rows x 11 columns]"
      ]
     },
     "execution_count": 5,
     "metadata": {},
     "output_type": "execute_result"
    }
   ],
   "source": [
    "df"
   ]
  },
  {
   "cell_type": "code",
   "execution_count": 6,
   "id": "8c8666ce-45b6-49c4-91e6-a8ff46dcf87f",
   "metadata": {},
   "outputs": [],
   "source": [
    "sim = {}\n",
    "\n",
    "for j in range(100):\n",
    "\n",
    "    games = []\n",
    "\n",
    "    for i in range(len(df)):\n",
    "        if df['VisitorPPG'][i] > 0.8*np.exp(np.random.rand(1))*df['HomePPG'][i]:\n",
    "            games.append(df['Visitor'][i])\n",
    "        else:\n",
    "            games.append(df['Home'][i])\n",
    "            \n",
    "        cts = Counter(games)\n",
    "        sim[j] = list(cts.items())"
   ]
  },
  {
   "cell_type": "code",
   "execution_count": 7,
   "id": "caee2cab-83a2-494e-b972-5fcbe10fce14",
   "metadata": {},
   "outputs": [],
   "source": [
    "tms = {}\n",
    "\n",
    "for i in range(100):\n",
    "    for j in sim[i]:\n",
    "        try:\n",
    "            tms[j[0]].append(j[1])\n",
    "            \n",
    "        except:\n",
    "            tms[j[0]] = [j[1]]"
   ]
  },
  {
   "cell_type": "code",
   "execution_count": 8,
   "id": "fb0d8aa1-db9b-4f39-842e-21248f0f1c49",
   "metadata": {},
   "outputs": [
    {
     "data": {
      "image/png": "[encoded data removed]",
      "text/plain": [
       "<Figure size 720x576 with 1 Axes>"
      ]
     },
     "metadata": {
      "needs_background": "light"
     },
     "output_type": "display_data"
    }
   ],
   "source": [
    "for i, v in tms.items():\n",
    "    #print(i, np.mean(v))\n",
    "    plt.bar(i, np.mean(v))\n",
    "    plt.xticks(rotation = 90)\n",
    "    plt.title('Average Win Number accross 100 Simulations')\n",
    "    plt.ylabel('Average Number of Wins')"
   ]
  },
  {
   "cell_type": "code",
   "execution_count": 9,
   "id": "90fff31d-ffd4-47bb-9083-5988c18898ae",
   "metadata": {},
   "outputs": [
    {
     "data": {
      "text/plain": [
       "Atlanta Hawks             3.0\n",
       "Boston Celtics            3.0\n",
       "Brooklyn Nets             3.0\n",
       "Charlotte Hornets         2.0\n",
       "Chicago Bulls             2.0\n",
       "Cleveland Cavaliers       3.0\n",
       "Dallas Mavericks          1.0\n",
       "Denver Nuggets            1.0\n",
       "Detroit Pistons           0.0\n",
       "Golden State Warriors     NaN\n",
       "Houston Rockets           1.0\n",
       "Indiana Pacers            4.0\n",
       "Los Angeles Clippers      4.0\n",
       "Los Angeles Lakers        3.0\n",
       "Memphis Grizzlies         1.0\n",
       "Miami Heat                2.0\n",
       "Milwaukee Bucks           2.0\n",
       "Minnesota Timberwolves    2.0\n",
       "New Orleans Pelicans      3.0\n",
       "New York Knicks           2.0\n",
       "Oklahoma City Thunder     1.0\n",
       "Orlando Magic             4.0\n",
       "Philadelphia 76ers        4.0\n",
       "Phoenix Suns              4.0\n",
       "Portland Trail Blazers    2.0\n",
       "Sacramento Kings          3.0\n",
       "San Antonio Spurs         2.0\n",
       "Toronto Raptors           1.0\n",
       "Utah Jazz                 2.0\n",
       "Washington Wizards        0.0\n",
       "dtype: float64"
      ]
     },
     "execution_count": 9,
     "metadata": {},
     "output_type": "execute_result"
    }
   ],
   "source": [
    "##actual results####\n",
    "\n",
    "df.loc[df.Visitor == df.Winner, 'VisitorWin'] = 1\n",
    "df.loc[df.Home == df.Winner, 'HomeWin'] = 1\n",
    "\n",
    "gb_wins = df.groupby(['Visitor'])['VisitorWin'].sum() + df.groupby(['Home'])['HomeWin'].sum()\n",
    "gb_wins"
   ]
  },
  {
   "cell_type": "code",
   "execution_count": 11,
   "id": "3f060423-ff4f-4b47-bb25-2bf9ac9a2986",
   "metadata": {},
   "outputs": [
    {
     "data": {
      "image/png": "[encoded data removed]",
      "text/plain": [
       "<Figure size 720x576 with 1 Axes>"
      ]
     },
     "metadata": {
      "needs_background": "light"
     },
     "output_type": "display_data"
    }
   ],
   "source": [
    "######simulations of one time###\n",
    "\n",
    "####Looks like we found the lowest energy state is 1 win!####\n",
    "\n",
    "plt.title('Simulation for 1 NBA Team')\n",
    "plt.xlabel('Simulation #')\n",
    "plt.ylabel('# of Wins')\n",
    "plt.scatter([x for x in range(len(tms['Toronto Raptors']))], tms['Toronto Raptors']);"
   ]
  },
  {
   "cell_type": "code",
   "execution_count": 12,
   "id": "57f690dc-c313-4c2d-8407-bc70e6a2b563",
   "metadata": {},
   "outputs": [],
   "source": [
    "##########Quantum Algo#################"
   ]
  },
  {
   "cell_type": "code",
   "execution_count": 36,
   "id": "1f420e3a-eda3-4d11-885e-7d3476b80c6b",
   "metadata": {},
   "outputs": [
    {
     "name": "stdout",
     "output_type": "stream",
     "text": [
      "Circuit:\n",
      "(0, 0): ───X^0.5───M('m')───\n"
     ]
    }
   ],
   "source": [
    "qubit = cirq.GridQubit(0, 0)\n",
    "\n",
    "circuit = cirq.Circuit(\n",
    "    cirq.X(qubit)**0.5,  \n",
    "    cirq.measure(qubit, key='m')  \n",
    ")\n",
    "print(\"Circuit:\")\n",
    "print(circuit)"
   ]
  },
  {
   "cell_type": "code",
   "execution_count": 44,
   "id": "ff97a519-f4c6-4951-8279-2a1afa93d585",
   "metadata": {},
   "outputs": [],
   "source": [
    "lst = []\n",
    "\n",
    "for i in range(100):\n",
    "    simulator = cirq.Simulator()\n",
    "    result = simulator.run(circuit, repetitions=5)\n",
    "    #print(result)\n",
    "    lst.append(result)\n",
    "    "
   ]
  },
  {
   "cell_type": "code",
   "execution_count": 55,
   "id": "178a2aec-ec4c-46f2-8c4a-d240473f4676",
   "metadata": {},
   "outputs": [],
   "source": [
    "dicts ={}\n",
    "\n",
    "for i in lst:\n",
    "    try:\n",
    "        dicts[str(i)].append(1)\n",
    "    except:\n",
    "        dicts[str(i)] = [1]"
   ]
  },
  {
   "cell_type": "code",
   "execution_count": null,
   "id": "19a15bd9-a933-4e25-9101-c864d9371d25",
   "metadata": {},
   "outputs": [],
   "source": [
    "####the order of the state represents the number of wins in 5 games (ex. 01100 would mean the team won the second and third games and lost the rest)##"
   ]
  },
  {
   "cell_type": "code",
   "execution_count": 64,
   "id": "ff599265-fa2b-4b3f-aa72-d9e7bcf264c9",
   "metadata": {},
   "outputs": [
    {
     "data": {
      "image/png": "[encoded data removed]",
      "text/plain": [
       "<Figure size 720x576 with 1 Axes>"
      ]
     },
     "metadata": {
      "needs_background": "light"
     },
     "output_type": "display_data"
    }
   ],
   "source": [
    "for i,v in dicts.items():\n",
    "    plt.bar(i, len(v))\n",
    "    plt.xticks(rotation = 90)\n",
    "    plt.title('Occurances of Quantum States')\n",
    "    plt.ylabel('# of Occurances')"
   ]
  }
 ],
 "metadata": {
  "kernelspec": {
   "display_name": "Python 3 (ipykernel)",
   "language": "python",
   "name": "python3"
  },
  "language_info": {
   "codemirror_mode": {
    "name": "ipython",
    "version": 3
   },
   "file_extension": ".py",
   "mimetype": "text/x-python",
   "name": "python",
   "nbconvert_exporter": "python",
   "pygments_lexer": "ipython3",
   "version": "3.8.6"
  }
 },
 "nbformat": 4,
 "nbformat_minor": 5
}
