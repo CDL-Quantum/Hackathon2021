{
 "cells": [
  {
   "cell_type": "code",
   "execution_count": 1,
   "id": "7fe6a339-ae48-42fe-b7f0-bdf84d2bea03",
   "metadata": {},
   "outputs": [],
   "source": [
    "import pandas as pd\n",
    "import numpy as np\n",
    "from dimod import BinaryQuadraticModel\n",
    "from dwave.system import LeapHybridSampler\n",
    "\n",
    "import warnings\n",
    "warnings.filterwarnings('ignore')"
   ]
  },
  {
   "cell_type": "code",
   "execution_count": 2,
   "id": "3014dfb2-70aa-4b73-93ba-da199c3cad7e",
   "metadata": {},
   "outputs": [],
   "source": [
    "df1 = pd.read_csv('foot.csv')\n",
    "df2 = pd.read_csv('foot2.csv')\n",
    "\n",
    "df1['Player'] = df1['Player'].str.replace(r\"\\(.*\\)\",\"\")\n",
    "df2['Player'] = df2['Player'].str.replace(r\"*\",\"\")\n",
    "df2['Player'] = df2['Player'].str.replace(r\"+\",\"\")\n",
    "df1['dollar_value'] = df1['dollar_value'].str.replace(r\"$\",\"\")\n",
    "\n",
    "df1['Player'] = df1['Player'].str.replace(\" \",\"\")\n",
    "df2['Player'] = df2['Player'].str.replace(\" \",\"\")\n",
    "\n",
    "df1.dollar_value = df1.dollar_value.astype(int)"
   ]
  },
  {
   "cell_type": "code",
   "execution_count": 3,
   "id": "26f15231-49f4-4b97-b143-ae68cd69e255",
   "metadata": {},
   "outputs": [],
   "source": [
    "df = df1.merge(df2, on ='Player')\n",
    "\n",
    "df = df.dropna()"
   ]
  },
  {
   "cell_type": "code",
   "execution_count": 4,
   "id": "06e5cd12-51bb-49da-a1fc-1d4f46fd1630",
   "metadata": {},
   "outputs": [],
   "source": [
    "lst_qb = list(df[df.FantPos == 'QB'].index)"
   ]
  },
  {
   "cell_type": "code",
   "execution_count": 5,
   "id": "6805f775-60cc-416e-8658-647fdd5f4703",
   "metadata": {},
   "outputs": [],
   "source": [
    "values = list(df['FantPt'])\n",
    "weights = list(df['dollar_value'])\n",
    "volumes = [x/x for x in range(1, len(values))]\n",
    "\n",
    "n = len(values)\n",
    "variables = list(range(n))"
   ]
  },
  {
   "cell_type": "code",
   "execution_count": 6,
   "id": "4c427ced-77df-43e5-9b40-27201efa5d9b",
   "metadata": {},
   "outputs": [],
   "source": [
    "bqm = BinaryQuadraticModel('BINARY')\n",
    "\n",
    "variables = [bqm.add_variable(v, -values[v]) for v in variables]\n",
    "\n",
    "slacks_volume = bqm.add_linear_equality_constraint(\n",
    "[(x, v) for x, v in zip(variables, volumes)],\n",
    "constant=-15,\n",
    "lagrange_multiplier=400\n",
    ")\n",
    "\n",
    "slacks_volume = bqm.add_linear_equality_constraint(\n",
    "[(x, 1) for x in variables if x in lst_qb],\n",
    "constant=-1,\n",
    "lagrange_multiplier=100\n",
    ")\n",
    "\n",
    "\n",
    "slacks_weight = bqm.add_linear_inequality_constraint(\n",
    "[(x, v) for x, v in zip(variables, weights)],\n",
    "constant=-75,\n",
    "lagrange_multiplier=600,\n",
    "label = 'weight'\n",
    ")"
   ]
  },
  {
   "cell_type": "code",
   "execution_count": 7,
   "id": "5c5e3304-1af9-4ea6-8b18-5aa647d4fbc2",
   "metadata": {},
   "outputs": [],
   "source": [
    "sampler = LeapHybridSampler(token = \"KmJQ-eb7dea9880650063660800305a6750d9fe70bb21\")\n",
    "response = sampler.sample(\n",
    "    bqm, time_limit=25,\n",
    "    )\n",
    "best_solution = response.first.sample\n",
    "\n",
    "indices = []\n",
    "\n",
    "for i, v in best_solution.items():\n",
    "    if not str(i).startswith('s'):\n",
    "        if v != 0:\n",
    "            indices.append(i)"
   ]
  },
  {
   "cell_type": "code",
   "execution_count": 8,
   "id": "240e9f8e-ed2c-42c5-ac7b-5cbf70fc5f69",
   "metadata": {},
   "outputs": [
    {
     "name": "stdout",
     "output_type": "stream",
     "text": [
      "             Player  Pick FantPos  dollar_value\n",
      "5      DerrickHenry     7      RB            18\n",
      "17        NickChubb    25      RB            11\n",
      "31  DavidMontgomery    41      RB             7\n",
      "33        MikeEvans    43      WR             7\n",
      "35      AdamThielen    46      WR             7\n",
      "38     AaronRodgers    49      QB             6\n",
      "39       JoshJacobs    51      RB             6\n",
      "48    RyanTannehill    68      QB             3\n",
      "49     DavidJohnson    69      RB             3\n",
      "50    JamesRobinson    70      RB             3\n",
      "52    ChaseClaypool    81      WR             2\n",
      "57      KenyanDrake    92      RB             1\n",
      "60     CurtisSamuel   121      WR             0\n",
      "61      NyheimHines   128      RB             0\n",
      "62    RonaldJonesII   131      RB             0\n",
      "81         DrewLock   367      QB             0\n"
     ]
    }
   ],
   "source": [
    "print(df.iloc[indices][['Player','Pick', 'FantPos', 'dollar_value' ]])"
   ]
  },
  {
   "cell_type": "code",
   "execution_count": null,
   "id": "221ee4e9-5a13-451f-816d-febfcb57f92c",
   "metadata": {},
   "outputs": [],
   "source": []
  }
 ],
 "metadata": {
  "kernelspec": {
   "display_name": "Python 3 (ipykernel)",
   "language": "python",
   "name": "python3"
  },
  "language_info": {
   "codemirror_mode": {
    "name": "ipython",
    "version": 3
   },
   "file_extension": ".py",
   "mimetype": "text/x-python",
   "name": "python",
   "nbconvert_exporter": "python",
   "pygments_lexer": "ipython3",
   "version": "3.8.6"
  }
 },
 "nbformat": 4,
 "nbformat_minor": 5
}
