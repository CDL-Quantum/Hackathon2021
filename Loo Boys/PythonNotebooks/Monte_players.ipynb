{
 "cells": [
  {
   "cell_type": "markdown",
   "id": "70bcdc63-544b-4cbc-ab9b-3267fa64ddc1",
   "metadata": {},
   "source": [
    "## MonteCarlo Projection of Player Stats"
   ]
  },
  {
   "cell_type": "markdown",
   "id": "41532a92-f310-4c83-bb5a-04a2d2144ebf",
   "metadata": {},
   "source": [
    "This notebook uses classical and quantum montecarlo methods to predict the end of year statistics for Football players. "
   ]
  },
  {
   "cell_type": "code",
   "execution_count": 1,
   "id": "b6ab85b4-4a7c-4f8d-aa10-4eef9a303eb4",
   "metadata": {},
   "outputs": [],
   "source": [
    "import pandas as pd\n",
    "import numpy as np\n",
    "from dimod import BinaryQuadraticModel\n",
    "from dwave.system import LeapHybridSampler\n",
    "import matplotlib.pyplot as plt\n",
    "import warnings\n",
    "from collections import Counter\n",
    "import cirq\n",
    "warnings.filterwarnings('ignore')\n",
    "\n",
    "plt.rcParams[\"figure.figsize\"] = (10,8)"
   ]
  },
  {
   "cell_type": "code",
   "execution_count": 2,
   "id": "212a9dff-5404-422c-8128-49871ce1d48f",
   "metadata": {},
   "outputs": [],
   "source": [
    "df = pd.read_csv('2018.csv')\n",
    "df[['Player', 'TD%','G', 'TD', 'Att' ]].head()"
   ]
  },
  {
   "cell_type": "markdown",
   "id": "b332ea77-0004-47ff-b581-36eb55208259",
   "metadata": {},
   "source": [
    "# Classical MonteCarlo"
   ]
  },
  {
   "cell_type": "markdown",
   "id": "838716c9-2f61-41ad-b123-6be40b514407",
   "metadata": {},
   "source": [
    "We populate a list 'iters' which contains all the iterations for one season. Here we draw the number of pass attempts from a random uniform distribution; and the td% (td rate) by a random normal distribution. By multiplying the tdrate by the number of attempts we get an estimate for the number of touchdowns thrown that season. A histogram is plotted of all the distributions."
   ]
  },
  {
   "cell_type": "code",
   "execution_count": 5,
   "id": "006c2238-ebe0-4e67-950f-54c653ab2689",
   "metadata": {},
   "outputs": [],
   "source": [
    "iters = []\n",
    "\n",
    "for i in range(400):\n",
    "    td = np.random.normal(0.067, 0.025)*np.random.uniform(300,600)\n",
    "    iters.append(td)"
   ]
  },
  {
   "cell_type": "code",
   "execution_count": 6,
   "id": "17c74df3-d42b-4461-bec1-4fefa17a4720",
   "metadata": {},
   "outputs": [
    {
     "name": "stdout",
     "output_type": "stream",
     "text": [
      "Average TD Projection for Mahomes: 31.453887706462947\n"
     ]
    },
    {
     "data": {
      "image/png": "[encoded data removed]",
      "text/plain": [
       "<Figure size 720x576 with 1 Axes>"
      ]
     },
     "metadata": {
      "needs_background": "light"
     },
     "output_type": "display_data"
    }
   ],
   "source": [
    "print('Average TD Projection for Mahomes: ' + str(np.mean(iters)))\n",
    "\n",
    "plt.hist(iters)\n",
    "plt.title('Patrick Mahomes TD Projection')\n",
    "plt.ylabel('# of TDs')\n",
    "plt.xlabel('# of iterations');"
   ]
  },
  {
   "cell_type": "markdown",
   "id": "dc86ba20-9a9e-4799-9e72-18dea0dfc5f4",
   "metadata": {},
   "source": [
    "# Quantum MonteCarlo"
   ]
  },
  {
   "cell_type": "markdown",
   "id": "0bcf873b-fd2e-4a69-b616-78289000532d",
   "metadata": {},
   "source": [
    "For the quantum monte carlo simulation, we allow the measurement of the outcome to influence the strategy for simulation. This leads to a much more exotic histogram. Here, we are using the number of '1's in the measured state which is stored in the 'counts' variable in the iteration loop."
   ]
  },
  {
   "cell_type": "code",
   "execution_count": 37,
   "id": "0a856e5c-30f2-48bc-b80a-9a1299fbb145",
   "metadata": {},
   "outputs": [],
   "source": [
    "iters_q = []\n",
    "\n",
    "for i in range(300):\n",
    "    simulator = cirq.Simulator()\n",
    "    result = simulator.run(circuit, repetitions=10)\n",
    "    result = str(result)\n",
    "    counts = list(Counter(result).items())[2][1]\n",
    "    \n",
    "    if counts <= 4:\n",
    "        td = np.random.normal(0.035, 0.015)*np.random.uniform(300,600)\n",
    "        iters_q.append(td)\n",
    "        \n",
    "    elif (counts > 4) & (counts <= 7):\n",
    "        td = np.random.normal(0.067, 0.025)*np.random.uniform(300,600)\n",
    "        iters_q.append(td)\n",
    "        \n",
    "    elif counts > 7:\n",
    "        td = np.random.normal(0.09, 0.015)*np.random.uniform(300,600)\n",
    "        iters_q.append(td)\n",
    "    \n",
    "    "
   ]
  },
  {
   "cell_type": "code",
   "execution_count": 38,
   "id": "33c451da-883a-4acc-8a0c-68bc00a61014",
   "metadata": {},
   "outputs": [
    {
     "name": "stdout",
     "output_type": "stream",
     "text": [
      "Average Quantum TD Projection for Mahomes: 28.87030458042797\n"
     ]
    },
    {
     "data": {
      "image/png": "[encoded data removed]",
      "text/plain": [
       "<Figure size 720x576 with 1 Axes>"
      ]
     },
     "metadata": {
      "needs_background": "light"
     },
     "output_type": "display_data"
    }
   ],
   "source": [
    "print('Average Quantum TD Projection for Mahomes: ' + str(np.mean(iters_q)))\n",
    "\n",
    "plt.hist(iters_q)\n",
    "plt.title('Patrick Mahomes Quantum TD Projection')\n",
    "plt.ylabel('# of TDs')\n",
    "plt.xlabel('# of iterations');"
   ]
  }
 ],
 "metadata": {
  "kernelspec": {
   "display_name": "Python 3 (ipykernel)",
   "language": "python",
   "name": "python3"
  },
  "language_info": {
   "codemirror_mode": {
    "name": "ipython",
    "version": 3
   },
   "file_extension": ".py",
   "mimetype": "text/x-python",
   "name": "python",
   "nbconvert_exporter": "python",
   "pygments_lexer": "ipython3",
   "version": "3.8.6"
  }
 },
 "nbformat": 4,
 "nbformat_minor": 5
}
