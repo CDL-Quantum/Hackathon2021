{
 "cells": [
  {
   "cell_type": "markdown",
   "id": "952c66fd-d3a3-40e8-992a-bbfc7bde41f0",
   "metadata": {},
   "source": [
    "## Optimal Team Selection via the solution to the Knapsack Problem"
   ]
  },
  {
   "cell_type": "markdown",
   "id": "10ee0bfa-9d54-487b-80bd-653c71438d9f",
   "metadata": {},
   "source": [
    "In this notebook we construct an optimal team (that matches a given formation, i.e 4-4-4, 4 defensemen, 4 Midfielders and 4 fowards) from a set of players. The formation, along with the cost you pay for each position type is an adjustable parameter (for example, a general manager may wish to allocate less of his resources towards the Def position, opting to spend more on Fwds). Possible usecases include: setting lineups automatically in fantasy sports or for GMs (including those for popular Ultimate Team e-sport games) to optimize their lineups. "
   ]
  },
  {
   "cell_type": "code",
   "execution_count": 19,
   "id": "5d2b45a0-6b62-4e19-8f08-d7d458d92663",
   "metadata": {},
   "outputs": [],
   "source": [
    "import requests\n",
    "import pandas as pd\n",
    "import numpy as np\n",
    "from dimod import BinaryQuadraticModel\n",
    "from dwave.system import LeapHybridSampler\n",
    "\n",
    "import warnings\n",
    "warnings.filterwarnings('ignore')"
   ]
  },
  {
   "cell_type": "code",
   "execution_count": 2,
   "id": "8c61393f-8f26-4daa-876e-7279f8c2ebbf",
   "metadata": {},
   "outputs": [],
   "source": [
    "url = 'https://fantasy.premierleague.com/api/bootstrap-static/'\n",
    "r = requests.get(url)\n",
    "json = r.json()\n",
    "json.keys()\n",
    "\n",
    "elements_df = pd.DataFrame(json['elements'])\n",
    "elements_types_df = pd.DataFrame(json['element_types'])\n",
    "teams_df = pd.DataFrame(json['teams'])"
   ]
  },
  {
   "cell_type": "code",
   "execution_count": 3,
   "id": "7f2eb18b-74cf-49df-ab05-d5a6a1d3d431",
   "metadata": {},
   "outputs": [],
   "source": [
    "slim_elements_df = elements_df[['second_name','team','element_type','selected_by_percent','now_cost','minutes','transfers_in','value_season','total_points']]\n",
    "df = slim_elements_df.merge(elements_types_df, left_on = 'element_type', right_on = 'id')\n",
    "\n",
    "df = df[['plural_name_short','second_name','team','element_type','selected_by_percent','now_cost','minutes','transfers_in','value_season','total_points']]"
   ]
  },
  {
   "cell_type": "code",
   "execution_count": 4,
   "id": "8cc8fd76-bed0-4ce9-a95e-128346f14cb5",
   "metadata": {},
   "outputs": [],
   "source": [
    "df = df[df.minutes > 100]\n",
    "df.loc[df.plural_name_short == 'GKP', 'class'] = 1\n",
    "df.loc[df.plural_name_short == 'DEF', 'class'] = 2\n",
    "df.loc[df.plural_name_short == 'FWD', 'class'] = 3\n",
    "df.loc[df.plural_name_short == 'MID', 'class'] = 4\n",
    "\n",
    "df_mid = df[df.plural_name_short == 'MID']\n",
    "df_gk = df[df.plural_name_short == 'GKP']\n",
    "df_def = df[df.plural_name_short == 'DEF']\n",
    "df_fwd = df[df.plural_name_short == 'FWD']"
   ]
  },
  {
   "cell_type": "code",
   "execution_count": 6,
   "id": "d65c225c-0816-498c-8c18-db8dee489ce4",
   "metadata": {},
   "outputs": [],
   "source": [
    "def set_up_bqm(df1, percent, max_weight):\n",
    "    df1['value_season'] = df1['value_season'].astype(float)\n",
    "    values = list(df1['value_season'])\n",
    "    weights = list(df1['now_cost'])\n",
    "    volumes = [x/x for x in range(1, len(values))]\n",
    "\n",
    "    n = len(values)\n",
    "    variables = list(range(n))\n",
    "    weight = max_weight*percent\n",
    "\n",
    "    return variables, values, volumes\n",
    "\n",
    "\n",
    "def bqm_position(variables, values, volumes, max_volume):\n",
    "\n",
    "    bqm = BinaryQuadraticModel('BINARY')\n",
    "\n",
    "    variables = [bqm.add_variable(v, -values[v]) for v in variables]\n",
    "    \n",
    "    slacks_volume = bqm.add_linear_equality_constraint(\n",
    "    [(x, v) for x, v in zip(variables, volumes)],\n",
    "    constant=-max_volume,\n",
    "    lagrange_multiplier=500\n",
    "    )\n",
    "\n",
    "    return bqm\n",
    "\n",
    "\n",
    "def get_players(bqm, df):\n",
    "    sampler = LeapHybridSampler(token = \"KmJQ-eb7dea9880650063660800305a6750d9fe70bb21\")\n",
    "    response = sampler.sample(\n",
    "        bqm, time_limit=25,\n",
    "        )\n",
    "    best_solution = response.first.sample\n",
    "    indices = []\n",
    "\n",
    "    for i, v in best_solution.items():\n",
    "        if v != 0:\n",
    "            indices.append(i)\n",
    "\n",
    "    return pd.DataFrame(df.iloc[indices][['second_name','plural_name_short' ]])"
   ]
  },
  {
   "cell_type": "code",
   "execution_count": 20,
   "id": "7f0c8167-f46b-406a-8d88-813c1f03e769",
   "metadata": {},
   "outputs": [],
   "source": [
    "variables_def, values_def, volumes_def = set_up_bqm(df_def, 20, 1000)\n",
    "variables_mid, values_mid, volumes_mid = set_up_bqm(df_mid, 30, 1000)\n",
    "variables_fwd, values_fwd, volumes_fwd = set_up_bqm(df_fwd, 30, 1000)\n",
    "variables_gk, values_gk, volumes_gk = set_up_bqm(df_gk, 20, 1000)\n",
    "\n",
    "bqm_mid=bqm_position(variables_mid,values_mid,volumes_mid, 3)\n",
    "bqm_fwd=bqm_position(variables_fwd,values_fwd,volumes_fwd, 1)\n",
    "bqm_gk=bqm_position(variables_gk,values_gk,volumes_gk, 0)\n",
    "bqm_def=bqm_position(variables_def,values_def,volumes_def, 3)"
   ]
  },
  {
   "cell_type": "code",
   "execution_count": 18,
   "id": "d708ab04-8ac0-4564-b5a3-a2e9b3555a61",
   "metadata": {},
   "outputs": [
    {
     "data": {
      "text/html": [
       "<div>\n",
       "<style scoped>\n",
       "    .dataframe tbody tr th:only-of-type {\n",
       "        vertical-align: middle;\n",
       "    }\n",
       "\n",
       "    .dataframe tbody tr th {\n",
       "        vertical-align: top;\n",
       "    }\n",
       "\n",
       "    .dataframe thead th {\n",
       "        text-align: right;\n",
       "    }\n",
       "</style>\n",
       "<table border=\"1\" class=\"dataframe\">\n",
       "  <thead>\n",
       "    <tr style=\"text-align: right;\">\n",
       "      <th></th>\n",
       "      <th>second_name</th>\n",
       "      <th>plural_name_short</th>\n",
       "    </tr>\n",
       "  </thead>\n",
       "  <tbody>\n",
       "    <tr>\n",
       "      <th>47</th>\n",
       "      <td>dos Santos Patrício</td>\n",
       "      <td>GKP</td>\n",
       "    </tr>\n",
       "    <tr>\n",
       "      <th>330</th>\n",
       "      <td>Targett</td>\n",
       "      <td>DEF</td>\n",
       "    </tr>\n",
       "    <tr>\n",
       "      <th>421</th>\n",
       "      <td>Wan-Bissaka</td>\n",
       "      <td>DEF</td>\n",
       "    </tr>\n",
       "    <tr>\n",
       "      <th>469</th>\n",
       "      <td>Cresswell</td>\n",
       "      <td>DEF</td>\n",
       "    </tr>\n",
       "    <tr>\n",
       "      <th>485</th>\n",
       "      <td>Ait Nouri</td>\n",
       "      <td>DEF</td>\n",
       "    </tr>\n",
       "    <tr>\n",
       "      <th>145</th>\n",
       "      <td>Dallas</td>\n",
       "      <td>MID</td>\n",
       "    </tr>\n",
       "    <tr>\n",
       "      <th>152</th>\n",
       "      <td>Harrison</td>\n",
       "      <td>MID</td>\n",
       "    </tr>\n",
       "    <tr>\n",
       "      <th>244</th>\n",
       "      <td>Soucek</td>\n",
       "      <td>MID</td>\n",
       "    </tr>\n",
       "    <tr>\n",
       "      <th>253</th>\n",
       "      <td>Otasowie</td>\n",
       "      <td>MID</td>\n",
       "    </tr>\n",
       "    <tr>\n",
       "      <th>285</th>\n",
       "      <td>Bamford</td>\n",
       "      <td>FWD</td>\n",
       "    </tr>\n",
       "    <tr>\n",
       "      <th>315</th>\n",
       "      <td>Silva</td>\n",
       "      <td>FWD</td>\n",
       "    </tr>\n",
       "  </tbody>\n",
       "</table>\n",
       "</div>"
      ],
      "text/plain": [
       "             second_name plural_name_short\n",
       "47   dos Santos Patrício               GKP\n",
       "330              Targett               DEF\n",
       "421          Wan-Bissaka               DEF\n",
       "469            Cresswell               DEF\n",
       "485            Ait Nouri               DEF\n",
       "145               Dallas               MID\n",
       "152             Harrison               MID\n",
       "244               Soucek               MID\n",
       "253             Otasowie               MID\n",
       "285              Bamford               FWD\n",
       "315                Silva               FWD"
      ]
     },
     "execution_count": 18,
     "metadata": {},
     "output_type": "execute_result"
    }
   ],
   "source": [
    "df1 = get_players(bqm_gk, df_gk)\n",
    "df2 = get_players(bqm_def, df_def)\n",
    "df3 = get_players(bqm_mid , df_mid)\n",
    "df4 = get_players(bqm_fwd , df_fwd)\n",
    "\n",
    "pd.concat([df1, df2, df3, df4])"
   ]
  }
 ],
 "metadata": {
  "kernelspec": {
   "display_name": "Python 3 (ipykernel)",
   "language": "python",
   "name": "python3"
  },
  "language_info": {
   "codemirror_mode": {
    "name": "ipython",
    "version": 3
   },
   "file_extension": ".py",
   "mimetype": "text/x-python",
   "name": "python",
   "nbconvert_exporter": "python",
   "pygments_lexer": "ipython3",
   "version": "3.8.6"
  }
 },
 "nbformat": 4,
 "nbformat_minor": 5
}
